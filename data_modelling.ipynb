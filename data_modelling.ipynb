{
  "cells": [
    {
      "cell_type": "markdown",
      "metadata": {
        "colab_type": "text",
        "id": "view-in-github"
      },
      "source": [
        "<a href=\"https://colab.research.google.com/github/Bourbon-Rye/Baesian-Cropability/blob/main/PilipiNuts_2023_Baesian_Cropability.ipynb\" target=\"_parent\"><img src=\"https://colab.research.google.com/assets/colab-badge.svg\" alt=\"Open In Colab\"/></a>"
      ]
    },
    {
      "cell_type": "markdown",
      "metadata": {},
      "source": [
        "# Setup\n",
        "\n",
        "Note: See Hypothesis Testing RESULTS in `results/`.\n",
        "\n",
        "Set `INTERACTIVE` global variable (below) to <span style=\"color:blue\">True</span> for interactive plots and <span style=\"color:blue\">False</span> for static plots."
      ]
    },
    {
      "cell_type": "code",
      "execution_count": 27,
      "metadata": {},
      "outputs": [],
      "source": [
        "# @Libraries\n",
        "import numpy as np\n",
        "import pandas as pd\n",
        "import seaborn as sns\n",
        "\n",
        "import plotly.express as px\n",
        "import plotly.graph_objects as go\n",
        "import plotly.io as pio\n",
        "import matplotlib.pyplot as plt\n",
        "import json\n",
        "import re\n",
        "import functools\n",
        "\n",
        "from pathlib import Path\n",
        "from sklearn import preprocessing\n",
        "from plotly.subplots import make_subplots\n",
        "from plotly import offline\n",
        "from scipy import stats\n",
        "from sklearn.impute import SimpleImputer\n",
        "from matplotlib import figure\n",
        "\n",
        "INTERACTIVE = True\n",
        "\n",
        "def render(fig: figure.Figure):\n",
        "    if INTERACTIVE:\n",
        "        fig.show()\n",
        "    else:\n",
        "        fig.update_layout(\n",
        "            autosize=False,\n",
        "            width=1280,\n",
        "            height=720,\n",
        "        )\n",
        "        fig.show(renderer=\"png\")"
      ]
    },
    {
      "cell_type": "code",
      "execution_count": 28,
      "metadata": {},
      "outputs": [],
      "source": [
        "# @title Corrections\n",
        "with open('datasets/region_provinces.json') as jsonfile:\n",
        "    regions_provinces = json.load(jsonfile)['PHILIPPINES']\n",
        "regions_provinces = {key.lower():regions_provinces[key] for key in regions_provinces}\n",
        "regions = regions_provinces.keys()\n",
        "provinces = set([item.lower() for key in regions for item in regions_provinces[key]])\n",
        "regions = set(regions)\n",
        "regions.add(\"philippines\")\n",
        "\n",
        "# NOTE: Fix for bad regions, thanks PSA\n",
        "bad_regions = ['AONCR', 'BARMM', 'CAR', 'MIMAROPA', 'NCR',\n",
        "           'Region 1', 'Region 2', 'Region 3', 'Region 4A',\n",
        "           'Region 5', 'Region 6', 'Region 7', 'Region 8',\n",
        "           'Region 9', 'Region 10', 'Region 11', 'Reg12', 'CARAGA']\n",
        "region_mapping = {bad.lower():good.lower() for (bad,good) in zip(bad_regions, regions_provinces.keys())}\n",
        "corrections = {\n",
        "    \"AUTONOMOUS REGION IN MUSLIM MINDANAO (ARMM)\": \"bangsamoro autonomous region in muslim mindanao (barmm)\",\n",
        "    \"autonomous region in muslim mindanao (armm)\": \"bangsamoro autonomous region in muslim mindanao (barmm)\",\n",
        "    \"mimaropa region\": \"mimaropa region (mimaropa)\"\n",
        "}\n",
        "region_mapping.update(corrections)\n",
        "\n",
        "temp = [key.split('(')[1].rstrip(')') for key in regions_provinces]\n",
        "region_short_to_long = {bad:good for (bad,good) in zip(temp, regions_provinces.keys())}\n",
        "region_long_to_short = {v: k for k, v in region_short_to_long.items()}"
      ]
    },
    {
      "cell_type": "code",
      "execution_count": 29,
      "metadata": {},
      "outputs": [],
      "source": [
        "# @title Utilities\n",
        "def read_csv_to_df(csvfile: Path, comment_symbol='#') -> pd.DataFrame:\n",
        "    \"\"\"Read CSV to DataFrame with comment validation.\n",
        "        Allows comment lines in CSVs where line[0] == comment_symbol.\n",
        "        Also removes newlines.\n",
        "        Does not recognize comment_symbol anywhere else. \n",
        "    \"\"\"\n",
        "    tempfile = Path('temp.csv')\n",
        "    with open(csvfile, 'r') as csv, open(tempfile, 'w+') as temp:\n",
        "        lines = csv.readlines()\n",
        "        for line in lines:\n",
        "            if line[0] != comment_symbol:\n",
        "                temp.write(line)\n",
        "    return pd.read_csv(tempfile)\n",
        "\n",
        "def is_region(x: str, regions=regions) -> bool:\n",
        "    x = x.strip(' .')\n",
        "    x = x.lower()\n",
        "    if x == \"cagayan\":\n",
        "        return False\n",
        "    for region in regions:\n",
        "        if x in region:\n",
        "            return True\n",
        "    else:\n",
        "        return False\n",
        "    \n",
        "def is_province(x: str, provinces=provinces) -> bool:\n",
        "    x = x.strip(' .')\n",
        "    x = x.lower()\n",
        "    for province in provinces:\n",
        "        if x in province:\n",
        "            return True\n",
        "    else:\n",
        "        return False\n",
        "\n",
        "def get_quarter_columns(df: pd.DataFrame, year_range: range, period_idx: int):\n",
        "    \"\"\"Assumes contiguous period (Year Month) columns and that columns before period_idx are ID columns\"\"\"\n",
        "    df_quarter = df.iloc[:, :period_idx].copy()\n",
        "    for year in year_range:\n",
        "        for q in range(0, 12, 3):\n",
        "            df_quarter[f\"{year} Q{q//3+1}\"] = df.filter(regex=str(year), axis=1).iloc[:, q:q+3].mean(axis=1)\n",
        "    return df_quarter\n",
        "\n",
        "def get_annual_columns(df: pd.DataFrame, year_range: range, period_idx: int):\n",
        "    \"\"\"Assumes contiguous period (Year Month|Quarter) columns and that columns before period_idx are ID columns\n",
        "    Note that this also works with Quarters\"\"\"\n",
        "    df_annual = df.iloc[:, :period_idx].copy()\n",
        "    for year in year_range:\n",
        "        df_annual[f\"{year}\"] = df.filter(regex=str(year), axis=1).mean(numeric_only=True, axis=1)\n",
        "    return df_annual\n",
        "\n",
        "def swap_columns(df: pd.DataFrame, col1: str, col2: str):\n",
        "    col_list = list(df.columns)\n",
        "    x, y = col_list.index(col1), col_list.index(col2)\n",
        "    col_list[y], col_list[x] = col_list[x], col_list[y]\n",
        "    df = df[col_list]\n",
        "    return df\n",
        "\n",
        "def normalize(df: pd.DataFrame, col: str, minmax = True):\n",
        "    \"\"\"Can use mean normalization and minmax normalization.\"\"\"\n",
        "    tdf = df[col]\n",
        "    if minmax:\n",
        "        tdf = (tdf-tdf.min())/(tdf.max()-tdf.min())\n",
        "    else:\n",
        "        tdf = (tdf-tdf.mean())/tdf.std()\n",
        "    df[col] = tdf\n",
        "    return df\n",
        "\n",
        "def drop_rows_with_zeros(df: pd.DataFrame, ref_col_idx: int, all_zeros=False):\n",
        "    \"\"\"Drop rows if some values are zeros, or if all values are zeros.\n",
        "    Assumes contiguous reference columns, i.e. columns to use in deciding whether to drop.\"\"\"\n",
        "    return df[~(df.iloc[:, ref_col_idx:] == 0).all(axis=1)] if all_zeros else df[~(df.iloc[:, ref_col_idx:] == 0).any(axis=1)]\n",
        "\n",
        "def dual_plot(df: pd.DataFrame, x: str, y1: str, y2: str,\n",
        "              title=None, xtitle=None, y1title=None, y2title=None):\n",
        "    fig = make_subplots(specs=[[{\"secondary_y\": True}]])\n",
        "    # Add traces\n",
        "    fig.add_trace(\n",
        "        go.Scatter(x=df[x], y=df[y1], name=y1),\n",
        "        secondary_y=False,\n",
        "    )\n",
        "    fig.add_trace(\n",
        "        go.Scatter(x=df[x], y=df[y2], name=y2),\n",
        "        secondary_y=True,\n",
        "    )\n",
        "    # # Add titles\n",
        "    if title is not None: fig.update_layout(title_text=title)\n",
        "    if xtitle is not None: fig.update_xaxes(title_text=xtitle)\n",
        "    if y1title is not None: fig.update_yaxes(title_text=y1title, secondary_y=False)\n",
        "    if y2title is not None: fig.update_yaxes(title_text=y2title, secondary_y=True)\n",
        "\n",
        "    return fig\n",
        "\n",
        "\n",
        "def triplet_plot(df: pd.DataFrame, x: str, y1_1: str, y1_2: str, y2: str,\n",
        "                 title=None, xtitle=None, y1title=None, y2title=None):\n",
        "    fig = make_subplots(specs=[[{\"secondary_y\": True}]])\n",
        "    # Add traces\n",
        "    fig.add_trace(\n",
        "        go.Scatter(x=df[x], y=df[y1_1], name=y1_1),\n",
        "        secondary_y=False,\n",
        "    )\n",
        "    fig.add_trace(\n",
        "        go.Scatter(x=df[x], y=df[y1_2], name=y1_2),\n",
        "        secondary_y=False,\n",
        "    )\n",
        "    fig.add_trace(\n",
        "        go.Scatter(x=df[x], y=df[y2], name=y2),\n",
        "        secondary_y=True,\n",
        "    )\n",
        "    # # Add titles\n",
        "    if title is not None: fig.update_layout(title_text=title)\n",
        "    if xtitle is not None: fig.update_xaxes(title_text=xtitle)\n",
        "    if y1title is not None: fig.update_yaxes(title_text=y1title, secondary_y=False)\n",
        "    if y2title is not None: fig.update_yaxes(title_text=y2title, secondary_y=True)\n",
        "\n",
        "    return fig\n",
        "\n",
        "def quartet_plot(df: pd.DataFrame, x: str, y1_1: str, y1_2: str, y2_1: str, y2_2: str,\n",
        "                 title=None, xtitle=None, y1title=None, y2title=None):\n",
        "    fig = make_subplots(specs=[[{\"secondary_y\": True}]])\n",
        "    # Add traces\n",
        "    fig.add_trace(\n",
        "        go.Scatter(x=df[x], y=df[y1_1], name=y1_1),\n",
        "        secondary_y=False,\n",
        "    )\n",
        "    fig.add_trace(\n",
        "        go.Scatter(x=df[x], y=df[y1_2], name=y1_2),\n",
        "        secondary_y=True,\n",
        "    )\n",
        "    fig.add_trace(\n",
        "        go.Scatter(x=df[x], y=df[y2_1], name=y2_1),\n",
        "        secondary_y=False,\n",
        "    )\n",
        "    fig.add_trace(\n",
        "        go.Scatter(x=df[x], y=df[y2_2], name=y2_2),\n",
        "        secondary_y=True,\n",
        "    )\n",
        "    # # Add titles\n",
        "    if title is not None: fig.update_layout(title_text=title)\n",
        "    if xtitle is not None: fig.update_xaxes(title_text=xtitle)\n",
        "    if y1title is not None: fig.update_yaxes(title_text=y1title, secondary_y=False)\n",
        "    if y2title is not None: fig.update_yaxes(title_text=y2title, secondary_y=True)\n",
        "\n",
        "    return fig\n",
        "\n",
        "def move_column(df: pd.DataFrame, col: str, new_idx: int):\n",
        "    \"\"\"This is an inplace method.\"\"\"\n",
        "    df.insert(new_idx, col, df.pop(col))\n",
        "\n",
        "def imputer(df: pd.DataFrame, start_idx: int, end_idx=None):\n",
        "    \"\"\"If only start index is provided, will impute from start index column to last column,\n",
        "    else limit from start_idx to end_idx. Inplace imputation\"\"\"\n",
        "    imp = SimpleImputer(missing_values=pd.NA, strategy='mean')\n",
        "    if end_idx:\n",
        "        imp.fit(df.iloc[:, start_idx:end_idx])\n",
        "        df[df.columns[start_idx:end_idx]] = imp.transform(df.iloc[:, start_idx:])\n",
        "    else:\n",
        "        imp.fit(df.iloc[:, start_idx:])\n",
        "        df[df.columns[start_idx:]] = imp.transform(df.iloc[:, start_idx:])\n",
        "\n",
        "def preprocess_baesians_2(df: pd.DataFrame, commodity_map: dict, melt_value: str|None, regional=True, impute=False):\n",
        "    \"\"\"Assumes Geolocation | Commodity | Period ... columns.\n",
        "    Filters to regional if regional=True, else filters to provincial. Retains \"philippines\".\n",
        "    Filters to raw commodity name (key in commodity_map), and then renames to standard commodity_map[key]\n",
        "    Ex. {\"RICE, REGULAR-MILLED, 1 KG\" : \"Rice\"}\n",
        "    \"\"\"\n",
        "    df[\"Geolocation\"] = df[\"Geolocation\"].str.lstrip(\".\").str.lower()\n",
        "    df[\"Geolocation\"] = df[\"Geolocation\"].replace(region_mapping)\n",
        "    df = df[df[\"Geolocation\"].apply(is_region)] if regional else df[df[\"Geolocation\"].apply(is_province)]\n",
        "    df = df[df[\"Commodity\"].isin(commodity_map)]\n",
        "    df.loc[:, \"Commodity\"] = df[\"Commodity\"].replace(commodity_map)\n",
        "    if melt_value:\n",
        "        df = df.melt(id_vars=[\"Geolocation\", \"Commodity\"], value_vars=df.columns[2:], var_name=\"Period\", value_name=melt_value)\n",
        "    if impute:\n",
        "        imputer(df, 3)  # inplace imputation of melt_value\n",
        "    return df\n",
        "\n",
        "def filter_to_regions(df: pd.DataFrame):\n",
        "    return df[df[\"Geolocation\"].apply(is_region)]\n",
        "    \n",
        "def filter_to_provinces(df: pd.DataFrame):\n",
        "    return df[df[\"Geolocation\"].apply(is_province)]\n",
        "\n",
        "def fig_to_div(fig: figure.Figure, filename: Path):\n",
        "    \"\"\"Optional: Add pretiffication.\"\"\"\n",
        "    filename = Path(filename)\n",
        "    filename.parent.mkdir(exist_ok=True, parents=True)\n",
        "    with open(filename, \"w+\") as f:\n",
        "        f.write(offline.plot(fig, include_plotlyjs=False, output_type='div'))\n",
        "        \n",
        "def fig_to_html(fig: figure.Figure, filename: Path):\n",
        "    filename = Path(filename)\n",
        "    filename.parent.mkdir(exist_ok=True, parents=True)\n",
        "    fig.write_html(filename)\n",
        "    \n",
        "def fig_to_png(fig: figure.Figure, filename: Path, transparent=False):\n",
        "    \"\"\"NOTE: Requires ORCA to be installed!\"\"\"\n",
        "    filename = Path(filename)\n",
        "    filename.parent.mkdir(exist_ok=True, parents=True)\n",
        "    if transparent:\n",
        "        fig.update_layout({\n",
        "            \"plot_bgcolor\": \"rgba(0, 0, 0, 0)\",\n",
        "            \"paper_bgcolor\": \"rgba(0, 0, 0, 0)\",\n",
        "        })\n",
        "    pio.write_image(fig, filename,scale=6, width=900, height=680)\n",
        "    \n",
        "def p_report(p: int) -> str|int:\n",
        "    if p >= 0.001:\n",
        "        return round(p, 3)\n",
        "    elif p < 0.001:\n",
        "        return \"<0.001\"\n",
        "    else:\n",
        "        return np.nan\n",
        "    "
      ]
    },
    {
      "cell_type": "code",
      "execution_count": 30,
      "metadata": {},
      "outputs": [],
      "source": [
        "# ANNUAL RICE and CORN STOCKS (5/24/2024) NOTE: Perhaps try to match this with the prices as this has monthly, for national only\n",
        "df = read_csv_to_df(\"datasets/agricultural-indicators/stocks-palay-corn_yearly_1980-2024.csv\")\n",
        "df = df[(df[\"Sector\"] == \"Rice: Total Stock\") | (df[\"Sector\"] == \"Corn: Total Stock\")]\n",
        "df[\"Sector\"] = df[\"Sector\"].replace({\"Rice: Total Stock\": \"Rice\", \"Corn: Total Stock\": \"Corn\"})\n",
        "df = pd.concat([df.iloc[:, :2].copy(), df.mean(axis=1, numeric_only=True)], axis=1)\n",
        "df.rename(columns={\"Sector\": \"Commodity\", \"Year\": \"Period\", 0: \"Stocks\"}, inplace=True)\n",
        "df = df[df[\"Period\"].isin(range(2012, 2024))]\n",
        "df_stocks = df"
      ]
    },
    {
      "cell_type": "markdown",
      "metadata": {
        "id": "yv0jREFhuh32"
      },
      "source": [
        "# Baesian Plots\n"
      ]
    },
    {
      "cell_type": "markdown",
      "metadata": {
        "id": "JToPchIbvMj_"
      },
      "source": [
        "Hypotheses:\n",
        "- **H0.1:** There is no significant difference in the productivity of major food crops when grouped according to their crop type, geolocation, and/or market profile.\n",
        "- **H0.2:** There is no significant relationship between market conditions and food crop production.\n",
        "\n",
        "Goal: Visually and statistically assess the relationship between market indicators and crop yield indicators.\n",
        "\n",
        "Visual tests are dual plots and scatterplots. Statistics for relationship testing: contingency tables and t-tests (?)."
      ]
    },
    {
      "cell_type": "markdown",
      "metadata": {},
      "source": [
        "## Data Overview\n",
        "\n",
        "Selected major crops (analyzed are checked):\n",
        "- ✅ Rice / Palay\n",
        "- ✅ Corn / Maize\n",
        "- Sweet Potato / Camote\n",
        "- Mongo / Monggo / Mung Beans\n",
        "- Banana\n",
        "- Coconut\n",
        "- 🚧 Onion\n",
        "- 🚧 Garlic\n",
        "- Sugarcane"
      ]
    },
    {
      "cell_type": "code",
      "execution_count": 31,
      "metadata": {},
      "outputs": [
        {
          "data": {
            "application/vnd.plotly.v1+json": {
              "config": {
                "plotlyServerURL": "https://plot.ly"
              },
              "data": [
                {
                  "alignmentgroup": "True",
                  "bingroup": "x",
                  "histfunc": "sum",
                  "hovertemplate": "Commodity=Palay<br>Period=%{x}<br>sum of Volume=%{y}<extra></extra>",
                  "legendgroup": "Palay",
                  "marker": {
                    "color": "#636efa",
                    "pattern": {
                      "shape": ""
                    }
                  },
                  "name": "Palay",
                  "offsetgroup": "Palay",
                  "orientation": "v",
                  "showlegend": true,
                  "type": "histogram",
                  "x": [
                    "1987",
                    "1988",
                    "1989",
                    "1990",
                    "1991",
                    "1992",
                    "1993",
                    "1994",
                    "1995",
                    "1996",
                    "1997",
                    "1998",
                    "1999",
                    "2000",
                    "2001",
                    "2002",
                    "2003",
                    "2004",
                    "2005",
                    "2006",
                    "2007",
                    "2008",
                    "2009",
                    "2010",
                    "2011",
                    "2012",
                    "2013",
                    "2014",
                    "2015",
                    "2016",
                    "2017",
                    "2018",
                    "2019",
                    "2020",
                    "2021",
                    "2022",
                    "2023",
                    "2024"
                  ],
                  "xaxis": "x",
                  "y": [
                    8539852,
                    8971030,
                    9458772,
                    9319276,
                    9673262,
                    9128940,
                    9434208,
                    10538054,
                    10540649,
                    11283568,
                    11268963,
                    8554824,
                    11786625,
                    12389412,
                    12954870,
                    13270653,
                    13499884,
                    14496784,
                    14603005,
                    15326706,
                    16240194,
                    16815548,
                    16266416.5,
                    15772319,
                    16684062,
                    18032525.47,
                    18439419.73,
                    18967826.17,
                    18149837.78,
                    17627244.82,
                    19276346.63,
                    19066093.94,
                    18814827.29,
                    19294855.51,
                    19960170.2,
                    19756392.28,
                    20059561.96,
                    ".."
                  ],
                  "yaxis": "y"
                },
                {
                  "alignmentgroup": "True",
                  "bingroup": "x",
                  "histfunc": "sum",
                  "hovertemplate": "Commodity=Corn<br>Period=%{x}<br>sum of Volume=%{y}<extra></extra>",
                  "legendgroup": "Corn",
                  "marker": {
                    "color": "#EF553B",
                    "pattern": {
                      "shape": ""
                    }
                  },
                  "name": "Corn",
                  "offsetgroup": "Corn",
                  "orientation": "v",
                  "showlegend": true,
                  "type": "histogram",
                  "x": [
                    "1987",
                    "1988",
                    "1989",
                    "1990",
                    "1991",
                    "1992",
                    "1993",
                    "1994",
                    "1995",
                    "1996",
                    "1997",
                    "1998",
                    "1999",
                    "2000",
                    "2001",
                    "2002",
                    "2003",
                    "2004",
                    "2005",
                    "2006",
                    "2007",
                    "2008",
                    "2009",
                    "2010",
                    "2011",
                    "2012",
                    "2013",
                    "2014",
                    "2015",
                    "2016",
                    "2017",
                    "2018",
                    "2019",
                    "2020",
                    "2021",
                    "2022",
                    "2023",
                    "2024"
                  ],
                  "xaxis": "x",
                  "y": [
                    4278119,
                    4427951,
                    4522195,
                    4853891,
                    4655026,
                    4618854,
                    4797977,
                    4519246,
                    4128510,
                    4151332,
                    4332417,
                    3823184,
                    4584593,
                    4511104,
                    4525012,
                    4319262,
                    4615625,
                    5413386,
                    5253160,
                    6082109,
                    6736940,
                    6928225,
                    7034033,
                    6376796,
                    6971221,
                    7407068.35,
                    7377293.3,
                    7770602.74,
                    7518755.72,
                    7218816.55,
                    7914908.49,
                    7771918.63,
                    7978844.55,
                    8118545.88,
                    8287191.13,
                    8255609.68,
                    8405004.29,
                    ".."
                  ],
                  "yaxis": "y"
                }
              ],
              "layout": {
                "barmode": "group",
                "legend": {
                  "title": {
                    "text": "Commodity"
                  },
                  "tracegroupgap": 0
                },
                "template": {
                  "data": {
                    "bar": [
                      {
                        "error_x": {
                          "color": "#f2f5fa"
                        },
                        "error_y": {
                          "color": "#f2f5fa"
                        },
                        "marker": {
                          "line": {
                            "color": "rgb(17,17,17)",
                            "width": 0.5
                          },
                          "pattern": {
                            "fillmode": "overlay",
                            "size": 10,
                            "solidity": 0.2
                          }
                        },
                        "type": "bar"
                      }
                    ],
                    "barpolar": [
                      {
                        "marker": {
                          "line": {
                            "color": "rgb(17,17,17)",
                            "width": 0.5
                          },
                          "pattern": {
                            "fillmode": "overlay",
                            "size": 10,
                            "solidity": 0.2
                          }
                        },
                        "type": "barpolar"
                      }
                    ],
                    "carpet": [
                      {
                        "aaxis": {
                          "endlinecolor": "#A2B1C6",
                          "gridcolor": "#506784",
                          "linecolor": "#506784",
                          "minorgridcolor": "#506784",
                          "startlinecolor": "#A2B1C6"
                        },
                        "baxis": {
                          "endlinecolor": "#A2B1C6",
                          "gridcolor": "#506784",
                          "linecolor": "#506784",
                          "minorgridcolor": "#506784",
                          "startlinecolor": "#A2B1C6"
                        },
                        "type": "carpet"
                      }
                    ],
                    "choropleth": [
                      {
                        "colorbar": {
                          "outlinewidth": 0,
                          "ticks": ""
                        },
                        "type": "choropleth"
                      }
                    ],
                    "contour": [
                      {
                        "colorbar": {
                          "outlinewidth": 0,
                          "ticks": ""
                        },
                        "colorscale": [
                          [
                            0,
                            "#0d0887"
                          ],
                          [
                            0.1111111111111111,
                            "#46039f"
                          ],
                          [
                            0.2222222222222222,
                            "#7201a8"
                          ],
                          [
                            0.3333333333333333,
                            "#9c179e"
                          ],
                          [
                            0.4444444444444444,
                            "#bd3786"
                          ],
                          [
                            0.5555555555555556,
                            "#d8576b"
                          ],
                          [
                            0.6666666666666666,
                            "#ed7953"
                          ],
                          [
                            0.7777777777777778,
                            "#fb9f3a"
                          ],
                          [
                            0.8888888888888888,
                            "#fdca26"
                          ],
                          [
                            1,
                            "#f0f921"
                          ]
                        ],
                        "type": "contour"
                      }
                    ],
                    "contourcarpet": [
                      {
                        "colorbar": {
                          "outlinewidth": 0,
                          "ticks": ""
                        },
                        "type": "contourcarpet"
                      }
                    ],
                    "heatmap": [
                      {
                        "colorbar": {
                          "outlinewidth": 0,
                          "ticks": ""
                        },
                        "colorscale": [
                          [
                            0,
                            "#0d0887"
                          ],
                          [
                            0.1111111111111111,
                            "#46039f"
                          ],
                          [
                            0.2222222222222222,
                            "#7201a8"
                          ],
                          [
                            0.3333333333333333,
                            "#9c179e"
                          ],
                          [
                            0.4444444444444444,
                            "#bd3786"
                          ],
                          [
                            0.5555555555555556,
                            "#d8576b"
                          ],
                          [
                            0.6666666666666666,
                            "#ed7953"
                          ],
                          [
                            0.7777777777777778,
                            "#fb9f3a"
                          ],
                          [
                            0.8888888888888888,
                            "#fdca26"
                          ],
                          [
                            1,
                            "#f0f921"
                          ]
                        ],
                        "type": "heatmap"
                      }
                    ],
                    "heatmapgl": [
                      {
                        "colorbar": {
                          "outlinewidth": 0,
                          "ticks": ""
                        },
                        "colorscale": [
                          [
                            0,
                            "#0d0887"
                          ],
                          [
                            0.1111111111111111,
                            "#46039f"
                          ],
                          [
                            0.2222222222222222,
                            "#7201a8"
                          ],
                          [
                            0.3333333333333333,
                            "#9c179e"
                          ],
                          [
                            0.4444444444444444,
                            "#bd3786"
                          ],
                          [
                            0.5555555555555556,
                            "#d8576b"
                          ],
                          [
                            0.6666666666666666,
                            "#ed7953"
                          ],
                          [
                            0.7777777777777778,
                            "#fb9f3a"
                          ],
                          [
                            0.8888888888888888,
                            "#fdca26"
                          ],
                          [
                            1,
                            "#f0f921"
                          ]
                        ],
                        "type": "heatmapgl"
                      }
                    ],
                    "histogram": [
                      {
                        "marker": {
                          "pattern": {
                            "fillmode": "overlay",
                            "size": 10,
                            "solidity": 0.2
                          }
                        },
                        "type": "histogram"
                      }
                    ],
                    "histogram2d": [
                      {
                        "colorbar": {
                          "outlinewidth": 0,
                          "ticks": ""
                        },
                        "colorscale": [
                          [
                            0,
                            "#0d0887"
                          ],
                          [
                            0.1111111111111111,
                            "#46039f"
                          ],
                          [
                            0.2222222222222222,
                            "#7201a8"
                          ],
                          [
                            0.3333333333333333,
                            "#9c179e"
                          ],
                          [
                            0.4444444444444444,
                            "#bd3786"
                          ],
                          [
                            0.5555555555555556,
                            "#d8576b"
                          ],
                          [
                            0.6666666666666666,
                            "#ed7953"
                          ],
                          [
                            0.7777777777777778,
                            "#fb9f3a"
                          ],
                          [
                            0.8888888888888888,
                            "#fdca26"
                          ],
                          [
                            1,
                            "#f0f921"
                          ]
                        ],
                        "type": "histogram2d"
                      }
                    ],
                    "histogram2dcontour": [
                      {
                        "colorbar": {
                          "outlinewidth": 0,
                          "ticks": ""
                        },
                        "colorscale": [
                          [
                            0,
                            "#0d0887"
                          ],
                          [
                            0.1111111111111111,
                            "#46039f"
                          ],
                          [
                            0.2222222222222222,
                            "#7201a8"
                          ],
                          [
                            0.3333333333333333,
                            "#9c179e"
                          ],
                          [
                            0.4444444444444444,
                            "#bd3786"
                          ],
                          [
                            0.5555555555555556,
                            "#d8576b"
                          ],
                          [
                            0.6666666666666666,
                            "#ed7953"
                          ],
                          [
                            0.7777777777777778,
                            "#fb9f3a"
                          ],
                          [
                            0.8888888888888888,
                            "#fdca26"
                          ],
                          [
                            1,
                            "#f0f921"
                          ]
                        ],
                        "type": "histogram2dcontour"
                      }
                    ],
                    "mesh3d": [
                      {
                        "colorbar": {
                          "outlinewidth": 0,
                          "ticks": ""
                        },
                        "type": "mesh3d"
                      }
                    ],
                    "parcoords": [
                      {
                        "line": {
                          "colorbar": {
                            "outlinewidth": 0,
                            "ticks": ""
                          }
                        },
                        "type": "parcoords"
                      }
                    ],
                    "pie": [
                      {
                        "automargin": true,
                        "type": "pie"
                      }
                    ],
                    "scatter": [
                      {
                        "marker": {
                          "line": {
                            "color": "#283442"
                          }
                        },
                        "type": "scatter"
                      }
                    ],
                    "scatter3d": [
                      {
                        "line": {
                          "colorbar": {
                            "outlinewidth": 0,
                            "ticks": ""
                          }
                        },
                        "marker": {
                          "colorbar": {
                            "outlinewidth": 0,
                            "ticks": ""
                          }
                        },
                        "type": "scatter3d"
                      }
                    ],
                    "scattercarpet": [
                      {
                        "marker": {
                          "colorbar": {
                            "outlinewidth": 0,
                            "ticks": ""
                          }
                        },
                        "type": "scattercarpet"
                      }
                    ],
                    "scattergeo": [
                      {
                        "marker": {
                          "colorbar": {
                            "outlinewidth": 0,
                            "ticks": ""
                          }
                        },
                        "type": "scattergeo"
                      }
                    ],
                    "scattergl": [
                      {
                        "marker": {
                          "line": {
                            "color": "#283442"
                          }
                        },
                        "type": "scattergl"
                      }
                    ],
                    "scattermapbox": [
                      {
                        "marker": {
                          "colorbar": {
                            "outlinewidth": 0,
                            "ticks": ""
                          }
                        },
                        "type": "scattermapbox"
                      }
                    ],
                    "scatterpolar": [
                      {
                        "marker": {
                          "colorbar": {
                            "outlinewidth": 0,
                            "ticks": ""
                          }
                        },
                        "type": "scatterpolar"
                      }
                    ],
                    "scatterpolargl": [
                      {
                        "marker": {
                          "colorbar": {
                            "outlinewidth": 0,
                            "ticks": ""
                          }
                        },
                        "type": "scatterpolargl"
                      }
                    ],
                    "scatterternary": [
                      {
                        "marker": {
                          "colorbar": {
                            "outlinewidth": 0,
                            "ticks": ""
                          }
                        },
                        "type": "scatterternary"
                      }
                    ],
                    "surface": [
                      {
                        "colorbar": {
                          "outlinewidth": 0,
                          "ticks": ""
                        },
                        "colorscale": [
                          [
                            0,
                            "#0d0887"
                          ],
                          [
                            0.1111111111111111,
                            "#46039f"
                          ],
                          [
                            0.2222222222222222,
                            "#7201a8"
                          ],
                          [
                            0.3333333333333333,
                            "#9c179e"
                          ],
                          [
                            0.4444444444444444,
                            "#bd3786"
                          ],
                          [
                            0.5555555555555556,
                            "#d8576b"
                          ],
                          [
                            0.6666666666666666,
                            "#ed7953"
                          ],
                          [
                            0.7777777777777778,
                            "#fb9f3a"
                          ],
                          [
                            0.8888888888888888,
                            "#fdca26"
                          ],
                          [
                            1,
                            "#f0f921"
                          ]
                        ],
                        "type": "surface"
                      }
                    ],
                    "table": [
                      {
                        "cells": {
                          "fill": {
                            "color": "#506784"
                          },
                          "line": {
                            "color": "rgb(17,17,17)"
                          }
                        },
                        "header": {
                          "fill": {
                            "color": "#2a3f5f"
                          },
                          "line": {
                            "color": "rgb(17,17,17)"
                          }
                        },
                        "type": "table"
                      }
                    ]
                  },
                  "layout": {
                    "annotationdefaults": {
                      "arrowcolor": "#f2f5fa",
                      "arrowhead": 0,
                      "arrowwidth": 1
                    },
                    "autotypenumbers": "strict",
                    "coloraxis": {
                      "colorbar": {
                        "outlinewidth": 0,
                        "ticks": ""
                      }
                    },
                    "colorscale": {
                      "diverging": [
                        [
                          0,
                          "#8e0152"
                        ],
                        [
                          0.1,
                          "#c51b7d"
                        ],
                        [
                          0.2,
                          "#de77ae"
                        ],
                        [
                          0.3,
                          "#f1b6da"
                        ],
                        [
                          0.4,
                          "#fde0ef"
                        ],
                        [
                          0.5,
                          "#f7f7f7"
                        ],
                        [
                          0.6,
                          "#e6f5d0"
                        ],
                        [
                          0.7,
                          "#b8e186"
                        ],
                        [
                          0.8,
                          "#7fbc41"
                        ],
                        [
                          0.9,
                          "#4d9221"
                        ],
                        [
                          1,
                          "#276419"
                        ]
                      ],
                      "sequential": [
                        [
                          0,
                          "#0d0887"
                        ],
                        [
                          0.1111111111111111,
                          "#46039f"
                        ],
                        [
                          0.2222222222222222,
                          "#7201a8"
                        ],
                        [
                          0.3333333333333333,
                          "#9c179e"
                        ],
                        [
                          0.4444444444444444,
                          "#bd3786"
                        ],
                        [
                          0.5555555555555556,
                          "#d8576b"
                        ],
                        [
                          0.6666666666666666,
                          "#ed7953"
                        ],
                        [
                          0.7777777777777778,
                          "#fb9f3a"
                        ],
                        [
                          0.8888888888888888,
                          "#fdca26"
                        ],
                        [
                          1,
                          "#f0f921"
                        ]
                      ],
                      "sequentialminus": [
                        [
                          0,
                          "#0d0887"
                        ],
                        [
                          0.1111111111111111,
                          "#46039f"
                        ],
                        [
                          0.2222222222222222,
                          "#7201a8"
                        ],
                        [
                          0.3333333333333333,
                          "#9c179e"
                        ],
                        [
                          0.4444444444444444,
                          "#bd3786"
                        ],
                        [
                          0.5555555555555556,
                          "#d8576b"
                        ],
                        [
                          0.6666666666666666,
                          "#ed7953"
                        ],
                        [
                          0.7777777777777778,
                          "#fb9f3a"
                        ],
                        [
                          0.8888888888888888,
                          "#fdca26"
                        ],
                        [
                          1,
                          "#f0f921"
                        ]
                      ]
                    },
                    "colorway": [
                      "#636efa",
                      "#EF553B",
                      "#00cc96",
                      "#ab63fa",
                      "#FFA15A",
                      "#19d3f3",
                      "#FF6692",
                      "#B6E880",
                      "#FF97FF",
                      "#FECB52"
                    ],
                    "font": {
                      "color": "#f2f5fa"
                    },
                    "geo": {
                      "bgcolor": "rgb(17,17,17)",
                      "lakecolor": "rgb(17,17,17)",
                      "landcolor": "rgb(17,17,17)",
                      "showlakes": true,
                      "showland": true,
                      "subunitcolor": "#506784"
                    },
                    "hoverlabel": {
                      "align": "left"
                    },
                    "hovermode": "closest",
                    "mapbox": {
                      "style": "dark"
                    },
                    "paper_bgcolor": "rgb(17,17,17)",
                    "plot_bgcolor": "rgb(17,17,17)",
                    "polar": {
                      "angularaxis": {
                        "gridcolor": "#506784",
                        "linecolor": "#506784",
                        "ticks": ""
                      },
                      "bgcolor": "rgb(17,17,17)",
                      "radialaxis": {
                        "gridcolor": "#506784",
                        "linecolor": "#506784",
                        "ticks": ""
                      }
                    },
                    "scene": {
                      "xaxis": {
                        "backgroundcolor": "rgb(17,17,17)",
                        "gridcolor": "#506784",
                        "gridwidth": 2,
                        "linecolor": "#506784",
                        "showbackground": true,
                        "ticks": "",
                        "zerolinecolor": "#C8D4E3"
                      },
                      "yaxis": {
                        "backgroundcolor": "rgb(17,17,17)",
                        "gridcolor": "#506784",
                        "gridwidth": 2,
                        "linecolor": "#506784",
                        "showbackground": true,
                        "ticks": "",
                        "zerolinecolor": "#C8D4E3"
                      },
                      "zaxis": {
                        "backgroundcolor": "rgb(17,17,17)",
                        "gridcolor": "#506784",
                        "gridwidth": 2,
                        "linecolor": "#506784",
                        "showbackground": true,
                        "ticks": "",
                        "zerolinecolor": "#C8D4E3"
                      }
                    },
                    "shapedefaults": {
                      "line": {
                        "color": "#f2f5fa"
                      }
                    },
                    "sliderdefaults": {
                      "bgcolor": "#C8D4E3",
                      "bordercolor": "rgb(17,17,17)",
                      "borderwidth": 1,
                      "tickwidth": 0
                    },
                    "ternary": {
                      "aaxis": {
                        "gridcolor": "#506784",
                        "linecolor": "#506784",
                        "ticks": ""
                      },
                      "baxis": {
                        "gridcolor": "#506784",
                        "linecolor": "#506784",
                        "ticks": ""
                      },
                      "bgcolor": "rgb(17,17,17)",
                      "caxis": {
                        "gridcolor": "#506784",
                        "linecolor": "#506784",
                        "ticks": ""
                      }
                    },
                    "title": {
                      "x": 0.05
                    },
                    "updatemenudefaults": {
                      "bgcolor": "#506784",
                      "borderwidth": 0
                    },
                    "xaxis": {
                      "automargin": true,
                      "gridcolor": "#283442",
                      "linecolor": "#506784",
                      "ticks": "",
                      "title": {
                        "standoff": 15
                      },
                      "zerolinecolor": "#283442",
                      "zerolinewidth": 2
                    },
                    "yaxis": {
                      "automargin": true,
                      "gridcolor": "#283442",
                      "linecolor": "#506784",
                      "ticks": "",
                      "title": {
                        "standoff": 15
                      },
                      "zerolinecolor": "#283442",
                      "zerolinewidth": 2
                    }
                  }
                },
                "title": {
                  "text": "Annual Volume of Production of Rice and Corn<br><sup>National averages in metric tons</sup>"
                },
                "xaxis": {
                  "anchor": "y",
                  "domain": [
                    0,
                    1
                  ],
                  "title": {
                    "text": "Period"
                  }
                },
                "yaxis": {
                  "anchor": "x",
                  "domain": [
                    0,
                    1
                  ],
                  "title": {
                    "text": "Volume of Production"
                  }
                }
              }
            }
          },
          "metadata": {},
          "output_type": "display_data"
        }
      ],
      "source": [
        "# Volume of Production of Selected Major Crops (Philippines)\n",
        "df = pd.read_csv(\"datasets/agricultural-indicators/volume_rice-corn.csv\", skiprows=2)\n",
        "df = df[df[\"Geolocation\"] == \"PHILIPPINES\"]\n",
        "df = df[(df[\"Commodity\"] == \"Palay\") | (df[\"Commodity\"] == \"Corn\")]\n",
        "df = df.filter(regex=\"Commodity|Geolocation|Annual\", axis=1)\n",
        "df.columns = map(lambda x: x.replace(\" Annual\", \"\") if \"Annual\" in x else x, df.columns)\n",
        "df = df.melt(id_vars=[\"Commodity\", \"Geolocation\"], value_vars=df.columns[2:], var_name=\"Period\", value_name=\"Volume\")\n",
        "fig = px.histogram(df, x=\"Period\", y=\"Volume\", color=\"Commodity\", barmode='group',\n",
        "                   title='Annual Volume of Production of Rice and Corn<br><sup>National averages in metric tons</sup>').update_layout(\n",
        "    xaxis_title=\"Period\", yaxis_title = \"Volume of Production\", template=\"plotly_dark\")\n",
        "render(fig)"
      ]
    },
    {
      "cell_type": "markdown",
      "metadata": {},
      "source": [
        "## Annual Analysis\n",
        "Annual-National and Annual-Regional analysis of the commodities Rice and Corn. Other major crops to follow.\n",
        "\n",
        "**NOTE:** The core agricultural indicators are Stocks, Volume, and Area Harvested, while the core market indicators are Farmgate Price, Wholesale Price, and Retail Price.\n",
        "\n",
        "This is important to know especially during visualization where Farmgate price is used as a slicer."
      ]
    },
    {
      "cell_type": "markdown",
      "metadata": {},
      "source": [
        "### Data Preprocessing"
      ]
    },
    {
      "cell_type": "code",
      "execution_count": 32,
      "metadata": {},
      "outputs": [
        {
          "name": "stderr",
          "output_type": "stream",
          "text": [
            "<>:8: DeprecationWarning:\n",
            "\n",
            "invalid escape sequence '\\d'\n",
            "\n"
          ]
        },
        {
          "data": {
            "text/html": [
              "<div>\n",
              "<style scoped>\n",
              "    .dataframe tbody tr th:only-of-type {\n",
              "        vertical-align: middle;\n",
              "    }\n",
              "\n",
              "    .dataframe tbody tr th {\n",
              "        vertical-align: top;\n",
              "    }\n",
              "\n",
              "    .dataframe thead th {\n",
              "        text-align: right;\n",
              "    }\n",
              "</style>\n",
              "<table border=\"1\" class=\"dataframe\">\n",
              "  <thead>\n",
              "    <tr style=\"text-align: right;\">\n",
              "      <th></th>\n",
              "      <th>Stocks</th>\n",
              "      <th>Volume</th>\n",
              "      <th>Area Harvested</th>\n",
              "      <th>Self-Sufficiency Ratio</th>\n",
              "      <th>Import-Dependency Ratio</th>\n",
              "      <th>SU Gross Supply</th>\n",
              "      <th>UT Consumable</th>\n",
              "      <th>Farmgate Price</th>\n",
              "      <th>Wholesale Price</th>\n",
              "      <th>Retail Price</th>\n",
              "      <th>CPI All Income</th>\n",
              "      <th>CPI Bottom 30</th>\n",
              "      <th>Net Returns</th>\n",
              "      <th>Inflation Rate</th>\n",
              "      <th>NCR RPI</th>\n",
              "    </tr>\n",
              "  </thead>\n",
              "  <tbody>\n",
              "    <tr>\n",
              "      <th>count</th>\n",
              "      <td>340.000000</td>\n",
              "      <td>3.400000e+02</td>\n",
              "      <td>3.400000e+02</td>\n",
              "      <td>340.00000</td>\n",
              "      <td>340.00000</td>\n",
              "      <td>340.000000</td>\n",
              "      <td>340.00000</td>\n",
              "      <td>330.000000</td>\n",
              "      <td>252.000000</td>\n",
              "      <td>244.000000</td>\n",
              "      <td>340.000000</td>\n",
              "      <td>340.000000</td>\n",
              "      <td>305.000000</td>\n",
              "      <td>340.000000</td>\n",
              "      <td>340.000000</td>\n",
              "    </tr>\n",
              "    <tr>\n",
              "      <th>mean</th>\n",
              "      <td>1485.030538</td>\n",
              "      <td>1.558783e+06</td>\n",
              "      <td>4.275902e+05</td>\n",
              "      <td>91.11000</td>\n",
              "      <td>8.89500</td>\n",
              "      <td>12609.000000</td>\n",
              "      <td>7286.35000</td>\n",
              "      <td>15.157641</td>\n",
              "      <td>33.806509</td>\n",
              "      <td>35.386332</td>\n",
              "      <td>92.842937</td>\n",
              "      <td>93.060681</td>\n",
              "      <td>16309.521311</td>\n",
              "      <td>2.813000</td>\n",
              "      <td>112.559167</td>\n",
              "    </tr>\n",
              "    <tr>\n",
              "      <th>std</th>\n",
              "      <td>892.227575</td>\n",
              "      <td>3.314457e+06</td>\n",
              "      <td>8.629677e+05</td>\n",
              "      <td>4.80195</td>\n",
              "      <td>4.80107</td>\n",
              "      <td>3935.472969</td>\n",
              "      <td>5210.44233</td>\n",
              "      <td>2.901644</td>\n",
              "      <td>6.415134</td>\n",
              "      <td>8.506258</td>\n",
              "      <td>10.446669</td>\n",
              "      <td>10.317620</td>\n",
              "      <td>10258.809888</td>\n",
              "      <td>1.251995</td>\n",
              "      <td>8.668396</td>\n",
              "    </tr>\n",
              "    <tr>\n",
              "      <th>min</th>\n",
              "      <td>320.012308</td>\n",
              "      <td>5.865700e+04</td>\n",
              "      <td>2.449600e+04</td>\n",
              "      <td>79.80000</td>\n",
              "      <td>1.80000</td>\n",
              "      <td>7710.000000</td>\n",
              "      <td>1569.00000</td>\n",
              "      <td>9.174167</td>\n",
              "      <td>18.000000</td>\n",
              "      <td>12.994167</td>\n",
              "      <td>66.711141</td>\n",
              "      <td>62.617408</td>\n",
              "      <td>-1775.000000</td>\n",
              "      <td>0.690000</td>\n",
              "      <td>100.000000</td>\n",
              "    </tr>\n",
              "    <tr>\n",
              "      <th>25%</th>\n",
              "      <td>649.277692</td>\n",
              "      <td>2.589409e+05</td>\n",
              "      <td>1.031898e+05</td>\n",
              "      <td>88.77500</td>\n",
              "      <td>5.35000</td>\n",
              "      <td>8707.750000</td>\n",
              "      <td>2164.00000</td>\n",
              "      <td>12.499861</td>\n",
              "      <td>28.584375</td>\n",
              "      <td>33.198750</td>\n",
              "      <td>87.044130</td>\n",
              "      <td>86.623208</td>\n",
              "      <td>9355.000000</td>\n",
              "      <td>2.390000</td>\n",
              "      <td>104.683333</td>\n",
              "    </tr>\n",
              "    <tr>\n",
              "      <th>50%</th>\n",
              "      <td>1544.326538</td>\n",
              "      <td>5.673236e+05</td>\n",
              "      <td>1.639720e+05</td>\n",
              "      <td>91.95000</td>\n",
              "      <td>8.10000</td>\n",
              "      <td>12360.500000</td>\n",
              "      <td>7029.00000</td>\n",
              "      <td>15.137083</td>\n",
              "      <td>36.015455</td>\n",
              "      <td>38.064167</td>\n",
              "      <td>93.423984</td>\n",
              "      <td>93.606207</td>\n",
              "      <td>15782.000000</td>\n",
              "      <td>2.720000</td>\n",
              "      <td>112.279167</td>\n",
              "    </tr>\n",
              "    <tr>\n",
              "      <th>75%</th>\n",
              "      <td>2267.125577</td>\n",
              "      <td>1.287862e+06</td>\n",
              "      <td>3.745478e+05</td>\n",
              "      <td>94.65000</td>\n",
              "      <td>11.22500</td>\n",
              "      <td>16071.500000</td>\n",
              "      <td>11706.50000</td>\n",
              "      <td>17.455208</td>\n",
              "      <td>38.871458</td>\n",
              "      <td>40.611250</td>\n",
              "      <td>97.503626</td>\n",
              "      <td>97.956751</td>\n",
              "      <td>22686.000000</td>\n",
              "      <td>3.590000</td>\n",
              "      <td>120.500000</td>\n",
              "    </tr>\n",
              "    <tr>\n",
              "      <th>max</th>\n",
              "      <td>2819.688462</td>\n",
              "      <td>1.996017e+07</td>\n",
              "      <td>4.811808e+06</td>\n",
              "      <td>98.20000</td>\n",
              "      <td>20.20000</td>\n",
              "      <td>18353.000000</td>\n",
              "      <td>14886.00000</td>\n",
              "      <td>21.994167</td>\n",
              "      <td>46.368333</td>\n",
              "      <td>62.883333</td>\n",
              "      <td>168.191370</td>\n",
              "      <td>165.011797</td>\n",
              "      <td>57587.000000</td>\n",
              "      <td>5.310000</td>\n",
              "      <td>125.858333</td>\n",
              "    </tr>\n",
              "  </tbody>\n",
              "</table>\n",
              "</div>"
            ],
            "text/plain": [
              "            Stocks        Volume  Area Harvested  Self-Sufficiency Ratio  \\\n",
              "count   340.000000  3.400000e+02    3.400000e+02               340.00000   \n",
              "mean   1485.030538  1.558783e+06    4.275902e+05                91.11000   \n",
              "std     892.227575  3.314457e+06    8.629677e+05                 4.80195   \n",
              "min     320.012308  5.865700e+04    2.449600e+04                79.80000   \n",
              "25%     649.277692  2.589409e+05    1.031898e+05                88.77500   \n",
              "50%    1544.326538  5.673236e+05    1.639720e+05                91.95000   \n",
              "75%    2267.125577  1.287862e+06    3.745478e+05                94.65000   \n",
              "max    2819.688462  1.996017e+07    4.811808e+06                98.20000   \n",
              "\n",
              "       Import-Dependency Ratio  SU Gross Supply  UT Consumable  \\\n",
              "count                340.00000       340.000000      340.00000   \n",
              "mean                   8.89500     12609.000000     7286.35000   \n",
              "std                    4.80107      3935.472969     5210.44233   \n",
              "min                    1.80000      7710.000000     1569.00000   \n",
              "25%                    5.35000      8707.750000     2164.00000   \n",
              "50%                    8.10000     12360.500000     7029.00000   \n",
              "75%                   11.22500     16071.500000    11706.50000   \n",
              "max                   20.20000     18353.000000    14886.00000   \n",
              "\n",
              "       Farmgate Price  Wholesale Price  Retail Price  CPI All Income  \\\n",
              "count      330.000000       252.000000    244.000000      340.000000   \n",
              "mean        15.157641        33.806509     35.386332       92.842937   \n",
              "std          2.901644         6.415134      8.506258       10.446669   \n",
              "min          9.174167        18.000000     12.994167       66.711141   \n",
              "25%         12.499861        28.584375     33.198750       87.044130   \n",
              "50%         15.137083        36.015455     38.064167       93.423984   \n",
              "75%         17.455208        38.871458     40.611250       97.503626   \n",
              "max         21.994167        46.368333     62.883333      168.191370   \n",
              "\n",
              "       CPI Bottom 30   Net Returns  Inflation Rate     NCR RPI  \n",
              "count     340.000000    305.000000      340.000000  340.000000  \n",
              "mean       93.060681  16309.521311        2.813000  112.559167  \n",
              "std        10.317620  10258.809888        1.251995    8.668396  \n",
              "min        62.617408  -1775.000000        0.690000  100.000000  \n",
              "25%        86.623208   9355.000000        2.390000  104.683333  \n",
              "50%        93.606207  15782.000000        2.720000  112.279167  \n",
              "75%        97.956751  22686.000000        3.590000  120.500000  \n",
              "max       165.011797  57587.000000        5.310000  125.858333  "
            ]
          },
          "metadata": {},
          "output_type": "display_data"
        },
        {
          "data": {
            "text/html": [
              "<div>\n",
              "<style scoped>\n",
              "    .dataframe tbody tr th:only-of-type {\n",
              "        vertical-align: middle;\n",
              "    }\n",
              "\n",
              "    .dataframe tbody tr th {\n",
              "        vertical-align: top;\n",
              "    }\n",
              "\n",
              "    .dataframe thead th {\n",
              "        text-align: right;\n",
              "    }\n",
              "</style>\n",
              "<table border=\"1\" class=\"dataframe\">\n",
              "  <thead>\n",
              "    <tr style=\"text-align: right;\">\n",
              "      <th></th>\n",
              "      <th>Geolocation</th>\n",
              "      <th>Commodity</th>\n",
              "      <th>Period</th>\n",
              "    </tr>\n",
              "  </thead>\n",
              "  <tbody>\n",
              "    <tr>\n",
              "      <th>count</th>\n",
              "      <td>340</td>\n",
              "      <td>340</td>\n",
              "      <td>340</td>\n",
              "    </tr>\n",
              "    <tr>\n",
              "      <th>unique</th>\n",
              "      <td>17</td>\n",
              "      <td>2</td>\n",
              "      <td>10</td>\n",
              "    </tr>\n",
              "    <tr>\n",
              "      <th>top</th>\n",
              "      <td>philippines</td>\n",
              "      <td>Rice</td>\n",
              "      <td>2012</td>\n",
              "    </tr>\n",
              "    <tr>\n",
              "      <th>freq</th>\n",
              "      <td>20</td>\n",
              "      <td>170</td>\n",
              "      <td>34</td>\n",
              "    </tr>\n",
              "  </tbody>\n",
              "</table>\n",
              "</div>"
            ],
            "text/plain": [
              "        Geolocation Commodity Period\n",
              "count           340       340    340\n",
              "unique           17         2     10\n",
              "top     philippines      Rice   2012\n",
              "freq             20       170     34"
            ]
          },
          "metadata": {},
          "output_type": "display_data"
        },
        {
          "data": {
            "text/plain": [
              "Geolocation\n",
              "bangsamoro autonomous region in muslim mindanao (barmm)    20\n",
              "cordillera administrative region (car)                     20\n",
              "mimaropa region (mimaropa)                                 20\n",
              "philippines                                                20\n",
              "region i (ilocos region)                                   20\n",
              "region ii (cagayan valley)                                 20\n",
              "region iii (central luzon)                                 20\n",
              "region iv-a (calabarzon)                                   20\n",
              "region ix (zamboanga peninsula)                            20\n",
              "region v (bicol region)                                    20\n",
              "region vi (western visayas)                                20\n",
              "region vii (central visayas)                               20\n",
              "region viii (eastern visayas)                              20\n",
              "region x (northern mindanao)                               20\n",
              "region xi (davao region)                                   20\n",
              "region xii (soccsksargen)                                  20\n",
              "region xiii (caraga)                                       20\n",
              "dtype: int64"
            ]
          },
          "metadata": {},
          "output_type": "display_data"
        },
        {
          "data": {
            "text/html": [
              "<div>\n",
              "<style scoped>\n",
              "    .dataframe tbody tr th:only-of-type {\n",
              "        vertical-align: middle;\n",
              "    }\n",
              "\n",
              "    .dataframe tbody tr th {\n",
              "        vertical-align: top;\n",
              "    }\n",
              "\n",
              "    .dataframe thead th {\n",
              "        text-align: right;\n",
              "    }\n",
              "</style>\n",
              "<table border=\"1\" class=\"dataframe\">\n",
              "  <thead>\n",
              "    <tr style=\"text-align: right;\">\n",
              "      <th></th>\n",
              "      <th>Geolocation</th>\n",
              "      <th>Commodity</th>\n",
              "      <th>Period</th>\n",
              "      <th>Stocks</th>\n",
              "      <th>Volume</th>\n",
              "      <th>Area Harvested</th>\n",
              "      <th>Self-Sufficiency Ratio</th>\n",
              "      <th>Import-Dependency Ratio</th>\n",
              "      <th>SU Gross Supply</th>\n",
              "      <th>UT Consumable</th>\n",
              "      <th>Farmgate Price</th>\n",
              "      <th>Wholesale Price</th>\n",
              "      <th>Retail Price</th>\n",
              "      <th>CPI All Income</th>\n",
              "      <th>CPI Bottom 30</th>\n",
              "      <th>Net Returns</th>\n",
              "      <th>Inflation Rate</th>\n",
              "      <th>NCR RPI</th>\n",
              "    </tr>\n",
              "  </thead>\n",
              "  <tbody>\n",
              "    <tr>\n",
              "      <th>0</th>\n",
              "      <td>philippines</td>\n",
              "      <td>Rice</td>\n",
              "      <td>2012</td>\n",
              "      <td>2227.093846</td>\n",
              "      <td>18032525.47</td>\n",
              "      <td>4690061.17</td>\n",
              "      <td>91.9</td>\n",
              "      <td>8.1</td>\n",
              "      <td>15465</td>\n",
              "      <td>11473</td>\n",
              "      <td>15.923333</td>\n",
              "      <td>32.800833</td>\n",
              "      <td>33.476667</td>\n",
              "      <td>81.632653</td>\n",
              "      <td>82.987552</td>\n",
              "      <td>19891.0</td>\n",
              "      <td>3.16</td>\n",
              "      <td>100.000000</td>\n",
              "    </tr>\n",
              "    <tr>\n",
              "      <th>1</th>\n",
              "      <td>cordillera administrative region (car)</td>\n",
              "      <td>Rice</td>\n",
              "      <td>2012</td>\n",
              "      <td>2227.093846</td>\n",
              "      <td>453461.00</td>\n",
              "      <td>120100.00</td>\n",
              "      <td>91.9</td>\n",
              "      <td>8.1</td>\n",
              "      <td>15465</td>\n",
              "      <td>11473</td>\n",
              "      <td>16.721667</td>\n",
              "      <td>32.416667</td>\n",
              "      <td>35.628333</td>\n",
              "      <td>85.616438</td>\n",
              "      <td>85.034014</td>\n",
              "      <td>7274.0</td>\n",
              "      <td>3.16</td>\n",
              "      <td>100.000000</td>\n",
              "    </tr>\n",
              "    <tr>\n",
              "      <th>2</th>\n",
              "      <td>region i (ilocos region)</td>\n",
              "      <td>Rice</td>\n",
              "      <td>2012</td>\n",
              "      <td>2227.093846</td>\n",
              "      <td>1737695.00</td>\n",
              "      <td>403169.00</td>\n",
              "      <td>91.9</td>\n",
              "      <td>8.1</td>\n",
              "      <td>15465</td>\n",
              "      <td>11473</td>\n",
              "      <td>17.065000</td>\n",
              "      <td>31.941667</td>\n",
              "      <td>31.070000</td>\n",
              "      <td>79.113924</td>\n",
              "      <td>79.617834</td>\n",
              "      <td>21639.0</td>\n",
              "      <td>3.16</td>\n",
              "      <td>100.000000</td>\n",
              "    </tr>\n",
              "    <tr>\n",
              "      <th>3</th>\n",
              "      <td>region ii (cagayan valley)</td>\n",
              "      <td>Rice</td>\n",
              "      <td>2012</td>\n",
              "      <td>2227.093846</td>\n",
              "      <td>2425536.47</td>\n",
              "      <td>582557.17</td>\n",
              "      <td>91.9</td>\n",
              "      <td>8.1</td>\n",
              "      <td>15465</td>\n",
              "      <td>11473</td>\n",
              "      <td>16.246667</td>\n",
              "      <td>30.702500</td>\n",
              "      <td>31.335833</td>\n",
              "      <td>80.971660</td>\n",
              "      <td>83.752094</td>\n",
              "      <td>16638.0</td>\n",
              "      <td>3.16</td>\n",
              "      <td>100.000000</td>\n",
              "    </tr>\n",
              "    <tr>\n",
              "      <th>4</th>\n",
              "      <td>region iii (central luzon)</td>\n",
              "      <td>Rice</td>\n",
              "      <td>2012</td>\n",
              "      <td>2227.093846</td>\n",
              "      <td>3220607.00</td>\n",
              "      <td>675781.00</td>\n",
              "      <td>91.9</td>\n",
              "      <td>8.1</td>\n",
              "      <td>15465</td>\n",
              "      <td>11473</td>\n",
              "      <td>17.145000</td>\n",
              "      <td>32.866667</td>\n",
              "      <td>31.469167</td>\n",
              "      <td>79.617834</td>\n",
              "      <td>79.808460</td>\n",
              "      <td>30333.0</td>\n",
              "      <td>3.16</td>\n",
              "      <td>100.000000</td>\n",
              "    </tr>\n",
              "    <tr>\n",
              "      <th>...</th>\n",
              "      <td>...</td>\n",
              "      <td>...</td>\n",
              "      <td>...</td>\n",
              "      <td>...</td>\n",
              "      <td>...</td>\n",
              "      <td>...</td>\n",
              "      <td>...</td>\n",
              "      <td>...</td>\n",
              "      <td>...</td>\n",
              "      <td>...</td>\n",
              "      <td>...</td>\n",
              "      <td>...</td>\n",
              "      <td>...</td>\n",
              "      <td>...</td>\n",
              "      <td>...</td>\n",
              "      <td>...</td>\n",
              "      <td>...</td>\n",
              "      <td>...</td>\n",
              "    </tr>\n",
              "    <tr>\n",
              "      <th>335</th>\n",
              "      <td>region x (northern mindanao)</td>\n",
              "      <td>Corn</td>\n",
              "      <td>2021</td>\n",
              "      <td>794.027692</td>\n",
              "      <td>1455030.45</td>\n",
              "      <td>384864.96</td>\n",
              "      <td>94.8</td>\n",
              "      <td>5.2</td>\n",
              "      <td>9661</td>\n",
              "      <td>2609</td>\n",
              "      <td>14.165000</td>\n",
              "      <td>29.346667</td>\n",
              "      <td>24.740833</td>\n",
              "      <td>100.408755</td>\n",
              "      <td>100.126349</td>\n",
              "      <td>29280.0</td>\n",
              "      <td>3.93</td>\n",
              "      <td>125.858333</td>\n",
              "    </tr>\n",
              "    <tr>\n",
              "      <th>336</th>\n",
              "      <td>region xi (davao region)</td>\n",
              "      <td>Corn</td>\n",
              "      <td>2021</td>\n",
              "      <td>794.027692</td>\n",
              "      <td>266894.04</td>\n",
              "      <td>175295.00</td>\n",
              "      <td>94.8</td>\n",
              "      <td>5.2</td>\n",
              "      <td>9661</td>\n",
              "      <td>2609</td>\n",
              "      <td>12.265000</td>\n",
              "      <td>30.242500</td>\n",
              "      <td>20.895000</td>\n",
              "      <td>90.597157</td>\n",
              "      <td>90.246810</td>\n",
              "      <td>NaN</td>\n",
              "      <td>3.93</td>\n",
              "      <td>125.858333</td>\n",
              "    </tr>\n",
              "    <tr>\n",
              "      <th>337</th>\n",
              "      <td>region xii (soccsksargen)</td>\n",
              "      <td>Corn</td>\n",
              "      <td>2021</td>\n",
              "      <td>794.027692</td>\n",
              "      <td>1105238.85</td>\n",
              "      <td>397363.00</td>\n",
              "      <td>94.8</td>\n",
              "      <td>5.2</td>\n",
              "      <td>9661</td>\n",
              "      <td>2609</td>\n",
              "      <td>15.142500</td>\n",
              "      <td>30.406667</td>\n",
              "      <td>NaN</td>\n",
              "      <td>102.613642</td>\n",
              "      <td>102.581773</td>\n",
              "      <td>14274.0</td>\n",
              "      <td>3.93</td>\n",
              "      <td>125.858333</td>\n",
              "    </tr>\n",
              "    <tr>\n",
              "      <th>338</th>\n",
              "      <td>region xiii (caraga)</td>\n",
              "      <td>Corn</td>\n",
              "      <td>2021</td>\n",
              "      <td>794.027692</td>\n",
              "      <td>141648.84</td>\n",
              "      <td>40933.00</td>\n",
              "      <td>94.8</td>\n",
              "      <td>5.2</td>\n",
              "      <td>9661</td>\n",
              "      <td>2609</td>\n",
              "      <td>12.490833</td>\n",
              "      <td>32.963333</td>\n",
              "      <td>NaN</td>\n",
              "      <td>115.890568</td>\n",
              "      <td>115.778763</td>\n",
              "      <td>15564.0</td>\n",
              "      <td>3.93</td>\n",
              "      <td>125.858333</td>\n",
              "    </tr>\n",
              "    <tr>\n",
              "      <th>339</th>\n",
              "      <td>bangsamoro autonomous region in muslim mindana...</td>\n",
              "      <td>Corn</td>\n",
              "      <td>2021</td>\n",
              "      <td>794.027692</td>\n",
              "      <td>1137310.72</td>\n",
              "      <td>350929.19</td>\n",
              "      <td>94.8</td>\n",
              "      <td>5.2</td>\n",
              "      <td>9661</td>\n",
              "      <td>2609</td>\n",
              "      <td>12.575833</td>\n",
              "      <td>NaN</td>\n",
              "      <td>NaN</td>\n",
              "      <td>98.141678</td>\n",
              "      <td>95.450050</td>\n",
              "      <td>20390.0</td>\n",
              "      <td>3.93</td>\n",
              "      <td>125.858333</td>\n",
              "    </tr>\n",
              "  </tbody>\n",
              "</table>\n",
              "<p>340 rows × 18 columns</p>\n",
              "</div>"
            ],
            "text/plain": [
              "                                           Geolocation Commodity Period  \\\n",
              "0                                          philippines      Rice   2012   \n",
              "1               cordillera administrative region (car)      Rice   2012   \n",
              "2                             region i (ilocos region)      Rice   2012   \n",
              "3                           region ii (cagayan valley)      Rice   2012   \n",
              "4                           region iii (central luzon)      Rice   2012   \n",
              "..                                                 ...       ...    ...   \n",
              "335                       region x (northern mindanao)      Corn   2021   \n",
              "336                           region xi (davao region)      Corn   2021   \n",
              "337                          region xii (soccsksargen)      Corn   2021   \n",
              "338                               region xiii (caraga)      Corn   2021   \n",
              "339  bangsamoro autonomous region in muslim mindana...      Corn   2021   \n",
              "\n",
              "          Stocks       Volume  Area Harvested  Self-Sufficiency Ratio  \\\n",
              "0    2227.093846  18032525.47      4690061.17                    91.9   \n",
              "1    2227.093846    453461.00       120100.00                    91.9   \n",
              "2    2227.093846   1737695.00       403169.00                    91.9   \n",
              "3    2227.093846   2425536.47       582557.17                    91.9   \n",
              "4    2227.093846   3220607.00       675781.00                    91.9   \n",
              "..           ...          ...             ...                     ...   \n",
              "335   794.027692   1455030.45       384864.96                    94.8   \n",
              "336   794.027692    266894.04       175295.00                    94.8   \n",
              "337   794.027692   1105238.85       397363.00                    94.8   \n",
              "338   794.027692    141648.84        40933.00                    94.8   \n",
              "339   794.027692   1137310.72       350929.19                    94.8   \n",
              "\n",
              "     Import-Dependency Ratio  SU Gross Supply  UT Consumable  Farmgate Price  \\\n",
              "0                        8.1            15465          11473       15.923333   \n",
              "1                        8.1            15465          11473       16.721667   \n",
              "2                        8.1            15465          11473       17.065000   \n",
              "3                        8.1            15465          11473       16.246667   \n",
              "4                        8.1            15465          11473       17.145000   \n",
              "..                       ...              ...            ...             ...   \n",
              "335                      5.2             9661           2609       14.165000   \n",
              "336                      5.2             9661           2609       12.265000   \n",
              "337                      5.2             9661           2609       15.142500   \n",
              "338                      5.2             9661           2609       12.490833   \n",
              "339                      5.2             9661           2609       12.575833   \n",
              "\n",
              "     Wholesale Price  Retail Price  CPI All Income  CPI Bottom 30  \\\n",
              "0          32.800833     33.476667       81.632653      82.987552   \n",
              "1          32.416667     35.628333       85.616438      85.034014   \n",
              "2          31.941667     31.070000       79.113924      79.617834   \n",
              "3          30.702500     31.335833       80.971660      83.752094   \n",
              "4          32.866667     31.469167       79.617834      79.808460   \n",
              "..               ...           ...             ...            ...   \n",
              "335        29.346667     24.740833      100.408755     100.126349   \n",
              "336        30.242500     20.895000       90.597157      90.246810   \n",
              "337        30.406667           NaN      102.613642     102.581773   \n",
              "338        32.963333           NaN      115.890568     115.778763   \n",
              "339              NaN           NaN       98.141678      95.450050   \n",
              "\n",
              "     Net Returns  Inflation Rate     NCR RPI  \n",
              "0        19891.0            3.16  100.000000  \n",
              "1         7274.0            3.16  100.000000  \n",
              "2        21639.0            3.16  100.000000  \n",
              "3        16638.0            3.16  100.000000  \n",
              "4        30333.0            3.16  100.000000  \n",
              "..           ...             ...         ...  \n",
              "335      29280.0            3.93  125.858333  \n",
              "336          NaN            3.93  125.858333  \n",
              "337      14274.0            3.93  125.858333  \n",
              "338      15564.0            3.93  125.858333  \n",
              "339      20390.0            3.93  125.858333  \n",
              "\n",
              "[340 rows x 18 columns]"
            ]
          },
          "execution_count": 32,
          "metadata": {},
          "output_type": "execute_result"
        }
      ],
      "source": [
        "# @title Annual megadataset for rice and corn\n",
        "# NOTE: Filter this during visualization and analysis to just Philippines or Regions\n",
        "def filter_period(df: pd.DataFrame, _type: str):\n",
        "    if _type == \"Annual\":\n",
        "        df = df.filter(regex=\"Commodity|Geolocation|Annual\", axis=1)\n",
        "        df.columns = map(lambda x: x.replace(\" Annual\", \"\") if \"Annual\" in x else x, df.columns)\n",
        "    elif _type == \"Quarterly\":\n",
        "        df = df.filter(regex=\"Commodity|Geolocation|Q\\d\", axis=1)\n",
        "    return df\n",
        "\n",
        "# Volume of Rice and Corn\n",
        "df1 = pd.read_csv(\"datasets/agricultural-indicators/volume_rice-corn.csv\", skiprows=2, na_values=[\"..\"])\n",
        "df1 = filter_period(df1, \"Annual\")\n",
        "df1 = preprocess_baesians_2(df1, {\"Palay\": \"Rice\", \"Corn\": \"Corn\"}, melt_value=\"Volume\")\n",
        "\n",
        "# Farmgate Price of Rice and Corn\n",
        "df2 = pd.read_csv(\"datasets/prices/prices_farmgate-new-series_2010-2023.csv\")\n",
        "df2 = get_annual_columns(df2, range(2012, 2024), 2)\n",
        "df2 = preprocess_baesians_2(df2, {\"Palay [Paddy] Other Variety, dry (conv. to 14% mc)\": \"Rice\",\n",
        "                                  \"Corngrain [Maize] Yellow, matured\": \"Corn\"}, melt_value=\"Farmgate Price\")\n",
        "\n",
        "# Wholesale Price of Rice and Corn\n",
        "df3 = pd.read_csv(\"datasets/prices/prices_wholesale-new-series_2010-2023.csv\",)\n",
        "df3 = get_annual_columns(df3, range(2012, 2024), 2)\n",
        "df3 = preprocess_baesians_2(df3, {\"Well Milled Rice (WMR)\": \"Rice\",\n",
        "                                  \"Corngrits White\": \"Corn\"}, melt_value=\"Wholesale Price\")\n",
        "\n",
        "# Retail Price of Rice and Corn\n",
        "df4 = pd.read_csv(\"datasets/prices/prices_retail_2012-2023.csv\")\n",
        "df4 = get_annual_columns(df4, range(2012, 2024), 2)\n",
        "df4 = preprocess_baesians_2(df4, {\"RICE, REGULAR-MILLED, 1 KG\": \"Rice\",\n",
        "                                  \"RICE, REGULAR MILLED, LOOSE, 1 KG\" : \"Rice\",\n",
        "                                  'WHOLE CORN GRAIN, YELLOW, 1 KG': \"Corn\"}, melt_value=\"Retail Price\")\n",
        "\n",
        "# Area Harvested of Rice and Corn\n",
        "df5 = pd.read_csv(\"datasets/agricultural-indicators/area-harvested-palay-corn_quarterly-annual_2010-2023.csv\", skiprows=2)\n",
        "df5 = filter_period(df5, \"Annual\")\n",
        "df5 = preprocess_baesians_2(df5, {\"Palay\": \"Rice\", \"Corn\": \"Corn\"}, melt_value=\"Area Harvested\")\n",
        "\n",
        "# Consumer Price Index (All Income) per Region of Rice and Corn\n",
        "df6 = pd.read_csv(\"datasets/price-indices-2018-based/cpi_all-income-households-by-cg-with-backcasting_1994-2023.csv\")\n",
        "df6 = get_annual_columns(df6, range(2012, 2024), 2)\n",
        "df6 = preprocess_baesians_2(df6, {\"01.1.1.12 - Rice\": \"Rice\",\n",
        "                                  \"01.1.1.16 - Corn\": \"Corn\"},\n",
        "                            melt_value=\"CPI All Income\")\n",
        "\n",
        "# Consumer Price Index (Bottom 30) per Region of Rice and Corn\n",
        "df7 = pd.read_csv(\"datasets/price-indices-2018-based/cpi_bottom-30-by-cg-with-backcasting_2012-2017.csv\")\n",
        "df7 = preprocess_baesians_2(df7, {\"01.1.1.12 - Rice\": \"Rice\", \"01.1.1.16 - Corn\": \"Corn\"}, melt_value=None)\n",
        "tdf = pd.read_csv(\"datasets/price-indices-2018-based/cpi_bottom-30-by-cg_2018-2023.csv\")\n",
        "tdf = preprocess_baesians_2(tdf, {\"01.1.1.12 - Rice\": \"Rice\", \"01.1.1.16 - Corn\": \"Corn\"}, melt_value=None)\n",
        "df7 = pd.merge(df7, tdf, on=[\"Geolocation\", \"Commodity\"])\n",
        "df7 = get_annual_columns(df7, range(2012, 2024), 2)\n",
        "df7 = preprocess_baesians_2(df7, {\"Rice\": \"Rice\", \"Corn\": \"Corn\"}, melt_value=\"CPI Bottom 30\")\n",
        "\n",
        "# Costs and Returns per Region of Rice and Corn\n",
        "df8 = pd.read_csv(\"datasets/agricultural-indicators/costs-and-returns_rice-and-corn.csv\", skiprows=1, na_values=[\"..\"])\n",
        "df8 = df8[df8[\"Item\"] == \"NET RETURNS\"]\n",
        "df8.drop(\"Item\", axis=1, inplace=True)\n",
        "df8.rename({\"Type\": \"Commodity\"}, axis=1, inplace=True)\n",
        "df8 = preprocess_baesians_2(df8, {\"All Palay\": \"Rice\", \"All Corn\": \"Corn\"}, melt_value=\"Net Returns\")\n",
        "df8 = df8[df8[\"Period\"].str.contains(\"Average\")]\n",
        "df8[\"Period\"] = df8[\"Period\"].apply(lambda x: x.split()[1])\n",
        "\n",
        "# National Inflation Rate\n",
        "df9 = pd.read_csv(\"datasets/statista_inflation-rate-in-the-philippines-2029.csv\", dtype={\"Period\": object, \"Inflation Rate\": float})\n",
        "\n",
        "# NCR Retail Price Index on Food\n",
        "df10 = pd.read_csv(\"datasets/price-indices-2018-based/rpi-in-ncr_food-only_1998-2023.csv\")\n",
        "df10 = get_annual_columns(df10, range(2010, 2024), 2)\n",
        "df10 = preprocess_baesians_2(df10, {\"Food\": \"Food\"}, melt_value=\"NCR RPI\").drop([\"Geolocation\", \"Commodity\"], axis=1)\n",
        "\n",
        "# Agricultural Self-Sufficiency for Rice and Corn\n",
        "df11 = pd.read_csv(\"datasets/agricultural-indicators/agri-self-sufficiency-ratio.csv\", skiprows=1)\n",
        "df11 = df11[(df11[\"Commodity\"] == \"Rice\") | (df11[\"Commodity\"] == \"Corn\")]\n",
        "df11 = df11.melt(\"Commodity\", df11.columns[1:], \"Period\", \"Self-Sufficiency Ratio\")\n",
        "\n",
        "# Agricultural Import-Dependency for Rice and Corn\n",
        "df12 = pd.read_csv(\"datasets/agricultural-indicators/agri-import-dependency-ratio.csv\", skiprows=1)\n",
        "df12 = df12[(df12[\"Commodity\"] == \"Rice\") | (df12[\"Commodity\"] == \"Corn\")]\n",
        "df12 = df12.melt(\"Commodity\", df12.columns[1:], \"Period\", \"Import-Dependency Ratio\")\n",
        "\n",
        "# SU Gross Supply and UT Total Net Food Disposable for Rice and Corn\n",
        "# Explained here: https://openstat.psa.gov.ph/Metadata/2B5FSUA0\n",
        "df13 = pd.read_csv(\"datasets/agricultural-indicators/supply-ut_rice-corn_1990-2022.csv\")\n",
        "df13 = df13.filter(regex=\"Commodity|Year|Gross|Food\")\n",
        "df13.rename({\"Year\": \"Period\", \"UT Total Net Food Disposable\": \"UT Consumable\"}, axis=1, inplace=True)\n",
        "df13.Period = df13.Period.astype(str)\n",
        "\n",
        "# Merge all dfs into a single df\n",
        "# NOTE: Remove df8 or add more year data or commodities to increase number of samples\n",
        "# NOTE: You may adjust here which dfs are included in the final df\n",
        "# NOTE: df8, df10, df11, df12, and df13 are all only until 2021 and 2022... respectively\n",
        "UNTIL_2023 = False\n",
        "if UNTIL_2023:\n",
        "    dfs = [df1, df2, df3, df4, df5, df6, df7, df9]\n",
        "    df = functools.reduce(lambda left, right: pd.merge(left, right), dfs)\n",
        "else:\n",
        "    dfs = [df1, df2, df3, df4, df5, df6, df7, df8, df9, df10, df11, df12, df13]\n",
        "    df = functools.reduce(lambda left, right: pd.merge(left, right), dfs)\n",
        "    move_column(df, \"Area Harvested\", 4)\n",
        "    move_column(df, \"Self-Sufficiency Ratio\", 5)\n",
        "    move_column(df, \"Import-Dependency Ratio\", 6)\n",
        "    move_column(df, \"SU Gross Supply\", 7)\n",
        "    move_column(df, \"UT Consumable\", 8)\n",
        "\n",
        "# # Stocks of Rice and Corn (Annual)\n",
        "tdf1 = df_stocks.copy()\n",
        "tdf2 = df[[\"Commodity\", \"Period\"]].copy()\n",
        "tdf2[\"Period\"] = pd.to_numeric(tdf2[\"Period\"])\n",
        "df.insert(3, \"Stocks\", pd.merge(tdf2, tdf1)[\"Stocks\"])\n",
        "\n",
        "# Cleanup\n",
        "del dfs, df1, df2, df3, df4, df5, df6, df7, df8, df9, df10, df11, df12, df13\n",
        "\n",
        "if False:\n",
        "    df.to_csv(\"datasets/annual-regional_megadataset_inner-join.csv\", index=False)\n",
        "    \n",
        "display(df.describe())\n",
        "display(df[[\"Geolocation\", \"Commodity\", \"Period\"]].describe())\n",
        "\n",
        "display(df.groupby(\"Geolocation\").size())\n",
        "df.groupby(\"Geolocation\").size()\n",
        "df"
      ]
    },
    {
      "cell_type": "markdown",
      "metadata": {},
      "source": [
        "## Data Modeling"
      ]
    },
    {
      "cell_type": "code",
      "execution_count": 33,
      "metadata": {},
      "outputs": [
        {
          "name": "stdout",
          "output_type": "stream",
          "text": [
            "Skforecast version:  0.12.1\n"
          ]
        }
      ],
      "source": [
        "# Plots\n",
        "# ==============================================================================\n",
        "import matplotlib.pyplot as plt\n",
        "plt.style.use('fivethirtyeight')\n",
        "plt.rcParams['lines.linewidth'] = 1.5\n",
        "plt.rcParams['font.size'] = 10\n",
        "\n",
        "# Modeling and Forecasting\n",
        "# ==============================================================================\n",
        "from sklearn.linear_model import Ridge\n",
        "from sklearn.ensemble import RandomForestRegressor\n",
        "from sklearn.metrics import mean_squared_error\n",
        "from sklearn.metrics import mean_absolute_error\n",
        "from sklearn.metrics import root_mean_squared_error\n",
        "from sklearn.preprocessing import StandardScaler\n",
        "\n",
        "import skforecast\n",
        "from skforecast.ForecasterAutoreg import ForecasterAutoreg\n",
        "from skforecast.model_selection import grid_search_forecaster\n",
        "from skforecast.model_selection import backtesting_forecaster\n",
        "from skforecast.utils import save_forecaster\n",
        "from skforecast.utils import load_forecaster\n",
        "import shap\n",
        "\n",
        "# Warnings configuration\n",
        "# ==============================================================================\n",
        "import warnings\n",
        "warnings.filterwarnings('once')\n",
        "\n",
        "print('Skforecast version: ', skforecast.__version__)"
      ]
    },
    {
      "cell_type": "code",
      "execution_count": 34,
      "metadata": {},
      "outputs": [
        {
          "name": "stdout",
          "output_type": "stream",
          "text": [
            "Train dates : 1980-01-01 00:00:00 --- 2019-08-01 00:00:00  (n=476)\n",
            "Test dates  : 2019-09-01 00:00:00 --- 2023-12-01 00:00:00  (n=52)\n"
          ]
        },
        {
          "data": {
            "application/vnd.plotly.v1+json": {
              "config": {
                "plotlyServerURL": "https://plot.ly"
              },
              "data": [
                {
                  "name": "train\t(n=476)",
                  "type": "scatter",
                  "x": [
                    "1980-01-01T00:00:00",
                    "1980-02-01T00:00:00",
                    "1980-03-01T00:00:00",
                    "1980-04-01T00:00:00",
                    "1980-05-01T00:00:00",
                    "1980-06-01T00:00:00",
                    "1980-07-01T00:00:00",
                    "1980-08-01T00:00:00",
                    "1980-09-01T00:00:00",
                    "1980-10-01T00:00:00",
                    "1980-11-01T00:00:00",
                    "1980-12-01T00:00:00",
                    "1981-01-01T00:00:00",
                    "1981-02-01T00:00:00",
                    "1981-03-01T00:00:00",
                    "1981-04-01T00:00:00",
                    "1981-05-01T00:00:00",
                    "1981-06-01T00:00:00",
                    "1981-07-01T00:00:00",
                    "1981-08-01T00:00:00",
                    "1981-09-01T00:00:00",
                    "1981-10-01T00:00:00",
                    "1981-11-01T00:00:00",
                    "1981-12-01T00:00:00",
                    "1982-01-01T00:00:00",
                    "1982-02-01T00:00:00",
                    "1982-03-01T00:00:00",
                    "1982-04-01T00:00:00",
                    "1982-05-01T00:00:00",
                    "1982-06-01T00:00:00",
                    "1982-07-01T00:00:00",
                    "1982-08-01T00:00:00",
                    "1982-09-01T00:00:00",
                    "1982-10-01T00:00:00",
                    "1982-11-01T00:00:00",
                    "1982-12-01T00:00:00",
                    "1983-01-01T00:00:00",
                    "1983-02-01T00:00:00",
                    "1983-03-01T00:00:00",
                    "1983-04-01T00:00:00",
                    "1983-05-01T00:00:00",
                    "1983-06-01T00:00:00",
                    "1983-07-01T00:00:00",
                    "1983-08-01T00:00:00",
                    "1983-09-01T00:00:00",
                    "1983-10-01T00:00:00",
                    "1983-11-01T00:00:00",
                    "1983-12-01T00:00:00",
                    "1984-01-01T00:00:00",
                    "1984-02-01T00:00:00",
                    "1984-03-01T00:00:00",
                    "1984-04-01T00:00:00",
                    "1984-05-01T00:00:00",
                    "1984-06-01T00:00:00",
                    "1984-07-01T00:00:00",
                    "1984-08-01T00:00:00",
                    "1984-09-01T00:00:00",
                    "1984-10-01T00:00:00",
                    "1984-11-01T00:00:00",
                    "1984-12-01T00:00:00",
                    "1985-01-01T00:00:00",
                    "1985-02-01T00:00:00",
                    "1985-03-01T00:00:00",
                    "1985-04-01T00:00:00",
                    "1985-05-01T00:00:00",
                    "1985-06-01T00:00:00",
                    "1985-07-01T00:00:00",
                    "1985-08-01T00:00:00",
                    "1985-09-01T00:00:00",
                    "1985-10-01T00:00:00",
                    "1985-11-01T00:00:00",
                    "1985-12-01T00:00:00",
                    "1986-01-01T00:00:00",
                    "1986-02-01T00:00:00",
                    "1986-03-01T00:00:00",
                    "1986-04-01T00:00:00",
                    "1986-05-01T00:00:00",
                    "1986-06-01T00:00:00",
                    "1986-07-01T00:00:00",
                    "1986-08-01T00:00:00",
                    "1986-09-01T00:00:00",
                    "1986-10-01T00:00:00",
                    "1986-11-01T00:00:00",
                    "1986-12-01T00:00:00",
                    "1987-01-01T00:00:00",
                    "1987-02-01T00:00:00",
                    "1987-03-01T00:00:00",
                    "1987-04-01T00:00:00",
                    "1987-05-01T00:00:00",
                    "1987-06-01T00:00:00",
                    "1987-07-01T00:00:00",
                    "1987-08-01T00:00:00",
                    "1987-09-01T00:00:00",
                    "1987-10-01T00:00:00",
                    "1987-11-01T00:00:00",
                    "1987-12-01T00:00:00",
                    "1988-01-01T00:00:00",
                    "1988-02-01T00:00:00",
                    "1988-03-01T00:00:00",
                    "1988-04-01T00:00:00",
                    "1988-05-01T00:00:00",
                    "1988-06-01T00:00:00",
                    "1988-07-01T00:00:00",
                    "1988-08-01T00:00:00",
                    "1988-09-01T00:00:00",
                    "1988-10-01T00:00:00",
                    "1988-11-01T00:00:00",
                    "1988-12-01T00:00:00",
                    "1989-01-01T00:00:00",
                    "1989-02-01T00:00:00",
                    "1989-03-01T00:00:00",
                    "1989-04-01T00:00:00",
                    "1989-05-01T00:00:00",
                    "1989-06-01T00:00:00",
                    "1989-07-01T00:00:00",
                    "1989-08-01T00:00:00",
                    "1989-09-01T00:00:00",
                    "1989-10-01T00:00:00",
                    "1989-11-01T00:00:00",
                    "1989-12-01T00:00:00",
                    "1990-01-01T00:00:00",
                    "1990-02-01T00:00:00",
                    "1990-03-01T00:00:00",
                    "1990-04-01T00:00:00",
                    "1990-05-01T00:00:00",
                    "1990-06-01T00:00:00",
                    "1990-07-01T00:00:00",
                    "1990-08-01T00:00:00",
                    "1990-09-01T00:00:00",
                    "1990-10-01T00:00:00",
                    "1990-11-01T00:00:00",
                    "1990-12-01T00:00:00",
                    "1991-01-01T00:00:00",
                    "1991-02-01T00:00:00",
                    "1991-03-01T00:00:00",
                    "1991-04-01T00:00:00",
                    "1991-05-01T00:00:00",
                    "1991-06-01T00:00:00",
                    "1991-07-01T00:00:00",
                    "1991-08-01T00:00:00",
                    "1991-09-01T00:00:00",
                    "1991-10-01T00:00:00",
                    "1991-11-01T00:00:00",
                    "1991-12-01T00:00:00",
                    "1992-01-01T00:00:00",
                    "1992-02-01T00:00:00",
                    "1992-03-01T00:00:00",
                    "1992-04-01T00:00:00",
                    "1992-05-01T00:00:00",
                    "1992-06-01T00:00:00",
                    "1992-07-01T00:00:00",
                    "1992-08-01T00:00:00",
                    "1992-09-01T00:00:00",
                    "1992-10-01T00:00:00",
                    "1992-11-01T00:00:00",
                    "1992-12-01T00:00:00",
                    "1993-01-01T00:00:00",
                    "1993-02-01T00:00:00",
                    "1993-03-01T00:00:00",
                    "1993-04-01T00:00:00",
                    "1993-05-01T00:00:00",
                    "1993-06-01T00:00:00",
                    "1993-07-01T00:00:00",
                    "1993-08-01T00:00:00",
                    "1993-09-01T00:00:00",
                    "1993-10-01T00:00:00",
                    "1993-11-01T00:00:00",
                    "1993-12-01T00:00:00",
                    "1994-01-01T00:00:00",
                    "1994-02-01T00:00:00",
                    "1994-03-01T00:00:00",
                    "1994-04-01T00:00:00",
                    "1994-05-01T00:00:00",
                    "1994-06-01T00:00:00",
                    "1994-07-01T00:00:00",
                    "1994-08-01T00:00:00",
                    "1994-09-01T00:00:00",
                    "1994-10-01T00:00:00",
                    "1994-11-01T00:00:00",
                    "1994-12-01T00:00:00",
                    "1995-01-01T00:00:00",
                    "1995-02-01T00:00:00",
                    "1995-03-01T00:00:00",
                    "1995-04-01T00:00:00",
                    "1995-05-01T00:00:00",
                    "1995-06-01T00:00:00",
                    "1995-07-01T00:00:00",
                    "1995-08-01T00:00:00",
                    "1995-09-01T00:00:00",
                    "1995-10-01T00:00:00",
                    "1995-11-01T00:00:00",
                    "1995-12-01T00:00:00",
                    "1996-01-01T00:00:00",
                    "1996-02-01T00:00:00",
                    "1996-03-01T00:00:00",
                    "1996-04-01T00:00:00",
                    "1996-05-01T00:00:00",
                    "1996-06-01T00:00:00",
                    "1996-07-01T00:00:00",
                    "1996-08-01T00:00:00",
                    "1996-09-01T00:00:00",
                    "1996-10-01T00:00:00",
                    "1996-11-01T00:00:00",
                    "1996-12-01T00:00:00",
                    "1997-01-01T00:00:00",
                    "1997-02-01T00:00:00",
                    "1997-03-01T00:00:00",
                    "1997-04-01T00:00:00",
                    "1997-05-01T00:00:00",
                    "1997-06-01T00:00:00",
                    "1997-07-01T00:00:00",
                    "1997-08-01T00:00:00",
                    "1997-09-01T00:00:00",
                    "1997-10-01T00:00:00",
                    "1997-11-01T00:00:00",
                    "1997-12-01T00:00:00",
                    "1998-01-01T00:00:00",
                    "1998-02-01T00:00:00",
                    "1998-03-01T00:00:00",
                    "1998-04-01T00:00:00",
                    "1998-05-01T00:00:00",
                    "1998-06-01T00:00:00",
                    "1998-07-01T00:00:00",
                    "1998-08-01T00:00:00",
                    "1998-09-01T00:00:00",
                    "1998-10-01T00:00:00",
                    "1998-11-01T00:00:00",
                    "1998-12-01T00:00:00",
                    "1999-01-01T00:00:00",
                    "1999-02-01T00:00:00",
                    "1999-03-01T00:00:00",
                    "1999-04-01T00:00:00",
                    "1999-05-01T00:00:00",
                    "1999-06-01T00:00:00",
                    "1999-07-01T00:00:00",
                    "1999-08-01T00:00:00",
                    "1999-09-01T00:00:00",
                    "1999-10-01T00:00:00",
                    "1999-11-01T00:00:00",
                    "1999-12-01T00:00:00",
                    "2000-01-01T00:00:00",
                    "2000-02-01T00:00:00",
                    "2000-03-01T00:00:00",
                    "2000-04-01T00:00:00",
                    "2000-05-01T00:00:00",
                    "2000-06-01T00:00:00",
                    "2000-07-01T00:00:00",
                    "2000-08-01T00:00:00",
                    "2000-09-01T00:00:00",
                    "2000-10-01T00:00:00",
                    "2000-11-01T00:00:00",
                    "2000-12-01T00:00:00",
                    "2001-01-01T00:00:00",
                    "2001-02-01T00:00:00",
                    "2001-03-01T00:00:00",
                    "2001-04-01T00:00:00",
                    "2001-05-01T00:00:00",
                    "2001-06-01T00:00:00",
                    "2001-07-01T00:00:00",
                    "2001-08-01T00:00:00",
                    "2001-09-01T00:00:00",
                    "2001-10-01T00:00:00",
                    "2001-11-01T00:00:00",
                    "2001-12-01T00:00:00",
                    "2002-01-01T00:00:00",
                    "2002-02-01T00:00:00",
                    "2002-03-01T00:00:00",
                    "2002-04-01T00:00:00",
                    "2002-05-01T00:00:00",
                    "2002-06-01T00:00:00",
                    "2002-07-01T00:00:00",
                    "2002-08-01T00:00:00",
                    "2002-09-01T00:00:00",
                    "2002-10-01T00:00:00",
                    "2002-11-01T00:00:00",
                    "2002-12-01T00:00:00",
                    "2003-01-01T00:00:00",
                    "2003-02-01T00:00:00",
                    "2003-03-01T00:00:00",
                    "2003-04-01T00:00:00",
                    "2003-05-01T00:00:00",
                    "2003-06-01T00:00:00",
                    "2003-07-01T00:00:00",
                    "2003-08-01T00:00:00",
                    "2003-09-01T00:00:00",
                    "2003-10-01T00:00:00",
                    "2003-11-01T00:00:00",
                    "2003-12-01T00:00:00",
                    "2004-01-01T00:00:00",
                    "2004-02-01T00:00:00",
                    "2004-03-01T00:00:00",
                    "2004-04-01T00:00:00",
                    "2004-05-01T00:00:00",
                    "2004-06-01T00:00:00",
                    "2004-07-01T00:00:00",
                    "2004-08-01T00:00:00",
                    "2004-09-01T00:00:00",
                    "2004-10-01T00:00:00",
                    "2004-11-01T00:00:00",
                    "2004-12-01T00:00:00",
                    "2005-01-01T00:00:00",
                    "2005-02-01T00:00:00",
                    "2005-03-01T00:00:00",
                    "2005-04-01T00:00:00",
                    "2005-05-01T00:00:00",
                    "2005-06-01T00:00:00",
                    "2005-07-01T00:00:00",
                    "2005-08-01T00:00:00",
                    "2005-09-01T00:00:00",
                    "2005-10-01T00:00:00",
                    "2005-11-01T00:00:00",
                    "2005-12-01T00:00:00",
                    "2006-01-01T00:00:00",
                    "2006-02-01T00:00:00",
                    "2006-03-01T00:00:00",
                    "2006-04-01T00:00:00",
                    "2006-05-01T00:00:00",
                    "2006-06-01T00:00:00",
                    "2006-07-01T00:00:00",
                    "2006-08-01T00:00:00",
                    "2006-09-01T00:00:00",
                    "2006-10-01T00:00:00",
                    "2006-11-01T00:00:00",
                    "2006-12-01T00:00:00",
                    "2007-01-01T00:00:00",
                    "2007-02-01T00:00:00",
                    "2007-03-01T00:00:00",
                    "2007-04-01T00:00:00",
                    "2007-05-01T00:00:00",
                    "2007-06-01T00:00:00",
                    "2007-07-01T00:00:00",
                    "2007-08-01T00:00:00",
                    "2007-09-01T00:00:00",
                    "2007-10-01T00:00:00",
                    "2007-11-01T00:00:00",
                    "2007-12-01T00:00:00",
                    "2008-01-01T00:00:00",
                    "2008-02-01T00:00:00",
                    "2008-03-01T00:00:00",
                    "2008-04-01T00:00:00",
                    "2008-05-01T00:00:00",
                    "2008-06-01T00:00:00",
                    "2008-07-01T00:00:00",
                    "2008-08-01T00:00:00",
                    "2008-09-01T00:00:00",
                    "2008-10-01T00:00:00",
                    "2008-11-01T00:00:00",
                    "2008-12-01T00:00:00",
                    "2009-01-01T00:00:00",
                    "2009-02-01T00:00:00",
                    "2009-03-01T00:00:00",
                    "2009-04-01T00:00:00",
                    "2009-05-01T00:00:00",
                    "2009-06-01T00:00:00",
                    "2009-07-01T00:00:00",
                    "2009-08-01T00:00:00",
                    "2009-09-01T00:00:00",
                    "2009-10-01T00:00:00",
                    "2009-11-01T00:00:00",
                    "2009-12-01T00:00:00",
                    "2010-01-01T00:00:00",
                    "2010-02-01T00:00:00",
                    "2010-03-01T00:00:00",
                    "2010-04-01T00:00:00",
                    "2010-05-01T00:00:00",
                    "2010-06-01T00:00:00",
                    "2010-07-01T00:00:00",
                    "2010-08-01T00:00:00",
                    "2010-09-01T00:00:00",
                    "2010-10-01T00:00:00",
                    "2010-11-01T00:00:00",
                    "2010-12-01T00:00:00",
                    "2011-01-01T00:00:00",
                    "2011-02-01T00:00:00",
                    "2011-03-01T00:00:00",
                    "2011-04-01T00:00:00",
                    "2011-05-01T00:00:00",
                    "2011-06-01T00:00:00",
                    "2011-07-01T00:00:00",
                    "2011-08-01T00:00:00",
                    "2011-09-01T00:00:00",
                    "2011-10-01T00:00:00",
                    "2011-11-01T00:00:00",
                    "2011-12-01T00:00:00",
                    "2012-01-01T00:00:00",
                    "2012-02-01T00:00:00",
                    "2012-03-01T00:00:00",
                    "2012-04-01T00:00:00",
                    "2012-05-01T00:00:00",
                    "2012-06-01T00:00:00",
                    "2012-07-01T00:00:00",
                    "2012-08-01T00:00:00",
                    "2012-09-01T00:00:00",
                    "2012-10-01T00:00:00",
                    "2012-11-01T00:00:00",
                    "2012-12-01T00:00:00",
                    "2013-01-01T00:00:00",
                    "2013-02-01T00:00:00",
                    "2013-03-01T00:00:00",
                    "2013-04-01T00:00:00",
                    "2013-05-01T00:00:00",
                    "2013-06-01T00:00:00",
                    "2013-07-01T00:00:00",
                    "2013-08-01T00:00:00",
                    "2013-09-01T00:00:00",
                    "2013-10-01T00:00:00",
                    "2013-11-01T00:00:00",
                    "2013-12-01T00:00:00",
                    "2014-01-01T00:00:00",
                    "2014-02-01T00:00:00",
                    "2014-03-01T00:00:00",
                    "2014-04-01T00:00:00",
                    "2014-05-01T00:00:00",
                    "2014-06-01T00:00:00",
                    "2014-07-01T00:00:00",
                    "2014-08-01T00:00:00",
                    "2014-09-01T00:00:00",
                    "2014-10-01T00:00:00",
                    "2014-11-01T00:00:00",
                    "2014-12-01T00:00:00",
                    "2015-01-01T00:00:00",
                    "2015-02-01T00:00:00",
                    "2015-03-01T00:00:00",
                    "2015-04-01T00:00:00",
                    "2015-05-01T00:00:00",
                    "2015-06-01T00:00:00",
                    "2015-07-01T00:00:00",
                    "2015-08-01T00:00:00",
                    "2015-09-01T00:00:00",
                    "2015-10-01T00:00:00",
                    "2015-11-01T00:00:00",
                    "2015-12-01T00:00:00",
                    "2016-01-01T00:00:00",
                    "2016-02-01T00:00:00",
                    "2016-03-01T00:00:00",
                    "2016-04-01T00:00:00",
                    "2016-05-01T00:00:00",
                    "2016-06-01T00:00:00",
                    "2016-07-01T00:00:00",
                    "2016-08-01T00:00:00",
                    "2016-09-01T00:00:00",
                    "2016-10-01T00:00:00",
                    "2016-11-01T00:00:00",
                    "2016-12-01T00:00:00",
                    "2017-01-01T00:00:00",
                    "2017-02-01T00:00:00",
                    "2017-03-01T00:00:00",
                    "2017-04-01T00:00:00",
                    "2017-05-01T00:00:00",
                    "2017-06-01T00:00:00",
                    "2017-07-01T00:00:00",
                    "2017-08-01T00:00:00",
                    "2017-09-01T00:00:00",
                    "2017-10-01T00:00:00",
                    "2017-11-01T00:00:00",
                    "2017-12-01T00:00:00",
                    "2018-01-01T00:00:00",
                    "2018-02-01T00:00:00",
                    "2018-03-01T00:00:00",
                    "2018-04-01T00:00:00",
                    "2018-05-01T00:00:00",
                    "2018-06-01T00:00:00",
                    "2018-07-01T00:00:00",
                    "2018-08-01T00:00:00",
                    "2018-09-01T00:00:00",
                    "2018-10-01T00:00:00",
                    "2018-11-01T00:00:00",
                    "2018-12-01T00:00:00",
                    "2019-01-01T00:00:00",
                    "2019-02-01T00:00:00",
                    "2019-03-01T00:00:00",
                    "2019-04-01T00:00:00",
                    "2019-05-01T00:00:00",
                    "2019-06-01T00:00:00",
                    "2019-07-01T00:00:00",
                    "2019-08-01T00:00:00"
                  ],
                  "y": [
                    1885.3,
                    1819,
                    1815.6,
                    1753.4,
                    1812.9,
                    1725.2,
                    1575.2,
                    1359.1,
                    1197.6,
                    1199.8,
                    1468.6,
                    1722.7,
                    1646.5,
                    1452.8,
                    1427.1,
                    1543.9,
                    1573.8,
                    1428.3,
                    1330.6,
                    1103.2,
                    1037.8,
                    1050.8,
                    1390.5,
                    1657.1,
                    1611.2,
                    1515.9,
                    1494.2,
                    1649.3,
                    1758.6,
                    1698.9,
                    1519.7,
                    1325.1,
                    1149.8,
                    1299.1,
                    1737.6,
                    1876.4,
                    1866.4,
                    1712.9,
                    1706.9,
                    1825.9,
                    1872.3,
                    1754.1,
                    1478,
                    1172.2,
                    912.9,
                    763.9,
                    1063.3,
                    1543.7,
                    1491.3,
                    1303.9,
                    1170.9,
                    1318,
                    1482.2,
                    1269.2,
                    990.1,
                    848.5,
                    692.4,
                    795.3,
                    1004.5,
                    1214.4,
                    1144.3,
                    1004.5,
                    919,
                    1043,
                    1113.1,
                    1109.3,
                    999.5,
                    903.5,
                    864.5,
                    1045.8,
                    1597.5,
                    1853.5,
                    1754.5,
                    1593.8,
                    1541.9,
                    1699.6,
                    1771,
                    1701.1,
                    1541.2,
                    1382.9,
                    1251.9,
                    1305,
                    1738.5,
                    1946.2,
                    2017.1,
                    1724.4,
                    1636.1,
                    1741.9,
                    1728.1,
                    1669.3,
                    1417.2,
                    1135.6,
                    923,
                    927.7,
                    1366,
                    1617.1,
                    1575,
                    1382.4,
                    1418.9,
                    1778,
                    1669.8,
                    1578.7,
                    1230.8,
                    1058.8,
                    1012.3,
                    1248.2,
                    1548,
                    1723.9,
                    1517.6,
                    1292.1,
                    1186.6,
                    1320.3,
                    1394.3,
                    1192.7,
                    1079.7,
                    889.8,
                    920.8,
                    1213.2,
                    1415.4,
                    1517,
                    1689.5,
                    1568,
                    1560.5,
                    1485.2,
                    1612.9,
                    1486.4,
                    1366.6,
                    1283.4,
                    1180,
                    1208.2,
                    1729.6,
                    2232.9,
                    1899.3,
                    1739,
                    1692.8,
                    2011.7,
                    2004.4,
                    2125.4,
                    1821.2,
                    1560.1,
                    1344.2,
                    1445.2,
                    1776.1,
                    1970,
                    2120.4,
                    1809.7,
                    1693.2,
                    1848.8,
                    1772.3,
                    1678.1,
                    1627.2,
                    1273.3,
                    1057.4,
                    948.5,
                    1356.5,
                    1550,
                    1673.1,
                    1404.6,
                    1211.6,
                    1341.7,
                    1451.4,
                    1332.3,
                    1368.9,
                    1028.1,
                    868.3,
                    892.8,
                    1250,
                    1490.4,
                    1444.3,
                    1157,
                    1092.6,
                    1362.4,
                    1408.2,
                    1353.6,
                    1258,
                    989.9,
                    888.9,
                    1076.9,
                    1580.6,
                    1706.5,
                    1497.8,
                    1260.8,
                    1120.1,
                    1253,
                    1321.5,
                    1200.4,
                    940.7,
                    703.6,
                    524.4,
                    813.3,
                    1365.1,
                    1578,
                    1422.3,
                    1309.1,
                    1196.7,
                    1522.5,
                    1796.8,
                    1726.7,
                    1602.8,
                    1269.2,
                    1132.2,
                    1327.1,
                    1708.2,
                    1968.6,
                    1793,
                    1520.8,
                    1412,
                    1629.4,
                    1962,
                    1891.8,
                    1819.4,
                    1600.2,
                    1352.6,
                    1410.3,
                    2059.9,
                    2278.1,
                    1979.4,
                    1871.1,
                    1848.1,
                    2221.7,
                    2270.6,
                    2119.5,
                    1944.9,
                    1723.8,
                    1654.2,
                    1710.7,
                    2071.9,
                    2413.6,
                    2279.3,
                    2144.6,
                    2160.7,
                    2419.8,
                    2710.9,
                    2574.1,
                    2381.1,
                    2221.2,
                    1886.1,
                    2032.9,
                    2440.9,
                    2610,
                    2364.5,
                    2042.3,
                    1765.7,
                    1874.9,
                    2067,
                    1835.9,
                    1628.6,
                    1373.8,
                    1195,
                    1485.1,
                    2010.8,
                    2277.6,
                    2166.1,
                    1879.4,
                    1837.8,
                    2110.7,
                    2263.3,
                    2248,
                    2034.9,
                    1851.3,
                    1719.3,
                    1872.6,
                    2594.4,
                    2598,
                    2270.7,
                    1975.2,
                    1808.2,
                    1997.2,
                    2113.2,
                    1788.9,
                    1534.7,
                    1313.4,
                    1193.1,
                    1508.2,
                    2575,
                    2676,
                    2448.1,
                    2289.5,
                    2068.5,
                    2210.3,
                    2390.8,
                    2097.6,
                    1806.1,
                    1566.5,
                    1399.6,
                    1742.4,
                    2525,
                    2607,
                    2362.1,
                    2068,
                    1857.7,
                    2147.4,
                    2338.7,
                    1880.1,
                    1577.4,
                    1340.8,
                    1189.1,
                    1559.5,
                    2289.8,
                    2404.5,
                    2050.9,
                    1777.4,
                    1455.6,
                    1744.7,
                    1999.2,
                    1879.3,
                    1638.2,
                    1457.1,
                    1308,
                    1592.7,
                    2255.3,
                    2406.2,
                    2094.3,
                    1885.9,
                    1719.9,
                    2192.9,
                    2422.5,
                    2217.3,
                    1960.1,
                    1754.2,
                    1649.5,
                    1825.3,
                    2435.2,
                    2580.4,
                    2253.1,
                    1841.3,
                    1588.6,
                    1654.5,
                    1893.5,
                    1629.1,
                    1529.1,
                    1354.6,
                    1135.8,
                    1375.1,
                    2038.3,
                    2291.5,
                    2172.3,
                    1834.9,
                    1688.7,
                    1891.4,
                    2265.4,
                    2209.5,
                    2185.2,
                    1902.1,
                    1923.1,
                    2177.1,
                    2937.8,
                    2954.1,
                    2638.6,
                    2279,
                    2167.7,
                    2478.6,
                    2683.9,
                    2683.4,
                    2776.3,
                    2380.7,
                    2322.2,
                    2485.3,
                    2958.6,
                    2897.3,
                    2629.1,
                    2463.3,
                    2251.9,
                    2773.4,
                    3322,
                    3357.7,
                    3353.5,
                    3184.2,
                    3034,
                    3151.1,
                    3794.6,
                    3908,
                    3424.3,
                    3049.6,
                    2853,
                    3080.6,
                    3396.5,
                    3093.6,
                    3021.8,
                    2720.4,
                    2415.2,
                    2739.2,
                    3216.8,
                    3097.5,
                    2627.4,
                    2331.4,
                    2012.6,
                    2637.8,
                    2673.3,
                    2287.31,
                    1915.11,
                    1616.6,
                    1441.9,
                    1999,
                    2784.6,
                    2613.2,
                    2524.2,
                    2023.6,
                    1938.6,
                    2327.6,
                    2614.4,
                    2313.5,
                    2194.06,
                    1859.5,
                    1530.31,
                    1771.3,
                    2438.7,
                    2492.9,
                    2125.5,
                    2003.81,
                    1784.78,
                    2182.48,
                    2520.18,
                    2306.16,
                    2025.01,
                    1721.78,
                    1488.72,
                    1805.31,
                    2952.74,
                    3031.53,
                    2662.05,
                    2350.6,
                    2265.51,
                    2542.68,
                    3167.25,
                    3019.42,
                    2568.19,
                    2244.38,
                    1955.5,
                    2196.18,
                    3107.3,
                    3441.41,
                    3198.79,
                    2942.84,
                    2674.17,
                    3359.01,
                    3689.41,
                    3235.29,
                    2733.64,
                    2103.16,
                    1775.76,
                    2286.57,
                    3302.33,
                    3338.98,
                    2765.12,
                    2296.32,
                    2176.2,
                    2675.55,
                    3214.18,
                    2572.94,
                    2347.9,
                    2028,
                    1422.84,
                    1935.87,
                    2958.73,
                    2849.37,
                    2289.65,
                    1795.78,
                    1697.37,
                    2182.67,
                    2909.46,
                    2360.98,
                    1990.82,
                    1520.76,
                    1168.03,
                    1589.89,
                    3000.45,
                    2718.48,
                    2550.7,
                    2141.23,
                    2221.42,
                    2629.03,
                    2947.42,
                    2598.34,
                    2625.25,
                    2133.84
                  ]
                },
                {
                  "name": "test\t\t(n=52)",
                  "type": "scatter",
                  "x": [
                    "2019-09-01T00:00:00",
                    "2019-10-01T00:00:00",
                    "2019-11-01T00:00:00",
                    "2019-12-01T00:00:00",
                    "2020-01-01T00:00:00",
                    "2020-02-01T00:00:00",
                    "2020-03-01T00:00:00",
                    "2020-04-01T00:00:00",
                    "2020-05-01T00:00:00",
                    "2020-06-01T00:00:00",
                    "2020-07-01T00:00:00",
                    "2020-08-01T00:00:00",
                    "2020-09-01T00:00:00",
                    "2020-10-01T00:00:00",
                    "2020-11-01T00:00:00",
                    "2020-12-01T00:00:00",
                    "2021-01-01T00:00:00",
                    "2021-02-01T00:00:00",
                    "2021-03-01T00:00:00",
                    "2021-04-01T00:00:00",
                    "2021-05-01T00:00:00",
                    "2021-06-01T00:00:00",
                    "2021-07-01T00:00:00",
                    "2021-08-01T00:00:00",
                    "2021-09-01T00:00:00",
                    "2021-10-01T00:00:00",
                    "2021-11-01T00:00:00",
                    "2021-12-01T00:00:00",
                    "2022-01-01T00:00:00",
                    "2022-02-01T00:00:00",
                    "2022-03-01T00:00:00",
                    "2022-04-01T00:00:00",
                    "2022-05-01T00:00:00",
                    "2022-06-01T00:00:00",
                    "2022-07-01T00:00:00",
                    "2022-08-01T00:00:00",
                    "2022-09-01T00:00:00",
                    "2022-10-01T00:00:00",
                    "2022-11-01T00:00:00",
                    "2022-12-01T00:00:00",
                    "2023-01-01T00:00:00",
                    "2023-02-01T00:00:00",
                    "2023-03-01T00:00:00",
                    "2023-04-01T00:00:00",
                    "2023-05-01T00:00:00",
                    "2023-06-01T00:00:00",
                    "2023-07-01T00:00:00",
                    "2023-08-01T00:00:00",
                    "2023-09-01T00:00:00",
                    "2023-10-01T00:00:00",
                    "2023-11-01T00:00:00",
                    "2023-12-01T00:00:00"
                  ],
                  "y": [
                    1842.37,
                    2279.73,
                    2962.46,
                    3098.01,
                    2675.04,
                    2375.5,
                    2178.64,
                    2367.87,
                    2779.03,
                    2395.94,
                    2104.76,
                    1786.25,
                    1784.82,
                    2641.08,
                    3158.54,
                    2766.4,
                    2332,
                    2193.1,
                    2080.1,
                    2444.31,
                    2584.9,
                    2530.82,
                    2177.68,
                    1578.31,
                    1332.36,
                    1954.72,
                    2418.43,
                    2377.85,
                    1859.45,
                    1609.25,
                    1632.51,
                    2506.13,
                    2279.96,
                    2090.62,
                    2034.57,
                    1633.36,
                    1450.89,
                    2081.84,
                    2649.81,
                    2534.59,
                    1850.45,
                    1523.03,
                    1408.85,
                    1843.05,
                    1882.06,
                    1818.21,
                    1804.17,
                    1632.45,
                    1546.09,
                    2024.33,
                    1978.56,
                    1895.78
                  ]
                },
                {
                  "line": {
                    "color": "#FFA500"
                  },
                  "name": "predictions",
                  "type": "scatter",
                  "x": [
                    "2019-09-01T00:00:00",
                    "2019-10-01T00:00:00",
                    "2019-11-01T00:00:00",
                    "2019-12-01T00:00:00",
                    "2020-01-01T00:00:00",
                    "2020-02-01T00:00:00",
                    "2020-03-01T00:00:00",
                    "2020-04-01T00:00:00",
                    "2020-05-01T00:00:00",
                    "2020-06-01T00:00:00",
                    "2020-07-01T00:00:00",
                    "2020-08-01T00:00:00",
                    "2020-09-01T00:00:00",
                    "2020-10-01T00:00:00",
                    "2020-11-01T00:00:00",
                    "2020-12-01T00:00:00",
                    "2021-01-01T00:00:00",
                    "2021-02-01T00:00:00",
                    "2021-03-01T00:00:00",
                    "2021-04-01T00:00:00",
                    "2021-05-01T00:00:00",
                    "2021-06-01T00:00:00",
                    "2021-07-01T00:00:00",
                    "2021-08-01T00:00:00",
                    "2021-09-01T00:00:00",
                    "2021-10-01T00:00:00",
                    "2021-11-01T00:00:00",
                    "2021-12-01T00:00:00",
                    "2022-01-01T00:00:00",
                    "2022-02-01T00:00:00",
                    "2022-03-01T00:00:00",
                    "2022-04-01T00:00:00",
                    "2022-05-01T00:00:00",
                    "2022-06-01T00:00:00",
                    "2022-07-01T00:00:00",
                    "2022-08-01T00:00:00",
                    "2022-09-01T00:00:00",
                    "2022-10-01T00:00:00",
                    "2022-11-01T00:00:00",
                    "2022-12-01T00:00:00",
                    "2023-01-01T00:00:00",
                    "2023-02-01T00:00:00",
                    "2023-03-01T00:00:00",
                    "2023-04-01T00:00:00",
                    "2023-05-01T00:00:00",
                    "2023-06-01T00:00:00",
                    "2023-07-01T00:00:00",
                    "2023-08-01T00:00:00",
                    "2023-09-01T00:00:00",
                    "2023-10-01T00:00:00",
                    "2023-11-01T00:00:00",
                    "2023-12-01T00:00:00"
                  ],
                  "y": [
                    2324.723177068063,
                    2535.90004165046,
                    2654.393092157094,
                    2458.8501415487676,
                    2370.066868453779,
                    2248.0756937666047,
                    2324.723177068063,
                    2324.723177068063,
                    2389.680962074159,
                    2324.723177068063,
                    2324.723177068063,
                    2324.723177068063,
                    2324.723177068063,
                    2324.723177068063,
                    2324.723177068063,
                    2324.723177068063,
                    2324.723177068063,
                    2324.723177068063,
                    2324.723177068063,
                    2324.723177068063,
                    2324.723177068063,
                    2324.723177068063,
                    2324.723177068063,
                    2324.723177068063,
                    2324.723177068063,
                    2324.723177068063,
                    2324.723177068063,
                    2324.723177068063,
                    2324.723177068063,
                    2324.723177068063,
                    2324.723177068063,
                    2324.723177068063,
                    2324.723177068063,
                    2324.723177068063,
                    2324.723177068063,
                    2324.723177068063,
                    2324.723177068063,
                    2324.723177068063,
                    2324.723177068063,
                    2324.723177068063,
                    2324.723177068063,
                    2324.723177068063,
                    2324.723177068063,
                    2324.723177068063,
                    2324.723177068063,
                    2324.723177068063,
                    2324.723177068063,
                    2324.723177068063,
                    2324.723177068063,
                    2324.723177068063,
                    2324.723177068063,
                    2324.723177068063
                  ]
                }
              ],
              "layout": {
                "legend": {
                  "bgcolor": "rgba(0, 0, 0, 0)",
                  "x": 0.01,
                  "xanchor": "left",
                  "y": 0.98,
                  "yanchor": "top"
                },
                "template": {
                  "data": {
                    "bar": [
                      {
                        "error_x": {
                          "color": "#2a3f5f"
                        },
                        "error_y": {
                          "color": "#2a3f5f"
                        },
                        "marker": {
                          "line": {
                            "color": "#E5ECF6",
                            "width": 0.5
                          },
                          "pattern": {
                            "fillmode": "overlay",
                            "size": 10,
                            "solidity": 0.2
                          }
                        },
                        "type": "bar"
                      }
                    ],
                    "barpolar": [
                      {
                        "marker": {
                          "line": {
                            "color": "#E5ECF6",
                            "width": 0.5
                          },
                          "pattern": {
                            "fillmode": "overlay",
                            "size": 10,
                            "solidity": 0.2
                          }
                        },
                        "type": "barpolar"
                      }
                    ],
                    "carpet": [
                      {
                        "aaxis": {
                          "endlinecolor": "#2a3f5f",
                          "gridcolor": "white",
                          "linecolor": "white",
                          "minorgridcolor": "white",
                          "startlinecolor": "#2a3f5f"
                        },
                        "baxis": {
                          "endlinecolor": "#2a3f5f",
                          "gridcolor": "white",
                          "linecolor": "white",
                          "minorgridcolor": "white",
                          "startlinecolor": "#2a3f5f"
                        },
                        "type": "carpet"
                      }
                    ],
                    "choropleth": [
                      {
                        "colorbar": {
                          "outlinewidth": 0,
                          "ticks": ""
                        },
                        "type": "choropleth"
                      }
                    ],
                    "contour": [
                      {
                        "colorbar": {
                          "outlinewidth": 0,
                          "ticks": ""
                        },
                        "colorscale": [
                          [
                            0,
                            "#0d0887"
                          ],
                          [
                            0.1111111111111111,
                            "#46039f"
                          ],
                          [
                            0.2222222222222222,
                            "#7201a8"
                          ],
                          [
                            0.3333333333333333,
                            "#9c179e"
                          ],
                          [
                            0.4444444444444444,
                            "#bd3786"
                          ],
                          [
                            0.5555555555555556,
                            "#d8576b"
                          ],
                          [
                            0.6666666666666666,
                            "#ed7953"
                          ],
                          [
                            0.7777777777777778,
                            "#fb9f3a"
                          ],
                          [
                            0.8888888888888888,
                            "#fdca26"
                          ],
                          [
                            1,
                            "#f0f921"
                          ]
                        ],
                        "type": "contour"
                      }
                    ],
                    "contourcarpet": [
                      {
                        "colorbar": {
                          "outlinewidth": 0,
                          "ticks": ""
                        },
                        "type": "contourcarpet"
                      }
                    ],
                    "heatmap": [
                      {
                        "colorbar": {
                          "outlinewidth": 0,
                          "ticks": ""
                        },
                        "colorscale": [
                          [
                            0,
                            "#0d0887"
                          ],
                          [
                            0.1111111111111111,
                            "#46039f"
                          ],
                          [
                            0.2222222222222222,
                            "#7201a8"
                          ],
                          [
                            0.3333333333333333,
                            "#9c179e"
                          ],
                          [
                            0.4444444444444444,
                            "#bd3786"
                          ],
                          [
                            0.5555555555555556,
                            "#d8576b"
                          ],
                          [
                            0.6666666666666666,
                            "#ed7953"
                          ],
                          [
                            0.7777777777777778,
                            "#fb9f3a"
                          ],
                          [
                            0.8888888888888888,
                            "#fdca26"
                          ],
                          [
                            1,
                            "#f0f921"
                          ]
                        ],
                        "type": "heatmap"
                      }
                    ],
                    "heatmapgl": [
                      {
                        "colorbar": {
                          "outlinewidth": 0,
                          "ticks": ""
                        },
                        "colorscale": [
                          [
                            0,
                            "#0d0887"
                          ],
                          [
                            0.1111111111111111,
                            "#46039f"
                          ],
                          [
                            0.2222222222222222,
                            "#7201a8"
                          ],
                          [
                            0.3333333333333333,
                            "#9c179e"
                          ],
                          [
                            0.4444444444444444,
                            "#bd3786"
                          ],
                          [
                            0.5555555555555556,
                            "#d8576b"
                          ],
                          [
                            0.6666666666666666,
                            "#ed7953"
                          ],
                          [
                            0.7777777777777778,
                            "#fb9f3a"
                          ],
                          [
                            0.8888888888888888,
                            "#fdca26"
                          ],
                          [
                            1,
                            "#f0f921"
                          ]
                        ],
                        "type": "heatmapgl"
                      }
                    ],
                    "histogram": [
                      {
                        "marker": {
                          "pattern": {
                            "fillmode": "overlay",
                            "size": 10,
                            "solidity": 0.2
                          }
                        },
                        "type": "histogram"
                      }
                    ],
                    "histogram2d": [
                      {
                        "colorbar": {
                          "outlinewidth": 0,
                          "ticks": ""
                        },
                        "colorscale": [
                          [
                            0,
                            "#0d0887"
                          ],
                          [
                            0.1111111111111111,
                            "#46039f"
                          ],
                          [
                            0.2222222222222222,
                            "#7201a8"
                          ],
                          [
                            0.3333333333333333,
                            "#9c179e"
                          ],
                          [
                            0.4444444444444444,
                            "#bd3786"
                          ],
                          [
                            0.5555555555555556,
                            "#d8576b"
                          ],
                          [
                            0.6666666666666666,
                            "#ed7953"
                          ],
                          [
                            0.7777777777777778,
                            "#fb9f3a"
                          ],
                          [
                            0.8888888888888888,
                            "#fdca26"
                          ],
                          [
                            1,
                            "#f0f921"
                          ]
                        ],
                        "type": "histogram2d"
                      }
                    ],
                    "histogram2dcontour": [
                      {
                        "colorbar": {
                          "outlinewidth": 0,
                          "ticks": ""
                        },
                        "colorscale": [
                          [
                            0,
                            "#0d0887"
                          ],
                          [
                            0.1111111111111111,
                            "#46039f"
                          ],
                          [
                            0.2222222222222222,
                            "#7201a8"
                          ],
                          [
                            0.3333333333333333,
                            "#9c179e"
                          ],
                          [
                            0.4444444444444444,
                            "#bd3786"
                          ],
                          [
                            0.5555555555555556,
                            "#d8576b"
                          ],
                          [
                            0.6666666666666666,
                            "#ed7953"
                          ],
                          [
                            0.7777777777777778,
                            "#fb9f3a"
                          ],
                          [
                            0.8888888888888888,
                            "#fdca26"
                          ],
                          [
                            1,
                            "#f0f921"
                          ]
                        ],
                        "type": "histogram2dcontour"
                      }
                    ],
                    "mesh3d": [
                      {
                        "colorbar": {
                          "outlinewidth": 0,
                          "ticks": ""
                        },
                        "type": "mesh3d"
                      }
                    ],
                    "parcoords": [
                      {
                        "line": {
                          "colorbar": {
                            "outlinewidth": 0,
                            "ticks": ""
                          }
                        },
                        "type": "parcoords"
                      }
                    ],
                    "pie": [
                      {
                        "automargin": true,
                        "type": "pie"
                      }
                    ],
                    "scatter": [
                      {
                        "fillpattern": {
                          "fillmode": "overlay",
                          "size": 10,
                          "solidity": 0.2
                        },
                        "type": "scatter"
                      }
                    ],
                    "scatter3d": [
                      {
                        "line": {
                          "colorbar": {
                            "outlinewidth": 0,
                            "ticks": ""
                          }
                        },
                        "marker": {
                          "colorbar": {
                            "outlinewidth": 0,
                            "ticks": ""
                          }
                        },
                        "type": "scatter3d"
                      }
                    ],
                    "scattercarpet": [
                      {
                        "marker": {
                          "colorbar": {
                            "outlinewidth": 0,
                            "ticks": ""
                          }
                        },
                        "type": "scattercarpet"
                      }
                    ],
                    "scattergeo": [
                      {
                        "marker": {
                          "colorbar": {
                            "outlinewidth": 0,
                            "ticks": ""
                          }
                        },
                        "type": "scattergeo"
                      }
                    ],
                    "scattergl": [
                      {
                        "marker": {
                          "colorbar": {
                            "outlinewidth": 0,
                            "ticks": ""
                          }
                        },
                        "type": "scattergl"
                      }
                    ],
                    "scattermapbox": [
                      {
                        "marker": {
                          "colorbar": {
                            "outlinewidth": 0,
                            "ticks": ""
                          }
                        },
                        "type": "scattermapbox"
                      }
                    ],
                    "scatterpolar": [
                      {
                        "marker": {
                          "colorbar": {
                            "outlinewidth": 0,
                            "ticks": ""
                          }
                        },
                        "type": "scatterpolar"
                      }
                    ],
                    "scatterpolargl": [
                      {
                        "marker": {
                          "colorbar": {
                            "outlinewidth": 0,
                            "ticks": ""
                          }
                        },
                        "type": "scatterpolargl"
                      }
                    ],
                    "scatterternary": [
                      {
                        "marker": {
                          "colorbar": {
                            "outlinewidth": 0,
                            "ticks": ""
                          }
                        },
                        "type": "scatterternary"
                      }
                    ],
                    "surface": [
                      {
                        "colorbar": {
                          "outlinewidth": 0,
                          "ticks": ""
                        },
                        "colorscale": [
                          [
                            0,
                            "#0d0887"
                          ],
                          [
                            0.1111111111111111,
                            "#46039f"
                          ],
                          [
                            0.2222222222222222,
                            "#7201a8"
                          ],
                          [
                            0.3333333333333333,
                            "#9c179e"
                          ],
                          [
                            0.4444444444444444,
                            "#bd3786"
                          ],
                          [
                            0.5555555555555556,
                            "#d8576b"
                          ],
                          [
                            0.6666666666666666,
                            "#ed7953"
                          ],
                          [
                            0.7777777777777778,
                            "#fb9f3a"
                          ],
                          [
                            0.8888888888888888,
                            "#fdca26"
                          ],
                          [
                            1,
                            "#f0f921"
                          ]
                        ],
                        "type": "surface"
                      }
                    ],
                    "table": [
                      {
                        "cells": {
                          "fill": {
                            "color": "#EBF0F8"
                          },
                          "line": {
                            "color": "white"
                          }
                        },
                        "header": {
                          "fill": {
                            "color": "#C8D4E3"
                          },
                          "line": {
                            "color": "white"
                          }
                        },
                        "type": "table"
                      }
                    ]
                  },
                  "layout": {
                    "annotationdefaults": {
                      "arrowcolor": "#2a3f5f",
                      "arrowhead": 0,
                      "arrowwidth": 1
                    },
                    "autotypenumbers": "strict",
                    "coloraxis": {
                      "colorbar": {
                        "outlinewidth": 0,
                        "ticks": ""
                      }
                    },
                    "colorscale": {
                      "diverging": [
                        [
                          0,
                          "#8e0152"
                        ],
                        [
                          0.1,
                          "#c51b7d"
                        ],
                        [
                          0.2,
                          "#de77ae"
                        ],
                        [
                          0.3,
                          "#f1b6da"
                        ],
                        [
                          0.4,
                          "#fde0ef"
                        ],
                        [
                          0.5,
                          "#f7f7f7"
                        ],
                        [
                          0.6,
                          "#e6f5d0"
                        ],
                        [
                          0.7,
                          "#b8e186"
                        ],
                        [
                          0.8,
                          "#7fbc41"
                        ],
                        [
                          0.9,
                          "#4d9221"
                        ],
                        [
                          1,
                          "#276419"
                        ]
                      ],
                      "sequential": [
                        [
                          0,
                          "#0d0887"
                        ],
                        [
                          0.1111111111111111,
                          "#46039f"
                        ],
                        [
                          0.2222222222222222,
                          "#7201a8"
                        ],
                        [
                          0.3333333333333333,
                          "#9c179e"
                        ],
                        [
                          0.4444444444444444,
                          "#bd3786"
                        ],
                        [
                          0.5555555555555556,
                          "#d8576b"
                        ],
                        [
                          0.6666666666666666,
                          "#ed7953"
                        ],
                        [
                          0.7777777777777778,
                          "#fb9f3a"
                        ],
                        [
                          0.8888888888888888,
                          "#fdca26"
                        ],
                        [
                          1,
                          "#f0f921"
                        ]
                      ],
                      "sequentialminus": [
                        [
                          0,
                          "#0d0887"
                        ],
                        [
                          0.1111111111111111,
                          "#46039f"
                        ],
                        [
                          0.2222222222222222,
                          "#7201a8"
                        ],
                        [
                          0.3333333333333333,
                          "#9c179e"
                        ],
                        [
                          0.4444444444444444,
                          "#bd3786"
                        ],
                        [
                          0.5555555555555556,
                          "#d8576b"
                        ],
                        [
                          0.6666666666666666,
                          "#ed7953"
                        ],
                        [
                          0.7777777777777778,
                          "#fb9f3a"
                        ],
                        [
                          0.8888888888888888,
                          "#fdca26"
                        ],
                        [
                          1,
                          "#f0f921"
                        ]
                      ]
                    },
                    "colorway": [
                      "#636efa",
                      "#EF553B",
                      "#00cc96",
                      "#ab63fa",
                      "#FFA15A",
                      "#19d3f3",
                      "#FF6692",
                      "#B6E880",
                      "#FF97FF",
                      "#FECB52"
                    ],
                    "font": {
                      "color": "#2a3f5f"
                    },
                    "geo": {
                      "bgcolor": "white",
                      "lakecolor": "white",
                      "landcolor": "#E5ECF6",
                      "showlakes": true,
                      "showland": true,
                      "subunitcolor": "white"
                    },
                    "hoverlabel": {
                      "align": "left"
                    },
                    "hovermode": "closest",
                    "mapbox": {
                      "style": "light"
                    },
                    "paper_bgcolor": "white",
                    "plot_bgcolor": "#E5ECF6",
                    "polar": {
                      "angularaxis": {
                        "gridcolor": "white",
                        "linecolor": "white",
                        "ticks": ""
                      },
                      "bgcolor": "#E5ECF6",
                      "radialaxis": {
                        "gridcolor": "white",
                        "linecolor": "white",
                        "ticks": ""
                      }
                    },
                    "scene": {
                      "xaxis": {
                        "backgroundcolor": "#E5ECF6",
                        "gridcolor": "white",
                        "gridwidth": 2,
                        "linecolor": "white",
                        "showbackground": true,
                        "ticks": "",
                        "zerolinecolor": "white"
                      },
                      "yaxis": {
                        "backgroundcolor": "#E5ECF6",
                        "gridcolor": "white",
                        "gridwidth": 2,
                        "linecolor": "white",
                        "showbackground": true,
                        "ticks": "",
                        "zerolinecolor": "white"
                      },
                      "zaxis": {
                        "backgroundcolor": "#E5ECF6",
                        "gridcolor": "white",
                        "gridwidth": 2,
                        "linecolor": "white",
                        "showbackground": true,
                        "ticks": "",
                        "zerolinecolor": "white"
                      }
                    },
                    "shapedefaults": {
                      "line": {
                        "color": "#2a3f5f"
                      }
                    },
                    "ternary": {
                      "aaxis": {
                        "gridcolor": "white",
                        "linecolor": "white",
                        "ticks": ""
                      },
                      "baxis": {
                        "gridcolor": "white",
                        "linecolor": "white",
                        "ticks": ""
                      },
                      "bgcolor": "#E5ECF6",
                      "caxis": {
                        "gridcolor": "white",
                        "linecolor": "white",
                        "ticks": ""
                      }
                    },
                    "title": {
                      "x": 0.05
                    },
                    "xaxis": {
                      "automargin": true,
                      "gridcolor": "white",
                      "linecolor": "white",
                      "ticks": "",
                      "title": {
                        "standoff": 15
                      },
                      "zerolinecolor": "white",
                      "zerolinewidth": 2
                    },
                    "yaxis": {
                      "automargin": true,
                      "gridcolor": "white",
                      "linecolor": "white",
                      "ticks": "",
                      "title": {
                        "standoff": 15
                      },
                      "zerolinecolor": "white",
                      "zerolinewidth": 2
                    }
                  }
                },
                "title": {
                  "text": "Philippines Total Rice Stocks (1980-2023)<br><sup>Sum of Household, Commercial, and NFA stocks</sup>"
                },
                "xaxis": {
                  "anchor": "y",
                  "domain": [
                    0,
                    1
                  ],
                  "showgrid": false,
                  "title": {
                    "text": "Period"
                  }
                },
                "yaxis": {
                  "anchor": "x",
                  "domain": [
                    0,
                    1
                  ],
                  "showgrid": false,
                  "title": {
                    "text": "Stocks (mt)"
                  }
                }
              }
            }
          },
          "metadata": {},
          "output_type": "display_data"
        },
        {
          "name": "stdout",
          "output_type": "stream",
          "text": [
            "Test error (MSE): 223039.73980227724\n",
            "Test error (RMSE): 472.2708331056209\n"
          ]
        }
      ],
      "source": [
        "from sklearn.experimental import enable_iterative_imputer\n",
        "from sklearn.impute import IterativeImputer, KNNImputer\n",
        "from sklearn.model_selection import TimeSeriesSplit\n",
        "\n",
        "df: pd.DataFrame = pd.read_csv(\n",
        "    \"datasets/agricultural-indicators/stocks-palay-corn_yearly_1980-2024.csv\"\n",
        ")\n",
        "df = df[(df[\"Sector\"] == \"Rice: Total Stock\") | (df[\"Sector\"] == \"Corn: Total Stock\")]\n",
        "df[\"Sector\"] = df[\"Sector\"].replace(\n",
        "    {\"Rice: Total Stock\": \"Rice\", \"Corn: Total Stock\": \"Corn\"}\n",
        ")\n",
        "df = df[df[\"Sector\"] == \"Rice\"]\n",
        "df = df.melt([\"Sector\", \"Year\"], df.columns[2:], \"Month\", \"Stocks\")\n",
        "df[\"Year\"] = df[\"Year\"].astype(str)\n",
        "df[\"Period\"] = df[\"Month\"] + \" \" + df[\"Year\"]\n",
        "df[\"Period\"] = pd.to_datetime(df[\"Period\"], format=\"%b %Y\")\n",
        "df.drop([\"Year\", \"Month\"], axis=1, inplace=True)\n",
        "df = df.set_index(\"Period\")\n",
        "df = df.asfreq(\"MS\")\n",
        "df = df.sort_index()\n",
        "imp_mean = KNNImputer()\n",
        "df[\"Stocks\"] = imp_mean.fit_transform(pd.DataFrame(df[\"Stocks\"]))\n",
        "df = df[df.index < \"2024\"]\n",
        "\n",
        "# We allow a break in the\n",
        "steps = 52\n",
        "data_train = df[:-steps]\n",
        "data_test = df[-steps:]\n",
        "print(\n",
        "    f\"Train dates : {data_train.index.min()} --- \"\n",
        "    f\"{data_train.index.max()}  (n={len(data_train)})\"\n",
        ")\n",
        "print(\n",
        "    f\"Test dates  : {data_test.index.min()} --- \"\n",
        "    f\"{data_test.index.max()}  (n={len(data_test)})\"\n",
        ")\n",
        "\n",
        "# display(df)\n",
        "from sklearn.ensemble import GradientBoostingRegressor\n",
        "est = GradientBoostingRegressor(\n",
        "    n_estimators=100, learning_rate=0.1, max_depth=1, random_state=123,\n",
        "    loss='squared_error'\n",
        ")\n",
        "forecaster = ForecasterAutoreg(\n",
        "    regressor=est, lags=6\n",
        ")\n",
        "forecaster.fit(y=data_train[\"Stocks\"])\n",
        "forecaster\n",
        "\n",
        "predictions = forecaster.predict(steps=steps)\n",
        "predictions.head(5)\n",
        "\n",
        "# Plot predictions versus test data\n",
        "# ==============================================================================\n",
        "\n",
        "fig = make_subplots()\n",
        "fig.add_scatter(\n",
        "    x=data_train.index, y=data_train.Stocks, name=f\"train\\t(n={len(data_train)})\"\n",
        ")\n",
        "fig.add_scatter(\n",
        "    x=data_test.index, y=data_test.Stocks, name=f\"test\\t\\t(n={len(data_test)})\"\n",
        ")\n",
        "fig.add_scatter(\n",
        "    x=predictions.index, y=predictions, name=\"predictions\", line=dict(color=\"#FFA500\")\n",
        ")\n",
        "fig.update_layout(\n",
        "    legend=dict(\n",
        "        yanchor=\"top\", y=0.98, xanchor=\"left\", x=0.01, bgcolor=\"rgba(0, 0, 0, 0)\"\n",
        "    ),\n",
        "    title=\"Philippines Total Rice Stocks (1980-2023)<br>\"\n",
        "    \"<sup>Sum of Household, Commercial, and NFA stocks</sup>\",\n",
        "    yaxis=dict(showgrid=False, title=\"Stocks (mt)\"),\n",
        "    xaxis=dict(showgrid=False, title=\"Period\"),\n",
        ")\n",
        "render(fig)\n",
        "\n",
        "error_mse = mean_squared_error(\n",
        "                y_true = data_test['Stocks'],\n",
        "                y_pred = predictions\n",
        "            )\n",
        "print(f\"Test error (MSE): {error_mse}\")\n",
        "\n",
        "error_rmse = root_mean_squared_error(\n",
        "                y_true = data_test['Stocks'],\n",
        "                y_pred = predictions\n",
        "            )\n",
        "print(f\"Test error (RMSE): {error_rmse}\")\n",
        "\n"
      ]
    },
    {
      "cell_type": "code",
      "execution_count": 35,
      "metadata": {},
      "outputs": [],
      "source": [
        "# Hyperparameters: grid search\n",
        "# ==============================================================================\n",
        "forecaster = ForecasterAutoreg(\n",
        "                 regressor = GradientBoostingRegressor(random_state=123),\n",
        "                 lags      = 12 # This value will be replaced in the grid search\n",
        "             )\n",
        "\n",
        "# Candidate values for lags\n",
        "lags_grid = [10, 20]\n",
        "\n",
        "# # Candidate values for regressor's hyperparameters\n",
        "# param_grid = {\n",
        "#     'n_estimators': [100, 250],\n",
        "#     'max_depth': [3, 5, 10],\n",
        "#     'loss': ['squared_error', 'absolute_error', 'huber', 'quantile'],\n",
        "#     'learning_rate': [0.01, 0.05, 0.1, 0.2],\n",
        "#     'criterion': ['friedman_mse', 'squared_error'],\n",
        "# }\n",
        "\n",
        "# results_grid = grid_search_forecaster(\n",
        "#                    forecaster         = forecaster,\n",
        "#                    y                  = data_train['Stocks'],\n",
        "#                    param_grid         = param_grid,\n",
        "#                    lags_grid          = lags_grid,\n",
        "#                    steps              = steps,\n",
        "#                    refit              = False,\n",
        "#                    metric             = 'mean_squared_error',\n",
        "#                    initial_train_size = int(len(data_train)*0.5),\n",
        "#                    fixed_train_size   = False,\n",
        "#                    return_best        = True,\n",
        "#                    n_jobs             = 'auto',\n",
        "#                    verbose            = False\n",
        "#                )\n"
      ]
    },
    {
      "cell_type": "code",
      "execution_count": 36,
      "metadata": {},
      "outputs": [
        {
          "data": {
            "application/vnd.plotly.v1+json": {
              "config": {
                "plotlyServerURL": "https://plot.ly"
              },
              "data": [
                {
                  "name": "train\t(n=476)",
                  "type": "scatter",
                  "x": [
                    "1980-01-01T00:00:00",
                    "1980-02-01T00:00:00",
                    "1980-03-01T00:00:00",
                    "1980-04-01T00:00:00",
                    "1980-05-01T00:00:00",
                    "1980-06-01T00:00:00",
                    "1980-07-01T00:00:00",
                    "1980-08-01T00:00:00",
                    "1980-09-01T00:00:00",
                    "1980-10-01T00:00:00",
                    "1980-11-01T00:00:00",
                    "1980-12-01T00:00:00",
                    "1981-01-01T00:00:00",
                    "1981-02-01T00:00:00",
                    "1981-03-01T00:00:00",
                    "1981-04-01T00:00:00",
                    "1981-05-01T00:00:00",
                    "1981-06-01T00:00:00",
                    "1981-07-01T00:00:00",
                    "1981-08-01T00:00:00",
                    "1981-09-01T00:00:00",
                    "1981-10-01T00:00:00",
                    "1981-11-01T00:00:00",
                    "1981-12-01T00:00:00",
                    "1982-01-01T00:00:00",
                    "1982-02-01T00:00:00",
                    "1982-03-01T00:00:00",
                    "1982-04-01T00:00:00",
                    "1982-05-01T00:00:00",
                    "1982-06-01T00:00:00",
                    "1982-07-01T00:00:00",
                    "1982-08-01T00:00:00",
                    "1982-09-01T00:00:00",
                    "1982-10-01T00:00:00",
                    "1982-11-01T00:00:00",
                    "1982-12-01T00:00:00",
                    "1983-01-01T00:00:00",
                    "1983-02-01T00:00:00",
                    "1983-03-01T00:00:00",
                    "1983-04-01T00:00:00",
                    "1983-05-01T00:00:00",
                    "1983-06-01T00:00:00",
                    "1983-07-01T00:00:00",
                    "1983-08-01T00:00:00",
                    "1983-09-01T00:00:00",
                    "1983-10-01T00:00:00",
                    "1983-11-01T00:00:00",
                    "1983-12-01T00:00:00",
                    "1984-01-01T00:00:00",
                    "1984-02-01T00:00:00",
                    "1984-03-01T00:00:00",
                    "1984-04-01T00:00:00",
                    "1984-05-01T00:00:00",
                    "1984-06-01T00:00:00",
                    "1984-07-01T00:00:00",
                    "1984-08-01T00:00:00",
                    "1984-09-01T00:00:00",
                    "1984-10-01T00:00:00",
                    "1984-11-01T00:00:00",
                    "1984-12-01T00:00:00",
                    "1985-01-01T00:00:00",
                    "1985-02-01T00:00:00",
                    "1985-03-01T00:00:00",
                    "1985-04-01T00:00:00",
                    "1985-05-01T00:00:00",
                    "1985-06-01T00:00:00",
                    "1985-07-01T00:00:00",
                    "1985-08-01T00:00:00",
                    "1985-09-01T00:00:00",
                    "1985-10-01T00:00:00",
                    "1985-11-01T00:00:00",
                    "1985-12-01T00:00:00",
                    "1986-01-01T00:00:00",
                    "1986-02-01T00:00:00",
                    "1986-03-01T00:00:00",
                    "1986-04-01T00:00:00",
                    "1986-05-01T00:00:00",
                    "1986-06-01T00:00:00",
                    "1986-07-01T00:00:00",
                    "1986-08-01T00:00:00",
                    "1986-09-01T00:00:00",
                    "1986-10-01T00:00:00",
                    "1986-11-01T00:00:00",
                    "1986-12-01T00:00:00",
                    "1987-01-01T00:00:00",
                    "1987-02-01T00:00:00",
                    "1987-03-01T00:00:00",
                    "1987-04-01T00:00:00",
                    "1987-05-01T00:00:00",
                    "1987-06-01T00:00:00",
                    "1987-07-01T00:00:00",
                    "1987-08-01T00:00:00",
                    "1987-09-01T00:00:00",
                    "1987-10-01T00:00:00",
                    "1987-11-01T00:00:00",
                    "1987-12-01T00:00:00",
                    "1988-01-01T00:00:00",
                    "1988-02-01T00:00:00",
                    "1988-03-01T00:00:00",
                    "1988-04-01T00:00:00",
                    "1988-05-01T00:00:00",
                    "1988-06-01T00:00:00",
                    "1988-07-01T00:00:00",
                    "1988-08-01T00:00:00",
                    "1988-09-01T00:00:00",
                    "1988-10-01T00:00:00",
                    "1988-11-01T00:00:00",
                    "1988-12-01T00:00:00",
                    "1989-01-01T00:00:00",
                    "1989-02-01T00:00:00",
                    "1989-03-01T00:00:00",
                    "1989-04-01T00:00:00",
                    "1989-05-01T00:00:00",
                    "1989-06-01T00:00:00",
                    "1989-07-01T00:00:00",
                    "1989-08-01T00:00:00",
                    "1989-09-01T00:00:00",
                    "1989-10-01T00:00:00",
                    "1989-11-01T00:00:00",
                    "1989-12-01T00:00:00",
                    "1990-01-01T00:00:00",
                    "1990-02-01T00:00:00",
                    "1990-03-01T00:00:00",
                    "1990-04-01T00:00:00",
                    "1990-05-01T00:00:00",
                    "1990-06-01T00:00:00",
                    "1990-07-01T00:00:00",
                    "1990-08-01T00:00:00",
                    "1990-09-01T00:00:00",
                    "1990-10-01T00:00:00",
                    "1990-11-01T00:00:00",
                    "1990-12-01T00:00:00",
                    "1991-01-01T00:00:00",
                    "1991-02-01T00:00:00",
                    "1991-03-01T00:00:00",
                    "1991-04-01T00:00:00",
                    "1991-05-01T00:00:00",
                    "1991-06-01T00:00:00",
                    "1991-07-01T00:00:00",
                    "1991-08-01T00:00:00",
                    "1991-09-01T00:00:00",
                    "1991-10-01T00:00:00",
                    "1991-11-01T00:00:00",
                    "1991-12-01T00:00:00",
                    "1992-01-01T00:00:00",
                    "1992-02-01T00:00:00",
                    "1992-03-01T00:00:00",
                    "1992-04-01T00:00:00",
                    "1992-05-01T00:00:00",
                    "1992-06-01T00:00:00",
                    "1992-07-01T00:00:00",
                    "1992-08-01T00:00:00",
                    "1992-09-01T00:00:00",
                    "1992-10-01T00:00:00",
                    "1992-11-01T00:00:00",
                    "1992-12-01T00:00:00",
                    "1993-01-01T00:00:00",
                    "1993-02-01T00:00:00",
                    "1993-03-01T00:00:00",
                    "1993-04-01T00:00:00",
                    "1993-05-01T00:00:00",
                    "1993-06-01T00:00:00",
                    "1993-07-01T00:00:00",
                    "1993-08-01T00:00:00",
                    "1993-09-01T00:00:00",
                    "1993-10-01T00:00:00",
                    "1993-11-01T00:00:00",
                    "1993-12-01T00:00:00",
                    "1994-01-01T00:00:00",
                    "1994-02-01T00:00:00",
                    "1994-03-01T00:00:00",
                    "1994-04-01T00:00:00",
                    "1994-05-01T00:00:00",
                    "1994-06-01T00:00:00",
                    "1994-07-01T00:00:00",
                    "1994-08-01T00:00:00",
                    "1994-09-01T00:00:00",
                    "1994-10-01T00:00:00",
                    "1994-11-01T00:00:00",
                    "1994-12-01T00:00:00",
                    "1995-01-01T00:00:00",
                    "1995-02-01T00:00:00",
                    "1995-03-01T00:00:00",
                    "1995-04-01T00:00:00",
                    "1995-05-01T00:00:00",
                    "1995-06-01T00:00:00",
                    "1995-07-01T00:00:00",
                    "1995-08-01T00:00:00",
                    "1995-09-01T00:00:00",
                    "1995-10-01T00:00:00",
                    "1995-11-01T00:00:00",
                    "1995-12-01T00:00:00",
                    "1996-01-01T00:00:00",
                    "1996-02-01T00:00:00",
                    "1996-03-01T00:00:00",
                    "1996-04-01T00:00:00",
                    "1996-05-01T00:00:00",
                    "1996-06-01T00:00:00",
                    "1996-07-01T00:00:00",
                    "1996-08-01T00:00:00",
                    "1996-09-01T00:00:00",
                    "1996-10-01T00:00:00",
                    "1996-11-01T00:00:00",
                    "1996-12-01T00:00:00",
                    "1997-01-01T00:00:00",
                    "1997-02-01T00:00:00",
                    "1997-03-01T00:00:00",
                    "1997-04-01T00:00:00",
                    "1997-05-01T00:00:00",
                    "1997-06-01T00:00:00",
                    "1997-07-01T00:00:00",
                    "1997-08-01T00:00:00",
                    "1997-09-01T00:00:00",
                    "1997-10-01T00:00:00",
                    "1997-11-01T00:00:00",
                    "1997-12-01T00:00:00",
                    "1998-01-01T00:00:00",
                    "1998-02-01T00:00:00",
                    "1998-03-01T00:00:00",
                    "1998-04-01T00:00:00",
                    "1998-05-01T00:00:00",
                    "1998-06-01T00:00:00",
                    "1998-07-01T00:00:00",
                    "1998-08-01T00:00:00",
                    "1998-09-01T00:00:00",
                    "1998-10-01T00:00:00",
                    "1998-11-01T00:00:00",
                    "1998-12-01T00:00:00",
                    "1999-01-01T00:00:00",
                    "1999-02-01T00:00:00",
                    "1999-03-01T00:00:00",
                    "1999-04-01T00:00:00",
                    "1999-05-01T00:00:00",
                    "1999-06-01T00:00:00",
                    "1999-07-01T00:00:00",
                    "1999-08-01T00:00:00",
                    "1999-09-01T00:00:00",
                    "1999-10-01T00:00:00",
                    "1999-11-01T00:00:00",
                    "1999-12-01T00:00:00",
                    "2000-01-01T00:00:00",
                    "2000-02-01T00:00:00",
                    "2000-03-01T00:00:00",
                    "2000-04-01T00:00:00",
                    "2000-05-01T00:00:00",
                    "2000-06-01T00:00:00",
                    "2000-07-01T00:00:00",
                    "2000-08-01T00:00:00",
                    "2000-09-01T00:00:00",
                    "2000-10-01T00:00:00",
                    "2000-11-01T00:00:00",
                    "2000-12-01T00:00:00",
                    "2001-01-01T00:00:00",
                    "2001-02-01T00:00:00",
                    "2001-03-01T00:00:00",
                    "2001-04-01T00:00:00",
                    "2001-05-01T00:00:00",
                    "2001-06-01T00:00:00",
                    "2001-07-01T00:00:00",
                    "2001-08-01T00:00:00",
                    "2001-09-01T00:00:00",
                    "2001-10-01T00:00:00",
                    "2001-11-01T00:00:00",
                    "2001-12-01T00:00:00",
                    "2002-01-01T00:00:00",
                    "2002-02-01T00:00:00",
                    "2002-03-01T00:00:00",
                    "2002-04-01T00:00:00",
                    "2002-05-01T00:00:00",
                    "2002-06-01T00:00:00",
                    "2002-07-01T00:00:00",
                    "2002-08-01T00:00:00",
                    "2002-09-01T00:00:00",
                    "2002-10-01T00:00:00",
                    "2002-11-01T00:00:00",
                    "2002-12-01T00:00:00",
                    "2003-01-01T00:00:00",
                    "2003-02-01T00:00:00",
                    "2003-03-01T00:00:00",
                    "2003-04-01T00:00:00",
                    "2003-05-01T00:00:00",
                    "2003-06-01T00:00:00",
                    "2003-07-01T00:00:00",
                    "2003-08-01T00:00:00",
                    "2003-09-01T00:00:00",
                    "2003-10-01T00:00:00",
                    "2003-11-01T00:00:00",
                    "2003-12-01T00:00:00",
                    "2004-01-01T00:00:00",
                    "2004-02-01T00:00:00",
                    "2004-03-01T00:00:00",
                    "2004-04-01T00:00:00",
                    "2004-05-01T00:00:00",
                    "2004-06-01T00:00:00",
                    "2004-07-01T00:00:00",
                    "2004-08-01T00:00:00",
                    "2004-09-01T00:00:00",
                    "2004-10-01T00:00:00",
                    "2004-11-01T00:00:00",
                    "2004-12-01T00:00:00",
                    "2005-01-01T00:00:00",
                    "2005-02-01T00:00:00",
                    "2005-03-01T00:00:00",
                    "2005-04-01T00:00:00",
                    "2005-05-01T00:00:00",
                    "2005-06-01T00:00:00",
                    "2005-07-01T00:00:00",
                    "2005-08-01T00:00:00",
                    "2005-09-01T00:00:00",
                    "2005-10-01T00:00:00",
                    "2005-11-01T00:00:00",
                    "2005-12-01T00:00:00",
                    "2006-01-01T00:00:00",
                    "2006-02-01T00:00:00",
                    "2006-03-01T00:00:00",
                    "2006-04-01T00:00:00",
                    "2006-05-01T00:00:00",
                    "2006-06-01T00:00:00",
                    "2006-07-01T00:00:00",
                    "2006-08-01T00:00:00",
                    "2006-09-01T00:00:00",
                    "2006-10-01T00:00:00",
                    "2006-11-01T00:00:00",
                    "2006-12-01T00:00:00",
                    "2007-01-01T00:00:00",
                    "2007-02-01T00:00:00",
                    "2007-03-01T00:00:00",
                    "2007-04-01T00:00:00",
                    "2007-05-01T00:00:00",
                    "2007-06-01T00:00:00",
                    "2007-07-01T00:00:00",
                    "2007-08-01T00:00:00",
                    "2007-09-01T00:00:00",
                    "2007-10-01T00:00:00",
                    "2007-11-01T00:00:00",
                    "2007-12-01T00:00:00",
                    "2008-01-01T00:00:00",
                    "2008-02-01T00:00:00",
                    "2008-03-01T00:00:00",
                    "2008-04-01T00:00:00",
                    "2008-05-01T00:00:00",
                    "2008-06-01T00:00:00",
                    "2008-07-01T00:00:00",
                    "2008-08-01T00:00:00",
                    "2008-09-01T00:00:00",
                    "2008-10-01T00:00:00",
                    "2008-11-01T00:00:00",
                    "2008-12-01T00:00:00",
                    "2009-01-01T00:00:00",
                    "2009-02-01T00:00:00",
                    "2009-03-01T00:00:00",
                    "2009-04-01T00:00:00",
                    "2009-05-01T00:00:00",
                    "2009-06-01T00:00:00",
                    "2009-07-01T00:00:00",
                    "2009-08-01T00:00:00",
                    "2009-09-01T00:00:00",
                    "2009-10-01T00:00:00",
                    "2009-11-01T00:00:00",
                    "2009-12-01T00:00:00",
                    "2010-01-01T00:00:00",
                    "2010-02-01T00:00:00",
                    "2010-03-01T00:00:00",
                    "2010-04-01T00:00:00",
                    "2010-05-01T00:00:00",
                    "2010-06-01T00:00:00",
                    "2010-07-01T00:00:00",
                    "2010-08-01T00:00:00",
                    "2010-09-01T00:00:00",
                    "2010-10-01T00:00:00",
                    "2010-11-01T00:00:00",
                    "2010-12-01T00:00:00",
                    "2011-01-01T00:00:00",
                    "2011-02-01T00:00:00",
                    "2011-03-01T00:00:00",
                    "2011-04-01T00:00:00",
                    "2011-05-01T00:00:00",
                    "2011-06-01T00:00:00",
                    "2011-07-01T00:00:00",
                    "2011-08-01T00:00:00",
                    "2011-09-01T00:00:00",
                    "2011-10-01T00:00:00",
                    "2011-11-01T00:00:00",
                    "2011-12-01T00:00:00",
                    "2012-01-01T00:00:00",
                    "2012-02-01T00:00:00",
                    "2012-03-01T00:00:00",
                    "2012-04-01T00:00:00",
                    "2012-05-01T00:00:00",
                    "2012-06-01T00:00:00",
                    "2012-07-01T00:00:00",
                    "2012-08-01T00:00:00",
                    "2012-09-01T00:00:00",
                    "2012-10-01T00:00:00",
                    "2012-11-01T00:00:00",
                    "2012-12-01T00:00:00",
                    "2013-01-01T00:00:00",
                    "2013-02-01T00:00:00",
                    "2013-03-01T00:00:00",
                    "2013-04-01T00:00:00",
                    "2013-05-01T00:00:00",
                    "2013-06-01T00:00:00",
                    "2013-07-01T00:00:00",
                    "2013-08-01T00:00:00",
                    "2013-09-01T00:00:00",
                    "2013-10-01T00:00:00",
                    "2013-11-01T00:00:00",
                    "2013-12-01T00:00:00",
                    "2014-01-01T00:00:00",
                    "2014-02-01T00:00:00",
                    "2014-03-01T00:00:00",
                    "2014-04-01T00:00:00",
                    "2014-05-01T00:00:00",
                    "2014-06-01T00:00:00",
                    "2014-07-01T00:00:00",
                    "2014-08-01T00:00:00",
                    "2014-09-01T00:00:00",
                    "2014-10-01T00:00:00",
                    "2014-11-01T00:00:00",
                    "2014-12-01T00:00:00",
                    "2015-01-01T00:00:00",
                    "2015-02-01T00:00:00",
                    "2015-03-01T00:00:00",
                    "2015-04-01T00:00:00",
                    "2015-05-01T00:00:00",
                    "2015-06-01T00:00:00",
                    "2015-07-01T00:00:00",
                    "2015-08-01T00:00:00",
                    "2015-09-01T00:00:00",
                    "2015-10-01T00:00:00",
                    "2015-11-01T00:00:00",
                    "2015-12-01T00:00:00",
                    "2016-01-01T00:00:00",
                    "2016-02-01T00:00:00",
                    "2016-03-01T00:00:00",
                    "2016-04-01T00:00:00",
                    "2016-05-01T00:00:00",
                    "2016-06-01T00:00:00",
                    "2016-07-01T00:00:00",
                    "2016-08-01T00:00:00",
                    "2016-09-01T00:00:00",
                    "2016-10-01T00:00:00",
                    "2016-11-01T00:00:00",
                    "2016-12-01T00:00:00",
                    "2017-01-01T00:00:00",
                    "2017-02-01T00:00:00",
                    "2017-03-01T00:00:00",
                    "2017-04-01T00:00:00",
                    "2017-05-01T00:00:00",
                    "2017-06-01T00:00:00",
                    "2017-07-01T00:00:00",
                    "2017-08-01T00:00:00",
                    "2017-09-01T00:00:00",
                    "2017-10-01T00:00:00",
                    "2017-11-01T00:00:00",
                    "2017-12-01T00:00:00",
                    "2018-01-01T00:00:00",
                    "2018-02-01T00:00:00",
                    "2018-03-01T00:00:00",
                    "2018-04-01T00:00:00",
                    "2018-05-01T00:00:00",
                    "2018-06-01T00:00:00",
                    "2018-07-01T00:00:00",
                    "2018-08-01T00:00:00",
                    "2018-09-01T00:00:00",
                    "2018-10-01T00:00:00",
                    "2018-11-01T00:00:00",
                    "2018-12-01T00:00:00",
                    "2019-01-01T00:00:00",
                    "2019-02-01T00:00:00",
                    "2019-03-01T00:00:00",
                    "2019-04-01T00:00:00",
                    "2019-05-01T00:00:00",
                    "2019-06-01T00:00:00",
                    "2019-07-01T00:00:00",
                    "2019-08-01T00:00:00"
                  ],
                  "y": [
                    1885.3,
                    1819,
                    1815.6,
                    1753.4,
                    1812.9,
                    1725.2,
                    1575.2,
                    1359.1,
                    1197.6,
                    1199.8,
                    1468.6,
                    1722.7,
                    1646.5,
                    1452.8,
                    1427.1,
                    1543.9,
                    1573.8,
                    1428.3,
                    1330.6,
                    1103.2,
                    1037.8,
                    1050.8,
                    1390.5,
                    1657.1,
                    1611.2,
                    1515.9,
                    1494.2,
                    1649.3,
                    1758.6,
                    1698.9,
                    1519.7,
                    1325.1,
                    1149.8,
                    1299.1,
                    1737.6,
                    1876.4,
                    1866.4,
                    1712.9,
                    1706.9,
                    1825.9,
                    1872.3,
                    1754.1,
                    1478,
                    1172.2,
                    912.9,
                    763.9,
                    1063.3,
                    1543.7,
                    1491.3,
                    1303.9,
                    1170.9,
                    1318,
                    1482.2,
                    1269.2,
                    990.1,
                    848.5,
                    692.4,
                    795.3,
                    1004.5,
                    1214.4,
                    1144.3,
                    1004.5,
                    919,
                    1043,
                    1113.1,
                    1109.3,
                    999.5,
                    903.5,
                    864.5,
                    1045.8,
                    1597.5,
                    1853.5,
                    1754.5,
                    1593.8,
                    1541.9,
                    1699.6,
                    1771,
                    1701.1,
                    1541.2,
                    1382.9,
                    1251.9,
                    1305,
                    1738.5,
                    1946.2,
                    2017.1,
                    1724.4,
                    1636.1,
                    1741.9,
                    1728.1,
                    1669.3,
                    1417.2,
                    1135.6,
                    923,
                    927.7,
                    1366,
                    1617.1,
                    1575,
                    1382.4,
                    1418.9,
                    1778,
                    1669.8,
                    1578.7,
                    1230.8,
                    1058.8,
                    1012.3,
                    1248.2,
                    1548,
                    1723.9,
                    1517.6,
                    1292.1,
                    1186.6,
                    1320.3,
                    1394.3,
                    1192.7,
                    1079.7,
                    889.8,
                    920.8,
                    1213.2,
                    1415.4,
                    1517,
                    1689.5,
                    1568,
                    1560.5,
                    1485.2,
                    1612.9,
                    1486.4,
                    1366.6,
                    1283.4,
                    1180,
                    1208.2,
                    1729.6,
                    2232.9,
                    1899.3,
                    1739,
                    1692.8,
                    2011.7,
                    2004.4,
                    2125.4,
                    1821.2,
                    1560.1,
                    1344.2,
                    1445.2,
                    1776.1,
                    1970,
                    2120.4,
                    1809.7,
                    1693.2,
                    1848.8,
                    1772.3,
                    1678.1,
                    1627.2,
                    1273.3,
                    1057.4,
                    948.5,
                    1356.5,
                    1550,
                    1673.1,
                    1404.6,
                    1211.6,
                    1341.7,
                    1451.4,
                    1332.3,
                    1368.9,
                    1028.1,
                    868.3,
                    892.8,
                    1250,
                    1490.4,
                    1444.3,
                    1157,
                    1092.6,
                    1362.4,
                    1408.2,
                    1353.6,
                    1258,
                    989.9,
                    888.9,
                    1076.9,
                    1580.6,
                    1706.5,
                    1497.8,
                    1260.8,
                    1120.1,
                    1253,
                    1321.5,
                    1200.4,
                    940.7,
                    703.6,
                    524.4,
                    813.3,
                    1365.1,
                    1578,
                    1422.3,
                    1309.1,
                    1196.7,
                    1522.5,
                    1796.8,
                    1726.7,
                    1602.8,
                    1269.2,
                    1132.2,
                    1327.1,
                    1708.2,
                    1968.6,
                    1793,
                    1520.8,
                    1412,
                    1629.4,
                    1962,
                    1891.8,
                    1819.4,
                    1600.2,
                    1352.6,
                    1410.3,
                    2059.9,
                    2278.1,
                    1979.4,
                    1871.1,
                    1848.1,
                    2221.7,
                    2270.6,
                    2119.5,
                    1944.9,
                    1723.8,
                    1654.2,
                    1710.7,
                    2071.9,
                    2413.6,
                    2279.3,
                    2144.6,
                    2160.7,
                    2419.8,
                    2710.9,
                    2574.1,
                    2381.1,
                    2221.2,
                    1886.1,
                    2032.9,
                    2440.9,
                    2610,
                    2364.5,
                    2042.3,
                    1765.7,
                    1874.9,
                    2067,
                    1835.9,
                    1628.6,
                    1373.8,
                    1195,
                    1485.1,
                    2010.8,
                    2277.6,
                    2166.1,
                    1879.4,
                    1837.8,
                    2110.7,
                    2263.3,
                    2248,
                    2034.9,
                    1851.3,
                    1719.3,
                    1872.6,
                    2594.4,
                    2598,
                    2270.7,
                    1975.2,
                    1808.2,
                    1997.2,
                    2113.2,
                    1788.9,
                    1534.7,
                    1313.4,
                    1193.1,
                    1508.2,
                    2575,
                    2676,
                    2448.1,
                    2289.5,
                    2068.5,
                    2210.3,
                    2390.8,
                    2097.6,
                    1806.1,
                    1566.5,
                    1399.6,
                    1742.4,
                    2525,
                    2607,
                    2362.1,
                    2068,
                    1857.7,
                    2147.4,
                    2338.7,
                    1880.1,
                    1577.4,
                    1340.8,
                    1189.1,
                    1559.5,
                    2289.8,
                    2404.5,
                    2050.9,
                    1777.4,
                    1455.6,
                    1744.7,
                    1999.2,
                    1879.3,
                    1638.2,
                    1457.1,
                    1308,
                    1592.7,
                    2255.3,
                    2406.2,
                    2094.3,
                    1885.9,
                    1719.9,
                    2192.9,
                    2422.5,
                    2217.3,
                    1960.1,
                    1754.2,
                    1649.5,
                    1825.3,
                    2435.2,
                    2580.4,
                    2253.1,
                    1841.3,
                    1588.6,
                    1654.5,
                    1893.5,
                    1629.1,
                    1529.1,
                    1354.6,
                    1135.8,
                    1375.1,
                    2038.3,
                    2291.5,
                    2172.3,
                    1834.9,
                    1688.7,
                    1891.4,
                    2265.4,
                    2209.5,
                    2185.2,
                    1902.1,
                    1923.1,
                    2177.1,
                    2937.8,
                    2954.1,
                    2638.6,
                    2279,
                    2167.7,
                    2478.6,
                    2683.9,
                    2683.4,
                    2776.3,
                    2380.7,
                    2322.2,
                    2485.3,
                    2958.6,
                    2897.3,
                    2629.1,
                    2463.3,
                    2251.9,
                    2773.4,
                    3322,
                    3357.7,
                    3353.5,
                    3184.2,
                    3034,
                    3151.1,
                    3794.6,
                    3908,
                    3424.3,
                    3049.6,
                    2853,
                    3080.6,
                    3396.5,
                    3093.6,
                    3021.8,
                    2720.4,
                    2415.2,
                    2739.2,
                    3216.8,
                    3097.5,
                    2627.4,
                    2331.4,
                    2012.6,
                    2637.8,
                    2673.3,
                    2287.31,
                    1915.11,
                    1616.6,
                    1441.9,
                    1999,
                    2784.6,
                    2613.2,
                    2524.2,
                    2023.6,
                    1938.6,
                    2327.6,
                    2614.4,
                    2313.5,
                    2194.06,
                    1859.5,
                    1530.31,
                    1771.3,
                    2438.7,
                    2492.9,
                    2125.5,
                    2003.81,
                    1784.78,
                    2182.48,
                    2520.18,
                    2306.16,
                    2025.01,
                    1721.78,
                    1488.72,
                    1805.31,
                    2952.74,
                    3031.53,
                    2662.05,
                    2350.6,
                    2265.51,
                    2542.68,
                    3167.25,
                    3019.42,
                    2568.19,
                    2244.38,
                    1955.5,
                    2196.18,
                    3107.3,
                    3441.41,
                    3198.79,
                    2942.84,
                    2674.17,
                    3359.01,
                    3689.41,
                    3235.29,
                    2733.64,
                    2103.16,
                    1775.76,
                    2286.57,
                    3302.33,
                    3338.98,
                    2765.12,
                    2296.32,
                    2176.2,
                    2675.55,
                    3214.18,
                    2572.94,
                    2347.9,
                    2028,
                    1422.84,
                    1935.87,
                    2958.73,
                    2849.37,
                    2289.65,
                    1795.78,
                    1697.37,
                    2182.67,
                    2909.46,
                    2360.98,
                    1990.82,
                    1520.76,
                    1168.03,
                    1589.89,
                    3000.45,
                    2718.48,
                    2550.7,
                    2141.23,
                    2221.42,
                    2629.03,
                    2947.42,
                    2598.34,
                    2625.25,
                    2133.84
                  ]
                },
                {
                  "name": "test\t\t(n=52)",
                  "type": "scatter",
                  "x": [
                    "2019-09-01T00:00:00",
                    "2019-10-01T00:00:00",
                    "2019-11-01T00:00:00",
                    "2019-12-01T00:00:00",
                    "2020-01-01T00:00:00",
                    "2020-02-01T00:00:00",
                    "2020-03-01T00:00:00",
                    "2020-04-01T00:00:00",
                    "2020-05-01T00:00:00",
                    "2020-06-01T00:00:00",
                    "2020-07-01T00:00:00",
                    "2020-08-01T00:00:00",
                    "2020-09-01T00:00:00",
                    "2020-10-01T00:00:00",
                    "2020-11-01T00:00:00",
                    "2020-12-01T00:00:00",
                    "2021-01-01T00:00:00",
                    "2021-02-01T00:00:00",
                    "2021-03-01T00:00:00",
                    "2021-04-01T00:00:00",
                    "2021-05-01T00:00:00",
                    "2021-06-01T00:00:00",
                    "2021-07-01T00:00:00",
                    "2021-08-01T00:00:00",
                    "2021-09-01T00:00:00",
                    "2021-10-01T00:00:00",
                    "2021-11-01T00:00:00",
                    "2021-12-01T00:00:00",
                    "2022-01-01T00:00:00",
                    "2022-02-01T00:00:00",
                    "2022-03-01T00:00:00",
                    "2022-04-01T00:00:00",
                    "2022-05-01T00:00:00",
                    "2022-06-01T00:00:00",
                    "2022-07-01T00:00:00",
                    "2022-08-01T00:00:00",
                    "2022-09-01T00:00:00",
                    "2022-10-01T00:00:00",
                    "2022-11-01T00:00:00",
                    "2022-12-01T00:00:00",
                    "2023-01-01T00:00:00",
                    "2023-02-01T00:00:00",
                    "2023-03-01T00:00:00",
                    "2023-04-01T00:00:00",
                    "2023-05-01T00:00:00",
                    "2023-06-01T00:00:00",
                    "2023-07-01T00:00:00",
                    "2023-08-01T00:00:00",
                    "2023-09-01T00:00:00",
                    "2023-10-01T00:00:00",
                    "2023-11-01T00:00:00",
                    "2023-12-01T00:00:00"
                  ],
                  "y": [
                    1842.37,
                    2279.73,
                    2962.46,
                    3098.01,
                    2675.04,
                    2375.5,
                    2178.64,
                    2367.87,
                    2779.03,
                    2395.94,
                    2104.76,
                    1786.25,
                    1784.82,
                    2641.08,
                    3158.54,
                    2766.4,
                    2332,
                    2193.1,
                    2080.1,
                    2444.31,
                    2584.9,
                    2530.82,
                    2177.68,
                    1578.31,
                    1332.36,
                    1954.72,
                    2418.43,
                    2377.85,
                    1859.45,
                    1609.25,
                    1632.51,
                    2506.13,
                    2279.96,
                    2090.62,
                    2034.57,
                    1633.36,
                    1450.89,
                    2081.84,
                    2649.81,
                    2534.59,
                    1850.45,
                    1523.03,
                    1408.85,
                    1843.05,
                    1882.06,
                    1818.21,
                    1804.17,
                    1632.45,
                    1546.09,
                    2024.33,
                    1978.56,
                    1895.78
                  ]
                },
                {
                  "line": {
                    "color": "#FFA500"
                  },
                  "name": "predictions",
                  "type": "scatter",
                  "x": [
                    "2019-09-01T00:00:00",
                    "2019-10-01T00:00:00",
                    "2019-11-01T00:00:00",
                    "2019-12-01T00:00:00",
                    "2020-01-01T00:00:00",
                    "2020-02-01T00:00:00",
                    "2020-03-01T00:00:00",
                    "2020-04-01T00:00:00",
                    "2020-05-01T00:00:00",
                    "2020-06-01T00:00:00",
                    "2020-07-01T00:00:00",
                    "2020-08-01T00:00:00",
                    "2020-09-01T00:00:00",
                    "2020-10-01T00:00:00",
                    "2020-11-01T00:00:00",
                    "2020-12-01T00:00:00",
                    "2021-01-01T00:00:00",
                    "2021-02-01T00:00:00",
                    "2021-03-01T00:00:00",
                    "2021-04-01T00:00:00",
                    "2021-05-01T00:00:00",
                    "2021-06-01T00:00:00",
                    "2021-07-01T00:00:00",
                    "2021-08-01T00:00:00",
                    "2021-09-01T00:00:00",
                    "2021-10-01T00:00:00",
                    "2021-11-01T00:00:00",
                    "2021-12-01T00:00:00",
                    "2022-01-01T00:00:00",
                    "2022-02-01T00:00:00",
                    "2022-03-01T00:00:00",
                    "2022-04-01T00:00:00",
                    "2022-05-01T00:00:00",
                    "2022-06-01T00:00:00",
                    "2022-07-01T00:00:00",
                    "2022-08-01T00:00:00",
                    "2022-09-01T00:00:00",
                    "2022-10-01T00:00:00",
                    "2022-11-01T00:00:00",
                    "2022-12-01T00:00:00",
                    "2023-01-01T00:00:00",
                    "2023-02-01T00:00:00",
                    "2023-03-01T00:00:00",
                    "2023-04-01T00:00:00",
                    "2023-05-01T00:00:00",
                    "2023-06-01T00:00:00",
                    "2023-07-01T00:00:00",
                    "2023-08-01T00:00:00",
                    "2023-09-01T00:00:00",
                    "2023-10-01T00:00:00",
                    "2023-11-01T00:00:00",
                    "2023-12-01T00:00:00"
                  ],
                  "y": [
                    1985.413643715994,
                    2143.211172898226,
                    2824.8749866666685,
                    2717.4074168041907,
                    2532.201843599442,
                    2262.147022786658,
                    2236.748686995344,
                    2568.46064395338,
                    2718.848226697788,
                    2557.5745696972417,
                    2332.0163319678304,
                    2057.5831218128164,
                    1887.082718966842,
                    2048.001291936672,
                    2521.3951580808075,
                    2419.5169067951647,
                    2248.4301921096826,
                    2086.536553890705,
                    1950.6953139408884,
                    2145.3447092718875,
                    2383.9761171761456,
                    2262.870008419985,
                    2027.9657751033476,
                    1766.3910075094368,
                    1721.8512330445903,
                    1903.7897778349557,
                    2267.010717166912,
                    2335.3976839170596,
                    2099.6068111679765,
                    1857.8383721884761,
                    1745.0296516426006,
                    1918.9425946863878,
                    2154.3331483047573,
                    2149.3725783551477,
                    1986.1040739229195,
                    1797.8035245451094,
                    1683.6231631602475,
                    1869.1532998669875,
                    2194.333298846714,
                    2358.5875721246953,
                    2114.4289520754096,
                    1860.5289359238623,
                    1710.3717414995992,
                    1856.1475262200233,
                    2046.733706606074,
                    2077.598953965088,
                    1899.5033806897884,
                    1762.4649005413746,
                    1664.7674007821984,
                    1737.2119334873917,
                    2037.8164786704453,
                    2177.5338599187567
                  ]
                }
              ],
              "layout": {
                "legend": {
                  "bgcolor": "rgba(0, 0, 0, 0)",
                  "x": 0.01,
                  "xanchor": "left",
                  "y": 0.98,
                  "yanchor": "top"
                },
                "template": {
                  "data": {
                    "bar": [
                      {
                        "error_x": {
                          "color": "#2a3f5f"
                        },
                        "error_y": {
                          "color": "#2a3f5f"
                        },
                        "marker": {
                          "line": {
                            "color": "#E5ECF6",
                            "width": 0.5
                          },
                          "pattern": {
                            "fillmode": "overlay",
                            "size": 10,
                            "solidity": 0.2
                          }
                        },
                        "type": "bar"
                      }
                    ],
                    "barpolar": [
                      {
                        "marker": {
                          "line": {
                            "color": "#E5ECF6",
                            "width": 0.5
                          },
                          "pattern": {
                            "fillmode": "overlay",
                            "size": 10,
                            "solidity": 0.2
                          }
                        },
                        "type": "barpolar"
                      }
                    ],
                    "carpet": [
                      {
                        "aaxis": {
                          "endlinecolor": "#2a3f5f",
                          "gridcolor": "white",
                          "linecolor": "white",
                          "minorgridcolor": "white",
                          "startlinecolor": "#2a3f5f"
                        },
                        "baxis": {
                          "endlinecolor": "#2a3f5f",
                          "gridcolor": "white",
                          "linecolor": "white",
                          "minorgridcolor": "white",
                          "startlinecolor": "#2a3f5f"
                        },
                        "type": "carpet"
                      }
                    ],
                    "choropleth": [
                      {
                        "colorbar": {
                          "outlinewidth": 0,
                          "ticks": ""
                        },
                        "type": "choropleth"
                      }
                    ],
                    "contour": [
                      {
                        "colorbar": {
                          "outlinewidth": 0,
                          "ticks": ""
                        },
                        "colorscale": [
                          [
                            0,
                            "#0d0887"
                          ],
                          [
                            0.1111111111111111,
                            "#46039f"
                          ],
                          [
                            0.2222222222222222,
                            "#7201a8"
                          ],
                          [
                            0.3333333333333333,
                            "#9c179e"
                          ],
                          [
                            0.4444444444444444,
                            "#bd3786"
                          ],
                          [
                            0.5555555555555556,
                            "#d8576b"
                          ],
                          [
                            0.6666666666666666,
                            "#ed7953"
                          ],
                          [
                            0.7777777777777778,
                            "#fb9f3a"
                          ],
                          [
                            0.8888888888888888,
                            "#fdca26"
                          ],
                          [
                            1,
                            "#f0f921"
                          ]
                        ],
                        "type": "contour"
                      }
                    ],
                    "contourcarpet": [
                      {
                        "colorbar": {
                          "outlinewidth": 0,
                          "ticks": ""
                        },
                        "type": "contourcarpet"
                      }
                    ],
                    "heatmap": [
                      {
                        "colorbar": {
                          "outlinewidth": 0,
                          "ticks": ""
                        },
                        "colorscale": [
                          [
                            0,
                            "#0d0887"
                          ],
                          [
                            0.1111111111111111,
                            "#46039f"
                          ],
                          [
                            0.2222222222222222,
                            "#7201a8"
                          ],
                          [
                            0.3333333333333333,
                            "#9c179e"
                          ],
                          [
                            0.4444444444444444,
                            "#bd3786"
                          ],
                          [
                            0.5555555555555556,
                            "#d8576b"
                          ],
                          [
                            0.6666666666666666,
                            "#ed7953"
                          ],
                          [
                            0.7777777777777778,
                            "#fb9f3a"
                          ],
                          [
                            0.8888888888888888,
                            "#fdca26"
                          ],
                          [
                            1,
                            "#f0f921"
                          ]
                        ],
                        "type": "heatmap"
                      }
                    ],
                    "heatmapgl": [
                      {
                        "colorbar": {
                          "outlinewidth": 0,
                          "ticks": ""
                        },
                        "colorscale": [
                          [
                            0,
                            "#0d0887"
                          ],
                          [
                            0.1111111111111111,
                            "#46039f"
                          ],
                          [
                            0.2222222222222222,
                            "#7201a8"
                          ],
                          [
                            0.3333333333333333,
                            "#9c179e"
                          ],
                          [
                            0.4444444444444444,
                            "#bd3786"
                          ],
                          [
                            0.5555555555555556,
                            "#d8576b"
                          ],
                          [
                            0.6666666666666666,
                            "#ed7953"
                          ],
                          [
                            0.7777777777777778,
                            "#fb9f3a"
                          ],
                          [
                            0.8888888888888888,
                            "#fdca26"
                          ],
                          [
                            1,
                            "#f0f921"
                          ]
                        ],
                        "type": "heatmapgl"
                      }
                    ],
                    "histogram": [
                      {
                        "marker": {
                          "pattern": {
                            "fillmode": "overlay",
                            "size": 10,
                            "solidity": 0.2
                          }
                        },
                        "type": "histogram"
                      }
                    ],
                    "histogram2d": [
                      {
                        "colorbar": {
                          "outlinewidth": 0,
                          "ticks": ""
                        },
                        "colorscale": [
                          [
                            0,
                            "#0d0887"
                          ],
                          [
                            0.1111111111111111,
                            "#46039f"
                          ],
                          [
                            0.2222222222222222,
                            "#7201a8"
                          ],
                          [
                            0.3333333333333333,
                            "#9c179e"
                          ],
                          [
                            0.4444444444444444,
                            "#bd3786"
                          ],
                          [
                            0.5555555555555556,
                            "#d8576b"
                          ],
                          [
                            0.6666666666666666,
                            "#ed7953"
                          ],
                          [
                            0.7777777777777778,
                            "#fb9f3a"
                          ],
                          [
                            0.8888888888888888,
                            "#fdca26"
                          ],
                          [
                            1,
                            "#f0f921"
                          ]
                        ],
                        "type": "histogram2d"
                      }
                    ],
                    "histogram2dcontour": [
                      {
                        "colorbar": {
                          "outlinewidth": 0,
                          "ticks": ""
                        },
                        "colorscale": [
                          [
                            0,
                            "#0d0887"
                          ],
                          [
                            0.1111111111111111,
                            "#46039f"
                          ],
                          [
                            0.2222222222222222,
                            "#7201a8"
                          ],
                          [
                            0.3333333333333333,
                            "#9c179e"
                          ],
                          [
                            0.4444444444444444,
                            "#bd3786"
                          ],
                          [
                            0.5555555555555556,
                            "#d8576b"
                          ],
                          [
                            0.6666666666666666,
                            "#ed7953"
                          ],
                          [
                            0.7777777777777778,
                            "#fb9f3a"
                          ],
                          [
                            0.8888888888888888,
                            "#fdca26"
                          ],
                          [
                            1,
                            "#f0f921"
                          ]
                        ],
                        "type": "histogram2dcontour"
                      }
                    ],
                    "mesh3d": [
                      {
                        "colorbar": {
                          "outlinewidth": 0,
                          "ticks": ""
                        },
                        "type": "mesh3d"
                      }
                    ],
                    "parcoords": [
                      {
                        "line": {
                          "colorbar": {
                            "outlinewidth": 0,
                            "ticks": ""
                          }
                        },
                        "type": "parcoords"
                      }
                    ],
                    "pie": [
                      {
                        "automargin": true,
                        "type": "pie"
                      }
                    ],
                    "scatter": [
                      {
                        "fillpattern": {
                          "fillmode": "overlay",
                          "size": 10,
                          "solidity": 0.2
                        },
                        "type": "scatter"
                      }
                    ],
                    "scatter3d": [
                      {
                        "line": {
                          "colorbar": {
                            "outlinewidth": 0,
                            "ticks": ""
                          }
                        },
                        "marker": {
                          "colorbar": {
                            "outlinewidth": 0,
                            "ticks": ""
                          }
                        },
                        "type": "scatter3d"
                      }
                    ],
                    "scattercarpet": [
                      {
                        "marker": {
                          "colorbar": {
                            "outlinewidth": 0,
                            "ticks": ""
                          }
                        },
                        "type": "scattercarpet"
                      }
                    ],
                    "scattergeo": [
                      {
                        "marker": {
                          "colorbar": {
                            "outlinewidth": 0,
                            "ticks": ""
                          }
                        },
                        "type": "scattergeo"
                      }
                    ],
                    "scattergl": [
                      {
                        "marker": {
                          "colorbar": {
                            "outlinewidth": 0,
                            "ticks": ""
                          }
                        },
                        "type": "scattergl"
                      }
                    ],
                    "scattermapbox": [
                      {
                        "marker": {
                          "colorbar": {
                            "outlinewidth": 0,
                            "ticks": ""
                          }
                        },
                        "type": "scattermapbox"
                      }
                    ],
                    "scatterpolar": [
                      {
                        "marker": {
                          "colorbar": {
                            "outlinewidth": 0,
                            "ticks": ""
                          }
                        },
                        "type": "scatterpolar"
                      }
                    ],
                    "scatterpolargl": [
                      {
                        "marker": {
                          "colorbar": {
                            "outlinewidth": 0,
                            "ticks": ""
                          }
                        },
                        "type": "scatterpolargl"
                      }
                    ],
                    "scatterternary": [
                      {
                        "marker": {
                          "colorbar": {
                            "outlinewidth": 0,
                            "ticks": ""
                          }
                        },
                        "type": "scatterternary"
                      }
                    ],
                    "surface": [
                      {
                        "colorbar": {
                          "outlinewidth": 0,
                          "ticks": ""
                        },
                        "colorscale": [
                          [
                            0,
                            "#0d0887"
                          ],
                          [
                            0.1111111111111111,
                            "#46039f"
                          ],
                          [
                            0.2222222222222222,
                            "#7201a8"
                          ],
                          [
                            0.3333333333333333,
                            "#9c179e"
                          ],
                          [
                            0.4444444444444444,
                            "#bd3786"
                          ],
                          [
                            0.5555555555555556,
                            "#d8576b"
                          ],
                          [
                            0.6666666666666666,
                            "#ed7953"
                          ],
                          [
                            0.7777777777777778,
                            "#fb9f3a"
                          ],
                          [
                            0.8888888888888888,
                            "#fdca26"
                          ],
                          [
                            1,
                            "#f0f921"
                          ]
                        ],
                        "type": "surface"
                      }
                    ],
                    "table": [
                      {
                        "cells": {
                          "fill": {
                            "color": "#EBF0F8"
                          },
                          "line": {
                            "color": "white"
                          }
                        },
                        "header": {
                          "fill": {
                            "color": "#C8D4E3"
                          },
                          "line": {
                            "color": "white"
                          }
                        },
                        "type": "table"
                      }
                    ]
                  },
                  "layout": {
                    "annotationdefaults": {
                      "arrowcolor": "#2a3f5f",
                      "arrowhead": 0,
                      "arrowwidth": 1
                    },
                    "autotypenumbers": "strict",
                    "coloraxis": {
                      "colorbar": {
                        "outlinewidth": 0,
                        "ticks": ""
                      }
                    },
                    "colorscale": {
                      "diverging": [
                        [
                          0,
                          "#8e0152"
                        ],
                        [
                          0.1,
                          "#c51b7d"
                        ],
                        [
                          0.2,
                          "#de77ae"
                        ],
                        [
                          0.3,
                          "#f1b6da"
                        ],
                        [
                          0.4,
                          "#fde0ef"
                        ],
                        [
                          0.5,
                          "#f7f7f7"
                        ],
                        [
                          0.6,
                          "#e6f5d0"
                        ],
                        [
                          0.7,
                          "#b8e186"
                        ],
                        [
                          0.8,
                          "#7fbc41"
                        ],
                        [
                          0.9,
                          "#4d9221"
                        ],
                        [
                          1,
                          "#276419"
                        ]
                      ],
                      "sequential": [
                        [
                          0,
                          "#0d0887"
                        ],
                        [
                          0.1111111111111111,
                          "#46039f"
                        ],
                        [
                          0.2222222222222222,
                          "#7201a8"
                        ],
                        [
                          0.3333333333333333,
                          "#9c179e"
                        ],
                        [
                          0.4444444444444444,
                          "#bd3786"
                        ],
                        [
                          0.5555555555555556,
                          "#d8576b"
                        ],
                        [
                          0.6666666666666666,
                          "#ed7953"
                        ],
                        [
                          0.7777777777777778,
                          "#fb9f3a"
                        ],
                        [
                          0.8888888888888888,
                          "#fdca26"
                        ],
                        [
                          1,
                          "#f0f921"
                        ]
                      ],
                      "sequentialminus": [
                        [
                          0,
                          "#0d0887"
                        ],
                        [
                          0.1111111111111111,
                          "#46039f"
                        ],
                        [
                          0.2222222222222222,
                          "#7201a8"
                        ],
                        [
                          0.3333333333333333,
                          "#9c179e"
                        ],
                        [
                          0.4444444444444444,
                          "#bd3786"
                        ],
                        [
                          0.5555555555555556,
                          "#d8576b"
                        ],
                        [
                          0.6666666666666666,
                          "#ed7953"
                        ],
                        [
                          0.7777777777777778,
                          "#fb9f3a"
                        ],
                        [
                          0.8888888888888888,
                          "#fdca26"
                        ],
                        [
                          1,
                          "#f0f921"
                        ]
                      ]
                    },
                    "colorway": [
                      "#636efa",
                      "#EF553B",
                      "#00cc96",
                      "#ab63fa",
                      "#FFA15A",
                      "#19d3f3",
                      "#FF6692",
                      "#B6E880",
                      "#FF97FF",
                      "#FECB52"
                    ],
                    "font": {
                      "color": "#2a3f5f"
                    },
                    "geo": {
                      "bgcolor": "white",
                      "lakecolor": "white",
                      "landcolor": "#E5ECF6",
                      "showlakes": true,
                      "showland": true,
                      "subunitcolor": "white"
                    },
                    "hoverlabel": {
                      "align": "left"
                    },
                    "hovermode": "closest",
                    "mapbox": {
                      "style": "light"
                    },
                    "paper_bgcolor": "white",
                    "plot_bgcolor": "#E5ECF6",
                    "polar": {
                      "angularaxis": {
                        "gridcolor": "white",
                        "linecolor": "white",
                        "ticks": ""
                      },
                      "bgcolor": "#E5ECF6",
                      "radialaxis": {
                        "gridcolor": "white",
                        "linecolor": "white",
                        "ticks": ""
                      }
                    },
                    "scene": {
                      "xaxis": {
                        "backgroundcolor": "#E5ECF6",
                        "gridcolor": "white",
                        "gridwidth": 2,
                        "linecolor": "white",
                        "showbackground": true,
                        "ticks": "",
                        "zerolinecolor": "white"
                      },
                      "yaxis": {
                        "backgroundcolor": "#E5ECF6",
                        "gridcolor": "white",
                        "gridwidth": 2,
                        "linecolor": "white",
                        "showbackground": true,
                        "ticks": "",
                        "zerolinecolor": "white"
                      },
                      "zaxis": {
                        "backgroundcolor": "#E5ECF6",
                        "gridcolor": "white",
                        "gridwidth": 2,
                        "linecolor": "white",
                        "showbackground": true,
                        "ticks": "",
                        "zerolinecolor": "white"
                      }
                    },
                    "shapedefaults": {
                      "line": {
                        "color": "#2a3f5f"
                      }
                    },
                    "ternary": {
                      "aaxis": {
                        "gridcolor": "white",
                        "linecolor": "white",
                        "ticks": ""
                      },
                      "baxis": {
                        "gridcolor": "white",
                        "linecolor": "white",
                        "ticks": ""
                      },
                      "bgcolor": "#E5ECF6",
                      "caxis": {
                        "gridcolor": "white",
                        "linecolor": "white",
                        "ticks": ""
                      }
                    },
                    "title": {
                      "x": 0.05
                    },
                    "xaxis": {
                      "automargin": true,
                      "gridcolor": "white",
                      "linecolor": "white",
                      "ticks": "",
                      "title": {
                        "standoff": 15
                      },
                      "zerolinecolor": "white",
                      "zerolinewidth": 2
                    },
                    "yaxis": {
                      "automargin": true,
                      "gridcolor": "white",
                      "linecolor": "white",
                      "ticks": "",
                      "title": {
                        "standoff": 15
                      },
                      "zerolinecolor": "white",
                      "zerolinewidth": 2
                    }
                  }
                },
                "title": {
                  "text": "Philippines Total Rice Stocks (1980-2023)<br><sup>Sum of Household, Commercial, and NFA stocks</sup>"
                },
                "xaxis": {
                  "anchor": "y",
                  "domain": [
                    0,
                    1
                  ],
                  "showgrid": false,
                  "title": {
                    "text": "Period"
                  }
                },
                "yaxis": {
                  "anchor": "x",
                  "domain": [
                    0,
                    1
                  ],
                  "showgrid": false,
                  "title": {
                    "text": "Stocks (mt)"
                  }
                }
              }
            }
          },
          "metadata": {},
          "output_type": "display_data"
        },
        {
          "name": "stdout",
          "output_type": "stream",
          "text": [
            "Test error (MSE): 62203.20123843953\n",
            "Test error (RMSE): 249.40569608258656\n"
          ]
        }
      ],
      "source": [
        "regressor = RandomForestRegressor(n_estimators=250, max_depth=10, random_state=123)\n",
        "est = GradientBoostingRegressor(\n",
        "    criterion=\"squared_error\",\n",
        "    learning_rate=0.1,\n",
        "    loss=\"huber\",\n",
        "    max_depth=10,\n",
        "    n_estimators=250,\n",
        "    random_state=123,\n",
        ")\n",
        "forecaster = ForecasterAutoreg(regressor=regressor, lags=20)\n",
        "forecaster.fit(y=data_train[\"Stocks\"])\n",
        "predictions = forecaster.predict(steps=steps)\n",
        "\n",
        "fig = make_subplots()\n",
        "fig.add_scatter(\n",
        "    x=data_train.index, y=data_train.Stocks, name=f\"train\\t(n={len(data_train)})\"\n",
        ")\n",
        "fig.add_scatter(\n",
        "    x=data_test.index, y=data_test.Stocks, name=f\"test\\t\\t(n={len(data_test)})\"\n",
        ")\n",
        "fig.add_scatter(\n",
        "    x=predictions.index, y=predictions, name=\"predictions\", line=dict(color=\"#FFA500\")\n",
        ")\n",
        "fig.update_layout(\n",
        "    legend=dict(\n",
        "        yanchor=\"top\", y=0.98, xanchor=\"left\", x=0.01, bgcolor=\"rgba(0, 0, 0, 0)\"\n",
        "    ),\n",
        "    title=\"Philippines Total Rice Stocks (1980-2023)<br>\"\n",
        "    \"<sup>Sum of Household, Commercial, and NFA stocks</sup>\",\n",
        "    yaxis=dict(showgrid=False, title=\"Stocks (mt)\"),\n",
        "    xaxis=dict(showgrid=False, title=\"Period\"),\n",
        ")\n",
        "render(fig)\n",
        "\n",
        "error_mse = mean_squared_error(y_true=data_test[\"Stocks\"], y_pred=predictions)\n",
        "print(f\"Test error (MSE): {error_mse}\")\n",
        "\n",
        "error_rmse = root_mean_squared_error(y_true=data_test[\"Stocks\"], y_pred=predictions)\n",
        "print(f\"Test error (RMSE): {error_rmse}\")\n"
      ]
    },
    {
      "cell_type": "code",
      "execution_count": 37,
      "metadata": {},
      "outputs": [],
      "source": [
        "# tscv = TimeSeriesSplit()\n",
        "# splits = list(tscv.split(df))\n",
        "# for train, test in splits:\n",
        "#     print(train, test)\n",
        "    \n",
        "# from sklearn.compose import ColumnTransformer\n",
        "# from sklearn.ensemble import HistGradientBoostingRegressor\n",
        "# from sklearn.model_selection import cross_validate\n",
        "# from sklearn.pipeline import make_pipeline\n",
        "\n",
        "# gbrt = HistGradientBoostingRegressor(categorical_features=\"from_dtype\", random_state=42)\n",
        "# categorical_columns = X.columns[X.dtypes == \"category\"]\n",
        "# print(\"Categorical features:\", categorical_columns.tolist())\n",
        "    \n",
        "# import numpy as np\n",
        "\n",
        "\n",
        "# def evaluate(model, X, y, cv, model_prop=None, model_step=None):\n",
        "#     cv_results = cross_validate(\n",
        "#         model,\n",
        "#         X,\n",
        "#         y,\n",
        "#         cv=cv,\n",
        "#         scoring=[\"neg_mean_absolute_error\", \"neg_root_mean_squared_error\"],\n",
        "#         return_estimator=model_prop is not None,\n",
        "#     )\n",
        "#     if model_prop is not None:\n",
        "#         if model_step is not None:\n",
        "#             values = [\n",
        "#                 getattr(m[model_step], model_prop) for m in cv_results[\"estimator\"]\n",
        "#             ]\n",
        "#         else:\n",
        "#             values = [getattr(m, model_prop) for m in cv_results[\"estimator\"]]\n",
        "#         print(f\"Mean model.{model_prop} = {np.mean(values)}\")\n",
        "#     mae = -cv_results[\"test_neg_mean_absolute_error\"]\n",
        "#     rmse = -cv_results[\"test_neg_root_mean_squared_error\"]\n",
        "#     print(\n",
        "#         f\"Mean Absolute Error:     {mae.mean():.3f} +/- {mae.std():.3f}\\n\"\n",
        "#         f\"Root Mean Squared Error: {rmse.mean():.3f} +/- {rmse.std():.3f}\"\n",
        "#     )\n",
        "\n",
        "\n",
        "# evaluate(gbrt, X, y, cv=ts_cv, model_prop=\"n_iter_\")"
      ]
    }
  ],
  "metadata": {
    "colab": {
      "include_colab_link": true,
      "provenance": [],
      "toc_visible": true
    },
    "kernelspec": {
      "display_name": "Python 3",
      "name": "python3"
    },
    "language_info": {
      "codemirror_mode": {
        "name": "ipython",
        "version": 3
      },
      "file_extension": ".py",
      "mimetype": "text/x-python",
      "name": "python",
      "nbconvert_exporter": "python",
      "pygments_lexer": "ipython3",
      "version": "3.11.8"
    }
  },
  "nbformat": 4,
  "nbformat_minor": 0
}
