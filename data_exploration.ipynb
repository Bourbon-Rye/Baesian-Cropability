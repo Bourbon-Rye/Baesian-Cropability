{
  "cells": [
    {
      "cell_type": "markdown",
      "metadata": {
        "colab_type": "text",
        "id": "view-in-github"
      },
      "source": [
        "<a href=\"https://colab.research.google.com/github/Bourbon-Rye/Baesian-Cropability/blob/main/PilipiNuts_2023_Baesian_Cropability.ipynb\" target=\"_parent\"><img src=\"https://colab.research.google.com/assets/colab-badge.svg\" alt=\"Open In Colab\"/></a>"
      ]
    },
    {
      "cell_type": "markdown",
      "metadata": {},
      "source": [
        "# Setup"
      ]
    },
    {
      "cell_type": "code",
      "execution_count": 135,
      "metadata": {},
      "outputs": [],
      "source": [
        "# @Libraries\n",
        "import numpy as np\n",
        "import pandas as pd\n",
        "import seaborn as sns\n",
        "\n",
        "import plotly.express as px\n",
        "import plotly.graph_objects as go\n",
        "import plotly.io as pio\n",
        "import matplotlib.pyplot as plt\n",
        "import json\n",
        "import re\n",
        "import functools\n",
        "\n",
        "from pathlib import Path\n",
        "from sklearn import preprocessing\n",
        "from plotly.subplots import make_subplots\n",
        "from plotly import offline\n",
        "from scipy import stats\n",
        "from sklearn.impute import SimpleImputer\n",
        "from matplotlib import figure"
      ]
    },
    {
      "cell_type": "code",
      "execution_count": 136,
      "metadata": {},
      "outputs": [],
      "source": [
        "# @title Corrections\n",
        "with open('datasets/region_provinces.json') as jsonfile:\n",
        "    regions_provinces = json.load(jsonfile)['PHILIPPINES']\n",
        "regions_provinces = {key.lower():regions_provinces[key] for key in regions_provinces}\n",
        "regions = regions_provinces.keys()\n",
        "provinces = set([item.lower() for key in regions for item in regions_provinces[key]])\n",
        "regions = set(regions)\n",
        "regions.add(\"philippines\")\n",
        "\n",
        "# NOTE: Fix for bad regions, thanks PSA\n",
        "bad_regions = ['AONCR', 'BARMM', 'CAR', 'MIMAROPA', 'NCR',\n",
        "           'Region 1', 'Region 2', 'Region 3', 'Region 4A',\n",
        "           'Region 5', 'Region 6', 'Region 7', 'Region 8',\n",
        "           'Region 9', 'Region 10', 'Region 11', 'Reg12', 'CARAGA']\n",
        "region_mapping = {bad.lower():good.lower() for (bad,good) in zip(bad_regions, regions_provinces.keys())}\n",
        "corrections = {\n",
        "    \"AUTONOMOUS REGION IN MUSLIM MINDANAO (ARMM)\": \"bangsamoro autonomous region in muslim mindanao (barmm)\",\n",
        "    \"autonomous region in muslim mindanao (armm)\": \"bangsamoro autonomous region in muslim mindanao (barmm)\",\n",
        "    \"mimaropa region\": \"mimaropa region (mimaropa)\"\n",
        "}\n",
        "region_mapping.update(corrections)\n",
        "\n",
        "temp = [key.split('(')[1].rstrip(')') for key in regions_provinces]\n",
        "region_short_to_long = {bad:good for (bad,good) in zip(temp, regions_provinces.keys())}\n",
        "region_long_to_short = {v: k for k, v in region_short_to_long.items()}"
      ]
    },
    {
      "cell_type": "code",
      "execution_count": 137,
      "metadata": {},
      "outputs": [],
      "source": [
        "# @title Utilities\n",
        "def read_csv_to_df(csvfile: Path, comment_symbol='#') -> pd.DataFrame:\n",
        "    \"\"\"Read CSV to DataFrame with comment validation.\n",
        "        Allows comment lines in CSVs where line[0] == comment_symbol.\n",
        "        Also removes newlines.\n",
        "        Does not recognize comment_symbol anywhere else. \n",
        "    \"\"\"\n",
        "    tempfile = Path('temp.csv')\n",
        "    with open(csvfile, 'r') as csv, open(tempfile, 'w+') as temp:\n",
        "        lines = csv.readlines()\n",
        "        for line in lines:\n",
        "            if line[0] != comment_symbol:\n",
        "                temp.write(line)\n",
        "    return pd.read_csv(tempfile)\n",
        "\n",
        "def is_region(x: str, regions=regions) -> bool:\n",
        "    x = x.strip(' .')\n",
        "    x = x.lower()\n",
        "    if x == \"cagayan\":\n",
        "        return False\n",
        "    for region in regions:\n",
        "        if x in region:\n",
        "            return True\n",
        "    else:\n",
        "        return False\n",
        "    \n",
        "def is_province(x: str, provinces=provinces) -> bool:\n",
        "    x = x.strip(' .')\n",
        "    x = x.lower()\n",
        "    for province in provinces:\n",
        "        if x in province:\n",
        "            return True\n",
        "    else:\n",
        "        return False\n",
        "\n",
        "def get_quarter_columns(df: pd.DataFrame, year_range: range, period_idx: int):\n",
        "    \"\"\"Assumes contiguous period (Year Month) columns and that columns before period_idx are ID columns\"\"\"\n",
        "    df_quarter = df.iloc[:, :period_idx].copy()\n",
        "    for year in year_range:\n",
        "        for q in range(0, 12, 3):\n",
        "            df_quarter[f\"{year} Q{q//3+1}\"] = df.filter(regex=str(year), axis=1).iloc[:, q:q+3].mean(axis=1)\n",
        "    return df_quarter\n",
        "\n",
        "def get_annual_columns(df: pd.DataFrame, year_range: range, period_idx: int):\n",
        "    \"\"\"Assumes contiguous period (Year Month|Quarter) columns and that columns before period_idx are ID columns\n",
        "    Note that this also works with Quarters\"\"\"\n",
        "    df_annual = df.iloc[:, :period_idx].copy()\n",
        "    for year in year_range:\n",
        "        df_annual[f\"{year}\"] = df.filter(regex=str(year), axis=1).mean(axis=1)\n",
        "    return df_annual\n",
        "\n",
        "def swap_columns(df: pd.DataFrame, col1: str, col2: str):\n",
        "    col_list = list(df.columns)\n",
        "    x, y = col_list.index(col1), col_list.index(col2)\n",
        "    col_list[y], col_list[x] = col_list[x], col_list[y]\n",
        "    df = df[col_list]\n",
        "    return df\n",
        "\n",
        "def normalize(df: pd.DataFrame, col: str, minmax = True):\n",
        "    \"\"\"Can use mean normalization and minmax normalization.\"\"\"\n",
        "    tdf = df[col]\n",
        "    if minmax:\n",
        "        tdf = (tdf-tdf.min())/(tdf.max()-tdf.min())\n",
        "    else:\n",
        "        tdf = (tdf-tdf.mean())/tdf.std()\n",
        "    df[col] = tdf\n",
        "    return df\n",
        "\n",
        "def drop_rows_with_zeros(df: pd.DataFrame, ref_col_idx: int, all_zeros=False):\n",
        "    \"\"\"Drop rows if some values are zeros, or if all values are zeros.\n",
        "    Assumes contiguous reference columns, i.e. columns to use in deciding whether to drop.\"\"\"\n",
        "    return df[~(df.iloc[:, ref_col_idx:] == 0).all(axis=1)] if all_zeros else df[~(df.iloc[:, ref_col_idx:] == 0).any(axis=1)]\n",
        "\n",
        "def dual_plot(df: pd.DataFrame, x: str, y1: str, y2: str,\n",
        "              title=None, xtitle=None, y1title=None, y2title=None):\n",
        "    fig = make_subplots(specs=[[{\"secondary_y\": True}]])\n",
        "    # Add traces\n",
        "    fig.add_trace(\n",
        "        go.Scatter(x=df[x], y=df[y1], name=y1),\n",
        "        secondary_y=False,\n",
        "    )\n",
        "    fig.add_trace(\n",
        "        go.Scatter(x=df[x], y=df[y2], name=y2),\n",
        "        secondary_y=True,\n",
        "    )\n",
        "    # # Add titles\n",
        "    if title is not None: fig.update_layout(title_text=title)\n",
        "    if xtitle is not None: fig.update_xaxes(title_text=xtitle)\n",
        "    if y1title is not None: fig.update_yaxes(title_text=y1title, secondary_y=False)\n",
        "    if y2title is not None: fig.update_yaxes(title_text=y2title, secondary_y=True)\n",
        "\n",
        "    return fig\n",
        "\n",
        "def move_column(df: pd.DataFrame, col: str, new_idx: int):\n",
        "    \"\"\"This is an inplace method.\"\"\"\n",
        "    df.insert(new_idx, col, df.pop(col))\n",
        "    \n",
        "def preprocess_baesians_1(df: pd.DataFrame, commodity: str, rename_to: str, melt_value: str|None, regional=True):\n",
        "    \"\"\"Assumes Geolocation | Commodity | Period columns.\n",
        "    Filters to regional if regional=True, else filters to provincial. Retains \"philippines\".\n",
        "    \"\"\"\n",
        "    # df.dropna(inplace=True)\n",
        "    df[\"Geolocation\"] = df[\"Geolocation\"].str.lstrip(\".\").str.lower()\n",
        "    df[\"Geolocation\"] = df[\"Geolocation\"].replace(region_mapping)\n",
        "    df = df[df[\"Geolocation\"].apply(is_region)] if regional else df[df[\"Geolocation\"].apply(is_province)]\n",
        "    df = df[df[\"Commodity\"] == commodity]\n",
        "    df[\"Commodity\"] = rename_to # Rename everything in Commodity to Rice\n",
        "    if melt_value:\n",
        "        df = df.melt(id_vars=[\"Geolocation\", \"Commodity\"], value_vars=df.columns[2:], var_name=\"Period\", value_name=melt_value)\n",
        "    return df\n",
        "\n",
        "def imputer(df: pd.DataFrame, start_idx: int, end_idx=None):\n",
        "    \"\"\"If only start index is provided, will impute from start index column to last column,\n",
        "    else limit from start_idx to end_idx. Inplace imputation\"\"\"\n",
        "    imp = SimpleImputer(missing_values=pd.NA, strategy='mean')\n",
        "    if end_idx:\n",
        "        imp.fit(df.iloc[:, start_idx:end_idx])\n",
        "        df[df.columns[start_idx:end_idx]] = imp.transform(df.iloc[:, start_idx:])\n",
        "    else:\n",
        "        imp.fit(df.iloc[:, start_idx:])\n",
        "        df[df.columns[start_idx:]] = imp.transform(df.iloc[:, start_idx:])\n",
        "\n",
        "def preprocess_baesians_2(df: pd.DataFrame, commodity_map: dict, melt_value: str|None, regional=True, impute=False):\n",
        "    \"\"\"Assumes Geolocation | Commodity | Period ... columns.\n",
        "    Filters to regional if regional=True, else filters to provincial. Retains \"philippines\".\n",
        "    Filters to raw commodity name (key in commodity_map), and then renames to standard commodity_map[key]\n",
        "    Ex. {\"RICE, REGULAR-MILLED, 1 KG\" : \"Rice\"}\n",
        "    \"\"\"\n",
        "    df[\"Geolocation\"] = df[\"Geolocation\"].str.lstrip(\".\").str.lower()\n",
        "    df[\"Geolocation\"] = df[\"Geolocation\"].replace(region_mapping)\n",
        "    df = df[df[\"Geolocation\"].apply(is_region)] if regional else df[df[\"Geolocation\"].apply(is_province)]\n",
        "    df = df[df[\"Commodity\"].isin(commodity_map)]\n",
        "    df.loc[:, \"Commodity\"] = df[\"Commodity\"].replace(commodity_map)\n",
        "    if melt_value:\n",
        "        df = df.melt(id_vars=[\"Geolocation\", \"Commodity\"], value_vars=df.columns[2:], var_name=\"Period\", value_name=melt_value)\n",
        "    if impute:\n",
        "        imputer(df, 3)  # inplace imputation of melt_value\n",
        "    return df\n",
        "\n",
        "def filter_to_regions(df: pd.DataFrame):\n",
        "    return df[df[\"Geolocation\"].apply(is_region)]\n",
        "    \n",
        "def filter_to_provinces(df: pd.DataFrame):\n",
        "    return df[df[\"Geolocation\"].apply(is_province)]\n",
        "\n",
        "def fig_to_div(fig: figure.Figure, filename: Path):\n",
        "    \"\"\"Optional: Add pretiffication.\"\"\"\n",
        "    filename = Path(filename)\n",
        "    filename.parent.mkdir(exist_ok=True, parents=True)\n",
        "    with open(filename, \"w+\") as f:\n",
        "        f.write(offline.plot(fig, include_plotlyjs=False, output_type='div'))\n",
        "        \n",
        "def fig_to_html(fig: figure.Figure, filename: Path):\n",
        "    filename = Path(filename)\n",
        "    filename.parent.mkdir(exist_ok=True, parents=True)\n",
        "    fig.write_html(filename)\n",
        "    \n",
        "def fig_to_png(fig: figure.Figure, filename: Path):\n",
        "    \"\"\"NOTE: Requires ORCA to be installed!\"\"\"\n",
        "    filename = Path(filename)\n",
        "    filename.parent.mkdir(exist_ok=True, parents=True)\n",
        "    pio.write_image(fig, filename,scale=6, width=1280, height=720)"
      ]
    },
    {
      "cell_type": "code",
      "execution_count": 138,
      "metadata": {},
      "outputs": [],
      "source": [
        "# @title OTG Cleanup\n",
        "# VALUE OF PRODUCTION (5/24/2024)\n",
        "datapath = Path(\"datasets/agricultural-indicators/value-of-production/\")\n",
        "writepath = Path(\"datasets\")\n",
        "\n",
        "files = list(datapath.glob(\"*.csv\"))\n",
        "df = pd.DataFrame()\n",
        "for file in files:\n",
        "    with open(file) as f:\n",
        "        region = f.readlines()[0].split(':')[0].lstrip(\"\\\"\")\n",
        "        if region == u\"\\ufeffTest\\n\":\n",
        "            region = \"Cordillera Administrative Region (CAR)\"\n",
        "        tdf = pd.read_csv(file, skiprows=1, na_values=\".\")\n",
        "        tdf[\"Geolocation\"] = region\n",
        "        df = pd.concat([df, tdf])\n",
        "df[\"Subsector\"] = \"Rice\"\n",
        "df.drop(columns=[\"Type of Valuation\"], inplace=True)\n",
        "df.rename({\"Subsector\": \"Commodity\"}, axis=1, inplace=True)\n",
        "\n",
        "# Imputation of VOP df\n",
        "imp = SimpleImputer(missing_values=pd.NA, strategy='mean')\n",
        "imp.fit(df.iloc[:, 1:-1])\n",
        "df[df.columns[1:-1]] = imp.transform(df.iloc[:, 1:-1])\n",
        "move_column(df, \"Geolocation\", 0)\n",
        "df_val_of_prod = df\n",
        "\n",
        "# ANNUAL RICE STOCKS (5/24/2024) NOTE: Perhaps try to match this with the prices as this has monthly, for national only\n",
        "df = read_csv_to_df(\"datasets/agricultural-indicators/stocks-palay-corn_yearly_1980-2024.csv\")\n",
        "df = df[(df[\"Sector\"] == \"Rice: Total Stock\") | (df[\"Sector\"] == \"Corn: Total Stock\")]\n",
        "df[\"Sector\"] = df[\"Sector\"].replace({\"Rice: Total Stock\": \"Rice\", \"Corn: Total Stock\": \"Corn\"})\n",
        "df = pd.concat([df.iloc[:, :2].copy(), df.mean(axis=1, numeric_only=True)], axis=1)\n",
        "df.rename(columns={\"Sector\": \"Commodity\", \"Year\": \"Period\", 0: \"Stocks\"}, inplace=True)\n",
        "df = df[df[\"Period\"].isin(range(2012, 2024))]\n",
        "df_stocks = df"
      ]
    },
    {
      "cell_type": "markdown",
      "metadata": {
        "id": "yv0jREFhuh32"
      },
      "source": [
        "# Baesian Plots\n"
      ]
    },
    {
      "cell_type": "markdown",
      "metadata": {
        "id": "JToPchIbvMj_"
      },
      "source": [
        "Hypotheses:\n",
        "- **H0.1:** There is no significant difference in the productivity of major food crops when grouped according to their crop type, geolocation, and/or market profile.\n",
        "- **H0.2:** There is no significant relationship between market conditions and food crop production.\n",
        "\n",
        "Goal: Visually and statistically assess the relationship between market indicators and crop yield indicators.\n",
        "\n",
        "Visual tests are dual plots and scatterplots. Statistics for relationship testing: contingency tables and t-tests (?)."
      ]
    },
    {
      "cell_type": "markdown",
      "metadata": {},
      "source": [
        "## Data Overview\n",
        "\n",
        "Selected major crops (analyzed are checked):\n",
        "- ✅ Rice / Palay\n",
        "- ✅ Corn / Maize\n",
        "- Sweet Potato / Camote\n",
        "- Mongo / Monggo / Mung Beans\n",
        "- Banana\n",
        "- Coconut\n",
        "- Onion\n",
        "- Garlic\n",
        "- Sugarcane"
      ]
    },
    {
      "cell_type": "code",
      "execution_count": 139,
      "metadata": {},
      "outputs": [
        {
          "data": {
            "application/vnd.plotly.v1+json": {
              "config": {
                "plotlyServerURL": "https://plot.ly"
              },
              "data": [
                {
                  "alignmentgroup": "True",
                  "bingroup": "x",
                  "histfunc": "sum",
                  "hovertemplate": "Commodity=Palay<br>Period=%{x}<br>sum of Volume=%{y}<extra></extra>",
                  "legendgroup": "Palay",
                  "marker": {
                    "color": "#636efa",
                    "pattern": {
                      "shape": ""
                    }
                  },
                  "name": "Palay",
                  "offsetgroup": "Palay",
                  "orientation": "v",
                  "showlegend": true,
                  "type": "histogram",
                  "x": [
                    "1987",
                    "1988",
                    "1989",
                    "1990",
                    "1991",
                    "1992",
                    "1993",
                    "1994",
                    "1995",
                    "1996",
                    "1997",
                    "1998",
                    "1999",
                    "2000",
                    "2001",
                    "2002",
                    "2003",
                    "2004",
                    "2005",
                    "2006",
                    "2007",
                    "2008",
                    "2009",
                    "2010",
                    "2011",
                    "2012",
                    "2013",
                    "2014",
                    "2015",
                    "2016",
                    "2017",
                    "2018",
                    "2019",
                    "2020",
                    "2021",
                    "2022",
                    "2023",
                    "2024"
                  ],
                  "xaxis": "x",
                  "y": [
                    8539852,
                    8971030,
                    9458772,
                    9319276,
                    9673262,
                    9128940,
                    9434208,
                    10538054,
                    10540649,
                    11283568,
                    11268963,
                    8554824,
                    11786625,
                    12389412,
                    12954870,
                    13270653,
                    13499884,
                    14496784,
                    14603005,
                    15326706,
                    16240194,
                    16815548,
                    16266416.5,
                    15772319,
                    16684062,
                    18032525.47,
                    18439419.73,
                    18967826.17,
                    18149837.78,
                    17627244.82,
                    19276346.63,
                    19066093.94,
                    18814827.29,
                    19294855.51,
                    19960170.2,
                    19756392.28,
                    20059561.96,
                    ".."
                  ],
                  "yaxis": "y"
                },
                {
                  "alignmentgroup": "True",
                  "bingroup": "x",
                  "histfunc": "sum",
                  "hovertemplate": "Commodity=Corn<br>Period=%{x}<br>sum of Volume=%{y}<extra></extra>",
                  "legendgroup": "Corn",
                  "marker": {
                    "color": "#EF553B",
                    "pattern": {
                      "shape": ""
                    }
                  },
                  "name": "Corn",
                  "offsetgroup": "Corn",
                  "orientation": "v",
                  "showlegend": true,
                  "type": "histogram",
                  "x": [
                    "1987",
                    "1988",
                    "1989",
                    "1990",
                    "1991",
                    "1992",
                    "1993",
                    "1994",
                    "1995",
                    "1996",
                    "1997",
                    "1998",
                    "1999",
                    "2000",
                    "2001",
                    "2002",
                    "2003",
                    "2004",
                    "2005",
                    "2006",
                    "2007",
                    "2008",
                    "2009",
                    "2010",
                    "2011",
                    "2012",
                    "2013",
                    "2014",
                    "2015",
                    "2016",
                    "2017",
                    "2018",
                    "2019",
                    "2020",
                    "2021",
                    "2022",
                    "2023",
                    "2024"
                  ],
                  "xaxis": "x",
                  "y": [
                    4278119,
                    4427951,
                    4522195,
                    4853891,
                    4655026,
                    4618854,
                    4797977,
                    4519246,
                    4128510,
                    4151332,
                    4332417,
                    3823184,
                    4584593,
                    4511104,
                    4525012,
                    4319262,
                    4615625,
                    5413386,
                    5253160,
                    6082109,
                    6736940,
                    6928225,
                    7034033,
                    6376796,
                    6971221,
                    7407068.35,
                    7377293.3,
                    7770602.74,
                    7518755.72,
                    7218816.55,
                    7914908.49,
                    7771918.63,
                    7978844.55,
                    8118545.88,
                    8287191.13,
                    8255609.68,
                    8405004.29,
                    ".."
                  ],
                  "yaxis": "y"
                }
              ],
              "layout": {
                "barmode": "group",
                "legend": {
                  "title": {
                    "text": "Commodity"
                  },
                  "tracegroupgap": 0
                },
                "template": {
                  "data": {
                    "bar": [
                      {
                        "error_x": {
                          "color": "#f2f5fa"
                        },
                        "error_y": {
                          "color": "#f2f5fa"
                        },
                        "marker": {
                          "line": {
                            "color": "rgb(17,17,17)",
                            "width": 0.5
                          },
                          "pattern": {
                            "fillmode": "overlay",
                            "size": 10,
                            "solidity": 0.2
                          }
                        },
                        "type": "bar"
                      }
                    ],
                    "barpolar": [
                      {
                        "marker": {
                          "line": {
                            "color": "rgb(17,17,17)",
                            "width": 0.5
                          },
                          "pattern": {
                            "fillmode": "overlay",
                            "size": 10,
                            "solidity": 0.2
                          }
                        },
                        "type": "barpolar"
                      }
                    ],
                    "carpet": [
                      {
                        "aaxis": {
                          "endlinecolor": "#A2B1C6",
                          "gridcolor": "#506784",
                          "linecolor": "#506784",
                          "minorgridcolor": "#506784",
                          "startlinecolor": "#A2B1C6"
                        },
                        "baxis": {
                          "endlinecolor": "#A2B1C6",
                          "gridcolor": "#506784",
                          "linecolor": "#506784",
                          "minorgridcolor": "#506784",
                          "startlinecolor": "#A2B1C6"
                        },
                        "type": "carpet"
                      }
                    ],
                    "choropleth": [
                      {
                        "colorbar": {
                          "outlinewidth": 0,
                          "ticks": ""
                        },
                        "type": "choropleth"
                      }
                    ],
                    "contour": [
                      {
                        "colorbar": {
                          "outlinewidth": 0,
                          "ticks": ""
                        },
                        "colorscale": [
                          [
                            0,
                            "#0d0887"
                          ],
                          [
                            0.1111111111111111,
                            "#46039f"
                          ],
                          [
                            0.2222222222222222,
                            "#7201a8"
                          ],
                          [
                            0.3333333333333333,
                            "#9c179e"
                          ],
                          [
                            0.4444444444444444,
                            "#bd3786"
                          ],
                          [
                            0.5555555555555556,
                            "#d8576b"
                          ],
                          [
                            0.6666666666666666,
                            "#ed7953"
                          ],
                          [
                            0.7777777777777778,
                            "#fb9f3a"
                          ],
                          [
                            0.8888888888888888,
                            "#fdca26"
                          ],
                          [
                            1,
                            "#f0f921"
                          ]
                        ],
                        "type": "contour"
                      }
                    ],
                    "contourcarpet": [
                      {
                        "colorbar": {
                          "outlinewidth": 0,
                          "ticks": ""
                        },
                        "type": "contourcarpet"
                      }
                    ],
                    "heatmap": [
                      {
                        "colorbar": {
                          "outlinewidth": 0,
                          "ticks": ""
                        },
                        "colorscale": [
                          [
                            0,
                            "#0d0887"
                          ],
                          [
                            0.1111111111111111,
                            "#46039f"
                          ],
                          [
                            0.2222222222222222,
                            "#7201a8"
                          ],
                          [
                            0.3333333333333333,
                            "#9c179e"
                          ],
                          [
                            0.4444444444444444,
                            "#bd3786"
                          ],
                          [
                            0.5555555555555556,
                            "#d8576b"
                          ],
                          [
                            0.6666666666666666,
                            "#ed7953"
                          ],
                          [
                            0.7777777777777778,
                            "#fb9f3a"
                          ],
                          [
                            0.8888888888888888,
                            "#fdca26"
                          ],
                          [
                            1,
                            "#f0f921"
                          ]
                        ],
                        "type": "heatmap"
                      }
                    ],
                    "heatmapgl": [
                      {
                        "colorbar": {
                          "outlinewidth": 0,
                          "ticks": ""
                        },
                        "colorscale": [
                          [
                            0,
                            "#0d0887"
                          ],
                          [
                            0.1111111111111111,
                            "#46039f"
                          ],
                          [
                            0.2222222222222222,
                            "#7201a8"
                          ],
                          [
                            0.3333333333333333,
                            "#9c179e"
                          ],
                          [
                            0.4444444444444444,
                            "#bd3786"
                          ],
                          [
                            0.5555555555555556,
                            "#d8576b"
                          ],
                          [
                            0.6666666666666666,
                            "#ed7953"
                          ],
                          [
                            0.7777777777777778,
                            "#fb9f3a"
                          ],
                          [
                            0.8888888888888888,
                            "#fdca26"
                          ],
                          [
                            1,
                            "#f0f921"
                          ]
                        ],
                        "type": "heatmapgl"
                      }
                    ],
                    "histogram": [
                      {
                        "marker": {
                          "pattern": {
                            "fillmode": "overlay",
                            "size": 10,
                            "solidity": 0.2
                          }
                        },
                        "type": "histogram"
                      }
                    ],
                    "histogram2d": [
                      {
                        "colorbar": {
                          "outlinewidth": 0,
                          "ticks": ""
                        },
                        "colorscale": [
                          [
                            0,
                            "#0d0887"
                          ],
                          [
                            0.1111111111111111,
                            "#46039f"
                          ],
                          [
                            0.2222222222222222,
                            "#7201a8"
                          ],
                          [
                            0.3333333333333333,
                            "#9c179e"
                          ],
                          [
                            0.4444444444444444,
                            "#bd3786"
                          ],
                          [
                            0.5555555555555556,
                            "#d8576b"
                          ],
                          [
                            0.6666666666666666,
                            "#ed7953"
                          ],
                          [
                            0.7777777777777778,
                            "#fb9f3a"
                          ],
                          [
                            0.8888888888888888,
                            "#fdca26"
                          ],
                          [
                            1,
                            "#f0f921"
                          ]
                        ],
                        "type": "histogram2d"
                      }
                    ],
                    "histogram2dcontour": [
                      {
                        "colorbar": {
                          "outlinewidth": 0,
                          "ticks": ""
                        },
                        "colorscale": [
                          [
                            0,
                            "#0d0887"
                          ],
                          [
                            0.1111111111111111,
                            "#46039f"
                          ],
                          [
                            0.2222222222222222,
                            "#7201a8"
                          ],
                          [
                            0.3333333333333333,
                            "#9c179e"
                          ],
                          [
                            0.4444444444444444,
                            "#bd3786"
                          ],
                          [
                            0.5555555555555556,
                            "#d8576b"
                          ],
                          [
                            0.6666666666666666,
                            "#ed7953"
                          ],
                          [
                            0.7777777777777778,
                            "#fb9f3a"
                          ],
                          [
                            0.8888888888888888,
                            "#fdca26"
                          ],
                          [
                            1,
                            "#f0f921"
                          ]
                        ],
                        "type": "histogram2dcontour"
                      }
                    ],
                    "mesh3d": [
                      {
                        "colorbar": {
                          "outlinewidth": 0,
                          "ticks": ""
                        },
                        "type": "mesh3d"
                      }
                    ],
                    "parcoords": [
                      {
                        "line": {
                          "colorbar": {
                            "outlinewidth": 0,
                            "ticks": ""
                          }
                        },
                        "type": "parcoords"
                      }
                    ],
                    "pie": [
                      {
                        "automargin": true,
                        "type": "pie"
                      }
                    ],
                    "scatter": [
                      {
                        "marker": {
                          "line": {
                            "color": "#283442"
                          }
                        },
                        "type": "scatter"
                      }
                    ],
                    "scatter3d": [
                      {
                        "line": {
                          "colorbar": {
                            "outlinewidth": 0,
                            "ticks": ""
                          }
                        },
                        "marker": {
                          "colorbar": {
                            "outlinewidth": 0,
                            "ticks": ""
                          }
                        },
                        "type": "scatter3d"
                      }
                    ],
                    "scattercarpet": [
                      {
                        "marker": {
                          "colorbar": {
                            "outlinewidth": 0,
                            "ticks": ""
                          }
                        },
                        "type": "scattercarpet"
                      }
                    ],
                    "scattergeo": [
                      {
                        "marker": {
                          "colorbar": {
                            "outlinewidth": 0,
                            "ticks": ""
                          }
                        },
                        "type": "scattergeo"
                      }
                    ],
                    "scattergl": [
                      {
                        "marker": {
                          "line": {
                            "color": "#283442"
                          }
                        },
                        "type": "scattergl"
                      }
                    ],
                    "scattermapbox": [
                      {
                        "marker": {
                          "colorbar": {
                            "outlinewidth": 0,
                            "ticks": ""
                          }
                        },
                        "type": "scattermapbox"
                      }
                    ],
                    "scatterpolar": [
                      {
                        "marker": {
                          "colorbar": {
                            "outlinewidth": 0,
                            "ticks": ""
                          }
                        },
                        "type": "scatterpolar"
                      }
                    ],
                    "scatterpolargl": [
                      {
                        "marker": {
                          "colorbar": {
                            "outlinewidth": 0,
                            "ticks": ""
                          }
                        },
                        "type": "scatterpolargl"
                      }
                    ],
                    "scatterternary": [
                      {
                        "marker": {
                          "colorbar": {
                            "outlinewidth": 0,
                            "ticks": ""
                          }
                        },
                        "type": "scatterternary"
                      }
                    ],
                    "surface": [
                      {
                        "colorbar": {
                          "outlinewidth": 0,
                          "ticks": ""
                        },
                        "colorscale": [
                          [
                            0,
                            "#0d0887"
                          ],
                          [
                            0.1111111111111111,
                            "#46039f"
                          ],
                          [
                            0.2222222222222222,
                            "#7201a8"
                          ],
                          [
                            0.3333333333333333,
                            "#9c179e"
                          ],
                          [
                            0.4444444444444444,
                            "#bd3786"
                          ],
                          [
                            0.5555555555555556,
                            "#d8576b"
                          ],
                          [
                            0.6666666666666666,
                            "#ed7953"
                          ],
                          [
                            0.7777777777777778,
                            "#fb9f3a"
                          ],
                          [
                            0.8888888888888888,
                            "#fdca26"
                          ],
                          [
                            1,
                            "#f0f921"
                          ]
                        ],
                        "type": "surface"
                      }
                    ],
                    "table": [
                      {
                        "cells": {
                          "fill": {
                            "color": "#506784"
                          },
                          "line": {
                            "color": "rgb(17,17,17)"
                          }
                        },
                        "header": {
                          "fill": {
                            "color": "#2a3f5f"
                          },
                          "line": {
                            "color": "rgb(17,17,17)"
                          }
                        },
                        "type": "table"
                      }
                    ]
                  },
                  "layout": {
                    "annotationdefaults": {
                      "arrowcolor": "#f2f5fa",
                      "arrowhead": 0,
                      "arrowwidth": 1
                    },
                    "autotypenumbers": "strict",
                    "coloraxis": {
                      "colorbar": {
                        "outlinewidth": 0,
                        "ticks": ""
                      }
                    },
                    "colorscale": {
                      "diverging": [
                        [
                          0,
                          "#8e0152"
                        ],
                        [
                          0.1,
                          "#c51b7d"
                        ],
                        [
                          0.2,
                          "#de77ae"
                        ],
                        [
                          0.3,
                          "#f1b6da"
                        ],
                        [
                          0.4,
                          "#fde0ef"
                        ],
                        [
                          0.5,
                          "#f7f7f7"
                        ],
                        [
                          0.6,
                          "#e6f5d0"
                        ],
                        [
                          0.7,
                          "#b8e186"
                        ],
                        [
                          0.8,
                          "#7fbc41"
                        ],
                        [
                          0.9,
                          "#4d9221"
                        ],
                        [
                          1,
                          "#276419"
                        ]
                      ],
                      "sequential": [
                        [
                          0,
                          "#0d0887"
                        ],
                        [
                          0.1111111111111111,
                          "#46039f"
                        ],
                        [
                          0.2222222222222222,
                          "#7201a8"
                        ],
                        [
                          0.3333333333333333,
                          "#9c179e"
                        ],
                        [
                          0.4444444444444444,
                          "#bd3786"
                        ],
                        [
                          0.5555555555555556,
                          "#d8576b"
                        ],
                        [
                          0.6666666666666666,
                          "#ed7953"
                        ],
                        [
                          0.7777777777777778,
                          "#fb9f3a"
                        ],
                        [
                          0.8888888888888888,
                          "#fdca26"
                        ],
                        [
                          1,
                          "#f0f921"
                        ]
                      ],
                      "sequentialminus": [
                        [
                          0,
                          "#0d0887"
                        ],
                        [
                          0.1111111111111111,
                          "#46039f"
                        ],
                        [
                          0.2222222222222222,
                          "#7201a8"
                        ],
                        [
                          0.3333333333333333,
                          "#9c179e"
                        ],
                        [
                          0.4444444444444444,
                          "#bd3786"
                        ],
                        [
                          0.5555555555555556,
                          "#d8576b"
                        ],
                        [
                          0.6666666666666666,
                          "#ed7953"
                        ],
                        [
                          0.7777777777777778,
                          "#fb9f3a"
                        ],
                        [
                          0.8888888888888888,
                          "#fdca26"
                        ],
                        [
                          1,
                          "#f0f921"
                        ]
                      ]
                    },
                    "colorway": [
                      "#636efa",
                      "#EF553B",
                      "#00cc96",
                      "#ab63fa",
                      "#FFA15A",
                      "#19d3f3",
                      "#FF6692",
                      "#B6E880",
                      "#FF97FF",
                      "#FECB52"
                    ],
                    "font": {
                      "color": "#f2f5fa"
                    },
                    "geo": {
                      "bgcolor": "rgb(17,17,17)",
                      "lakecolor": "rgb(17,17,17)",
                      "landcolor": "rgb(17,17,17)",
                      "showlakes": true,
                      "showland": true,
                      "subunitcolor": "#506784"
                    },
                    "hoverlabel": {
                      "align": "left"
                    },
                    "hovermode": "closest",
                    "mapbox": {
                      "style": "dark"
                    },
                    "paper_bgcolor": "rgb(17,17,17)",
                    "plot_bgcolor": "rgb(17,17,17)",
                    "polar": {
                      "angularaxis": {
                        "gridcolor": "#506784",
                        "linecolor": "#506784",
                        "ticks": ""
                      },
                      "bgcolor": "rgb(17,17,17)",
                      "radialaxis": {
                        "gridcolor": "#506784",
                        "linecolor": "#506784",
                        "ticks": ""
                      }
                    },
                    "scene": {
                      "xaxis": {
                        "backgroundcolor": "rgb(17,17,17)",
                        "gridcolor": "#506784",
                        "gridwidth": 2,
                        "linecolor": "#506784",
                        "showbackground": true,
                        "ticks": "",
                        "zerolinecolor": "#C8D4E3"
                      },
                      "yaxis": {
                        "backgroundcolor": "rgb(17,17,17)",
                        "gridcolor": "#506784",
                        "gridwidth": 2,
                        "linecolor": "#506784",
                        "showbackground": true,
                        "ticks": "",
                        "zerolinecolor": "#C8D4E3"
                      },
                      "zaxis": {
                        "backgroundcolor": "rgb(17,17,17)",
                        "gridcolor": "#506784",
                        "gridwidth": 2,
                        "linecolor": "#506784",
                        "showbackground": true,
                        "ticks": "",
                        "zerolinecolor": "#C8D4E3"
                      }
                    },
                    "shapedefaults": {
                      "line": {
                        "color": "#f2f5fa"
                      }
                    },
                    "sliderdefaults": {
                      "bgcolor": "#C8D4E3",
                      "bordercolor": "rgb(17,17,17)",
                      "borderwidth": 1,
                      "tickwidth": 0
                    },
                    "ternary": {
                      "aaxis": {
                        "gridcolor": "#506784",
                        "linecolor": "#506784",
                        "ticks": ""
                      },
                      "baxis": {
                        "gridcolor": "#506784",
                        "linecolor": "#506784",
                        "ticks": ""
                      },
                      "bgcolor": "rgb(17,17,17)",
                      "caxis": {
                        "gridcolor": "#506784",
                        "linecolor": "#506784",
                        "ticks": ""
                      }
                    },
                    "title": {
                      "x": 0.05
                    },
                    "updatemenudefaults": {
                      "bgcolor": "#506784",
                      "borderwidth": 0
                    },
                    "xaxis": {
                      "automargin": true,
                      "gridcolor": "#283442",
                      "linecolor": "#506784",
                      "ticks": "",
                      "title": {
                        "standoff": 15
                      },
                      "zerolinecolor": "#283442",
                      "zerolinewidth": 2
                    },
                    "yaxis": {
                      "automargin": true,
                      "gridcolor": "#283442",
                      "linecolor": "#506784",
                      "ticks": "",
                      "title": {
                        "standoff": 15
                      },
                      "zerolinecolor": "#283442",
                      "zerolinewidth": 2
                    }
                  }
                },
                "title": {
                  "text": "Annual Volume of Production of Rice and Corn<br><sup>National averages in metric tons</sup>"
                },
                "xaxis": {
                  "anchor": "y",
                  "domain": [
                    0,
                    1
                  ],
                  "title": {
                    "text": "Period"
                  }
                },
                "yaxis": {
                  "anchor": "x",
                  "domain": [
                    0,
                    1
                  ],
                  "title": {
                    "text": "Volume of Production"
                  }
                }
              }
            }
          },
          "metadata": {},
          "output_type": "display_data"
        },
        {
          "data": {
            "application/vnd.plotly.v1+json": {
              "config": {
                "plotlyServerURL": "https://plot.ly"
              },
              "data": [
                {
                  "hovertemplate": "Commodity=Coconut Mature<br>Period=%{x}<br>Volume=%{y}<extra></extra>",
                  "legendgroup": "Coconut Mature",
                  "line": {
                    "color": "#636efa",
                    "dash": "solid"
                  },
                  "marker": {
                    "symbol": "circle"
                  },
                  "mode": "lines",
                  "name": "Coconut Mature",
                  "orientation": "v",
                  "showlegend": true,
                  "type": "scatter",
                  "x": [
                    "2010",
                    "2011",
                    "2012",
                    "2013",
                    "2014",
                    "2015",
                    "2016",
                    "2017",
                    "2018",
                    "2019",
                    "2020",
                    "2021",
                    "2022",
                    "2023"
                  ],
                  "xaxis": "x",
                  "y": [
                    15192961.87,
                    14933341.7,
                    15528819.03,
                    15017286.2,
                    14368593.72,
                    14401080.87,
                    13485513.69,
                    13686635.8,
                    14352340.63,
                    14374835.6,
                    14096773.96,
                    14321201.83,
                    14532517.78,
                    14466385.53
                  ],
                  "yaxis": "y"
                },
                {
                  "hovertemplate": "Commodity=Sugarcane<br>Period=%{x}<br>Volume=%{y}<extra></extra>",
                  "legendgroup": "Sugarcane",
                  "line": {
                    "color": "#EF553B",
                    "dash": "solid"
                  },
                  "marker": {
                    "symbol": "circle"
                  },
                  "mode": "lines",
                  "name": "Sugarcane",
                  "orientation": "v",
                  "showlegend": true,
                  "type": "scatter",
                  "x": [
                    "2010",
                    "2011",
                    "2012",
                    "2013",
                    "2014",
                    "2015",
                    "2016",
                    "2017",
                    "2018",
                    "2019",
                    "2020",
                    "2021",
                    "2022",
                    "2023"
                  ],
                  "xaxis": "x",
                  "y": [
                    17929269.47,
                    28376517.84,
                    26395914.59,
                    24584841.5,
                    25029880.01,
                    22926437.34,
                    22370546.22,
                    29286893.18,
                    24730819.95,
                    20719291.05,
                    24398941.25,
                    26277401.74,
                    23455403.5,
                    21649056.78
                  ],
                  "yaxis": "y"
                },
                {
                  "hovertemplate": "Commodity=Banana<br>Period=%{x}<br>Volume=%{y}<extra></extra>",
                  "legendgroup": "Banana",
                  "line": {
                    "color": "#00cc96",
                    "dash": "solid"
                  },
                  "marker": {
                    "symbol": "circle"
                  },
                  "mode": "lines",
                  "name": "Banana",
                  "orientation": "v",
                  "showlegend": true,
                  "type": "scatter",
                  "x": [
                    "2010",
                    "2011",
                    "2012",
                    "2013",
                    "2014",
                    "2015",
                    "2016",
                    "2017",
                    "2018",
                    "2019",
                    "2020",
                    "2021",
                    "2022",
                    "2023"
                  ],
                  "xaxis": "x",
                  "y": [
                    9101341.19,
                    9165046.44,
                    9226768.08,
                    8646416.59,
                    8884857.39,
                    9083929.03,
                    8903684.14,
                    9166334.31,
                    9358784.56,
                    9157676.11,
                    9056149.45,
                    9091308.03,
                    9013288.54,
                    9019054.71
                  ],
                  "yaxis": "y"
                },
                {
                  "hovertemplate": "Commodity=Sweet Potato/Camote<br>Period=%{x}<br>Volume=%{y}<extra></extra>",
                  "legendgroup": "Sweet Potato/Camote",
                  "line": {
                    "color": "#ab63fa",
                    "dash": "solid"
                  },
                  "marker": {
                    "symbol": "circle"
                  },
                  "mode": "lines",
                  "name": "Sweet Potato/Camote",
                  "orientation": "v",
                  "showlegend": true,
                  "type": "scatter",
                  "x": [
                    "2010",
                    "2011",
                    "2012",
                    "2013",
                    "2014",
                    "2015",
                    "2016",
                    "2017",
                    "2018",
                    "2019",
                    "2020",
                    "2021",
                    "2022",
                    "2023"
                  ],
                  "xaxis": "x",
                  "y": [
                    541265.03,
                    516338.02,
                    516907.18,
                    528249.52,
                    519854.97,
                    535995.53,
                    529472.03,
                    537303.36,
                    525634.39,
                    525861.92,
                    546891.46,
                    545519.4,
                    558320.65,
                    523292.89
                  ],
                  "yaxis": "y"
                },
                {
                  "hovertemplate": "Commodity=Garlic (Dried bulb)<br>Period=%{x}<br>Volume=%{y}<extra></extra>",
                  "legendgroup": "Garlic (Dried bulb)",
                  "line": {
                    "color": "#FFA15A",
                    "dash": "solid"
                  },
                  "marker": {
                    "symbol": "circle"
                  },
                  "mode": "lines",
                  "name": "Garlic (Dried bulb)",
                  "orientation": "v",
                  "showlegend": true,
                  "type": "scatter",
                  "x": [
                    "2010",
                    "2011",
                    "2012",
                    "2013",
                    "2014",
                    "2015",
                    "2016",
                    "2017",
                    "2018",
                    "2019",
                    "2020",
                    "2021",
                    "2022",
                    "2023"
                  ],
                  "xaxis": "x",
                  "y": [
                    9563.2,
                    9056.15,
                    8808.43,
                    8986.35,
                    8992.86,
                    10419.52,
                    7468.97,
                    7751.05,
                    7559.12,
                    7256.32,
                    6766.62,
                    5890.14,
                    5884.93,
                    5765.06
                  ],
                  "yaxis": "y"
                },
                {
                  "hovertemplate": "Commodity=Onion (mature bulb)<br>Period=%{x}<br>Volume=%{y}<extra></extra>",
                  "legendgroup": "Onion (mature bulb)",
                  "line": {
                    "color": "#19d3f3",
                    "dash": "solid"
                  },
                  "marker": {
                    "symbol": "circle"
                  },
                  "mode": "lines",
                  "name": "Onion (mature bulb)",
                  "orientation": "v",
                  "showlegend": true,
                  "type": "scatter",
                  "x": [
                    "2010",
                    "2011",
                    "2012",
                    "2013",
                    "2014",
                    "2015",
                    "2016",
                    "2017",
                    "2018",
                    "2019",
                    "2020",
                    "2021",
                    "2022",
                    "2023"
                  ],
                  "xaxis": "x",
                  "y": [
                    135377.26,
                    128387.23,
                    124889.62,
                    134239.01,
                    203651.41,
                    181207.84,
                    122593.99,
                    184426.97,
                    172665.98,
                    222082.28,
                    229539.24,
                    218047.33,
                    241033.06,
                    252487.47
                  ],
                  "yaxis": "y"
                },
                {
                  "hovertemplate": "Commodity=Tomato<br>Period=%{x}<br>Volume=%{y}<extra></extra>",
                  "legendgroup": "Tomato",
                  "line": {
                    "color": "#FF6692",
                    "dash": "solid"
                  },
                  "marker": {
                    "symbol": "circle"
                  },
                  "mode": "lines",
                  "name": "Tomato",
                  "orientation": "v",
                  "showlegend": true,
                  "type": "scatter",
                  "x": [
                    "2010",
                    "2011",
                    "2012",
                    "2013",
                    "2014",
                    "2015",
                    "2016",
                    "2017",
                    "2018",
                    "2019",
                    "2020",
                    "2021",
                    "2022",
                    "2023"
                  ],
                  "xaxis": "x",
                  "y": [
                    204271.66,
                    203581.71,
                    203593.47,
                    207668.39,
                    214572.91,
                    214773.95,
                    210719.51,
                    218793.14,
                    220824.68,
                    223294.47,
                    222002.24,
                    225450.6,
                    216608.97,
                    219309.89
                  ],
                  "yaxis": "y"
                }
              ],
              "layout": {
                "legend": {
                  "title": {
                    "text": "Commodity"
                  },
                  "tracegroupgap": 0
                },
                "template": {
                  "data": {
                    "bar": [
                      {
                        "error_x": {
                          "color": "#f2f5fa"
                        },
                        "error_y": {
                          "color": "#f2f5fa"
                        },
                        "marker": {
                          "line": {
                            "color": "rgb(17,17,17)",
                            "width": 0.5
                          },
                          "pattern": {
                            "fillmode": "overlay",
                            "size": 10,
                            "solidity": 0.2
                          }
                        },
                        "type": "bar"
                      }
                    ],
                    "barpolar": [
                      {
                        "marker": {
                          "line": {
                            "color": "rgb(17,17,17)",
                            "width": 0.5
                          },
                          "pattern": {
                            "fillmode": "overlay",
                            "size": 10,
                            "solidity": 0.2
                          }
                        },
                        "type": "barpolar"
                      }
                    ],
                    "carpet": [
                      {
                        "aaxis": {
                          "endlinecolor": "#A2B1C6",
                          "gridcolor": "#506784",
                          "linecolor": "#506784",
                          "minorgridcolor": "#506784",
                          "startlinecolor": "#A2B1C6"
                        },
                        "baxis": {
                          "endlinecolor": "#A2B1C6",
                          "gridcolor": "#506784",
                          "linecolor": "#506784",
                          "minorgridcolor": "#506784",
                          "startlinecolor": "#A2B1C6"
                        },
                        "type": "carpet"
                      }
                    ],
                    "choropleth": [
                      {
                        "colorbar": {
                          "outlinewidth": 0,
                          "ticks": ""
                        },
                        "type": "choropleth"
                      }
                    ],
                    "contour": [
                      {
                        "colorbar": {
                          "outlinewidth": 0,
                          "ticks": ""
                        },
                        "colorscale": [
                          [
                            0,
                            "#0d0887"
                          ],
                          [
                            0.1111111111111111,
                            "#46039f"
                          ],
                          [
                            0.2222222222222222,
                            "#7201a8"
                          ],
                          [
                            0.3333333333333333,
                            "#9c179e"
                          ],
                          [
                            0.4444444444444444,
                            "#bd3786"
                          ],
                          [
                            0.5555555555555556,
                            "#d8576b"
                          ],
                          [
                            0.6666666666666666,
                            "#ed7953"
                          ],
                          [
                            0.7777777777777778,
                            "#fb9f3a"
                          ],
                          [
                            0.8888888888888888,
                            "#fdca26"
                          ],
                          [
                            1,
                            "#f0f921"
                          ]
                        ],
                        "type": "contour"
                      }
                    ],
                    "contourcarpet": [
                      {
                        "colorbar": {
                          "outlinewidth": 0,
                          "ticks": ""
                        },
                        "type": "contourcarpet"
                      }
                    ],
                    "heatmap": [
                      {
                        "colorbar": {
                          "outlinewidth": 0,
                          "ticks": ""
                        },
                        "colorscale": [
                          [
                            0,
                            "#0d0887"
                          ],
                          [
                            0.1111111111111111,
                            "#46039f"
                          ],
                          [
                            0.2222222222222222,
                            "#7201a8"
                          ],
                          [
                            0.3333333333333333,
                            "#9c179e"
                          ],
                          [
                            0.4444444444444444,
                            "#bd3786"
                          ],
                          [
                            0.5555555555555556,
                            "#d8576b"
                          ],
                          [
                            0.6666666666666666,
                            "#ed7953"
                          ],
                          [
                            0.7777777777777778,
                            "#fb9f3a"
                          ],
                          [
                            0.8888888888888888,
                            "#fdca26"
                          ],
                          [
                            1,
                            "#f0f921"
                          ]
                        ],
                        "type": "heatmap"
                      }
                    ],
                    "heatmapgl": [
                      {
                        "colorbar": {
                          "outlinewidth": 0,
                          "ticks": ""
                        },
                        "colorscale": [
                          [
                            0,
                            "#0d0887"
                          ],
                          [
                            0.1111111111111111,
                            "#46039f"
                          ],
                          [
                            0.2222222222222222,
                            "#7201a8"
                          ],
                          [
                            0.3333333333333333,
                            "#9c179e"
                          ],
                          [
                            0.4444444444444444,
                            "#bd3786"
                          ],
                          [
                            0.5555555555555556,
                            "#d8576b"
                          ],
                          [
                            0.6666666666666666,
                            "#ed7953"
                          ],
                          [
                            0.7777777777777778,
                            "#fb9f3a"
                          ],
                          [
                            0.8888888888888888,
                            "#fdca26"
                          ],
                          [
                            1,
                            "#f0f921"
                          ]
                        ],
                        "type": "heatmapgl"
                      }
                    ],
                    "histogram": [
                      {
                        "marker": {
                          "pattern": {
                            "fillmode": "overlay",
                            "size": 10,
                            "solidity": 0.2
                          }
                        },
                        "type": "histogram"
                      }
                    ],
                    "histogram2d": [
                      {
                        "colorbar": {
                          "outlinewidth": 0,
                          "ticks": ""
                        },
                        "colorscale": [
                          [
                            0,
                            "#0d0887"
                          ],
                          [
                            0.1111111111111111,
                            "#46039f"
                          ],
                          [
                            0.2222222222222222,
                            "#7201a8"
                          ],
                          [
                            0.3333333333333333,
                            "#9c179e"
                          ],
                          [
                            0.4444444444444444,
                            "#bd3786"
                          ],
                          [
                            0.5555555555555556,
                            "#d8576b"
                          ],
                          [
                            0.6666666666666666,
                            "#ed7953"
                          ],
                          [
                            0.7777777777777778,
                            "#fb9f3a"
                          ],
                          [
                            0.8888888888888888,
                            "#fdca26"
                          ],
                          [
                            1,
                            "#f0f921"
                          ]
                        ],
                        "type": "histogram2d"
                      }
                    ],
                    "histogram2dcontour": [
                      {
                        "colorbar": {
                          "outlinewidth": 0,
                          "ticks": ""
                        },
                        "colorscale": [
                          [
                            0,
                            "#0d0887"
                          ],
                          [
                            0.1111111111111111,
                            "#46039f"
                          ],
                          [
                            0.2222222222222222,
                            "#7201a8"
                          ],
                          [
                            0.3333333333333333,
                            "#9c179e"
                          ],
                          [
                            0.4444444444444444,
                            "#bd3786"
                          ],
                          [
                            0.5555555555555556,
                            "#d8576b"
                          ],
                          [
                            0.6666666666666666,
                            "#ed7953"
                          ],
                          [
                            0.7777777777777778,
                            "#fb9f3a"
                          ],
                          [
                            0.8888888888888888,
                            "#fdca26"
                          ],
                          [
                            1,
                            "#f0f921"
                          ]
                        ],
                        "type": "histogram2dcontour"
                      }
                    ],
                    "mesh3d": [
                      {
                        "colorbar": {
                          "outlinewidth": 0,
                          "ticks": ""
                        },
                        "type": "mesh3d"
                      }
                    ],
                    "parcoords": [
                      {
                        "line": {
                          "colorbar": {
                            "outlinewidth": 0,
                            "ticks": ""
                          }
                        },
                        "type": "parcoords"
                      }
                    ],
                    "pie": [
                      {
                        "automargin": true,
                        "type": "pie"
                      }
                    ],
                    "scatter": [
                      {
                        "marker": {
                          "line": {
                            "color": "#283442"
                          }
                        },
                        "type": "scatter"
                      }
                    ],
                    "scatter3d": [
                      {
                        "line": {
                          "colorbar": {
                            "outlinewidth": 0,
                            "ticks": ""
                          }
                        },
                        "marker": {
                          "colorbar": {
                            "outlinewidth": 0,
                            "ticks": ""
                          }
                        },
                        "type": "scatter3d"
                      }
                    ],
                    "scattercarpet": [
                      {
                        "marker": {
                          "colorbar": {
                            "outlinewidth": 0,
                            "ticks": ""
                          }
                        },
                        "type": "scattercarpet"
                      }
                    ],
                    "scattergeo": [
                      {
                        "marker": {
                          "colorbar": {
                            "outlinewidth": 0,
                            "ticks": ""
                          }
                        },
                        "type": "scattergeo"
                      }
                    ],
                    "scattergl": [
                      {
                        "marker": {
                          "line": {
                            "color": "#283442"
                          }
                        },
                        "type": "scattergl"
                      }
                    ],
                    "scattermapbox": [
                      {
                        "marker": {
                          "colorbar": {
                            "outlinewidth": 0,
                            "ticks": ""
                          }
                        },
                        "type": "scattermapbox"
                      }
                    ],
                    "scatterpolar": [
                      {
                        "marker": {
                          "colorbar": {
                            "outlinewidth": 0,
                            "ticks": ""
                          }
                        },
                        "type": "scatterpolar"
                      }
                    ],
                    "scatterpolargl": [
                      {
                        "marker": {
                          "colorbar": {
                            "outlinewidth": 0,
                            "ticks": ""
                          }
                        },
                        "type": "scatterpolargl"
                      }
                    ],
                    "scatterternary": [
                      {
                        "marker": {
                          "colorbar": {
                            "outlinewidth": 0,
                            "ticks": ""
                          }
                        },
                        "type": "scatterternary"
                      }
                    ],
                    "surface": [
                      {
                        "colorbar": {
                          "outlinewidth": 0,
                          "ticks": ""
                        },
                        "colorscale": [
                          [
                            0,
                            "#0d0887"
                          ],
                          [
                            0.1111111111111111,
                            "#46039f"
                          ],
                          [
                            0.2222222222222222,
                            "#7201a8"
                          ],
                          [
                            0.3333333333333333,
                            "#9c179e"
                          ],
                          [
                            0.4444444444444444,
                            "#bd3786"
                          ],
                          [
                            0.5555555555555556,
                            "#d8576b"
                          ],
                          [
                            0.6666666666666666,
                            "#ed7953"
                          ],
                          [
                            0.7777777777777778,
                            "#fb9f3a"
                          ],
                          [
                            0.8888888888888888,
                            "#fdca26"
                          ],
                          [
                            1,
                            "#f0f921"
                          ]
                        ],
                        "type": "surface"
                      }
                    ],
                    "table": [
                      {
                        "cells": {
                          "fill": {
                            "color": "#506784"
                          },
                          "line": {
                            "color": "rgb(17,17,17)"
                          }
                        },
                        "header": {
                          "fill": {
                            "color": "#2a3f5f"
                          },
                          "line": {
                            "color": "rgb(17,17,17)"
                          }
                        },
                        "type": "table"
                      }
                    ]
                  },
                  "layout": {
                    "annotationdefaults": {
                      "arrowcolor": "#f2f5fa",
                      "arrowhead": 0,
                      "arrowwidth": 1
                    },
                    "autotypenumbers": "strict",
                    "coloraxis": {
                      "colorbar": {
                        "outlinewidth": 0,
                        "ticks": ""
                      }
                    },
                    "colorscale": {
                      "diverging": [
                        [
                          0,
                          "#8e0152"
                        ],
                        [
                          0.1,
                          "#c51b7d"
                        ],
                        [
                          0.2,
                          "#de77ae"
                        ],
                        [
                          0.3,
                          "#f1b6da"
                        ],
                        [
                          0.4,
                          "#fde0ef"
                        ],
                        [
                          0.5,
                          "#f7f7f7"
                        ],
                        [
                          0.6,
                          "#e6f5d0"
                        ],
                        [
                          0.7,
                          "#b8e186"
                        ],
                        [
                          0.8,
                          "#7fbc41"
                        ],
                        [
                          0.9,
                          "#4d9221"
                        ],
                        [
                          1,
                          "#276419"
                        ]
                      ],
                      "sequential": [
                        [
                          0,
                          "#0d0887"
                        ],
                        [
                          0.1111111111111111,
                          "#46039f"
                        ],
                        [
                          0.2222222222222222,
                          "#7201a8"
                        ],
                        [
                          0.3333333333333333,
                          "#9c179e"
                        ],
                        [
                          0.4444444444444444,
                          "#bd3786"
                        ],
                        [
                          0.5555555555555556,
                          "#d8576b"
                        ],
                        [
                          0.6666666666666666,
                          "#ed7953"
                        ],
                        [
                          0.7777777777777778,
                          "#fb9f3a"
                        ],
                        [
                          0.8888888888888888,
                          "#fdca26"
                        ],
                        [
                          1,
                          "#f0f921"
                        ]
                      ],
                      "sequentialminus": [
                        [
                          0,
                          "#0d0887"
                        ],
                        [
                          0.1111111111111111,
                          "#46039f"
                        ],
                        [
                          0.2222222222222222,
                          "#7201a8"
                        ],
                        [
                          0.3333333333333333,
                          "#9c179e"
                        ],
                        [
                          0.4444444444444444,
                          "#bd3786"
                        ],
                        [
                          0.5555555555555556,
                          "#d8576b"
                        ],
                        [
                          0.6666666666666666,
                          "#ed7953"
                        ],
                        [
                          0.7777777777777778,
                          "#fb9f3a"
                        ],
                        [
                          0.8888888888888888,
                          "#fdca26"
                        ],
                        [
                          1,
                          "#f0f921"
                        ]
                      ]
                    },
                    "colorway": [
                      "#636efa",
                      "#EF553B",
                      "#00cc96",
                      "#ab63fa",
                      "#FFA15A",
                      "#19d3f3",
                      "#FF6692",
                      "#B6E880",
                      "#FF97FF",
                      "#FECB52"
                    ],
                    "font": {
                      "color": "#f2f5fa"
                    },
                    "geo": {
                      "bgcolor": "rgb(17,17,17)",
                      "lakecolor": "rgb(17,17,17)",
                      "landcolor": "rgb(17,17,17)",
                      "showlakes": true,
                      "showland": true,
                      "subunitcolor": "#506784"
                    },
                    "hoverlabel": {
                      "align": "left"
                    },
                    "hovermode": "closest",
                    "mapbox": {
                      "style": "dark"
                    },
                    "paper_bgcolor": "rgb(17,17,17)",
                    "plot_bgcolor": "rgb(17,17,17)",
                    "polar": {
                      "angularaxis": {
                        "gridcolor": "#506784",
                        "linecolor": "#506784",
                        "ticks": ""
                      },
                      "bgcolor": "rgb(17,17,17)",
                      "radialaxis": {
                        "gridcolor": "#506784",
                        "linecolor": "#506784",
                        "ticks": ""
                      }
                    },
                    "scene": {
                      "xaxis": {
                        "backgroundcolor": "rgb(17,17,17)",
                        "gridcolor": "#506784",
                        "gridwidth": 2,
                        "linecolor": "#506784",
                        "showbackground": true,
                        "ticks": "",
                        "zerolinecolor": "#C8D4E3"
                      },
                      "yaxis": {
                        "backgroundcolor": "rgb(17,17,17)",
                        "gridcolor": "#506784",
                        "gridwidth": 2,
                        "linecolor": "#506784",
                        "showbackground": true,
                        "ticks": "",
                        "zerolinecolor": "#C8D4E3"
                      },
                      "zaxis": {
                        "backgroundcolor": "rgb(17,17,17)",
                        "gridcolor": "#506784",
                        "gridwidth": 2,
                        "linecolor": "#506784",
                        "showbackground": true,
                        "ticks": "",
                        "zerolinecolor": "#C8D4E3"
                      }
                    },
                    "shapedefaults": {
                      "line": {
                        "color": "#f2f5fa"
                      }
                    },
                    "sliderdefaults": {
                      "bgcolor": "#C8D4E3",
                      "bordercolor": "rgb(17,17,17)",
                      "borderwidth": 1,
                      "tickwidth": 0
                    },
                    "ternary": {
                      "aaxis": {
                        "gridcolor": "#506784",
                        "linecolor": "#506784",
                        "ticks": ""
                      },
                      "baxis": {
                        "gridcolor": "#506784",
                        "linecolor": "#506784",
                        "ticks": ""
                      },
                      "bgcolor": "rgb(17,17,17)",
                      "caxis": {
                        "gridcolor": "#506784",
                        "linecolor": "#506784",
                        "ticks": ""
                      }
                    },
                    "title": {
                      "x": 0.05
                    },
                    "updatemenudefaults": {
                      "bgcolor": "#506784",
                      "borderwidth": 0
                    },
                    "xaxis": {
                      "automargin": true,
                      "gridcolor": "#283442",
                      "linecolor": "#506784",
                      "ticks": "",
                      "title": {
                        "standoff": 15
                      },
                      "zerolinecolor": "#283442",
                      "zerolinewidth": 2
                    },
                    "yaxis": {
                      "automargin": true,
                      "gridcolor": "#283442",
                      "linecolor": "#506784",
                      "ticks": "",
                      "title": {
                        "standoff": 15
                      },
                      "zerolinecolor": "#283442",
                      "zerolinewidth": 2
                    }
                  }
                },
                "title": {
                  "text": "Annual Volume of Production of Other Major Crops<br><sup>National averages in metric tons</sup>"
                },
                "xaxis": {
                  "anchor": "y",
                  "domain": [
                    0,
                    1
                  ],
                  "title": {
                    "text": "Period"
                  }
                },
                "yaxis": {
                  "anchor": "x",
                  "domain": [
                    0,
                    1
                  ],
                  "title": {
                    "text": "Volume of Production"
                  }
                }
              }
            }
          },
          "metadata": {},
          "output_type": "display_data"
        }
      ],
      "source": [
        "# Volume of Production of Selected Major Crops\n",
        "df = pd.read_csv(\"datasets/agricultural-indicators/volume_rice-corn.csv\", skiprows=2)\n",
        "df = df[df[\"Geolocation\"] == \"PHILIPPINES\"]\n",
        "df = df[(df[\"Commodity\"] == \"Palay\") | (df[\"Commodity\"] == \"Corn\")]\n",
        "df = df.filter(regex=\"Commodity|Geolocation|Annual\", axis=1)\n",
        "df.columns = map(lambda x: x.replace(\" Annual\", \"\") if \"Annual\" in x else x, df.columns)\n",
        "df = df.melt(id_vars=[\"Commodity\", \"Geolocation\"], value_vars=df.columns[2:], var_name=\"Period\", value_name=\"Volume\")\n",
        "fig = px.histogram(df, x=\"Period\", y=\"Volume\", color=\"Commodity\", barmode='group',\n",
        "                   title='Annual Volume of Production of Rice and Corn<br><sup>National averages in metric tons</sup>').update_layout(\n",
        "    xaxis_title=\"Period\", yaxis_title = \"Volume of Production\", template=\"plotly_dark\")\n",
        "fig.show()\n",
        "\n",
        "df = pd.read_csv(\"datasets/agricultural-indicators/volume_other-crops.csv\", skiprows=2)\n",
        "df = df[df[\"Geolocation\"] == \"PHILIPPINES\"]\n",
        "df = df[df[\"Commodity\"].isin([\"Coconut Mature\", \"Sugarcane\", \"Banana\", \"Tomato\", \"Garlic (Dried bulb)\", \"Onion (mature bulb)\", \"Sweet Potato/Camote\"])]\n",
        "df = df.filter(regex=\"Commodity|Geolocation|Annual\", axis=1)\n",
        "df.columns = map(lambda x: x.replace(\" Annual\", \"\") if \"Annual\" in x else x, df.columns)\n",
        "df = df.melt(id_vars=[\"Commodity\", \"Geolocation\"], value_vars=df.columns[2:], var_name=\"Period\", value_name=\"Volume\")\n",
        "fig = px.line(df, x=\"Period\", y=\"Volume\", color=\"Commodity\", title='Annual Volume of Production of Other Major Crops<br><sup>National averages in metric tons</sup>').update_layout(\n",
        "    xaxis_title=\"Period\", yaxis_title = \"Volume of Production\", template='plotly_dark')\n",
        "fig.show()"
      ]
    },
    {
      "cell_type": "markdown",
      "metadata": {},
      "source": [
        "## Annual Analysis\n",
        "Annual-National and Annual-Regional analysis of the commodities Rice and Corn. Other major crops to follow.\n",
        "\n",
        "**NOTE:** The core agricultural indicators are Stocks, Volume, and Area Harvested, while the core market indicators are Farmgate Price, Wholesale Price, and Retail Price.\n",
        "\n",
        "This is important to know especially during visualization where Farmgate price is used as a slicer."
      ]
    },
    {
      "cell_type": "code",
      "execution_count": 140,
      "metadata": {},
      "outputs": [
        {
          "data": {
            "text/html": [
              "<div>\n",
              "<style scoped>\n",
              "    .dataframe tbody tr th:only-of-type {\n",
              "        vertical-align: middle;\n",
              "    }\n",
              "\n",
              "    .dataframe tbody tr th {\n",
              "        vertical-align: top;\n",
              "    }\n",
              "\n",
              "    .dataframe thead th {\n",
              "        text-align: right;\n",
              "    }\n",
              "</style>\n",
              "<table border=\"1\" class=\"dataframe\">\n",
              "  <thead>\n",
              "    <tr style=\"text-align: right;\">\n",
              "      <th></th>\n",
              "      <th>Geolocation</th>\n",
              "      <th>Commodity</th>\n",
              "      <th>Period</th>\n",
              "      <th>Stocks</th>\n",
              "      <th>Volume</th>\n",
              "      <th>Area Harvested</th>\n",
              "      <th>Self-Sufficiency Ratio</th>\n",
              "      <th>Import-Dependency Ratio</th>\n",
              "      <th>SU Gross Supply</th>\n",
              "      <th>UT Consumable</th>\n",
              "      <th>Farmgate Price</th>\n",
              "      <th>Wholesale Price</th>\n",
              "      <th>Retail Price</th>\n",
              "      <th>CPI All Income</th>\n",
              "      <th>CPI Bottom 30</th>\n",
              "      <th>Net Returns</th>\n",
              "      <th>Inflation Rate</th>\n",
              "      <th>NCR RPI</th>\n",
              "    </tr>\n",
              "  </thead>\n",
              "  <tbody>\n",
              "    <tr>\n",
              "      <th>0</th>\n",
              "      <td>philippines</td>\n",
              "      <td>Rice</td>\n",
              "      <td>2012</td>\n",
              "      <td>2227.093846</td>\n",
              "      <td>18032525.47</td>\n",
              "      <td>4690061.17</td>\n",
              "      <td>91.9</td>\n",
              "      <td>8.1</td>\n",
              "      <td>15465</td>\n",
              "      <td>11473</td>\n",
              "      <td>15.923333</td>\n",
              "      <td>32.800833</td>\n",
              "      <td>33.476667</td>\n",
              "      <td>81.632653</td>\n",
              "      <td>82.987552</td>\n",
              "      <td>19891.0</td>\n",
              "      <td>3.16</td>\n",
              "      <td>100.000000</td>\n",
              "    </tr>\n",
              "    <tr>\n",
              "      <th>1</th>\n",
              "      <td>region i (ilocos region)</td>\n",
              "      <td>Rice</td>\n",
              "      <td>2012</td>\n",
              "      <td>2227.093846</td>\n",
              "      <td>1737695.00</td>\n",
              "      <td>403169.00</td>\n",
              "      <td>91.9</td>\n",
              "      <td>8.1</td>\n",
              "      <td>15465</td>\n",
              "      <td>11473</td>\n",
              "      <td>17.065000</td>\n",
              "      <td>31.941667</td>\n",
              "      <td>31.070000</td>\n",
              "      <td>79.113924</td>\n",
              "      <td>79.617834</td>\n",
              "      <td>21639.0</td>\n",
              "      <td>3.16</td>\n",
              "      <td>100.000000</td>\n",
              "    </tr>\n",
              "    <tr>\n",
              "      <th>2</th>\n",
              "      <td>region ii (cagayan valley)</td>\n",
              "      <td>Rice</td>\n",
              "      <td>2012</td>\n",
              "      <td>2227.093846</td>\n",
              "      <td>2425536.47</td>\n",
              "      <td>582557.17</td>\n",
              "      <td>91.9</td>\n",
              "      <td>8.1</td>\n",
              "      <td>15465</td>\n",
              "      <td>11473</td>\n",
              "      <td>16.246667</td>\n",
              "      <td>30.702500</td>\n",
              "      <td>31.335833</td>\n",
              "      <td>80.971660</td>\n",
              "      <td>83.752094</td>\n",
              "      <td>16638.0</td>\n",
              "      <td>3.16</td>\n",
              "      <td>100.000000</td>\n",
              "    </tr>\n",
              "    <tr>\n",
              "      <th>3</th>\n",
              "      <td>region iii (central luzon)</td>\n",
              "      <td>Rice</td>\n",
              "      <td>2012</td>\n",
              "      <td>2227.093846</td>\n",
              "      <td>3220607.00</td>\n",
              "      <td>675781.00</td>\n",
              "      <td>91.9</td>\n",
              "      <td>8.1</td>\n",
              "      <td>15465</td>\n",
              "      <td>11473</td>\n",
              "      <td>17.145000</td>\n",
              "      <td>32.866667</td>\n",
              "      <td>31.469167</td>\n",
              "      <td>79.617834</td>\n",
              "      <td>79.808460</td>\n",
              "      <td>30333.0</td>\n",
              "      <td>3.16</td>\n",
              "      <td>100.000000</td>\n",
              "    </tr>\n",
              "    <tr>\n",
              "      <th>4</th>\n",
              "      <td>region iv-a (calabarzon)</td>\n",
              "      <td>Rice</td>\n",
              "      <td>2012</td>\n",
              "      <td>2227.093846</td>\n",
              "      <td>389272.00</td>\n",
              "      <td>113010.00</td>\n",
              "      <td>91.9</td>\n",
              "      <td>8.1</td>\n",
              "      <td>15465</td>\n",
              "      <td>11473</td>\n",
              "      <td>14.383333</td>\n",
              "      <td>32.295000</td>\n",
              "      <td>31.097500</td>\n",
              "      <td>81.168831</td>\n",
              "      <td>81.234768</td>\n",
              "      <td>8926.0</td>\n",
              "      <td>3.16</td>\n",
              "      <td>100.000000</td>\n",
              "    </tr>\n",
              "    <tr>\n",
              "      <th>...</th>\n",
              "      <td>...</td>\n",
              "      <td>...</td>\n",
              "      <td>...</td>\n",
              "      <td>...</td>\n",
              "      <td>...</td>\n",
              "      <td>...</td>\n",
              "      <td>...</td>\n",
              "      <td>...</td>\n",
              "      <td>...</td>\n",
              "      <td>...</td>\n",
              "      <td>...</td>\n",
              "      <td>...</td>\n",
              "      <td>...</td>\n",
              "      <td>...</td>\n",
              "      <td>...</td>\n",
              "      <td>...</td>\n",
              "      <td>...</td>\n",
              "      <td>...</td>\n",
              "    </tr>\n",
              "    <tr>\n",
              "      <th>315</th>\n",
              "      <td>region x (northern mindanao)</td>\n",
              "      <td>Corn</td>\n",
              "      <td>2021</td>\n",
              "      <td>794.027692</td>\n",
              "      <td>1455030.45</td>\n",
              "      <td>384864.96</td>\n",
              "      <td>94.8</td>\n",
              "      <td>5.2</td>\n",
              "      <td>9661</td>\n",
              "      <td>2609</td>\n",
              "      <td>14.165000</td>\n",
              "      <td>29.346667</td>\n",
              "      <td>24.740833</td>\n",
              "      <td>100.408755</td>\n",
              "      <td>100.126349</td>\n",
              "      <td>29280.0</td>\n",
              "      <td>3.93</td>\n",
              "      <td>125.858333</td>\n",
              "    </tr>\n",
              "    <tr>\n",
              "      <th>316</th>\n",
              "      <td>region xi (davao region)</td>\n",
              "      <td>Corn</td>\n",
              "      <td>2021</td>\n",
              "      <td>794.027692</td>\n",
              "      <td>266894.04</td>\n",
              "      <td>175295.00</td>\n",
              "      <td>94.8</td>\n",
              "      <td>5.2</td>\n",
              "      <td>9661</td>\n",
              "      <td>2609</td>\n",
              "      <td>12.265000</td>\n",
              "      <td>30.242500</td>\n",
              "      <td>20.895000</td>\n",
              "      <td>90.597157</td>\n",
              "      <td>90.246810</td>\n",
              "      <td>NaN</td>\n",
              "      <td>3.93</td>\n",
              "      <td>125.858333</td>\n",
              "    </tr>\n",
              "    <tr>\n",
              "      <th>317</th>\n",
              "      <td>region xii (soccsksargen)</td>\n",
              "      <td>Corn</td>\n",
              "      <td>2021</td>\n",
              "      <td>794.027692</td>\n",
              "      <td>1105238.85</td>\n",
              "      <td>397363.00</td>\n",
              "      <td>94.8</td>\n",
              "      <td>5.2</td>\n",
              "      <td>9661</td>\n",
              "      <td>2609</td>\n",
              "      <td>15.142500</td>\n",
              "      <td>30.406667</td>\n",
              "      <td>NaN</td>\n",
              "      <td>102.613642</td>\n",
              "      <td>102.581773</td>\n",
              "      <td>14274.0</td>\n",
              "      <td>3.93</td>\n",
              "      <td>125.858333</td>\n",
              "    </tr>\n",
              "    <tr>\n",
              "      <th>318</th>\n",
              "      <td>region xiii (caraga)</td>\n",
              "      <td>Corn</td>\n",
              "      <td>2021</td>\n",
              "      <td>794.027692</td>\n",
              "      <td>141648.84</td>\n",
              "      <td>40933.00</td>\n",
              "      <td>94.8</td>\n",
              "      <td>5.2</td>\n",
              "      <td>9661</td>\n",
              "      <td>2609</td>\n",
              "      <td>12.490833</td>\n",
              "      <td>32.963333</td>\n",
              "      <td>NaN</td>\n",
              "      <td>115.890568</td>\n",
              "      <td>115.778763</td>\n",
              "      <td>15564.0</td>\n",
              "      <td>3.93</td>\n",
              "      <td>125.858333</td>\n",
              "    </tr>\n",
              "    <tr>\n",
              "      <th>319</th>\n",
              "      <td>bangsamoro autonomous region in muslim mindana...</td>\n",
              "      <td>Corn</td>\n",
              "      <td>2021</td>\n",
              "      <td>794.027692</td>\n",
              "      <td>1137310.72</td>\n",
              "      <td>350929.19</td>\n",
              "      <td>94.8</td>\n",
              "      <td>5.2</td>\n",
              "      <td>9661</td>\n",
              "      <td>2609</td>\n",
              "      <td>12.575833</td>\n",
              "      <td>NaN</td>\n",
              "      <td>NaN</td>\n",
              "      <td>98.141678</td>\n",
              "      <td>95.450050</td>\n",
              "      <td>20390.0</td>\n",
              "      <td>3.93</td>\n",
              "      <td>125.858333</td>\n",
              "    </tr>\n",
              "  </tbody>\n",
              "</table>\n",
              "<p>320 rows × 18 columns</p>\n",
              "</div>"
            ],
            "text/plain": [
              "                                           Geolocation Commodity Period  \\\n",
              "0                                          philippines      Rice   2012   \n",
              "1                             region i (ilocos region)      Rice   2012   \n",
              "2                           region ii (cagayan valley)      Rice   2012   \n",
              "3                           region iii (central luzon)      Rice   2012   \n",
              "4                             region iv-a (calabarzon)      Rice   2012   \n",
              "..                                                 ...       ...    ...   \n",
              "315                       region x (northern mindanao)      Corn   2021   \n",
              "316                           region xi (davao region)      Corn   2021   \n",
              "317                          region xii (soccsksargen)      Corn   2021   \n",
              "318                               region xiii (caraga)      Corn   2021   \n",
              "319  bangsamoro autonomous region in muslim mindana...      Corn   2021   \n",
              "\n",
              "          Stocks       Volume  Area Harvested  Self-Sufficiency Ratio  \\\n",
              "0    2227.093846  18032525.47      4690061.17                    91.9   \n",
              "1    2227.093846   1737695.00       403169.00                    91.9   \n",
              "2    2227.093846   2425536.47       582557.17                    91.9   \n",
              "3    2227.093846   3220607.00       675781.00                    91.9   \n",
              "4    2227.093846    389272.00       113010.00                    91.9   \n",
              "..           ...          ...             ...                     ...   \n",
              "315   794.027692   1455030.45       384864.96                    94.8   \n",
              "316   794.027692    266894.04       175295.00                    94.8   \n",
              "317   794.027692   1105238.85       397363.00                    94.8   \n",
              "318   794.027692    141648.84        40933.00                    94.8   \n",
              "319   794.027692   1137310.72       350929.19                    94.8   \n",
              "\n",
              "     Import-Dependency Ratio  SU Gross Supply  UT Consumable  Farmgate Price  \\\n",
              "0                        8.1            15465          11473       15.923333   \n",
              "1                        8.1            15465          11473       17.065000   \n",
              "2                        8.1            15465          11473       16.246667   \n",
              "3                        8.1            15465          11473       17.145000   \n",
              "4                        8.1            15465          11473       14.383333   \n",
              "..                       ...              ...            ...             ...   \n",
              "315                      5.2             9661           2609       14.165000   \n",
              "316                      5.2             9661           2609       12.265000   \n",
              "317                      5.2             9661           2609       15.142500   \n",
              "318                      5.2             9661           2609       12.490833   \n",
              "319                      5.2             9661           2609       12.575833   \n",
              "\n",
              "     Wholesale Price  Retail Price  CPI All Income  CPI Bottom 30  \\\n",
              "0          32.800833     33.476667       81.632653      82.987552   \n",
              "1          31.941667     31.070000       79.113924      79.617834   \n",
              "2          30.702500     31.335833       80.971660      83.752094   \n",
              "3          32.866667     31.469167       79.617834      79.808460   \n",
              "4          32.295000     31.097500       81.168831      81.234768   \n",
              "..               ...           ...             ...            ...   \n",
              "315        29.346667     24.740833      100.408755     100.126349   \n",
              "316        30.242500     20.895000       90.597157      90.246810   \n",
              "317        30.406667           NaN      102.613642     102.581773   \n",
              "318        32.963333           NaN      115.890568     115.778763   \n",
              "319              NaN           NaN       98.141678      95.450050   \n",
              "\n",
              "     Net Returns  Inflation Rate     NCR RPI  \n",
              "0        19891.0            3.16  100.000000  \n",
              "1        21639.0            3.16  100.000000  \n",
              "2        16638.0            3.16  100.000000  \n",
              "3        30333.0            3.16  100.000000  \n",
              "4         8926.0            3.16  100.000000  \n",
              "..           ...             ...         ...  \n",
              "315      29280.0            3.93  125.858333  \n",
              "316          NaN            3.93  125.858333  \n",
              "317      14274.0            3.93  125.858333  \n",
              "318      15564.0            3.93  125.858333  \n",
              "319      20390.0            3.93  125.858333  \n",
              "\n",
              "[320 rows x 18 columns]"
            ]
          },
          "execution_count": 140,
          "metadata": {},
          "output_type": "execute_result"
        }
      ],
      "source": [
        "# @title Annual megadataset for rice and corn\n",
        "# NOTE: Filter this during visualization and analysis to just Philippines or Regions\n",
        "def filter_period(df: pd.DataFrame, _type: str):\n",
        "    if _type == \"Annual\":\n",
        "        df = df.filter(regex=\"Commodity|Geolocation|Annual\", axis=1)\n",
        "        df.columns = map(lambda x: x.replace(\" Annual\", \"\") if \"Annual\" in x else x, df.columns)\n",
        "    elif _type == \"Quarterly\":\n",
        "        df = df.filter(regex=\"Commodity|Geolocation|Q\\d\", axis=1)\n",
        "    return df\n",
        "\n",
        "# Volume of Rice and Corn\n",
        "df1 = pd.read_csv(\"datasets/agricultural-indicators/volume_rice-corn.csv\", skiprows=2, na_values=[\"..\"])\n",
        "df1 = filter_period(df1, \"Annual\")\n",
        "df1 = preprocess_baesians_2(df1, {\"Palay\": \"Rice\", \"Corn\": \"Corn\"}, melt_value=\"Volume\")\n",
        "\n",
        "df1_1 = pd.read_csv(\"datasets/agricultural-indicators/volume_other-crops.csv\", skiprows=2, na_values=[\"..\"])\n",
        "df1_1 = filter_period(df1_1, \"Annual\")\n",
        "df1_1 = preprocess_baesians_2(df1_1, {\"Onion (mature bulb)\": \"Onion\", \"Garlic (Dried bulb)\": \"Garlic\"}, melt_value=\"Volume\")\n",
        "\n",
        "# Farmgate Price of Rice and Corn\n",
        "df2 = pd.read_csv(\"datasets/prices/prices_farmgate-new-series_2010-2023.csv\")\n",
        "df2 = get_annual_columns(df2, range(2012, 2024), 2)\n",
        "df2 = preprocess_baesians_2(df2, {\"Palay [Paddy] Other Variety, dry (conv. to 14% mc)\": \"Rice\",\n",
        "                                  \"Corngrain [Maize] Yellow, matured\": \"Corn\",\n",
        "                                  \"Onion Red Creole (Bermuda Red)\": \"Onion\",\n",
        "                                  \"Garlic\": \"Garlic\"}, melt_value=\"Farmgate Price\")\n",
        "\n",
        "# Wholesale Price of Rice and Corn\n",
        "df3 = pd.read_csv(\"datasets/prices/prices_wholesale-new-series_2010-2023.csv\",)\n",
        "df3 = get_annual_columns(df3, range(2012, 2024), 2)\n",
        "df3 = preprocess_baesians_2(df3, {\"Well Milled Rice (WMR)\": \"Rice\",\n",
        "                                  \"Corngrits White\": \"Corn\",\n",
        "                                  \"Onion Red Creole (Bermuda Red)\": \"Onion\",\n",
        "                                  \"Garlic\": \"Garlic\"}, melt_value=\"Wholesale Price\")\n",
        "\n",
        "# Retail Price of Rice and Corn\n",
        "df4 = pd.read_csv(\"datasets/prices/prices_retail_2012-2023.csv\")\n",
        "df4 = get_annual_columns(df4, range(2012, 2024), 2)\n",
        "df4 = preprocess_baesians_2(df4, {\"RICE, REGULAR-MILLED, 1 KG\": \"Rice\",\n",
        "                                  'WHOLE CORN GRAIN, YELLOW, 1 KG': \"Corn\",\n",
        "                                  \"ONION RED CREOLE (BERMUDA RED), 1 KG\": \"Onion\",\n",
        "                                  \"GARLIC, NATIVE, 1 KG\": \"Garlic\"}, melt_value=\"Retail Price\")\n",
        "\n",
        "# Area Harvested of Rice and Corn\n",
        "df5 = pd.read_csv(\"datasets/agricultural-indicators/area-harvested-palay-corn_quarterly-annual_2010-2023.csv\", skiprows=2)\n",
        "df5 = filter_period(df5, \"Annual\")\n",
        "df5 = preprocess_baesians_2(df5, {\"Palay\": \"Rice\", \"Corn\": \"Corn\"}, melt_value=\"Area Harvested\")\n",
        "\n",
        "df5_1 = pd.read_csv(\"datasets/agricultural-indicators/area-harvested-by-crop-by-region_quarterly-annual_2013-2023.csv\", skiprows=2)\n",
        "df5_1 = filter_period(df5_1, \"Annual\")\n",
        "df5_1 = preprocess_baesians_2(df5_1, {\"Onion (mature bulb)\": \"Onion\",\n",
        "                                      \"Garlic (bulb)\": \"Garlic\"}, melt_value=\"Area Harvested\")\n",
        "\n",
        "# Consumer Price Index (All Income) per Region of Rice and Corn\n",
        "df6 = pd.read_csv(\"datasets/price-indices-2018-based/cpi_all-income-households-by-cg-with-backcasting_1994-2023.csv\")\n",
        "df6 = get_annual_columns(df6, range(2012, 2024), 2)\n",
        "df6 = preprocess_baesians_2(df6, {\"01.1.1.12 - Rice\": \"Rice\",\n",
        "                                  \"01.1.1.16 - Corn\": \"Corn\",\n",
        "                                  \"01.1.7 - Vegetables, tubers, plantains, cooking bananas and pulses (ND)\": \"Onion\"},\n",
        "                            melt_value=\"CPI All Income\")\n",
        "\n",
        "# Consumer Price Index (Bottom 30) per Region of Rice and Corn\n",
        "df7 = pd.read_csv(\"datasets/price-indices-2018-based/cpi_bottom-30-by-cg-with-backcasting_2012-2017.csv\")\n",
        "df7 = preprocess_baesians_2(df7, {\"01.1.1.12 - Rice\": \"Rice\", \"01.1.1.16 - Corn\": \"Corn\"}, melt_value=None)\n",
        "tdf = pd.read_csv(\"datasets/price-indices-2018-based/cpi_bottom-30-by-cg_2018-2023.csv\")\n",
        "tdf = preprocess_baesians_2(tdf, {\"01.1.1.12 - Rice\": \"Rice\", \"01.1.1.16 - Corn\": \"Corn\"}, melt_value=None)\n",
        "df7 = pd.merge(df7, tdf, on=[\"Geolocation\", \"Commodity\"])\n",
        "df7 = get_annual_columns(df7, range(2012, 2024), 2)\n",
        "df7 = preprocess_baesians_2(df7, {\"Rice\": \"Rice\", \"Corn\": \"Corn\"}, melt_value=\"CPI Bottom 30\")\n",
        "\n",
        "# Costs and Returns per Region of Rice and Corn\n",
        "df8 = pd.read_csv(\"datasets/agricultural-indicators/costs-and-returns_rice-and-corn.csv\", skiprows=1, na_values=[\"..\"])\n",
        "df8 = df8[df8[\"Item\"] == \"NET RETURNS\"]\n",
        "df8.drop(\"Item\", axis=1, inplace=True)\n",
        "df8.rename({\"Type\": \"Commodity\"}, axis=1, inplace=True)\n",
        "df8 = preprocess_baesians_2(df8, {\"All Palay\": \"Rice\", \"All Corn\": \"Corn\"}, melt_value=\"Net Returns\")\n",
        "df8 = df8[df8[\"Period\"].str.contains(\"Average\")]\n",
        "df8[\"Period\"] = df8[\"Period\"].apply(lambda x: x.split()[1])\n",
        "\n",
        "# National Inflation Rate\n",
        "df9 = pd.read_csv(\"datasets/statista_inflation-rate-in-the-philippines-2029.csv\", dtype={\"Period\": object, \"Inflation Rate\": float})\n",
        "\n",
        "# NCR Retail Price Index on Food\n",
        "df10 = pd.read_csv(\"datasets/price-indices-2018-based/rpi-in-ncr_food-only_1998-2023.csv\")\n",
        "df10 = get_annual_columns(df10, range(2010, 2024), 2)\n",
        "df10 = preprocess_baesians_2(df10, {\"Food\": \"Food\"}, melt_value=\"NCR RPI\").drop([\"Geolocation\", \"Commodity\"], axis=1)\n",
        "\n",
        "# Agricultural Self-Sufficiency for Rice and Corn\n",
        "df11 = pd.read_csv(\"datasets/agricultural-indicators/agri-self-sufficiency-ratio.csv\", skiprows=1)\n",
        "df11 = df11[(df11[\"Commodity\"] == \"Rice\") | (df11[\"Commodity\"] == \"Corn\")]\n",
        "df11 = df11.melt(\"Commodity\", df11.columns[1:], \"Period\", \"Self-Sufficiency Ratio\")\n",
        "\n",
        "# Agricultural Import-Dependency for Rice and Corn\n",
        "df12 = pd.read_csv(\"datasets/agricultural-indicators/agri-import-dependency-ratio.csv\", skiprows=1)\n",
        "df12 = df12[(df12[\"Commodity\"] == \"Rice\") | (df12[\"Commodity\"] == \"Corn\")]\n",
        "df12 = df12.melt(\"Commodity\", df12.columns[1:], \"Period\", \"Import-Dependency Ratio\")\n",
        "\n",
        "# SU Gross Supply and UT Total Net Food Disposable for Rice and Corn\n",
        "# Explained here: https://openstat.psa.gov.ph/Metadata/2B5FSUA0\n",
        "df13 = pd.read_csv(\"datasets/agricultural-indicators/SUT_Rice and Corn.csv\")\n",
        "df13 = df13.filter(regex=\"Commodity|Year|Gross|Food\")\n",
        "df13.rename({\"Year\": \"Period\", \"UT Total Net Food Disposable\": \"UT Consumable\"}, axis=1, inplace=True)\n",
        "df13.Period = df13.Period.astype(str)\n",
        "\n",
        "# Merge all dfs into a single df\n",
        "# NOTE: Remove df8 or add more year data or commodities to increase number of samples\n",
        "# NOTE: You may adjust here which dfs are included in the final df\n",
        "dfs = [df1, df2, df3, df4, df5, df6, df7, df8, df9, df10, df11, df12, df13]\n",
        "df = functools.reduce(lambda left, right: pd.merge(left, right), dfs)\n",
        "move_column(df, \"Area Harvested\", 4)\n",
        "move_column(df, \"Self-Sufficiency Ratio\", 5)\n",
        "move_column(df, \"Import-Dependency Ratio\", 6)\n",
        "move_column(df, \"SU Gross Supply\", 7)\n",
        "move_column(df, \"UT Consumable\", 8)\n",
        "\n",
        "# # Stocks of Rice (Annual)\n",
        "tdf1 = df_stocks.copy()\n",
        "tdf2 = df[[\"Commodity\", \"Period\"]].copy()\n",
        "tdf2[\"Period\"] = pd.to_numeric(tdf2[\"Period\"])\n",
        "df.insert(3, \"Stocks\", pd.merge(tdf2, tdf1)[\"Stocks\"])\n",
        "\n",
        "# Additional Datasets -------------------------------------\n",
        "# Uncomment the merge to include\n",
        "# Poverty Incidence per Region (only on 2015, 2018, 2021)\n",
        "df_poverty = pd.read_csv(\"datasets/poverty_incidence.csv\", skiprows=1)\n",
        "df_poverty[\"Commodity\"] = \"Rice\"\n",
        "df_poverty = preprocess_baesians_2(df_poverty, {\"Rice\": \"Rice\"}, melt_value=\"Poverty Incidence\")\n",
        "df_poverty.drop(\"Commodity\", axis=1, inplace=True)\n",
        "\n",
        "# df = pd.merge(df, df_poverty) # NOTE: Uncomment to include\n",
        "\n",
        "# Enrollment Rate per Region\n",
        "df_enrollment = pd.read_csv(\"datasets/enrollment.csv\", na_values=[\"..\"])\n",
        "df_enrollment[\"Geolocation\"] = df[\"Geolocation\"].str.lower().replace(region_short_to_long)\n",
        "df_enrollment = df_enrollment.filter(regex=\"Geolocation|Both Sexes\")\n",
        "df_enrollment.rename(lambda x: x.split()[2] if \"Both\" in x else x, axis=1, inplace=True)\n",
        "df_enrollment = df_enrollment.melt([\"Geolocation\"], df_enrollment.columns[1:], \"Period\", \"Enrollment Rate\")\n",
        "\n",
        "# df = pd.merge(df, df_enrollment) # NOTE: Uncomment to include\n",
        "\n",
        "# Cleanup\n",
        "del dfs, df1, df2, df3, df4, df5, df6, df7, df8, df9, df10, df11, df12, df13\n",
        "\n",
        "df"
      ]
    },
    {
      "cell_type": "code",
      "execution_count": 141,
      "metadata": {},
      "outputs": [
        {
          "data": {
            "application/vnd.plotly.v1+json": {
              "config": {
                "plotlyServerURL": "https://plot.ly"
              },
              "data": [
                {
                  "coloraxis": "coloraxis",
                  "hovertemplate": "x: %{x}<br>y: %{y}<br><b>Correlation: %{z}</b><extra></extra>",
                  "name": "0",
                  "texttemplate": "%{z:.2f}",
                  "type": "heatmap",
                  "x": [
                    "Farmgate Price",
                    "Wholesale Price",
                    "Retail Price",
                    "CPI All Income",
                    "CPI Bottom 30",
                    "Net Returns",
                    "Inflation Rate",
                    "NCR RPI"
                  ],
                  "xaxis": "x",
                  "y": [
                    "Stocks",
                    "Volume",
                    "Area Harvested",
                    "Self-Sufficiency Ratio",
                    "Import-Dependency Ratio",
                    "SU Gross Supply",
                    "UT Consumable"
                  ],
                  "yaxis": "y",
                  "z": [
                    [
                      -0.1172839389784259,
                      0.014282257793802869,
                      0.09411861677293477,
                      0.1759661369027809,
                      0.18222698469390222,
                      -0.04977983728060332,
                      -0.8353521339984756,
                      0.03436609022201242
                    ],
                    [
                      0.06282587391601237,
                      -0.18597956256336665,
                      -0.3005688937509343,
                      0.052895669763712495,
                      0.011733067711340806,
                      0.3370327632175787,
                      0.030067279831762547,
                      0.04050998347004053
                    ],
                    [
                      -0.0017247169146766838,
                      -0.24499767402539846,
                      -0.31285369655374395,
                      0.014199688277172584,
                      -0.03230874883070483,
                      0.23841896206283056,
                      0.02024268440279732,
                      0.011321497829963821
                    ],
                    [
                      0.03716702024725805,
                      -0.3224791538176706,
                      -0.38641106771302275,
                      -0.3742289439156577,
                      -0.27391590799145377,
                      0.1972325641748611,
                      -0.2535139324088339,
                      -0.8032794922699679
                    ],
                    [
                      -0.03522308175223984,
                      0.32378920735171424,
                      0.3873434300618118,
                      0.37498903239197073,
                      0.2747672419049797,
                      -0.1956405948272972,
                      0.2549001915439837,
                      0.8023953078339563
                    ],
                    [
                      -0.06074585936345045,
                      0.32818663488582916,
                      0.3713145216468497,
                      0.3699374194319343,
                      0.2540166042619156,
                      -0.23359692641110744,
                      0.27538721539813105,
                      0.9257552304096535
                    ],
                    [
                      -0.11972613480633489,
                      0.23251419297318926,
                      0.25930812879291537,
                      0.24219929402810153,
                      0.1264140798478558,
                      -0.2768640268262797,
                      0.3720485132107926,
                      0.9071996901501427
                    ]
                  ]
                }
              ],
              "layout": {
                "coloraxis": {
                  "colorscale": [
                    [
                      0,
                      "#0d0887"
                    ],
                    [
                      0.1111111111111111,
                      "#46039f"
                    ],
                    [
                      0.2222222222222222,
                      "#7201a8"
                    ],
                    [
                      0.3333333333333333,
                      "#9c179e"
                    ],
                    [
                      0.4444444444444444,
                      "#bd3786"
                    ],
                    [
                      0.5555555555555556,
                      "#d8576b"
                    ],
                    [
                      0.6666666666666666,
                      "#ed7953"
                    ],
                    [
                      0.7777777777777778,
                      "#fb9f3a"
                    ],
                    [
                      0.8888888888888888,
                      "#fdca26"
                    ],
                    [
                      1,
                      "#f0f921"
                    ]
                  ]
                },
                "template": {
                  "data": {
                    "bar": [
                      {
                        "error_x": {
                          "color": "#f2f5fa"
                        },
                        "error_y": {
                          "color": "#f2f5fa"
                        },
                        "marker": {
                          "line": {
                            "color": "rgb(17,17,17)",
                            "width": 0.5
                          },
                          "pattern": {
                            "fillmode": "overlay",
                            "size": 10,
                            "solidity": 0.2
                          }
                        },
                        "type": "bar"
                      }
                    ],
                    "barpolar": [
                      {
                        "marker": {
                          "line": {
                            "color": "rgb(17,17,17)",
                            "width": 0.5
                          },
                          "pattern": {
                            "fillmode": "overlay",
                            "size": 10,
                            "solidity": 0.2
                          }
                        },
                        "type": "barpolar"
                      }
                    ],
                    "carpet": [
                      {
                        "aaxis": {
                          "endlinecolor": "#A2B1C6",
                          "gridcolor": "#506784",
                          "linecolor": "#506784",
                          "minorgridcolor": "#506784",
                          "startlinecolor": "#A2B1C6"
                        },
                        "baxis": {
                          "endlinecolor": "#A2B1C6",
                          "gridcolor": "#506784",
                          "linecolor": "#506784",
                          "minorgridcolor": "#506784",
                          "startlinecolor": "#A2B1C6"
                        },
                        "type": "carpet"
                      }
                    ],
                    "choropleth": [
                      {
                        "colorbar": {
                          "outlinewidth": 0,
                          "ticks": ""
                        },
                        "type": "choropleth"
                      }
                    ],
                    "contour": [
                      {
                        "colorbar": {
                          "outlinewidth": 0,
                          "ticks": ""
                        },
                        "colorscale": [
                          [
                            0,
                            "#0d0887"
                          ],
                          [
                            0.1111111111111111,
                            "#46039f"
                          ],
                          [
                            0.2222222222222222,
                            "#7201a8"
                          ],
                          [
                            0.3333333333333333,
                            "#9c179e"
                          ],
                          [
                            0.4444444444444444,
                            "#bd3786"
                          ],
                          [
                            0.5555555555555556,
                            "#d8576b"
                          ],
                          [
                            0.6666666666666666,
                            "#ed7953"
                          ],
                          [
                            0.7777777777777778,
                            "#fb9f3a"
                          ],
                          [
                            0.8888888888888888,
                            "#fdca26"
                          ],
                          [
                            1,
                            "#f0f921"
                          ]
                        ],
                        "type": "contour"
                      }
                    ],
                    "contourcarpet": [
                      {
                        "colorbar": {
                          "outlinewidth": 0,
                          "ticks": ""
                        },
                        "type": "contourcarpet"
                      }
                    ],
                    "heatmap": [
                      {
                        "colorbar": {
                          "outlinewidth": 0,
                          "ticks": ""
                        },
                        "colorscale": [
                          [
                            0,
                            "#0d0887"
                          ],
                          [
                            0.1111111111111111,
                            "#46039f"
                          ],
                          [
                            0.2222222222222222,
                            "#7201a8"
                          ],
                          [
                            0.3333333333333333,
                            "#9c179e"
                          ],
                          [
                            0.4444444444444444,
                            "#bd3786"
                          ],
                          [
                            0.5555555555555556,
                            "#d8576b"
                          ],
                          [
                            0.6666666666666666,
                            "#ed7953"
                          ],
                          [
                            0.7777777777777778,
                            "#fb9f3a"
                          ],
                          [
                            0.8888888888888888,
                            "#fdca26"
                          ],
                          [
                            1,
                            "#f0f921"
                          ]
                        ],
                        "type": "heatmap"
                      }
                    ],
                    "heatmapgl": [
                      {
                        "colorbar": {
                          "outlinewidth": 0,
                          "ticks": ""
                        },
                        "colorscale": [
                          [
                            0,
                            "#0d0887"
                          ],
                          [
                            0.1111111111111111,
                            "#46039f"
                          ],
                          [
                            0.2222222222222222,
                            "#7201a8"
                          ],
                          [
                            0.3333333333333333,
                            "#9c179e"
                          ],
                          [
                            0.4444444444444444,
                            "#bd3786"
                          ],
                          [
                            0.5555555555555556,
                            "#d8576b"
                          ],
                          [
                            0.6666666666666666,
                            "#ed7953"
                          ],
                          [
                            0.7777777777777778,
                            "#fb9f3a"
                          ],
                          [
                            0.8888888888888888,
                            "#fdca26"
                          ],
                          [
                            1,
                            "#f0f921"
                          ]
                        ],
                        "type": "heatmapgl"
                      }
                    ],
                    "histogram": [
                      {
                        "marker": {
                          "pattern": {
                            "fillmode": "overlay",
                            "size": 10,
                            "solidity": 0.2
                          }
                        },
                        "type": "histogram"
                      }
                    ],
                    "histogram2d": [
                      {
                        "colorbar": {
                          "outlinewidth": 0,
                          "ticks": ""
                        },
                        "colorscale": [
                          [
                            0,
                            "#0d0887"
                          ],
                          [
                            0.1111111111111111,
                            "#46039f"
                          ],
                          [
                            0.2222222222222222,
                            "#7201a8"
                          ],
                          [
                            0.3333333333333333,
                            "#9c179e"
                          ],
                          [
                            0.4444444444444444,
                            "#bd3786"
                          ],
                          [
                            0.5555555555555556,
                            "#d8576b"
                          ],
                          [
                            0.6666666666666666,
                            "#ed7953"
                          ],
                          [
                            0.7777777777777778,
                            "#fb9f3a"
                          ],
                          [
                            0.8888888888888888,
                            "#fdca26"
                          ],
                          [
                            1,
                            "#f0f921"
                          ]
                        ],
                        "type": "histogram2d"
                      }
                    ],
                    "histogram2dcontour": [
                      {
                        "colorbar": {
                          "outlinewidth": 0,
                          "ticks": ""
                        },
                        "colorscale": [
                          [
                            0,
                            "#0d0887"
                          ],
                          [
                            0.1111111111111111,
                            "#46039f"
                          ],
                          [
                            0.2222222222222222,
                            "#7201a8"
                          ],
                          [
                            0.3333333333333333,
                            "#9c179e"
                          ],
                          [
                            0.4444444444444444,
                            "#bd3786"
                          ],
                          [
                            0.5555555555555556,
                            "#d8576b"
                          ],
                          [
                            0.6666666666666666,
                            "#ed7953"
                          ],
                          [
                            0.7777777777777778,
                            "#fb9f3a"
                          ],
                          [
                            0.8888888888888888,
                            "#fdca26"
                          ],
                          [
                            1,
                            "#f0f921"
                          ]
                        ],
                        "type": "histogram2dcontour"
                      }
                    ],
                    "mesh3d": [
                      {
                        "colorbar": {
                          "outlinewidth": 0,
                          "ticks": ""
                        },
                        "type": "mesh3d"
                      }
                    ],
                    "parcoords": [
                      {
                        "line": {
                          "colorbar": {
                            "outlinewidth": 0,
                            "ticks": ""
                          }
                        },
                        "type": "parcoords"
                      }
                    ],
                    "pie": [
                      {
                        "automargin": true,
                        "type": "pie"
                      }
                    ],
                    "scatter": [
                      {
                        "marker": {
                          "line": {
                            "color": "#283442"
                          }
                        },
                        "type": "scatter"
                      }
                    ],
                    "scatter3d": [
                      {
                        "line": {
                          "colorbar": {
                            "outlinewidth": 0,
                            "ticks": ""
                          }
                        },
                        "marker": {
                          "colorbar": {
                            "outlinewidth": 0,
                            "ticks": ""
                          }
                        },
                        "type": "scatter3d"
                      }
                    ],
                    "scattercarpet": [
                      {
                        "marker": {
                          "colorbar": {
                            "outlinewidth": 0,
                            "ticks": ""
                          }
                        },
                        "type": "scattercarpet"
                      }
                    ],
                    "scattergeo": [
                      {
                        "marker": {
                          "colorbar": {
                            "outlinewidth": 0,
                            "ticks": ""
                          }
                        },
                        "type": "scattergeo"
                      }
                    ],
                    "scattergl": [
                      {
                        "marker": {
                          "line": {
                            "color": "#283442"
                          }
                        },
                        "type": "scattergl"
                      }
                    ],
                    "scattermapbox": [
                      {
                        "marker": {
                          "colorbar": {
                            "outlinewidth": 0,
                            "ticks": ""
                          }
                        },
                        "type": "scattermapbox"
                      }
                    ],
                    "scatterpolar": [
                      {
                        "marker": {
                          "colorbar": {
                            "outlinewidth": 0,
                            "ticks": ""
                          }
                        },
                        "type": "scatterpolar"
                      }
                    ],
                    "scatterpolargl": [
                      {
                        "marker": {
                          "colorbar": {
                            "outlinewidth": 0,
                            "ticks": ""
                          }
                        },
                        "type": "scatterpolargl"
                      }
                    ],
                    "scatterternary": [
                      {
                        "marker": {
                          "colorbar": {
                            "outlinewidth": 0,
                            "ticks": ""
                          }
                        },
                        "type": "scatterternary"
                      }
                    ],
                    "surface": [
                      {
                        "colorbar": {
                          "outlinewidth": 0,
                          "ticks": ""
                        },
                        "colorscale": [
                          [
                            0,
                            "#0d0887"
                          ],
                          [
                            0.1111111111111111,
                            "#46039f"
                          ],
                          [
                            0.2222222222222222,
                            "#7201a8"
                          ],
                          [
                            0.3333333333333333,
                            "#9c179e"
                          ],
                          [
                            0.4444444444444444,
                            "#bd3786"
                          ],
                          [
                            0.5555555555555556,
                            "#d8576b"
                          ],
                          [
                            0.6666666666666666,
                            "#ed7953"
                          ],
                          [
                            0.7777777777777778,
                            "#fb9f3a"
                          ],
                          [
                            0.8888888888888888,
                            "#fdca26"
                          ],
                          [
                            1,
                            "#f0f921"
                          ]
                        ],
                        "type": "surface"
                      }
                    ],
                    "table": [
                      {
                        "cells": {
                          "fill": {
                            "color": "#506784"
                          },
                          "line": {
                            "color": "rgb(17,17,17)"
                          }
                        },
                        "header": {
                          "fill": {
                            "color": "#2a3f5f"
                          },
                          "line": {
                            "color": "rgb(17,17,17)"
                          }
                        },
                        "type": "table"
                      }
                    ]
                  },
                  "layout": {
                    "annotationdefaults": {
                      "arrowcolor": "#f2f5fa",
                      "arrowhead": 0,
                      "arrowwidth": 1
                    },
                    "autotypenumbers": "strict",
                    "coloraxis": {
                      "colorbar": {
                        "outlinewidth": 0,
                        "ticks": ""
                      }
                    },
                    "colorscale": {
                      "diverging": [
                        [
                          0,
                          "#8e0152"
                        ],
                        [
                          0.1,
                          "#c51b7d"
                        ],
                        [
                          0.2,
                          "#de77ae"
                        ],
                        [
                          0.3,
                          "#f1b6da"
                        ],
                        [
                          0.4,
                          "#fde0ef"
                        ],
                        [
                          0.5,
                          "#f7f7f7"
                        ],
                        [
                          0.6,
                          "#e6f5d0"
                        ],
                        [
                          0.7,
                          "#b8e186"
                        ],
                        [
                          0.8,
                          "#7fbc41"
                        ],
                        [
                          0.9,
                          "#4d9221"
                        ],
                        [
                          1,
                          "#276419"
                        ]
                      ],
                      "sequential": [
                        [
                          0,
                          "#0d0887"
                        ],
                        [
                          0.1111111111111111,
                          "#46039f"
                        ],
                        [
                          0.2222222222222222,
                          "#7201a8"
                        ],
                        [
                          0.3333333333333333,
                          "#9c179e"
                        ],
                        [
                          0.4444444444444444,
                          "#bd3786"
                        ],
                        [
                          0.5555555555555556,
                          "#d8576b"
                        ],
                        [
                          0.6666666666666666,
                          "#ed7953"
                        ],
                        [
                          0.7777777777777778,
                          "#fb9f3a"
                        ],
                        [
                          0.8888888888888888,
                          "#fdca26"
                        ],
                        [
                          1,
                          "#f0f921"
                        ]
                      ],
                      "sequentialminus": [
                        [
                          0,
                          "#0d0887"
                        ],
                        [
                          0.1111111111111111,
                          "#46039f"
                        ],
                        [
                          0.2222222222222222,
                          "#7201a8"
                        ],
                        [
                          0.3333333333333333,
                          "#9c179e"
                        ],
                        [
                          0.4444444444444444,
                          "#bd3786"
                        ],
                        [
                          0.5555555555555556,
                          "#d8576b"
                        ],
                        [
                          0.6666666666666666,
                          "#ed7953"
                        ],
                        [
                          0.7777777777777778,
                          "#fb9f3a"
                        ],
                        [
                          0.8888888888888888,
                          "#fdca26"
                        ],
                        [
                          1,
                          "#f0f921"
                        ]
                      ]
                    },
                    "colorway": [
                      "#636efa",
                      "#EF553B",
                      "#00cc96",
                      "#ab63fa",
                      "#FFA15A",
                      "#19d3f3",
                      "#FF6692",
                      "#B6E880",
                      "#FF97FF",
                      "#FECB52"
                    ],
                    "font": {
                      "color": "#f2f5fa"
                    },
                    "geo": {
                      "bgcolor": "rgb(17,17,17)",
                      "lakecolor": "rgb(17,17,17)",
                      "landcolor": "rgb(17,17,17)",
                      "showlakes": true,
                      "showland": true,
                      "subunitcolor": "#506784"
                    },
                    "hoverlabel": {
                      "align": "left"
                    },
                    "hovermode": "closest",
                    "mapbox": {
                      "style": "dark"
                    },
                    "paper_bgcolor": "rgb(17,17,17)",
                    "plot_bgcolor": "rgb(17,17,17)",
                    "polar": {
                      "angularaxis": {
                        "gridcolor": "#506784",
                        "linecolor": "#506784",
                        "ticks": ""
                      },
                      "bgcolor": "rgb(17,17,17)",
                      "radialaxis": {
                        "gridcolor": "#506784",
                        "linecolor": "#506784",
                        "ticks": ""
                      }
                    },
                    "scene": {
                      "xaxis": {
                        "backgroundcolor": "rgb(17,17,17)",
                        "gridcolor": "#506784",
                        "gridwidth": 2,
                        "linecolor": "#506784",
                        "showbackground": true,
                        "ticks": "",
                        "zerolinecolor": "#C8D4E3"
                      },
                      "yaxis": {
                        "backgroundcolor": "rgb(17,17,17)",
                        "gridcolor": "#506784",
                        "gridwidth": 2,
                        "linecolor": "#506784",
                        "showbackground": true,
                        "ticks": "",
                        "zerolinecolor": "#C8D4E3"
                      },
                      "zaxis": {
                        "backgroundcolor": "rgb(17,17,17)",
                        "gridcolor": "#506784",
                        "gridwidth": 2,
                        "linecolor": "#506784",
                        "showbackground": true,
                        "ticks": "",
                        "zerolinecolor": "#C8D4E3"
                      }
                    },
                    "shapedefaults": {
                      "line": {
                        "color": "#f2f5fa"
                      }
                    },
                    "sliderdefaults": {
                      "bgcolor": "#C8D4E3",
                      "bordercolor": "rgb(17,17,17)",
                      "borderwidth": 1,
                      "tickwidth": 0
                    },
                    "ternary": {
                      "aaxis": {
                        "gridcolor": "#506784",
                        "linecolor": "#506784",
                        "ticks": ""
                      },
                      "baxis": {
                        "gridcolor": "#506784",
                        "linecolor": "#506784",
                        "ticks": ""
                      },
                      "bgcolor": "rgb(17,17,17)",
                      "caxis": {
                        "gridcolor": "#506784",
                        "linecolor": "#506784",
                        "ticks": ""
                      }
                    },
                    "title": {
                      "x": 0.05
                    },
                    "updatemenudefaults": {
                      "bgcolor": "#506784",
                      "borderwidth": 0
                    },
                    "xaxis": {
                      "automargin": true,
                      "gridcolor": "#283442",
                      "linecolor": "#506784",
                      "ticks": "",
                      "title": {
                        "standoff": 15
                      },
                      "zerolinecolor": "#283442",
                      "zerolinewidth": 2
                    },
                    "yaxis": {
                      "automargin": true,
                      "gridcolor": "#283442",
                      "linecolor": "#506784",
                      "ticks": "",
                      "title": {
                        "standoff": 15
                      },
                      "zerolinecolor": "#283442",
                      "zerolinewidth": 2
                    }
                  }
                },
                "title": {
                  "text": "Rice: Correlation Matrix on 140 Annual-Regional Samples"
                },
                "xaxis": {
                  "anchor": "y",
                  "constrain": "domain",
                  "domain": [
                    0,
                    1
                  ],
                  "scaleanchor": "y",
                  "title": {
                    "text": "Socioeconomic Indicator for Rice"
                  }
                },
                "yaxis": {
                  "anchor": "x",
                  "autorange": "reversed",
                  "constrain": "domain",
                  "domain": [
                    0,
                    1
                  ],
                  "title": {
                    "text": "Agricultural Indicator for Rice"
                  }
                }
              }
            }
          },
          "metadata": {},
          "output_type": "display_data"
        },
        {
          "data": {
            "application/vnd.plotly.v1+json": {
              "config": {
                "plotlyServerURL": "https://plot.ly"
              },
              "data": [
                {
                  "name": "Volume",
                  "type": "scatter",
                  "x": [
                    "2012",
                    "2013",
                    "2014",
                    "2015",
                    "2016",
                    "2017",
                    "2018",
                    "2019",
                    "2020",
                    "2021"
                  ],
                  "xaxis": "x",
                  "y": [
                    18032525.47,
                    18439419.73,
                    18967826.17,
                    18149837.78,
                    17627244.82,
                    19276346.63,
                    19066093.94,
                    18814827.29,
                    19294855.51,
                    19960170.2
                  ],
                  "yaxis": "y"
                },
                {
                  "name": "Retail Price",
                  "type": "scatter",
                  "x": [
                    "2012",
                    "2013",
                    "2014",
                    "2015",
                    "2016",
                    "2017",
                    "2018",
                    "2019",
                    "2020",
                    "2021"
                  ],
                  "xaxis": "x",
                  "y": [
                    33.47666666666667,
                    34.95250000000001,
                    39.7575,
                    39.46666666666667,
                    39.0175,
                    39.52,
                    43.36666666666667,
                    41.1575,
                    39.05166666666667,
                    38.279999999999994
                  ],
                  "yaxis": "y2"
                }
              ],
              "layout": {
                "template": {
                  "data": {
                    "bar": [
                      {
                        "error_x": {
                          "color": "#f2f5fa"
                        },
                        "error_y": {
                          "color": "#f2f5fa"
                        },
                        "marker": {
                          "line": {
                            "color": "rgb(17,17,17)",
                            "width": 0.5
                          },
                          "pattern": {
                            "fillmode": "overlay",
                            "size": 10,
                            "solidity": 0.2
                          }
                        },
                        "type": "bar"
                      }
                    ],
                    "barpolar": [
                      {
                        "marker": {
                          "line": {
                            "color": "rgb(17,17,17)",
                            "width": 0.5
                          },
                          "pattern": {
                            "fillmode": "overlay",
                            "size": 10,
                            "solidity": 0.2
                          }
                        },
                        "type": "barpolar"
                      }
                    ],
                    "carpet": [
                      {
                        "aaxis": {
                          "endlinecolor": "#A2B1C6",
                          "gridcolor": "#506784",
                          "linecolor": "#506784",
                          "minorgridcolor": "#506784",
                          "startlinecolor": "#A2B1C6"
                        },
                        "baxis": {
                          "endlinecolor": "#A2B1C6",
                          "gridcolor": "#506784",
                          "linecolor": "#506784",
                          "minorgridcolor": "#506784",
                          "startlinecolor": "#A2B1C6"
                        },
                        "type": "carpet"
                      }
                    ],
                    "choropleth": [
                      {
                        "colorbar": {
                          "outlinewidth": 0,
                          "ticks": ""
                        },
                        "type": "choropleth"
                      }
                    ],
                    "contour": [
                      {
                        "colorbar": {
                          "outlinewidth": 0,
                          "ticks": ""
                        },
                        "colorscale": [
                          [
                            0,
                            "#0d0887"
                          ],
                          [
                            0.1111111111111111,
                            "#46039f"
                          ],
                          [
                            0.2222222222222222,
                            "#7201a8"
                          ],
                          [
                            0.3333333333333333,
                            "#9c179e"
                          ],
                          [
                            0.4444444444444444,
                            "#bd3786"
                          ],
                          [
                            0.5555555555555556,
                            "#d8576b"
                          ],
                          [
                            0.6666666666666666,
                            "#ed7953"
                          ],
                          [
                            0.7777777777777778,
                            "#fb9f3a"
                          ],
                          [
                            0.8888888888888888,
                            "#fdca26"
                          ],
                          [
                            1,
                            "#f0f921"
                          ]
                        ],
                        "type": "contour"
                      }
                    ],
                    "contourcarpet": [
                      {
                        "colorbar": {
                          "outlinewidth": 0,
                          "ticks": ""
                        },
                        "type": "contourcarpet"
                      }
                    ],
                    "heatmap": [
                      {
                        "colorbar": {
                          "outlinewidth": 0,
                          "ticks": ""
                        },
                        "colorscale": [
                          [
                            0,
                            "#0d0887"
                          ],
                          [
                            0.1111111111111111,
                            "#46039f"
                          ],
                          [
                            0.2222222222222222,
                            "#7201a8"
                          ],
                          [
                            0.3333333333333333,
                            "#9c179e"
                          ],
                          [
                            0.4444444444444444,
                            "#bd3786"
                          ],
                          [
                            0.5555555555555556,
                            "#d8576b"
                          ],
                          [
                            0.6666666666666666,
                            "#ed7953"
                          ],
                          [
                            0.7777777777777778,
                            "#fb9f3a"
                          ],
                          [
                            0.8888888888888888,
                            "#fdca26"
                          ],
                          [
                            1,
                            "#f0f921"
                          ]
                        ],
                        "type": "heatmap"
                      }
                    ],
                    "heatmapgl": [
                      {
                        "colorbar": {
                          "outlinewidth": 0,
                          "ticks": ""
                        },
                        "colorscale": [
                          [
                            0,
                            "#0d0887"
                          ],
                          [
                            0.1111111111111111,
                            "#46039f"
                          ],
                          [
                            0.2222222222222222,
                            "#7201a8"
                          ],
                          [
                            0.3333333333333333,
                            "#9c179e"
                          ],
                          [
                            0.4444444444444444,
                            "#bd3786"
                          ],
                          [
                            0.5555555555555556,
                            "#d8576b"
                          ],
                          [
                            0.6666666666666666,
                            "#ed7953"
                          ],
                          [
                            0.7777777777777778,
                            "#fb9f3a"
                          ],
                          [
                            0.8888888888888888,
                            "#fdca26"
                          ],
                          [
                            1,
                            "#f0f921"
                          ]
                        ],
                        "type": "heatmapgl"
                      }
                    ],
                    "histogram": [
                      {
                        "marker": {
                          "pattern": {
                            "fillmode": "overlay",
                            "size": 10,
                            "solidity": 0.2
                          }
                        },
                        "type": "histogram"
                      }
                    ],
                    "histogram2d": [
                      {
                        "colorbar": {
                          "outlinewidth": 0,
                          "ticks": ""
                        },
                        "colorscale": [
                          [
                            0,
                            "#0d0887"
                          ],
                          [
                            0.1111111111111111,
                            "#46039f"
                          ],
                          [
                            0.2222222222222222,
                            "#7201a8"
                          ],
                          [
                            0.3333333333333333,
                            "#9c179e"
                          ],
                          [
                            0.4444444444444444,
                            "#bd3786"
                          ],
                          [
                            0.5555555555555556,
                            "#d8576b"
                          ],
                          [
                            0.6666666666666666,
                            "#ed7953"
                          ],
                          [
                            0.7777777777777778,
                            "#fb9f3a"
                          ],
                          [
                            0.8888888888888888,
                            "#fdca26"
                          ],
                          [
                            1,
                            "#f0f921"
                          ]
                        ],
                        "type": "histogram2d"
                      }
                    ],
                    "histogram2dcontour": [
                      {
                        "colorbar": {
                          "outlinewidth": 0,
                          "ticks": ""
                        },
                        "colorscale": [
                          [
                            0,
                            "#0d0887"
                          ],
                          [
                            0.1111111111111111,
                            "#46039f"
                          ],
                          [
                            0.2222222222222222,
                            "#7201a8"
                          ],
                          [
                            0.3333333333333333,
                            "#9c179e"
                          ],
                          [
                            0.4444444444444444,
                            "#bd3786"
                          ],
                          [
                            0.5555555555555556,
                            "#d8576b"
                          ],
                          [
                            0.6666666666666666,
                            "#ed7953"
                          ],
                          [
                            0.7777777777777778,
                            "#fb9f3a"
                          ],
                          [
                            0.8888888888888888,
                            "#fdca26"
                          ],
                          [
                            1,
                            "#f0f921"
                          ]
                        ],
                        "type": "histogram2dcontour"
                      }
                    ],
                    "mesh3d": [
                      {
                        "colorbar": {
                          "outlinewidth": 0,
                          "ticks": ""
                        },
                        "type": "mesh3d"
                      }
                    ],
                    "parcoords": [
                      {
                        "line": {
                          "colorbar": {
                            "outlinewidth": 0,
                            "ticks": ""
                          }
                        },
                        "type": "parcoords"
                      }
                    ],
                    "pie": [
                      {
                        "automargin": true,
                        "type": "pie"
                      }
                    ],
                    "scatter": [
                      {
                        "marker": {
                          "line": {
                            "color": "#283442"
                          }
                        },
                        "type": "scatter"
                      }
                    ],
                    "scatter3d": [
                      {
                        "line": {
                          "colorbar": {
                            "outlinewidth": 0,
                            "ticks": ""
                          }
                        },
                        "marker": {
                          "colorbar": {
                            "outlinewidth": 0,
                            "ticks": ""
                          }
                        },
                        "type": "scatter3d"
                      }
                    ],
                    "scattercarpet": [
                      {
                        "marker": {
                          "colorbar": {
                            "outlinewidth": 0,
                            "ticks": ""
                          }
                        },
                        "type": "scattercarpet"
                      }
                    ],
                    "scattergeo": [
                      {
                        "marker": {
                          "colorbar": {
                            "outlinewidth": 0,
                            "ticks": ""
                          }
                        },
                        "type": "scattergeo"
                      }
                    ],
                    "scattergl": [
                      {
                        "marker": {
                          "line": {
                            "color": "#283442"
                          }
                        },
                        "type": "scattergl"
                      }
                    ],
                    "scattermapbox": [
                      {
                        "marker": {
                          "colorbar": {
                            "outlinewidth": 0,
                            "ticks": ""
                          }
                        },
                        "type": "scattermapbox"
                      }
                    ],
                    "scatterpolar": [
                      {
                        "marker": {
                          "colorbar": {
                            "outlinewidth": 0,
                            "ticks": ""
                          }
                        },
                        "type": "scatterpolar"
                      }
                    ],
                    "scatterpolargl": [
                      {
                        "marker": {
                          "colorbar": {
                            "outlinewidth": 0,
                            "ticks": ""
                          }
                        },
                        "type": "scatterpolargl"
                      }
                    ],
                    "scatterternary": [
                      {
                        "marker": {
                          "colorbar": {
                            "outlinewidth": 0,
                            "ticks": ""
                          }
                        },
                        "type": "scatterternary"
                      }
                    ],
                    "surface": [
                      {
                        "colorbar": {
                          "outlinewidth": 0,
                          "ticks": ""
                        },
                        "colorscale": [
                          [
                            0,
                            "#0d0887"
                          ],
                          [
                            0.1111111111111111,
                            "#46039f"
                          ],
                          [
                            0.2222222222222222,
                            "#7201a8"
                          ],
                          [
                            0.3333333333333333,
                            "#9c179e"
                          ],
                          [
                            0.4444444444444444,
                            "#bd3786"
                          ],
                          [
                            0.5555555555555556,
                            "#d8576b"
                          ],
                          [
                            0.6666666666666666,
                            "#ed7953"
                          ],
                          [
                            0.7777777777777778,
                            "#fb9f3a"
                          ],
                          [
                            0.8888888888888888,
                            "#fdca26"
                          ],
                          [
                            1,
                            "#f0f921"
                          ]
                        ],
                        "type": "surface"
                      }
                    ],
                    "table": [
                      {
                        "cells": {
                          "fill": {
                            "color": "#506784"
                          },
                          "line": {
                            "color": "rgb(17,17,17)"
                          }
                        },
                        "header": {
                          "fill": {
                            "color": "#2a3f5f"
                          },
                          "line": {
                            "color": "rgb(17,17,17)"
                          }
                        },
                        "type": "table"
                      }
                    ]
                  },
                  "layout": {
                    "annotationdefaults": {
                      "arrowcolor": "#f2f5fa",
                      "arrowhead": 0,
                      "arrowwidth": 1
                    },
                    "autotypenumbers": "strict",
                    "coloraxis": {
                      "colorbar": {
                        "outlinewidth": 0,
                        "ticks": ""
                      }
                    },
                    "colorscale": {
                      "diverging": [
                        [
                          0,
                          "#8e0152"
                        ],
                        [
                          0.1,
                          "#c51b7d"
                        ],
                        [
                          0.2,
                          "#de77ae"
                        ],
                        [
                          0.3,
                          "#f1b6da"
                        ],
                        [
                          0.4,
                          "#fde0ef"
                        ],
                        [
                          0.5,
                          "#f7f7f7"
                        ],
                        [
                          0.6,
                          "#e6f5d0"
                        ],
                        [
                          0.7,
                          "#b8e186"
                        ],
                        [
                          0.8,
                          "#7fbc41"
                        ],
                        [
                          0.9,
                          "#4d9221"
                        ],
                        [
                          1,
                          "#276419"
                        ]
                      ],
                      "sequential": [
                        [
                          0,
                          "#0d0887"
                        ],
                        [
                          0.1111111111111111,
                          "#46039f"
                        ],
                        [
                          0.2222222222222222,
                          "#7201a8"
                        ],
                        [
                          0.3333333333333333,
                          "#9c179e"
                        ],
                        [
                          0.4444444444444444,
                          "#bd3786"
                        ],
                        [
                          0.5555555555555556,
                          "#d8576b"
                        ],
                        [
                          0.6666666666666666,
                          "#ed7953"
                        ],
                        [
                          0.7777777777777778,
                          "#fb9f3a"
                        ],
                        [
                          0.8888888888888888,
                          "#fdca26"
                        ],
                        [
                          1,
                          "#f0f921"
                        ]
                      ],
                      "sequentialminus": [
                        [
                          0,
                          "#0d0887"
                        ],
                        [
                          0.1111111111111111,
                          "#46039f"
                        ],
                        [
                          0.2222222222222222,
                          "#7201a8"
                        ],
                        [
                          0.3333333333333333,
                          "#9c179e"
                        ],
                        [
                          0.4444444444444444,
                          "#bd3786"
                        ],
                        [
                          0.5555555555555556,
                          "#d8576b"
                        ],
                        [
                          0.6666666666666666,
                          "#ed7953"
                        ],
                        [
                          0.7777777777777778,
                          "#fb9f3a"
                        ],
                        [
                          0.8888888888888888,
                          "#fdca26"
                        ],
                        [
                          1,
                          "#f0f921"
                        ]
                      ]
                    },
                    "colorway": [
                      "#636efa",
                      "#EF553B",
                      "#00cc96",
                      "#ab63fa",
                      "#FFA15A",
                      "#19d3f3",
                      "#FF6692",
                      "#B6E880",
                      "#FF97FF",
                      "#FECB52"
                    ],
                    "font": {
                      "color": "#f2f5fa"
                    },
                    "geo": {
                      "bgcolor": "rgb(17,17,17)",
                      "lakecolor": "rgb(17,17,17)",
                      "landcolor": "rgb(17,17,17)",
                      "showlakes": true,
                      "showland": true,
                      "subunitcolor": "#506784"
                    },
                    "hoverlabel": {
                      "align": "left"
                    },
                    "hovermode": "closest",
                    "mapbox": {
                      "style": "dark"
                    },
                    "paper_bgcolor": "rgb(17,17,17)",
                    "plot_bgcolor": "rgb(17,17,17)",
                    "polar": {
                      "angularaxis": {
                        "gridcolor": "#506784",
                        "linecolor": "#506784",
                        "ticks": ""
                      },
                      "bgcolor": "rgb(17,17,17)",
                      "radialaxis": {
                        "gridcolor": "#506784",
                        "linecolor": "#506784",
                        "ticks": ""
                      }
                    },
                    "scene": {
                      "xaxis": {
                        "backgroundcolor": "rgb(17,17,17)",
                        "gridcolor": "#506784",
                        "gridwidth": 2,
                        "linecolor": "#506784",
                        "showbackground": true,
                        "ticks": "",
                        "zerolinecolor": "#C8D4E3"
                      },
                      "yaxis": {
                        "backgroundcolor": "rgb(17,17,17)",
                        "gridcolor": "#506784",
                        "gridwidth": 2,
                        "linecolor": "#506784",
                        "showbackground": true,
                        "ticks": "",
                        "zerolinecolor": "#C8D4E3"
                      },
                      "zaxis": {
                        "backgroundcolor": "rgb(17,17,17)",
                        "gridcolor": "#506784",
                        "gridwidth": 2,
                        "linecolor": "#506784",
                        "showbackground": true,
                        "ticks": "",
                        "zerolinecolor": "#C8D4E3"
                      }
                    },
                    "shapedefaults": {
                      "line": {
                        "color": "#f2f5fa"
                      }
                    },
                    "sliderdefaults": {
                      "bgcolor": "#C8D4E3",
                      "bordercolor": "rgb(17,17,17)",
                      "borderwidth": 1,
                      "tickwidth": 0
                    },
                    "ternary": {
                      "aaxis": {
                        "gridcolor": "#506784",
                        "linecolor": "#506784",
                        "ticks": ""
                      },
                      "baxis": {
                        "gridcolor": "#506784",
                        "linecolor": "#506784",
                        "ticks": ""
                      },
                      "bgcolor": "rgb(17,17,17)",
                      "caxis": {
                        "gridcolor": "#506784",
                        "linecolor": "#506784",
                        "ticks": ""
                      }
                    },
                    "title": {
                      "x": 0.05
                    },
                    "updatemenudefaults": {
                      "bgcolor": "#506784",
                      "borderwidth": 0
                    },
                    "xaxis": {
                      "automargin": true,
                      "gridcolor": "#283442",
                      "linecolor": "#506784",
                      "ticks": "",
                      "title": {
                        "standoff": 15
                      },
                      "zerolinecolor": "#283442",
                      "zerolinewidth": 2
                    },
                    "yaxis": {
                      "automargin": true,
                      "gridcolor": "#283442",
                      "linecolor": "#506784",
                      "ticks": "",
                      "title": {
                        "standoff": 15
                      },
                      "zerolinecolor": "#283442",
                      "zerolinewidth": 2
                    }
                  }
                },
                "title": {
                  "text": "Rice: Volume of Production and Retail Price in the Philippines"
                },
                "xaxis": {
                  "anchor": "y",
                  "domain": [
                    0,
                    0.94
                  ],
                  "title": {
                    "text": "Year"
                  }
                },
                "yaxis": {
                  "anchor": "x",
                  "domain": [
                    0,
                    1
                  ],
                  "title": {
                    "text": "Volume of Production (metric tons)"
                  }
                },
                "yaxis2": {
                  "anchor": "x",
                  "overlaying": "y",
                  "side": "right",
                  "title": {
                    "text": "Retail Price (in PHP)"
                  }
                }
              }
            }
          },
          "metadata": {},
          "output_type": "display_data"
        },
        {
          "data": {
            "application/vnd.plotly.v1+json": {
              "config": {
                "plotlyServerURL": "https://plot.ly"
              },
              "data": [
                {
                  "name": "Stocks",
                  "type": "scatter",
                  "x": [
                    "2012",
                    "2013",
                    "2014",
                    "2015",
                    "2016",
                    "2017",
                    "2018",
                    "2019",
                    "2020",
                    "2021"
                  ],
                  "xaxis": "x",
                  "y": [
                    2227.093846153846,
                    2157.0515384615387,
                    2150.923076923077,
                    2579.6515384615386,
                    2819.688461538462,
                    2404.616923076923,
                    2095.564615384615,
                    2465.2923076923075,
                    2387.2207692307693,
                    2155.8138461538465
                  ],
                  "yaxis": "y"
                },
                {
                  "name": "Inflation Rate",
                  "type": "scatter",
                  "x": [
                    "2012",
                    "2013",
                    "2014",
                    "2015",
                    "2016",
                    "2017",
                    "2018",
                    "2019",
                    "2020",
                    "2021"
                  ],
                  "xaxis": "x",
                  "y": [
                    3.16,
                    2.59,
                    3.59,
                    0.69,
                    1.23,
                    2.85,
                    5.31,
                    2.39,
                    2.39,
                    3.93
                  ],
                  "yaxis": "y2"
                }
              ],
              "layout": {
                "template": {
                  "data": {
                    "bar": [
                      {
                        "error_x": {
                          "color": "#f2f5fa"
                        },
                        "error_y": {
                          "color": "#f2f5fa"
                        },
                        "marker": {
                          "line": {
                            "color": "rgb(17,17,17)",
                            "width": 0.5
                          },
                          "pattern": {
                            "fillmode": "overlay",
                            "size": 10,
                            "solidity": 0.2
                          }
                        },
                        "type": "bar"
                      }
                    ],
                    "barpolar": [
                      {
                        "marker": {
                          "line": {
                            "color": "rgb(17,17,17)",
                            "width": 0.5
                          },
                          "pattern": {
                            "fillmode": "overlay",
                            "size": 10,
                            "solidity": 0.2
                          }
                        },
                        "type": "barpolar"
                      }
                    ],
                    "carpet": [
                      {
                        "aaxis": {
                          "endlinecolor": "#A2B1C6",
                          "gridcolor": "#506784",
                          "linecolor": "#506784",
                          "minorgridcolor": "#506784",
                          "startlinecolor": "#A2B1C6"
                        },
                        "baxis": {
                          "endlinecolor": "#A2B1C6",
                          "gridcolor": "#506784",
                          "linecolor": "#506784",
                          "minorgridcolor": "#506784",
                          "startlinecolor": "#A2B1C6"
                        },
                        "type": "carpet"
                      }
                    ],
                    "choropleth": [
                      {
                        "colorbar": {
                          "outlinewidth": 0,
                          "ticks": ""
                        },
                        "type": "choropleth"
                      }
                    ],
                    "contour": [
                      {
                        "colorbar": {
                          "outlinewidth": 0,
                          "ticks": ""
                        },
                        "colorscale": [
                          [
                            0,
                            "#0d0887"
                          ],
                          [
                            0.1111111111111111,
                            "#46039f"
                          ],
                          [
                            0.2222222222222222,
                            "#7201a8"
                          ],
                          [
                            0.3333333333333333,
                            "#9c179e"
                          ],
                          [
                            0.4444444444444444,
                            "#bd3786"
                          ],
                          [
                            0.5555555555555556,
                            "#d8576b"
                          ],
                          [
                            0.6666666666666666,
                            "#ed7953"
                          ],
                          [
                            0.7777777777777778,
                            "#fb9f3a"
                          ],
                          [
                            0.8888888888888888,
                            "#fdca26"
                          ],
                          [
                            1,
                            "#f0f921"
                          ]
                        ],
                        "type": "contour"
                      }
                    ],
                    "contourcarpet": [
                      {
                        "colorbar": {
                          "outlinewidth": 0,
                          "ticks": ""
                        },
                        "type": "contourcarpet"
                      }
                    ],
                    "heatmap": [
                      {
                        "colorbar": {
                          "outlinewidth": 0,
                          "ticks": ""
                        },
                        "colorscale": [
                          [
                            0,
                            "#0d0887"
                          ],
                          [
                            0.1111111111111111,
                            "#46039f"
                          ],
                          [
                            0.2222222222222222,
                            "#7201a8"
                          ],
                          [
                            0.3333333333333333,
                            "#9c179e"
                          ],
                          [
                            0.4444444444444444,
                            "#bd3786"
                          ],
                          [
                            0.5555555555555556,
                            "#d8576b"
                          ],
                          [
                            0.6666666666666666,
                            "#ed7953"
                          ],
                          [
                            0.7777777777777778,
                            "#fb9f3a"
                          ],
                          [
                            0.8888888888888888,
                            "#fdca26"
                          ],
                          [
                            1,
                            "#f0f921"
                          ]
                        ],
                        "type": "heatmap"
                      }
                    ],
                    "heatmapgl": [
                      {
                        "colorbar": {
                          "outlinewidth": 0,
                          "ticks": ""
                        },
                        "colorscale": [
                          [
                            0,
                            "#0d0887"
                          ],
                          [
                            0.1111111111111111,
                            "#46039f"
                          ],
                          [
                            0.2222222222222222,
                            "#7201a8"
                          ],
                          [
                            0.3333333333333333,
                            "#9c179e"
                          ],
                          [
                            0.4444444444444444,
                            "#bd3786"
                          ],
                          [
                            0.5555555555555556,
                            "#d8576b"
                          ],
                          [
                            0.6666666666666666,
                            "#ed7953"
                          ],
                          [
                            0.7777777777777778,
                            "#fb9f3a"
                          ],
                          [
                            0.8888888888888888,
                            "#fdca26"
                          ],
                          [
                            1,
                            "#f0f921"
                          ]
                        ],
                        "type": "heatmapgl"
                      }
                    ],
                    "histogram": [
                      {
                        "marker": {
                          "pattern": {
                            "fillmode": "overlay",
                            "size": 10,
                            "solidity": 0.2
                          }
                        },
                        "type": "histogram"
                      }
                    ],
                    "histogram2d": [
                      {
                        "colorbar": {
                          "outlinewidth": 0,
                          "ticks": ""
                        },
                        "colorscale": [
                          [
                            0,
                            "#0d0887"
                          ],
                          [
                            0.1111111111111111,
                            "#46039f"
                          ],
                          [
                            0.2222222222222222,
                            "#7201a8"
                          ],
                          [
                            0.3333333333333333,
                            "#9c179e"
                          ],
                          [
                            0.4444444444444444,
                            "#bd3786"
                          ],
                          [
                            0.5555555555555556,
                            "#d8576b"
                          ],
                          [
                            0.6666666666666666,
                            "#ed7953"
                          ],
                          [
                            0.7777777777777778,
                            "#fb9f3a"
                          ],
                          [
                            0.8888888888888888,
                            "#fdca26"
                          ],
                          [
                            1,
                            "#f0f921"
                          ]
                        ],
                        "type": "histogram2d"
                      }
                    ],
                    "histogram2dcontour": [
                      {
                        "colorbar": {
                          "outlinewidth": 0,
                          "ticks": ""
                        },
                        "colorscale": [
                          [
                            0,
                            "#0d0887"
                          ],
                          [
                            0.1111111111111111,
                            "#46039f"
                          ],
                          [
                            0.2222222222222222,
                            "#7201a8"
                          ],
                          [
                            0.3333333333333333,
                            "#9c179e"
                          ],
                          [
                            0.4444444444444444,
                            "#bd3786"
                          ],
                          [
                            0.5555555555555556,
                            "#d8576b"
                          ],
                          [
                            0.6666666666666666,
                            "#ed7953"
                          ],
                          [
                            0.7777777777777778,
                            "#fb9f3a"
                          ],
                          [
                            0.8888888888888888,
                            "#fdca26"
                          ],
                          [
                            1,
                            "#f0f921"
                          ]
                        ],
                        "type": "histogram2dcontour"
                      }
                    ],
                    "mesh3d": [
                      {
                        "colorbar": {
                          "outlinewidth": 0,
                          "ticks": ""
                        },
                        "type": "mesh3d"
                      }
                    ],
                    "parcoords": [
                      {
                        "line": {
                          "colorbar": {
                            "outlinewidth": 0,
                            "ticks": ""
                          }
                        },
                        "type": "parcoords"
                      }
                    ],
                    "pie": [
                      {
                        "automargin": true,
                        "type": "pie"
                      }
                    ],
                    "scatter": [
                      {
                        "marker": {
                          "line": {
                            "color": "#283442"
                          }
                        },
                        "type": "scatter"
                      }
                    ],
                    "scatter3d": [
                      {
                        "line": {
                          "colorbar": {
                            "outlinewidth": 0,
                            "ticks": ""
                          }
                        },
                        "marker": {
                          "colorbar": {
                            "outlinewidth": 0,
                            "ticks": ""
                          }
                        },
                        "type": "scatter3d"
                      }
                    ],
                    "scattercarpet": [
                      {
                        "marker": {
                          "colorbar": {
                            "outlinewidth": 0,
                            "ticks": ""
                          }
                        },
                        "type": "scattercarpet"
                      }
                    ],
                    "scattergeo": [
                      {
                        "marker": {
                          "colorbar": {
                            "outlinewidth": 0,
                            "ticks": ""
                          }
                        },
                        "type": "scattergeo"
                      }
                    ],
                    "scattergl": [
                      {
                        "marker": {
                          "line": {
                            "color": "#283442"
                          }
                        },
                        "type": "scattergl"
                      }
                    ],
                    "scattermapbox": [
                      {
                        "marker": {
                          "colorbar": {
                            "outlinewidth": 0,
                            "ticks": ""
                          }
                        },
                        "type": "scattermapbox"
                      }
                    ],
                    "scatterpolar": [
                      {
                        "marker": {
                          "colorbar": {
                            "outlinewidth": 0,
                            "ticks": ""
                          }
                        },
                        "type": "scatterpolar"
                      }
                    ],
                    "scatterpolargl": [
                      {
                        "marker": {
                          "colorbar": {
                            "outlinewidth": 0,
                            "ticks": ""
                          }
                        },
                        "type": "scatterpolargl"
                      }
                    ],
                    "scatterternary": [
                      {
                        "marker": {
                          "colorbar": {
                            "outlinewidth": 0,
                            "ticks": ""
                          }
                        },
                        "type": "scatterternary"
                      }
                    ],
                    "surface": [
                      {
                        "colorbar": {
                          "outlinewidth": 0,
                          "ticks": ""
                        },
                        "colorscale": [
                          [
                            0,
                            "#0d0887"
                          ],
                          [
                            0.1111111111111111,
                            "#46039f"
                          ],
                          [
                            0.2222222222222222,
                            "#7201a8"
                          ],
                          [
                            0.3333333333333333,
                            "#9c179e"
                          ],
                          [
                            0.4444444444444444,
                            "#bd3786"
                          ],
                          [
                            0.5555555555555556,
                            "#d8576b"
                          ],
                          [
                            0.6666666666666666,
                            "#ed7953"
                          ],
                          [
                            0.7777777777777778,
                            "#fb9f3a"
                          ],
                          [
                            0.8888888888888888,
                            "#fdca26"
                          ],
                          [
                            1,
                            "#f0f921"
                          ]
                        ],
                        "type": "surface"
                      }
                    ],
                    "table": [
                      {
                        "cells": {
                          "fill": {
                            "color": "#506784"
                          },
                          "line": {
                            "color": "rgb(17,17,17)"
                          }
                        },
                        "header": {
                          "fill": {
                            "color": "#2a3f5f"
                          },
                          "line": {
                            "color": "rgb(17,17,17)"
                          }
                        },
                        "type": "table"
                      }
                    ]
                  },
                  "layout": {
                    "annotationdefaults": {
                      "arrowcolor": "#f2f5fa",
                      "arrowhead": 0,
                      "arrowwidth": 1
                    },
                    "autotypenumbers": "strict",
                    "coloraxis": {
                      "colorbar": {
                        "outlinewidth": 0,
                        "ticks": ""
                      }
                    },
                    "colorscale": {
                      "diverging": [
                        [
                          0,
                          "#8e0152"
                        ],
                        [
                          0.1,
                          "#c51b7d"
                        ],
                        [
                          0.2,
                          "#de77ae"
                        ],
                        [
                          0.3,
                          "#f1b6da"
                        ],
                        [
                          0.4,
                          "#fde0ef"
                        ],
                        [
                          0.5,
                          "#f7f7f7"
                        ],
                        [
                          0.6,
                          "#e6f5d0"
                        ],
                        [
                          0.7,
                          "#b8e186"
                        ],
                        [
                          0.8,
                          "#7fbc41"
                        ],
                        [
                          0.9,
                          "#4d9221"
                        ],
                        [
                          1,
                          "#276419"
                        ]
                      ],
                      "sequential": [
                        [
                          0,
                          "#0d0887"
                        ],
                        [
                          0.1111111111111111,
                          "#46039f"
                        ],
                        [
                          0.2222222222222222,
                          "#7201a8"
                        ],
                        [
                          0.3333333333333333,
                          "#9c179e"
                        ],
                        [
                          0.4444444444444444,
                          "#bd3786"
                        ],
                        [
                          0.5555555555555556,
                          "#d8576b"
                        ],
                        [
                          0.6666666666666666,
                          "#ed7953"
                        ],
                        [
                          0.7777777777777778,
                          "#fb9f3a"
                        ],
                        [
                          0.8888888888888888,
                          "#fdca26"
                        ],
                        [
                          1,
                          "#f0f921"
                        ]
                      ],
                      "sequentialminus": [
                        [
                          0,
                          "#0d0887"
                        ],
                        [
                          0.1111111111111111,
                          "#46039f"
                        ],
                        [
                          0.2222222222222222,
                          "#7201a8"
                        ],
                        [
                          0.3333333333333333,
                          "#9c179e"
                        ],
                        [
                          0.4444444444444444,
                          "#bd3786"
                        ],
                        [
                          0.5555555555555556,
                          "#d8576b"
                        ],
                        [
                          0.6666666666666666,
                          "#ed7953"
                        ],
                        [
                          0.7777777777777778,
                          "#fb9f3a"
                        ],
                        [
                          0.8888888888888888,
                          "#fdca26"
                        ],
                        [
                          1,
                          "#f0f921"
                        ]
                      ]
                    },
                    "colorway": [
                      "#636efa",
                      "#EF553B",
                      "#00cc96",
                      "#ab63fa",
                      "#FFA15A",
                      "#19d3f3",
                      "#FF6692",
                      "#B6E880",
                      "#FF97FF",
                      "#FECB52"
                    ],
                    "font": {
                      "color": "#f2f5fa"
                    },
                    "geo": {
                      "bgcolor": "rgb(17,17,17)",
                      "lakecolor": "rgb(17,17,17)",
                      "landcolor": "rgb(17,17,17)",
                      "showlakes": true,
                      "showland": true,
                      "subunitcolor": "#506784"
                    },
                    "hoverlabel": {
                      "align": "left"
                    },
                    "hovermode": "closest",
                    "mapbox": {
                      "style": "dark"
                    },
                    "paper_bgcolor": "rgb(17,17,17)",
                    "plot_bgcolor": "rgb(17,17,17)",
                    "polar": {
                      "angularaxis": {
                        "gridcolor": "#506784",
                        "linecolor": "#506784",
                        "ticks": ""
                      },
                      "bgcolor": "rgb(17,17,17)",
                      "radialaxis": {
                        "gridcolor": "#506784",
                        "linecolor": "#506784",
                        "ticks": ""
                      }
                    },
                    "scene": {
                      "xaxis": {
                        "backgroundcolor": "rgb(17,17,17)",
                        "gridcolor": "#506784",
                        "gridwidth": 2,
                        "linecolor": "#506784",
                        "showbackground": true,
                        "ticks": "",
                        "zerolinecolor": "#C8D4E3"
                      },
                      "yaxis": {
                        "backgroundcolor": "rgb(17,17,17)",
                        "gridcolor": "#506784",
                        "gridwidth": 2,
                        "linecolor": "#506784",
                        "showbackground": true,
                        "ticks": "",
                        "zerolinecolor": "#C8D4E3"
                      },
                      "zaxis": {
                        "backgroundcolor": "rgb(17,17,17)",
                        "gridcolor": "#506784",
                        "gridwidth": 2,
                        "linecolor": "#506784",
                        "showbackground": true,
                        "ticks": "",
                        "zerolinecolor": "#C8D4E3"
                      }
                    },
                    "shapedefaults": {
                      "line": {
                        "color": "#f2f5fa"
                      }
                    },
                    "sliderdefaults": {
                      "bgcolor": "#C8D4E3",
                      "bordercolor": "rgb(17,17,17)",
                      "borderwidth": 1,
                      "tickwidth": 0
                    },
                    "ternary": {
                      "aaxis": {
                        "gridcolor": "#506784",
                        "linecolor": "#506784",
                        "ticks": ""
                      },
                      "baxis": {
                        "gridcolor": "#506784",
                        "linecolor": "#506784",
                        "ticks": ""
                      },
                      "bgcolor": "rgb(17,17,17)",
                      "caxis": {
                        "gridcolor": "#506784",
                        "linecolor": "#506784",
                        "ticks": ""
                      }
                    },
                    "title": {
                      "x": 0.05
                    },
                    "updatemenudefaults": {
                      "bgcolor": "#506784",
                      "borderwidth": 0
                    },
                    "xaxis": {
                      "automargin": true,
                      "gridcolor": "#283442",
                      "linecolor": "#506784",
                      "ticks": "",
                      "title": {
                        "standoff": 15
                      },
                      "zerolinecolor": "#283442",
                      "zerolinewidth": 2
                    },
                    "yaxis": {
                      "automargin": true,
                      "gridcolor": "#283442",
                      "linecolor": "#506784",
                      "ticks": "",
                      "title": {
                        "standoff": 15
                      },
                      "zerolinecolor": "#283442",
                      "zerolinewidth": 2
                    }
                  }
                },
                "title": {
                  "text": "Rice: Volume of Production and National Inflation Rate in the Philippines"
                },
                "xaxis": {
                  "anchor": "y",
                  "domain": [
                    0,
                    0.94
                  ],
                  "title": {
                    "text": "Year"
                  }
                },
                "yaxis": {
                  "anchor": "x",
                  "domain": [
                    0,
                    1
                  ],
                  "title": {
                    "text": "Stocks (metric tons)"
                  }
                },
                "yaxis2": {
                  "anchor": "x",
                  "overlaying": "y",
                  "side": "right",
                  "title": {
                    "text": "Inflation Rate (in %)"
                  }
                }
              }
            }
          },
          "metadata": {},
          "output_type": "display_data"
        },
        {
          "name": "stdout",
          "output_type": "stream",
          "text": [
            "\u001b[31mStocks <-> Farmgate Price = 0.0: Significant relationship exists.\u001b[0m\n",
            "\u001b[31mStocks <-> Wholesale Price = 0.0: Significant relationship exists.\u001b[0m\n",
            "\u001b[31mStocks <-> Retail Price = 0.0: Significant relationship exists.\u001b[0m\n",
            "Stocks </> CPI All Income = 0.121: No significant relationship exists.\n",
            "\u001b[31mStocks <-> CPI Bottom 30 = 0.0: Significant relationship exists.\u001b[0m\n",
            "\u001b[31mStocks <-> Net Returns = 0.043: Significant relationship exists.\u001b[0m\n",
            "\u001b[31mStocks <-> Inflation Rate = 0.002: Significant relationship exists.\u001b[0m\n",
            "Stocks </> NCR RPI = 0.118: No significant relationship exists.\n",
            "Volume </> Farmgate Price = 0.11: No significant relationship exists.\n",
            "Volume </> Wholesale Price = 0.933: No significant relationship exists.\n",
            "Volume </> Retail Price = 0.823: No significant relationship exists.\n",
            "Volume </> CPI All Income = 0.204: No significant relationship exists.\n",
            "Volume </> CPI Bottom 30 = 0.148: No significant relationship exists.\n",
            "\u001b[31mVolume <-> Net Returns = 0.0: Significant relationship exists.\u001b[0m\n",
            "Volume </> Inflation Rate = 0.562: No significant relationship exists.\n",
            "Volume </> NCR RPI = 0.35: No significant relationship exists.\n",
            "Area Harvested </> Farmgate Price = 0.827: No significant relationship exists.\n",
            "Area Harvested </> Wholesale Price = 0.147: No significant relationship exists.\n",
            "Area Harvested </> Retail Price = 0.177: No significant relationship exists.\n",
            "Area Harvested </> CPI All Income = 0.458: No significant relationship exists.\n",
            "Area Harvested </> CPI Bottom 30 = 0.477: No significant relationship exists.\n",
            "\u001b[31mArea Harvested <-> Net Returns = 0.0: Significant relationship exists.\u001b[0m\n",
            "Area Harvested </> Inflation Rate = 0.696: No significant relationship exists.\n",
            "Area Harvested </> NCR RPI = 0.664: No significant relationship exists.\n",
            "Self-Sufficiency Ratio </> Farmgate Price = 0.076: No significant relationship exists.\n",
            "\u001b[31mSelf-Sufficiency Ratio <-> Wholesale Price = 0.0: Significant relationship exists.\u001b[0m\n",
            "\u001b[31mSelf-Sufficiency Ratio <-> Retail Price = 0.0: Significant relationship exists.\u001b[0m\n",
            "\u001b[31mSelf-Sufficiency Ratio <-> CPI All Income = 0.0: Significant relationship exists.\u001b[0m\n",
            "\u001b[31mSelf-Sufficiency Ratio <-> CPI Bottom 30 = 0.0: Significant relationship exists.\u001b[0m\n",
            "Self-Sufficiency Ratio </> Net Returns = 0.122: No significant relationship exists.\n",
            "\u001b[31mSelf-Sufficiency Ratio <-> Inflation Rate = 0.004: Significant relationship exists.\u001b[0m\n",
            "\u001b[31mSelf-Sufficiency Ratio <-> NCR RPI = 0.0: Significant relationship exists.\u001b[0m\n",
            "Import-Dependency Ratio </> Farmgate Price = 0.072: No significant relationship exists.\n",
            "\u001b[31mImport-Dependency Ratio <-> Wholesale Price = 0.0: Significant relationship exists.\u001b[0m\n",
            "\u001b[31mImport-Dependency Ratio <-> Retail Price = 0.0: Significant relationship exists.\u001b[0m\n",
            "\u001b[31mImport-Dependency Ratio <-> CPI All Income = 0.0: Significant relationship exists.\u001b[0m\n",
            "\u001b[31mImport-Dependency Ratio <-> CPI Bottom 30 = 0.0: Significant relationship exists.\u001b[0m\n",
            "Import-Dependency Ratio </> Net Returns = 0.127: No significant relationship exists.\n",
            "\u001b[31mImport-Dependency Ratio <-> Inflation Rate = 0.004: Significant relationship exists.\u001b[0m\n",
            "\u001b[31mImport-Dependency Ratio <-> NCR RPI = 0.0: Significant relationship exists.\u001b[0m\n",
            "\u001b[31mSU Gross Supply <-> Farmgate Price = 0.0: Significant relationship exists.\u001b[0m\n",
            "\u001b[31mSU Gross Supply <-> Wholesale Price = 0.0: Significant relationship exists.\u001b[0m\n",
            "\u001b[31mSU Gross Supply <-> Retail Price = 0.0: Significant relationship exists.\u001b[0m\n",
            "\u001b[31mSU Gross Supply <-> CPI All Income = 0.01: Significant relationship exists.\u001b[0m\n",
            "\u001b[31mSU Gross Supply <-> CPI Bottom 30 = 0.0: Significant relationship exists.\u001b[0m\n",
            "SU Gross Supply </> Net Returns = 0.321: No significant relationship exists.\n",
            "SU Gross Supply </> Inflation Rate = 0.051: No significant relationship exists.\n",
            "\u001b[31mSU Gross Supply <-> NCR RPI = 0.0: Significant relationship exists.\u001b[0m\n",
            "\u001b[31mUT Consumable <-> Farmgate Price = 0.0: Significant relationship exists.\u001b[0m\n",
            "\u001b[31mUT Consumable <-> Wholesale Price = 0.0: Significant relationship exists.\u001b[0m\n",
            "\u001b[31mUT Consumable <-> Retail Price = 0.0: Significant relationship exists.\u001b[0m\n",
            "UT Consumable </> CPI All Income = 0.103: No significant relationship exists.\n",
            "\u001b[31mUT Consumable <-> CPI Bottom 30 = 0.001: Significant relationship exists.\u001b[0m\n",
            "UT Consumable </> Net Returns = 0.392: No significant relationship exists.\n",
            "\u001b[31mUT Consumable <-> Inflation Rate = 0.033: Significant relationship exists.\u001b[0m\n",
            "\u001b[31mUT Consumable <-> NCR RPI = 0.0: Significant relationship exists.\u001b[0m\n"
          ]
        },
        {
          "data": {
            "application/vnd.plotly.v1+json": {
              "config": {
                "plotlyServerURL": "https://plot.ly"
              },
              "data": [
                {
                  "coloraxis": "coloraxis",
                  "hovertemplate": "x: %{x}<br>y: %{y}<br><b>Correlation: %{z}</b><extra></extra>",
                  "name": "0",
                  "texttemplate": "%{z:.2f}",
                  "type": "heatmap",
                  "x": [
                    "Farmgate Price",
                    "Wholesale Price",
                    "Retail Price",
                    "CPI All Income",
                    "CPI Bottom 30",
                    "Net Returns",
                    "Inflation Rate",
                    "NCR RPI"
                  ],
                  "xaxis": "x",
                  "y": [
                    "Stocks",
                    "Volume",
                    "Area Harvested",
                    "Self-Sufficiency Ratio",
                    "Import-Dependency Ratio",
                    "SU Gross Supply",
                    "UT Consumable"
                  ],
                  "yaxis": "y",
                  "z": [
                    [
                      0.23259345212996174,
                      0.06602916457303122,
                      0.4385807974999792,
                      0.5173164878609793,
                      0.37061168142272083,
                      0.5463509945728603,
                      0.17108634577043044,
                      0.8915181181589887
                    ],
                    [
                      0.15496960732074072,
                      0.2599371568416111,
                      0.24671599116794196,
                      0.8258671250844071,
                      0.8423571284803667,
                      0.9683665804761492,
                      0.2560354796638772,
                      0.5350505312039489
                    ],
                    [
                      0.08621912328551048,
                      0.2235003783678054,
                      0.16838130805952603,
                      0.8046219855946501,
                      0.8394220298917643,
                      0.9538438072228712,
                      0.22309218930507146,
                      0.4473328251750304
                    ],
                    [
                      -0.12607886328741322,
                      0.12247332502776871,
                      -0.1054478693494631,
                      -0.3803708617827973,
                      -0.17729882467102212,
                      -0.17414622421793496,
                      0.2053838492029574,
                      -0.422431606318357
                    ],
                    [
                      0.12607886328741338,
                      -0.12247332502776867,
                      0.10544786934946276,
                      0.38037086178279733,
                      0.17729882467102212,
                      0.17414622421793502,
                      -0.20538384920295663,
                      0.42243160631835763
                    ],
                    [
                      0.6037774272136518,
                      0.38786950062973463,
                      0.5924991751165298,
                      0.7024316351889354,
                      0.5046643076529583,
                      0.5990223001753703,
                      0.34563078028327154,
                      0.9378495969288106
                    ],
                    [
                      0.6476891879526574,
                      0.4305398104931434,
                      0.44188843984164766,
                      0.568965636626355,
                      0.3817576887121361,
                      0.3728896316705295,
                      0.29263263766650793,
                      0.5954889344285447
                    ]
                  ]
                }
              ],
              "layout": {
                "coloraxis": {
                  "colorscale": [
                    [
                      0,
                      "#0d0887"
                    ],
                    [
                      0.1111111111111111,
                      "#46039f"
                    ],
                    [
                      0.2222222222222222,
                      "#7201a8"
                    ],
                    [
                      0.3333333333333333,
                      "#9c179e"
                    ],
                    [
                      0.4444444444444444,
                      "#bd3786"
                    ],
                    [
                      0.5555555555555556,
                      "#d8576b"
                    ],
                    [
                      0.6666666666666666,
                      "#ed7953"
                    ],
                    [
                      0.7777777777777778,
                      "#fb9f3a"
                    ],
                    [
                      0.8888888888888888,
                      "#fdca26"
                    ],
                    [
                      1,
                      "#f0f921"
                    ]
                  ]
                },
                "template": {
                  "data": {
                    "bar": [
                      {
                        "error_x": {
                          "color": "#f2f5fa"
                        },
                        "error_y": {
                          "color": "#f2f5fa"
                        },
                        "marker": {
                          "line": {
                            "color": "rgb(17,17,17)",
                            "width": 0.5
                          },
                          "pattern": {
                            "fillmode": "overlay",
                            "size": 10,
                            "solidity": 0.2
                          }
                        },
                        "type": "bar"
                      }
                    ],
                    "barpolar": [
                      {
                        "marker": {
                          "line": {
                            "color": "rgb(17,17,17)",
                            "width": 0.5
                          },
                          "pattern": {
                            "fillmode": "overlay",
                            "size": 10,
                            "solidity": 0.2
                          }
                        },
                        "type": "barpolar"
                      }
                    ],
                    "carpet": [
                      {
                        "aaxis": {
                          "endlinecolor": "#A2B1C6",
                          "gridcolor": "#506784",
                          "linecolor": "#506784",
                          "minorgridcolor": "#506784",
                          "startlinecolor": "#A2B1C6"
                        },
                        "baxis": {
                          "endlinecolor": "#A2B1C6",
                          "gridcolor": "#506784",
                          "linecolor": "#506784",
                          "minorgridcolor": "#506784",
                          "startlinecolor": "#A2B1C6"
                        },
                        "type": "carpet"
                      }
                    ],
                    "choropleth": [
                      {
                        "colorbar": {
                          "outlinewidth": 0,
                          "ticks": ""
                        },
                        "type": "choropleth"
                      }
                    ],
                    "contour": [
                      {
                        "colorbar": {
                          "outlinewidth": 0,
                          "ticks": ""
                        },
                        "colorscale": [
                          [
                            0,
                            "#0d0887"
                          ],
                          [
                            0.1111111111111111,
                            "#46039f"
                          ],
                          [
                            0.2222222222222222,
                            "#7201a8"
                          ],
                          [
                            0.3333333333333333,
                            "#9c179e"
                          ],
                          [
                            0.4444444444444444,
                            "#bd3786"
                          ],
                          [
                            0.5555555555555556,
                            "#d8576b"
                          ],
                          [
                            0.6666666666666666,
                            "#ed7953"
                          ],
                          [
                            0.7777777777777778,
                            "#fb9f3a"
                          ],
                          [
                            0.8888888888888888,
                            "#fdca26"
                          ],
                          [
                            1,
                            "#f0f921"
                          ]
                        ],
                        "type": "contour"
                      }
                    ],
                    "contourcarpet": [
                      {
                        "colorbar": {
                          "outlinewidth": 0,
                          "ticks": ""
                        },
                        "type": "contourcarpet"
                      }
                    ],
                    "heatmap": [
                      {
                        "colorbar": {
                          "outlinewidth": 0,
                          "ticks": ""
                        },
                        "colorscale": [
                          [
                            0,
                            "#0d0887"
                          ],
                          [
                            0.1111111111111111,
                            "#46039f"
                          ],
                          [
                            0.2222222222222222,
                            "#7201a8"
                          ],
                          [
                            0.3333333333333333,
                            "#9c179e"
                          ],
                          [
                            0.4444444444444444,
                            "#bd3786"
                          ],
                          [
                            0.5555555555555556,
                            "#d8576b"
                          ],
                          [
                            0.6666666666666666,
                            "#ed7953"
                          ],
                          [
                            0.7777777777777778,
                            "#fb9f3a"
                          ],
                          [
                            0.8888888888888888,
                            "#fdca26"
                          ],
                          [
                            1,
                            "#f0f921"
                          ]
                        ],
                        "type": "heatmap"
                      }
                    ],
                    "heatmapgl": [
                      {
                        "colorbar": {
                          "outlinewidth": 0,
                          "ticks": ""
                        },
                        "colorscale": [
                          [
                            0,
                            "#0d0887"
                          ],
                          [
                            0.1111111111111111,
                            "#46039f"
                          ],
                          [
                            0.2222222222222222,
                            "#7201a8"
                          ],
                          [
                            0.3333333333333333,
                            "#9c179e"
                          ],
                          [
                            0.4444444444444444,
                            "#bd3786"
                          ],
                          [
                            0.5555555555555556,
                            "#d8576b"
                          ],
                          [
                            0.6666666666666666,
                            "#ed7953"
                          ],
                          [
                            0.7777777777777778,
                            "#fb9f3a"
                          ],
                          [
                            0.8888888888888888,
                            "#fdca26"
                          ],
                          [
                            1,
                            "#f0f921"
                          ]
                        ],
                        "type": "heatmapgl"
                      }
                    ],
                    "histogram": [
                      {
                        "marker": {
                          "pattern": {
                            "fillmode": "overlay",
                            "size": 10,
                            "solidity": 0.2
                          }
                        },
                        "type": "histogram"
                      }
                    ],
                    "histogram2d": [
                      {
                        "colorbar": {
                          "outlinewidth": 0,
                          "ticks": ""
                        },
                        "colorscale": [
                          [
                            0,
                            "#0d0887"
                          ],
                          [
                            0.1111111111111111,
                            "#46039f"
                          ],
                          [
                            0.2222222222222222,
                            "#7201a8"
                          ],
                          [
                            0.3333333333333333,
                            "#9c179e"
                          ],
                          [
                            0.4444444444444444,
                            "#bd3786"
                          ],
                          [
                            0.5555555555555556,
                            "#d8576b"
                          ],
                          [
                            0.6666666666666666,
                            "#ed7953"
                          ],
                          [
                            0.7777777777777778,
                            "#fb9f3a"
                          ],
                          [
                            0.8888888888888888,
                            "#fdca26"
                          ],
                          [
                            1,
                            "#f0f921"
                          ]
                        ],
                        "type": "histogram2d"
                      }
                    ],
                    "histogram2dcontour": [
                      {
                        "colorbar": {
                          "outlinewidth": 0,
                          "ticks": ""
                        },
                        "colorscale": [
                          [
                            0,
                            "#0d0887"
                          ],
                          [
                            0.1111111111111111,
                            "#46039f"
                          ],
                          [
                            0.2222222222222222,
                            "#7201a8"
                          ],
                          [
                            0.3333333333333333,
                            "#9c179e"
                          ],
                          [
                            0.4444444444444444,
                            "#bd3786"
                          ],
                          [
                            0.5555555555555556,
                            "#d8576b"
                          ],
                          [
                            0.6666666666666666,
                            "#ed7953"
                          ],
                          [
                            0.7777777777777778,
                            "#fb9f3a"
                          ],
                          [
                            0.8888888888888888,
                            "#fdca26"
                          ],
                          [
                            1,
                            "#f0f921"
                          ]
                        ],
                        "type": "histogram2dcontour"
                      }
                    ],
                    "mesh3d": [
                      {
                        "colorbar": {
                          "outlinewidth": 0,
                          "ticks": ""
                        },
                        "type": "mesh3d"
                      }
                    ],
                    "parcoords": [
                      {
                        "line": {
                          "colorbar": {
                            "outlinewidth": 0,
                            "ticks": ""
                          }
                        },
                        "type": "parcoords"
                      }
                    ],
                    "pie": [
                      {
                        "automargin": true,
                        "type": "pie"
                      }
                    ],
                    "scatter": [
                      {
                        "marker": {
                          "line": {
                            "color": "#283442"
                          }
                        },
                        "type": "scatter"
                      }
                    ],
                    "scatter3d": [
                      {
                        "line": {
                          "colorbar": {
                            "outlinewidth": 0,
                            "ticks": ""
                          }
                        },
                        "marker": {
                          "colorbar": {
                            "outlinewidth": 0,
                            "ticks": ""
                          }
                        },
                        "type": "scatter3d"
                      }
                    ],
                    "scattercarpet": [
                      {
                        "marker": {
                          "colorbar": {
                            "outlinewidth": 0,
                            "ticks": ""
                          }
                        },
                        "type": "scattercarpet"
                      }
                    ],
                    "scattergeo": [
                      {
                        "marker": {
                          "colorbar": {
                            "outlinewidth": 0,
                            "ticks": ""
                          }
                        },
                        "type": "scattergeo"
                      }
                    ],
                    "scattergl": [
                      {
                        "marker": {
                          "line": {
                            "color": "#283442"
                          }
                        },
                        "type": "scattergl"
                      }
                    ],
                    "scattermapbox": [
                      {
                        "marker": {
                          "colorbar": {
                            "outlinewidth": 0,
                            "ticks": ""
                          }
                        },
                        "type": "scattermapbox"
                      }
                    ],
                    "scatterpolar": [
                      {
                        "marker": {
                          "colorbar": {
                            "outlinewidth": 0,
                            "ticks": ""
                          }
                        },
                        "type": "scatterpolar"
                      }
                    ],
                    "scatterpolargl": [
                      {
                        "marker": {
                          "colorbar": {
                            "outlinewidth": 0,
                            "ticks": ""
                          }
                        },
                        "type": "scatterpolargl"
                      }
                    ],
                    "scatterternary": [
                      {
                        "marker": {
                          "colorbar": {
                            "outlinewidth": 0,
                            "ticks": ""
                          }
                        },
                        "type": "scatterternary"
                      }
                    ],
                    "surface": [
                      {
                        "colorbar": {
                          "outlinewidth": 0,
                          "ticks": ""
                        },
                        "colorscale": [
                          [
                            0,
                            "#0d0887"
                          ],
                          [
                            0.1111111111111111,
                            "#46039f"
                          ],
                          [
                            0.2222222222222222,
                            "#7201a8"
                          ],
                          [
                            0.3333333333333333,
                            "#9c179e"
                          ],
                          [
                            0.4444444444444444,
                            "#bd3786"
                          ],
                          [
                            0.5555555555555556,
                            "#d8576b"
                          ],
                          [
                            0.6666666666666666,
                            "#ed7953"
                          ],
                          [
                            0.7777777777777778,
                            "#fb9f3a"
                          ],
                          [
                            0.8888888888888888,
                            "#fdca26"
                          ],
                          [
                            1,
                            "#f0f921"
                          ]
                        ],
                        "type": "surface"
                      }
                    ],
                    "table": [
                      {
                        "cells": {
                          "fill": {
                            "color": "#506784"
                          },
                          "line": {
                            "color": "rgb(17,17,17)"
                          }
                        },
                        "header": {
                          "fill": {
                            "color": "#2a3f5f"
                          },
                          "line": {
                            "color": "rgb(17,17,17)"
                          }
                        },
                        "type": "table"
                      }
                    ]
                  },
                  "layout": {
                    "annotationdefaults": {
                      "arrowcolor": "#f2f5fa",
                      "arrowhead": 0,
                      "arrowwidth": 1
                    },
                    "autotypenumbers": "strict",
                    "coloraxis": {
                      "colorbar": {
                        "outlinewidth": 0,
                        "ticks": ""
                      }
                    },
                    "colorscale": {
                      "diverging": [
                        [
                          0,
                          "#8e0152"
                        ],
                        [
                          0.1,
                          "#c51b7d"
                        ],
                        [
                          0.2,
                          "#de77ae"
                        ],
                        [
                          0.3,
                          "#f1b6da"
                        ],
                        [
                          0.4,
                          "#fde0ef"
                        ],
                        [
                          0.5,
                          "#f7f7f7"
                        ],
                        [
                          0.6,
                          "#e6f5d0"
                        ],
                        [
                          0.7,
                          "#b8e186"
                        ],
                        [
                          0.8,
                          "#7fbc41"
                        ],
                        [
                          0.9,
                          "#4d9221"
                        ],
                        [
                          1,
                          "#276419"
                        ]
                      ],
                      "sequential": [
                        [
                          0,
                          "#0d0887"
                        ],
                        [
                          0.1111111111111111,
                          "#46039f"
                        ],
                        [
                          0.2222222222222222,
                          "#7201a8"
                        ],
                        [
                          0.3333333333333333,
                          "#9c179e"
                        ],
                        [
                          0.4444444444444444,
                          "#bd3786"
                        ],
                        [
                          0.5555555555555556,
                          "#d8576b"
                        ],
                        [
                          0.6666666666666666,
                          "#ed7953"
                        ],
                        [
                          0.7777777777777778,
                          "#fb9f3a"
                        ],
                        [
                          0.8888888888888888,
                          "#fdca26"
                        ],
                        [
                          1,
                          "#f0f921"
                        ]
                      ],
                      "sequentialminus": [
                        [
                          0,
                          "#0d0887"
                        ],
                        [
                          0.1111111111111111,
                          "#46039f"
                        ],
                        [
                          0.2222222222222222,
                          "#7201a8"
                        ],
                        [
                          0.3333333333333333,
                          "#9c179e"
                        ],
                        [
                          0.4444444444444444,
                          "#bd3786"
                        ],
                        [
                          0.5555555555555556,
                          "#d8576b"
                        ],
                        [
                          0.6666666666666666,
                          "#ed7953"
                        ],
                        [
                          0.7777777777777778,
                          "#fb9f3a"
                        ],
                        [
                          0.8888888888888888,
                          "#fdca26"
                        ],
                        [
                          1,
                          "#f0f921"
                        ]
                      ]
                    },
                    "colorway": [
                      "#636efa",
                      "#EF553B",
                      "#00cc96",
                      "#ab63fa",
                      "#FFA15A",
                      "#19d3f3",
                      "#FF6692",
                      "#B6E880",
                      "#FF97FF",
                      "#FECB52"
                    ],
                    "font": {
                      "color": "#f2f5fa"
                    },
                    "geo": {
                      "bgcolor": "rgb(17,17,17)",
                      "lakecolor": "rgb(17,17,17)",
                      "landcolor": "rgb(17,17,17)",
                      "showlakes": true,
                      "showland": true,
                      "subunitcolor": "#506784"
                    },
                    "hoverlabel": {
                      "align": "left"
                    },
                    "hovermode": "closest",
                    "mapbox": {
                      "style": "dark"
                    },
                    "paper_bgcolor": "rgb(17,17,17)",
                    "plot_bgcolor": "rgb(17,17,17)",
                    "polar": {
                      "angularaxis": {
                        "gridcolor": "#506784",
                        "linecolor": "#506784",
                        "ticks": ""
                      },
                      "bgcolor": "rgb(17,17,17)",
                      "radialaxis": {
                        "gridcolor": "#506784",
                        "linecolor": "#506784",
                        "ticks": ""
                      }
                    },
                    "scene": {
                      "xaxis": {
                        "backgroundcolor": "rgb(17,17,17)",
                        "gridcolor": "#506784",
                        "gridwidth": 2,
                        "linecolor": "#506784",
                        "showbackground": true,
                        "ticks": "",
                        "zerolinecolor": "#C8D4E3"
                      },
                      "yaxis": {
                        "backgroundcolor": "rgb(17,17,17)",
                        "gridcolor": "#506784",
                        "gridwidth": 2,
                        "linecolor": "#506784",
                        "showbackground": true,
                        "ticks": "",
                        "zerolinecolor": "#C8D4E3"
                      },
                      "zaxis": {
                        "backgroundcolor": "rgb(17,17,17)",
                        "gridcolor": "#506784",
                        "gridwidth": 2,
                        "linecolor": "#506784",
                        "showbackground": true,
                        "ticks": "",
                        "zerolinecolor": "#C8D4E3"
                      }
                    },
                    "shapedefaults": {
                      "line": {
                        "color": "#f2f5fa"
                      }
                    },
                    "sliderdefaults": {
                      "bgcolor": "#C8D4E3",
                      "bordercolor": "rgb(17,17,17)",
                      "borderwidth": 1,
                      "tickwidth": 0
                    },
                    "ternary": {
                      "aaxis": {
                        "gridcolor": "#506784",
                        "linecolor": "#506784",
                        "ticks": ""
                      },
                      "baxis": {
                        "gridcolor": "#506784",
                        "linecolor": "#506784",
                        "ticks": ""
                      },
                      "bgcolor": "rgb(17,17,17)",
                      "caxis": {
                        "gridcolor": "#506784",
                        "linecolor": "#506784",
                        "ticks": ""
                      }
                    },
                    "title": {
                      "x": 0.05
                    },
                    "updatemenudefaults": {
                      "bgcolor": "#506784",
                      "borderwidth": 0
                    },
                    "xaxis": {
                      "automargin": true,
                      "gridcolor": "#283442",
                      "linecolor": "#506784",
                      "ticks": "",
                      "title": {
                        "standoff": 15
                      },
                      "zerolinecolor": "#283442",
                      "zerolinewidth": 2
                    },
                    "yaxis": {
                      "automargin": true,
                      "gridcolor": "#283442",
                      "linecolor": "#506784",
                      "ticks": "",
                      "title": {
                        "standoff": 15
                      },
                      "zerolinecolor": "#283442",
                      "zerolinewidth": 2
                    }
                  }
                },
                "title": {
                  "text": "Corn: Correlation Matrix on 15 Annual-Regional Samples"
                },
                "xaxis": {
                  "anchor": "y",
                  "constrain": "domain",
                  "domain": [
                    0,
                    1
                  ],
                  "scaleanchor": "y",
                  "title": {
                    "text": "Socioeconomic Indicator for Corn"
                  }
                },
                "yaxis": {
                  "anchor": "x",
                  "autorange": "reversed",
                  "constrain": "domain",
                  "domain": [
                    0,
                    1
                  ],
                  "title": {
                    "text": "Agricultural Indicator for Corn"
                  }
                }
              }
            }
          },
          "metadata": {},
          "output_type": "display_data"
        },
        {
          "data": {
            "application/vnd.plotly.v1+json": {
              "config": {
                "plotlyServerURL": "https://plot.ly"
              },
              "data": [
                {
                  "name": "Volume",
                  "type": "scatter",
                  "x": [
                    "2012",
                    "2013",
                    "2014",
                    "2015",
                    "2016",
                    "2017",
                    "2018",
                    "2019",
                    "2020",
                    "2021"
                  ],
                  "xaxis": "x",
                  "y": [
                    7407068.35,
                    7377293.3,
                    7770602.74,
                    7518755.72,
                    7218816.55,
                    7914908.49,
                    7771918.63,
                    7978844.55,
                    8118545.88,
                    8287191.13
                  ],
                  "yaxis": "y"
                },
                {
                  "name": "Retail Price",
                  "type": "scatter",
                  "x": [
                    "2012",
                    "2013",
                    "2014",
                    "2015",
                    "2016",
                    "2017",
                    "2018",
                    "2019",
                    "2020",
                    "2021"
                  ],
                  "xaxis": "x",
                  "y": [
                    24.6825,
                    24.361666666666668,
                    24.8175,
                    25.363333333333333,
                    25.43166666666666,
                    25.495833333333337,
                    28.216666666666665,
                    29.586666666666673,
                    30.983333333333334,
                    33.1575
                  ],
                  "yaxis": "y2"
                }
              ],
              "layout": {
                "template": {
                  "data": {
                    "bar": [
                      {
                        "error_x": {
                          "color": "#f2f5fa"
                        },
                        "error_y": {
                          "color": "#f2f5fa"
                        },
                        "marker": {
                          "line": {
                            "color": "rgb(17,17,17)",
                            "width": 0.5
                          },
                          "pattern": {
                            "fillmode": "overlay",
                            "size": 10,
                            "solidity": 0.2
                          }
                        },
                        "type": "bar"
                      }
                    ],
                    "barpolar": [
                      {
                        "marker": {
                          "line": {
                            "color": "rgb(17,17,17)",
                            "width": 0.5
                          },
                          "pattern": {
                            "fillmode": "overlay",
                            "size": 10,
                            "solidity": 0.2
                          }
                        },
                        "type": "barpolar"
                      }
                    ],
                    "carpet": [
                      {
                        "aaxis": {
                          "endlinecolor": "#A2B1C6",
                          "gridcolor": "#506784",
                          "linecolor": "#506784",
                          "minorgridcolor": "#506784",
                          "startlinecolor": "#A2B1C6"
                        },
                        "baxis": {
                          "endlinecolor": "#A2B1C6",
                          "gridcolor": "#506784",
                          "linecolor": "#506784",
                          "minorgridcolor": "#506784",
                          "startlinecolor": "#A2B1C6"
                        },
                        "type": "carpet"
                      }
                    ],
                    "choropleth": [
                      {
                        "colorbar": {
                          "outlinewidth": 0,
                          "ticks": ""
                        },
                        "type": "choropleth"
                      }
                    ],
                    "contour": [
                      {
                        "colorbar": {
                          "outlinewidth": 0,
                          "ticks": ""
                        },
                        "colorscale": [
                          [
                            0,
                            "#0d0887"
                          ],
                          [
                            0.1111111111111111,
                            "#46039f"
                          ],
                          [
                            0.2222222222222222,
                            "#7201a8"
                          ],
                          [
                            0.3333333333333333,
                            "#9c179e"
                          ],
                          [
                            0.4444444444444444,
                            "#bd3786"
                          ],
                          [
                            0.5555555555555556,
                            "#d8576b"
                          ],
                          [
                            0.6666666666666666,
                            "#ed7953"
                          ],
                          [
                            0.7777777777777778,
                            "#fb9f3a"
                          ],
                          [
                            0.8888888888888888,
                            "#fdca26"
                          ],
                          [
                            1,
                            "#f0f921"
                          ]
                        ],
                        "type": "contour"
                      }
                    ],
                    "contourcarpet": [
                      {
                        "colorbar": {
                          "outlinewidth": 0,
                          "ticks": ""
                        },
                        "type": "contourcarpet"
                      }
                    ],
                    "heatmap": [
                      {
                        "colorbar": {
                          "outlinewidth": 0,
                          "ticks": ""
                        },
                        "colorscale": [
                          [
                            0,
                            "#0d0887"
                          ],
                          [
                            0.1111111111111111,
                            "#46039f"
                          ],
                          [
                            0.2222222222222222,
                            "#7201a8"
                          ],
                          [
                            0.3333333333333333,
                            "#9c179e"
                          ],
                          [
                            0.4444444444444444,
                            "#bd3786"
                          ],
                          [
                            0.5555555555555556,
                            "#d8576b"
                          ],
                          [
                            0.6666666666666666,
                            "#ed7953"
                          ],
                          [
                            0.7777777777777778,
                            "#fb9f3a"
                          ],
                          [
                            0.8888888888888888,
                            "#fdca26"
                          ],
                          [
                            1,
                            "#f0f921"
                          ]
                        ],
                        "type": "heatmap"
                      }
                    ],
                    "heatmapgl": [
                      {
                        "colorbar": {
                          "outlinewidth": 0,
                          "ticks": ""
                        },
                        "colorscale": [
                          [
                            0,
                            "#0d0887"
                          ],
                          [
                            0.1111111111111111,
                            "#46039f"
                          ],
                          [
                            0.2222222222222222,
                            "#7201a8"
                          ],
                          [
                            0.3333333333333333,
                            "#9c179e"
                          ],
                          [
                            0.4444444444444444,
                            "#bd3786"
                          ],
                          [
                            0.5555555555555556,
                            "#d8576b"
                          ],
                          [
                            0.6666666666666666,
                            "#ed7953"
                          ],
                          [
                            0.7777777777777778,
                            "#fb9f3a"
                          ],
                          [
                            0.8888888888888888,
                            "#fdca26"
                          ],
                          [
                            1,
                            "#f0f921"
                          ]
                        ],
                        "type": "heatmapgl"
                      }
                    ],
                    "histogram": [
                      {
                        "marker": {
                          "pattern": {
                            "fillmode": "overlay",
                            "size": 10,
                            "solidity": 0.2
                          }
                        },
                        "type": "histogram"
                      }
                    ],
                    "histogram2d": [
                      {
                        "colorbar": {
                          "outlinewidth": 0,
                          "ticks": ""
                        },
                        "colorscale": [
                          [
                            0,
                            "#0d0887"
                          ],
                          [
                            0.1111111111111111,
                            "#46039f"
                          ],
                          [
                            0.2222222222222222,
                            "#7201a8"
                          ],
                          [
                            0.3333333333333333,
                            "#9c179e"
                          ],
                          [
                            0.4444444444444444,
                            "#bd3786"
                          ],
                          [
                            0.5555555555555556,
                            "#d8576b"
                          ],
                          [
                            0.6666666666666666,
                            "#ed7953"
                          ],
                          [
                            0.7777777777777778,
                            "#fb9f3a"
                          ],
                          [
                            0.8888888888888888,
                            "#fdca26"
                          ],
                          [
                            1,
                            "#f0f921"
                          ]
                        ],
                        "type": "histogram2d"
                      }
                    ],
                    "histogram2dcontour": [
                      {
                        "colorbar": {
                          "outlinewidth": 0,
                          "ticks": ""
                        },
                        "colorscale": [
                          [
                            0,
                            "#0d0887"
                          ],
                          [
                            0.1111111111111111,
                            "#46039f"
                          ],
                          [
                            0.2222222222222222,
                            "#7201a8"
                          ],
                          [
                            0.3333333333333333,
                            "#9c179e"
                          ],
                          [
                            0.4444444444444444,
                            "#bd3786"
                          ],
                          [
                            0.5555555555555556,
                            "#d8576b"
                          ],
                          [
                            0.6666666666666666,
                            "#ed7953"
                          ],
                          [
                            0.7777777777777778,
                            "#fb9f3a"
                          ],
                          [
                            0.8888888888888888,
                            "#fdca26"
                          ],
                          [
                            1,
                            "#f0f921"
                          ]
                        ],
                        "type": "histogram2dcontour"
                      }
                    ],
                    "mesh3d": [
                      {
                        "colorbar": {
                          "outlinewidth": 0,
                          "ticks": ""
                        },
                        "type": "mesh3d"
                      }
                    ],
                    "parcoords": [
                      {
                        "line": {
                          "colorbar": {
                            "outlinewidth": 0,
                            "ticks": ""
                          }
                        },
                        "type": "parcoords"
                      }
                    ],
                    "pie": [
                      {
                        "automargin": true,
                        "type": "pie"
                      }
                    ],
                    "scatter": [
                      {
                        "marker": {
                          "line": {
                            "color": "#283442"
                          }
                        },
                        "type": "scatter"
                      }
                    ],
                    "scatter3d": [
                      {
                        "line": {
                          "colorbar": {
                            "outlinewidth": 0,
                            "ticks": ""
                          }
                        },
                        "marker": {
                          "colorbar": {
                            "outlinewidth": 0,
                            "ticks": ""
                          }
                        },
                        "type": "scatter3d"
                      }
                    ],
                    "scattercarpet": [
                      {
                        "marker": {
                          "colorbar": {
                            "outlinewidth": 0,
                            "ticks": ""
                          }
                        },
                        "type": "scattercarpet"
                      }
                    ],
                    "scattergeo": [
                      {
                        "marker": {
                          "colorbar": {
                            "outlinewidth": 0,
                            "ticks": ""
                          }
                        },
                        "type": "scattergeo"
                      }
                    ],
                    "scattergl": [
                      {
                        "marker": {
                          "line": {
                            "color": "#283442"
                          }
                        },
                        "type": "scattergl"
                      }
                    ],
                    "scattermapbox": [
                      {
                        "marker": {
                          "colorbar": {
                            "outlinewidth": 0,
                            "ticks": ""
                          }
                        },
                        "type": "scattermapbox"
                      }
                    ],
                    "scatterpolar": [
                      {
                        "marker": {
                          "colorbar": {
                            "outlinewidth": 0,
                            "ticks": ""
                          }
                        },
                        "type": "scatterpolar"
                      }
                    ],
                    "scatterpolargl": [
                      {
                        "marker": {
                          "colorbar": {
                            "outlinewidth": 0,
                            "ticks": ""
                          }
                        },
                        "type": "scatterpolargl"
                      }
                    ],
                    "scatterternary": [
                      {
                        "marker": {
                          "colorbar": {
                            "outlinewidth": 0,
                            "ticks": ""
                          }
                        },
                        "type": "scatterternary"
                      }
                    ],
                    "surface": [
                      {
                        "colorbar": {
                          "outlinewidth": 0,
                          "ticks": ""
                        },
                        "colorscale": [
                          [
                            0,
                            "#0d0887"
                          ],
                          [
                            0.1111111111111111,
                            "#46039f"
                          ],
                          [
                            0.2222222222222222,
                            "#7201a8"
                          ],
                          [
                            0.3333333333333333,
                            "#9c179e"
                          ],
                          [
                            0.4444444444444444,
                            "#bd3786"
                          ],
                          [
                            0.5555555555555556,
                            "#d8576b"
                          ],
                          [
                            0.6666666666666666,
                            "#ed7953"
                          ],
                          [
                            0.7777777777777778,
                            "#fb9f3a"
                          ],
                          [
                            0.8888888888888888,
                            "#fdca26"
                          ],
                          [
                            1,
                            "#f0f921"
                          ]
                        ],
                        "type": "surface"
                      }
                    ],
                    "table": [
                      {
                        "cells": {
                          "fill": {
                            "color": "#506784"
                          },
                          "line": {
                            "color": "rgb(17,17,17)"
                          }
                        },
                        "header": {
                          "fill": {
                            "color": "#2a3f5f"
                          },
                          "line": {
                            "color": "rgb(17,17,17)"
                          }
                        },
                        "type": "table"
                      }
                    ]
                  },
                  "layout": {
                    "annotationdefaults": {
                      "arrowcolor": "#f2f5fa",
                      "arrowhead": 0,
                      "arrowwidth": 1
                    },
                    "autotypenumbers": "strict",
                    "coloraxis": {
                      "colorbar": {
                        "outlinewidth": 0,
                        "ticks": ""
                      }
                    },
                    "colorscale": {
                      "diverging": [
                        [
                          0,
                          "#8e0152"
                        ],
                        [
                          0.1,
                          "#c51b7d"
                        ],
                        [
                          0.2,
                          "#de77ae"
                        ],
                        [
                          0.3,
                          "#f1b6da"
                        ],
                        [
                          0.4,
                          "#fde0ef"
                        ],
                        [
                          0.5,
                          "#f7f7f7"
                        ],
                        [
                          0.6,
                          "#e6f5d0"
                        ],
                        [
                          0.7,
                          "#b8e186"
                        ],
                        [
                          0.8,
                          "#7fbc41"
                        ],
                        [
                          0.9,
                          "#4d9221"
                        ],
                        [
                          1,
                          "#276419"
                        ]
                      ],
                      "sequential": [
                        [
                          0,
                          "#0d0887"
                        ],
                        [
                          0.1111111111111111,
                          "#46039f"
                        ],
                        [
                          0.2222222222222222,
                          "#7201a8"
                        ],
                        [
                          0.3333333333333333,
                          "#9c179e"
                        ],
                        [
                          0.4444444444444444,
                          "#bd3786"
                        ],
                        [
                          0.5555555555555556,
                          "#d8576b"
                        ],
                        [
                          0.6666666666666666,
                          "#ed7953"
                        ],
                        [
                          0.7777777777777778,
                          "#fb9f3a"
                        ],
                        [
                          0.8888888888888888,
                          "#fdca26"
                        ],
                        [
                          1,
                          "#f0f921"
                        ]
                      ],
                      "sequentialminus": [
                        [
                          0,
                          "#0d0887"
                        ],
                        [
                          0.1111111111111111,
                          "#46039f"
                        ],
                        [
                          0.2222222222222222,
                          "#7201a8"
                        ],
                        [
                          0.3333333333333333,
                          "#9c179e"
                        ],
                        [
                          0.4444444444444444,
                          "#bd3786"
                        ],
                        [
                          0.5555555555555556,
                          "#d8576b"
                        ],
                        [
                          0.6666666666666666,
                          "#ed7953"
                        ],
                        [
                          0.7777777777777778,
                          "#fb9f3a"
                        ],
                        [
                          0.8888888888888888,
                          "#fdca26"
                        ],
                        [
                          1,
                          "#f0f921"
                        ]
                      ]
                    },
                    "colorway": [
                      "#636efa",
                      "#EF553B",
                      "#00cc96",
                      "#ab63fa",
                      "#FFA15A",
                      "#19d3f3",
                      "#FF6692",
                      "#B6E880",
                      "#FF97FF",
                      "#FECB52"
                    ],
                    "font": {
                      "color": "#f2f5fa"
                    },
                    "geo": {
                      "bgcolor": "rgb(17,17,17)",
                      "lakecolor": "rgb(17,17,17)",
                      "landcolor": "rgb(17,17,17)",
                      "showlakes": true,
                      "showland": true,
                      "subunitcolor": "#506784"
                    },
                    "hoverlabel": {
                      "align": "left"
                    },
                    "hovermode": "closest",
                    "mapbox": {
                      "style": "dark"
                    },
                    "paper_bgcolor": "rgb(17,17,17)",
                    "plot_bgcolor": "rgb(17,17,17)",
                    "polar": {
                      "angularaxis": {
                        "gridcolor": "#506784",
                        "linecolor": "#506784",
                        "ticks": ""
                      },
                      "bgcolor": "rgb(17,17,17)",
                      "radialaxis": {
                        "gridcolor": "#506784",
                        "linecolor": "#506784",
                        "ticks": ""
                      }
                    },
                    "scene": {
                      "xaxis": {
                        "backgroundcolor": "rgb(17,17,17)",
                        "gridcolor": "#506784",
                        "gridwidth": 2,
                        "linecolor": "#506784",
                        "showbackground": true,
                        "ticks": "",
                        "zerolinecolor": "#C8D4E3"
                      },
                      "yaxis": {
                        "backgroundcolor": "rgb(17,17,17)",
                        "gridcolor": "#506784",
                        "gridwidth": 2,
                        "linecolor": "#506784",
                        "showbackground": true,
                        "ticks": "",
                        "zerolinecolor": "#C8D4E3"
                      },
                      "zaxis": {
                        "backgroundcolor": "rgb(17,17,17)",
                        "gridcolor": "#506784",
                        "gridwidth": 2,
                        "linecolor": "#506784",
                        "showbackground": true,
                        "ticks": "",
                        "zerolinecolor": "#C8D4E3"
                      }
                    },
                    "shapedefaults": {
                      "line": {
                        "color": "#f2f5fa"
                      }
                    },
                    "sliderdefaults": {
                      "bgcolor": "#C8D4E3",
                      "bordercolor": "rgb(17,17,17)",
                      "borderwidth": 1,
                      "tickwidth": 0
                    },
                    "ternary": {
                      "aaxis": {
                        "gridcolor": "#506784",
                        "linecolor": "#506784",
                        "ticks": ""
                      },
                      "baxis": {
                        "gridcolor": "#506784",
                        "linecolor": "#506784",
                        "ticks": ""
                      },
                      "bgcolor": "rgb(17,17,17)",
                      "caxis": {
                        "gridcolor": "#506784",
                        "linecolor": "#506784",
                        "ticks": ""
                      }
                    },
                    "title": {
                      "x": 0.05
                    },
                    "updatemenudefaults": {
                      "bgcolor": "#506784",
                      "borderwidth": 0
                    },
                    "xaxis": {
                      "automargin": true,
                      "gridcolor": "#283442",
                      "linecolor": "#506784",
                      "ticks": "",
                      "title": {
                        "standoff": 15
                      },
                      "zerolinecolor": "#283442",
                      "zerolinewidth": 2
                    },
                    "yaxis": {
                      "automargin": true,
                      "gridcolor": "#283442",
                      "linecolor": "#506784",
                      "ticks": "",
                      "title": {
                        "standoff": 15
                      },
                      "zerolinecolor": "#283442",
                      "zerolinewidth": 2
                    }
                  }
                },
                "title": {
                  "text": "Corn: Volume of Production and Retail Price in the Philippines"
                },
                "xaxis": {
                  "anchor": "y",
                  "domain": [
                    0,
                    0.94
                  ],
                  "title": {
                    "text": "Year"
                  }
                },
                "yaxis": {
                  "anchor": "x",
                  "domain": [
                    0,
                    1
                  ],
                  "title": {
                    "text": "Volume of Production (metric tons)"
                  }
                },
                "yaxis2": {
                  "anchor": "x",
                  "overlaying": "y",
                  "side": "right",
                  "title": {
                    "text": "Retail Price (in PHP)"
                  }
                }
              }
            }
          },
          "metadata": {},
          "output_type": "display_data"
        },
        {
          "data": {
            "application/vnd.plotly.v1+json": {
              "config": {
                "plotlyServerURL": "https://plot.ly"
              },
              "data": [
                {
                  "name": "Stocks",
                  "type": "scatter",
                  "x": [
                    "2012",
                    "2013",
                    "2014",
                    "2015",
                    "2016",
                    "2017",
                    "2018",
                    "2019",
                    "2020",
                    "2021"
                  ],
                  "xaxis": "x",
                  "y": [
                    320.0123076923076,
                    331.1238461538462,
                    388.7415384615385,
                    408.52461538461534,
                    513.7215384615386,
                    993.0884615384615,
                    694.4630769230769,
                    890.8753846153847,
                    923.1153846153846,
                    794.0276923076924
                  ],
                  "yaxis": "y"
                },
                {
                  "name": "Inflation Rate",
                  "type": "scatter",
                  "x": [
                    "2012",
                    "2013",
                    "2014",
                    "2015",
                    "2016",
                    "2017",
                    "2018",
                    "2019",
                    "2020",
                    "2021"
                  ],
                  "xaxis": "x",
                  "y": [
                    3.16,
                    2.59,
                    3.59,
                    0.69,
                    1.23,
                    2.85,
                    5.31,
                    2.39,
                    2.39,
                    3.93
                  ],
                  "yaxis": "y2"
                }
              ],
              "layout": {
                "template": {
                  "data": {
                    "bar": [
                      {
                        "error_x": {
                          "color": "#f2f5fa"
                        },
                        "error_y": {
                          "color": "#f2f5fa"
                        },
                        "marker": {
                          "line": {
                            "color": "rgb(17,17,17)",
                            "width": 0.5
                          },
                          "pattern": {
                            "fillmode": "overlay",
                            "size": 10,
                            "solidity": 0.2
                          }
                        },
                        "type": "bar"
                      }
                    ],
                    "barpolar": [
                      {
                        "marker": {
                          "line": {
                            "color": "rgb(17,17,17)",
                            "width": 0.5
                          },
                          "pattern": {
                            "fillmode": "overlay",
                            "size": 10,
                            "solidity": 0.2
                          }
                        },
                        "type": "barpolar"
                      }
                    ],
                    "carpet": [
                      {
                        "aaxis": {
                          "endlinecolor": "#A2B1C6",
                          "gridcolor": "#506784",
                          "linecolor": "#506784",
                          "minorgridcolor": "#506784",
                          "startlinecolor": "#A2B1C6"
                        },
                        "baxis": {
                          "endlinecolor": "#A2B1C6",
                          "gridcolor": "#506784",
                          "linecolor": "#506784",
                          "minorgridcolor": "#506784",
                          "startlinecolor": "#A2B1C6"
                        },
                        "type": "carpet"
                      }
                    ],
                    "choropleth": [
                      {
                        "colorbar": {
                          "outlinewidth": 0,
                          "ticks": ""
                        },
                        "type": "choropleth"
                      }
                    ],
                    "contour": [
                      {
                        "colorbar": {
                          "outlinewidth": 0,
                          "ticks": ""
                        },
                        "colorscale": [
                          [
                            0,
                            "#0d0887"
                          ],
                          [
                            0.1111111111111111,
                            "#46039f"
                          ],
                          [
                            0.2222222222222222,
                            "#7201a8"
                          ],
                          [
                            0.3333333333333333,
                            "#9c179e"
                          ],
                          [
                            0.4444444444444444,
                            "#bd3786"
                          ],
                          [
                            0.5555555555555556,
                            "#d8576b"
                          ],
                          [
                            0.6666666666666666,
                            "#ed7953"
                          ],
                          [
                            0.7777777777777778,
                            "#fb9f3a"
                          ],
                          [
                            0.8888888888888888,
                            "#fdca26"
                          ],
                          [
                            1,
                            "#f0f921"
                          ]
                        ],
                        "type": "contour"
                      }
                    ],
                    "contourcarpet": [
                      {
                        "colorbar": {
                          "outlinewidth": 0,
                          "ticks": ""
                        },
                        "type": "contourcarpet"
                      }
                    ],
                    "heatmap": [
                      {
                        "colorbar": {
                          "outlinewidth": 0,
                          "ticks": ""
                        },
                        "colorscale": [
                          [
                            0,
                            "#0d0887"
                          ],
                          [
                            0.1111111111111111,
                            "#46039f"
                          ],
                          [
                            0.2222222222222222,
                            "#7201a8"
                          ],
                          [
                            0.3333333333333333,
                            "#9c179e"
                          ],
                          [
                            0.4444444444444444,
                            "#bd3786"
                          ],
                          [
                            0.5555555555555556,
                            "#d8576b"
                          ],
                          [
                            0.6666666666666666,
                            "#ed7953"
                          ],
                          [
                            0.7777777777777778,
                            "#fb9f3a"
                          ],
                          [
                            0.8888888888888888,
                            "#fdca26"
                          ],
                          [
                            1,
                            "#f0f921"
                          ]
                        ],
                        "type": "heatmap"
                      }
                    ],
                    "heatmapgl": [
                      {
                        "colorbar": {
                          "outlinewidth": 0,
                          "ticks": ""
                        },
                        "colorscale": [
                          [
                            0,
                            "#0d0887"
                          ],
                          [
                            0.1111111111111111,
                            "#46039f"
                          ],
                          [
                            0.2222222222222222,
                            "#7201a8"
                          ],
                          [
                            0.3333333333333333,
                            "#9c179e"
                          ],
                          [
                            0.4444444444444444,
                            "#bd3786"
                          ],
                          [
                            0.5555555555555556,
                            "#d8576b"
                          ],
                          [
                            0.6666666666666666,
                            "#ed7953"
                          ],
                          [
                            0.7777777777777778,
                            "#fb9f3a"
                          ],
                          [
                            0.8888888888888888,
                            "#fdca26"
                          ],
                          [
                            1,
                            "#f0f921"
                          ]
                        ],
                        "type": "heatmapgl"
                      }
                    ],
                    "histogram": [
                      {
                        "marker": {
                          "pattern": {
                            "fillmode": "overlay",
                            "size": 10,
                            "solidity": 0.2
                          }
                        },
                        "type": "histogram"
                      }
                    ],
                    "histogram2d": [
                      {
                        "colorbar": {
                          "outlinewidth": 0,
                          "ticks": ""
                        },
                        "colorscale": [
                          [
                            0,
                            "#0d0887"
                          ],
                          [
                            0.1111111111111111,
                            "#46039f"
                          ],
                          [
                            0.2222222222222222,
                            "#7201a8"
                          ],
                          [
                            0.3333333333333333,
                            "#9c179e"
                          ],
                          [
                            0.4444444444444444,
                            "#bd3786"
                          ],
                          [
                            0.5555555555555556,
                            "#d8576b"
                          ],
                          [
                            0.6666666666666666,
                            "#ed7953"
                          ],
                          [
                            0.7777777777777778,
                            "#fb9f3a"
                          ],
                          [
                            0.8888888888888888,
                            "#fdca26"
                          ],
                          [
                            1,
                            "#f0f921"
                          ]
                        ],
                        "type": "histogram2d"
                      }
                    ],
                    "histogram2dcontour": [
                      {
                        "colorbar": {
                          "outlinewidth": 0,
                          "ticks": ""
                        },
                        "colorscale": [
                          [
                            0,
                            "#0d0887"
                          ],
                          [
                            0.1111111111111111,
                            "#46039f"
                          ],
                          [
                            0.2222222222222222,
                            "#7201a8"
                          ],
                          [
                            0.3333333333333333,
                            "#9c179e"
                          ],
                          [
                            0.4444444444444444,
                            "#bd3786"
                          ],
                          [
                            0.5555555555555556,
                            "#d8576b"
                          ],
                          [
                            0.6666666666666666,
                            "#ed7953"
                          ],
                          [
                            0.7777777777777778,
                            "#fb9f3a"
                          ],
                          [
                            0.8888888888888888,
                            "#fdca26"
                          ],
                          [
                            1,
                            "#f0f921"
                          ]
                        ],
                        "type": "histogram2dcontour"
                      }
                    ],
                    "mesh3d": [
                      {
                        "colorbar": {
                          "outlinewidth": 0,
                          "ticks": ""
                        },
                        "type": "mesh3d"
                      }
                    ],
                    "parcoords": [
                      {
                        "line": {
                          "colorbar": {
                            "outlinewidth": 0,
                            "ticks": ""
                          }
                        },
                        "type": "parcoords"
                      }
                    ],
                    "pie": [
                      {
                        "automargin": true,
                        "type": "pie"
                      }
                    ],
                    "scatter": [
                      {
                        "marker": {
                          "line": {
                            "color": "#283442"
                          }
                        },
                        "type": "scatter"
                      }
                    ],
                    "scatter3d": [
                      {
                        "line": {
                          "colorbar": {
                            "outlinewidth": 0,
                            "ticks": ""
                          }
                        },
                        "marker": {
                          "colorbar": {
                            "outlinewidth": 0,
                            "ticks": ""
                          }
                        },
                        "type": "scatter3d"
                      }
                    ],
                    "scattercarpet": [
                      {
                        "marker": {
                          "colorbar": {
                            "outlinewidth": 0,
                            "ticks": ""
                          }
                        },
                        "type": "scattercarpet"
                      }
                    ],
                    "scattergeo": [
                      {
                        "marker": {
                          "colorbar": {
                            "outlinewidth": 0,
                            "ticks": ""
                          }
                        },
                        "type": "scattergeo"
                      }
                    ],
                    "scattergl": [
                      {
                        "marker": {
                          "line": {
                            "color": "#283442"
                          }
                        },
                        "type": "scattergl"
                      }
                    ],
                    "scattermapbox": [
                      {
                        "marker": {
                          "colorbar": {
                            "outlinewidth": 0,
                            "ticks": ""
                          }
                        },
                        "type": "scattermapbox"
                      }
                    ],
                    "scatterpolar": [
                      {
                        "marker": {
                          "colorbar": {
                            "outlinewidth": 0,
                            "ticks": ""
                          }
                        },
                        "type": "scatterpolar"
                      }
                    ],
                    "scatterpolargl": [
                      {
                        "marker": {
                          "colorbar": {
                            "outlinewidth": 0,
                            "ticks": ""
                          }
                        },
                        "type": "scatterpolargl"
                      }
                    ],
                    "scatterternary": [
                      {
                        "marker": {
                          "colorbar": {
                            "outlinewidth": 0,
                            "ticks": ""
                          }
                        },
                        "type": "scatterternary"
                      }
                    ],
                    "surface": [
                      {
                        "colorbar": {
                          "outlinewidth": 0,
                          "ticks": ""
                        },
                        "colorscale": [
                          [
                            0,
                            "#0d0887"
                          ],
                          [
                            0.1111111111111111,
                            "#46039f"
                          ],
                          [
                            0.2222222222222222,
                            "#7201a8"
                          ],
                          [
                            0.3333333333333333,
                            "#9c179e"
                          ],
                          [
                            0.4444444444444444,
                            "#bd3786"
                          ],
                          [
                            0.5555555555555556,
                            "#d8576b"
                          ],
                          [
                            0.6666666666666666,
                            "#ed7953"
                          ],
                          [
                            0.7777777777777778,
                            "#fb9f3a"
                          ],
                          [
                            0.8888888888888888,
                            "#fdca26"
                          ],
                          [
                            1,
                            "#f0f921"
                          ]
                        ],
                        "type": "surface"
                      }
                    ],
                    "table": [
                      {
                        "cells": {
                          "fill": {
                            "color": "#506784"
                          },
                          "line": {
                            "color": "rgb(17,17,17)"
                          }
                        },
                        "header": {
                          "fill": {
                            "color": "#2a3f5f"
                          },
                          "line": {
                            "color": "rgb(17,17,17)"
                          }
                        },
                        "type": "table"
                      }
                    ]
                  },
                  "layout": {
                    "annotationdefaults": {
                      "arrowcolor": "#f2f5fa",
                      "arrowhead": 0,
                      "arrowwidth": 1
                    },
                    "autotypenumbers": "strict",
                    "coloraxis": {
                      "colorbar": {
                        "outlinewidth": 0,
                        "ticks": ""
                      }
                    },
                    "colorscale": {
                      "diverging": [
                        [
                          0,
                          "#8e0152"
                        ],
                        [
                          0.1,
                          "#c51b7d"
                        ],
                        [
                          0.2,
                          "#de77ae"
                        ],
                        [
                          0.3,
                          "#f1b6da"
                        ],
                        [
                          0.4,
                          "#fde0ef"
                        ],
                        [
                          0.5,
                          "#f7f7f7"
                        ],
                        [
                          0.6,
                          "#e6f5d0"
                        ],
                        [
                          0.7,
                          "#b8e186"
                        ],
                        [
                          0.8,
                          "#7fbc41"
                        ],
                        [
                          0.9,
                          "#4d9221"
                        ],
                        [
                          1,
                          "#276419"
                        ]
                      ],
                      "sequential": [
                        [
                          0,
                          "#0d0887"
                        ],
                        [
                          0.1111111111111111,
                          "#46039f"
                        ],
                        [
                          0.2222222222222222,
                          "#7201a8"
                        ],
                        [
                          0.3333333333333333,
                          "#9c179e"
                        ],
                        [
                          0.4444444444444444,
                          "#bd3786"
                        ],
                        [
                          0.5555555555555556,
                          "#d8576b"
                        ],
                        [
                          0.6666666666666666,
                          "#ed7953"
                        ],
                        [
                          0.7777777777777778,
                          "#fb9f3a"
                        ],
                        [
                          0.8888888888888888,
                          "#fdca26"
                        ],
                        [
                          1,
                          "#f0f921"
                        ]
                      ],
                      "sequentialminus": [
                        [
                          0,
                          "#0d0887"
                        ],
                        [
                          0.1111111111111111,
                          "#46039f"
                        ],
                        [
                          0.2222222222222222,
                          "#7201a8"
                        ],
                        [
                          0.3333333333333333,
                          "#9c179e"
                        ],
                        [
                          0.4444444444444444,
                          "#bd3786"
                        ],
                        [
                          0.5555555555555556,
                          "#d8576b"
                        ],
                        [
                          0.6666666666666666,
                          "#ed7953"
                        ],
                        [
                          0.7777777777777778,
                          "#fb9f3a"
                        ],
                        [
                          0.8888888888888888,
                          "#fdca26"
                        ],
                        [
                          1,
                          "#f0f921"
                        ]
                      ]
                    },
                    "colorway": [
                      "#636efa",
                      "#EF553B",
                      "#00cc96",
                      "#ab63fa",
                      "#FFA15A",
                      "#19d3f3",
                      "#FF6692",
                      "#B6E880",
                      "#FF97FF",
                      "#FECB52"
                    ],
                    "font": {
                      "color": "#f2f5fa"
                    },
                    "geo": {
                      "bgcolor": "rgb(17,17,17)",
                      "lakecolor": "rgb(17,17,17)",
                      "landcolor": "rgb(17,17,17)",
                      "showlakes": true,
                      "showland": true,
                      "subunitcolor": "#506784"
                    },
                    "hoverlabel": {
                      "align": "left"
                    },
                    "hovermode": "closest",
                    "mapbox": {
                      "style": "dark"
                    },
                    "paper_bgcolor": "rgb(17,17,17)",
                    "plot_bgcolor": "rgb(17,17,17)",
                    "polar": {
                      "angularaxis": {
                        "gridcolor": "#506784",
                        "linecolor": "#506784",
                        "ticks": ""
                      },
                      "bgcolor": "rgb(17,17,17)",
                      "radialaxis": {
                        "gridcolor": "#506784",
                        "linecolor": "#506784",
                        "ticks": ""
                      }
                    },
                    "scene": {
                      "xaxis": {
                        "backgroundcolor": "rgb(17,17,17)",
                        "gridcolor": "#506784",
                        "gridwidth": 2,
                        "linecolor": "#506784",
                        "showbackground": true,
                        "ticks": "",
                        "zerolinecolor": "#C8D4E3"
                      },
                      "yaxis": {
                        "backgroundcolor": "rgb(17,17,17)",
                        "gridcolor": "#506784",
                        "gridwidth": 2,
                        "linecolor": "#506784",
                        "showbackground": true,
                        "ticks": "",
                        "zerolinecolor": "#C8D4E3"
                      },
                      "zaxis": {
                        "backgroundcolor": "rgb(17,17,17)",
                        "gridcolor": "#506784",
                        "gridwidth": 2,
                        "linecolor": "#506784",
                        "showbackground": true,
                        "ticks": "",
                        "zerolinecolor": "#C8D4E3"
                      }
                    },
                    "shapedefaults": {
                      "line": {
                        "color": "#f2f5fa"
                      }
                    },
                    "sliderdefaults": {
                      "bgcolor": "#C8D4E3",
                      "bordercolor": "rgb(17,17,17)",
                      "borderwidth": 1,
                      "tickwidth": 0
                    },
                    "ternary": {
                      "aaxis": {
                        "gridcolor": "#506784",
                        "linecolor": "#506784",
                        "ticks": ""
                      },
                      "baxis": {
                        "gridcolor": "#506784",
                        "linecolor": "#506784",
                        "ticks": ""
                      },
                      "bgcolor": "rgb(17,17,17)",
                      "caxis": {
                        "gridcolor": "#506784",
                        "linecolor": "#506784",
                        "ticks": ""
                      }
                    },
                    "title": {
                      "x": 0.05
                    },
                    "updatemenudefaults": {
                      "bgcolor": "#506784",
                      "borderwidth": 0
                    },
                    "xaxis": {
                      "automargin": true,
                      "gridcolor": "#283442",
                      "linecolor": "#506784",
                      "ticks": "",
                      "title": {
                        "standoff": 15
                      },
                      "zerolinecolor": "#283442",
                      "zerolinewidth": 2
                    },
                    "yaxis": {
                      "automargin": true,
                      "gridcolor": "#283442",
                      "linecolor": "#506784",
                      "ticks": "",
                      "title": {
                        "standoff": 15
                      },
                      "zerolinecolor": "#283442",
                      "zerolinewidth": 2
                    }
                  }
                },
                "title": {
                  "text": "Corn: Volume of Production and National Inflation Rate in the Philippines"
                },
                "xaxis": {
                  "anchor": "y",
                  "domain": [
                    0,
                    0.94
                  ],
                  "title": {
                    "text": "Year"
                  }
                },
                "yaxis": {
                  "anchor": "x",
                  "domain": [
                    0,
                    1
                  ],
                  "title": {
                    "text": "Stocks (metric tons)"
                  }
                },
                "yaxis2": {
                  "anchor": "x",
                  "overlaying": "y",
                  "side": "right",
                  "title": {
                    "text": "Inflation Rate (in %)"
                  }
                }
              }
            }
          },
          "metadata": {},
          "output_type": "display_data"
        },
        {
          "name": "stdout",
          "output_type": "stream",
          "text": [
            "\u001b[31mStocks <-> Farmgate Price = 0.0: Significant relationship exists.\u001b[0m\n",
            "\u001b[31mStocks <-> Wholesale Price = 0.0: Significant relationship exists.\u001b[0m\n",
            "\u001b[31mStocks <-> Retail Price = 0.0: Significant relationship exists.\u001b[0m\n",
            "Stocks </> CPI All Income = 0.121: No significant relationship exists.\n",
            "\u001b[31mStocks <-> CPI Bottom 30 = 0.0: Significant relationship exists.\u001b[0m\n",
            "\u001b[31mStocks <-> Net Returns = 0.043: Significant relationship exists.\u001b[0m\n",
            "\u001b[31mStocks <-> Inflation Rate = 0.002: Significant relationship exists.\u001b[0m\n",
            "Stocks </> NCR RPI = 0.118: No significant relationship exists.\n",
            "Volume </> Farmgate Price = 0.11: No significant relationship exists.\n",
            "Volume </> Wholesale Price = 0.933: No significant relationship exists.\n",
            "Volume </> Retail Price = 0.823: No significant relationship exists.\n",
            "Volume </> CPI All Income = 0.204: No significant relationship exists.\n",
            "Volume </> CPI Bottom 30 = 0.148: No significant relationship exists.\n",
            "\u001b[31mVolume <-> Net Returns = 0.0: Significant relationship exists.\u001b[0m\n",
            "Volume </> Inflation Rate = 0.562: No significant relationship exists.\n",
            "Volume </> NCR RPI = 0.35: No significant relationship exists.\n",
            "Area Harvested </> Farmgate Price = 0.827: No significant relationship exists.\n",
            "Area Harvested </> Wholesale Price = 0.147: No significant relationship exists.\n",
            "Area Harvested </> Retail Price = 0.177: No significant relationship exists.\n",
            "Area Harvested </> CPI All Income = 0.458: No significant relationship exists.\n",
            "Area Harvested </> CPI Bottom 30 = 0.477: No significant relationship exists.\n",
            "\u001b[31mArea Harvested <-> Net Returns = 0.0: Significant relationship exists.\u001b[0m\n",
            "Area Harvested </> Inflation Rate = 0.696: No significant relationship exists.\n",
            "Area Harvested </> NCR RPI = 0.664: No significant relationship exists.\n",
            "Self-Sufficiency Ratio </> Farmgate Price = 0.076: No significant relationship exists.\n",
            "\u001b[31mSelf-Sufficiency Ratio <-> Wholesale Price = 0.0: Significant relationship exists.\u001b[0m\n",
            "\u001b[31mSelf-Sufficiency Ratio <-> Retail Price = 0.0: Significant relationship exists.\u001b[0m\n",
            "\u001b[31mSelf-Sufficiency Ratio <-> CPI All Income = 0.0: Significant relationship exists.\u001b[0m\n",
            "\u001b[31mSelf-Sufficiency Ratio <-> CPI Bottom 30 = 0.0: Significant relationship exists.\u001b[0m\n",
            "Self-Sufficiency Ratio </> Net Returns = 0.122: No significant relationship exists.\n",
            "\u001b[31mSelf-Sufficiency Ratio <-> Inflation Rate = 0.004: Significant relationship exists.\u001b[0m\n",
            "\u001b[31mSelf-Sufficiency Ratio <-> NCR RPI = 0.0: Significant relationship exists.\u001b[0m\n",
            "Import-Dependency Ratio </> Farmgate Price = 0.072: No significant relationship exists.\n",
            "\u001b[31mImport-Dependency Ratio <-> Wholesale Price = 0.0: Significant relationship exists.\u001b[0m\n",
            "\u001b[31mImport-Dependency Ratio <-> Retail Price = 0.0: Significant relationship exists.\u001b[0m\n",
            "\u001b[31mImport-Dependency Ratio <-> CPI All Income = 0.0: Significant relationship exists.\u001b[0m\n",
            "\u001b[31mImport-Dependency Ratio <-> CPI Bottom 30 = 0.0: Significant relationship exists.\u001b[0m\n",
            "Import-Dependency Ratio </> Net Returns = 0.127: No significant relationship exists.\n",
            "\u001b[31mImport-Dependency Ratio <-> Inflation Rate = 0.004: Significant relationship exists.\u001b[0m\n",
            "\u001b[31mImport-Dependency Ratio <-> NCR RPI = 0.0: Significant relationship exists.\u001b[0m\n",
            "\u001b[31mSU Gross Supply <-> Farmgate Price = 0.0: Significant relationship exists.\u001b[0m\n",
            "\u001b[31mSU Gross Supply <-> Wholesale Price = 0.0: Significant relationship exists.\u001b[0m\n",
            "\u001b[31mSU Gross Supply <-> Retail Price = 0.0: Significant relationship exists.\u001b[0m\n",
            "\u001b[31mSU Gross Supply <-> CPI All Income = 0.01: Significant relationship exists.\u001b[0m\n",
            "\u001b[31mSU Gross Supply <-> CPI Bottom 30 = 0.0: Significant relationship exists.\u001b[0m\n",
            "SU Gross Supply </> Net Returns = 0.321: No significant relationship exists.\n",
            "SU Gross Supply </> Inflation Rate = 0.051: No significant relationship exists.\n",
            "\u001b[31mSU Gross Supply <-> NCR RPI = 0.0: Significant relationship exists.\u001b[0m\n",
            "\u001b[31mUT Consumable <-> Farmgate Price = 0.0: Significant relationship exists.\u001b[0m\n",
            "\u001b[31mUT Consumable <-> Wholesale Price = 0.0: Significant relationship exists.\u001b[0m\n",
            "\u001b[31mUT Consumable <-> Retail Price = 0.0: Significant relationship exists.\u001b[0m\n",
            "UT Consumable </> CPI All Income = 0.103: No significant relationship exists.\n",
            "\u001b[31mUT Consumable <-> CPI Bottom 30 = 0.001: Significant relationship exists.\u001b[0m\n",
            "UT Consumable </> Net Returns = 0.392: No significant relationship exists.\n",
            "\u001b[31mUT Consumable <-> Inflation Rate = 0.033: Significant relationship exists.\u001b[0m\n",
            "\u001b[31mUT Consumable <-> NCR RPI = 0.0: Significant relationship exists.\u001b[0m\n"
          ]
        }
      ],
      "source": [
        "# @Visualizations\n",
        "from termcolor import cprint\n",
        "REGEN_PLOTS = True\n",
        "\n",
        "# for x in [\"Volume\", \"Area Harvested\"]:\n",
        "#     for y in [\"Retail Price\", \"Wholesale Price\", \"Farmgate Price\", \"CPI All Income\", \"CPI Bottom 30\"]:\n",
        "#         fig = px.scatter(df, x=x, y=y)\n",
        "#         # fig.show()\n",
        "        \n",
        "# Correlation Matrix for Annual-Regions\n",
        "# NOTE: Filter != or == philippines\n",
        "df_ph = df[df[\"Geolocation\"] != \"philippines\"]\n",
        "for commodity in df_ph[\"Commodity\"].unique():\n",
        "    tdf = df_ph[df_ph[\"Commodity\"] == commodity]\n",
        "    samples = tdf.shape[0]\n",
        "    # NOTE: pearson|kendall|spearman\n",
        "    contingency = tdf.iloc[:, 3:].corr(method=\"pearson\")\n",
        "    idx = list(contingency.columns).index(\"Farmgate Price\")\n",
        "    cont_1 = contingency.iloc[:idx, idx:]\n",
        "    fig1 = px.imshow(cont_1, text_auto=True, title=f\"{commodity}: Correlation Matrix on {samples} Annual-Regional Samples\",\n",
        "                    labels=dict(x=f\"Socioeconomic Indicator for {commodity}\", y=f\"Agricultural Indicator for {commodity}\"))\n",
        "    fig1.update_traces(\n",
        "        texttemplate='%{z:.2f}',\n",
        "        hovertemplate=(\"x: %{x}<br>y: %{y}<br><b>Correlation: %{z}</b><extra></extra>\")\n",
        "    )\n",
        "    fig1.update_layout(template=\"plotly_dark\")\n",
        "    fig1.show()\n",
        "    \n",
        "    mask = (df[\"Geolocation\"] == \"philippines\") & (df[\"Commodity\"] == commodity)\n",
        "    fig2 = dual_plot(df[mask], \"Period\", \"Volume\", \"Retail Price\",\n",
        "                    f\"{commodity}: Volume of Production and Retail Price in the Philippines\",\n",
        "                    \"Year\", \"Volume of Production (metric tons)\", \"Retail Price (in PHP)\")\n",
        "    fig2.update_layout(template=\"plotly_dark\")\n",
        "    fig2.show()\n",
        "\n",
        "    fig3 = dual_plot(df[mask], \"Period\", \"Stocks\", \"Inflation Rate\",\n",
        "                    f\"{commodity}: Volume of Production and National Inflation Rate in the Philippines\",\n",
        "                    \"Year\", \"Stocks (metric tons)\", \"Inflation Rate (in %)\")\n",
        "    fig3.update_layout(template=\"plotly_dark\")\n",
        "    fig3.show()\n",
        "    \n",
        "    if REGEN_PLOTS:\n",
        "        fig_to_div(fig1, f\"plots/annual-regional/{commodity}_heatmap_div.html\")\n",
        "        fig_to_html(fig1, f\"plots/annual-regional/{commodity}_heatmap.html\")\n",
        "        fig_to_png(fig1, f\"plots/annual-regional/{commodity}_heatmap.png\")\n",
        "        \n",
        "        fig_to_div(fig2, f\"plots/annual-regional/{commodity}_dual_volume-retail_div.html\")\n",
        "        fig_to_html(fig2, f\"plots/annual-regional/{commodity}_dual_volume-retail.html\")\n",
        "        fig_to_png(fig2, f\"plots/annual-regional/{commodity}_dual_volume-retail.png\")\n",
        "\n",
        "        fig_to_div(fig3, f\"plots/annual-regional/{commodity}_dual_stocks-inflation_div.html\")\n",
        "        fig_to_html(fig3, f\"plots/annual-regional/{commodity}_dual_stocks-inflation.html\")\n",
        "        fig_to_png(fig3, f\"plots/annual-regional/{commodity}_dual_stocks-inflation.png\")\n",
        "    \n",
        "    # Hypothesis testing for commodity\n",
        "    df_ph = df_ph.dropna()\n",
        "    agri_cols = df.columns[3:10]\n",
        "    market_cols = df.columns[10:]\n",
        "    alpha = 0.05\n",
        "    for x in agri_cols:\n",
        "        for y in market_cols:\n",
        "            agri, market = df_ph[x], df_ph[y]\n",
        "            r_stat, p_value = stats.pearsonr(agri, market)  # Pearson's r\n",
        "            if p_value < alpha:\n",
        "                cprint(f\"{x} <-> {y} = {round(p_value, 3)}: Significant relationship exists.\", \"red\")\n",
        "            else:\n",
        "                print(f\"{x} </> {y} = {round(p_value, 3)}: No significant relationship exists.\")"
      ]
    },
    {
      "cell_type": "code",
      "execution_count": 142,
      "metadata": {},
      "outputs": [
        {
          "data": {
            "application/vnd.plotly.v1+json": {
              "config": {
                "plotlyServerURL": "https://plot.ly"
              },
              "data": [
                {
                  "alignmentgroup": "True",
                  "bingroup": "x",
                  "histfunc": "sum",
                  "hovertemplate": "Commodity=Corn<br>Geolocation=%{x}<br>sum of Retail Price=%{y}<extra></extra>",
                  "legendgroup": "Corn",
                  "marker": {
                    "color": "#636efa",
                    "pattern": {
                      "shape": ""
                    }
                  },
                  "name": "Corn",
                  "offsetgroup": "Corn",
                  "orientation": "v",
                  "showlegend": true,
                  "type": "histogram",
                  "x": [
                    "barmm",
                    "car",
                    "mimaropa",
                    "ilocos region",
                    "cagayan valley",
                    "central luzon",
                    "calabarzon",
                    "zamboanga peninsula",
                    "bicol region",
                    "western visayas",
                    "central visayas",
                    "eastern visayas",
                    "northern mindanao",
                    "davao region",
                    "soccsksargen",
                    "caraga"
                  ],
                  "xaxis": "x",
                  "y": [
                    34.980491071428574,
                    29.52108333333333,
                    46.31575,
                    34.980491071428574,
                    18.472,
                    34.980491071428574,
                    36.771750000000004,
                    34.980491071428574,
                    34.980491071428574,
                    30.846961309523813,
                    34.980491071428574,
                    34.980491071428574,
                    16.653916666666667,
                    19.114583333333336,
                    34.980491071428574,
                    34.980491071428574
                  ],
                  "yaxis": "y"
                },
                {
                  "alignmentgroup": "True",
                  "bingroup": "x",
                  "histfunc": "sum",
                  "hovertemplate": "Commodity=Rice<br>Geolocation=%{x}<br>sum of Retail Price=%{y}<extra></extra>",
                  "legendgroup": "Rice",
                  "marker": {
                    "color": "#EF553B",
                    "pattern": {
                      "shape": ""
                    }
                  },
                  "name": "Rice",
                  "offsetgroup": "Rice",
                  "orientation": "v",
                  "showlegend": true,
                  "type": "histogram",
                  "x": [
                    "barmm",
                    "mimaropa",
                    "ilocos region",
                    "cagayan valley",
                    "central luzon",
                    "calabarzon",
                    "zamboanga peninsula",
                    "bicol region",
                    "western visayas",
                    "central visayas",
                    "eastern visayas",
                    "northern mindanao",
                    "davao region",
                    "soccsksargen"
                  ],
                  "xaxis": "x",
                  "y": [
                    37.272083333333335,
                    38.087583333333335,
                    36.087916666666665,
                    36.257083333333334,
                    36.951,
                    37.58383333333333,
                    41.249,
                    38.15258333333333,
                    38.57933333333333,
                    42.24716666666667,
                    40.26241666666667,
                    40.456,
                    39.455,
                    38.19991666666667
                  ],
                  "yaxis": "y"
                }
              ],
              "layout": {
                "barmode": "group",
                "legend": {
                  "title": {
                    "text": "Commodity"
                  },
                  "tracegroupgap": 0
                },
                "margin": {
                  "t": 60
                },
                "template": {
                  "data": {
                    "bar": [
                      {
                        "error_x": {
                          "color": "#f2f5fa"
                        },
                        "error_y": {
                          "color": "#f2f5fa"
                        },
                        "marker": {
                          "line": {
                            "color": "rgb(17,17,17)",
                            "width": 0.5
                          },
                          "pattern": {
                            "fillmode": "overlay",
                            "size": 10,
                            "solidity": 0.2
                          }
                        },
                        "type": "bar"
                      }
                    ],
                    "barpolar": [
                      {
                        "marker": {
                          "line": {
                            "color": "rgb(17,17,17)",
                            "width": 0.5
                          },
                          "pattern": {
                            "fillmode": "overlay",
                            "size": 10,
                            "solidity": 0.2
                          }
                        },
                        "type": "barpolar"
                      }
                    ],
                    "carpet": [
                      {
                        "aaxis": {
                          "endlinecolor": "#A2B1C6",
                          "gridcolor": "#506784",
                          "linecolor": "#506784",
                          "minorgridcolor": "#506784",
                          "startlinecolor": "#A2B1C6"
                        },
                        "baxis": {
                          "endlinecolor": "#A2B1C6",
                          "gridcolor": "#506784",
                          "linecolor": "#506784",
                          "minorgridcolor": "#506784",
                          "startlinecolor": "#A2B1C6"
                        },
                        "type": "carpet"
                      }
                    ],
                    "choropleth": [
                      {
                        "colorbar": {
                          "outlinewidth": 0,
                          "ticks": ""
                        },
                        "type": "choropleth"
                      }
                    ],
                    "contour": [
                      {
                        "colorbar": {
                          "outlinewidth": 0,
                          "ticks": ""
                        },
                        "colorscale": [
                          [
                            0,
                            "#0d0887"
                          ],
                          [
                            0.1111111111111111,
                            "#46039f"
                          ],
                          [
                            0.2222222222222222,
                            "#7201a8"
                          ],
                          [
                            0.3333333333333333,
                            "#9c179e"
                          ],
                          [
                            0.4444444444444444,
                            "#bd3786"
                          ],
                          [
                            0.5555555555555556,
                            "#d8576b"
                          ],
                          [
                            0.6666666666666666,
                            "#ed7953"
                          ],
                          [
                            0.7777777777777778,
                            "#fb9f3a"
                          ],
                          [
                            0.8888888888888888,
                            "#fdca26"
                          ],
                          [
                            1,
                            "#f0f921"
                          ]
                        ],
                        "type": "contour"
                      }
                    ],
                    "contourcarpet": [
                      {
                        "colorbar": {
                          "outlinewidth": 0,
                          "ticks": ""
                        },
                        "type": "contourcarpet"
                      }
                    ],
                    "heatmap": [
                      {
                        "colorbar": {
                          "outlinewidth": 0,
                          "ticks": ""
                        },
                        "colorscale": [
                          [
                            0,
                            "#0d0887"
                          ],
                          [
                            0.1111111111111111,
                            "#46039f"
                          ],
                          [
                            0.2222222222222222,
                            "#7201a8"
                          ],
                          [
                            0.3333333333333333,
                            "#9c179e"
                          ],
                          [
                            0.4444444444444444,
                            "#bd3786"
                          ],
                          [
                            0.5555555555555556,
                            "#d8576b"
                          ],
                          [
                            0.6666666666666666,
                            "#ed7953"
                          ],
                          [
                            0.7777777777777778,
                            "#fb9f3a"
                          ],
                          [
                            0.8888888888888888,
                            "#fdca26"
                          ],
                          [
                            1,
                            "#f0f921"
                          ]
                        ],
                        "type": "heatmap"
                      }
                    ],
                    "heatmapgl": [
                      {
                        "colorbar": {
                          "outlinewidth": 0,
                          "ticks": ""
                        },
                        "colorscale": [
                          [
                            0,
                            "#0d0887"
                          ],
                          [
                            0.1111111111111111,
                            "#46039f"
                          ],
                          [
                            0.2222222222222222,
                            "#7201a8"
                          ],
                          [
                            0.3333333333333333,
                            "#9c179e"
                          ],
                          [
                            0.4444444444444444,
                            "#bd3786"
                          ],
                          [
                            0.5555555555555556,
                            "#d8576b"
                          ],
                          [
                            0.6666666666666666,
                            "#ed7953"
                          ],
                          [
                            0.7777777777777778,
                            "#fb9f3a"
                          ],
                          [
                            0.8888888888888888,
                            "#fdca26"
                          ],
                          [
                            1,
                            "#f0f921"
                          ]
                        ],
                        "type": "heatmapgl"
                      }
                    ],
                    "histogram": [
                      {
                        "marker": {
                          "pattern": {
                            "fillmode": "overlay",
                            "size": 10,
                            "solidity": 0.2
                          }
                        },
                        "type": "histogram"
                      }
                    ],
                    "histogram2d": [
                      {
                        "colorbar": {
                          "outlinewidth": 0,
                          "ticks": ""
                        },
                        "colorscale": [
                          [
                            0,
                            "#0d0887"
                          ],
                          [
                            0.1111111111111111,
                            "#46039f"
                          ],
                          [
                            0.2222222222222222,
                            "#7201a8"
                          ],
                          [
                            0.3333333333333333,
                            "#9c179e"
                          ],
                          [
                            0.4444444444444444,
                            "#bd3786"
                          ],
                          [
                            0.5555555555555556,
                            "#d8576b"
                          ],
                          [
                            0.6666666666666666,
                            "#ed7953"
                          ],
                          [
                            0.7777777777777778,
                            "#fb9f3a"
                          ],
                          [
                            0.8888888888888888,
                            "#fdca26"
                          ],
                          [
                            1,
                            "#f0f921"
                          ]
                        ],
                        "type": "histogram2d"
                      }
                    ],
                    "histogram2dcontour": [
                      {
                        "colorbar": {
                          "outlinewidth": 0,
                          "ticks": ""
                        },
                        "colorscale": [
                          [
                            0,
                            "#0d0887"
                          ],
                          [
                            0.1111111111111111,
                            "#46039f"
                          ],
                          [
                            0.2222222222222222,
                            "#7201a8"
                          ],
                          [
                            0.3333333333333333,
                            "#9c179e"
                          ],
                          [
                            0.4444444444444444,
                            "#bd3786"
                          ],
                          [
                            0.5555555555555556,
                            "#d8576b"
                          ],
                          [
                            0.6666666666666666,
                            "#ed7953"
                          ],
                          [
                            0.7777777777777778,
                            "#fb9f3a"
                          ],
                          [
                            0.8888888888888888,
                            "#fdca26"
                          ],
                          [
                            1,
                            "#f0f921"
                          ]
                        ],
                        "type": "histogram2dcontour"
                      }
                    ],
                    "mesh3d": [
                      {
                        "colorbar": {
                          "outlinewidth": 0,
                          "ticks": ""
                        },
                        "type": "mesh3d"
                      }
                    ],
                    "parcoords": [
                      {
                        "line": {
                          "colorbar": {
                            "outlinewidth": 0,
                            "ticks": ""
                          }
                        },
                        "type": "parcoords"
                      }
                    ],
                    "pie": [
                      {
                        "automargin": true,
                        "type": "pie"
                      }
                    ],
                    "scatter": [
                      {
                        "marker": {
                          "line": {
                            "color": "#283442"
                          }
                        },
                        "type": "scatter"
                      }
                    ],
                    "scatter3d": [
                      {
                        "line": {
                          "colorbar": {
                            "outlinewidth": 0,
                            "ticks": ""
                          }
                        },
                        "marker": {
                          "colorbar": {
                            "outlinewidth": 0,
                            "ticks": ""
                          }
                        },
                        "type": "scatter3d"
                      }
                    ],
                    "scattercarpet": [
                      {
                        "marker": {
                          "colorbar": {
                            "outlinewidth": 0,
                            "ticks": ""
                          }
                        },
                        "type": "scattercarpet"
                      }
                    ],
                    "scattergeo": [
                      {
                        "marker": {
                          "colorbar": {
                            "outlinewidth": 0,
                            "ticks": ""
                          }
                        },
                        "type": "scattergeo"
                      }
                    ],
                    "scattergl": [
                      {
                        "marker": {
                          "line": {
                            "color": "#283442"
                          }
                        },
                        "type": "scattergl"
                      }
                    ],
                    "scattermapbox": [
                      {
                        "marker": {
                          "colorbar": {
                            "outlinewidth": 0,
                            "ticks": ""
                          }
                        },
                        "type": "scattermapbox"
                      }
                    ],
                    "scatterpolar": [
                      {
                        "marker": {
                          "colorbar": {
                            "outlinewidth": 0,
                            "ticks": ""
                          }
                        },
                        "type": "scatterpolar"
                      }
                    ],
                    "scatterpolargl": [
                      {
                        "marker": {
                          "colorbar": {
                            "outlinewidth": 0,
                            "ticks": ""
                          }
                        },
                        "type": "scatterpolargl"
                      }
                    ],
                    "scatterternary": [
                      {
                        "marker": {
                          "colorbar": {
                            "outlinewidth": 0,
                            "ticks": ""
                          }
                        },
                        "type": "scatterternary"
                      }
                    ],
                    "surface": [
                      {
                        "colorbar": {
                          "outlinewidth": 0,
                          "ticks": ""
                        },
                        "colorscale": [
                          [
                            0,
                            "#0d0887"
                          ],
                          [
                            0.1111111111111111,
                            "#46039f"
                          ],
                          [
                            0.2222222222222222,
                            "#7201a8"
                          ],
                          [
                            0.3333333333333333,
                            "#9c179e"
                          ],
                          [
                            0.4444444444444444,
                            "#bd3786"
                          ],
                          [
                            0.5555555555555556,
                            "#d8576b"
                          ],
                          [
                            0.6666666666666666,
                            "#ed7953"
                          ],
                          [
                            0.7777777777777778,
                            "#fb9f3a"
                          ],
                          [
                            0.8888888888888888,
                            "#fdca26"
                          ],
                          [
                            1,
                            "#f0f921"
                          ]
                        ],
                        "type": "surface"
                      }
                    ],
                    "table": [
                      {
                        "cells": {
                          "fill": {
                            "color": "#506784"
                          },
                          "line": {
                            "color": "rgb(17,17,17)"
                          }
                        },
                        "header": {
                          "fill": {
                            "color": "#2a3f5f"
                          },
                          "line": {
                            "color": "rgb(17,17,17)"
                          }
                        },
                        "type": "table"
                      }
                    ]
                  },
                  "layout": {
                    "annotationdefaults": {
                      "arrowcolor": "#f2f5fa",
                      "arrowhead": 0,
                      "arrowwidth": 1
                    },
                    "autotypenumbers": "strict",
                    "coloraxis": {
                      "colorbar": {
                        "outlinewidth": 0,
                        "ticks": ""
                      }
                    },
                    "colorscale": {
                      "diverging": [
                        [
                          0,
                          "#8e0152"
                        ],
                        [
                          0.1,
                          "#c51b7d"
                        ],
                        [
                          0.2,
                          "#de77ae"
                        ],
                        [
                          0.3,
                          "#f1b6da"
                        ],
                        [
                          0.4,
                          "#fde0ef"
                        ],
                        [
                          0.5,
                          "#f7f7f7"
                        ],
                        [
                          0.6,
                          "#e6f5d0"
                        ],
                        [
                          0.7,
                          "#b8e186"
                        ],
                        [
                          0.8,
                          "#7fbc41"
                        ],
                        [
                          0.9,
                          "#4d9221"
                        ],
                        [
                          1,
                          "#276419"
                        ]
                      ],
                      "sequential": [
                        [
                          0,
                          "#0d0887"
                        ],
                        [
                          0.1111111111111111,
                          "#46039f"
                        ],
                        [
                          0.2222222222222222,
                          "#7201a8"
                        ],
                        [
                          0.3333333333333333,
                          "#9c179e"
                        ],
                        [
                          0.4444444444444444,
                          "#bd3786"
                        ],
                        [
                          0.5555555555555556,
                          "#d8576b"
                        ],
                        [
                          0.6666666666666666,
                          "#ed7953"
                        ],
                        [
                          0.7777777777777778,
                          "#fb9f3a"
                        ],
                        [
                          0.8888888888888888,
                          "#fdca26"
                        ],
                        [
                          1,
                          "#f0f921"
                        ]
                      ],
                      "sequentialminus": [
                        [
                          0,
                          "#0d0887"
                        ],
                        [
                          0.1111111111111111,
                          "#46039f"
                        ],
                        [
                          0.2222222222222222,
                          "#7201a8"
                        ],
                        [
                          0.3333333333333333,
                          "#9c179e"
                        ],
                        [
                          0.4444444444444444,
                          "#bd3786"
                        ],
                        [
                          0.5555555555555556,
                          "#d8576b"
                        ],
                        [
                          0.6666666666666666,
                          "#ed7953"
                        ],
                        [
                          0.7777777777777778,
                          "#fb9f3a"
                        ],
                        [
                          0.8888888888888888,
                          "#fdca26"
                        ],
                        [
                          1,
                          "#f0f921"
                        ]
                      ]
                    },
                    "colorway": [
                      "#636efa",
                      "#EF553B",
                      "#00cc96",
                      "#ab63fa",
                      "#FFA15A",
                      "#19d3f3",
                      "#FF6692",
                      "#B6E880",
                      "#FF97FF",
                      "#FECB52"
                    ],
                    "font": {
                      "color": "#f2f5fa"
                    },
                    "geo": {
                      "bgcolor": "rgb(17,17,17)",
                      "lakecolor": "rgb(17,17,17)",
                      "landcolor": "rgb(17,17,17)",
                      "showlakes": true,
                      "showland": true,
                      "subunitcolor": "#506784"
                    },
                    "hoverlabel": {
                      "align": "left"
                    },
                    "hovermode": "closest",
                    "mapbox": {
                      "style": "dark"
                    },
                    "paper_bgcolor": "rgb(17,17,17)",
                    "plot_bgcolor": "rgb(17,17,17)",
                    "polar": {
                      "angularaxis": {
                        "gridcolor": "#506784",
                        "linecolor": "#506784",
                        "ticks": ""
                      },
                      "bgcolor": "rgb(17,17,17)",
                      "radialaxis": {
                        "gridcolor": "#506784",
                        "linecolor": "#506784",
                        "ticks": ""
                      }
                    },
                    "scene": {
                      "xaxis": {
                        "backgroundcolor": "rgb(17,17,17)",
                        "gridcolor": "#506784",
                        "gridwidth": 2,
                        "linecolor": "#506784",
                        "showbackground": true,
                        "ticks": "",
                        "zerolinecolor": "#C8D4E3"
                      },
                      "yaxis": {
                        "backgroundcolor": "rgb(17,17,17)",
                        "gridcolor": "#506784",
                        "gridwidth": 2,
                        "linecolor": "#506784",
                        "showbackground": true,
                        "ticks": "",
                        "zerolinecolor": "#C8D4E3"
                      },
                      "zaxis": {
                        "backgroundcolor": "rgb(17,17,17)",
                        "gridcolor": "#506784",
                        "gridwidth": 2,
                        "linecolor": "#506784",
                        "showbackground": true,
                        "ticks": "",
                        "zerolinecolor": "#C8D4E3"
                      }
                    },
                    "shapedefaults": {
                      "line": {
                        "color": "#f2f5fa"
                      }
                    },
                    "sliderdefaults": {
                      "bgcolor": "#C8D4E3",
                      "bordercolor": "rgb(17,17,17)",
                      "borderwidth": 1,
                      "tickwidth": 0
                    },
                    "ternary": {
                      "aaxis": {
                        "gridcolor": "#506784",
                        "linecolor": "#506784",
                        "ticks": ""
                      },
                      "baxis": {
                        "gridcolor": "#506784",
                        "linecolor": "#506784",
                        "ticks": ""
                      },
                      "bgcolor": "rgb(17,17,17)",
                      "caxis": {
                        "gridcolor": "#506784",
                        "linecolor": "#506784",
                        "ticks": ""
                      }
                    },
                    "title": {
                      "x": 0.05
                    },
                    "updatemenudefaults": {
                      "bgcolor": "#506784",
                      "borderwidth": 0
                    },
                    "xaxis": {
                      "automargin": true,
                      "gridcolor": "#283442",
                      "linecolor": "#506784",
                      "ticks": "",
                      "title": {
                        "standoff": 15
                      },
                      "zerolinecolor": "#283442",
                      "zerolinewidth": 2
                    },
                    "yaxis": {
                      "automargin": true,
                      "gridcolor": "#283442",
                      "linecolor": "#506784",
                      "ticks": "",
                      "title": {
                        "standoff": 15
                      },
                      "zerolinecolor": "#283442",
                      "zerolinewidth": 2
                    }
                  }
                },
                "title": {
                  "text": "Average Retail Price of Rice and Corn<br><sup>Some regions lack retail price data for either rice or corn</sup>"
                },
                "xaxis": {
                  "anchor": "y",
                  "domain": [
                    0,
                    1
                  ],
                  "title": {
                    "text": "Geolocation"
                  }
                },
                "yaxis": {
                  "anchor": "x",
                  "domain": [
                    0,
                    1
                  ],
                  "title": {
                    "text": "Average Retail Price"
                  }
                }
              }
            }
          },
          "metadata": {},
          "output_type": "display_data"
        },
        {
          "name": "stdout",
          "output_type": "stream",
          "text": [
            "\u001b[34mIndicators tested are:\u001b[0m\n",
            "Stocks\n",
            "Volume\n",
            "Area Harvested\n",
            "SU Gross Supply\n",
            "UT Consumable\n",
            "Farmgate Price\n",
            "Wholesale Price\n",
            "Retail Price\n",
            "\u001b[31mThere is a significant difference in the Stocks of rice and corn when grouped according to geolocation.\u001b[0m\n",
            "\u001b[31mThere is a significant difference in the Volume of rice and corn when grouped according to geolocation.\u001b[0m\n",
            "There is NO significant difference in the Area Harvested of rice and corn when grouped according to geolocation.\n",
            "\u001b[31mThere is a significant difference in the SU Gross Supply of rice and corn when grouped according to geolocation.\u001b[0m\n",
            "\u001b[31mThere is a significant difference in the UT Consumable of rice and corn when grouped according to geolocation.\u001b[0m\n",
            "\u001b[31mThere is a significant difference in the Farmgate Price of rice and corn when grouped according to geolocation.\u001b[0m\n",
            "\u001b[31mThere is a significant difference in the Wholesale Price of rice and corn when grouped according to geolocation.\u001b[0m\n",
            "\u001b[31mThere is a significant difference in the Retail Price of rice and corn when grouped according to geolocation.\u001b[0m\n",
            "\u001b[31mThere is a significant difference in the Stocks of rice and corn when grouped according to geolocation.\u001b[0m\n",
            "\u001b[31mThere is a significant difference in the Volume of rice and corn when grouped according to geolocation.\u001b[0m\n",
            "There is NO significant difference in the Area Harvested of rice and corn when grouped according to geolocation.\n",
            "\u001b[31mThere is a significant difference in the SU Gross Supply of rice and corn when grouped according to geolocation.\u001b[0m\n",
            "\u001b[31mThere is a significant difference in the UT Consumable of rice and corn when grouped according to geolocation.\u001b[0m\n",
            "\u001b[31mThere is a significant difference in the Farmgate Price of rice and corn when grouped according to geolocation.\u001b[0m\n",
            "\u001b[31mThere is a significant difference in the Wholesale Price of rice and corn when grouped according to geolocation.\u001b[0m\n",
            "\u001b[31mThere is a significant difference in the Retail Price of rice and corn when grouped according to geolocation.\u001b[0m\n",
            "\u001b[31mThere is a significant difference in the Stocks of rice and corn when grouped according to geolocation.\u001b[0m\n",
            "\u001b[31mThere is a significant difference in the Volume of rice and corn when grouped according to geolocation.\u001b[0m\n",
            "There is NO significant difference in the Area Harvested of rice and corn when grouped according to geolocation.\n",
            "\u001b[31mThere is a significant difference in the SU Gross Supply of rice and corn when grouped according to geolocation.\u001b[0m\n",
            "\u001b[31mThere is a significant difference in the UT Consumable of rice and corn when grouped according to geolocation.\u001b[0m\n",
            "\u001b[31mThere is a significant difference in the Farmgate Price of rice and corn when grouped according to geolocation.\u001b[0m\n",
            "\u001b[31mThere is a significant difference in the Wholesale Price of rice and corn when grouped according to geolocation.\u001b[0m\n",
            "\u001b[31mThere is a significant difference in the Retail Price of rice and corn when grouped according to geolocation.\u001b[0m\n",
            "\u001b[31mThere is a significant difference in the Stocks of rice and corn when grouped according to geolocation.\u001b[0m\n",
            "\u001b[31mThere is a significant difference in the Volume of rice and corn when grouped according to geolocation.\u001b[0m\n",
            "There is NO significant difference in the Area Harvested of rice and corn when grouped according to geolocation.\n",
            "\u001b[31mThere is a significant difference in the SU Gross Supply of rice and corn when grouped according to geolocation.\u001b[0m\n",
            "\u001b[31mThere is a significant difference in the UT Consumable of rice and corn when grouped according to geolocation.\u001b[0m\n",
            "\u001b[31mThere is a significant difference in the Farmgate Price of rice and corn when grouped according to geolocation.\u001b[0m\n",
            "\u001b[31mThere is a significant difference in the Wholesale Price of rice and corn when grouped according to geolocation.\u001b[0m\n",
            "\u001b[31mThere is a significant difference in the Retail Price of rice and corn when grouped according to geolocation.\u001b[0m\n",
            "\u001b[31mThere is a significant difference in the Stocks of rice and corn when grouped according to geolocation.\u001b[0m\n",
            "\u001b[31mThere is a significant difference in the Volume of rice and corn when grouped according to geolocation.\u001b[0m\n",
            "There is NO significant difference in the Area Harvested of rice and corn when grouped according to geolocation.\n",
            "\u001b[31mThere is a significant difference in the SU Gross Supply of rice and corn when grouped according to geolocation.\u001b[0m\n",
            "\u001b[31mThere is a significant difference in the UT Consumable of rice and corn when grouped according to geolocation.\u001b[0m\n",
            "\u001b[31mThere is a significant difference in the Farmgate Price of rice and corn when grouped according to geolocation.\u001b[0m\n",
            "\u001b[31mThere is a significant difference in the Wholesale Price of rice and corn when grouped according to geolocation.\u001b[0m\n",
            "\u001b[31mThere is a significant difference in the Retail Price of rice and corn when grouped according to geolocation.\u001b[0m\n",
            "\u001b[31mThere is a significant difference in the Stocks of rice and corn when grouped according to geolocation.\u001b[0m\n",
            "\u001b[31mThere is a significant difference in the Volume of rice and corn when grouped according to geolocation.\u001b[0m\n",
            "There is NO significant difference in the Area Harvested of rice and corn when grouped according to geolocation.\n",
            "\u001b[31mThere is a significant difference in the SU Gross Supply of rice and corn when grouped according to geolocation.\u001b[0m\n",
            "\u001b[31mThere is a significant difference in the UT Consumable of rice and corn when grouped according to geolocation.\u001b[0m\n",
            "\u001b[31mThere is a significant difference in the Farmgate Price of rice and corn when grouped according to geolocation.\u001b[0m\n",
            "\u001b[31mThere is a significant difference in the Wholesale Price of rice and corn when grouped according to geolocation.\u001b[0m\n",
            "\u001b[31mThere is a significant difference in the Retail Price of rice and corn when grouped according to geolocation.\u001b[0m\n",
            "\u001b[31mThere is a significant difference in the Stocks of rice and corn when grouped according to geolocation.\u001b[0m\n",
            "\u001b[31mThere is a significant difference in the Volume of rice and corn when grouped according to geolocation.\u001b[0m\n",
            "There is NO significant difference in the Area Harvested of rice and corn when grouped according to geolocation.\n",
            "\u001b[31mThere is a significant difference in the SU Gross Supply of rice and corn when grouped according to geolocation.\u001b[0m\n",
            "\u001b[31mThere is a significant difference in the UT Consumable of rice and corn when grouped according to geolocation.\u001b[0m\n",
            "\u001b[31mThere is a significant difference in the Farmgate Price of rice and corn when grouped according to geolocation.\u001b[0m\n",
            "\u001b[31mThere is a significant difference in the Wholesale Price of rice and corn when grouped according to geolocation.\u001b[0m\n",
            "\u001b[31mThere is a significant difference in the Retail Price of rice and corn when grouped according to geolocation.\u001b[0m\n",
            "\u001b[31mThere is a significant difference in the Stocks of rice and corn when grouped according to geolocation.\u001b[0m\n",
            "\u001b[31mThere is a significant difference in the Volume of rice and corn when grouped according to geolocation.\u001b[0m\n",
            "There is NO significant difference in the Area Harvested of rice and corn when grouped according to geolocation.\n",
            "\u001b[31mThere is a significant difference in the SU Gross Supply of rice and corn when grouped according to geolocation.\u001b[0m\n",
            "\u001b[31mThere is a significant difference in the UT Consumable of rice and corn when grouped according to geolocation.\u001b[0m\n",
            "\u001b[31mThere is a significant difference in the Farmgate Price of rice and corn when grouped according to geolocation.\u001b[0m\n",
            "\u001b[31mThere is a significant difference in the Wholesale Price of rice and corn when grouped according to geolocation.\u001b[0m\n",
            "\u001b[31mThere is a significant difference in the Retail Price of rice and corn when grouped according to geolocation.\u001b[0m\n",
            "\u001b[31mThere is a significant difference in the Stocks of rice and corn when grouped according to geolocation.\u001b[0m\n",
            "\u001b[31mThere is a significant difference in the Volume of rice and corn when grouped according to geolocation.\u001b[0m\n",
            "There is NO significant difference in the Area Harvested of rice and corn when grouped according to geolocation.\n",
            "\u001b[31mThere is a significant difference in the SU Gross Supply of rice and corn when grouped according to geolocation.\u001b[0m\n",
            "\u001b[31mThere is a significant difference in the UT Consumable of rice and corn when grouped according to geolocation.\u001b[0m\n",
            "\u001b[31mThere is a significant difference in the Farmgate Price of rice and corn when grouped according to geolocation.\u001b[0m\n",
            "\u001b[31mThere is a significant difference in the Wholesale Price of rice and corn when grouped according to geolocation.\u001b[0m\n",
            "\u001b[31mThere is a significant difference in the Retail Price of rice and corn when grouped according to geolocation.\u001b[0m\n",
            "\u001b[31mThere is a significant difference in the Stocks of rice and corn when grouped according to geolocation.\u001b[0m\n",
            "\u001b[31mThere is a significant difference in the Volume of rice and corn when grouped according to geolocation.\u001b[0m\n",
            "There is NO significant difference in the Area Harvested of rice and corn when grouped according to geolocation.\n",
            "\u001b[31mThere is a significant difference in the SU Gross Supply of rice and corn when grouped according to geolocation.\u001b[0m\n",
            "\u001b[31mThere is a significant difference in the UT Consumable of rice and corn when grouped according to geolocation.\u001b[0m\n",
            "\u001b[31mThere is a significant difference in the Farmgate Price of rice and corn when grouped according to geolocation.\u001b[0m\n",
            "\u001b[31mThere is a significant difference in the Wholesale Price of rice and corn when grouped according to geolocation.\u001b[0m\n",
            "\u001b[31mThere is a significant difference in the Retail Price of rice and corn when grouped according to geolocation.\u001b[0m\n",
            "\u001b[31mThere is a significant difference in the Stocks of rice and corn when grouped according to geolocation.\u001b[0m\n",
            "\u001b[31mThere is a significant difference in the Volume of rice and corn when grouped according to geolocation.\u001b[0m\n",
            "There is NO significant difference in the Area Harvested of rice and corn when grouped according to geolocation.\n",
            "\u001b[31mThere is a significant difference in the SU Gross Supply of rice and corn when grouped according to geolocation.\u001b[0m\n",
            "\u001b[31mThere is a significant difference in the UT Consumable of rice and corn when grouped according to geolocation.\u001b[0m\n",
            "\u001b[31mThere is a significant difference in the Farmgate Price of rice and corn when grouped according to geolocation.\u001b[0m\n",
            "\u001b[31mThere is a significant difference in the Wholesale Price of rice and corn when grouped according to geolocation.\u001b[0m\n",
            "\u001b[31mThere is a significant difference in the Retail Price of rice and corn when grouped according to geolocation.\u001b[0m\n",
            "\u001b[31mThere is a significant difference in the Stocks of rice and corn when grouped according to geolocation.\u001b[0m\n",
            "\u001b[31mThere is a significant difference in the Volume of rice and corn when grouped according to geolocation.\u001b[0m\n",
            "There is NO significant difference in the Area Harvested of rice and corn when grouped according to geolocation.\n",
            "\u001b[31mThere is a significant difference in the SU Gross Supply of rice and corn when grouped according to geolocation.\u001b[0m\n",
            "\u001b[31mThere is a significant difference in the UT Consumable of rice and corn when grouped according to geolocation.\u001b[0m\n",
            "\u001b[31mThere is a significant difference in the Farmgate Price of rice and corn when grouped according to geolocation.\u001b[0m\n",
            "\u001b[31mThere is a significant difference in the Wholesale Price of rice and corn when grouped according to geolocation.\u001b[0m\n",
            "\u001b[31mThere is a significant difference in the Retail Price of rice and corn when grouped according to geolocation.\u001b[0m\n",
            "\u001b[31mThere is a significant difference in the Stocks of rice and corn when grouped according to geolocation.\u001b[0m\n",
            "\u001b[31mThere is a significant difference in the Volume of rice and corn when grouped according to geolocation.\u001b[0m\n",
            "There is NO significant difference in the Area Harvested of rice and corn when grouped according to geolocation.\n",
            "\u001b[31mThere is a significant difference in the SU Gross Supply of rice and corn when grouped according to geolocation.\u001b[0m\n",
            "\u001b[31mThere is a significant difference in the UT Consumable of rice and corn when grouped according to geolocation.\u001b[0m\n",
            "\u001b[31mThere is a significant difference in the Farmgate Price of rice and corn when grouped according to geolocation.\u001b[0m\n",
            "\u001b[31mThere is a significant difference in the Wholesale Price of rice and corn when grouped according to geolocation.\u001b[0m\n",
            "\u001b[31mThere is a significant difference in the Retail Price of rice and corn when grouped according to geolocation.\u001b[0m\n",
            "\u001b[31mThere is a significant difference in the Stocks of rice and corn when grouped according to geolocation.\u001b[0m\n",
            "\u001b[31mThere is a significant difference in the Volume of rice and corn when grouped according to geolocation.\u001b[0m\n",
            "There is NO significant difference in the Area Harvested of rice and corn when grouped according to geolocation.\n",
            "\u001b[31mThere is a significant difference in the SU Gross Supply of rice and corn when grouped according to geolocation.\u001b[0m\n",
            "\u001b[31mThere is a significant difference in the UT Consumable of rice and corn when grouped according to geolocation.\u001b[0m\n",
            "\u001b[31mThere is a significant difference in the Farmgate Price of rice and corn when grouped according to geolocation.\u001b[0m\n",
            "\u001b[31mThere is a significant difference in the Wholesale Price of rice and corn when grouped according to geolocation.\u001b[0m\n",
            "\u001b[31mThere is a significant difference in the Retail Price of rice and corn when grouped according to geolocation.\u001b[0m\n"
          ]
        }
      ],
      "source": [
        "# @title Hypotheses Testing H0.1 Significant Difference Test using Two-sample t-Test\n",
        "from termcolor import cprint\n",
        "\n",
        "# NOTE: pearson|kendall|spearman\n",
        "grouped = df[[\"Commodity\", \"Geolocation\", \"Retail Price\"]].copy()\n",
        "imputer(grouped, 2)\n",
        "grouped = grouped.groupby([\"Commodity\", \"Geolocation\"])[\"Retail Price\"].mean()\n",
        "grouped = pd.DataFrame(grouped).reset_index()\n",
        "grouped = grouped[grouped.Geolocation != \"philippines\"]\n",
        "grouped[\"Geolocation\"] = grouped[\"Geolocation\"].replace(region_long_to_short)\n",
        "\n",
        "fig = px.histogram(grouped, x=\"Geolocation\", y=\"Retail Price\",\n",
        "             color='Commodity', barmode='group')\n",
        "fig.update_layout(template=\"plotly_dark\", xaxis_title=\"Geolocation\", yaxis_title = \"Average Retail Price\",\n",
        "                  title=\"Average Retail Price of Rice and Corn<br><sup>Some regions lack retail price data for either rice or corn</sup>\")\n",
        "fig.show()\n",
        "\n",
        "fig_to_div(fig, \"plots/annual-regional/ALL_bar_retail-loc_div.html\")\n",
        "fig_to_html(fig, \"plots/annual-regional/ALL_bar_retail-loc.html\")\n",
        "fig_to_png(fig, \"plots/annual-regional/ALL_bar_retail-loc.png\")\n",
        "\n",
        "# Agrimarket Indicators for Annual-Regional Data\n",
        "# Is there a significant difference in commodity retail prices when grouped according to geolocation?\n",
        "tdf = pd.concat([df.iloc[:, 0:6], df.iloc[:, 8:13]], axis=1).dropna()\n",
        "tdf = tdf[tdf.Geolocation != \"philippines\"]\n",
        "indicators = tdf.columns[3:]\n",
        "cprint(\"Indicators tested are:\", \"blue\")\n",
        "print(*indicators, sep=\"\\n\")\n",
        "alpha = 0.05\n",
        "\n",
        "rice = tdf[tdf[\"Commodity\"] == \"Rice\"]\n",
        "corn = tdf[tdf[\"Commodity\"] == \"Corn\"]\n",
        "for loc in tdf[\"Geolocation\"].unique():\n",
        "    tdf_ = tdf[tdf[\"Geolocation\"] == loc]\n",
        "    for var in tdf.columns[3:]:\n",
        "        rice_var = rice[var]\n",
        "        corn_var = corn[var]\n",
        "\n",
        "        # Perform the t-test:\n",
        "        t_stat, p_value = stats.ttest_ind(rice_var, corn_var)\n",
        "\n",
        "        # Interpret the results:\n",
        "        if p_value < alpha:\n",
        "            cprint(f\"There is a significant difference in the {var} of rice and corn when grouped according to geolocation.\", \"red\")\n",
        "        else:\n",
        "            print(f\"There is NO significant difference in the {var} of rice and corn when grouped according to geolocation.\")\n",
        "\n"
      ]
    },
    {
      "cell_type": "code",
      "execution_count": 143,
      "metadata": {},
      "outputs": [
        {
          "data": {
            "application/vnd.plotly.v1+json": {
              "config": {
                "plotlyServerURL": "https://plot.ly"
              },
              "data": [
                {
                  "coloraxis": "coloraxis",
                  "hovertemplate": "x: %{x}<br>y: %{y}<br><b>Correlation: %{z}</b><extra></extra>",
                  "name": "0",
                  "texttemplate": "%{z:.2f}",
                  "type": "heatmap",
                  "x": [
                    "Farmgate Price",
                    "Wholesale Price",
                    "Retail Price",
                    "CPI All Income",
                    "CPI Bottom 30",
                    "Net Returns",
                    "Inflation Rate",
                    "NCR RPI"
                  ],
                  "xaxis": "x",
                  "y": [
                    "Stocks",
                    "Volume",
                    "Area Harvested",
                    "Self-Sufficiency Ratio",
                    "Import-Dependency Ratio",
                    "SU Gross Supply",
                    "UT Consumable"
                  ],
                  "yaxis": "y",
                  "z": [
                    [
                      0.627112596093995,
                      0.7429592388000943,
                      0.8453615949156874,
                      0.12491999374521567,
                      0.29414037041131363,
                      0.1629605284978372,
                      -0.24130503536000583,
                      0.12617601931416472
                    ],
                    [
                      0.12884837448409156,
                      -0.00683606372023708,
                      -0.01814260358900236,
                      0.1025447111451435,
                      0.1168777115635495,
                      0.38276541660303465,
                      0.046878021199661446,
                      0.07562537951190589
                    ],
                    [
                      0.01767466012607671,
                      -0.11702502757042502,
                      -0.10904473188670527,
                      0.060017294380734755,
                      0.05755222366035707,
                      0.27739950153398313,
                      0.03163627006435198,
                      0.03516386667169259
                    ],
                    [
                      -0.1429763891886949,
                      -0.3652255548531778,
                      -0.3714814127610272,
                      -0.36911633065482946,
                      -0.28154734000728315,
                      0.12458259608547444,
                      -0.23101531010355866,
                      -0.7731646310347804
                    ],
                    [
                      0.14479358482329313,
                      0.36650176152225,
                      0.37248592802172303,
                      0.3697813366660321,
                      0.28234157609486615,
                      -0.12301379436005656,
                      0.23225452462650675,
                      0.7722863307196608
                    ],
                    [
                      0.6298399202400652,
                      0.8092758807182948,
                      0.881711809443339,
                      0.20549783430057378,
                      0.31847134624092577,
                      0.08030678646710589,
                      0.15736330124864012,
                      0.4672843929560825
                    ],
                    [
                      0.6324809526567411,
                      0.7972521303792137,
                      0.8746553106663294,
                      0.131567468165094,
                      0.26092178781771497,
                      0.06922995667921766,
                      0.17167447354831955,
                      0.3983487735537582
                    ]
                  ]
                }
              ],
              "layout": {
                "coloraxis": {
                  "colorscale": [
                    [
                      0,
                      "#0d0887"
                    ],
                    [
                      0.1111111111111111,
                      "#46039f"
                    ],
                    [
                      0.2222222222222222,
                      "#7201a8"
                    ],
                    [
                      0.3333333333333333,
                      "#9c179e"
                    ],
                    [
                      0.4444444444444444,
                      "#bd3786"
                    ],
                    [
                      0.5555555555555556,
                      "#d8576b"
                    ],
                    [
                      0.6666666666666666,
                      "#ed7953"
                    ],
                    [
                      0.7777777777777778,
                      "#fb9f3a"
                    ],
                    [
                      0.8888888888888888,
                      "#fdca26"
                    ],
                    [
                      1,
                      "#f0f921"
                    ]
                  ]
                },
                "template": {
                  "data": {
                    "bar": [
                      {
                        "error_x": {
                          "color": "#f2f5fa"
                        },
                        "error_y": {
                          "color": "#f2f5fa"
                        },
                        "marker": {
                          "line": {
                            "color": "rgb(17,17,17)",
                            "width": 0.5
                          },
                          "pattern": {
                            "fillmode": "overlay",
                            "size": 10,
                            "solidity": 0.2
                          }
                        },
                        "type": "bar"
                      }
                    ],
                    "barpolar": [
                      {
                        "marker": {
                          "line": {
                            "color": "rgb(17,17,17)",
                            "width": 0.5
                          },
                          "pattern": {
                            "fillmode": "overlay",
                            "size": 10,
                            "solidity": 0.2
                          }
                        },
                        "type": "barpolar"
                      }
                    ],
                    "carpet": [
                      {
                        "aaxis": {
                          "endlinecolor": "#A2B1C6",
                          "gridcolor": "#506784",
                          "linecolor": "#506784",
                          "minorgridcolor": "#506784",
                          "startlinecolor": "#A2B1C6"
                        },
                        "baxis": {
                          "endlinecolor": "#A2B1C6",
                          "gridcolor": "#506784",
                          "linecolor": "#506784",
                          "minorgridcolor": "#506784",
                          "startlinecolor": "#A2B1C6"
                        },
                        "type": "carpet"
                      }
                    ],
                    "choropleth": [
                      {
                        "colorbar": {
                          "outlinewidth": 0,
                          "ticks": ""
                        },
                        "type": "choropleth"
                      }
                    ],
                    "contour": [
                      {
                        "colorbar": {
                          "outlinewidth": 0,
                          "ticks": ""
                        },
                        "colorscale": [
                          [
                            0,
                            "#0d0887"
                          ],
                          [
                            0.1111111111111111,
                            "#46039f"
                          ],
                          [
                            0.2222222222222222,
                            "#7201a8"
                          ],
                          [
                            0.3333333333333333,
                            "#9c179e"
                          ],
                          [
                            0.4444444444444444,
                            "#bd3786"
                          ],
                          [
                            0.5555555555555556,
                            "#d8576b"
                          ],
                          [
                            0.6666666666666666,
                            "#ed7953"
                          ],
                          [
                            0.7777777777777778,
                            "#fb9f3a"
                          ],
                          [
                            0.8888888888888888,
                            "#fdca26"
                          ],
                          [
                            1,
                            "#f0f921"
                          ]
                        ],
                        "type": "contour"
                      }
                    ],
                    "contourcarpet": [
                      {
                        "colorbar": {
                          "outlinewidth": 0,
                          "ticks": ""
                        },
                        "type": "contourcarpet"
                      }
                    ],
                    "heatmap": [
                      {
                        "colorbar": {
                          "outlinewidth": 0,
                          "ticks": ""
                        },
                        "colorscale": [
                          [
                            0,
                            "#0d0887"
                          ],
                          [
                            0.1111111111111111,
                            "#46039f"
                          ],
                          [
                            0.2222222222222222,
                            "#7201a8"
                          ],
                          [
                            0.3333333333333333,
                            "#9c179e"
                          ],
                          [
                            0.4444444444444444,
                            "#bd3786"
                          ],
                          [
                            0.5555555555555556,
                            "#d8576b"
                          ],
                          [
                            0.6666666666666666,
                            "#ed7953"
                          ],
                          [
                            0.7777777777777778,
                            "#fb9f3a"
                          ],
                          [
                            0.8888888888888888,
                            "#fdca26"
                          ],
                          [
                            1,
                            "#f0f921"
                          ]
                        ],
                        "type": "heatmap"
                      }
                    ],
                    "heatmapgl": [
                      {
                        "colorbar": {
                          "outlinewidth": 0,
                          "ticks": ""
                        },
                        "colorscale": [
                          [
                            0,
                            "#0d0887"
                          ],
                          [
                            0.1111111111111111,
                            "#46039f"
                          ],
                          [
                            0.2222222222222222,
                            "#7201a8"
                          ],
                          [
                            0.3333333333333333,
                            "#9c179e"
                          ],
                          [
                            0.4444444444444444,
                            "#bd3786"
                          ],
                          [
                            0.5555555555555556,
                            "#d8576b"
                          ],
                          [
                            0.6666666666666666,
                            "#ed7953"
                          ],
                          [
                            0.7777777777777778,
                            "#fb9f3a"
                          ],
                          [
                            0.8888888888888888,
                            "#fdca26"
                          ],
                          [
                            1,
                            "#f0f921"
                          ]
                        ],
                        "type": "heatmapgl"
                      }
                    ],
                    "histogram": [
                      {
                        "marker": {
                          "pattern": {
                            "fillmode": "overlay",
                            "size": 10,
                            "solidity": 0.2
                          }
                        },
                        "type": "histogram"
                      }
                    ],
                    "histogram2d": [
                      {
                        "colorbar": {
                          "outlinewidth": 0,
                          "ticks": ""
                        },
                        "colorscale": [
                          [
                            0,
                            "#0d0887"
                          ],
                          [
                            0.1111111111111111,
                            "#46039f"
                          ],
                          [
                            0.2222222222222222,
                            "#7201a8"
                          ],
                          [
                            0.3333333333333333,
                            "#9c179e"
                          ],
                          [
                            0.4444444444444444,
                            "#bd3786"
                          ],
                          [
                            0.5555555555555556,
                            "#d8576b"
                          ],
                          [
                            0.6666666666666666,
                            "#ed7953"
                          ],
                          [
                            0.7777777777777778,
                            "#fb9f3a"
                          ],
                          [
                            0.8888888888888888,
                            "#fdca26"
                          ],
                          [
                            1,
                            "#f0f921"
                          ]
                        ],
                        "type": "histogram2d"
                      }
                    ],
                    "histogram2dcontour": [
                      {
                        "colorbar": {
                          "outlinewidth": 0,
                          "ticks": ""
                        },
                        "colorscale": [
                          [
                            0,
                            "#0d0887"
                          ],
                          [
                            0.1111111111111111,
                            "#46039f"
                          ],
                          [
                            0.2222222222222222,
                            "#7201a8"
                          ],
                          [
                            0.3333333333333333,
                            "#9c179e"
                          ],
                          [
                            0.4444444444444444,
                            "#bd3786"
                          ],
                          [
                            0.5555555555555556,
                            "#d8576b"
                          ],
                          [
                            0.6666666666666666,
                            "#ed7953"
                          ],
                          [
                            0.7777777777777778,
                            "#fb9f3a"
                          ],
                          [
                            0.8888888888888888,
                            "#fdca26"
                          ],
                          [
                            1,
                            "#f0f921"
                          ]
                        ],
                        "type": "histogram2dcontour"
                      }
                    ],
                    "mesh3d": [
                      {
                        "colorbar": {
                          "outlinewidth": 0,
                          "ticks": ""
                        },
                        "type": "mesh3d"
                      }
                    ],
                    "parcoords": [
                      {
                        "line": {
                          "colorbar": {
                            "outlinewidth": 0,
                            "ticks": ""
                          }
                        },
                        "type": "parcoords"
                      }
                    ],
                    "pie": [
                      {
                        "automargin": true,
                        "type": "pie"
                      }
                    ],
                    "scatter": [
                      {
                        "marker": {
                          "line": {
                            "color": "#283442"
                          }
                        },
                        "type": "scatter"
                      }
                    ],
                    "scatter3d": [
                      {
                        "line": {
                          "colorbar": {
                            "outlinewidth": 0,
                            "ticks": ""
                          }
                        },
                        "marker": {
                          "colorbar": {
                            "outlinewidth": 0,
                            "ticks": ""
                          }
                        },
                        "type": "scatter3d"
                      }
                    ],
                    "scattercarpet": [
                      {
                        "marker": {
                          "colorbar": {
                            "outlinewidth": 0,
                            "ticks": ""
                          }
                        },
                        "type": "scattercarpet"
                      }
                    ],
                    "scattergeo": [
                      {
                        "marker": {
                          "colorbar": {
                            "outlinewidth": 0,
                            "ticks": ""
                          }
                        },
                        "type": "scattergeo"
                      }
                    ],
                    "scattergl": [
                      {
                        "marker": {
                          "line": {
                            "color": "#283442"
                          }
                        },
                        "type": "scattergl"
                      }
                    ],
                    "scattermapbox": [
                      {
                        "marker": {
                          "colorbar": {
                            "outlinewidth": 0,
                            "ticks": ""
                          }
                        },
                        "type": "scattermapbox"
                      }
                    ],
                    "scatterpolar": [
                      {
                        "marker": {
                          "colorbar": {
                            "outlinewidth": 0,
                            "ticks": ""
                          }
                        },
                        "type": "scatterpolar"
                      }
                    ],
                    "scatterpolargl": [
                      {
                        "marker": {
                          "colorbar": {
                            "outlinewidth": 0,
                            "ticks": ""
                          }
                        },
                        "type": "scatterpolargl"
                      }
                    ],
                    "scatterternary": [
                      {
                        "marker": {
                          "colorbar": {
                            "outlinewidth": 0,
                            "ticks": ""
                          }
                        },
                        "type": "scatterternary"
                      }
                    ],
                    "surface": [
                      {
                        "colorbar": {
                          "outlinewidth": 0,
                          "ticks": ""
                        },
                        "colorscale": [
                          [
                            0,
                            "#0d0887"
                          ],
                          [
                            0.1111111111111111,
                            "#46039f"
                          ],
                          [
                            0.2222222222222222,
                            "#7201a8"
                          ],
                          [
                            0.3333333333333333,
                            "#9c179e"
                          ],
                          [
                            0.4444444444444444,
                            "#bd3786"
                          ],
                          [
                            0.5555555555555556,
                            "#d8576b"
                          ],
                          [
                            0.6666666666666666,
                            "#ed7953"
                          ],
                          [
                            0.7777777777777778,
                            "#fb9f3a"
                          ],
                          [
                            0.8888888888888888,
                            "#fdca26"
                          ],
                          [
                            1,
                            "#f0f921"
                          ]
                        ],
                        "type": "surface"
                      }
                    ],
                    "table": [
                      {
                        "cells": {
                          "fill": {
                            "color": "#506784"
                          },
                          "line": {
                            "color": "rgb(17,17,17)"
                          }
                        },
                        "header": {
                          "fill": {
                            "color": "#2a3f5f"
                          },
                          "line": {
                            "color": "rgb(17,17,17)"
                          }
                        },
                        "type": "table"
                      }
                    ]
                  },
                  "layout": {
                    "annotationdefaults": {
                      "arrowcolor": "#f2f5fa",
                      "arrowhead": 0,
                      "arrowwidth": 1
                    },
                    "autotypenumbers": "strict",
                    "coloraxis": {
                      "colorbar": {
                        "outlinewidth": 0,
                        "ticks": ""
                      }
                    },
                    "colorscale": {
                      "diverging": [
                        [
                          0,
                          "#8e0152"
                        ],
                        [
                          0.1,
                          "#c51b7d"
                        ],
                        [
                          0.2,
                          "#de77ae"
                        ],
                        [
                          0.3,
                          "#f1b6da"
                        ],
                        [
                          0.4,
                          "#fde0ef"
                        ],
                        [
                          0.5,
                          "#f7f7f7"
                        ],
                        [
                          0.6,
                          "#e6f5d0"
                        ],
                        [
                          0.7,
                          "#b8e186"
                        ],
                        [
                          0.8,
                          "#7fbc41"
                        ],
                        [
                          0.9,
                          "#4d9221"
                        ],
                        [
                          1,
                          "#276419"
                        ]
                      ],
                      "sequential": [
                        [
                          0,
                          "#0d0887"
                        ],
                        [
                          0.1111111111111111,
                          "#46039f"
                        ],
                        [
                          0.2222222222222222,
                          "#7201a8"
                        ],
                        [
                          0.3333333333333333,
                          "#9c179e"
                        ],
                        [
                          0.4444444444444444,
                          "#bd3786"
                        ],
                        [
                          0.5555555555555556,
                          "#d8576b"
                        ],
                        [
                          0.6666666666666666,
                          "#ed7953"
                        ],
                        [
                          0.7777777777777778,
                          "#fb9f3a"
                        ],
                        [
                          0.8888888888888888,
                          "#fdca26"
                        ],
                        [
                          1,
                          "#f0f921"
                        ]
                      ],
                      "sequentialminus": [
                        [
                          0,
                          "#0d0887"
                        ],
                        [
                          0.1111111111111111,
                          "#46039f"
                        ],
                        [
                          0.2222222222222222,
                          "#7201a8"
                        ],
                        [
                          0.3333333333333333,
                          "#9c179e"
                        ],
                        [
                          0.4444444444444444,
                          "#bd3786"
                        ],
                        [
                          0.5555555555555556,
                          "#d8576b"
                        ],
                        [
                          0.6666666666666666,
                          "#ed7953"
                        ],
                        [
                          0.7777777777777778,
                          "#fb9f3a"
                        ],
                        [
                          0.8888888888888888,
                          "#fdca26"
                        ],
                        [
                          1,
                          "#f0f921"
                        ]
                      ]
                    },
                    "colorway": [
                      "#636efa",
                      "#EF553B",
                      "#00cc96",
                      "#ab63fa",
                      "#FFA15A",
                      "#19d3f3",
                      "#FF6692",
                      "#B6E880",
                      "#FF97FF",
                      "#FECB52"
                    ],
                    "font": {
                      "color": "#f2f5fa"
                    },
                    "geo": {
                      "bgcolor": "rgb(17,17,17)",
                      "lakecolor": "rgb(17,17,17)",
                      "landcolor": "rgb(17,17,17)",
                      "showlakes": true,
                      "showland": true,
                      "subunitcolor": "#506784"
                    },
                    "hoverlabel": {
                      "align": "left"
                    },
                    "hovermode": "closest",
                    "mapbox": {
                      "style": "dark"
                    },
                    "paper_bgcolor": "rgb(17,17,17)",
                    "plot_bgcolor": "rgb(17,17,17)",
                    "polar": {
                      "angularaxis": {
                        "gridcolor": "#506784",
                        "linecolor": "#506784",
                        "ticks": ""
                      },
                      "bgcolor": "rgb(17,17,17)",
                      "radialaxis": {
                        "gridcolor": "#506784",
                        "linecolor": "#506784",
                        "ticks": ""
                      }
                    },
                    "scene": {
                      "xaxis": {
                        "backgroundcolor": "rgb(17,17,17)",
                        "gridcolor": "#506784",
                        "gridwidth": 2,
                        "linecolor": "#506784",
                        "showbackground": true,
                        "ticks": "",
                        "zerolinecolor": "#C8D4E3"
                      },
                      "yaxis": {
                        "backgroundcolor": "rgb(17,17,17)",
                        "gridcolor": "#506784",
                        "gridwidth": 2,
                        "linecolor": "#506784",
                        "showbackground": true,
                        "ticks": "",
                        "zerolinecolor": "#C8D4E3"
                      },
                      "zaxis": {
                        "backgroundcolor": "rgb(17,17,17)",
                        "gridcolor": "#506784",
                        "gridwidth": 2,
                        "linecolor": "#506784",
                        "showbackground": true,
                        "ticks": "",
                        "zerolinecolor": "#C8D4E3"
                      }
                    },
                    "shapedefaults": {
                      "line": {
                        "color": "#f2f5fa"
                      }
                    },
                    "sliderdefaults": {
                      "bgcolor": "#C8D4E3",
                      "bordercolor": "rgb(17,17,17)",
                      "borderwidth": 1,
                      "tickwidth": 0
                    },
                    "ternary": {
                      "aaxis": {
                        "gridcolor": "#506784",
                        "linecolor": "#506784",
                        "ticks": ""
                      },
                      "baxis": {
                        "gridcolor": "#506784",
                        "linecolor": "#506784",
                        "ticks": ""
                      },
                      "bgcolor": "rgb(17,17,17)",
                      "caxis": {
                        "gridcolor": "#506784",
                        "linecolor": "#506784",
                        "ticks": ""
                      }
                    },
                    "title": {
                      "x": 0.05
                    },
                    "updatemenudefaults": {
                      "bgcolor": "#506784",
                      "borderwidth": 0
                    },
                    "xaxis": {
                      "automargin": true,
                      "gridcolor": "#283442",
                      "linecolor": "#506784",
                      "ticks": "",
                      "title": {
                        "standoff": 15
                      },
                      "zerolinecolor": "#283442",
                      "zerolinewidth": 2
                    },
                    "yaxis": {
                      "automargin": true,
                      "gridcolor": "#283442",
                      "linecolor": "#506784",
                      "ticks": "",
                      "title": {
                        "standoff": 15
                      },
                      "zerolinecolor": "#283442",
                      "zerolinewidth": 2
                    }
                  }
                },
                "title": {
                  "text": "Rice and Corn: Correlation Matrix on 155 Annual-Regional Samples"
                },
                "xaxis": {
                  "anchor": "y",
                  "constrain": "domain",
                  "domain": [
                    0,
                    1
                  ],
                  "scaleanchor": "y",
                  "title": {
                    "text": "Socioeconomic Indicator"
                  }
                },
                "yaxis": {
                  "anchor": "x",
                  "autorange": "reversed",
                  "constrain": "domain",
                  "domain": [
                    0,
                    1
                  ],
                  "title": {
                    "text": "Agricultural Indicator"
                  }
                }
              }
            }
          },
          "metadata": {},
          "output_type": "display_data"
        },
        {
          "name": "stdout",
          "output_type": "stream",
          "text": [
            "\u001b[31mStocks <-> Farmgate Price = 0.0: Significant relationship exists.\u001b[0m\n",
            "\u001b[31mStocks <-> Wholesale Price = 0.0: Significant relationship exists.\u001b[0m\n",
            "\u001b[31mStocks <-> Retail Price = 0.0: Significant relationship exists.\u001b[0m\n",
            "Stocks </> CPI All Income = 0.121: No significant relationship exists.\n",
            "\u001b[31mStocks <-> CPI Bottom 30 = 0.0: Significant relationship exists.\u001b[0m\n",
            "\u001b[31mStocks <-> Net Returns = 0.043: Significant relationship exists.\u001b[0m\n",
            "\u001b[31mStocks <-> Inflation Rate = 0.002: Significant relationship exists.\u001b[0m\n",
            "Stocks </> NCR RPI = 0.118: No significant relationship exists.\n",
            "Volume </> Farmgate Price = 0.11: No significant relationship exists.\n",
            "Volume </> Wholesale Price = 0.933: No significant relationship exists.\n",
            "Volume </> Retail Price = 0.823: No significant relationship exists.\n",
            "Volume </> CPI All Income = 0.204: No significant relationship exists.\n",
            "Volume </> CPI Bottom 30 = 0.148: No significant relationship exists.\n",
            "\u001b[31mVolume <-> Net Returns = 0.0: Significant relationship exists.\u001b[0m\n",
            "Volume </> Inflation Rate = 0.562: No significant relationship exists.\n",
            "Volume </> NCR RPI = 0.35: No significant relationship exists.\n",
            "Area Harvested </> Farmgate Price = 0.827: No significant relationship exists.\n",
            "Area Harvested </> Wholesale Price = 0.147: No significant relationship exists.\n",
            "Area Harvested </> Retail Price = 0.177: No significant relationship exists.\n",
            "Area Harvested </> CPI All Income = 0.458: No significant relationship exists.\n",
            "Area Harvested </> CPI Bottom 30 = 0.477: No significant relationship exists.\n",
            "\u001b[31mArea Harvested <-> Net Returns = 0.0: Significant relationship exists.\u001b[0m\n",
            "Area Harvested </> Inflation Rate = 0.696: No significant relationship exists.\n",
            "Area Harvested </> NCR RPI = 0.664: No significant relationship exists.\n",
            "Self-Sufficiency Ratio </> Farmgate Price = 0.076: No significant relationship exists.\n",
            "\u001b[31mSelf-Sufficiency Ratio <-> Wholesale Price = 0.0: Significant relationship exists.\u001b[0m\n",
            "\u001b[31mSelf-Sufficiency Ratio <-> Retail Price = 0.0: Significant relationship exists.\u001b[0m\n",
            "\u001b[31mSelf-Sufficiency Ratio <-> CPI All Income = 0.0: Significant relationship exists.\u001b[0m\n",
            "\u001b[31mSelf-Sufficiency Ratio <-> CPI Bottom 30 = 0.0: Significant relationship exists.\u001b[0m\n",
            "Self-Sufficiency Ratio </> Net Returns = 0.122: No significant relationship exists.\n",
            "\u001b[31mSelf-Sufficiency Ratio <-> Inflation Rate = 0.004: Significant relationship exists.\u001b[0m\n",
            "\u001b[31mSelf-Sufficiency Ratio <-> NCR RPI = 0.0: Significant relationship exists.\u001b[0m\n",
            "Import-Dependency Ratio </> Farmgate Price = 0.072: No significant relationship exists.\n",
            "\u001b[31mImport-Dependency Ratio <-> Wholesale Price = 0.0: Significant relationship exists.\u001b[0m\n",
            "\u001b[31mImport-Dependency Ratio <-> Retail Price = 0.0: Significant relationship exists.\u001b[0m\n",
            "\u001b[31mImport-Dependency Ratio <-> CPI All Income = 0.0: Significant relationship exists.\u001b[0m\n",
            "\u001b[31mImport-Dependency Ratio <-> CPI Bottom 30 = 0.0: Significant relationship exists.\u001b[0m\n",
            "Import-Dependency Ratio </> Net Returns = 0.127: No significant relationship exists.\n",
            "\u001b[31mImport-Dependency Ratio <-> Inflation Rate = 0.004: Significant relationship exists.\u001b[0m\n",
            "\u001b[31mImport-Dependency Ratio <-> NCR RPI = 0.0: Significant relationship exists.\u001b[0m\n",
            "\u001b[31mSU Gross Supply <-> Farmgate Price = 0.0: Significant relationship exists.\u001b[0m\n",
            "\u001b[31mSU Gross Supply <-> Wholesale Price = 0.0: Significant relationship exists.\u001b[0m\n",
            "\u001b[31mSU Gross Supply <-> Retail Price = 0.0: Significant relationship exists.\u001b[0m\n",
            "\u001b[31mSU Gross Supply <-> CPI All Income = 0.01: Significant relationship exists.\u001b[0m\n",
            "\u001b[31mSU Gross Supply <-> CPI Bottom 30 = 0.0: Significant relationship exists.\u001b[0m\n",
            "SU Gross Supply </> Net Returns = 0.321: No significant relationship exists.\n",
            "SU Gross Supply </> Inflation Rate = 0.051: No significant relationship exists.\n",
            "\u001b[31mSU Gross Supply <-> NCR RPI = 0.0: Significant relationship exists.\u001b[0m\n",
            "\u001b[31mUT Consumable <-> Farmgate Price = 0.0: Significant relationship exists.\u001b[0m\n",
            "\u001b[31mUT Consumable <-> Wholesale Price = 0.0: Significant relationship exists.\u001b[0m\n",
            "\u001b[31mUT Consumable <-> Retail Price = 0.0: Significant relationship exists.\u001b[0m\n",
            "UT Consumable </> CPI All Income = 0.103: No significant relationship exists.\n",
            "\u001b[31mUT Consumable <-> CPI Bottom 30 = 0.001: Significant relationship exists.\u001b[0m\n",
            "UT Consumable </> Net Returns = 0.392: No significant relationship exists.\n",
            "\u001b[31mUT Consumable <-> Inflation Rate = 0.033: Significant relationship exists.\u001b[0m\n",
            "\u001b[31mUT Consumable <-> NCR RPI = 0.0: Significant relationship exists.\u001b[0m\n"
          ]
        }
      ],
      "source": [
        "# @title Hypotheses Testing H0.2 Significant Relationship Test using Pearson's r\n",
        "from termcolor import cprint\n",
        "\n",
        "samples = df_ph.shape[0]\n",
        "# NOTE: pearson|kendall|spearman\n",
        "contingency = df_ph.iloc[:, 3:].corr(method=\"pearson\")\n",
        "idx = list(contingency.columns).index(\"Farmgate Price\")\n",
        "cont_1 = contingency.iloc[:idx, idx:]\n",
        "fig = px.imshow(cont_1, text_auto=True, title=f\"Rice and Corn: Correlation Matrix on {samples} Annual-Regional Samples\",\n",
        "                labels=dict(x=\"Socioeconomic Indicator\", y=\"Agricultural Indicator\"))\n",
        "fig.update_traces(\n",
        "    texttemplate='%{z:.2f}',\n",
        "    hovertemplate=(\"x: %{x}<br>y: %{y}<br><b>Correlation: %{z}</b><extra></extra>\")\n",
        ")\n",
        "fig.update_layout(template=\"plotly_dark\")\n",
        "fig.show()\n",
        "\n",
        "fig_to_div(fig, \"plots/annual-regional/ALL_heatmap_div.html\")\n",
        "fig_to_html(fig, \"plots/annual-regional/ALL_heatmap.html\")\n",
        "fig_to_png(fig, \"plots/annual-regional/ALL_heatmap.png\")\n",
        "\n",
        "# Agri and Market Indicators for Annual-Regional Data\n",
        "df_ph = df_ph.dropna()\n",
        "agri_cols = df.columns[3:10]\n",
        "market_cols = df.columns[10:]\n",
        "alpha = 0.05\n",
        "for x in agri_cols:\n",
        "    for y in market_cols:\n",
        "        agri, market = df_ph[x], df_ph[y]\n",
        "        r_stat, p_value = stats.pearsonr(agri, market)  # Pearson's r\n",
        "        if p_value < alpha:\n",
        "            cprint(f\"{x} <-> {y} = {round(p_value, 3)}: Significant relationship exists.\", \"red\")\n",
        "        else:\n",
        "            print(f\"{x} </> {y} = {round(p_value, 3)}: No significant relationship exists.\")\n"
      ]
    },
    {
      "cell_type": "markdown",
      "metadata": {},
      "source": [
        "## Quarterly-Regional Analysis [WIP]"
      ]
    },
    {
      "cell_type": "code",
      "execution_count": 144,
      "metadata": {},
      "outputs": [
        {
          "name": "stdout",
          "output_type": "stream",
          "text": [
            "<class 'pandas.core.frame.DataFrame'>\n",
            "Index: 672 entries, 1 to 719\n",
            "Data columns (total 12 columns):\n",
            " #   Column               Non-Null Count  Dtype  \n",
            "---  ------               --------------  -----  \n",
            " 0   Geolocation          672 non-null    object \n",
            " 1   Commodity            672 non-null    object \n",
            " 2   Period               672 non-null    object \n",
            " 3   Stocks               672 non-null    float64\n",
            " 4   Volume               672 non-null    float64\n",
            " 5   Area Harvested       672 non-null    float64\n",
            " 6   Farmgate Price       672 non-null    float64\n",
            " 7   Wholesale Price      670 non-null    float64\n",
            " 8   Retail Price         672 non-null    float64\n",
            " 9   CPI All Income       672 non-null    float64\n",
            " 10  CPI Bottom 30        672 non-null    float64\n",
            " 11  Value of Production  627 non-null    float64\n",
            "dtypes: float64(9), object(3)\n",
            "memory usage: 68.2+ KB\n"
          ]
        },
        {
          "data": {
            "application/vnd.plotly.v1+json": {
              "config": {
                "plotlyServerURL": "https://plot.ly"
              },
              "data": [
                {
                  "coloraxis": "coloraxis",
                  "hovertemplate": "x: %{x}<br>y: %{y}<br>color: %{z}<extra></extra>",
                  "name": "0",
                  "texttemplate": "%{z}",
                  "type": "heatmap",
                  "x": [
                    "Stocks",
                    "Volume",
                    "Area Harvested"
                  ],
                  "xaxis": "x",
                  "y": [
                    "Farmgate Price",
                    "Wholesale Price",
                    "Retail Price",
                    "CPI All Income",
                    "CPI Bottom 30",
                    "Value of Production"
                  ],
                  "yaxis": "y",
                  "z": [
                    [
                      -0.25139059102713024,
                      -0.016041903216613418,
                      -0.07230281212457593
                    ],
                    [
                      -0.23611879192576654,
                      -0.10130926743856784,
                      -0.13454105368363875
                    ],
                    [
                      -0.1250640592769375,
                      -0.18024935204499987,
                      -0.1780067996050928
                    ],
                    [
                      -0.11954143191467799,
                      0.09945107040616012,
                      0.06969522611509521
                    ],
                    [
                      -0.09300992676246145,
                      0.0805040739506888,
                      0.05005043153704412
                    ],
                    [
                      -0.037264439560648226,
                      0.025204437024696356,
                      0.007959229961185975
                    ]
                  ]
                }
              ],
              "layout": {
                "coloraxis": {
                  "colorscale": [
                    [
                      0,
                      "#0d0887"
                    ],
                    [
                      0.1111111111111111,
                      "#46039f"
                    ],
                    [
                      0.2222222222222222,
                      "#7201a8"
                    ],
                    [
                      0.3333333333333333,
                      "#9c179e"
                    ],
                    [
                      0.4444444444444444,
                      "#bd3786"
                    ],
                    [
                      0.5555555555555556,
                      "#d8576b"
                    ],
                    [
                      0.6666666666666666,
                      "#ed7953"
                    ],
                    [
                      0.7777777777777778,
                      "#fb9f3a"
                    ],
                    [
                      0.8888888888888888,
                      "#fdca26"
                    ],
                    [
                      1,
                      "#f0f921"
                    ]
                  ]
                },
                "margin": {
                  "t": 60
                },
                "template": {
                  "data": {
                    "bar": [
                      {
                        "error_x": {
                          "color": "#2a3f5f"
                        },
                        "error_y": {
                          "color": "#2a3f5f"
                        },
                        "marker": {
                          "line": {
                            "color": "#E5ECF6",
                            "width": 0.5
                          },
                          "pattern": {
                            "fillmode": "overlay",
                            "size": 10,
                            "solidity": 0.2
                          }
                        },
                        "type": "bar"
                      }
                    ],
                    "barpolar": [
                      {
                        "marker": {
                          "line": {
                            "color": "#E5ECF6",
                            "width": 0.5
                          },
                          "pattern": {
                            "fillmode": "overlay",
                            "size": 10,
                            "solidity": 0.2
                          }
                        },
                        "type": "barpolar"
                      }
                    ],
                    "carpet": [
                      {
                        "aaxis": {
                          "endlinecolor": "#2a3f5f",
                          "gridcolor": "white",
                          "linecolor": "white",
                          "minorgridcolor": "white",
                          "startlinecolor": "#2a3f5f"
                        },
                        "baxis": {
                          "endlinecolor": "#2a3f5f",
                          "gridcolor": "white",
                          "linecolor": "white",
                          "minorgridcolor": "white",
                          "startlinecolor": "#2a3f5f"
                        },
                        "type": "carpet"
                      }
                    ],
                    "choropleth": [
                      {
                        "colorbar": {
                          "outlinewidth": 0,
                          "ticks": ""
                        },
                        "type": "choropleth"
                      }
                    ],
                    "contour": [
                      {
                        "colorbar": {
                          "outlinewidth": 0,
                          "ticks": ""
                        },
                        "colorscale": [
                          [
                            0,
                            "#0d0887"
                          ],
                          [
                            0.1111111111111111,
                            "#46039f"
                          ],
                          [
                            0.2222222222222222,
                            "#7201a8"
                          ],
                          [
                            0.3333333333333333,
                            "#9c179e"
                          ],
                          [
                            0.4444444444444444,
                            "#bd3786"
                          ],
                          [
                            0.5555555555555556,
                            "#d8576b"
                          ],
                          [
                            0.6666666666666666,
                            "#ed7953"
                          ],
                          [
                            0.7777777777777778,
                            "#fb9f3a"
                          ],
                          [
                            0.8888888888888888,
                            "#fdca26"
                          ],
                          [
                            1,
                            "#f0f921"
                          ]
                        ],
                        "type": "contour"
                      }
                    ],
                    "contourcarpet": [
                      {
                        "colorbar": {
                          "outlinewidth": 0,
                          "ticks": ""
                        },
                        "type": "contourcarpet"
                      }
                    ],
                    "heatmap": [
                      {
                        "colorbar": {
                          "outlinewidth": 0,
                          "ticks": ""
                        },
                        "colorscale": [
                          [
                            0,
                            "#0d0887"
                          ],
                          [
                            0.1111111111111111,
                            "#46039f"
                          ],
                          [
                            0.2222222222222222,
                            "#7201a8"
                          ],
                          [
                            0.3333333333333333,
                            "#9c179e"
                          ],
                          [
                            0.4444444444444444,
                            "#bd3786"
                          ],
                          [
                            0.5555555555555556,
                            "#d8576b"
                          ],
                          [
                            0.6666666666666666,
                            "#ed7953"
                          ],
                          [
                            0.7777777777777778,
                            "#fb9f3a"
                          ],
                          [
                            0.8888888888888888,
                            "#fdca26"
                          ],
                          [
                            1,
                            "#f0f921"
                          ]
                        ],
                        "type": "heatmap"
                      }
                    ],
                    "heatmapgl": [
                      {
                        "colorbar": {
                          "outlinewidth": 0,
                          "ticks": ""
                        },
                        "colorscale": [
                          [
                            0,
                            "#0d0887"
                          ],
                          [
                            0.1111111111111111,
                            "#46039f"
                          ],
                          [
                            0.2222222222222222,
                            "#7201a8"
                          ],
                          [
                            0.3333333333333333,
                            "#9c179e"
                          ],
                          [
                            0.4444444444444444,
                            "#bd3786"
                          ],
                          [
                            0.5555555555555556,
                            "#d8576b"
                          ],
                          [
                            0.6666666666666666,
                            "#ed7953"
                          ],
                          [
                            0.7777777777777778,
                            "#fb9f3a"
                          ],
                          [
                            0.8888888888888888,
                            "#fdca26"
                          ],
                          [
                            1,
                            "#f0f921"
                          ]
                        ],
                        "type": "heatmapgl"
                      }
                    ],
                    "histogram": [
                      {
                        "marker": {
                          "pattern": {
                            "fillmode": "overlay",
                            "size": 10,
                            "solidity": 0.2
                          }
                        },
                        "type": "histogram"
                      }
                    ],
                    "histogram2d": [
                      {
                        "colorbar": {
                          "outlinewidth": 0,
                          "ticks": ""
                        },
                        "colorscale": [
                          [
                            0,
                            "#0d0887"
                          ],
                          [
                            0.1111111111111111,
                            "#46039f"
                          ],
                          [
                            0.2222222222222222,
                            "#7201a8"
                          ],
                          [
                            0.3333333333333333,
                            "#9c179e"
                          ],
                          [
                            0.4444444444444444,
                            "#bd3786"
                          ],
                          [
                            0.5555555555555556,
                            "#d8576b"
                          ],
                          [
                            0.6666666666666666,
                            "#ed7953"
                          ],
                          [
                            0.7777777777777778,
                            "#fb9f3a"
                          ],
                          [
                            0.8888888888888888,
                            "#fdca26"
                          ],
                          [
                            1,
                            "#f0f921"
                          ]
                        ],
                        "type": "histogram2d"
                      }
                    ],
                    "histogram2dcontour": [
                      {
                        "colorbar": {
                          "outlinewidth": 0,
                          "ticks": ""
                        },
                        "colorscale": [
                          [
                            0,
                            "#0d0887"
                          ],
                          [
                            0.1111111111111111,
                            "#46039f"
                          ],
                          [
                            0.2222222222222222,
                            "#7201a8"
                          ],
                          [
                            0.3333333333333333,
                            "#9c179e"
                          ],
                          [
                            0.4444444444444444,
                            "#bd3786"
                          ],
                          [
                            0.5555555555555556,
                            "#d8576b"
                          ],
                          [
                            0.6666666666666666,
                            "#ed7953"
                          ],
                          [
                            0.7777777777777778,
                            "#fb9f3a"
                          ],
                          [
                            0.8888888888888888,
                            "#fdca26"
                          ],
                          [
                            1,
                            "#f0f921"
                          ]
                        ],
                        "type": "histogram2dcontour"
                      }
                    ],
                    "mesh3d": [
                      {
                        "colorbar": {
                          "outlinewidth": 0,
                          "ticks": ""
                        },
                        "type": "mesh3d"
                      }
                    ],
                    "parcoords": [
                      {
                        "line": {
                          "colorbar": {
                            "outlinewidth": 0,
                            "ticks": ""
                          }
                        },
                        "type": "parcoords"
                      }
                    ],
                    "pie": [
                      {
                        "automargin": true,
                        "type": "pie"
                      }
                    ],
                    "scatter": [
                      {
                        "fillpattern": {
                          "fillmode": "overlay",
                          "size": 10,
                          "solidity": 0.2
                        },
                        "type": "scatter"
                      }
                    ],
                    "scatter3d": [
                      {
                        "line": {
                          "colorbar": {
                            "outlinewidth": 0,
                            "ticks": ""
                          }
                        },
                        "marker": {
                          "colorbar": {
                            "outlinewidth": 0,
                            "ticks": ""
                          }
                        },
                        "type": "scatter3d"
                      }
                    ],
                    "scattercarpet": [
                      {
                        "marker": {
                          "colorbar": {
                            "outlinewidth": 0,
                            "ticks": ""
                          }
                        },
                        "type": "scattercarpet"
                      }
                    ],
                    "scattergeo": [
                      {
                        "marker": {
                          "colorbar": {
                            "outlinewidth": 0,
                            "ticks": ""
                          }
                        },
                        "type": "scattergeo"
                      }
                    ],
                    "scattergl": [
                      {
                        "marker": {
                          "colorbar": {
                            "outlinewidth": 0,
                            "ticks": ""
                          }
                        },
                        "type": "scattergl"
                      }
                    ],
                    "scattermapbox": [
                      {
                        "marker": {
                          "colorbar": {
                            "outlinewidth": 0,
                            "ticks": ""
                          }
                        },
                        "type": "scattermapbox"
                      }
                    ],
                    "scatterpolar": [
                      {
                        "marker": {
                          "colorbar": {
                            "outlinewidth": 0,
                            "ticks": ""
                          }
                        },
                        "type": "scatterpolar"
                      }
                    ],
                    "scatterpolargl": [
                      {
                        "marker": {
                          "colorbar": {
                            "outlinewidth": 0,
                            "ticks": ""
                          }
                        },
                        "type": "scatterpolargl"
                      }
                    ],
                    "scatterternary": [
                      {
                        "marker": {
                          "colorbar": {
                            "outlinewidth": 0,
                            "ticks": ""
                          }
                        },
                        "type": "scatterternary"
                      }
                    ],
                    "surface": [
                      {
                        "colorbar": {
                          "outlinewidth": 0,
                          "ticks": ""
                        },
                        "colorscale": [
                          [
                            0,
                            "#0d0887"
                          ],
                          [
                            0.1111111111111111,
                            "#46039f"
                          ],
                          [
                            0.2222222222222222,
                            "#7201a8"
                          ],
                          [
                            0.3333333333333333,
                            "#9c179e"
                          ],
                          [
                            0.4444444444444444,
                            "#bd3786"
                          ],
                          [
                            0.5555555555555556,
                            "#d8576b"
                          ],
                          [
                            0.6666666666666666,
                            "#ed7953"
                          ],
                          [
                            0.7777777777777778,
                            "#fb9f3a"
                          ],
                          [
                            0.8888888888888888,
                            "#fdca26"
                          ],
                          [
                            1,
                            "#f0f921"
                          ]
                        ],
                        "type": "surface"
                      }
                    ],
                    "table": [
                      {
                        "cells": {
                          "fill": {
                            "color": "#EBF0F8"
                          },
                          "line": {
                            "color": "white"
                          }
                        },
                        "header": {
                          "fill": {
                            "color": "#C8D4E3"
                          },
                          "line": {
                            "color": "white"
                          }
                        },
                        "type": "table"
                      }
                    ]
                  },
                  "layout": {
                    "annotationdefaults": {
                      "arrowcolor": "#2a3f5f",
                      "arrowhead": 0,
                      "arrowwidth": 1
                    },
                    "autotypenumbers": "strict",
                    "coloraxis": {
                      "colorbar": {
                        "outlinewidth": 0,
                        "ticks": ""
                      }
                    },
                    "colorscale": {
                      "diverging": [
                        [
                          0,
                          "#8e0152"
                        ],
                        [
                          0.1,
                          "#c51b7d"
                        ],
                        [
                          0.2,
                          "#de77ae"
                        ],
                        [
                          0.3,
                          "#f1b6da"
                        ],
                        [
                          0.4,
                          "#fde0ef"
                        ],
                        [
                          0.5,
                          "#f7f7f7"
                        ],
                        [
                          0.6,
                          "#e6f5d0"
                        ],
                        [
                          0.7,
                          "#b8e186"
                        ],
                        [
                          0.8,
                          "#7fbc41"
                        ],
                        [
                          0.9,
                          "#4d9221"
                        ],
                        [
                          1,
                          "#276419"
                        ]
                      ],
                      "sequential": [
                        [
                          0,
                          "#0d0887"
                        ],
                        [
                          0.1111111111111111,
                          "#46039f"
                        ],
                        [
                          0.2222222222222222,
                          "#7201a8"
                        ],
                        [
                          0.3333333333333333,
                          "#9c179e"
                        ],
                        [
                          0.4444444444444444,
                          "#bd3786"
                        ],
                        [
                          0.5555555555555556,
                          "#d8576b"
                        ],
                        [
                          0.6666666666666666,
                          "#ed7953"
                        ],
                        [
                          0.7777777777777778,
                          "#fb9f3a"
                        ],
                        [
                          0.8888888888888888,
                          "#fdca26"
                        ],
                        [
                          1,
                          "#f0f921"
                        ]
                      ],
                      "sequentialminus": [
                        [
                          0,
                          "#0d0887"
                        ],
                        [
                          0.1111111111111111,
                          "#46039f"
                        ],
                        [
                          0.2222222222222222,
                          "#7201a8"
                        ],
                        [
                          0.3333333333333333,
                          "#9c179e"
                        ],
                        [
                          0.4444444444444444,
                          "#bd3786"
                        ],
                        [
                          0.5555555555555556,
                          "#d8576b"
                        ],
                        [
                          0.6666666666666666,
                          "#ed7953"
                        ],
                        [
                          0.7777777777777778,
                          "#fb9f3a"
                        ],
                        [
                          0.8888888888888888,
                          "#fdca26"
                        ],
                        [
                          1,
                          "#f0f921"
                        ]
                      ]
                    },
                    "colorway": [
                      "#636efa",
                      "#EF553B",
                      "#00cc96",
                      "#ab63fa",
                      "#FFA15A",
                      "#19d3f3",
                      "#FF6692",
                      "#B6E880",
                      "#FF97FF",
                      "#FECB52"
                    ],
                    "font": {
                      "color": "#2a3f5f"
                    },
                    "geo": {
                      "bgcolor": "white",
                      "lakecolor": "white",
                      "landcolor": "#E5ECF6",
                      "showlakes": true,
                      "showland": true,
                      "subunitcolor": "white"
                    },
                    "hoverlabel": {
                      "align": "left"
                    },
                    "hovermode": "closest",
                    "mapbox": {
                      "style": "light"
                    },
                    "paper_bgcolor": "white",
                    "plot_bgcolor": "#E5ECF6",
                    "polar": {
                      "angularaxis": {
                        "gridcolor": "white",
                        "linecolor": "white",
                        "ticks": ""
                      },
                      "bgcolor": "#E5ECF6",
                      "radialaxis": {
                        "gridcolor": "white",
                        "linecolor": "white",
                        "ticks": ""
                      }
                    },
                    "scene": {
                      "xaxis": {
                        "backgroundcolor": "#E5ECF6",
                        "gridcolor": "white",
                        "gridwidth": 2,
                        "linecolor": "white",
                        "showbackground": true,
                        "ticks": "",
                        "zerolinecolor": "white"
                      },
                      "yaxis": {
                        "backgroundcolor": "#E5ECF6",
                        "gridcolor": "white",
                        "gridwidth": 2,
                        "linecolor": "white",
                        "showbackground": true,
                        "ticks": "",
                        "zerolinecolor": "white"
                      },
                      "zaxis": {
                        "backgroundcolor": "#E5ECF6",
                        "gridcolor": "white",
                        "gridwidth": 2,
                        "linecolor": "white",
                        "showbackground": true,
                        "ticks": "",
                        "zerolinecolor": "white"
                      }
                    },
                    "shapedefaults": {
                      "line": {
                        "color": "#2a3f5f"
                      }
                    },
                    "ternary": {
                      "aaxis": {
                        "gridcolor": "white",
                        "linecolor": "white",
                        "ticks": ""
                      },
                      "baxis": {
                        "gridcolor": "white",
                        "linecolor": "white",
                        "ticks": ""
                      },
                      "bgcolor": "#E5ECF6",
                      "caxis": {
                        "gridcolor": "white",
                        "linecolor": "white",
                        "ticks": ""
                      }
                    },
                    "title": {
                      "x": 0.05
                    },
                    "xaxis": {
                      "automargin": true,
                      "gridcolor": "white",
                      "linecolor": "white",
                      "ticks": "",
                      "title": {
                        "standoff": 15
                      },
                      "zerolinecolor": "white",
                      "zerolinewidth": 2
                    },
                    "yaxis": {
                      "automargin": true,
                      "gridcolor": "white",
                      "linecolor": "white",
                      "ticks": "",
                      "title": {
                        "standoff": 15
                      },
                      "zerolinecolor": "white",
                      "zerolinewidth": 2
                    }
                  }
                },
                "xaxis": {
                  "anchor": "y",
                  "constrain": "domain",
                  "domain": [
                    0,
                    1
                  ],
                  "scaleanchor": "y"
                },
                "yaxis": {
                  "anchor": "x",
                  "autorange": "reversed",
                  "constrain": "domain",
                  "domain": [
                    0,
                    1
                  ]
                }
              }
            }
          },
          "metadata": {},
          "output_type": "display_data"
        },
        {
          "data": {
            "text/html": [
              "<div>\n",
              "<style scoped>\n",
              "    .dataframe tbody tr th:only-of-type {\n",
              "        vertical-align: middle;\n",
              "    }\n",
              "\n",
              "    .dataframe tbody tr th {\n",
              "        vertical-align: top;\n",
              "    }\n",
              "\n",
              "    .dataframe thead th {\n",
              "        text-align: right;\n",
              "    }\n",
              "</style>\n",
              "<table border=\"1\" class=\"dataframe\">\n",
              "  <thead>\n",
              "    <tr style=\"text-align: right;\">\n",
              "      <th></th>\n",
              "      <th>Geolocation</th>\n",
              "      <th>Commodity</th>\n",
              "      <th>Period</th>\n",
              "      <th>Stocks</th>\n",
              "      <th>Volume</th>\n",
              "      <th>Area Harvested</th>\n",
              "      <th>Farmgate Price</th>\n",
              "      <th>Wholesale Price</th>\n",
              "      <th>Retail Price</th>\n",
              "      <th>CPI All Income</th>\n",
              "      <th>CPI Bottom 30</th>\n",
              "      <th>Value of Production</th>\n",
              "    </tr>\n",
              "  </thead>\n",
              "  <tbody>\n",
              "    <tr>\n",
              "      <th>1</th>\n",
              "      <td>region i (ilocos region)</td>\n",
              "      <td>Rice</td>\n",
              "      <td>2012 Q1</td>\n",
              "      <td>2227.093846</td>\n",
              "      <td>313643.00</td>\n",
              "      <td>67944.00</td>\n",
              "      <td>17.200000</td>\n",
              "      <td>31.533333</td>\n",
              "      <td>29.416667</td>\n",
              "      <td>77.630850</td>\n",
              "      <td>78.960939</td>\n",
              "      <td>39075.0</td>\n",
              "    </tr>\n",
              "    <tr>\n",
              "      <th>2</th>\n",
              "      <td>region ii (cagayan valley)</td>\n",
              "      <td>Rice</td>\n",
              "      <td>2012 Q1</td>\n",
              "      <td>2227.093846</td>\n",
              "      <td>463414.00</td>\n",
              "      <td>118916.00</td>\n",
              "      <td>16.203333</td>\n",
              "      <td>30.670000</td>\n",
              "      <td>31.926667</td>\n",
              "      <td>82.072230</td>\n",
              "      <td>84.694894</td>\n",
              "      <td>56876.0</td>\n",
              "    </tr>\n",
              "    <tr>\n",
              "      <th>3</th>\n",
              "      <td>region iii (central luzon)</td>\n",
              "      <td>Rice</td>\n",
              "      <td>2012 Q1</td>\n",
              "      <td>2227.093846</td>\n",
              "      <td>628879.00</td>\n",
              "      <td>131940.00</td>\n",
              "      <td>17.193333</td>\n",
              "      <td>32.796667</td>\n",
              "      <td>30.800000</td>\n",
              "      <td>79.460275</td>\n",
              "      <td>79.446607</td>\n",
              "      <td>5753.0</td>\n",
              "    </tr>\n",
              "    <tr>\n",
              "      <th>4</th>\n",
              "      <td>region iv-a (calabarzon)</td>\n",
              "      <td>Rice</td>\n",
              "      <td>2012 Q1</td>\n",
              "      <td>2227.093846</td>\n",
              "      <td>101543.00</td>\n",
              "      <td>27805.00</td>\n",
              "      <td>14.473333</td>\n",
              "      <td>31.990000</td>\n",
              "      <td>30.676667</td>\n",
              "      <td>80.329063</td>\n",
              "      <td>80.496204</td>\n",
              "      <td>16263.0</td>\n",
              "    </tr>\n",
              "    <tr>\n",
              "      <th>5</th>\n",
              "      <td>mimaropa region (mimaropa)</td>\n",
              "      <td>Rice</td>\n",
              "      <td>2012 Q1</td>\n",
              "      <td>2227.093846</td>\n",
              "      <td>211461.00</td>\n",
              "      <td>62191.00</td>\n",
              "      <td>15.146667</td>\n",
              "      <td>31.466667</td>\n",
              "      <td>30.976667</td>\n",
              "      <td>78.580435</td>\n",
              "      <td>80.003065</td>\n",
              "      <td>16368.0</td>\n",
              "    </tr>\n",
              "    <tr>\n",
              "      <th>...</th>\n",
              "      <td>...</td>\n",
              "      <td>...</td>\n",
              "      <td>...</td>\n",
              "      <td>...</td>\n",
              "      <td>...</td>\n",
              "      <td>...</td>\n",
              "      <td>...</td>\n",
              "      <td>...</td>\n",
              "      <td>...</td>\n",
              "      <td>...</td>\n",
              "      <td>...</td>\n",
              "      <td>...</td>\n",
              "    </tr>\n",
              "    <tr>\n",
              "      <th>715</th>\n",
              "      <td>region ix (zamboanga peninsula)</td>\n",
              "      <td>Rice</td>\n",
              "      <td>2023 Q4</td>\n",
              "      <td>1786.925385</td>\n",
              "      <td>172537.76</td>\n",
              "      <td>45245.35</td>\n",
              "      <td>21.753333</td>\n",
              "      <td>50.176667</td>\n",
              "      <td>49.353333</td>\n",
              "      <td>104.480498</td>\n",
              "      <td>104.342834</td>\n",
              "      <td>NaN</td>\n",
              "    </tr>\n",
              "    <tr>\n",
              "      <th>716</th>\n",
              "      <td>region x (northern mindanao)</td>\n",
              "      <td>Rice</td>\n",
              "      <td>2023 Q4</td>\n",
              "      <td>1786.925385</td>\n",
              "      <td>229851.35</td>\n",
              "      <td>46539.00</td>\n",
              "      <td>24.213333</td>\n",
              "      <td>46.096667</td>\n",
              "      <td>48.320000</td>\n",
              "      <td>111.711589</td>\n",
              "      <td>109.703895</td>\n",
              "      <td>NaN</td>\n",
              "    </tr>\n",
              "    <tr>\n",
              "      <th>717</th>\n",
              "      <td>region xi (davao region)</td>\n",
              "      <td>Rice</td>\n",
              "      <td>2023 Q4</td>\n",
              "      <td>1786.925385</td>\n",
              "      <td>123140.78</td>\n",
              "      <td>26758.00</td>\n",
              "      <td>21.996667</td>\n",
              "      <td>49.786667</td>\n",
              "      <td>49.313333</td>\n",
              "      <td>110.723788</td>\n",
              "      <td>111.782338</td>\n",
              "      <td>NaN</td>\n",
              "    </tr>\n",
              "    <tr>\n",
              "      <th>718</th>\n",
              "      <td>region xii (soccsksargen)</td>\n",
              "      <td>Rice</td>\n",
              "      <td>2023 Q4</td>\n",
              "      <td>1786.925385</td>\n",
              "      <td>357203.95</td>\n",
              "      <td>96022.00</td>\n",
              "      <td>21.650000</td>\n",
              "      <td>46.526667</td>\n",
              "      <td>46.030000</td>\n",
              "      <td>103.242814</td>\n",
              "      <td>103.195269</td>\n",
              "      <td>NaN</td>\n",
              "    </tr>\n",
              "    <tr>\n",
              "      <th>719</th>\n",
              "      <td>bangsamoro autonomous region in muslim mindana...</td>\n",
              "      <td>Rice</td>\n",
              "      <td>2023 Q4</td>\n",
              "      <td>1786.925385</td>\n",
              "      <td>198693.14</td>\n",
              "      <td>60506.06</td>\n",
              "      <td>22.383333</td>\n",
              "      <td>49.706667</td>\n",
              "      <td>52.916667</td>\n",
              "      <td>121.472544</td>\n",
              "      <td>119.893757</td>\n",
              "      <td>NaN</td>\n",
              "    </tr>\n",
              "  </tbody>\n",
              "</table>\n",
              "<p>672 rows × 12 columns</p>\n",
              "</div>"
            ],
            "text/plain": [
              "                                           Geolocation Commodity   Period  \\\n",
              "1                             region i (ilocos region)      Rice  2012 Q1   \n",
              "2                           region ii (cagayan valley)      Rice  2012 Q1   \n",
              "3                           region iii (central luzon)      Rice  2012 Q1   \n",
              "4                             region iv-a (calabarzon)      Rice  2012 Q1   \n",
              "5                           mimaropa region (mimaropa)      Rice  2012 Q1   \n",
              "..                                                 ...       ...      ...   \n",
              "715                    region ix (zamboanga peninsula)      Rice  2023 Q4   \n",
              "716                       region x (northern mindanao)      Rice  2023 Q4   \n",
              "717                           region xi (davao region)      Rice  2023 Q4   \n",
              "718                          region xii (soccsksargen)      Rice  2023 Q4   \n",
              "719  bangsamoro autonomous region in muslim mindana...      Rice  2023 Q4   \n",
              "\n",
              "          Stocks     Volume  Area Harvested  Farmgate Price  Wholesale Price  \\\n",
              "1    2227.093846  313643.00        67944.00       17.200000        31.533333   \n",
              "2    2227.093846  463414.00       118916.00       16.203333        30.670000   \n",
              "3    2227.093846  628879.00       131940.00       17.193333        32.796667   \n",
              "4    2227.093846  101543.00        27805.00       14.473333        31.990000   \n",
              "5    2227.093846  211461.00        62191.00       15.146667        31.466667   \n",
              "..           ...        ...             ...             ...              ...   \n",
              "715  1786.925385  172537.76        45245.35       21.753333        50.176667   \n",
              "716  1786.925385  229851.35        46539.00       24.213333        46.096667   \n",
              "717  1786.925385  123140.78        26758.00       21.996667        49.786667   \n",
              "718  1786.925385  357203.95        96022.00       21.650000        46.526667   \n",
              "719  1786.925385  198693.14        60506.06       22.383333        49.706667   \n",
              "\n",
              "     Retail Price  CPI All Income  CPI Bottom 30  Value of Production  \n",
              "1       29.416667       77.630850      78.960939              39075.0  \n",
              "2       31.926667       82.072230      84.694894              56876.0  \n",
              "3       30.800000       79.460275      79.446607               5753.0  \n",
              "4       30.676667       80.329063      80.496204              16263.0  \n",
              "5       30.976667       78.580435      80.003065              16368.0  \n",
              "..            ...             ...            ...                  ...  \n",
              "715     49.353333      104.480498     104.342834                  NaN  \n",
              "716     48.320000      111.711589     109.703895                  NaN  \n",
              "717     49.313333      110.723788     111.782338                  NaN  \n",
              "718     46.030000      103.242814     103.195269                  NaN  \n",
              "719     52.916667      121.472544     119.893757                  NaN  \n",
              "\n",
              "[672 rows x 12 columns]"
            ]
          },
          "execution_count": 144,
          "metadata": {},
          "output_type": "execute_result"
        }
      ],
      "source": [
        "# @title Quarterly megadataset for rice\n",
        "# Volume of Rice\n",
        "df1 = pd.read_csv(\"datasets/agricultural-indicators/volume_rice-corn.csv\", skiprows=2, na_values=[\"..\", \"\"])\n",
        "df1 = preprocess_baesians_1(df1, \"Palay\", \"Rice\", melt_value=\"Volume\")\n",
        "\n",
        "# Farmgate Price of Rice\n",
        "df2 = read_csv_to_df(\"datasets/prices/prices_farmgate-new-series_2010-2023.csv\")\n",
        "df2 = get_quarter_columns(df2, range(2012, 2024), 2)\n",
        "df2 = preprocess_baesians_1(df2, \"Palay [Paddy] Other Variety, dry (conv. to 14% mc)\", \"Rice\", melt_value=\"Farmgate Price\")\n",
        "\n",
        "# Wholesale Price of Rice\n",
        "df3 = pd.read_csv(\"datasets/prices/prices_wholesale-new-series_2010-2023.csv\",)\n",
        "df3 = get_quarter_columns(df3, range(2012, 2024), 2)\n",
        "df3 = preprocess_baesians_1(df3, \"Well Milled Rice (WMR)\", \"Rice\", melt_value=\"Wholesale Price\")\n",
        "\n",
        "# Retail Price of Rice\n",
        "df4 = read_csv_to_df(\"datasets/prices/prices_retail_2012-2023.csv\")\n",
        "df4 = get_quarter_columns(df4, range(2012, 2024), 2)\n",
        "df4 = preprocess_baesians_1(df4, \"RICE, REGULAR-MILLED, 1 KG\", \"Rice\", melt_value=\"Retail Price\")\n",
        "\n",
        "# Cropyield (Area Harvested) of Rice\n",
        "df5 = pd.read_csv(\"datasets/agricultural-indicators/area-harvested-palay-corn_quarterly-annual_2010-2023.csv\", skiprows=1)\n",
        "df5 = preprocess_baesians_1(df5, \"Palay\", \"Rice\", melt_value=\"Area Harvested\")\n",
        "df5 = df5[df5[\"Period\"].str.contains(\"Q\")]\n",
        "\n",
        "# Consumer Price Index (All Income) per Region of Rice\n",
        "df6 = pd.read_csv(\"datasets/price-indices-2018-based/cpi_all-income-households-by-cg-with-backcasting_1994-2023.csv\")\n",
        "df6 = get_quarter_columns(df6, range(2012, 2024), 2)\n",
        "df6 = preprocess_baesians_1(df6, \"01.1.1.12 - Rice\", \"Rice\", melt_value=\"CPI All Income\")\n",
        "\n",
        "# Consumer Price Index (Bottom 30) per Region of Rice\n",
        "df7 = pd.read_csv(\"datasets/price-indices-2018-based/cpi_bottom-30-by-cg-with-backcasting_2012-2017.csv\")\n",
        "df7 = preprocess_baesians_1(df7, \"01.1.1.12 - Rice\", \"Rice\", melt_value=None)\n",
        "tdf = pd.read_csv(\"datasets/price-indices-2018-based/cpi_bottom-30-by-cg_2018-2023.csv\")\n",
        "tdf = preprocess_baesians_1(tdf, \"01.1.1.12 - Rice\", \"Rice\", melt_value=None)\n",
        "df7 = pd.merge(df7, tdf, on=[\"Geolocation\", \"Commodity\"])\n",
        "df7 = get_quarter_columns(df7, range(2012, 2024), 2)\n",
        "df7 = preprocess_baesians_1(df7, \"Rice\", \"Rice\", melt_value=\"CPI Bottom 30\")\n",
        "\n",
        "# Merge all dfs into a single df NOTE: geolocation must be in lower case\n",
        "# NOTE: barmm is removed because it has null values, unfortunately\n",
        "dfs = [df1, df2, df3, df4, df5, df6, df7]\n",
        "df = functools.reduce(lambda left, right: pd.merge(left, right), dfs)\n",
        "move_column(df, \"Area Harvested\", 4)\n",
        "\n",
        "# ------------------------------------\n",
        "\n",
        "# Value of Production of Rice (Annual)\n",
        "tdf1 = df_val_of_prod\n",
        "tdf1 = preprocess_baesians_1(tdf1, \"Rice\", \"Rice\", melt_value=\"Value of Production\")\n",
        "\n",
        "tdf2 = df.iloc[:, :3].copy()\n",
        "tdf2[\"Period\"] = df[\"Period\"].str.replace(\" Q\\d\", \"\", regex=True)\n",
        "df[\"Value of Production\"] = pd.merge(tdf2, tdf1)[\"Value of Production\"]\n",
        "\n",
        "# # Stocks of Rice (Annual)\n",
        "tdf1 = df_stocks[df_stocks[\"Commodity\"] == \"Rice\"][[\"Period\", \"Stocks\"]]\n",
        "tdf2 = pd.DataFrame(df[\"Period\"].str.replace(\" Q\\d\", \"\", regex=True).astype(dtype=\"int64\"))\n",
        "df.insert(3, \"Stocks\", pd.merge(tdf2, tdf1)[\"Stocks\"])\n",
        "\n",
        "# Remove Philippines outlier\n",
        "df = df[df[\"Geolocation\"] != \"philippines\"]\n",
        "for x in [\"Volume\", \"Area Harvested\", \"Stocks\"]:\n",
        "    for y in [\"Retail Price\", \"Wholesale Price\", \"Farmgate Price\", \"CPI All Income\", \"CPI Bottom 30\", \"Value of Production\"]:\n",
        "        fig = px.scatter(df, x=x, y=y, color=\"Geolocation\")\n",
        "        # fig.show()\n",
        "\n",
        "# Correlation Matrix for Quarterly-Regions\n",
        "df.info()\n",
        "contingency = df.iloc[:, 3:].corr()\n",
        "cont_1 = contingency.iloc[3:, 0:3]\n",
        "fig = px.imshow(cont_1, text_auto=True)\n",
        "fig.show()\n",
        "\n",
        "contingency\n",
        "df"
      ]
    },
    {
      "cell_type": "code",
      "execution_count": 145,
      "metadata": {},
      "outputs": [
        {
          "name": "stdout",
          "output_type": "stream",
          "text": [
            "\u001b[31m2.1811238114834266e-99\u001b[0m\n",
            "Reject the null hypothesis; there is a significant difference between Volume and Retail Price.\n",
            "\u001b[31mnan\u001b[0m\n",
            "Fail to reject the null hypothesis; there is no significant difference between Volume and Wholesale Price.\n",
            "\u001b[31m2.131426795664356e-99\u001b[0m\n",
            "Reject the null hypothesis; there is a significant difference between Volume and Farmgate Price.\n",
            "\u001b[31m2.3117290211763415e-99\u001b[0m\n",
            "Reject the null hypothesis; there is a significant difference between Volume and CPI All Income.\n",
            "\u001b[31m2.3124348251274193e-99\u001b[0m\n",
            "Reject the null hypothesis; there is a significant difference between Volume and CPI Bottom 30.\n",
            "\u001b[31mnan\u001b[0m\n",
            "Fail to reject the null hypothesis; there is no significant difference between Volume and Value of Production.\n",
            "\u001b[31m1.0793196034777934e-116\u001b[0m\n",
            "Reject the null hypothesis; there is a significant difference between Area Harvested and Retail Price.\n",
            "\u001b[31mnan\u001b[0m\n",
            "Fail to reject the null hypothesis; there is no significant difference between Area Harvested and Wholesale Price.\n",
            "\u001b[31m9.709411924754249e-117\u001b[0m\n",
            "Reject the null hypothesis; there is a significant difference between Area Harvested and Farmgate Price.\n",
            "\u001b[31m1.4096193812513898e-116\u001b[0m\n",
            "Reject the null hypothesis; there is a significant difference between Area Harvested and CPI All Income.\n",
            "\u001b[31m1.4115961732220005e-116\u001b[0m\n",
            "Reject the null hypothesis; there is a significant difference between Area Harvested and CPI Bottom 30.\n",
            "\u001b[31mnan\u001b[0m\n",
            "Fail to reject the null hypothesis; there is no significant difference between Area Harvested and Value of Production.\n",
            "\u001b[31m0.0\u001b[0m\n",
            "Reject the null hypothesis; there is a significant difference between Stocks and Retail Price.\n",
            "\u001b[31mnan\u001b[0m\n",
            "Fail to reject the null hypothesis; there is no significant difference between Stocks and Wholesale Price.\n",
            "\u001b[31m0.0\u001b[0m\n",
            "Reject the null hypothesis; there is a significant difference between Stocks and Farmgate Price.\n",
            "\u001b[31m0.0\u001b[0m\n",
            "Reject the null hypothesis; there is a significant difference between Stocks and CPI All Income.\n",
            "\u001b[31m0.0\u001b[0m\n",
            "Reject the null hypothesis; there is a significant difference between Stocks and CPI Bottom 30.\n",
            "\u001b[31mnan\u001b[0m\n",
            "Fail to reject the null hypothesis; there is no significant difference between Stocks and Value of Production.\n"
          ]
        }
      ],
      "source": [
        "# Import the necessary libraries:\n",
        "from scipy import stats\n",
        "from termcolor import colored\n",
        "\n",
        "sample_size = 500\n",
        "# Randomly sample 500 rows from the Quarterly-Regional Market-Farm dataset:\n",
        "df = df.sample(n=sample_size)\n",
        "\n",
        "# Filter the dataset for the two variables we want to compare:\n",
        "for x in [\"Volume\", \"Area Harvested\", \"Stocks\"]:\n",
        "    for y in [\"Retail Price\", \"Wholesale Price\", \"Farmgate Price\", \"CPI All Income\", \"CPI Bottom 30\", \"Value of Production\"]:\n",
        "        farm = df[x]\n",
        "        market = df[y]\n",
        "\n",
        "        # Perform the t-test:\n",
        "        t_stat, p_value = stats.ttest_ind(farm, market)\n",
        "\n",
        "        # Interpret the results:\n",
        "        alpha = 0.05\n",
        "        print(colored(p_value, \"red\"))\n",
        "        if p_value < alpha:\n",
        "            print(f\"Reject the null hypothesis; there is a significant difference between {x} and {y}.\")\n",
        "        else:\n",
        "            print(f\"Fail to reject the null hypothesis; there is no significant difference between {x} and {y}.\")"
      ]
    }
  ],
  "metadata": {
    "colab": {
      "include_colab_link": true,
      "provenance": [],
      "toc_visible": true
    },
    "kernelspec": {
      "display_name": "Python 3",
      "name": "python3"
    },
    "language_info": {
      "codemirror_mode": {
        "name": "ipython",
        "version": 3
      },
      "file_extension": ".py",
      "mimetype": "text/x-python",
      "name": "python",
      "nbconvert_exporter": "python",
      "pygments_lexer": "ipython3",
      "version": "3.11.8"
    }
  },
  "nbformat": 4,
  "nbformat_minor": 0
}
