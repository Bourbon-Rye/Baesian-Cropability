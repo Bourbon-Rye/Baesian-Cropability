{
  "cells": [
    {
      "cell_type": "markdown",
      "metadata": {
        "colab_type": "text",
        "id": "view-in-github"
      },
      "source": [
        "<a href=\"https://colab.research.google.com/github/Bourbon-Rye/Baesian-Cropability/blob/main/PilipiNuts_2023_Baesian_Cropability.ipynb\" target=\"_parent\"><img src=\"https://colab.research.google.com/assets/colab-badge.svg\" alt=\"Open In Colab\"/></a>"
      ]
    },
    {
      "cell_type": "markdown",
      "metadata": {},
      "source": [
        "# Setup"
      ]
    },
    {
      "cell_type": "code",
      "execution_count": 31,
      "metadata": {},
      "outputs": [],
      "source": [
        "# @Libraries\n",
        "import numpy as np\n",
        "import pandas as pd\n",
        "import seaborn as sns\n",
        "\n",
        "import plotly.express as px\n",
        "import plotly.graph_objects as go\n",
        "import matplotlib.pyplot as plt\n",
        "import json\n",
        "import re\n",
        "import functools\n",
        "\n",
        "from pathlib import Path\n",
        "from sklearn import preprocessing\n",
        "from plotly.subplots import make_subplots\n",
        "from scipy.stats import chi2_contingency\n",
        "from sklearn.impute import SimpleImputer"
      ]
    },
    {
      "cell_type": "code",
      "execution_count": 32,
      "metadata": {},
      "outputs": [],
      "source": [
        "# @title Corrections\n",
        "with open('datasets/region_provinces.json') as jsonfile:\n",
        "    regions_provinces = json.load(jsonfile)['PHILIPPINES']\n",
        "regions_provinces = {key.lower():regions_provinces[key] for key in regions_provinces}\n",
        "regions = regions_provinces.keys()\n",
        "provinces = set([item.lower() for key in regions for item in regions_provinces[key]])\n",
        "regions = set(regions)\n",
        "\n",
        "# NOTE: Fix for bad regions, thanks PSA\n",
        "bad_regions = ['AONCR', 'BARMM', 'CAR', 'MIMAROPA', 'NCR',\n",
        "           'Region 1', 'Region 2', 'Region 3', 'Region 4A',\n",
        "           'Region 5', 'Region 6', 'Region 7', 'Region 8',\n",
        "           'Region 9', 'Region 10', 'Region 11', 'Reg12', 'CARAGA']\n",
        "region_mapping = {bad.lower():good.lower() for (bad,good) in zip(bad_regions, regions_provinces.keys())}\n",
        "corrections = {\n",
        "    \"AUTONOMOUS REGION IN MUSLIM MINDANAO (ARMM)\": \"bangsamoro autonomous region in muslim mindanao (barmm)\",\n",
        "    \"autonomous region in muslim mindanao (armm)\": \"bangsamoro autonomous region in muslim mindanao (barmm)\",\n",
        "    \"mimaropa region\": \"mimaropa region (mimaropa)\"\n",
        "}\n",
        "region_mapping.update(corrections)\n",
        "\n",
        "temp = [key.split('(')[1].rstrip(')') for key in regions_provinces]\n",
        "region_short_to_short_long = {bad:good for (bad,good) in zip(temp, regions_provinces.keys())}"
      ]
    },
    {
      "cell_type": "code",
      "execution_count": 30,
      "metadata": {},
      "outputs": [],
      "source": [
        "# @title Utilities\n",
        "def read_csv_to_df(csvfile: Path, comment_symbol='#') -> pd.DataFrame:\n",
        "    \"\"\"Read CSV to DataFrame with comment validation.\n",
        "        Allows comment lines in CSVs where line[0] == comment_symbol.\n",
        "        Also removes newlines.\n",
        "        Does not recognize comment_symbol anywhere else. \n",
        "    \"\"\"\n",
        "    tempfile = Path('temp.csv')\n",
        "    with open(csvfile, 'r') as csv, open(tempfile, 'w+') as temp:\n",
        "        lines = csv.readlines()\n",
        "        for line in lines:\n",
        "            if line[0] != comment_symbol:\n",
        "                temp.write(line)\n",
        "    return pd.read_csv(tempfile)\n",
        "\n",
        "def is_region(x: str, regions=regions) -> bool:\n",
        "    x = x.strip(' .')\n",
        "    x = x.lower()\n",
        "    if x == \"cagayan\":\n",
        "        return False\n",
        "    for region in regions:\n",
        "        if x in region:\n",
        "            return True\n",
        "    else:\n",
        "        return False\n",
        "    \n",
        "def is_province(x: str, provinces=provinces) -> bool:\n",
        "    x = x.strip(' .')\n",
        "    x = x.lower()\n",
        "    for province in provinces:\n",
        "        if x in province:\n",
        "            return True\n",
        "    else:\n",
        "        return False\n",
        "\n",
        "def get_quarter_columns(df: pd.DataFrame, year_range: range, period_idx: int):\n",
        "    \"\"\"Assumes contiguous period (Year Month) columns and that columns before period_idx are ID columns\"\"\"\n",
        "    df_quarter = df.iloc[:, :period_idx]\n",
        "    for year in year_range:\n",
        "        for q in range(0, 12, 3):\n",
        "            df_quarter[f\"{year} Q{q//3+1}\"] = df.filter(regex=str(year), axis=1).iloc[:, q:q+3].mean(axis=1)\n",
        "    return df_quarter\n",
        "\n",
        "def get_annual_columns(df: pd.DataFrame, year_range: range, period_idx: int):\n",
        "    \"\"\"Assumes contiguous period (Year Month|Quarter) columns and that columns before period_idx are ID columns\n",
        "    Note that this also works with Quarters\"\"\"\n",
        "    df_annual = df.iloc[:, :period_idx]\n",
        "    for year in year_range:\n",
        "        df_annual[f\"{year}\"] = df.filter(regex=str(year), axis=1).mean(axis=1)\n",
        "    return df_annual\n",
        "\n",
        "def swap_columns(df: pd.DataFrame, col1: str, col2: str):\n",
        "    col_list = list(df.columns)\n",
        "    x, y = col_list.index(col1), col_list.index(col2)\n",
        "    col_list[y], col_list[x] = col_list[x], col_list[y]\n",
        "    df = df[col_list]\n",
        "    return df\n",
        "\n",
        "def normalize(df: pd.DataFrame, col: str, minmax = True):\n",
        "    \"\"\"Can use mean normalization and minmax normalization.\"\"\"\n",
        "    tdf = df[col]\n",
        "    if minmax:\n",
        "        tdf = (tdf-tdf.min())/(tdf.max()-tdf.min())\n",
        "    else:\n",
        "        tdf = (tdf-tdf.mean())/tdf.std()\n",
        "    df[col] = tdf\n",
        "    return df\n",
        "\n",
        "def drop_rows_with_zeros(df: pd.DataFrame, ref_col_idx: int, all_zeros=False):\n",
        "    \"\"\"Drop rows if some values are zeros, or if all values are zeros.\n",
        "    Assumes contiguous reference columns, i.e. columns to use in deciding whether to drop.\"\"\"\n",
        "    return df[~(df.iloc[:, ref_col_idx:] == 0).all(axis=1)] if all_zeros else df[~(df.iloc[:, ref_col_idx:] == 0).any(axis=1)]\n",
        "\n",
        "def dual_plot(df: pd.DataFrame, y1: str, y2: str,\n",
        "              x_title: str, y1_title: str, y2_title: str, title_text: str):\n",
        "    fig = make_subplots(specs=[[{\"secondary_y\": True}]])\n",
        "    # Add traces\n",
        "    fig.add_trace(\n",
        "        go.Scatter(x=df.index, y=df[y1], name=y1),\n",
        "        secondary_y=False,\n",
        "    )\n",
        "    fig.add_trace(\n",
        "        go.Scatter(x=df.index, y=df[y2], name=y2),\n",
        "        secondary_y=True,\n",
        "    )\n",
        "    # Add titles\n",
        "    fig.update_layout(title_text=title_text)\n",
        "    fig.update_xaxes(title_text=x_title)\n",
        "    # Set y-axes titles\n",
        "    fig.update_yaxes(title_text=y1_title, secondary_y=False)\n",
        "    fig.update_yaxes(title_text=y2_title, secondary_y=True)\n",
        "\n",
        "    fig.show()\n",
        "\n",
        "def move_column(df: pd.DataFrame, col: str, new_idx: int):\n",
        "    \"\"\"This is an inplace method.\"\"\"\n",
        "    df.insert(new_idx, col, df.pop(col))\n",
        "    \n",
        "def preprocess_baesians_1(df: pd.DataFrame, commodity: str, rename_to: str, melt_value: str|None, regional=True):\n",
        "    \"\"\"Assumes Geolocation | Commodity | Period columns.\n",
        "    Filters to regional if regional=True, else filters to provincial.\n",
        "    \"\"\"\n",
        "    # df.dropna(inplace=True)\n",
        "    df[\"Geolocation\"] = df[\"Geolocation\"].str.lstrip(\".\").str.lower()\n",
        "    df[\"Geolocation\"] = df[\"Geolocation\"].replace(region_mapping)\n",
        "    df = df[df[\"Geolocation\"].apply(is_region)] if regional else df[df[\"Geolocation\"].apply(is_province)]\n",
        "    df = df[df[\"Commodity\"] == commodity]\n",
        "    df[\"Commodity\"] = rename_to # Rename everything in Commodity to Rice\n",
        "    if melt_value:\n",
        "        df = df.melt(id_vars=[\"Geolocation\", \"Commodity\"], value_vars=df.columns[2:], var_name=\"Period\", value_name=melt_value)\n",
        "    return df\n",
        "\n",
        "def preprocess_baesians_2(df: pd.DataFrame, commodity_map: dict, melt_value: str|None):\n",
        "    \"\"\"Assumes Geolocation | Commodity | Period ... columns.\n",
        "    Filters to raw commodity name (key in commodity_map), and then renames to standard commodity_map[key]\n",
        "    Ex. {\"RICE, REGULAR-MILLED, 1 KG\" : \"Rice\"}\n",
        "    \"\"\"\n",
        "    df[\"Geolocation\"] = df[\"Geolocation\"].str.lstrip(\".\").str.lower()\n",
        "    df[\"Geolocation\"] = df[\"Geolocation\"].replace(region_mapping)\n",
        "    df = df[df[\"Commodity\"].isin(commodity_map)]\n",
        "    df.loc[:, \"Commodity\"] = df[\"Commodity\"].replace(commodity_map)\n",
        "    if melt_value:\n",
        "        df = df.melt(id_vars=[\"Geolocation\", \"Commodity\"], value_vars=df.columns[2:], var_name=\"Period\", value_name=melt_value)\n",
        "    return df\n",
        "\n",
        "def filter_to_regions(df: pd.DataFrame):\n",
        "    return df[df[\"Geolocation\"].apply(is_region)]\n",
        "    \n",
        "def filter_to_provinces(df: pd.DataFrame):\n",
        "    return df[df[\"Geolocation\"].apply(is_province)]"
      ]
    },
    {
      "cell_type": "code",
      "execution_count": 33,
      "metadata": {},
      "outputs": [],
      "source": [
        "# @title OTG Cleanup\n",
        "# VALUE OF PRODUCTION (5/24/2024)\n",
        "datapath = Path(\"datasets/agricultural-indicators/value-of-production/\")\n",
        "writepath = Path(\"datasets\")\n",
        "\n",
        "files = list(datapath.glob(\"*.csv\"))\n",
        "df = pd.DataFrame()\n",
        "for file in files:\n",
        "    with open(file) as f:\n",
        "        region = f.readlines()[0].split(':')[0].lstrip(\"\\\"\")\n",
        "        if region == u\"\\ufeffTest\\n\":\n",
        "            region = \"Cordillera Administrative Region (CAR)\"\n",
        "        tdf = pd.read_csv(file, skiprows=1, na_values=\".\")\n",
        "        tdf[\"Geolocation\"] = region\n",
        "        df = pd.concat([df, tdf])\n",
        "df[\"Subsector\"] = \"Rice\"\n",
        "df.drop(columns=[\"Type of Valuation\"], inplace=True)\n",
        "df.rename({\"Subsector\": \"Commodity\"}, axis=1, inplace=True)\n",
        "\n",
        "# Imputation of VOP df\n",
        "imp = SimpleImputer(missing_values=pd.NA, strategy='mean')\n",
        "imp.fit(df.iloc[:, 1:-1])\n",
        "df[df.columns[1:-1]] = imp.transform(df.iloc[:, 1:-1])\n",
        "df_val_of_prod = df\n",
        "\n",
        "# ANNUAL RICE STOCKS (5/24/2024) NOTE: Perhaps try to match this with the prices as this has monthly, for national only\n",
        "df = read_csv_to_df(\"datasets/agricultural-indicators/stocks-palay-corn_yearly_1980-2024.csv\")\n",
        "df.dropna(inplace=True)\n",
        "df = drop_rows_with_zeros(df, ref_col_idx=2, all_zeros=True)\n",
        "df = df[df[\"Sector\"] == \"Rice: Total Stock\"]\n",
        "df[\"Sector\"] = \"Rice\"\n",
        "df = pd.concat([df.iloc[:, :2], df.mean(axis=1, numeric_only=True)], axis=1)\n",
        "df.rename(columns={\"Sector\": \"Commodity\", \"Year\": \"Period\", 0: \"Stocks\"}, inplace=True)\n",
        "df[\"Period\"] = df[\"Period\"].astype(object)\n",
        "df = df[df[\"Period\"].isin(range(2012, 2024))]\n",
        "df_stocks = df.set_index(\"Period\", drop=True)"
      ]
    },
    {
      "cell_type": "markdown",
      "metadata": {
        "id": "yv0jREFhuh32"
      },
      "source": [
        "# Baesian Plots\n"
      ]
    },
    {
      "cell_type": "markdown",
      "metadata": {
        "id": "JToPchIbvMj_"
      },
      "source": [
        "Hypotheses:\n",
        "- **H0.1:** There is no significant difference in the productivity of major food crops when grouped according to their crop type, geolocation, and/or market profile.\n",
        "- **H0.2:** There is no significant relationship between market conditions and food crop production.\n",
        "\n",
        "Goal: Visually and statistically assess the relationship between market indicators and crop yield indicators.\n",
        "\n",
        "Visual tests are dual plots and scatterplots. Statistics for relationship testing: contingency tables and t-tests (?)."
      ]
    },
    {
      "cell_type": "code",
      "execution_count": 9,
      "metadata": {},
      "outputs": [
        {
          "name": "stdout",
          "output_type": "stream",
          "text": [
            "p value is 0.10319714047309392\n",
            "Independent (H0 holds true)\n"
          ]
        }
      ],
      "source": [
        "# Sample Relationship Test\n",
        "data = [[207, 282, 241], [234, 242, 232]]\n",
        "stat, p, dof, expected = chi2_contingency(data)\n",
        " \n",
        "# interpret p-value\n",
        "alpha = 0.05\n",
        "print(\"p value is \" + str(p))\n",
        "if p <= alpha:\n",
        "    print('Dependent (reject H0)')\n",
        "else:\n",
        "    print('Independent (H0 holds true)')"
      ]
    },
    {
      "cell_type": "markdown",
      "metadata": {},
      "source": [
        "## Data Overview\n",
        "\n",
        "Selected major crops:\n",
        "- Rice / Palay\n",
        "- Corn / Maize\n",
        "- Sweet Potato / Camote\n",
        "- Mongo / Monggo / Mung Beans\n",
        "- Banana\n",
        "- Coconut\n",
        "- Onion\n",
        "- Garlic\n",
        "- Sugarcane"
      ]
    },
    {
      "cell_type": "code",
      "execution_count": 44,
      "metadata": {},
      "outputs": [
        {
          "data": {
            "application/vnd.plotly.v1+json": {
              "config": {
                "plotlyServerURL": "https://plot.ly"
              },
              "data": [
                {
                  "hovertemplate": "Commodity=Irrigated Palay<br>Period=%{x}<br>Volume=%{y}<extra></extra>",
                  "legendgroup": "Irrigated Palay",
                  "line": {
                    "color": "#636efa",
                    "dash": "solid"
                  },
                  "marker": {
                    "symbol": "circle"
                  },
                  "mode": "lines",
                  "name": "Irrigated Palay",
                  "orientation": "v",
                  "showlegend": true,
                  "type": "scatter",
                  "x": [
                    "1987",
                    "1988",
                    "1989",
                    "1990",
                    "1991",
                    "1992",
                    "1993",
                    "1994",
                    "1995",
                    "1996",
                    "1997",
                    "1998",
                    "1999",
                    "2000",
                    "2001",
                    "2002",
                    "2003",
                    "2004",
                    "2005",
                    "2006",
                    "2007",
                    "2008",
                    "2009",
                    "2010",
                    "2011",
                    "2012",
                    "2013",
                    "2014",
                    "2015",
                    "2016",
                    "2017",
                    "2018",
                    "2019",
                    "2020",
                    "2021",
                    "2022",
                    "2023",
                    "2024"
                  ],
                  "xaxis": "x",
                  "y": [
                    5809108,
                    6105670,
                    6591818,
                    6604826,
                    6831737,
                    6611732,
                    6729559,
                    7511096,
                    7598555,
                    8233633,
                    8476448,
                    6681158,
                    8917882,
                    9412676,
                    9790260,
                    9949173,
                    10250223,
                    10941836,
                    11233793,
                    11594933,
                    12269390,
                    12556150,
                    12083264,
                    11992459,
                    12358931,
                    13396483.3,
                    13823149.43,
                    14405716.15,
                    13937924.34,
                    13539873.38,
                    14557318.9,
                    14347993.41,
                    14468944.63,
                    14571765.18,
                    15094053.21,
                    14938688.72,
                    15279701.81,
                    ".."
                  ],
                  "yaxis": "y"
                },
                {
                  "hovertemplate": "Commodity=Rainfed Palay<br>Period=%{x}<br>Volume=%{y}<extra></extra>",
                  "legendgroup": "Rainfed Palay",
                  "line": {
                    "color": "#EF553B",
                    "dash": "solid"
                  },
                  "marker": {
                    "symbol": "circle"
                  },
                  "mode": "lines",
                  "name": "Rainfed Palay",
                  "orientation": "v",
                  "showlegend": true,
                  "type": "scatter",
                  "x": [
                    "1987",
                    "1988",
                    "1989",
                    "1990",
                    "1991",
                    "1992",
                    "1993",
                    "1994",
                    "1995",
                    "1996",
                    "1997",
                    "1998",
                    "1999",
                    "2000",
                    "2001",
                    "2002",
                    "2003",
                    "2004",
                    "2005",
                    "2006",
                    "2007",
                    "2008",
                    "2009",
                    "2010",
                    "2011",
                    "2012",
                    "2013",
                    "2014",
                    "2015",
                    "2016",
                    "2017",
                    "2018",
                    "2019",
                    "2020",
                    "2021",
                    "2022",
                    "2023",
                    "2024"
                  ],
                  "xaxis": "x",
                  "y": [
                    2730744,
                    2865360,
                    2866954,
                    2714450,
                    2841525,
                    2517208,
                    2704649,
                    3026958,
                    2942094,
                    3049935,
                    2792515,
                    1873666,
                    2868743,
                    2976736,
                    3164610,
                    3321480,
                    3249661,
                    3554948,
                    3369212,
                    3731773,
                    3970804,
                    4259398,
                    4183152.5,
                    3779860,
                    4325131,
                    4636042.17,
                    4616270.3,
                    4562110.02,
                    4211913.44,
                    4087371.44,
                    4719027.73,
                    4718100.53,
                    4345882.66,
                    4723090.33,
                    4866116.99,
                    4817703.55,
                    4779860.15,
                    ".."
                  ],
                  "yaxis": "y"
                },
                {
                  "hovertemplate": "Commodity=Palay<br>Period=%{x}<br>Volume=%{y}<extra></extra>",
                  "legendgroup": "Palay",
                  "line": {
                    "color": "#00cc96",
                    "dash": "solid"
                  },
                  "marker": {
                    "symbol": "circle"
                  },
                  "mode": "lines",
                  "name": "Palay",
                  "orientation": "v",
                  "showlegend": true,
                  "type": "scatter",
                  "x": [
                    "1987",
                    "1988",
                    "1989",
                    "1990",
                    "1991",
                    "1992",
                    "1993",
                    "1994",
                    "1995",
                    "1996",
                    "1997",
                    "1998",
                    "1999",
                    "2000",
                    "2001",
                    "2002",
                    "2003",
                    "2004",
                    "2005",
                    "2006",
                    "2007",
                    "2008",
                    "2009",
                    "2010",
                    "2011",
                    "2012",
                    "2013",
                    "2014",
                    "2015",
                    "2016",
                    "2017",
                    "2018",
                    "2019",
                    "2020",
                    "2021",
                    "2022",
                    "2023",
                    "2024"
                  ],
                  "xaxis": "x",
                  "y": [
                    8539852,
                    8971030,
                    9458772,
                    9319276,
                    9673262,
                    9128940,
                    9434208,
                    10538054,
                    10540649,
                    11283568,
                    11268963,
                    8554824,
                    11786625,
                    12389412,
                    12954870,
                    13270653,
                    13499884,
                    14496784,
                    14603005,
                    15326706,
                    16240194,
                    16815548,
                    16266416.5,
                    15772319,
                    16684062,
                    18032525.47,
                    18439419.73,
                    18967826.17,
                    18149837.78,
                    17627244.82,
                    19276346.63,
                    19066093.94,
                    18814827.29,
                    19294855.51,
                    19960170.2,
                    19756392.28,
                    20059561.96,
                    ".."
                  ],
                  "yaxis": "y"
                },
                {
                  "hovertemplate": "Commodity=White Corn<br>Period=%{x}<br>Volume=%{y}<extra></extra>",
                  "legendgroup": "White Corn",
                  "line": {
                    "color": "#ab63fa",
                    "dash": "solid"
                  },
                  "marker": {
                    "symbol": "circle"
                  },
                  "mode": "lines",
                  "name": "White Corn",
                  "orientation": "v",
                  "showlegend": true,
                  "type": "scatter",
                  "x": [
                    "1987",
                    "1988",
                    "1989",
                    "1990",
                    "1991",
                    "1992",
                    "1993",
                    "1994",
                    "1995",
                    "1996",
                    "1997",
                    "1998",
                    "1999",
                    "2000",
                    "2001",
                    "2002",
                    "2003",
                    "2004",
                    "2005",
                    "2006",
                    "2007",
                    "2008",
                    "2009",
                    "2010",
                    "2011",
                    "2012",
                    "2013",
                    "2014",
                    "2015",
                    "2016",
                    "2017",
                    "2018",
                    "2019",
                    "2020",
                    "2021",
                    "2022",
                    "2023",
                    "2024"
                  ],
                  "xaxis": "x",
                  "y": [
                    2764710,
                    2858878,
                    2922913,
                    2965557,
                    2905691,
                    2699589,
                    2627049,
                    2089905,
                    1862423,
                    1883087,
                    1879209,
                    1620465,
                    1823834,
                    1889338,
                    1917654,
                    1796929,
                    2052684,
                    2227430,
                    2251617,
                    2360840,
                    2527633,
                    2254567,
                    2316434,
                    2169103,
                    2150222,
                    2165548.46,
                    2129090.51,
                    2262234.03,
                    2134673.15,
                    2022507.54,
                    2104200.99,
                    2145306.33,
                    2070887.49,
                    2107499.43,
                    2242401.12,
                    2166704.86,
                    2037394.05,
                    ".."
                  ],
                  "yaxis": "y"
                },
                {
                  "hovertemplate": "Commodity=Yellow Corn<br>Period=%{x}<br>Volume=%{y}<extra></extra>",
                  "legendgroup": "Yellow Corn",
                  "line": {
                    "color": "#FFA15A",
                    "dash": "solid"
                  },
                  "marker": {
                    "symbol": "circle"
                  },
                  "mode": "lines",
                  "name": "Yellow Corn",
                  "orientation": "v",
                  "showlegend": true,
                  "type": "scatter",
                  "x": [
                    "1987",
                    "1988",
                    "1989",
                    "1990",
                    "1991",
                    "1992",
                    "1993",
                    "1994",
                    "1995",
                    "1996",
                    "1997",
                    "1998",
                    "1999",
                    "2000",
                    "2001",
                    "2002",
                    "2003",
                    "2004",
                    "2005",
                    "2006",
                    "2007",
                    "2008",
                    "2009",
                    "2010",
                    "2011",
                    "2012",
                    "2013",
                    "2014",
                    "2015",
                    "2016",
                    "2017",
                    "2018",
                    "2019",
                    "2020",
                    "2021",
                    "2022",
                    "2023",
                    "2024"
                  ],
                  "xaxis": "x",
                  "y": [
                    1513409,
                    1569073,
                    1599282,
                    1888334,
                    1749335,
                    1919265,
                    2170928,
                    2429341,
                    2266087,
                    2268245,
                    2453208,
                    2202719,
                    2760759,
                    2621766,
                    2607358,
                    2522333,
                    2562941,
                    3185956,
                    3001543,
                    3721269,
                    4209307,
                    4673658,
                    4717599,
                    4207693,
                    4820999,
                    5241519.89,
                    5248202.79,
                    5508368.71,
                    5384082.57,
                    5196309.01,
                    5810707.5,
                    5626612.3,
                    5907957.06,
                    6011046.45,
                    6044790.01,
                    6088904.82,
                    6367610.23,
                    ".."
                  ],
                  "yaxis": "y"
                },
                {
                  "hovertemplate": "Commodity=Corn<br>Period=%{x}<br>Volume=%{y}<extra></extra>",
                  "legendgroup": "Corn",
                  "line": {
                    "color": "#19d3f3",
                    "dash": "solid"
                  },
                  "marker": {
                    "symbol": "circle"
                  },
                  "mode": "lines",
                  "name": "Corn",
                  "orientation": "v",
                  "showlegend": true,
                  "type": "scatter",
                  "x": [
                    "1987",
                    "1988",
                    "1989",
                    "1990",
                    "1991",
                    "1992",
                    "1993",
                    "1994",
                    "1995",
                    "1996",
                    "1997",
                    "1998",
                    "1999",
                    "2000",
                    "2001",
                    "2002",
                    "2003",
                    "2004",
                    "2005",
                    "2006",
                    "2007",
                    "2008",
                    "2009",
                    "2010",
                    "2011",
                    "2012",
                    "2013",
                    "2014",
                    "2015",
                    "2016",
                    "2017",
                    "2018",
                    "2019",
                    "2020",
                    "2021",
                    "2022",
                    "2023",
                    "2024"
                  ],
                  "xaxis": "x",
                  "y": [
                    4278119,
                    4427951,
                    4522195,
                    4853891,
                    4655026,
                    4618854,
                    4797977,
                    4519246,
                    4128510,
                    4151332,
                    4332417,
                    3823184,
                    4584593,
                    4511104,
                    4525012,
                    4319262,
                    4615625,
                    5413386,
                    5253160,
                    6082109,
                    6736940,
                    6928225,
                    7034033,
                    6376796,
                    6971221,
                    7407068.35,
                    7377293.3,
                    7770602.74,
                    7518755.72,
                    7218816.55,
                    7914908.49,
                    7771918.63,
                    7978844.55,
                    8118545.88,
                    8287191.13,
                    8255609.68,
                    8405004.29,
                    ".."
                  ],
                  "yaxis": "y"
                }
              ],
              "layout": {
                "legend": {
                  "title": {
                    "text": "Commodity"
                  },
                  "tracegroupgap": 0
                },
                "template": {
                  "data": {
                    "bar": [
                      {
                        "error_x": {
                          "color": "#2a3f5f"
                        },
                        "error_y": {
                          "color": "#2a3f5f"
                        },
                        "marker": {
                          "line": {
                            "color": "#E5ECF6",
                            "width": 0.5
                          },
                          "pattern": {
                            "fillmode": "overlay",
                            "size": 10,
                            "solidity": 0.2
                          }
                        },
                        "type": "bar"
                      }
                    ],
                    "barpolar": [
                      {
                        "marker": {
                          "line": {
                            "color": "#E5ECF6",
                            "width": 0.5
                          },
                          "pattern": {
                            "fillmode": "overlay",
                            "size": 10,
                            "solidity": 0.2
                          }
                        },
                        "type": "barpolar"
                      }
                    ],
                    "carpet": [
                      {
                        "aaxis": {
                          "endlinecolor": "#2a3f5f",
                          "gridcolor": "white",
                          "linecolor": "white",
                          "minorgridcolor": "white",
                          "startlinecolor": "#2a3f5f"
                        },
                        "baxis": {
                          "endlinecolor": "#2a3f5f",
                          "gridcolor": "white",
                          "linecolor": "white",
                          "minorgridcolor": "white",
                          "startlinecolor": "#2a3f5f"
                        },
                        "type": "carpet"
                      }
                    ],
                    "choropleth": [
                      {
                        "colorbar": {
                          "outlinewidth": 0,
                          "ticks": ""
                        },
                        "type": "choropleth"
                      }
                    ],
                    "contour": [
                      {
                        "colorbar": {
                          "outlinewidth": 0,
                          "ticks": ""
                        },
                        "colorscale": [
                          [
                            0,
                            "#0d0887"
                          ],
                          [
                            0.1111111111111111,
                            "#46039f"
                          ],
                          [
                            0.2222222222222222,
                            "#7201a8"
                          ],
                          [
                            0.3333333333333333,
                            "#9c179e"
                          ],
                          [
                            0.4444444444444444,
                            "#bd3786"
                          ],
                          [
                            0.5555555555555556,
                            "#d8576b"
                          ],
                          [
                            0.6666666666666666,
                            "#ed7953"
                          ],
                          [
                            0.7777777777777778,
                            "#fb9f3a"
                          ],
                          [
                            0.8888888888888888,
                            "#fdca26"
                          ],
                          [
                            1,
                            "#f0f921"
                          ]
                        ],
                        "type": "contour"
                      }
                    ],
                    "contourcarpet": [
                      {
                        "colorbar": {
                          "outlinewidth": 0,
                          "ticks": ""
                        },
                        "type": "contourcarpet"
                      }
                    ],
                    "heatmap": [
                      {
                        "colorbar": {
                          "outlinewidth": 0,
                          "ticks": ""
                        },
                        "colorscale": [
                          [
                            0,
                            "#0d0887"
                          ],
                          [
                            0.1111111111111111,
                            "#46039f"
                          ],
                          [
                            0.2222222222222222,
                            "#7201a8"
                          ],
                          [
                            0.3333333333333333,
                            "#9c179e"
                          ],
                          [
                            0.4444444444444444,
                            "#bd3786"
                          ],
                          [
                            0.5555555555555556,
                            "#d8576b"
                          ],
                          [
                            0.6666666666666666,
                            "#ed7953"
                          ],
                          [
                            0.7777777777777778,
                            "#fb9f3a"
                          ],
                          [
                            0.8888888888888888,
                            "#fdca26"
                          ],
                          [
                            1,
                            "#f0f921"
                          ]
                        ],
                        "type": "heatmap"
                      }
                    ],
                    "heatmapgl": [
                      {
                        "colorbar": {
                          "outlinewidth": 0,
                          "ticks": ""
                        },
                        "colorscale": [
                          [
                            0,
                            "#0d0887"
                          ],
                          [
                            0.1111111111111111,
                            "#46039f"
                          ],
                          [
                            0.2222222222222222,
                            "#7201a8"
                          ],
                          [
                            0.3333333333333333,
                            "#9c179e"
                          ],
                          [
                            0.4444444444444444,
                            "#bd3786"
                          ],
                          [
                            0.5555555555555556,
                            "#d8576b"
                          ],
                          [
                            0.6666666666666666,
                            "#ed7953"
                          ],
                          [
                            0.7777777777777778,
                            "#fb9f3a"
                          ],
                          [
                            0.8888888888888888,
                            "#fdca26"
                          ],
                          [
                            1,
                            "#f0f921"
                          ]
                        ],
                        "type": "heatmapgl"
                      }
                    ],
                    "histogram": [
                      {
                        "marker": {
                          "pattern": {
                            "fillmode": "overlay",
                            "size": 10,
                            "solidity": 0.2
                          }
                        },
                        "type": "histogram"
                      }
                    ],
                    "histogram2d": [
                      {
                        "colorbar": {
                          "outlinewidth": 0,
                          "ticks": ""
                        },
                        "colorscale": [
                          [
                            0,
                            "#0d0887"
                          ],
                          [
                            0.1111111111111111,
                            "#46039f"
                          ],
                          [
                            0.2222222222222222,
                            "#7201a8"
                          ],
                          [
                            0.3333333333333333,
                            "#9c179e"
                          ],
                          [
                            0.4444444444444444,
                            "#bd3786"
                          ],
                          [
                            0.5555555555555556,
                            "#d8576b"
                          ],
                          [
                            0.6666666666666666,
                            "#ed7953"
                          ],
                          [
                            0.7777777777777778,
                            "#fb9f3a"
                          ],
                          [
                            0.8888888888888888,
                            "#fdca26"
                          ],
                          [
                            1,
                            "#f0f921"
                          ]
                        ],
                        "type": "histogram2d"
                      }
                    ],
                    "histogram2dcontour": [
                      {
                        "colorbar": {
                          "outlinewidth": 0,
                          "ticks": ""
                        },
                        "colorscale": [
                          [
                            0,
                            "#0d0887"
                          ],
                          [
                            0.1111111111111111,
                            "#46039f"
                          ],
                          [
                            0.2222222222222222,
                            "#7201a8"
                          ],
                          [
                            0.3333333333333333,
                            "#9c179e"
                          ],
                          [
                            0.4444444444444444,
                            "#bd3786"
                          ],
                          [
                            0.5555555555555556,
                            "#d8576b"
                          ],
                          [
                            0.6666666666666666,
                            "#ed7953"
                          ],
                          [
                            0.7777777777777778,
                            "#fb9f3a"
                          ],
                          [
                            0.8888888888888888,
                            "#fdca26"
                          ],
                          [
                            1,
                            "#f0f921"
                          ]
                        ],
                        "type": "histogram2dcontour"
                      }
                    ],
                    "mesh3d": [
                      {
                        "colorbar": {
                          "outlinewidth": 0,
                          "ticks": ""
                        },
                        "type": "mesh3d"
                      }
                    ],
                    "parcoords": [
                      {
                        "line": {
                          "colorbar": {
                            "outlinewidth": 0,
                            "ticks": ""
                          }
                        },
                        "type": "parcoords"
                      }
                    ],
                    "pie": [
                      {
                        "automargin": true,
                        "type": "pie"
                      }
                    ],
                    "scatter": [
                      {
                        "fillpattern": {
                          "fillmode": "overlay",
                          "size": 10,
                          "solidity": 0.2
                        },
                        "type": "scatter"
                      }
                    ],
                    "scatter3d": [
                      {
                        "line": {
                          "colorbar": {
                            "outlinewidth": 0,
                            "ticks": ""
                          }
                        },
                        "marker": {
                          "colorbar": {
                            "outlinewidth": 0,
                            "ticks": ""
                          }
                        },
                        "type": "scatter3d"
                      }
                    ],
                    "scattercarpet": [
                      {
                        "marker": {
                          "colorbar": {
                            "outlinewidth": 0,
                            "ticks": ""
                          }
                        },
                        "type": "scattercarpet"
                      }
                    ],
                    "scattergeo": [
                      {
                        "marker": {
                          "colorbar": {
                            "outlinewidth": 0,
                            "ticks": ""
                          }
                        },
                        "type": "scattergeo"
                      }
                    ],
                    "scattergl": [
                      {
                        "marker": {
                          "colorbar": {
                            "outlinewidth": 0,
                            "ticks": ""
                          }
                        },
                        "type": "scattergl"
                      }
                    ],
                    "scattermapbox": [
                      {
                        "marker": {
                          "colorbar": {
                            "outlinewidth": 0,
                            "ticks": ""
                          }
                        },
                        "type": "scattermapbox"
                      }
                    ],
                    "scatterpolar": [
                      {
                        "marker": {
                          "colorbar": {
                            "outlinewidth": 0,
                            "ticks": ""
                          }
                        },
                        "type": "scatterpolar"
                      }
                    ],
                    "scatterpolargl": [
                      {
                        "marker": {
                          "colorbar": {
                            "outlinewidth": 0,
                            "ticks": ""
                          }
                        },
                        "type": "scatterpolargl"
                      }
                    ],
                    "scatterternary": [
                      {
                        "marker": {
                          "colorbar": {
                            "outlinewidth": 0,
                            "ticks": ""
                          }
                        },
                        "type": "scatterternary"
                      }
                    ],
                    "surface": [
                      {
                        "colorbar": {
                          "outlinewidth": 0,
                          "ticks": ""
                        },
                        "colorscale": [
                          [
                            0,
                            "#0d0887"
                          ],
                          [
                            0.1111111111111111,
                            "#46039f"
                          ],
                          [
                            0.2222222222222222,
                            "#7201a8"
                          ],
                          [
                            0.3333333333333333,
                            "#9c179e"
                          ],
                          [
                            0.4444444444444444,
                            "#bd3786"
                          ],
                          [
                            0.5555555555555556,
                            "#d8576b"
                          ],
                          [
                            0.6666666666666666,
                            "#ed7953"
                          ],
                          [
                            0.7777777777777778,
                            "#fb9f3a"
                          ],
                          [
                            0.8888888888888888,
                            "#fdca26"
                          ],
                          [
                            1,
                            "#f0f921"
                          ]
                        ],
                        "type": "surface"
                      }
                    ],
                    "table": [
                      {
                        "cells": {
                          "fill": {
                            "color": "#EBF0F8"
                          },
                          "line": {
                            "color": "white"
                          }
                        },
                        "header": {
                          "fill": {
                            "color": "#C8D4E3"
                          },
                          "line": {
                            "color": "white"
                          }
                        },
                        "type": "table"
                      }
                    ]
                  },
                  "layout": {
                    "annotationdefaults": {
                      "arrowcolor": "#2a3f5f",
                      "arrowhead": 0,
                      "arrowwidth": 1
                    },
                    "autotypenumbers": "strict",
                    "coloraxis": {
                      "colorbar": {
                        "outlinewidth": 0,
                        "ticks": ""
                      }
                    },
                    "colorscale": {
                      "diverging": [
                        [
                          0,
                          "#8e0152"
                        ],
                        [
                          0.1,
                          "#c51b7d"
                        ],
                        [
                          0.2,
                          "#de77ae"
                        ],
                        [
                          0.3,
                          "#f1b6da"
                        ],
                        [
                          0.4,
                          "#fde0ef"
                        ],
                        [
                          0.5,
                          "#f7f7f7"
                        ],
                        [
                          0.6,
                          "#e6f5d0"
                        ],
                        [
                          0.7,
                          "#b8e186"
                        ],
                        [
                          0.8,
                          "#7fbc41"
                        ],
                        [
                          0.9,
                          "#4d9221"
                        ],
                        [
                          1,
                          "#276419"
                        ]
                      ],
                      "sequential": [
                        [
                          0,
                          "#0d0887"
                        ],
                        [
                          0.1111111111111111,
                          "#46039f"
                        ],
                        [
                          0.2222222222222222,
                          "#7201a8"
                        ],
                        [
                          0.3333333333333333,
                          "#9c179e"
                        ],
                        [
                          0.4444444444444444,
                          "#bd3786"
                        ],
                        [
                          0.5555555555555556,
                          "#d8576b"
                        ],
                        [
                          0.6666666666666666,
                          "#ed7953"
                        ],
                        [
                          0.7777777777777778,
                          "#fb9f3a"
                        ],
                        [
                          0.8888888888888888,
                          "#fdca26"
                        ],
                        [
                          1,
                          "#f0f921"
                        ]
                      ],
                      "sequentialminus": [
                        [
                          0,
                          "#0d0887"
                        ],
                        [
                          0.1111111111111111,
                          "#46039f"
                        ],
                        [
                          0.2222222222222222,
                          "#7201a8"
                        ],
                        [
                          0.3333333333333333,
                          "#9c179e"
                        ],
                        [
                          0.4444444444444444,
                          "#bd3786"
                        ],
                        [
                          0.5555555555555556,
                          "#d8576b"
                        ],
                        [
                          0.6666666666666666,
                          "#ed7953"
                        ],
                        [
                          0.7777777777777778,
                          "#fb9f3a"
                        ],
                        [
                          0.8888888888888888,
                          "#fdca26"
                        ],
                        [
                          1,
                          "#f0f921"
                        ]
                      ]
                    },
                    "colorway": [
                      "#636efa",
                      "#EF553B",
                      "#00cc96",
                      "#ab63fa",
                      "#FFA15A",
                      "#19d3f3",
                      "#FF6692",
                      "#B6E880",
                      "#FF97FF",
                      "#FECB52"
                    ],
                    "font": {
                      "color": "#2a3f5f"
                    },
                    "geo": {
                      "bgcolor": "white",
                      "lakecolor": "white",
                      "landcolor": "#E5ECF6",
                      "showlakes": true,
                      "showland": true,
                      "subunitcolor": "white"
                    },
                    "hoverlabel": {
                      "align": "left"
                    },
                    "hovermode": "closest",
                    "mapbox": {
                      "style": "light"
                    },
                    "paper_bgcolor": "white",
                    "plot_bgcolor": "#E5ECF6",
                    "polar": {
                      "angularaxis": {
                        "gridcolor": "white",
                        "linecolor": "white",
                        "ticks": ""
                      },
                      "bgcolor": "#E5ECF6",
                      "radialaxis": {
                        "gridcolor": "white",
                        "linecolor": "white",
                        "ticks": ""
                      }
                    },
                    "scene": {
                      "xaxis": {
                        "backgroundcolor": "#E5ECF6",
                        "gridcolor": "white",
                        "gridwidth": 2,
                        "linecolor": "white",
                        "showbackground": true,
                        "ticks": "",
                        "zerolinecolor": "white"
                      },
                      "yaxis": {
                        "backgroundcolor": "#E5ECF6",
                        "gridcolor": "white",
                        "gridwidth": 2,
                        "linecolor": "white",
                        "showbackground": true,
                        "ticks": "",
                        "zerolinecolor": "white"
                      },
                      "zaxis": {
                        "backgroundcolor": "#E5ECF6",
                        "gridcolor": "white",
                        "gridwidth": 2,
                        "linecolor": "white",
                        "showbackground": true,
                        "ticks": "",
                        "zerolinecolor": "white"
                      }
                    },
                    "shapedefaults": {
                      "line": {
                        "color": "#2a3f5f"
                      }
                    },
                    "ternary": {
                      "aaxis": {
                        "gridcolor": "white",
                        "linecolor": "white",
                        "ticks": ""
                      },
                      "baxis": {
                        "gridcolor": "white",
                        "linecolor": "white",
                        "ticks": ""
                      },
                      "bgcolor": "#E5ECF6",
                      "caxis": {
                        "gridcolor": "white",
                        "linecolor": "white",
                        "ticks": ""
                      }
                    },
                    "title": {
                      "x": 0.05
                    },
                    "xaxis": {
                      "automargin": true,
                      "gridcolor": "white",
                      "linecolor": "white",
                      "ticks": "",
                      "title": {
                        "standoff": 15
                      },
                      "zerolinecolor": "white",
                      "zerolinewidth": 2
                    },
                    "yaxis": {
                      "automargin": true,
                      "gridcolor": "white",
                      "linecolor": "white",
                      "ticks": "",
                      "title": {
                        "standoff": 15
                      },
                      "zerolinecolor": "white",
                      "zerolinewidth": 2
                    }
                  }
                },
                "title": {
                  "text": "Annual Volume of Production of Rice and Corn<br>National average in metric tons"
                },
                "xaxis": {
                  "anchor": "y",
                  "domain": [
                    0,
                    1
                  ],
                  "title": {
                    "text": "Period"
                  }
                },
                "yaxis": {
                  "anchor": "x",
                  "domain": [
                    0,
                    1
                  ],
                  "title": {
                    "text": "Volume of Production"
                  }
                }
              }
            }
          },
          "metadata": {},
          "output_type": "display_data"
        },
        {
          "data": {
            "application/vnd.plotly.v1+json": {
              "config": {
                "plotlyServerURL": "https://plot.ly"
              },
              "data": [
                {
                  "hovertemplate": "Commodity=Coconut (w/ husk)<br>Period=%{x}<br>Volume=%{y}<extra></extra>",
                  "legendgroup": "Coconut (w/ husk)",
                  "line": {
                    "color": "#636efa",
                    "dash": "solid"
                  },
                  "marker": {
                    "symbol": "circle"
                  },
                  "mode": "lines",
                  "name": "Coconut (w/ husk)",
                  "orientation": "v",
                  "showlegend": true,
                  "type": "scatter",
                  "x": [
                    "2010",
                    "2011",
                    "2012",
                    "2013",
                    "2014",
                    "2015",
                    "2016",
                    "2017",
                    "2018",
                    "2019",
                    "2020",
                    "2021",
                    "2022",
                    "2023"
                  ],
                  "xaxis": "x",
                  "y": [
                    15510282.61,
                    15244609.3,
                    15863800.92,
                    15354334.19,
                    14696298.35,
                    14735188.98,
                    13825080.08,
                    14049131.06,
                    14726165.43,
                    14765057.06,
                    14490922.69,
                    14717293.91,
                    14931158.3,
                    14892628.4
                  ],
                  "yaxis": "y"
                },
                {
                  "hovertemplate": "Commodity=Coconut Mature<br>Period=%{x}<br>Volume=%{y}<extra></extra>",
                  "legendgroup": "Coconut Mature",
                  "line": {
                    "color": "#EF553B",
                    "dash": "solid"
                  },
                  "marker": {
                    "symbol": "circle"
                  },
                  "mode": "lines",
                  "name": "Coconut Mature",
                  "orientation": "v",
                  "showlegend": true,
                  "type": "scatter",
                  "x": [
                    "2010",
                    "2011",
                    "2012",
                    "2013",
                    "2014",
                    "2015",
                    "2016",
                    "2017",
                    "2018",
                    "2019",
                    "2020",
                    "2021",
                    "2022",
                    "2023"
                  ],
                  "xaxis": "x",
                  "y": [
                    15192961.87,
                    14933341.7,
                    15528819.03,
                    15017286.2,
                    14368593.72,
                    14401080.87,
                    13485513.69,
                    13686635.8,
                    14352340.63,
                    14374835.6,
                    14096773.96,
                    14321201.83,
                    14532517.78,
                    14466385.53
                  ],
                  "yaxis": "y"
                },
                {
                  "hovertemplate": "Commodity=Coconut Young<br>Period=%{x}<br>Volume=%{y}<extra></extra>",
                  "legendgroup": "Coconut Young",
                  "line": {
                    "color": "#00cc96",
                    "dash": "solid"
                  },
                  "marker": {
                    "symbol": "circle"
                  },
                  "mode": "lines",
                  "name": "Coconut Young",
                  "orientation": "v",
                  "showlegend": true,
                  "type": "scatter",
                  "x": [
                    "2010",
                    "2011",
                    "2012",
                    "2013",
                    "2014",
                    "2015",
                    "2016",
                    "2017",
                    "2018",
                    "2019",
                    "2020",
                    "2021",
                    "2022",
                    "2023"
                  ],
                  "xaxis": "x",
                  "y": [
                    317320.74,
                    311267.6,
                    334981.9,
                    337047.99,
                    327704.63,
                    334108.12,
                    339566.39,
                    362495.27,
                    373824.81,
                    390221.46,
                    394148.72,
                    396092.08,
                    398640.51,
                    426242.87
                  ],
                  "yaxis": "y"
                },
                {
                  "hovertemplate": "Commodity=Sugarcane<br>Period=%{x}<br>Volume=%{y}<extra></extra>",
                  "legendgroup": "Sugarcane",
                  "line": {
                    "color": "#ab63fa",
                    "dash": "solid"
                  },
                  "marker": {
                    "symbol": "circle"
                  },
                  "mode": "lines",
                  "name": "Sugarcane",
                  "orientation": "v",
                  "showlegend": true,
                  "type": "scatter",
                  "x": [
                    "2010",
                    "2011",
                    "2012",
                    "2013",
                    "2014",
                    "2015",
                    "2016",
                    "2017",
                    "2018",
                    "2019",
                    "2020",
                    "2021",
                    "2022",
                    "2023"
                  ],
                  "xaxis": "x",
                  "y": [
                    17929269.47,
                    28376517.84,
                    26395914.59,
                    24584841.5,
                    25029880.01,
                    22926437.34,
                    22370546.22,
                    29286893.18,
                    24730819.95,
                    20719291.05,
                    24398941.25,
                    26277401.74,
                    23455403.5,
                    21649056.78
                  ],
                  "yaxis": "y"
                },
                {
                  "hovertemplate": "Commodity=Sugarcane for Centrifugal Sugar<br>Period=%{x}<br>Volume=%{y}<extra></extra>",
                  "legendgroup": "Sugarcane for Centrifugal Sugar",
                  "line": {
                    "color": "#FFA15A",
                    "dash": "solid"
                  },
                  "marker": {
                    "symbol": "circle"
                  },
                  "mode": "lines",
                  "name": "Sugarcane for Centrifugal Sugar",
                  "orientation": "v",
                  "showlegend": true,
                  "type": "scatter",
                  "x": [
                    "2010",
                    "2011",
                    "2012",
                    "2013",
                    "2014",
                    "2015",
                    "2016",
                    "2017",
                    "2018",
                    "2019",
                    "2020",
                    "2021",
                    "2022",
                    "2023"
                  ],
                  "xaxis": "x",
                  "y": [
                    17579355.22,
                    28150186,
                    26132463,
                    24069602.99,
                    24352855,
                    22262862,
                    21785667,
                    28794354,
                    24287724,
                    20251228,
                    23964235,
                    25834224,
                    23003845,
                    21208408
                  ],
                  "yaxis": "y"
                },
                {
                  "hovertemplate": "Commodity=Sugarcane for Ethanol<br>Period=%{x}<br>Volume=%{y}<extra></extra>",
                  "legendgroup": "Sugarcane for Ethanol",
                  "line": {
                    "color": "#19d3f3",
                    "dash": "solid"
                  },
                  "marker": {
                    "symbol": "circle"
                  },
                  "mode": "lines",
                  "name": "Sugarcane for Ethanol",
                  "orientation": "v",
                  "showlegend": true,
                  "type": "scatter",
                  "x": [
                    "2010",
                    "2011",
                    "2012",
                    "2013",
                    "2014",
                    "2015",
                    "2016",
                    "2017",
                    "2018",
                    "2019",
                    "2020",
                    "2021",
                    "2022",
                    "2023"
                  ],
                  "xaxis": "x",
                  "y": [
                    118623.38,
                    0,
                    40878.38,
                    290487.47,
                    457915,
                    444979.96,
                    387943.39,
                    294653.68,
                    244646.97,
                    266089.93,
                    231342.42,
                    240419.07,
                    242016.91,
                    237057.99
                  ],
                  "yaxis": "y"
                },
                {
                  "hovertemplate": "Commodity=Sugarcane for Panocha/Muscovado<br>Period=%{x}<br>Volume=%{y}<extra></extra>",
                  "legendgroup": "Sugarcane for Panocha/Muscovado",
                  "line": {
                    "color": "#FF6692",
                    "dash": "solid"
                  },
                  "marker": {
                    "symbol": "circle"
                  },
                  "mode": "lines",
                  "name": "Sugarcane for Panocha/Muscovado",
                  "orientation": "v",
                  "showlegend": true,
                  "type": "scatter",
                  "x": [
                    "2010",
                    "2011",
                    "2012",
                    "2013",
                    "2014",
                    "2015",
                    "2016",
                    "2017",
                    "2018",
                    "2019",
                    "2020",
                    "2021",
                    "2022",
                    "2023"
                  ],
                  "xaxis": "x",
                  "y": [
                    225450.49,
                    220715.93,
                    216971.84,
                    219181.23,
                    213322.12,
                    213023.97,
                    191304.93,
                    192363.76,
                    192755.82,
                    196015.63,
                    197160.14,
                    196278.16,
                    202857.83,
                    196938.75
                  ],
                  "yaxis": "y"
                },
                {
                  "hovertemplate": "Commodity=Sugarcane for Chewing<br>Period=%{x}<br>Volume=%{y}<extra></extra>",
                  "legendgroup": "Sugarcane for Chewing",
                  "line": {
                    "color": "#B6E880",
                    "dash": "solid"
                  },
                  "marker": {
                    "symbol": "circle"
                  },
                  "mode": "lines",
                  "name": "Sugarcane for Chewing",
                  "orientation": "v",
                  "showlegend": true,
                  "type": "scatter",
                  "x": [
                    "2010",
                    "2011",
                    "2012",
                    "2013",
                    "2014",
                    "2015",
                    "2016",
                    "2017",
                    "2018",
                    "2019",
                    "2020",
                    "2021",
                    "2022",
                    "2023"
                  ],
                  "xaxis": "x",
                  "y": [
                    1372.73,
                    1241.22,
                    1130.15,
                    967.17,
                    862.14,
                    792.53,
                    714.72,
                    699.94,
                    687.31,
                    655.89,
                    641.48,
                    613.25,
                    573.53,
                    559.64
                  ],
                  "yaxis": "y"
                },
                {
                  "hovertemplate": "Commodity=Sugarcane for Basi/Vinegar<br>Period=%{x}<br>Volume=%{y}<extra></extra>",
                  "legendgroup": "Sugarcane for Basi/Vinegar",
                  "line": {
                    "color": "#FF97FF",
                    "dash": "solid"
                  },
                  "marker": {
                    "symbol": "circle"
                  },
                  "mode": "lines",
                  "name": "Sugarcane for Basi/Vinegar",
                  "orientation": "v",
                  "showlegend": true,
                  "type": "scatter",
                  "x": [
                    "2010",
                    "2011",
                    "2012",
                    "2013",
                    "2014",
                    "2015",
                    "2016",
                    "2017",
                    "2018",
                    "2019",
                    "2020",
                    "2021",
                    "2022",
                    "2023"
                  ],
                  "xaxis": "x",
                  "y": [
                    4467.65,
                    4374.68,
                    4471.22,
                    4602.63,
                    4925.74,
                    4778.89,
                    4916.17,
                    4821.81,
                    5005.85,
                    5301.59,
                    5562.21,
                    5867.26,
                    6110.23,
                    6092.4
                  ],
                  "yaxis": "y"
                },
                {
                  "hovertemplate": "Commodity=Green Corn Stalk<br>Period=%{x}<br>Volume=%{y}<extra></extra>",
                  "legendgroup": "Green Corn Stalk",
                  "line": {
                    "color": "#FECB52",
                    "dash": "solid"
                  },
                  "marker": {
                    "symbol": "circle"
                  },
                  "mode": "lines",
                  "name": "Green Corn Stalk",
                  "orientation": "v",
                  "showlegend": true,
                  "type": "scatter",
                  "x": [
                    "2010",
                    "2011",
                    "2012",
                    "2013",
                    "2014",
                    "2015",
                    "2016",
                    "2017",
                    "2018",
                    "2019",
                    "2020",
                    "2021",
                    "2022",
                    "2023"
                  ],
                  "xaxis": "x",
                  "y": [
                    71975.23,
                    71945.93,
                    71950.58,
                    72556.08,
                    72466.25,
                    74021.29,
                    77755.54,
                    76696.87,
                    87785.59,
                    98311.46,
                    98613.22,
                    101091.58,
                    99095.19,
                    98871.55
                  ],
                  "yaxis": "y"
                },
                {
                  "hovertemplate": "Commodity=Rice Hay<br>Period=%{x}<br>Volume=%{y}<extra></extra>",
                  "legendgroup": "Rice Hay",
                  "line": {
                    "color": "#636efa",
                    "dash": "solid"
                  },
                  "marker": {
                    "symbol": "circle"
                  },
                  "mode": "lines",
                  "name": "Rice Hay",
                  "orientation": "v",
                  "showlegend": true,
                  "type": "scatter",
                  "x": [
                    "2010",
                    "2011",
                    "2012",
                    "2013",
                    "2014",
                    "2015",
                    "2016",
                    "2017",
                    "2018",
                    "2019",
                    "2020",
                    "2021",
                    "2022",
                    "2023"
                  ],
                  "xaxis": "x",
                  "y": [
                    173859.26,
                    176885.09,
                    207858.47,
                    226926.41,
                    251410.31,
                    256004.85,
                    252603.88,
                    260970.03,
                    258607.04,
                    257838.04,
                    241270.32,
                    241353.75,
                    246799.3,
                    244496.02
                  ],
                  "yaxis": "y"
                },
                {
                  "hovertemplate": "Commodity=Coconut Sap/Tuba<br>Period=%{x}<br>Volume=%{y}<extra></extra>",
                  "legendgroup": "Coconut Sap/Tuba",
                  "line": {
                    "color": "#EF553B",
                    "dash": "solid"
                  },
                  "marker": {
                    "symbol": "circle"
                  },
                  "mode": "lines",
                  "name": "Coconut Sap/Tuba",
                  "orientation": "v",
                  "showlegend": true,
                  "type": "scatter",
                  "x": [
                    "2010",
                    "2011",
                    "2012",
                    "2013",
                    "2014",
                    "2015",
                    "2016",
                    "2017",
                    "2018",
                    "2019",
                    "2020",
                    "2021",
                    "2022",
                    "2023"
                  ],
                  "xaxis": "x",
                  "y": [
                    155941.46,
                    154703.51,
                    152955.88,
                    140319.47,
                    123114.82,
                    123421.37,
                    121360.85,
                    123706.28,
                    122238.48,
                    120548.22,
                    118126.51,
                    119940.12,
                    116180.32,
                    104103.6
                  ],
                  "yaxis": "y"
                },
                {
                  "hovertemplate": "Commodity=Coconut Leaves<br>Period=%{x}<br>Volume=%{y}<extra></extra>",
                  "legendgroup": "Coconut Leaves",
                  "line": {
                    "color": "#00cc96",
                    "dash": "solid"
                  },
                  "marker": {
                    "symbol": "circle"
                  },
                  "mode": "lines",
                  "name": "Coconut Leaves",
                  "orientation": "v",
                  "showlegend": true,
                  "type": "scatter",
                  "x": [
                    "2010",
                    "2011",
                    "2012",
                    "2013",
                    "2014",
                    "2015",
                    "2016",
                    "2017",
                    "2018",
                    "2019",
                    "2020",
                    "2021",
                    "2022",
                    "2023"
                  ],
                  "xaxis": "x",
                  "y": [
                    76576.95,
                    76537.85,
                    74235.34,
                    63906.37,
                    63398.01,
                    63722.47,
                    63448.59,
                    63336.65,
                    63228.35,
                    62590.64,
                    60464.77,
                    59525.82,
                    55970.81,
                    59698.08
                  ],
                  "yaxis": "y"
                },
                {
                  "hovertemplate": "Commodity=Banana Leaves<br>Period=%{x}<br>Volume=%{y}<extra></extra>",
                  "legendgroup": "Banana Leaves",
                  "line": {
                    "color": "#ab63fa",
                    "dash": "solid"
                  },
                  "marker": {
                    "symbol": "circle"
                  },
                  "mode": "lines",
                  "name": "Banana Leaves",
                  "orientation": "v",
                  "showlegend": true,
                  "type": "scatter",
                  "x": [
                    "2010",
                    "2011",
                    "2012",
                    "2013",
                    "2014",
                    "2015",
                    "2016",
                    "2017",
                    "2018",
                    "2019",
                    "2020",
                    "2021",
                    "2022",
                    "2023"
                  ],
                  "xaxis": "x",
                  "y": [
                    7490.99,
                    7506.68,
                    7623.56,
                    7476.34,
                    7533.26,
                    7711.35,
                    7712.09,
                    7855.15,
                    7981.44,
                    7975.69,
                    7894.54,
                    7902.52,
                    7870.61,
                    7915.25
                  ],
                  "yaxis": "y"
                },
                {
                  "hovertemplate": "Commodity=D.Sanderiana White (Whitecorn)<br>Period=%{x}<br>Volume=%{y}<extra></extra>",
                  "legendgroup": "D.Sanderiana White (Whitecorn)",
                  "line": {
                    "color": "#FFA15A",
                    "dash": "solid"
                  },
                  "marker": {
                    "symbol": "circle"
                  },
                  "mode": "lines",
                  "name": "D.Sanderiana White (Whitecorn)",
                  "orientation": "v",
                  "showlegend": true,
                  "type": "scatter",
                  "x": [
                    "2010",
                    "2011",
                    "2012",
                    "2013",
                    "2014",
                    "2015",
                    "2016",
                    "2017",
                    "2018",
                    "2019",
                    "2020",
                    "2021",
                    "2022",
                    "2023"
                  ],
                  "xaxis": "x",
                  "y": [
                    109.9,
                    110.65,
                    112.91,
                    113.6,
                    109.95,
                    106.23,
                    109.24,
                    101.95,
                    100.58,
                    100.59,
                    100.62,
                    100.65,
                    99.37,
                    98.52
                  ],
                  "yaxis": "y"
                },
                {
                  "hovertemplate": "Commodity=Banana<br>Period=%{x}<br>Volume=%{y}<extra></extra>",
                  "legendgroup": "Banana",
                  "line": {
                    "color": "#19d3f3",
                    "dash": "solid"
                  },
                  "marker": {
                    "symbol": "circle"
                  },
                  "mode": "lines",
                  "name": "Banana",
                  "orientation": "v",
                  "showlegend": true,
                  "type": "scatter",
                  "x": [
                    "2010",
                    "2011",
                    "2012",
                    "2013",
                    "2014",
                    "2015",
                    "2016",
                    "2017",
                    "2018",
                    "2019",
                    "2020",
                    "2021",
                    "2022",
                    "2023"
                  ],
                  "xaxis": "x",
                  "y": [
                    9101341.19,
                    9165046.44,
                    9226768.08,
                    8646416.59,
                    8884857.39,
                    9083929.03,
                    8903684.14,
                    9166334.31,
                    9358784.56,
                    9157676.11,
                    9056149.45,
                    9091308.03,
                    9013288.54,
                    9019054.71
                  ],
                  "yaxis": "y"
                },
                {
                  "hovertemplate": "Commodity=Banana Bungulan<br>Period=%{x}<br>Volume=%{y}<extra></extra>",
                  "legendgroup": "Banana Bungulan",
                  "line": {
                    "color": "#FF6692",
                    "dash": "solid"
                  },
                  "marker": {
                    "symbol": "circle"
                  },
                  "mode": "lines",
                  "name": "Banana Bungulan",
                  "orientation": "v",
                  "showlegend": true,
                  "type": "scatter",
                  "x": [
                    "2010",
                    "2011",
                    "2012",
                    "2013",
                    "2014",
                    "2015",
                    "2016",
                    "2017",
                    "2018",
                    "2019",
                    "2020",
                    "2021",
                    "2022",
                    "2023"
                  ],
                  "xaxis": "x",
                  "y": [
                    193973.86,
                    189175.17,
                    186268.52,
                    183205.7,
                    172939.16,
                    170864.02,
                    164216.61,
                    164105.79,
                    164031.31,
                    161639.49,
                    158248.02,
                    156580.36,
                    153773.18,
                    149954.46
                  ],
                  "yaxis": "y"
                },
                {
                  "hovertemplate": "Commodity=Banana Cavendish<br>Period=%{x}<br>Volume=%{y}<extra></extra>",
                  "legendgroup": "Banana Cavendish",
                  "line": {
                    "color": "#B6E880",
                    "dash": "solid"
                  },
                  "marker": {
                    "symbol": "circle"
                  },
                  "mode": "lines",
                  "name": "Banana Cavendish",
                  "orientation": "v",
                  "showlegend": true,
                  "type": "scatter",
                  "x": [
                    "2010",
                    "2011",
                    "2012",
                    "2013",
                    "2014",
                    "2015",
                    "2016",
                    "2017",
                    "2018",
                    "2019",
                    "2020",
                    "2021",
                    "2022",
                    "2023"
                  ],
                  "xaxis": "x",
                  "y": [
                    4600616.57,
                    4685997.22,
                    4694655.26,
                    4230088.74,
                    4448459.98,
                    4566907.01,
                    4638328.25,
                    4836254.18,
                    4919219.6,
                    4847454.7,
                    4743073.5,
                    4692882.23,
                    4648639.17,
                    4644698.02
                  ],
                  "yaxis": "y"
                },
                {
                  "hovertemplate": "Commodity=Banana Lakatan<br>Period=%{x}<br>Volume=%{y}<extra></extra>",
                  "legendgroup": "Banana Lakatan",
                  "line": {
                    "color": "#FF97FF",
                    "dash": "solid"
                  },
                  "marker": {
                    "symbol": "circle"
                  },
                  "mode": "lines",
                  "name": "Banana Lakatan",
                  "orientation": "v",
                  "showlegend": true,
                  "type": "scatter",
                  "x": [
                    "2010",
                    "2011",
                    "2012",
                    "2013",
                    "2014",
                    "2015",
                    "2016",
                    "2017",
                    "2018",
                    "2019",
                    "2020",
                    "2021",
                    "2022",
                    "2023"
                  ],
                  "xaxis": "x",
                  "y": [
                    921601.51,
                    926718.89,
                    942938.2,
                    930031.68,
                    954856.23,
                    970495.82,
                    898514.92,
                    910983.12,
                    929541.69,
                    909717.19,
                    925515.46,
                    961534.63,
                    966589.37,
                    946601.02
                  ],
                  "yaxis": "y"
                },
                {
                  "hovertemplate": "Commodity=Banana Latundan<br>Period=%{x}<br>Volume=%{y}<extra></extra>",
                  "legendgroup": "Banana Latundan",
                  "line": {
                    "color": "#FECB52",
                    "dash": "solid"
                  },
                  "marker": {
                    "symbol": "circle"
                  },
                  "mode": "lines",
                  "name": "Banana Latundan",
                  "orientation": "v",
                  "showlegend": true,
                  "type": "scatter",
                  "x": [
                    "2010",
                    "2011",
                    "2012",
                    "2013",
                    "2014",
                    "2015",
                    "2016",
                    "2017",
                    "2018",
                    "2019",
                    "2020",
                    "2021",
                    "2022",
                    "2023"
                  ],
                  "xaxis": "x",
                  "y": [
                    601198.83,
                    598422.86,
                    615900.6,
                    609648.68,
                    610288.76,
                    616676.33,
                    600343.18,
                    604954.64,
                    621309.21,
                    595269.78,
                    596056.56,
                    605540.73,
                    591274.16,
                    593429.12
                  ],
                  "yaxis": "y"
                },
                {
                  "hovertemplate": "Commodity=Banana Saba<br>Period=%{x}<br>Volume=%{y}<extra></extra>",
                  "legendgroup": "Banana Saba",
                  "line": {
                    "color": "#636efa",
                    "dash": "solid"
                  },
                  "marker": {
                    "symbol": "circle"
                  },
                  "mode": "lines",
                  "name": "Banana Saba",
                  "orientation": "v",
                  "showlegend": true,
                  "type": "scatter",
                  "x": [
                    "2010",
                    "2011",
                    "2012",
                    "2013",
                    "2014",
                    "2015",
                    "2016",
                    "2017",
                    "2018",
                    "2019",
                    "2020",
                    "2021",
                    "2022",
                    "2023"
                  ],
                  "xaxis": "x",
                  "y": [
                    2632692.13,
                    2616841.59,
                    2645893.29,
                    2557108.89,
                    2567494.95,
                    2627129.1,
                    2474199.11,
                    2520010.28,
                    2593101.44,
                    2512805.62,
                    2504782.16,
                    2543552.32,
                    2522309.6,
                    2554603.39
                  ],
                  "yaxis": "y"
                },
                {
                  "hovertemplate": "Commodity=Banana Others<br>Period=%{x}<br>Volume=%{y}<extra></extra>",
                  "legendgroup": "Banana Others",
                  "line": {
                    "color": "#EF553B",
                    "dash": "solid"
                  },
                  "marker": {
                    "symbol": "circle"
                  },
                  "mode": "lines",
                  "name": "Banana Others",
                  "orientation": "v",
                  "showlegend": true,
                  "type": "scatter",
                  "x": [
                    "2010",
                    "2011",
                    "2012",
                    "2013",
                    "2014",
                    "2015",
                    "2016",
                    "2017",
                    "2018",
                    "2019",
                    "2020",
                    "2021",
                    "2022",
                    "2023"
                  ],
                  "xaxis": "x",
                  "y": [
                    151258.29,
                    147890.72,
                    141112.2,
                    136332.91,
                    130818.31,
                    131856.75,
                    128082.06,
                    130026.31,
                    131581.32,
                    130789.32,
                    128473.76,
                    131217.75,
                    130703.07,
                    129768.69
                  ],
                  "yaxis": "y"
                },
                {
                  "hovertemplate": "Commodity=Cabbage<br>Period=%{x}<br>Volume=%{y}<extra></extra>",
                  "legendgroup": "Cabbage",
                  "line": {
                    "color": "#00cc96",
                    "dash": "solid"
                  },
                  "marker": {
                    "symbol": "circle"
                  },
                  "mode": "lines",
                  "name": "Cabbage",
                  "orientation": "v",
                  "showlegend": true,
                  "type": "scatter",
                  "x": [
                    "2010",
                    "2011",
                    "2012",
                    "2013",
                    "2014",
                    "2015",
                    "2016",
                    "2017",
                    "2018",
                    "2019",
                    "2020",
                    "2021",
                    "2022",
                    "2023"
                  ],
                  "xaxis": "x",
                  "y": [
                    128963.97,
                    125309.48,
                    126380.5,
                    127463.46,
                    127986.48,
                    125752.4,
                    123080.04,
                    122474.1,
                    120655.67,
                    128050.06,
                    129803.39,
                    124491.09,
                    121249.18,
                    128227.01
                  ],
                  "yaxis": "y"
                },
                {
                  "hovertemplate": "Commodity=Sweet Potato/Camote<br>Period=%{x}<br>Volume=%{y}<extra></extra>",
                  "legendgroup": "Sweet Potato/Camote",
                  "line": {
                    "color": "#ab63fa",
                    "dash": "solid"
                  },
                  "marker": {
                    "symbol": "circle"
                  },
                  "mode": "lines",
                  "name": "Sweet Potato/Camote",
                  "orientation": "v",
                  "showlegend": true,
                  "type": "scatter",
                  "x": [
                    "2010",
                    "2011",
                    "2012",
                    "2013",
                    "2014",
                    "2015",
                    "2016",
                    "2017",
                    "2018",
                    "2019",
                    "2020",
                    "2021",
                    "2022",
                    "2023"
                  ],
                  "xaxis": "x",
                  "y": [
                    541265.03,
                    516338.02,
                    516907.18,
                    528249.52,
                    519854.97,
                    535995.53,
                    529472.03,
                    537303.36,
                    525634.39,
                    525861.92,
                    546891.46,
                    545519.4,
                    558320.65,
                    523292.89
                  ],
                  "yaxis": "y"
                },
                {
                  "hovertemplate": "Commodity=Garlic (Dried bulb)<br>Period=%{x}<br>Volume=%{y}<extra></extra>",
                  "legendgroup": "Garlic (Dried bulb)",
                  "line": {
                    "color": "#FFA15A",
                    "dash": "solid"
                  },
                  "marker": {
                    "symbol": "circle"
                  },
                  "mode": "lines",
                  "name": "Garlic (Dried bulb)",
                  "orientation": "v",
                  "showlegend": true,
                  "type": "scatter",
                  "x": [
                    "2010",
                    "2011",
                    "2012",
                    "2013",
                    "2014",
                    "2015",
                    "2016",
                    "2017",
                    "2018",
                    "2019",
                    "2020",
                    "2021",
                    "2022",
                    "2023"
                  ],
                  "xaxis": "x",
                  "y": [
                    9563.2,
                    9056.15,
                    8808.43,
                    8986.35,
                    8992.86,
                    10419.52,
                    7468.97,
                    7751.05,
                    7559.12,
                    7256.32,
                    6766.62,
                    5890.14,
                    5884.93,
                    5765.06
                  ],
                  "yaxis": "y"
                },
                {
                  "hovertemplate": "Commodity=Swamp Cabbage/Kangkong<br>Period=%{x}<br>Volume=%{y}<extra></extra>",
                  "legendgroup": "Swamp Cabbage/Kangkong",
                  "line": {
                    "color": "#19d3f3",
                    "dash": "solid"
                  },
                  "marker": {
                    "symbol": "circle"
                  },
                  "mode": "lines",
                  "name": "Swamp Cabbage/Kangkong",
                  "orientation": "v",
                  "showlegend": true,
                  "type": "scatter",
                  "x": [
                    "2010",
                    "2011",
                    "2012",
                    "2013",
                    "2014",
                    "2015",
                    "2016",
                    "2017",
                    "2018",
                    "2019",
                    "2020",
                    "2021",
                    "2022",
                    "2023"
                  ],
                  "xaxis": "x",
                  "y": [
                    80800.7,
                    79571.63,
                    77408.87,
                    75438.75,
                    73106.8,
                    71970.55,
                    69649.12,
                    69144.21,
                    68873.91,
                    68316.55,
                    68201,
                    69397.54,
                    71589.71,
                    67224.2
                  ],
                  "yaxis": "y"
                },
                {
                  "hovertemplate": "Commodity=Onion (mature bulb)<br>Period=%{x}<br>Volume=%{y}<extra></extra>",
                  "legendgroup": "Onion (mature bulb)",
                  "line": {
                    "color": "#FF6692",
                    "dash": "solid"
                  },
                  "marker": {
                    "symbol": "circle"
                  },
                  "mode": "lines",
                  "name": "Onion (mature bulb)",
                  "orientation": "v",
                  "showlegend": true,
                  "type": "scatter",
                  "x": [
                    "2010",
                    "2011",
                    "2012",
                    "2013",
                    "2014",
                    "2015",
                    "2016",
                    "2017",
                    "2018",
                    "2019",
                    "2020",
                    "2021",
                    "2022",
                    "2023"
                  ],
                  "xaxis": "x",
                  "y": [
                    135377.26,
                    128387.23,
                    124889.62,
                    134239.01,
                    203651.41,
                    181207.84,
                    122593.99,
                    184426.97,
                    172665.98,
                    222082.28,
                    229539.24,
                    218047.33,
                    241033.06,
                    252487.47
                  ],
                  "yaxis": "y"
                },
                {
                  "hovertemplate": "Commodity=Onion, bermuda<br>Period=%{x}<br>Volume=%{y}<extra></extra>",
                  "legendgroup": "Onion, bermuda",
                  "line": {
                    "color": "#B6E880",
                    "dash": "solid"
                  },
                  "marker": {
                    "symbol": "circle"
                  },
                  "mode": "lines",
                  "name": "Onion, bermuda",
                  "orientation": "v",
                  "showlegend": true,
                  "type": "scatter",
                  "x": [
                    "2010",
                    "2011",
                    "2012",
                    "2013",
                    "2014",
                    "2015",
                    "2016",
                    "2017",
                    "2018",
                    "2019",
                    "2020",
                    "2021",
                    "2022",
                    "2023"
                  ],
                  "xaxis": "x",
                  "y": [
                    96473.67,
                    88224.7,
                    84800.29,
                    94867.47,
                    164178.9,
                    143005.99,
                    87365.66,
                    146798.4,
                    135738.73,
                    185131.61,
                    190974.88,
                    179650.89,
                    203678.37,
                    210100.67
                  ],
                  "yaxis": "y"
                },
                {
                  "hovertemplate": "Commodity=Onion, native<br>Period=%{x}<br>Volume=%{y}<extra></extra>",
                  "legendgroup": "Onion, native",
                  "line": {
                    "color": "#FF97FF",
                    "dash": "solid"
                  },
                  "marker": {
                    "symbol": "circle"
                  },
                  "mode": "lines",
                  "name": "Onion, native",
                  "orientation": "v",
                  "showlegend": true,
                  "type": "scatter",
                  "x": [
                    "2010",
                    "2011",
                    "2012",
                    "2013",
                    "2014",
                    "2015",
                    "2016",
                    "2017",
                    "2018",
                    "2019",
                    "2020",
                    "2021",
                    "2022",
                    "2023"
                  ],
                  "xaxis": "x",
                  "y": [
                    38903.59,
                    40162.53,
                    40089.33,
                    39371.54,
                    39472.51,
                    38201.85,
                    35228.34,
                    37628.57,
                    36927.25,
                    36950.67,
                    38564.36,
                    38396.44,
                    37354.69,
                    42386.79
                  ],
                  "yaxis": "y"
                },
                {
                  "hovertemplate": "Commodity=Tomato<br>Period=%{x}<br>Volume=%{y}<extra></extra>",
                  "legendgroup": "Tomato",
                  "line": {
                    "color": "#FECB52",
                    "dash": "solid"
                  },
                  "marker": {
                    "symbol": "circle"
                  },
                  "mode": "lines",
                  "name": "Tomato",
                  "orientation": "v",
                  "showlegend": true,
                  "type": "scatter",
                  "x": [
                    "2010",
                    "2011",
                    "2012",
                    "2013",
                    "2014",
                    "2015",
                    "2016",
                    "2017",
                    "2018",
                    "2019",
                    "2020",
                    "2021",
                    "2022",
                    "2023"
                  ],
                  "xaxis": "x",
                  "y": [
                    204271.66,
                    203581.71,
                    203593.47,
                    207668.39,
                    214572.91,
                    214773.95,
                    210719.51,
                    218793.14,
                    220824.68,
                    223294.47,
                    222002.24,
                    225450.6,
                    216608.97,
                    219309.89
                  ],
                  "yaxis": "y"
                },
                {
                  "hovertemplate": "Commodity=Banana Blossom<br>Period=%{x}<br>Volume=%{y}<extra></extra>",
                  "legendgroup": "Banana Blossom",
                  "line": {
                    "color": "#636efa",
                    "dash": "solid"
                  },
                  "marker": {
                    "symbol": "circle"
                  },
                  "mode": "lines",
                  "name": "Banana Blossom",
                  "orientation": "v",
                  "showlegend": true,
                  "type": "scatter",
                  "x": [
                    "2010",
                    "2011",
                    "2012",
                    "2013",
                    "2014",
                    "2015",
                    "2016",
                    "2017",
                    "2018",
                    "2019",
                    "2020",
                    "2021",
                    "2022",
                    "2023"
                  ],
                  "xaxis": "x",
                  "y": [
                    62434.94,
                    58437.52,
                    59701.77,
                    59535.11,
                    58374.03,
                    57566.8,
                    54971.11,
                    54558.73,
                    55851.68,
                    53721.09,
                    55832.81,
                    56733.85,
                    56629.09,
                    52011.95
                  ],
                  "yaxis": "y"
                },
                {
                  "hovertemplate": "Commodity=Camote tops<br>Period=%{x}<br>Volume=%{y}<extra></extra>",
                  "legendgroup": "Camote tops",
                  "line": {
                    "color": "#EF553B",
                    "dash": "solid"
                  },
                  "marker": {
                    "symbol": "circle"
                  },
                  "mode": "lines",
                  "name": "Camote tops",
                  "orientation": "v",
                  "showlegend": true,
                  "type": "scatter",
                  "x": [
                    "2010",
                    "2011",
                    "2012",
                    "2013",
                    "2014",
                    "2015",
                    "2016",
                    "2017",
                    "2018",
                    "2019",
                    "2020",
                    "2021",
                    "2022",
                    "2023"
                  ],
                  "xaxis": "x",
                  "y": [
                    59716.27,
                    59491.86,
                    59265.2,
                    58596.89,
                    57137.96,
                    56015.12,
                    54579.86,
                    54723.2,
                    54824,
                    54855.88,
                    54572.95,
                    55125.76,
                    56778.15,
                    52342.59
                  ],
                  "yaxis": "y"
                },
                {
                  "hovertemplate": "Commodity=Onion leeks<br>Period=%{x}<br>Volume=%{y}<extra></extra>",
                  "legendgroup": "Onion leeks",
                  "line": {
                    "color": "#00cc96",
                    "dash": "solid"
                  },
                  "marker": {
                    "symbol": "circle"
                  },
                  "mode": "lines",
                  "name": "Onion leeks",
                  "orientation": "v",
                  "showlegend": true,
                  "type": "scatter",
                  "x": [
                    "2010",
                    "2011",
                    "2012",
                    "2013",
                    "2014",
                    "2015",
                    "2016",
                    "2017",
                    "2018",
                    "2019",
                    "2020",
                    "2021",
                    "2022",
                    "2023"
                  ],
                  "xaxis": "x",
                  "y": [
                    10696.19,
                    10293.19,
                    10037.08,
                    9369.84,
                    9093.04,
                    8662.68,
                    6630.58,
                    4877.24,
                    4509.88,
                    4456.55,
                    4482.48,
                    4461.45,
                    4603.29,
                    15048.73
                  ],
                  "yaxis": "y"
                },
                {
                  "hovertemplate": "Commodity=Coconut pith<br>Period=%{x}<br>Volume=%{y}<extra></extra>",
                  "legendgroup": "Coconut pith",
                  "line": {
                    "color": "#ab63fa",
                    "dash": "solid"
                  },
                  "marker": {
                    "symbol": "circle"
                  },
                  "mode": "lines",
                  "name": "Coconut pith",
                  "orientation": "v",
                  "showlegend": true,
                  "type": "scatter",
                  "x": [
                    "2010",
                    "2011",
                    "2012",
                    "2013",
                    "2014",
                    "2015",
                    "2016",
                    "2017",
                    "2018",
                    "2019",
                    "2020",
                    "2021",
                    "2022",
                    "2023"
                  ],
                  "xaxis": "x",
                  "y": [
                    1613.14,
                    1634.97,
                    1653.26,
                    2251.89,
                    1597.88,
                    1547.57,
                    1416.21,
                    1445.55,
                    1409.24,
                    1380.11,
                    1425.7,
                    1426.93,
                    1381.09,
                    3000.65
                  ],
                  "yaxis": "y"
                },
                {
                  "hovertemplate": "Commodity=Garlic leeks<br>Period=%{x}<br>Volume=%{y}<extra></extra>",
                  "legendgroup": "Garlic leeks",
                  "line": {
                    "color": "#FFA15A",
                    "dash": "solid"
                  },
                  "marker": {
                    "symbol": "circle"
                  },
                  "mode": "lines",
                  "name": "Garlic leeks",
                  "orientation": "v",
                  "showlegend": true,
                  "type": "scatter",
                  "x": [
                    "2010",
                    "2011",
                    "2012",
                    "2013",
                    "2014",
                    "2015",
                    "2016",
                    "2017",
                    "2018",
                    "2019",
                    "2020",
                    "2021",
                    "2022",
                    "2023"
                  ],
                  "xaxis": "x",
                  "y": [
                    0,
                    0,
                    1.55,
                    2.6,
                    2.85,
                    3.01,
                    3.04,
                    2.96,
                    11.92,
                    10.94,
                    6.69,
                    5,
                    3.24,
                    3.53
                  ],
                  "yaxis": "y"
                },
                {
                  "hovertemplate": "Commodity=Banana pith<br>Period=%{x}<br>Volume=%{y}<extra></extra>",
                  "legendgroup": "Banana pith",
                  "line": {
                    "color": "#19d3f3",
                    "dash": "solid"
                  },
                  "marker": {
                    "symbol": "circle"
                  },
                  "mode": "lines",
                  "name": "Banana pith",
                  "orientation": "v",
                  "showlegend": true,
                  "type": "scatter",
                  "x": [
                    "2010",
                    "2011",
                    "2012",
                    "2013",
                    "2014",
                    "2015",
                    "2016",
                    "2017",
                    "2018",
                    "2019",
                    "2020",
                    "2021",
                    "2022",
                    "2023"
                  ],
                  "xaxis": "x",
                  "y": [
                    499.71,
                    512.28,
                    544.7,
                    596.99,
                    584.7,
                    557.39,
                    562.63,
                    591.52,
                    619.17,
                    601.12,
                    590.84,
                    579.91,
                    575.82,
                    509.93
                  ],
                  "yaxis": "y"
                },
                {
                  "hovertemplate": "Commodity=Young corn<br>Period=%{x}<br>Volume=%{y}<extra></extra>",
                  "legendgroup": "Young corn",
                  "line": {
                    "color": "#FF6692",
                    "dash": "solid"
                  },
                  "marker": {
                    "symbol": "circle"
                  },
                  "mode": "lines",
                  "name": "Young corn",
                  "orientation": "v",
                  "showlegend": true,
                  "type": "scatter",
                  "x": [
                    "2010",
                    "2011",
                    "2012",
                    "2013",
                    "2014",
                    "2015",
                    "2016",
                    "2017",
                    "2018",
                    "2019",
                    "2020",
                    "2021",
                    "2022",
                    "2023"
                  ],
                  "xaxis": "x",
                  "y": [
                    0,
                    0,
                    0,
                    1.05,
                    0.35,
                    0.8,
                    3.83,
                    4.17,
                    3.78,
                    81.75,
                    169.27,
                    170.63,
                    242.22,
                    282.58
                  ],
                  "yaxis": "y"
                },
                {
                  "hovertemplate": "Commodity=Spring Onion<br>Period=%{x}<br>Volume=%{y}<extra></extra>",
                  "legendgroup": "Spring Onion",
                  "line": {
                    "color": "#B6E880",
                    "dash": "solid"
                  },
                  "marker": {
                    "symbol": "circle"
                  },
                  "mode": "lines",
                  "name": "Spring Onion",
                  "orientation": "v",
                  "showlegend": true,
                  "type": "scatter",
                  "x": [
                    "2010",
                    "2011",
                    "2012",
                    "2013",
                    "2014",
                    "2015",
                    "2016",
                    "2017",
                    "2018",
                    "2019",
                    "2020",
                    "2021",
                    "2022",
                    "2023"
                  ],
                  "xaxis": "x",
                  "y": [
                    0,
                    4,
                    3,
                    511.93,
                    721.67,
                    820.35,
                    2217.7,
                    4436.1,
                    4776.73,
                    4641.23,
                    4655.31,
                    4695.74,
                    4767.36,
                    4704.98
                  ],
                  "yaxis": "y"
                }
              ],
              "layout": {
                "legend": {
                  "title": {
                    "text": "Commodity"
                  },
                  "tracegroupgap": 0
                },
                "template": {
                  "data": {
                    "bar": [
                      {
                        "error_x": {
                          "color": "#2a3f5f"
                        },
                        "error_y": {
                          "color": "#2a3f5f"
                        },
                        "marker": {
                          "line": {
                            "color": "#E5ECF6",
                            "width": 0.5
                          },
                          "pattern": {
                            "fillmode": "overlay",
                            "size": 10,
                            "solidity": 0.2
                          }
                        },
                        "type": "bar"
                      }
                    ],
                    "barpolar": [
                      {
                        "marker": {
                          "line": {
                            "color": "#E5ECF6",
                            "width": 0.5
                          },
                          "pattern": {
                            "fillmode": "overlay",
                            "size": 10,
                            "solidity": 0.2
                          }
                        },
                        "type": "barpolar"
                      }
                    ],
                    "carpet": [
                      {
                        "aaxis": {
                          "endlinecolor": "#2a3f5f",
                          "gridcolor": "white",
                          "linecolor": "white",
                          "minorgridcolor": "white",
                          "startlinecolor": "#2a3f5f"
                        },
                        "baxis": {
                          "endlinecolor": "#2a3f5f",
                          "gridcolor": "white",
                          "linecolor": "white",
                          "minorgridcolor": "white",
                          "startlinecolor": "#2a3f5f"
                        },
                        "type": "carpet"
                      }
                    ],
                    "choropleth": [
                      {
                        "colorbar": {
                          "outlinewidth": 0,
                          "ticks": ""
                        },
                        "type": "choropleth"
                      }
                    ],
                    "contour": [
                      {
                        "colorbar": {
                          "outlinewidth": 0,
                          "ticks": ""
                        },
                        "colorscale": [
                          [
                            0,
                            "#0d0887"
                          ],
                          [
                            0.1111111111111111,
                            "#46039f"
                          ],
                          [
                            0.2222222222222222,
                            "#7201a8"
                          ],
                          [
                            0.3333333333333333,
                            "#9c179e"
                          ],
                          [
                            0.4444444444444444,
                            "#bd3786"
                          ],
                          [
                            0.5555555555555556,
                            "#d8576b"
                          ],
                          [
                            0.6666666666666666,
                            "#ed7953"
                          ],
                          [
                            0.7777777777777778,
                            "#fb9f3a"
                          ],
                          [
                            0.8888888888888888,
                            "#fdca26"
                          ],
                          [
                            1,
                            "#f0f921"
                          ]
                        ],
                        "type": "contour"
                      }
                    ],
                    "contourcarpet": [
                      {
                        "colorbar": {
                          "outlinewidth": 0,
                          "ticks": ""
                        },
                        "type": "contourcarpet"
                      }
                    ],
                    "heatmap": [
                      {
                        "colorbar": {
                          "outlinewidth": 0,
                          "ticks": ""
                        },
                        "colorscale": [
                          [
                            0,
                            "#0d0887"
                          ],
                          [
                            0.1111111111111111,
                            "#46039f"
                          ],
                          [
                            0.2222222222222222,
                            "#7201a8"
                          ],
                          [
                            0.3333333333333333,
                            "#9c179e"
                          ],
                          [
                            0.4444444444444444,
                            "#bd3786"
                          ],
                          [
                            0.5555555555555556,
                            "#d8576b"
                          ],
                          [
                            0.6666666666666666,
                            "#ed7953"
                          ],
                          [
                            0.7777777777777778,
                            "#fb9f3a"
                          ],
                          [
                            0.8888888888888888,
                            "#fdca26"
                          ],
                          [
                            1,
                            "#f0f921"
                          ]
                        ],
                        "type": "heatmap"
                      }
                    ],
                    "heatmapgl": [
                      {
                        "colorbar": {
                          "outlinewidth": 0,
                          "ticks": ""
                        },
                        "colorscale": [
                          [
                            0,
                            "#0d0887"
                          ],
                          [
                            0.1111111111111111,
                            "#46039f"
                          ],
                          [
                            0.2222222222222222,
                            "#7201a8"
                          ],
                          [
                            0.3333333333333333,
                            "#9c179e"
                          ],
                          [
                            0.4444444444444444,
                            "#bd3786"
                          ],
                          [
                            0.5555555555555556,
                            "#d8576b"
                          ],
                          [
                            0.6666666666666666,
                            "#ed7953"
                          ],
                          [
                            0.7777777777777778,
                            "#fb9f3a"
                          ],
                          [
                            0.8888888888888888,
                            "#fdca26"
                          ],
                          [
                            1,
                            "#f0f921"
                          ]
                        ],
                        "type": "heatmapgl"
                      }
                    ],
                    "histogram": [
                      {
                        "marker": {
                          "pattern": {
                            "fillmode": "overlay",
                            "size": 10,
                            "solidity": 0.2
                          }
                        },
                        "type": "histogram"
                      }
                    ],
                    "histogram2d": [
                      {
                        "colorbar": {
                          "outlinewidth": 0,
                          "ticks": ""
                        },
                        "colorscale": [
                          [
                            0,
                            "#0d0887"
                          ],
                          [
                            0.1111111111111111,
                            "#46039f"
                          ],
                          [
                            0.2222222222222222,
                            "#7201a8"
                          ],
                          [
                            0.3333333333333333,
                            "#9c179e"
                          ],
                          [
                            0.4444444444444444,
                            "#bd3786"
                          ],
                          [
                            0.5555555555555556,
                            "#d8576b"
                          ],
                          [
                            0.6666666666666666,
                            "#ed7953"
                          ],
                          [
                            0.7777777777777778,
                            "#fb9f3a"
                          ],
                          [
                            0.8888888888888888,
                            "#fdca26"
                          ],
                          [
                            1,
                            "#f0f921"
                          ]
                        ],
                        "type": "histogram2d"
                      }
                    ],
                    "histogram2dcontour": [
                      {
                        "colorbar": {
                          "outlinewidth": 0,
                          "ticks": ""
                        },
                        "colorscale": [
                          [
                            0,
                            "#0d0887"
                          ],
                          [
                            0.1111111111111111,
                            "#46039f"
                          ],
                          [
                            0.2222222222222222,
                            "#7201a8"
                          ],
                          [
                            0.3333333333333333,
                            "#9c179e"
                          ],
                          [
                            0.4444444444444444,
                            "#bd3786"
                          ],
                          [
                            0.5555555555555556,
                            "#d8576b"
                          ],
                          [
                            0.6666666666666666,
                            "#ed7953"
                          ],
                          [
                            0.7777777777777778,
                            "#fb9f3a"
                          ],
                          [
                            0.8888888888888888,
                            "#fdca26"
                          ],
                          [
                            1,
                            "#f0f921"
                          ]
                        ],
                        "type": "histogram2dcontour"
                      }
                    ],
                    "mesh3d": [
                      {
                        "colorbar": {
                          "outlinewidth": 0,
                          "ticks": ""
                        },
                        "type": "mesh3d"
                      }
                    ],
                    "parcoords": [
                      {
                        "line": {
                          "colorbar": {
                            "outlinewidth": 0,
                            "ticks": ""
                          }
                        },
                        "type": "parcoords"
                      }
                    ],
                    "pie": [
                      {
                        "automargin": true,
                        "type": "pie"
                      }
                    ],
                    "scatter": [
                      {
                        "fillpattern": {
                          "fillmode": "overlay",
                          "size": 10,
                          "solidity": 0.2
                        },
                        "type": "scatter"
                      }
                    ],
                    "scatter3d": [
                      {
                        "line": {
                          "colorbar": {
                            "outlinewidth": 0,
                            "ticks": ""
                          }
                        },
                        "marker": {
                          "colorbar": {
                            "outlinewidth": 0,
                            "ticks": ""
                          }
                        },
                        "type": "scatter3d"
                      }
                    ],
                    "scattercarpet": [
                      {
                        "marker": {
                          "colorbar": {
                            "outlinewidth": 0,
                            "ticks": ""
                          }
                        },
                        "type": "scattercarpet"
                      }
                    ],
                    "scattergeo": [
                      {
                        "marker": {
                          "colorbar": {
                            "outlinewidth": 0,
                            "ticks": ""
                          }
                        },
                        "type": "scattergeo"
                      }
                    ],
                    "scattergl": [
                      {
                        "marker": {
                          "colorbar": {
                            "outlinewidth": 0,
                            "ticks": ""
                          }
                        },
                        "type": "scattergl"
                      }
                    ],
                    "scattermapbox": [
                      {
                        "marker": {
                          "colorbar": {
                            "outlinewidth": 0,
                            "ticks": ""
                          }
                        },
                        "type": "scattermapbox"
                      }
                    ],
                    "scatterpolar": [
                      {
                        "marker": {
                          "colorbar": {
                            "outlinewidth": 0,
                            "ticks": ""
                          }
                        },
                        "type": "scatterpolar"
                      }
                    ],
                    "scatterpolargl": [
                      {
                        "marker": {
                          "colorbar": {
                            "outlinewidth": 0,
                            "ticks": ""
                          }
                        },
                        "type": "scatterpolargl"
                      }
                    ],
                    "scatterternary": [
                      {
                        "marker": {
                          "colorbar": {
                            "outlinewidth": 0,
                            "ticks": ""
                          }
                        },
                        "type": "scatterternary"
                      }
                    ],
                    "surface": [
                      {
                        "colorbar": {
                          "outlinewidth": 0,
                          "ticks": ""
                        },
                        "colorscale": [
                          [
                            0,
                            "#0d0887"
                          ],
                          [
                            0.1111111111111111,
                            "#46039f"
                          ],
                          [
                            0.2222222222222222,
                            "#7201a8"
                          ],
                          [
                            0.3333333333333333,
                            "#9c179e"
                          ],
                          [
                            0.4444444444444444,
                            "#bd3786"
                          ],
                          [
                            0.5555555555555556,
                            "#d8576b"
                          ],
                          [
                            0.6666666666666666,
                            "#ed7953"
                          ],
                          [
                            0.7777777777777778,
                            "#fb9f3a"
                          ],
                          [
                            0.8888888888888888,
                            "#fdca26"
                          ],
                          [
                            1,
                            "#f0f921"
                          ]
                        ],
                        "type": "surface"
                      }
                    ],
                    "table": [
                      {
                        "cells": {
                          "fill": {
                            "color": "#EBF0F8"
                          },
                          "line": {
                            "color": "white"
                          }
                        },
                        "header": {
                          "fill": {
                            "color": "#C8D4E3"
                          },
                          "line": {
                            "color": "white"
                          }
                        },
                        "type": "table"
                      }
                    ]
                  },
                  "layout": {
                    "annotationdefaults": {
                      "arrowcolor": "#2a3f5f",
                      "arrowhead": 0,
                      "arrowwidth": 1
                    },
                    "autotypenumbers": "strict",
                    "coloraxis": {
                      "colorbar": {
                        "outlinewidth": 0,
                        "ticks": ""
                      }
                    },
                    "colorscale": {
                      "diverging": [
                        [
                          0,
                          "#8e0152"
                        ],
                        [
                          0.1,
                          "#c51b7d"
                        ],
                        [
                          0.2,
                          "#de77ae"
                        ],
                        [
                          0.3,
                          "#f1b6da"
                        ],
                        [
                          0.4,
                          "#fde0ef"
                        ],
                        [
                          0.5,
                          "#f7f7f7"
                        ],
                        [
                          0.6,
                          "#e6f5d0"
                        ],
                        [
                          0.7,
                          "#b8e186"
                        ],
                        [
                          0.8,
                          "#7fbc41"
                        ],
                        [
                          0.9,
                          "#4d9221"
                        ],
                        [
                          1,
                          "#276419"
                        ]
                      ],
                      "sequential": [
                        [
                          0,
                          "#0d0887"
                        ],
                        [
                          0.1111111111111111,
                          "#46039f"
                        ],
                        [
                          0.2222222222222222,
                          "#7201a8"
                        ],
                        [
                          0.3333333333333333,
                          "#9c179e"
                        ],
                        [
                          0.4444444444444444,
                          "#bd3786"
                        ],
                        [
                          0.5555555555555556,
                          "#d8576b"
                        ],
                        [
                          0.6666666666666666,
                          "#ed7953"
                        ],
                        [
                          0.7777777777777778,
                          "#fb9f3a"
                        ],
                        [
                          0.8888888888888888,
                          "#fdca26"
                        ],
                        [
                          1,
                          "#f0f921"
                        ]
                      ],
                      "sequentialminus": [
                        [
                          0,
                          "#0d0887"
                        ],
                        [
                          0.1111111111111111,
                          "#46039f"
                        ],
                        [
                          0.2222222222222222,
                          "#7201a8"
                        ],
                        [
                          0.3333333333333333,
                          "#9c179e"
                        ],
                        [
                          0.4444444444444444,
                          "#bd3786"
                        ],
                        [
                          0.5555555555555556,
                          "#d8576b"
                        ],
                        [
                          0.6666666666666666,
                          "#ed7953"
                        ],
                        [
                          0.7777777777777778,
                          "#fb9f3a"
                        ],
                        [
                          0.8888888888888888,
                          "#fdca26"
                        ],
                        [
                          1,
                          "#f0f921"
                        ]
                      ]
                    },
                    "colorway": [
                      "#636efa",
                      "#EF553B",
                      "#00cc96",
                      "#ab63fa",
                      "#FFA15A",
                      "#19d3f3",
                      "#FF6692",
                      "#B6E880",
                      "#FF97FF",
                      "#FECB52"
                    ],
                    "font": {
                      "color": "#2a3f5f"
                    },
                    "geo": {
                      "bgcolor": "white",
                      "lakecolor": "white",
                      "landcolor": "#E5ECF6",
                      "showlakes": true,
                      "showland": true,
                      "subunitcolor": "white"
                    },
                    "hoverlabel": {
                      "align": "left"
                    },
                    "hovermode": "closest",
                    "mapbox": {
                      "style": "light"
                    },
                    "paper_bgcolor": "white",
                    "plot_bgcolor": "#E5ECF6",
                    "polar": {
                      "angularaxis": {
                        "gridcolor": "white",
                        "linecolor": "white",
                        "ticks": ""
                      },
                      "bgcolor": "#E5ECF6",
                      "radialaxis": {
                        "gridcolor": "white",
                        "linecolor": "white",
                        "ticks": ""
                      }
                    },
                    "scene": {
                      "xaxis": {
                        "backgroundcolor": "#E5ECF6",
                        "gridcolor": "white",
                        "gridwidth": 2,
                        "linecolor": "white",
                        "showbackground": true,
                        "ticks": "",
                        "zerolinecolor": "white"
                      },
                      "yaxis": {
                        "backgroundcolor": "#E5ECF6",
                        "gridcolor": "white",
                        "gridwidth": 2,
                        "linecolor": "white",
                        "showbackground": true,
                        "ticks": "",
                        "zerolinecolor": "white"
                      },
                      "zaxis": {
                        "backgroundcolor": "#E5ECF6",
                        "gridcolor": "white",
                        "gridwidth": 2,
                        "linecolor": "white",
                        "showbackground": true,
                        "ticks": "",
                        "zerolinecolor": "white"
                      }
                    },
                    "shapedefaults": {
                      "line": {
                        "color": "#2a3f5f"
                      }
                    },
                    "ternary": {
                      "aaxis": {
                        "gridcolor": "white",
                        "linecolor": "white",
                        "ticks": ""
                      },
                      "baxis": {
                        "gridcolor": "white",
                        "linecolor": "white",
                        "ticks": ""
                      },
                      "bgcolor": "#E5ECF6",
                      "caxis": {
                        "gridcolor": "white",
                        "linecolor": "white",
                        "ticks": ""
                      }
                    },
                    "title": {
                      "x": 0.05
                    },
                    "xaxis": {
                      "automargin": true,
                      "gridcolor": "white",
                      "linecolor": "white",
                      "ticks": "",
                      "title": {
                        "standoff": 15
                      },
                      "zerolinecolor": "white",
                      "zerolinewidth": 2
                    },
                    "yaxis": {
                      "automargin": true,
                      "gridcolor": "white",
                      "linecolor": "white",
                      "ticks": "",
                      "title": {
                        "standoff": 15
                      },
                      "zerolinecolor": "white",
                      "zerolinewidth": 2
                    }
                  }
                },
                "title": {
                  "text": "Annual Volume of Production of Other Major Crops<br>National average in metric tons"
                },
                "xaxis": {
                  "anchor": "y",
                  "domain": [
                    0,
                    1
                  ],
                  "title": {
                    "text": "Period"
                  }
                },
                "yaxis": {
                  "anchor": "x",
                  "domain": [
                    0,
                    1
                  ],
                  "title": {
                    "text": "Volume of Production"
                  }
                }
              }
            }
          },
          "metadata": {},
          "output_type": "display_data"
        }
      ],
      "source": [
        "# Volume of Production of Selected Major Crops\n",
        "df = pd.read_csv(\"datasets/agricultural-indicators/volume_rice-corn.csv\", skiprows=2)\n",
        "df = df[df[\"Geolocation\"] == \"PHILIPPINES\"]\n",
        "df = df.filter(regex=\"Commodity|Geolocation|Annual\", axis=1)\n",
        "df.columns = map(lambda x: x.replace(\" Annual\", \"\") if \"Annual\" in x else x, df.columns)\n",
        "df = df.melt(id_vars=[\"Commodity\", \"Geolocation\"], value_vars=df.columns[2:], var_name=\"Period\", value_name=\"Volume\")\n",
        "fig = px.line(df, x=\"Period\", y=\"Volume\", color=\"Commodity\", title='Annual Volume of Production of Rice and Corn<br>National average in metric tons').update_layout(\n",
        "    xaxis_title=\"Period\", yaxis_title = \"Volume of Production\")\n",
        "fig.show()\n",
        "\n",
        "df = pd.read_csv(\"datasets/agricultural-indicators/volume_other-crops.csv\", skiprows=2)\n",
        "df = df[df[\"Geolocation\"] == \"PHILIPPINES\"]\n",
        "df = df.filter(regex=\"Commodity|Geolocation|Annual\", axis=1)\n",
        "df.columns = map(lambda x: x.replace(\" Annual\", \"\") if \"Annual\" in x else x, df.columns)\n",
        "df = df.melt(id_vars=[\"Commodity\", \"Geolocation\"], value_vars=df.columns[2:], var_name=\"Period\", value_name=\"Volume\")\n",
        "fig = px.line(df, x=\"Period\", y=\"Volume\", color=\"Commodity\", title='Annual Volume of Production of Other Major Crops<br>National average in metric tons').update_layout(\n",
        "    xaxis_title=\"Period\", yaxis_title = \"Volume of Production\")\n",
        "fig.show()"
      ]
    },
    {
      "cell_type": "markdown",
      "metadata": {},
      "source": [
        "## Annual Analysis\n",
        "Annual-National, Annual-Regional, and Annual-Provincial analysis of the commodities Rice, Corn, and Potato."
      ]
    },
    {
      "cell_type": "code",
      "execution_count": 29,
      "metadata": {},
      "outputs": [
        {
          "data": {
            "text/plain": [
              "array(['cordillera administrative region (car)',\n",
              "       'region i (ilocos region)', 'region ii (cagayan valley)',\n",
              "       'region iii (central luzon)', 'region iv-a (calabarzon)',\n",
              "       'mimaropa region (mimaropa)', 'region v (bicol region)',\n",
              "       'region vi (western visayas)', 'region vii (central visayas)',\n",
              "       'region viii (eastern visayas)', 'region ix (zamboanga peninsula)',\n",
              "       'region x (northern mindanao)', 'region xi (davao region)',\n",
              "       'region xii (soccsksargen)', 'region xiii (caraga)',\n",
              "       'bangsamoro autonomous region in muslim mindanao (barmm)'],\n",
              "      dtype=object)"
            ]
          },
          "execution_count": 29,
          "metadata": {},
          "output_type": "execute_result"
        }
      ],
      "source": [
        "# @title Annual megadataset for rice and corn\n",
        "# Volume of Rice and Corn\n",
        "df1 = read_csv_to_df(\"datasets/agricultural-indicators/volume_rice-and-corn_annual.csv\")\n",
        "df1 = preprocess_baesians_2(df1, {\"Palay\": \"Rice\", \"Corn\": \"Corn\"}, melt_value=\"Volume\")\n",
        "\n",
        "# Farmgate Price of Rice and Corn\n",
        "df = read_csv_to_df(\"datasets/prices/prices_farmgate-new-series_2010-2023.csv\")\n",
        "df = get_annual_columns(df, range(2012, 2024), 2)\n",
        "df = preprocess_baesians_2(df, {\"Palay [Paddy] Other Variety, dry (conv. to 14% mc)\": \"Rice\",\n",
        "                                  \"Corngrain [Maize] Yellow, matured\": \"Corn\"}, melt_value=\"Farmgate Price\")\n",
        "\n",
        "# # Retail Price of Rice and Corn\n",
        "# df3 = read_csv_to_df(\"datasets/prices/prices_retail_2012-2023.csv\")\n",
        "# tdf1 = pd.read_csv(\"datasets/prices/prices_retail_caraga_supplement.csv\", skiprows=1)\n",
        "# tdf2 = pd.read_csv(\"datasets/prices/prices_retail_car_supplement.csv\", skiprows=1)\n",
        "# df3 = pd.concat([df3, tdf1, tdf2])\n",
        "# df3 = get_quarter_columns(df3, range(2012, 2024), 2)\n",
        "# df3 = preprocess_baesians_1(df3, \"RICE, REGULAR-MILLED, 1 KG\", \"Rice\", melt_value=\"Retail Price\")\n",
        "\n",
        "df1[df1[\"Geolocation\"].apply(is_region)][\"Geolocation\"].unique()"
      ]
    },
    {
      "cell_type": "markdown",
      "metadata": {},
      "source": [
        "## Quarterly-Regional Analysis"
      ]
    },
    {
      "cell_type": "code",
      "execution_count": 16,
      "metadata": {},
      "outputs": [
        {
          "data": {
            "application/vnd.plotly.v1+json": {
              "config": {
                "plotlyServerURL": "https://plot.ly"
              },
              "data": [
                {
                  "coloraxis": "coloraxis",
                  "hovertemplate": "x: %{x}<br>y: %{y}<br>color: %{z}<extra></extra>",
                  "name": "0",
                  "texttemplate": "%{z}",
                  "type": "heatmap",
                  "x": [
                    "Volume",
                    "Area Harvested",
                    "Stocks"
                  ],
                  "xaxis": "x",
                  "y": [
                    "Farmgate Price",
                    "Retail Price",
                    "Wholesale Price",
                    "CPI All Income",
                    "CPI Bottom 30",
                    "Value of Production"
                  ],
                  "yaxis": "y",
                  "z": [
                    [
                      -0.10083898525929796,
                      -0.14040665415828066,
                      -0.28744764052403937
                    ],
                    [
                      -0.2559721385557279,
                      -0.25002736024800365,
                      -0.17708577941243311
                    ],
                    [
                      -0.11524735750422409,
                      -0.15216288438575049,
                      -0.27710953540032296
                    ],
                    [
                      0.05249886706278612,
                      0.02063704427741944,
                      -0.13722499385222764
                    ],
                    [
                      0.035349111323367294,
                      -0.0006201277879416751,
                      -0.09766202960808637
                    ],
                    [
                      0.764404774497056,
                      0.7069327328935445,
                      -0.08302645589560095
                    ]
                  ]
                }
              ],
              "layout": {
                "coloraxis": {
                  "colorscale": [
                    [
                      0,
                      "#0d0887"
                    ],
                    [
                      0.1111111111111111,
                      "#46039f"
                    ],
                    [
                      0.2222222222222222,
                      "#7201a8"
                    ],
                    [
                      0.3333333333333333,
                      "#9c179e"
                    ],
                    [
                      0.4444444444444444,
                      "#bd3786"
                    ],
                    [
                      0.5555555555555556,
                      "#d8576b"
                    ],
                    [
                      0.6666666666666666,
                      "#ed7953"
                    ],
                    [
                      0.7777777777777778,
                      "#fb9f3a"
                    ],
                    [
                      0.8888888888888888,
                      "#fdca26"
                    ],
                    [
                      1,
                      "#f0f921"
                    ]
                  ]
                },
                "margin": {
                  "t": 60
                },
                "template": {
                  "data": {
                    "bar": [
                      {
                        "error_x": {
                          "color": "#2a3f5f"
                        },
                        "error_y": {
                          "color": "#2a3f5f"
                        },
                        "marker": {
                          "line": {
                            "color": "#E5ECF6",
                            "width": 0.5
                          },
                          "pattern": {
                            "fillmode": "overlay",
                            "size": 10,
                            "solidity": 0.2
                          }
                        },
                        "type": "bar"
                      }
                    ],
                    "barpolar": [
                      {
                        "marker": {
                          "line": {
                            "color": "#E5ECF6",
                            "width": 0.5
                          },
                          "pattern": {
                            "fillmode": "overlay",
                            "size": 10,
                            "solidity": 0.2
                          }
                        },
                        "type": "barpolar"
                      }
                    ],
                    "carpet": [
                      {
                        "aaxis": {
                          "endlinecolor": "#2a3f5f",
                          "gridcolor": "white",
                          "linecolor": "white",
                          "minorgridcolor": "white",
                          "startlinecolor": "#2a3f5f"
                        },
                        "baxis": {
                          "endlinecolor": "#2a3f5f",
                          "gridcolor": "white",
                          "linecolor": "white",
                          "minorgridcolor": "white",
                          "startlinecolor": "#2a3f5f"
                        },
                        "type": "carpet"
                      }
                    ],
                    "choropleth": [
                      {
                        "colorbar": {
                          "outlinewidth": 0,
                          "ticks": ""
                        },
                        "type": "choropleth"
                      }
                    ],
                    "contour": [
                      {
                        "colorbar": {
                          "outlinewidth": 0,
                          "ticks": ""
                        },
                        "colorscale": [
                          [
                            0,
                            "#0d0887"
                          ],
                          [
                            0.1111111111111111,
                            "#46039f"
                          ],
                          [
                            0.2222222222222222,
                            "#7201a8"
                          ],
                          [
                            0.3333333333333333,
                            "#9c179e"
                          ],
                          [
                            0.4444444444444444,
                            "#bd3786"
                          ],
                          [
                            0.5555555555555556,
                            "#d8576b"
                          ],
                          [
                            0.6666666666666666,
                            "#ed7953"
                          ],
                          [
                            0.7777777777777778,
                            "#fb9f3a"
                          ],
                          [
                            0.8888888888888888,
                            "#fdca26"
                          ],
                          [
                            1,
                            "#f0f921"
                          ]
                        ],
                        "type": "contour"
                      }
                    ],
                    "contourcarpet": [
                      {
                        "colorbar": {
                          "outlinewidth": 0,
                          "ticks": ""
                        },
                        "type": "contourcarpet"
                      }
                    ],
                    "heatmap": [
                      {
                        "colorbar": {
                          "outlinewidth": 0,
                          "ticks": ""
                        },
                        "colorscale": [
                          [
                            0,
                            "#0d0887"
                          ],
                          [
                            0.1111111111111111,
                            "#46039f"
                          ],
                          [
                            0.2222222222222222,
                            "#7201a8"
                          ],
                          [
                            0.3333333333333333,
                            "#9c179e"
                          ],
                          [
                            0.4444444444444444,
                            "#bd3786"
                          ],
                          [
                            0.5555555555555556,
                            "#d8576b"
                          ],
                          [
                            0.6666666666666666,
                            "#ed7953"
                          ],
                          [
                            0.7777777777777778,
                            "#fb9f3a"
                          ],
                          [
                            0.8888888888888888,
                            "#fdca26"
                          ],
                          [
                            1,
                            "#f0f921"
                          ]
                        ],
                        "type": "heatmap"
                      }
                    ],
                    "heatmapgl": [
                      {
                        "colorbar": {
                          "outlinewidth": 0,
                          "ticks": ""
                        },
                        "colorscale": [
                          [
                            0,
                            "#0d0887"
                          ],
                          [
                            0.1111111111111111,
                            "#46039f"
                          ],
                          [
                            0.2222222222222222,
                            "#7201a8"
                          ],
                          [
                            0.3333333333333333,
                            "#9c179e"
                          ],
                          [
                            0.4444444444444444,
                            "#bd3786"
                          ],
                          [
                            0.5555555555555556,
                            "#d8576b"
                          ],
                          [
                            0.6666666666666666,
                            "#ed7953"
                          ],
                          [
                            0.7777777777777778,
                            "#fb9f3a"
                          ],
                          [
                            0.8888888888888888,
                            "#fdca26"
                          ],
                          [
                            1,
                            "#f0f921"
                          ]
                        ],
                        "type": "heatmapgl"
                      }
                    ],
                    "histogram": [
                      {
                        "marker": {
                          "pattern": {
                            "fillmode": "overlay",
                            "size": 10,
                            "solidity": 0.2
                          }
                        },
                        "type": "histogram"
                      }
                    ],
                    "histogram2d": [
                      {
                        "colorbar": {
                          "outlinewidth": 0,
                          "ticks": ""
                        },
                        "colorscale": [
                          [
                            0,
                            "#0d0887"
                          ],
                          [
                            0.1111111111111111,
                            "#46039f"
                          ],
                          [
                            0.2222222222222222,
                            "#7201a8"
                          ],
                          [
                            0.3333333333333333,
                            "#9c179e"
                          ],
                          [
                            0.4444444444444444,
                            "#bd3786"
                          ],
                          [
                            0.5555555555555556,
                            "#d8576b"
                          ],
                          [
                            0.6666666666666666,
                            "#ed7953"
                          ],
                          [
                            0.7777777777777778,
                            "#fb9f3a"
                          ],
                          [
                            0.8888888888888888,
                            "#fdca26"
                          ],
                          [
                            1,
                            "#f0f921"
                          ]
                        ],
                        "type": "histogram2d"
                      }
                    ],
                    "histogram2dcontour": [
                      {
                        "colorbar": {
                          "outlinewidth": 0,
                          "ticks": ""
                        },
                        "colorscale": [
                          [
                            0,
                            "#0d0887"
                          ],
                          [
                            0.1111111111111111,
                            "#46039f"
                          ],
                          [
                            0.2222222222222222,
                            "#7201a8"
                          ],
                          [
                            0.3333333333333333,
                            "#9c179e"
                          ],
                          [
                            0.4444444444444444,
                            "#bd3786"
                          ],
                          [
                            0.5555555555555556,
                            "#d8576b"
                          ],
                          [
                            0.6666666666666666,
                            "#ed7953"
                          ],
                          [
                            0.7777777777777778,
                            "#fb9f3a"
                          ],
                          [
                            0.8888888888888888,
                            "#fdca26"
                          ],
                          [
                            1,
                            "#f0f921"
                          ]
                        ],
                        "type": "histogram2dcontour"
                      }
                    ],
                    "mesh3d": [
                      {
                        "colorbar": {
                          "outlinewidth": 0,
                          "ticks": ""
                        },
                        "type": "mesh3d"
                      }
                    ],
                    "parcoords": [
                      {
                        "line": {
                          "colorbar": {
                            "outlinewidth": 0,
                            "ticks": ""
                          }
                        },
                        "type": "parcoords"
                      }
                    ],
                    "pie": [
                      {
                        "automargin": true,
                        "type": "pie"
                      }
                    ],
                    "scatter": [
                      {
                        "fillpattern": {
                          "fillmode": "overlay",
                          "size": 10,
                          "solidity": 0.2
                        },
                        "type": "scatter"
                      }
                    ],
                    "scatter3d": [
                      {
                        "line": {
                          "colorbar": {
                            "outlinewidth": 0,
                            "ticks": ""
                          }
                        },
                        "marker": {
                          "colorbar": {
                            "outlinewidth": 0,
                            "ticks": ""
                          }
                        },
                        "type": "scatter3d"
                      }
                    ],
                    "scattercarpet": [
                      {
                        "marker": {
                          "colorbar": {
                            "outlinewidth": 0,
                            "ticks": ""
                          }
                        },
                        "type": "scattercarpet"
                      }
                    ],
                    "scattergeo": [
                      {
                        "marker": {
                          "colorbar": {
                            "outlinewidth": 0,
                            "ticks": ""
                          }
                        },
                        "type": "scattergeo"
                      }
                    ],
                    "scattergl": [
                      {
                        "marker": {
                          "colorbar": {
                            "outlinewidth": 0,
                            "ticks": ""
                          }
                        },
                        "type": "scattergl"
                      }
                    ],
                    "scattermapbox": [
                      {
                        "marker": {
                          "colorbar": {
                            "outlinewidth": 0,
                            "ticks": ""
                          }
                        },
                        "type": "scattermapbox"
                      }
                    ],
                    "scatterpolar": [
                      {
                        "marker": {
                          "colorbar": {
                            "outlinewidth": 0,
                            "ticks": ""
                          }
                        },
                        "type": "scatterpolar"
                      }
                    ],
                    "scatterpolargl": [
                      {
                        "marker": {
                          "colorbar": {
                            "outlinewidth": 0,
                            "ticks": ""
                          }
                        },
                        "type": "scatterpolargl"
                      }
                    ],
                    "scatterternary": [
                      {
                        "marker": {
                          "colorbar": {
                            "outlinewidth": 0,
                            "ticks": ""
                          }
                        },
                        "type": "scatterternary"
                      }
                    ],
                    "surface": [
                      {
                        "colorbar": {
                          "outlinewidth": 0,
                          "ticks": ""
                        },
                        "colorscale": [
                          [
                            0,
                            "#0d0887"
                          ],
                          [
                            0.1111111111111111,
                            "#46039f"
                          ],
                          [
                            0.2222222222222222,
                            "#7201a8"
                          ],
                          [
                            0.3333333333333333,
                            "#9c179e"
                          ],
                          [
                            0.4444444444444444,
                            "#bd3786"
                          ],
                          [
                            0.5555555555555556,
                            "#d8576b"
                          ],
                          [
                            0.6666666666666666,
                            "#ed7953"
                          ],
                          [
                            0.7777777777777778,
                            "#fb9f3a"
                          ],
                          [
                            0.8888888888888888,
                            "#fdca26"
                          ],
                          [
                            1,
                            "#f0f921"
                          ]
                        ],
                        "type": "surface"
                      }
                    ],
                    "table": [
                      {
                        "cells": {
                          "fill": {
                            "color": "#EBF0F8"
                          },
                          "line": {
                            "color": "white"
                          }
                        },
                        "header": {
                          "fill": {
                            "color": "#C8D4E3"
                          },
                          "line": {
                            "color": "white"
                          }
                        },
                        "type": "table"
                      }
                    ]
                  },
                  "layout": {
                    "annotationdefaults": {
                      "arrowcolor": "#2a3f5f",
                      "arrowhead": 0,
                      "arrowwidth": 1
                    },
                    "autotypenumbers": "strict",
                    "coloraxis": {
                      "colorbar": {
                        "outlinewidth": 0,
                        "ticks": ""
                      }
                    },
                    "colorscale": {
                      "diverging": [
                        [
                          0,
                          "#8e0152"
                        ],
                        [
                          0.1,
                          "#c51b7d"
                        ],
                        [
                          0.2,
                          "#de77ae"
                        ],
                        [
                          0.3,
                          "#f1b6da"
                        ],
                        [
                          0.4,
                          "#fde0ef"
                        ],
                        [
                          0.5,
                          "#f7f7f7"
                        ],
                        [
                          0.6,
                          "#e6f5d0"
                        ],
                        [
                          0.7,
                          "#b8e186"
                        ],
                        [
                          0.8,
                          "#7fbc41"
                        ],
                        [
                          0.9,
                          "#4d9221"
                        ],
                        [
                          1,
                          "#276419"
                        ]
                      ],
                      "sequential": [
                        [
                          0,
                          "#0d0887"
                        ],
                        [
                          0.1111111111111111,
                          "#46039f"
                        ],
                        [
                          0.2222222222222222,
                          "#7201a8"
                        ],
                        [
                          0.3333333333333333,
                          "#9c179e"
                        ],
                        [
                          0.4444444444444444,
                          "#bd3786"
                        ],
                        [
                          0.5555555555555556,
                          "#d8576b"
                        ],
                        [
                          0.6666666666666666,
                          "#ed7953"
                        ],
                        [
                          0.7777777777777778,
                          "#fb9f3a"
                        ],
                        [
                          0.8888888888888888,
                          "#fdca26"
                        ],
                        [
                          1,
                          "#f0f921"
                        ]
                      ],
                      "sequentialminus": [
                        [
                          0,
                          "#0d0887"
                        ],
                        [
                          0.1111111111111111,
                          "#46039f"
                        ],
                        [
                          0.2222222222222222,
                          "#7201a8"
                        ],
                        [
                          0.3333333333333333,
                          "#9c179e"
                        ],
                        [
                          0.4444444444444444,
                          "#bd3786"
                        ],
                        [
                          0.5555555555555556,
                          "#d8576b"
                        ],
                        [
                          0.6666666666666666,
                          "#ed7953"
                        ],
                        [
                          0.7777777777777778,
                          "#fb9f3a"
                        ],
                        [
                          0.8888888888888888,
                          "#fdca26"
                        ],
                        [
                          1,
                          "#f0f921"
                        ]
                      ]
                    },
                    "colorway": [
                      "#636efa",
                      "#EF553B",
                      "#00cc96",
                      "#ab63fa",
                      "#FFA15A",
                      "#19d3f3",
                      "#FF6692",
                      "#B6E880",
                      "#FF97FF",
                      "#FECB52"
                    ],
                    "font": {
                      "color": "#2a3f5f"
                    },
                    "geo": {
                      "bgcolor": "white",
                      "lakecolor": "white",
                      "landcolor": "#E5ECF6",
                      "showlakes": true,
                      "showland": true,
                      "subunitcolor": "white"
                    },
                    "hoverlabel": {
                      "align": "left"
                    },
                    "hovermode": "closest",
                    "mapbox": {
                      "style": "light"
                    },
                    "paper_bgcolor": "white",
                    "plot_bgcolor": "#E5ECF6",
                    "polar": {
                      "angularaxis": {
                        "gridcolor": "white",
                        "linecolor": "white",
                        "ticks": ""
                      },
                      "bgcolor": "#E5ECF6",
                      "radialaxis": {
                        "gridcolor": "white",
                        "linecolor": "white",
                        "ticks": ""
                      }
                    },
                    "scene": {
                      "xaxis": {
                        "backgroundcolor": "#E5ECF6",
                        "gridcolor": "white",
                        "gridwidth": 2,
                        "linecolor": "white",
                        "showbackground": true,
                        "ticks": "",
                        "zerolinecolor": "white"
                      },
                      "yaxis": {
                        "backgroundcolor": "#E5ECF6",
                        "gridcolor": "white",
                        "gridwidth": 2,
                        "linecolor": "white",
                        "showbackground": true,
                        "ticks": "",
                        "zerolinecolor": "white"
                      },
                      "zaxis": {
                        "backgroundcolor": "#E5ECF6",
                        "gridcolor": "white",
                        "gridwidth": 2,
                        "linecolor": "white",
                        "showbackground": true,
                        "ticks": "",
                        "zerolinecolor": "white"
                      }
                    },
                    "shapedefaults": {
                      "line": {
                        "color": "#2a3f5f"
                      }
                    },
                    "ternary": {
                      "aaxis": {
                        "gridcolor": "white",
                        "linecolor": "white",
                        "ticks": ""
                      },
                      "baxis": {
                        "gridcolor": "white",
                        "linecolor": "white",
                        "ticks": ""
                      },
                      "bgcolor": "#E5ECF6",
                      "caxis": {
                        "gridcolor": "white",
                        "linecolor": "white",
                        "ticks": ""
                      }
                    },
                    "title": {
                      "x": 0.05
                    },
                    "xaxis": {
                      "automargin": true,
                      "gridcolor": "white",
                      "linecolor": "white",
                      "ticks": "",
                      "title": {
                        "standoff": 15
                      },
                      "zerolinecolor": "white",
                      "zerolinewidth": 2
                    },
                    "yaxis": {
                      "automargin": true,
                      "gridcolor": "white",
                      "linecolor": "white",
                      "ticks": "",
                      "title": {
                        "standoff": 15
                      },
                      "zerolinecolor": "white",
                      "zerolinewidth": 2
                    }
                  }
                },
                "xaxis": {
                  "anchor": "y",
                  "constrain": "domain",
                  "domain": [
                    0,
                    1
                  ],
                  "scaleanchor": "y"
                },
                "yaxis": {
                  "anchor": "x",
                  "autorange": "reversed",
                  "constrain": "domain",
                  "domain": [
                    0,
                    1
                  ]
                }
              }
            }
          },
          "metadata": {},
          "output_type": "display_data"
        }
      ],
      "source": [
        "# @title Quarterly megadataset for rice\n",
        "# Volume of Rice\n",
        "df1 = read_csv_to_df(\"datasets/agricultural-indicators/volume_rice-and-corn_quarterly.csv\")\n",
        "df1 = preprocess_baesians_1(df1, \"Palay\", \"Rice\", melt_value=\"Volume\")\n",
        "\n",
        "# Farmgate Price of Rice\n",
        "df = read_csv_to_df(\"datasets/prices/prices_farmgate-new-series_2010-2023.csv\")\n",
        "df = get_quarter_columns(df, range(2012, 2024), 2)\n",
        "df = preprocess_baesians_1(df, \"Palay [Paddy] Other Variety, dry (conv. to 14% mc)\", \"Rice\", melt_value=\"Farmgate Price\")\n",
        "df.dropna(inplace=True)\n",
        "\n",
        "# Retail Price of Rice\n",
        "df3 = read_csv_to_df(\"datasets/prices/prices_retail_2012-2023.csv\")\n",
        "tdf1 = pd.read_csv(\"datasets/prices/prices_retail_caraga_supplement.csv\", skiprows=1)\n",
        "tdf2 = pd.read_csv(\"datasets/prices/prices_retail_car_supplement.csv\", skiprows=1)\n",
        "df3 = pd.concat([df3, tdf1, tdf2])\n",
        "df3 = get_quarter_columns(df3, range(2012, 2024), 2)\n",
        "df3 = preprocess_baesians_1(df3, \"RICE, REGULAR-MILLED, 1 KG\", \"Rice\", melt_value=\"Retail Price\")\n",
        "\n",
        "# Wholesale Price of Rice\n",
        "df4 = pd.read_csv(\"datasets/prices/prices_wholesale-new-series_2010-2023.csv\",)\n",
        "df4 = get_quarter_columns(df4, range(2012, 2024), 2)\n",
        "df4 = preprocess_baesians_1(df4, \"Well Milled Rice (WMR)\", \"Rice\", melt_value=\"Wholesale Price\")\n",
        "\n",
        "# Cropyield (Area Harvested) of Rice\n",
        "df5 = pd.read_csv(\"datasets/agricultural-indicators/area-harvested-palay-corn_quarterly-annual_2010-2023.csv\", skiprows=1)\n",
        "df5 = preprocess_baesians_1(df5, \"Palay\", \"Rice\", melt_value=\"Area Harvested\")\n",
        "df5 = df5[df5[\"Period\"].str.contains(\"Q\")]\n",
        "\n",
        "# Consumer Price Index (All Income) per Region of Rice\n",
        "df6 = pd.read_csv(\"datasets/price-indices-2018-based/cpi_all-income-households-by-cg-with-backcasting_1994-2023.csv\")\n",
        "df6 = get_quarter_columns(df6, range(2012, 2024), 2)\n",
        "df6 = preprocess_baesians_1(df6, \"01.1.1.12 - Rice\", \"Rice\", melt_value=\"CPI All Income\")\n",
        "\n",
        "# Consumer Price Index (Bottom 30) per Region of Rice\n",
        "df7 = pd.read_csv(\"datasets/price-indices-2018-based/cpi_bottom-30-by-cg-with-backcasting_2012-2017.csv\")\n",
        "df7 = preprocess_baesians_1(df7, \"01.1.1.12 - Rice\", \"Rice\", melt_value=None)\n",
        "tdf = pd.read_csv(\"datasets/price-indices-2018-based/cpi_bottom-30-by-cg_2018-2023.csv\")\n",
        "tdf = preprocess_baesians_1(tdf, \"01.1.1.12 - Rice\", \"Rice\", melt_value=None)\n",
        "df7 = pd.merge(df7, tdf, on=[\"Geolocation\", \"Commodity\"])\n",
        "df7 = get_quarter_columns(df7, range(2012, 2024), 2)\n",
        "df7 = preprocess_baesians_1(df7, \"Rice\", \"Rice\", melt_value=\"CPI Bottom 30\")\n",
        "\n",
        "# Merge all dfs into a single df NOTE: geolocation must be in lower case\n",
        "# NOTE: barmm is removed because it has null values, unfortunately\n",
        "dfs = [df1, df, df3, df4, df5, df6, df7]\n",
        "df = functools.reduce(lambda left, right: pd.merge(left, right), dfs)\n",
        "move_column(df, \"Area Harvested\", 4)\n",
        "\n",
        "# ------------------------------------\n",
        "\n",
        "# Value of Production of Rice (Annual)\n",
        "df1 = df_val_of_prod\n",
        "col = df1.pop(\"Geolocation\")\n",
        "df1.insert(0, col.name, col)\n",
        "df1 = preprocess_baesians_1(df1, \"Rice\", \"Rice\", melt_value=\"Value of Production\")\n",
        "\n",
        "tdf = df.iloc[:,:3]\n",
        "tdf[\"Period\"] = df[\"Period\"].str.replace(\" Q\\d\", \"\", regex=True)\n",
        "df[\"Value of Production\"] = pd.merge(tdf, df1)[\"Value of Production\"]\n",
        "\n",
        "# Stocks of Rice (Annual)\n",
        "df1 = df_stocks\n",
        "tdf = df[\"Period\"].str.replace(\" Q\\d\", \"\", regex=True)\n",
        "distributed = []\n",
        "for period in tdf:\n",
        "    distributed.append(df1.loc[int(period), \"Stocks\"])\n",
        "df.insert(5, \"Stocks\", pd.Series(distributed))\n",
        "\n",
        "# for x in [\"Volume\", \"Area Harvested\", \"Stocks\"]:\n",
        "#     for y in [\"Retail Price\", \"Wholesale Price\", \"Farmgate Price\", \"CPI All Income\", \"CPI Bottom 30\", \"Value of Production\"]:\n",
        "#         fig = px.scatter(df, x=x, y=y, color=\"Geolocation\")\n",
        "#         # fig.show()\n",
        "\n",
        "# Correlation Matrix\n",
        "contingency = df.iloc[:, 3:].corr(method=\"spearman\")\n",
        "cont_1 = contingency.iloc[3:, 0:3]\n",
        "fig = px.imshow(cont_1, text_auto=True)\n",
        "fig.show()"
      ]
    },
    {
      "cell_type": "code",
      "execution_count": null,
      "metadata": {},
      "outputs": [],
      "source": [
        "# Statistics for \n",
        "# Import the necessary libraries:\n",
        "from scipy import stats\n",
        "from termcolor import colored\n",
        "\n",
        "sample_size = 500\n",
        "# Randomly sample 500 rows from the Quarterly-Regional Market-Farm dataset:\n",
        "df = df.sample(n=sample_size)\n",
        "\n",
        "# Filter the dataset for the two variables we want to compare:\n",
        "for x in [\"Volume\", \"Area Harvested\", \"Stocks\"]:\n",
        "    for y in [\"Retail Price\", \"Wholesale Price\", \"Farmgate Price\", \"CPI All Income\", \"CPI Bottom 30\", \"Value of Production\"]:\n",
        "        farm = df[x]\n",
        "        market = df[y]\n",
        "\n",
        "        # Perform the t-test:\n",
        "        t_stat, p_value = stats.ttest_ind(farm, market)\n",
        "\n",
        "        # Interpret the results:\n",
        "        alpha = 0.05\n",
        "        print(colored(p_value, \"red\"))\n",
        "        if p_value < alpha:\n",
        "            print(f\"Reject the null hypothesis; there is a significant difference between {x} and {y}.\")\n",
        "        else:\n",
        "            print(f\"Fail to reject the null hypothesis; there is no significant difference between {x} and {y}.\")"
      ]
    }
  ],
  "metadata": {
    "colab": {
      "include_colab_link": true,
      "provenance": [],
      "toc_visible": true
    },
    "kernelspec": {
      "display_name": "Python 3",
      "name": "python3"
    },
    "language_info": {
      "codemirror_mode": {
        "name": "ipython",
        "version": 3
      },
      "file_extension": ".py",
      "mimetype": "text/x-python",
      "name": "python",
      "nbconvert_exporter": "python",
      "pygments_lexer": "ipython3",
      "version": "3.11.8"
    }
  },
  "nbformat": 4,
  "nbformat_minor": 0
}
