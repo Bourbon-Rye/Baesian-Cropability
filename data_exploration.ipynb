{
  "cells": [
    {
      "cell_type": "markdown",
      "metadata": {
        "colab_type": "text",
        "id": "view-in-github"
      },
      "source": [
        "<a href=\"https://colab.research.google.com/github/Bourbon-Rye/Baesian-Cropability/blob/main/PilipiNuts_2023_Baesian_Cropability.ipynb\" target=\"_parent\"><img src=\"https://colab.research.google.com/assets/colab-badge.svg\" alt=\"Open In Colab\"/></a>"
      ]
    },
    {
      "cell_type": "markdown",
      "metadata": {},
      "source": [
        "# Setup"
      ]
    },
    {
      "cell_type": "code",
      "execution_count": 2,
      "metadata": {},
      "outputs": [],
      "source": [
        "\n",
        "# Minimal Setup\n",
        "import numpy as np\n",
        "import pandas as pd\n",
        "import geopandas as gpd\n",
        "\n",
        "import matplotlib as mpl\n",
        "import matplotlib.font_manager as fm\n",
        "import matplotlib.pyplot as plt\n",
        "import seaborn as sns\n",
        "\n",
        "import datetime\n",
        "\n",
        "import plotly.express as px\n",
        "import plotly.graph_objects as go\n",
        "import json"
      ]
    },
    {
      "cell_type": "markdown",
      "metadata": {
        "id": "yv0jREFhuh32"
      },
      "source": [
        "# Baesian Plots\n"
      ]
    },
    {
      "cell_type": "markdown",
      "metadata": {
        "id": "JToPchIbvMj_"
      },
      "source": [
        "## Yenzy Plots"
      ]
    },
    {
      "cell_type": "code",
      "execution_count": 4,
      "metadata": {},
      "outputs": [
        {
          "data": {
            "application/vnd.plotly.v1+json": {
              "config": {
                "plotlyServerURL": "https://plot.ly"
              },
              "data": [
                {
                  "customdata": [
                    [
                      "2012"
                    ],
                    [
                      "2013"
                    ],
                    [
                      "2014"
                    ],
                    [
                      "2015"
                    ],
                    [
                      "2016"
                    ],
                    [
                      "2017"
                    ],
                    [
                      "2018"
                    ],
                    [
                      "2019"
                    ],
                    [
                      "2020"
                    ],
                    [
                      "2021"
                    ],
                    [
                      "2022"
                    ],
                    [
                      "2023"
                    ]
                  ],
                  "hovertemplate": "Volume Produced=%{x}<br>Retail Price=%{y}<br>Year=%{customdata[0]}<extra></extra>",
                  "legendgroup": "",
                  "marker": {
                    "color": "#636efa",
                    "symbol": "circle"
                  },
                  "mode": "markers+text",
                  "name": "",
                  "orientation": "v",
                  "showlegend": false,
                  "text": [
                    "2012",
                    "2013",
                    "2014",
                    "2015",
                    "2016",
                    "2017",
                    "2018",
                    "2019",
                    "2020",
                    "2021",
                    "2022",
                    "2023"
                  ],
                  "textposition": "top center",
                  "type": "scatter",
                  "x": [
                    18032525.47,
                    18439419.73,
                    18967826.17,
                    18149837.78,
                    17627244.82,
                    19276346.63,
                    19066093.94,
                    18814827.29,
                    19294855.51,
                    19960170.2,
                    19756392.28,
                    20059561.96
                  ],
                  "xaxis": "x",
                  "y": [
                    36.844,
                    38.367000000000004,
                    43.19,
                    42.885000000000005,
                    43.025999999999996,
                    43.61,
                    47.674,
                    44.871,
                    43.63,
                    43.237,
                    43.662,
                    48.099000000000004
                  ],
                  "yaxis": "y"
                }
              ],
              "layout": {
                "legend": {
                  "tracegroupgap": 0
                },
                "template": {
                  "data": {
                    "bar": [
                      {
                        "error_x": {
                          "color": "#2a3f5f"
                        },
                        "error_y": {
                          "color": "#2a3f5f"
                        },
                        "marker": {
                          "line": {
                            "color": "#E5ECF6",
                            "width": 0.5
                          },
                          "pattern": {
                            "fillmode": "overlay",
                            "size": 10,
                            "solidity": 0.2
                          }
                        },
                        "type": "bar"
                      }
                    ],
                    "barpolar": [
                      {
                        "marker": {
                          "line": {
                            "color": "#E5ECF6",
                            "width": 0.5
                          },
                          "pattern": {
                            "fillmode": "overlay",
                            "size": 10,
                            "solidity": 0.2
                          }
                        },
                        "type": "barpolar"
                      }
                    ],
                    "carpet": [
                      {
                        "aaxis": {
                          "endlinecolor": "#2a3f5f",
                          "gridcolor": "white",
                          "linecolor": "white",
                          "minorgridcolor": "white",
                          "startlinecolor": "#2a3f5f"
                        },
                        "baxis": {
                          "endlinecolor": "#2a3f5f",
                          "gridcolor": "white",
                          "linecolor": "white",
                          "minorgridcolor": "white",
                          "startlinecolor": "#2a3f5f"
                        },
                        "type": "carpet"
                      }
                    ],
                    "choropleth": [
                      {
                        "colorbar": {
                          "outlinewidth": 0,
                          "ticks": ""
                        },
                        "type": "choropleth"
                      }
                    ],
                    "contour": [
                      {
                        "colorbar": {
                          "outlinewidth": 0,
                          "ticks": ""
                        },
                        "colorscale": [
                          [
                            0,
                            "#0d0887"
                          ],
                          [
                            0.1111111111111111,
                            "#46039f"
                          ],
                          [
                            0.2222222222222222,
                            "#7201a8"
                          ],
                          [
                            0.3333333333333333,
                            "#9c179e"
                          ],
                          [
                            0.4444444444444444,
                            "#bd3786"
                          ],
                          [
                            0.5555555555555556,
                            "#d8576b"
                          ],
                          [
                            0.6666666666666666,
                            "#ed7953"
                          ],
                          [
                            0.7777777777777778,
                            "#fb9f3a"
                          ],
                          [
                            0.8888888888888888,
                            "#fdca26"
                          ],
                          [
                            1,
                            "#f0f921"
                          ]
                        ],
                        "type": "contour"
                      }
                    ],
                    "contourcarpet": [
                      {
                        "colorbar": {
                          "outlinewidth": 0,
                          "ticks": ""
                        },
                        "type": "contourcarpet"
                      }
                    ],
                    "heatmap": [
                      {
                        "colorbar": {
                          "outlinewidth": 0,
                          "ticks": ""
                        },
                        "colorscale": [
                          [
                            0,
                            "#0d0887"
                          ],
                          [
                            0.1111111111111111,
                            "#46039f"
                          ],
                          [
                            0.2222222222222222,
                            "#7201a8"
                          ],
                          [
                            0.3333333333333333,
                            "#9c179e"
                          ],
                          [
                            0.4444444444444444,
                            "#bd3786"
                          ],
                          [
                            0.5555555555555556,
                            "#d8576b"
                          ],
                          [
                            0.6666666666666666,
                            "#ed7953"
                          ],
                          [
                            0.7777777777777778,
                            "#fb9f3a"
                          ],
                          [
                            0.8888888888888888,
                            "#fdca26"
                          ],
                          [
                            1,
                            "#f0f921"
                          ]
                        ],
                        "type": "heatmap"
                      }
                    ],
                    "heatmapgl": [
                      {
                        "colorbar": {
                          "outlinewidth": 0,
                          "ticks": ""
                        },
                        "colorscale": [
                          [
                            0,
                            "#0d0887"
                          ],
                          [
                            0.1111111111111111,
                            "#46039f"
                          ],
                          [
                            0.2222222222222222,
                            "#7201a8"
                          ],
                          [
                            0.3333333333333333,
                            "#9c179e"
                          ],
                          [
                            0.4444444444444444,
                            "#bd3786"
                          ],
                          [
                            0.5555555555555556,
                            "#d8576b"
                          ],
                          [
                            0.6666666666666666,
                            "#ed7953"
                          ],
                          [
                            0.7777777777777778,
                            "#fb9f3a"
                          ],
                          [
                            0.8888888888888888,
                            "#fdca26"
                          ],
                          [
                            1,
                            "#f0f921"
                          ]
                        ],
                        "type": "heatmapgl"
                      }
                    ],
                    "histogram": [
                      {
                        "marker": {
                          "pattern": {
                            "fillmode": "overlay",
                            "size": 10,
                            "solidity": 0.2
                          }
                        },
                        "type": "histogram"
                      }
                    ],
                    "histogram2d": [
                      {
                        "colorbar": {
                          "outlinewidth": 0,
                          "ticks": ""
                        },
                        "colorscale": [
                          [
                            0,
                            "#0d0887"
                          ],
                          [
                            0.1111111111111111,
                            "#46039f"
                          ],
                          [
                            0.2222222222222222,
                            "#7201a8"
                          ],
                          [
                            0.3333333333333333,
                            "#9c179e"
                          ],
                          [
                            0.4444444444444444,
                            "#bd3786"
                          ],
                          [
                            0.5555555555555556,
                            "#d8576b"
                          ],
                          [
                            0.6666666666666666,
                            "#ed7953"
                          ],
                          [
                            0.7777777777777778,
                            "#fb9f3a"
                          ],
                          [
                            0.8888888888888888,
                            "#fdca26"
                          ],
                          [
                            1,
                            "#f0f921"
                          ]
                        ],
                        "type": "histogram2d"
                      }
                    ],
                    "histogram2dcontour": [
                      {
                        "colorbar": {
                          "outlinewidth": 0,
                          "ticks": ""
                        },
                        "colorscale": [
                          [
                            0,
                            "#0d0887"
                          ],
                          [
                            0.1111111111111111,
                            "#46039f"
                          ],
                          [
                            0.2222222222222222,
                            "#7201a8"
                          ],
                          [
                            0.3333333333333333,
                            "#9c179e"
                          ],
                          [
                            0.4444444444444444,
                            "#bd3786"
                          ],
                          [
                            0.5555555555555556,
                            "#d8576b"
                          ],
                          [
                            0.6666666666666666,
                            "#ed7953"
                          ],
                          [
                            0.7777777777777778,
                            "#fb9f3a"
                          ],
                          [
                            0.8888888888888888,
                            "#fdca26"
                          ],
                          [
                            1,
                            "#f0f921"
                          ]
                        ],
                        "type": "histogram2dcontour"
                      }
                    ],
                    "mesh3d": [
                      {
                        "colorbar": {
                          "outlinewidth": 0,
                          "ticks": ""
                        },
                        "type": "mesh3d"
                      }
                    ],
                    "parcoords": [
                      {
                        "line": {
                          "colorbar": {
                            "outlinewidth": 0,
                            "ticks": ""
                          }
                        },
                        "type": "parcoords"
                      }
                    ],
                    "pie": [
                      {
                        "automargin": true,
                        "type": "pie"
                      }
                    ],
                    "scatter": [
                      {
                        "fillpattern": {
                          "fillmode": "overlay",
                          "size": 10,
                          "solidity": 0.2
                        },
                        "type": "scatter"
                      }
                    ],
                    "scatter3d": [
                      {
                        "line": {
                          "colorbar": {
                            "outlinewidth": 0,
                            "ticks": ""
                          }
                        },
                        "marker": {
                          "colorbar": {
                            "outlinewidth": 0,
                            "ticks": ""
                          }
                        },
                        "type": "scatter3d"
                      }
                    ],
                    "scattercarpet": [
                      {
                        "marker": {
                          "colorbar": {
                            "outlinewidth": 0,
                            "ticks": ""
                          }
                        },
                        "type": "scattercarpet"
                      }
                    ],
                    "scattergeo": [
                      {
                        "marker": {
                          "colorbar": {
                            "outlinewidth": 0,
                            "ticks": ""
                          }
                        },
                        "type": "scattergeo"
                      }
                    ],
                    "scattergl": [
                      {
                        "marker": {
                          "colorbar": {
                            "outlinewidth": 0,
                            "ticks": ""
                          }
                        },
                        "type": "scattergl"
                      }
                    ],
                    "scattermapbox": [
                      {
                        "marker": {
                          "colorbar": {
                            "outlinewidth": 0,
                            "ticks": ""
                          }
                        },
                        "type": "scattermapbox"
                      }
                    ],
                    "scatterpolar": [
                      {
                        "marker": {
                          "colorbar": {
                            "outlinewidth": 0,
                            "ticks": ""
                          }
                        },
                        "type": "scatterpolar"
                      }
                    ],
                    "scatterpolargl": [
                      {
                        "marker": {
                          "colorbar": {
                            "outlinewidth": 0,
                            "ticks": ""
                          }
                        },
                        "type": "scatterpolargl"
                      }
                    ],
                    "scatterternary": [
                      {
                        "marker": {
                          "colorbar": {
                            "outlinewidth": 0,
                            "ticks": ""
                          }
                        },
                        "type": "scatterternary"
                      }
                    ],
                    "surface": [
                      {
                        "colorbar": {
                          "outlinewidth": 0,
                          "ticks": ""
                        },
                        "colorscale": [
                          [
                            0,
                            "#0d0887"
                          ],
                          [
                            0.1111111111111111,
                            "#46039f"
                          ],
                          [
                            0.2222222222222222,
                            "#7201a8"
                          ],
                          [
                            0.3333333333333333,
                            "#9c179e"
                          ],
                          [
                            0.4444444444444444,
                            "#bd3786"
                          ],
                          [
                            0.5555555555555556,
                            "#d8576b"
                          ],
                          [
                            0.6666666666666666,
                            "#ed7953"
                          ],
                          [
                            0.7777777777777778,
                            "#fb9f3a"
                          ],
                          [
                            0.8888888888888888,
                            "#fdca26"
                          ],
                          [
                            1,
                            "#f0f921"
                          ]
                        ],
                        "type": "surface"
                      }
                    ],
                    "table": [
                      {
                        "cells": {
                          "fill": {
                            "color": "#EBF0F8"
                          },
                          "line": {
                            "color": "white"
                          }
                        },
                        "header": {
                          "fill": {
                            "color": "#C8D4E3"
                          },
                          "line": {
                            "color": "white"
                          }
                        },
                        "type": "table"
                      }
                    ]
                  },
                  "layout": {
                    "annotationdefaults": {
                      "arrowcolor": "#2a3f5f",
                      "arrowhead": 0,
                      "arrowwidth": 1
                    },
                    "autotypenumbers": "strict",
                    "coloraxis": {
                      "colorbar": {
                        "outlinewidth": 0,
                        "ticks": ""
                      }
                    },
                    "colorscale": {
                      "diverging": [
                        [
                          0,
                          "#8e0152"
                        ],
                        [
                          0.1,
                          "#c51b7d"
                        ],
                        [
                          0.2,
                          "#de77ae"
                        ],
                        [
                          0.3,
                          "#f1b6da"
                        ],
                        [
                          0.4,
                          "#fde0ef"
                        ],
                        [
                          0.5,
                          "#f7f7f7"
                        ],
                        [
                          0.6,
                          "#e6f5d0"
                        ],
                        [
                          0.7,
                          "#b8e186"
                        ],
                        [
                          0.8,
                          "#7fbc41"
                        ],
                        [
                          0.9,
                          "#4d9221"
                        ],
                        [
                          1,
                          "#276419"
                        ]
                      ],
                      "sequential": [
                        [
                          0,
                          "#0d0887"
                        ],
                        [
                          0.1111111111111111,
                          "#46039f"
                        ],
                        [
                          0.2222222222222222,
                          "#7201a8"
                        ],
                        [
                          0.3333333333333333,
                          "#9c179e"
                        ],
                        [
                          0.4444444444444444,
                          "#bd3786"
                        ],
                        [
                          0.5555555555555556,
                          "#d8576b"
                        ],
                        [
                          0.6666666666666666,
                          "#ed7953"
                        ],
                        [
                          0.7777777777777778,
                          "#fb9f3a"
                        ],
                        [
                          0.8888888888888888,
                          "#fdca26"
                        ],
                        [
                          1,
                          "#f0f921"
                        ]
                      ],
                      "sequentialminus": [
                        [
                          0,
                          "#0d0887"
                        ],
                        [
                          0.1111111111111111,
                          "#46039f"
                        ],
                        [
                          0.2222222222222222,
                          "#7201a8"
                        ],
                        [
                          0.3333333333333333,
                          "#9c179e"
                        ],
                        [
                          0.4444444444444444,
                          "#bd3786"
                        ],
                        [
                          0.5555555555555556,
                          "#d8576b"
                        ],
                        [
                          0.6666666666666666,
                          "#ed7953"
                        ],
                        [
                          0.7777777777777778,
                          "#fb9f3a"
                        ],
                        [
                          0.8888888888888888,
                          "#fdca26"
                        ],
                        [
                          1,
                          "#f0f921"
                        ]
                      ]
                    },
                    "colorway": [
                      "#636efa",
                      "#EF553B",
                      "#00cc96",
                      "#ab63fa",
                      "#FFA15A",
                      "#19d3f3",
                      "#FF6692",
                      "#B6E880",
                      "#FF97FF",
                      "#FECB52"
                    ],
                    "font": {
                      "color": "#2a3f5f"
                    },
                    "geo": {
                      "bgcolor": "white",
                      "lakecolor": "white",
                      "landcolor": "#E5ECF6",
                      "showlakes": true,
                      "showland": true,
                      "subunitcolor": "white"
                    },
                    "hoverlabel": {
                      "align": "left"
                    },
                    "hovermode": "closest",
                    "mapbox": {
                      "style": "light"
                    },
                    "paper_bgcolor": "white",
                    "plot_bgcolor": "#E5ECF6",
                    "polar": {
                      "angularaxis": {
                        "gridcolor": "white",
                        "linecolor": "white",
                        "ticks": ""
                      },
                      "bgcolor": "#E5ECF6",
                      "radialaxis": {
                        "gridcolor": "white",
                        "linecolor": "white",
                        "ticks": ""
                      }
                    },
                    "scene": {
                      "xaxis": {
                        "backgroundcolor": "#E5ECF6",
                        "gridcolor": "white",
                        "gridwidth": 2,
                        "linecolor": "white",
                        "showbackground": true,
                        "ticks": "",
                        "zerolinecolor": "white"
                      },
                      "yaxis": {
                        "backgroundcolor": "#E5ECF6",
                        "gridcolor": "white",
                        "gridwidth": 2,
                        "linecolor": "white",
                        "showbackground": true,
                        "ticks": "",
                        "zerolinecolor": "white"
                      },
                      "zaxis": {
                        "backgroundcolor": "#E5ECF6",
                        "gridcolor": "white",
                        "gridwidth": 2,
                        "linecolor": "white",
                        "showbackground": true,
                        "ticks": "",
                        "zerolinecolor": "white"
                      }
                    },
                    "shapedefaults": {
                      "line": {
                        "color": "#2a3f5f"
                      }
                    },
                    "ternary": {
                      "aaxis": {
                        "gridcolor": "white",
                        "linecolor": "white",
                        "ticks": ""
                      },
                      "baxis": {
                        "gridcolor": "white",
                        "linecolor": "white",
                        "ticks": ""
                      },
                      "bgcolor": "#E5ECF6",
                      "caxis": {
                        "gridcolor": "white",
                        "linecolor": "white",
                        "ticks": ""
                      }
                    },
                    "title": {
                      "x": 0.05
                    },
                    "xaxis": {
                      "automargin": true,
                      "gridcolor": "white",
                      "linecolor": "white",
                      "ticks": "",
                      "title": {
                        "standoff": 15
                      },
                      "zerolinecolor": "white",
                      "zerolinewidth": 2
                    },
                    "yaxis": {
                      "automargin": true,
                      "gridcolor": "white",
                      "linecolor": "white",
                      "ticks": "",
                      "title": {
                        "standoff": 15
                      },
                      "zerolinecolor": "white",
                      "zerolinewidth": 2
                    }
                  }
                },
                "title": {
                  "text": "Rice: Volume Produced vs Retail Price (2012-2018)<br>National averages"
                },
                "xaxis": {
                  "anchor": "y",
                  "domain": [
                    0,
                    1
                  ],
                  "title": {
                    "text": "Volume Produced"
                  }
                },
                "yaxis": {
                  "anchor": "x",
                  "domain": [
                    0,
                    1
                  ],
                  "title": {
                    "text": "Retail Price"
                  }
                }
              }
            }
          },
          "metadata": {},
          "output_type": "display_data"
        }
      ],
      "source": [
        "# @title Rice Price and Cropyield Scatterplot (Annual)\n",
        "df1 = pd.read_csv(\"datasets/agricultural-indicators/Volume_Rice and Corn_annual.csv\", skiprows=2)\n",
        "df1 = df1[(df1[\"Ecosystem/Croptype\"] == \"Palay\") & (df1[\"Geolocation\"] == \"PHILIPPINES\")]\n",
        "def renamer(s: str):\n",
        "    if s == \"Ecosystem/Croptype\":\n",
        "        return \"Commodity\"\n",
        "    elif \"Annual\" in s:\n",
        "        return s.split()[0]\n",
        "    else:\n",
        "        return s\n",
        "df1.rename(renamer, axis=1, inplace=True)\n",
        "df2 = pd.read_csv(\"datasets/prices/precleaned/prices_retail_2012-2023.csv\")\n",
        "for year in range(2012, 2024):\n",
        "    df2[str(year)] = df2.filter(regex=str(year), axis=1).iloc[:, 2:].mean(axis=1)\n",
        "    df2.drop(df2.filter(regex=f\"{year} \").columns, axis = 1, inplace = True)\n",
        "\n",
        "df1 = pd.concat([df1.iloc[:, 0], df1.loc[:, \"2012\":]], axis=1)\n",
        "\n",
        "df2 = df2[(df2.Commodity == \"RICE, WELL-MILLED, 1 KG\") & (df2.Geolocation == \"PHILIPPINES\")].iloc[:, 1:]\n",
        "\n",
        "df = pd.concat([df1, df2])\n",
        "df = df.set_index(\"Commodity\").T\n",
        "df = df.reset_index(names='Year')\n",
        "df.columns = [\"Year\", \"Volume Produced\", \"Retail Price\"]\n",
        "df\n",
        "\n",
        "fig = px.scatter(df, x=\"Volume Produced\", y=\"Retail Price\",\n",
        "                  hover_data=['Year'], text=\"Year\", title=\"Rice: Volume Produced vs Retail Price (2012-2018)<br>National averages\")\n",
        "fig.update_traces(textposition='top center')\n",
        "fig.show()"
      ]
    },
    {
      "cell_type": "code",
      "execution_count": null,
      "metadata": {},
      "outputs": [],
      "source": [
        "# @title Rice Price and Cropyield Scatterplot (Quarterly)\n",
        "import pandas as pd\n",
        "import plotly as px\n",
        "df1 = pd.read_csv(\"datasets/agricultural-indicators/Volume_Rice and Corn_quarterly.csv\", skiprows=2)\n",
        "df1 = df1[(df1[\"Ecosystem/Croptype\"] == \"Palay\") & (df1[\"Geolocation\"] == \"PHILIPPINES\")]\n",
        "def renamer(s: str):\n",
        "    if s == \"Ecosystem/Croptype\":\n",
        "        return \"Commodity\"\n",
        "    elif \"Annual\" in s:\n",
        "        return s.split()[0]\n",
        "    else:\n",
        "        return s\n",
        "df1.rename(renamer, axis=1, inplace=True)\n",
        "df2 = pd.read_csv(\"datasets/prices/precleaned/prices_retail_2012-2023.csv\")\n",
        "df2 = df2[(df2.Commodity == \"RICE, WELL-MILLED, 1 KG\") & (df2.Geolocation == \"PHILIPPINES\")]\n",
        "for year in range(2012, 2024):\n",
        "    for q in range(0, 12, 3):\n",
        "        # print(year, q//3+1, q, q+3)\n",
        "        df2[f\"{year} Quarter {q//3+1}\"] = df2.filter(regex=str(year), axis=1).iloc[:, q:q+3].mean(axis=1)\n",
        "df2 = df2.filter(regex=\"Quarter|Commodity\", axis=1)\n",
        "\n",
        "df1 = pd.concat([df1.iloc[:, 0], df1.loc[:, \"2012 Quarter 1\":]], axis=1)\n",
        "df = pd.concat([df1, df2])\n",
        "df\n",
        "\n",
        "df = df.set_index(\"Commodity\").T\n",
        "df = df.reset_index(names='Year Quarter')\n",
        "df.columns = [\"Year Quarter\", \"Volume Produced\", \"Retail Price\"]\n",
        "df.insert(loc=1, column=\"Quarter\", value=df['Year Quarter'].str.extract(r'Quarter (.*)'))\n",
        "df.insert(loc=1, column=\"Year\", value=df['Year Quarter'].str.extract(r'(.*) Quarter'))\n",
        "df.drop([\"Year Quarter\"], axis=1, inplace=True)\n",
        "\n",
        "fig = px.scatter(df, x=\"Volume Produced\", y=\"Retail Price\", color=\"Quarter\",\n",
        "                  title=\"Rice: Volume Produced vs Retail Price (2012-2018)<br>National averages\")\n",
        "fig.update_traces(textposition='top center')\n",
        "fig.show()"
      ]
    },
    {
      "cell_type": "code",
      "execution_count": null,
      "metadata": {},
      "outputs": [],
      "source": [
        "# PROVINCIAL RICE: VOLUME VS RETAIL PRICE (QUARTERLY, 2012-2023)\n",
        "def geolocation_inator(df: pd.DataFrame, loc: str|None):\n",
        "    if (loc == \"Provincial\"):\n",
        "        df = df[df[\"Geolocation\"].str.startswith(\"....\")]\n",
        "    elif (loc == \"Regional\"):\n",
        "        df = df[df[\"Geolocation\"].str.startswith(\"..\")]\n",
        "    elif (loc == \"National\"):\n",
        "        df = df[df[\"Geolocation\"] == \"PHILIPPINES\"]\n",
        "    df = df.reset_index(drop=True)\n",
        "    df[\"Geolocation\"] = df[\"Geolocation\"].str.lstrip(\".\")\n",
        "    return df\n",
        "\n",
        "\n",
        "def renamer(s: str):\n",
        "    if s == \"Ecosystem/Croptype\":\n",
        "        return \"Commodity\"\n",
        "    elif \"Annual\" in s:\n",
        "        return s.split()[0]\n",
        "    else:\n",
        "        return s\n",
        "\n",
        "\n",
        "# NOTE: The ldots are actually useful, we can use them in creating national, regional, and provincial geolocations\n",
        "df1 = pd.read_csv(\"datasets/agricultural-indicators/Volume_Rice and Corn_quarterly.csv\", skiprows=2)\n",
        "df1.dropna(inplace=True)\n",
        "df1 = geolocation_inator(df1, \"Provincial\")\n",
        "df1.insert(2, \"Type\", \"Volume\")\n",
        "df1.rename(renamer, axis=1, inplace=True)\n",
        "df1 = df1[(df1.Commodity == \"Palay\")]\n",
        "df1 = pd.concat([df1.iloc[:, [1,0,2]], df1.iloc[:, 3:]], axis=1)\n",
        "df1\n",
        "\n",
        "df2 = pd.read_csv(\"datasets/prices/precleaned/prices_retail_2012-2023.csv\")\n",
        "df2.dropna(inplace=True)\n",
        "df2 = geolocation_inator(df2, \"Provincial\")\n",
        "df2.insert(2, \"Type\", \"Retail Price\")\n",
        "df2 = df2[(df2.Commodity == \"RICE, WELL-MILLED, 1 KG\")]\n",
        "df2.Commodity = \"Palay\"\n",
        "df1\n",
        "\n",
        "for year in range(2012, 2024):\n",
        "    for q in range(0, 12, 3):\n",
        "        # print(year, q//3+1, q, q+3)\n",
        "        df2[f\"{year} Quarter {q//3+1}\"] = df2.filter(regex=str(year), axis=1).iloc[:, q:q+3].mean(axis=1)\n",
        "df2 = df2.filter(regex=\"Geolocation|Type|Quarter|Commodity\", axis=1)\n",
        "\n",
        "df1 = pd.concat([df1.iloc[:, 0:3], df1.loc[:, \"2012 Quarter 1\":]], axis=1)\n",
        "df = pd.concat([df1, df2])\n",
        "df.sort_values(by=[\"Geolocation\", \"Type\"], inplace=True)\n",
        "df.reset_index(drop=True, inplace=True)\n",
        "\n",
        "# REMOVING PROVINCES WITHOUT PAIR\n",
        "to_drop = []\n",
        "i = 0\n",
        "for province in df[\"Geolocation\"].unique():\n",
        "    test = df[df[\"Geolocation\"] == province]\n",
        "    # print(check.iloc[:, 0:1])\n",
        "    # print(i, province, test.shape)\n",
        "    if test.shape[0] == 1:\n",
        "        df.drop(index=[int(test.index[0])], axis = 0, inplace=True)\n",
        "\n",
        "# # PLOTTING\n",
        "df = df.T\n",
        "df.drop([\"Commodity\"], axis=0, inplace=True)\n",
        "# df = df.iloc[:, 0:2]\n",
        "# df.insert(0, \"Province\", df.iloc[0,0])\n",
        "# df.drop([\"Geolocation\", \"Type\"], inplace=True)\n",
        "# df.columns = [\"Province\", \"Volume Produced\", \"Retail Price\"]\n",
        "\n",
        "tdf_acc = pd.DataFrame(columns=[\"Province\", \"Retail Price\", \"Volume\"])\n",
        "for i in range(0, len(df.columns), 2):\n",
        "    tdf = df.iloc[:, i:i+2]\n",
        "    tdf.insert(0, \"Province\", tdf.iloc[0,0])\n",
        "    tdf = tdf.drop([\"Geolocation\", \"Type\"], axis=0)\n",
        "    tdf.columns = [\"Province\", \"Retail Price\", \"Volume\"]\n",
        "    if i != 0:\n",
        "        tdf_acc = pd.concat([tdf, tdf_acc])\n",
        "    if i == 130:\n",
        "        break\n",
        "        \n",
        "df = tdf_acc\n",
        "df\n",
        "        \n",
        "fig = px.scatter(df, x=\"Volume\", y=\"Retail Price\", color=\"Province\",\n",
        "                    title=\"Rice: Volume Produced vs Retail Price (2012-2018)<br>National quarterly averages\")\n",
        "fig.update_traces(textposition='top center')\n",
        "fig.update_layout(\n",
        "    xaxis_title=\"Volume Produced (tons)\", yaxis_title=\"Retail Price (PHP)\"\n",
        ")\n",
        "fig.show()\n",
        "fig.write_html(\"provincial_rice.html\")\n",
        "    \n",
        "# for province in df[\"Geolocation\"].unique():\n",
        "#     plot_df = df[df[\"Geolocation\"] == province]\n",
        "#     if plot_df.shape[0] == 1:\n",
        "#         continue\n",
        "#     plot_df = plot_df.T.drop([\"Commodity\"], axis=0)\n",
        "#     plot_df.drop([\"Geolocation\", \"Type\"], inplace=True)\n",
        "#     plot_df.columns = [\"Volume Produced\", \"Retail Price\"]\n",
        "#     fig = px.scatter(plot_df, x=\"Volume Produced\", y=\"Retail Price\",\n",
        "#                       title=f\"Rice in {province}: Volume Produced vs Retail Price (2012-2018)<br>National quarterly averages\")\n",
        "#     fig.update_traces(textposition='top center')\n",
        "#     fig.update_layout(\n",
        "#         xaxis_title=\"Volume Produced (tons)\", yaxis_title=\"Retail Price (PHP)\"\n",
        "#     )\n",
        "#     fig.show()\n",
        "#     # fig = go.Figure(data = fig1.data + fig2.data)\n",
        "\n",
        "tdf_acc\n"
      ]
    },
    {
      "cell_type": "code",
      "execution_count": null,
      "metadata": {},
      "outputs": [],
      "source": [
        "import plotly.graph_objects as go\n",
        "from plotly.subplots import make_subplots\n",
        "\n",
        "# Create figure with secondary y-axis\n",
        "fig = make_subplots(specs=[[{\"secondary_y\": True}]])\n",
        "\n",
        "df1 = pd.read_csv(\"datasets/agricultural-indicators/Volume_Rice and Corn_annual.csv\", skiprows=2)\n",
        "df1 = df1[(df1[\"Ecosystem/Croptype\"] == \"Palay\") & (df1[\"Geolocation\"] == \"PHILIPPINES\")]\n",
        "def renamer(s: str):\n",
        "    if s == \"Ecosystem/Croptype\":\n",
        "        return \"Commodity\"\n",
        "    elif \"Annual\" in s:\n",
        "        return s.split()[0]\n",
        "    else:\n",
        "        return s\n",
        "df1.rename(renamer, axis=1, inplace=True)\n",
        "df2 = pd.read_csv(\"datasets/prices/precleaned/prices_retail_2012-2023.csv\")\n",
        "for year in range(2012, 2024):\n",
        "    df2[str(year)] = df2.filter(regex=str(year), axis=1).iloc[:, 2:].mean(axis=1)\n",
        "    df2.drop(df2.filter(regex=f\"{year} \").columns, axis = 1, inplace = True)\n",
        "\n",
        "df1 = pd.concat([df1.iloc[:, 0], df1.loc[:, \"2012\":]], axis=1)\n",
        "\n",
        "df2 = df2[(df2.Commodity == \"RICE, WELL-MILLED, 1 KG\") & (df2.Geolocation == \"PHILIPPINES\")].iloc[:, 1:]\n",
        "\n",
        "df = pd.concat([df1, df2])\n",
        "df = df.set_index(\"Commodity\").T\n",
        "df = df.reset_index(names='Year')\n",
        "df.columns = [\"Year\", \"Volume Produced\", \"Retail Price\"]\n",
        "df\n",
        "\n",
        "# Add traces\n",
        "fig.add_trace(\n",
        "    go.Scatter(x=df[\"Year\"], y=df[\"Retail Price\"], name=\"Retail Price\"),\n",
        "    secondary_y=False,\n",
        ")\n",
        "\n",
        "fig.add_trace(\n",
        "    go.Scatter(x=df[\"Year\"], y=df[\"Volume Produced\"], name=\"Volume Produced\"),\n",
        "    secondary_y=True,\n",
        ")\n",
        "\n",
        "# Add figure title\n",
        "fig.update_layout(\n",
        "    title_text=\"Rice in the Philippines: Retail Price and Volume of Production (2012-2023)<br>Annual averages for Retail Price of Well-Milled Rice, and Volume of Irrigated Palay\"\n",
        ")\n",
        "\n",
        "# Set x-axis title\n",
        "fig.update_xaxes(title_text=\"Year\")\n",
        "\n",
        "# Set y-axes titles\n",
        "fig.update_yaxes(title_text=\"<b>Retail Price</b> (PHP)\", secondary_y=False)\n",
        "fig.update_yaxes(title_text=\"<b>Volume of Production</b> (tons)\", secondary_y=True)\n",
        "\n",
        "fig.show()"
      ]
    },
    {
      "cell_type": "code",
      "execution_count": null,
      "metadata": {},
      "outputs": [],
      "source": [
        "import plotly.graph_objects as go\n",
        "from plotly.subplots import make_subplots\n",
        "\n",
        "# Create figure with secondary y-axis\n",
        "fig = make_subplots(specs=[[{\"secondary_y\": True}]])\n",
        "\n",
        "df1 = pd.read_csv(\"datasets/agricultural-indicators/Volume_Rice and Corn_quarterly.csv\", skiprows=2)\n",
        "df1 = df1[(df1[\"Ecosystem/Croptype\"] == \"Palay\") & (df1[\"Geolocation\"] == \"PHILIPPINES\")]\n",
        "def renamer(s: str):\n",
        "    if s == \"Ecosystem/Croptype\":\n",
        "        return \"Commodity\"\n",
        "    elif \"Annual\" in s:\n",
        "        return s.split()[0]\n",
        "    else:\n",
        "        return s\n",
        "df1.rename(renamer, axis=1, inplace=True)\n",
        "df2 = pd.read_csv(\"datasets/prices/precleaned/prices_retail_2012-2023.csv\")\n",
        "df2 = df2[(df2.Commodity == \"RICE, WELL-MILLED, 1 KG\") & (df2.Geolocation == \"PHILIPPINES\")]\n",
        "for year in range(2012, 2024):\n",
        "    for q in range(0, 12, 3):\n",
        "        # print(year, q//3+1, q, q+3)\n",
        "        df2[f\"{year} Quarter {q//3+1}\"] = df2.filter(regex=str(year), axis=1).iloc[:, q:q+3].mean(axis=1)\n",
        "df2 = df2.filter(regex=\"Quarter|Commodity\", axis=1)\n",
        "\n",
        "df1 = pd.concat([df1.iloc[:, 0], df1.loc[:, \"2012 Quarter 1\":]], axis=1)\n",
        "df = pd.concat([df1, df2])\n",
        "df\n",
        "\n",
        "df = df.set_index(\"Commodity\").T\n",
        "df = df.reset_index(names='Year Quarter')\n",
        "df.columns = [\"Year Quarter\", \"Volume Produced\", \"Retail Price\"]\n",
        "df.insert(loc=1, column=\"Quarter\", value=df['Year Quarter'].str.extract(r'Quarter (.*)'))\n",
        "df.insert(loc=1, column=\"Year\", value=df['Year Quarter'].str.extract(r'(.*) Quarter'))\n",
        "\n",
        "# Add traces\n",
        "fig.add_trace(\n",
        "    go.Scatter(x=df[\"Year Quarter\"], y=df[\"Retail Price\"], name=\"Retail Price\"),\n",
        "    secondary_y=False,\n",
        ")\n",
        "\n",
        "fig.add_trace(\n",
        "    go.Scatter(x=df[\"Year Quarter\"], y=df[\"Volume Produced\"], name=\"Volume Produced\"),\n",
        "    secondary_y=True,\n",
        ")\n",
        "\n",
        "# Add figure title\n",
        "fig.update_layout(\n",
        "    title_text=\"Rice in the Philippines: Retail Price and Volume of Production (2012-2023)<br>Quarterly averages for Retail Price of Well-Milled Rice, and Volume of Irrigated Palay\"\n",
        ")\n",
        "\n",
        "# Set x-axis title\n",
        "fig.update_xaxes(title_text=\"Year\")\n",
        "\n",
        "# Set y-axes titles\n",
        "fig.update_yaxes(title_text=\"<b>Retail Price</b> (PHP)\", secondary_y=False)\n",
        "fig.update_yaxes(title_text=\"<b>Volume of Production</b> (tons)\", secondary_y=True)\n",
        "\n",
        "fig.show()"
      ]
    },
    {
      "cell_type": "code",
      "execution_count": null,
      "metadata": {},
      "outputs": [],
      "source": [
        "import plotly.graph_objects as go\n",
        "from plotly.subplots import make_subplots\n",
        "\n",
        "# Create figure with secondary y-axis\n",
        "fig = make_subplots(specs=[[{\"secondary_y\": True}]])\n",
        "\n",
        "# NOTE: The ldots are actually useful, we can use them in creating national, regional, and provincial geolocations\n",
        "df1 = pd.read_csv(\"datasets/agricultural-indicators/Volume_Rice and Corn_quarterly.csv\", skiprows=2)\n",
        "df1.dropna(inplace=True)\n",
        "df1 = geolocation_inator(df1, \"Provincial\")\n",
        "df1.insert(2, \"Type\", \"Volume\")\n",
        "df1.rename(renamer, axis=1, inplace=True)\n",
        "df1 = df1[(df1.Commodity == \"Palay\")]\n",
        "df1 = pd.concat([df1.iloc[:, [1,0,2]], df1.iloc[:, 3:]], axis=1)\n",
        "df1\n",
        "\n",
        "df2 = pd.read_csv(\"datasets/prices/precleaned/prices_retail_2012-2023.csv\")\n",
        "df2.dropna(inplace=True)\n",
        "df2 = geolocation_inator(df2, \"Provincial\")\n",
        "df2.insert(2, \"Type\", \"Retail Price\")\n",
        "df2 = df2[(df2.Commodity == \"RICE, WELL-MILLED, 1 KG\")]\n",
        "df2.Commodity = \"Palay\"\n",
        "df1\n",
        "\n",
        "for year in range(2012, 2024):\n",
        "    for q in range(0, 12, 3):\n",
        "        # print(year, q//3+1, q, q+3)\n",
        "        df2[f\"{year} Quarter {q//3+1}\"] = df2.filter(regex=str(year), axis=1).iloc[:, q:q+3].mean(axis=1)\n",
        "df2 = df2.filter(regex=\"Geolocation|Type|Quarter|Commodity\", axis=1)\n",
        "\n",
        "df1 = pd.concat([df1.iloc[:, 0:3], df1.loc[:, \"2012 Quarter 1\":]], axis=1)\n",
        "df = pd.concat([df1, df2])\n",
        "df.sort_values(by=[\"Geolocation\", \"Type\"], inplace=True)\n",
        "df.reset_index(drop=True, inplace=True)\n",
        "\n",
        "df\n",
        "\n",
        "# REMOVING PROVINCES WITHOUT PAIR\n",
        "to_drop = []\n",
        "i = 0\n",
        "for province in df[\"Geolocation\"].unique():\n",
        "    test = df[df[\"Geolocation\"] == province]\n",
        "    # print(check.iloc[:, 0:1])\n",
        "    # print(i, province, test.shape)\n",
        "    if test.shape[0] == 1:\n",
        "        df.drop(index=[int(test.index[0])], axis = 0, inplace=True)\n",
        "\n",
        "# # PLOTTING\n",
        "df = df.T\n",
        "df.drop([\"Commodity\"], axis=0, inplace=True)\n",
        "# df = df.iloc[:, 0:2]\n",
        "# df.insert(0, \"Province\", df.iloc[0,0])\n",
        "# df.drop([\"Geolocation\", \"Type\"], inplace=True)\n",
        "# df.columns = [\"Province\", \"Volume Produced\", \"Retail Price\"]\n",
        "\n",
        "tdf_acc = pd.DataFrame(columns=[\"Province\", \"Retail Price\", \"Volume\"])\n",
        "for i in range(0, len(df.columns), 2):\n",
        "    tdf = df.iloc[:, i:i+2]\n",
        "    tdf.insert(0, \"Province\", tdf.iloc[0,0])\n",
        "    tdf = tdf.drop([\"Geolocation\", \"Type\"], axis=0)\n",
        "    tdf.columns = [\"Province\", \"Retail Price\", \"Volume\"]\n",
        "    if i != 0:\n",
        "        tdf_acc = pd.concat([tdf, tdf_acc])\n",
        "    if i == 130:\n",
        "        break\n",
        "        \n",
        "df = tdf_acc\n",
        "df = df[df[\"Province\"] == \"Pangasinan\"]\n",
        "\n",
        "# Add traces\n",
        "fig.add_trace(\n",
        "    go.Scatter(x=df.index, y=df[\"Retail Price\"], name=\"Retail Price\"),\n",
        "    secondary_y=False,\n",
        ")\n",
        "\n",
        "fig.add_trace(\n",
        "    go.Scatter(x=df.index, y=df[\"Volume\"], name=\"Volume Produced\"),\n",
        "    secondary_y=True,\n",
        ")\n",
        "\n",
        "# Add figure title\n",
        "fig.update_layout(\n",
        "    title_text=\"Rice in Pangasinan: Retail Price and Volume of Production (2012-2023)<br>Quarterly averages for Retail Price of Well-Milled Rice, and Volume of Irrigated Palay\"\n",
        ")\n",
        "\n",
        "# Set x-axis title\n",
        "fig.update_xaxes(title_text=\"Year\")\n",
        "\n",
        "# Set y-axes titles\n",
        "fig.update_yaxes(title_text=\"<b>Retail Price</b> (PHP)\", secondary_y=False)\n",
        "fig.update_yaxes(title_text=\"<b>Volume of Production</b> (tons)\", secondary_y=True)\n",
        "\n",
        "fig.show()"
      ]
    }
  ],
  "metadata": {
    "colab": {
      "include_colab_link": true,
      "provenance": [],
      "toc_visible": true
    },
    "kernelspec": {
      "display_name": "Python 3",
      "name": "python3"
    },
    "language_info": {
      "codemirror_mode": {
        "name": "ipython",
        "version": 3
      },
      "file_extension": ".py",
      "mimetype": "text/x-python",
      "name": "python",
      "nbconvert_exporter": "python",
      "pygments_lexer": "ipython3",
      "version": "3.11.8"
    }
  },
  "nbformat": 4,
  "nbformat_minor": 0
}
