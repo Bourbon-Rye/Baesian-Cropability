{
  "cells": [
    {
      "cell_type": "markdown",
      "metadata": {
        "colab_type": "text",
        "id": "view-in-github"
      },
      "source": [
        "<a href=\"https://colab.research.google.com/github/Bourbon-Rye/Baesian-Cropability/blob/main/PilipiNuts_2023_Baesian_Cropability.ipynb\" target=\"_parent\"><img src=\"https://colab.research.google.com/assets/colab-badge.svg\" alt=\"Open In Colab\"/></a>"
      ]
    },
    {
      "cell_type": "markdown",
      "metadata": {},
      "source": [
        "# Setup"
      ]
    },
    {
      "cell_type": "code",
      "execution_count": null,
      "metadata": {},
      "outputs": [],
      "source": [
        "# @Libraries\n",
        "import numpy as np\n",
        "import pandas as pd\n",
        "\n",
        "import plotly.express as px\n",
        "import plotly.graph_objects as go\n",
        "import json\n",
        "import re\n",
        "\n",
        "from pathlib import Path\n",
        "from sklearn import preprocessing\n",
        "from plotly.subplots import make_subplots\n",
        "from scipy.stats import chi2_contingency"
      ]
    },
    {
      "cell_type": "code",
      "execution_count": null,
      "metadata": {},
      "outputs": [],
      "source": [
        "# @Utilities\n",
        "def read_csv_to_df(csvfile: Path, comment_symbol='#') -> pd.DataFrame:\n",
        "    \"\"\"Read CSV to DataFrame with comment validation.\n",
        "        Allows comment lines in CSVs where line[0] == comment_symbol.\n",
        "        Does not recognize comment_symbol anywhere else. \n",
        "    \"\"\"\n",
        "    tempfile = Path('temp.csv')\n",
        "    with open(csvfile, 'r') as csv, open(tempfile, 'w+') as temp:\n",
        "        lines = csv.readlines()\n",
        "        for line in lines:\n",
        "            if line[0] != comment_symbol:\n",
        "                temp.write(line)\n",
        "    tempfile.replace(csvfile)\n",
        "    return pd.read_csv(csvfile)\n",
        "\n",
        "with open('datasets/region_provinces.json') as jsonfile:\n",
        "    regions_provinces = json.load(jsonfile)\n",
        "regions = set(regions_provinces['PHILIPPINES'])\n",
        "provinces = set([item.lower() for key in regions for item in regions_provinces['PHILIPPINES'][key]])\n",
        "regions = set(map(str.lower, regions))\n",
        "\n",
        "def is_region(x: str, regions=regions) -> bool:\n",
        "    x = x.strip(' .')\n",
        "    x = x.lower()\n",
        "    if x in regions:\n",
        "        return True\n",
        "    else:\n",
        "        return False\n",
        "    \n",
        "def is_province(x: str, provinces=provinces) -> bool:\n",
        "    x = x.strip(' .')\n",
        "    x = x.lower()\n",
        "    if x in provinces:\n",
        "        return True\n",
        "    else:\n",
        "        return False\n",
        "\n",
        "def get_quarter_columns(df: pd.DataFrame, year_range: range, period_idx: int):\n",
        "    \"\"\"Assumes contiguous period columns and that columns before  are ID columns\"\"\"\n",
        "    df_quarter = df.iloc[:, :period_idx]\n",
        "    for year in year_range:\n",
        "        for q in range(0, 12, 3):\n",
        "            df_quarter[f\"{year} Q{q//3+1}\"] = df.filter(regex=str(year), axis=1).iloc[:, q:q+3].mean(axis=1)\n",
        "    return df_quarter\n",
        "\n",
        "def get_annual_columns(df: pd.DataFrame, year_range: range, period_idx: int):\n",
        "    \"\"\"Assumes contiguous period columns and that columns before year_start are ID columns\"\"\"\n",
        "    df_annual = df.iloc[:, :period_idx]\n",
        "    for year in year_range:\n",
        "        df_annual[f\"{year}\"] = df.filter(regex=str(year), axis=1).mean(axis=1)\n",
        "    return df_annual\n",
        "\n",
        "def swap_columns(df: pd.DataFrame, col1: str, col2: str):\n",
        "    col_list = list(df.columns)\n",
        "    x, y = col_list.index(col1), col_list.index(col2)\n",
        "    col_list[y], col_list[x] = col_list[x], col_list[y]\n",
        "    df = df[col_list]\n",
        "    return df\n",
        "\n",
        "def normalize(df: pd.DataFrame):\n",
        "    x = df.values #returns a numpy array\n",
        "    min_max_scaler = preprocessing.MinMaxScaler()\n",
        "    x_scaled = min_max_scaler.fit_transform(x)\n",
        "    return pd.DataFrame(x_scaled)\n",
        "\n",
        "def dual_plot(df: pd.DataFrame, y1: str, y2: str,\n",
        "              x_title: str, y1_title: str, y2_title: str, title_text: str):\n",
        "    fig = make_subplots(specs=[[{\"secondary_y\": True}]])\n",
        "    # Add traces\n",
        "    fig.add_trace(\n",
        "        go.Scatter(x=df.index, y=df[y1], name=y1),\n",
        "        secondary_y=False,\n",
        "    )\n",
        "    fig.add_trace(\n",
        "        go.Scatter(x=df.index, y=df[y2], name=y2),\n",
        "        secondary_y=True,\n",
        "    )\n",
        "    # Add titles\n",
        "    fig.update_layout(title_text=title_text)\n",
        "    fig.update_xaxes(title_text=x_title)\n",
        "    # Set y-axes titles\n",
        "    fig.update_yaxes(title_text=y1_title, secondary_y=False)\n",
        "    fig.update_yaxes(title_text=y2_title, secondary_y=True)\n",
        "\n",
        "    fig.show()"
      ]
    },
    {
      "cell_type": "markdown",
      "metadata": {
        "id": "yv0jREFhuh32"
      },
      "source": [
        "# Baesian Plots\n"
      ]
    },
    {
      "cell_type": "markdown",
      "metadata": {
        "id": "JToPchIbvMj_"
      },
      "source": [
        "## Yenzy Plots\n",
        "H0.2: There is no significant relationship between market conditions and food crop production.\n",
        "\n",
        "Goal: Visually and statistically assess the relationship between market indicators and crop yield.\n",
        "\n",
        "Visual tests are dual plots and scatterplots. Statistics for relationship testing: contingency table and chi-square test.\n",
        "\n",
        "**Tested Assessments**\n",
        "| Cropyield Indicator | Market Indicator | Geolocation | Commodity\n",
        "| --- | --- | --- | --- |\n",
        "| Volume | Retail Price | Philippines | Palay and Corn | "
      ]
    },
    {
      "cell_type": "code",
      "execution_count": null,
      "metadata": {},
      "outputs": [],
      "source": [
        "# Sample Relationship Test\n",
        "data = [[207, 282, 241], [234, 242, 232]]\n",
        "stat, p, dof, expected = chi2_contingency(data)\n",
        " \n",
        "# interpret p-value\n",
        "alpha = 0.05\n",
        "print(\"p value is \" + str(p))\n",
        "if p <= alpha:\n",
        "    print('Dependent (reject H0)')\n",
        "else:\n",
        "    print('Independent (H0 holds true)')"
      ]
    },
    {
      "cell_type": "code",
      "execution_count": null,
      "metadata": {},
      "outputs": [],
      "source": [
        "# Volume of Production of Palay and Corn across the Years (Quarterly and Annual)\n",
        "df2 = read_csv_to_df(\"datasets/agricultural-indicators/Volume_Rice and Corn_quarterly.csv\")\n",
        "df2 = df2[df2[\"Geolocation\"] == \"PHILIPPINES\"]\n",
        "df2 = df2.melt(id_vars=[\"Commodity\", \"Geolocation\"], value_vars=df2.columns[2:], var_name=\"Period\", value_name=\"Volume\")\n",
        "fig = px.line(df2, x=\"Period\", y=\"Volume\", color=\"Commodity\", title='Quarterly Volume of Production of Crops across the Years<br>National Averages in Metric Tons').update_layout(\n",
        "    xaxis_title=\"Period\", yaxis_title = \"Volume of Production\")\n",
        "fig.show()"
      ]
    },
    {
      "cell_type": "code",
      "execution_count": null,
      "metadata": {},
      "outputs": [],
      "source": [
        "# Annual Volume and Retail Price\n",
        "# Volume of Rice\n",
        "df1 = read_csv_to_df(\"datasets/agricultural-indicators/Volume_Rice and Corn_annual.csv\")\n",
        "df1 = df1[df1[\"Geolocation\"].apply(is_region)]\n",
        "df1 = df1[df1[\"Commodity\"] == \"Palay\"]\n",
        "df1[\"Commodity\"] = df1[\"Commodity\"].apply(lambda val: \"Rice\")\n",
        "df1 = df1.melt(id_vars=[\"Commodity\", \"Geolocation\"], value_vars=df1.columns[2:], var_name=\"Period\", value_name=\"Volume\")\n",
        "df1 = swap_columns(df1, \"Commodity\", \"Geolocation\")\n",
        "\n",
        "# Retail Price of Palay\n",
        "df2 = read_csv_to_df(\"datasets/prices/prices_retail_2012-2023.csv\")\n",
        "df2 = df2[df2[\"Geolocation\"].apply(is_region)]\n",
        "df2.dropna(inplace=True)\n",
        "df2 = get_annual_columns(df2, range(2012, 2024), 2)\n",
        "df2.dropna(inplace=True)\n",
        "df2 = df2[df2[\"Commodity\"] == 'RICE, REGULAR-MILLED, 1 KG']\n",
        "df2[\"Commodity\"] = df2[\"Commodity\"].apply(lambda val: \"Rice\")\n",
        "df2 = df2.melt([\"Geolocation\", \"Commodity\"], df2.columns[2:], \"Period\", \"Price\")\n",
        "\n",
        "# Volume and Price DataFrame\n",
        "df = pd.merge(df1, df2)\n",
        "df[\"Geolocation\"] = df[\"Geolocation\"].apply(lambda val: val.lstrip(\".\"))\n",
        "fig = px.scatter(df, x=\"Volume\", y=\"Price\", color=\"Geolocation\")\n",
        "fig.show()"
      ]
    },
    {
      "cell_type": "code",
      "execution_count": null,
      "metadata": {},
      "outputs": [],
      "source": [
        "# Annual\n",
        "df2 = read_csv_to_df(\"datasets/agricultural-indicators/Volume_Rice and Corn_annual.csv\")\n",
        "df2 = df2.melt(id_vars=[\"Geolocation\", \"Commodity\"], value_vars=df2.columns[2:], var_name=\"Period\", value_name=\"Volume\")\n",
        "df_volume = df2[df2[\"Geolocation\"] == \"PHILIPPINES\"]\n",
        "\n",
        "df2 = read_csv_to_df(\"datasets/prices/prices_retail_2012-2023.csv\")\n",
        "df2 = df2[df2[\"Geolocation\"].apply(is_region)]\n",
        "df2.dropna(inplace=True)\n",
        "df2 = get_annual_columns(df2, range(2012, 2024), 2)\n",
        "df2.melt(id_vars=[\"Geolocation\", \"Commodity\"], value_vars=df2.columns[2:], var_name=\"Year\", value_name=\"Volume\")\n"
      ]
    }
  ],
  "metadata": {
    "colab": {
      "include_colab_link": true,
      "provenance": [],
      "toc_visible": true
    },
    "kernelspec": {
      "display_name": "Python 3",
      "name": "python3"
    },
    "language_info": {
      "codemirror_mode": {
        "name": "ipython",
        "version": 3
      },
      "file_extension": ".py",
      "mimetype": "text/x-python",
      "name": "python",
      "nbconvert_exporter": "python",
      "pygments_lexer": "ipython3",
      "version": "3.11.8"
    }
  },
  "nbformat": 4,
  "nbformat_minor": 0
}
