{
  "cells": [
    {
      "cell_type": "markdown",
      "metadata": {
        "colab_type": "text",
        "id": "view-in-github"
      },
      "source": [
        "<a href=\"https://colab.research.google.com/github/Bourbon-Rye/Baesian-Cropability/blob/main/PilipiNuts_2023_Baesian_Cropability.ipynb\" target=\"_parent\"><img src=\"https://colab.research.google.com/assets/colab-badge.svg\" alt=\"Open In Colab\"/></a>"
      ]
    },
    {
      "cell_type": "markdown",
      "metadata": {},
      "source": [
        "# Setup"
      ]
    },
    {
      "cell_type": "code",
      "execution_count": 60,
      "metadata": {},
      "outputs": [],
      "source": [
        "# @Libraries\n",
        "import numpy as np\n",
        "import pandas as pd\n",
        "import seaborn as sns\n",
        "\n",
        "import plotly.express as px\n",
        "import plotly.graph_objects as go\n",
        "import plotly.io as pio\n",
        "import matplotlib.pyplot as plt\n",
        "import json\n",
        "import re\n",
        "import functools\n",
        "\n",
        "from pathlib import Path\n",
        "from sklearn import preprocessing\n",
        "from plotly.subplots import make_subplots\n",
        "from plotly import offline\n",
        "from scipy import stats\n",
        "from sklearn.impute import SimpleImputer\n",
        "from matplotlib import figure"
      ]
    },
    {
      "cell_type": "code",
      "execution_count": 61,
      "metadata": {},
      "outputs": [],
      "source": [
        "# @title Corrections\n",
        "with open('datasets/region_provinces.json') as jsonfile:\n",
        "    regions_provinces = json.load(jsonfile)['PHILIPPINES']\n",
        "regions_provinces = {key.lower():regions_provinces[key] for key in regions_provinces}\n",
        "regions = regions_provinces.keys()\n",
        "provinces = set([item.lower() for key in regions for item in regions_provinces[key]])\n",
        "regions = set(regions)\n",
        "regions.add(\"philippines\")\n",
        "\n",
        "# NOTE: Fix for bad regions, thanks PSA\n",
        "bad_regions = ['AONCR', 'BARMM', 'CAR', 'MIMAROPA', 'NCR',\n",
        "           'Region 1', 'Region 2', 'Region 3', 'Region 4A',\n",
        "           'Region 5', 'Region 6', 'Region 7', 'Region 8',\n",
        "           'Region 9', 'Region 10', 'Region 11', 'Reg12', 'CARAGA']\n",
        "region_mapping = {bad.lower():good.lower() for (bad,good) in zip(bad_regions, regions_provinces.keys())}\n",
        "corrections = {\n",
        "    \"AUTONOMOUS REGION IN MUSLIM MINDANAO (ARMM)\": \"bangsamoro autonomous region in muslim mindanao (barmm)\",\n",
        "    \"autonomous region in muslim mindanao (armm)\": \"bangsamoro autonomous region in muslim mindanao (barmm)\",\n",
        "    \"mimaropa region\": \"mimaropa region (mimaropa)\"\n",
        "}\n",
        "region_mapping.update(corrections)\n",
        "\n",
        "temp = [key.split('(')[1].rstrip(')') for key in regions_provinces]\n",
        "region_short_to_long = {bad:good for (bad,good) in zip(temp, regions_provinces.keys())}\n",
        "region_long_to_short = {v: k for k, v in region_short_to_long.items()}"
      ]
    },
    {
      "cell_type": "code",
      "execution_count": 62,
      "metadata": {},
      "outputs": [],
      "source": [
        "# @title Utilities\n",
        "def read_csv_to_df(csvfile: Path, comment_symbol='#') -> pd.DataFrame:\n",
        "    \"\"\"Read CSV to DataFrame with comment validation.\n",
        "        Allows comment lines in CSVs where line[0] == comment_symbol.\n",
        "        Also removes newlines.\n",
        "        Does not recognize comment_symbol anywhere else. \n",
        "    \"\"\"\n",
        "    tempfile = Path('temp.csv')\n",
        "    with open(csvfile, 'r') as csv, open(tempfile, 'w+') as temp:\n",
        "        lines = csv.readlines()\n",
        "        for line in lines:\n",
        "            if line[0] != comment_symbol:\n",
        "                temp.write(line)\n",
        "    return pd.read_csv(tempfile)\n",
        "\n",
        "def is_region(x: str, regions=regions) -> bool:\n",
        "    x = x.strip(' .')\n",
        "    x = x.lower()\n",
        "    if x == \"cagayan\":\n",
        "        return False\n",
        "    for region in regions:\n",
        "        if x in region:\n",
        "            return True\n",
        "    else:\n",
        "        return False\n",
        "    \n",
        "def is_province(x: str, provinces=provinces) -> bool:\n",
        "    x = x.strip(' .')\n",
        "    x = x.lower()\n",
        "    for province in provinces:\n",
        "        if x in province:\n",
        "            return True\n",
        "    else:\n",
        "        return False\n",
        "\n",
        "def get_quarter_columns(df: pd.DataFrame, year_range: range, period_idx: int):\n",
        "    \"\"\"Assumes contiguous period (Year Month) columns and that columns before period_idx are ID columns\"\"\"\n",
        "    df_quarter = df.iloc[:, :period_idx].copy()\n",
        "    for year in year_range:\n",
        "        for q in range(0, 12, 3):\n",
        "            df_quarter[f\"{year} Q{q//3+1}\"] = df.filter(regex=str(year), axis=1).iloc[:, q:q+3].mean(axis=1)\n",
        "    return df_quarter\n",
        "\n",
        "def get_annual_columns(df: pd.DataFrame, year_range: range, period_idx: int):\n",
        "    \"\"\"Assumes contiguous period (Year Month|Quarter) columns and that columns before period_idx are ID columns\n",
        "    Note that this also works with Quarters\"\"\"\n",
        "    df_annual = df.iloc[:, :period_idx].copy()\n",
        "    for year in year_range:\n",
        "        df_annual[f\"{year}\"] = df.filter(regex=str(year), axis=1).mean(axis=1)\n",
        "    return df_annual\n",
        "\n",
        "def swap_columns(df: pd.DataFrame, col1: str, col2: str):\n",
        "    col_list = list(df.columns)\n",
        "    x, y = col_list.index(col1), col_list.index(col2)\n",
        "    col_list[y], col_list[x] = col_list[x], col_list[y]\n",
        "    df = df[col_list]\n",
        "    return df\n",
        "\n",
        "def normalize(df: pd.DataFrame, col: str, minmax = True):\n",
        "    \"\"\"Can use mean normalization and minmax normalization.\"\"\"\n",
        "    tdf = df[col]\n",
        "    if minmax:\n",
        "        tdf = (tdf-tdf.min())/(tdf.max()-tdf.min())\n",
        "    else:\n",
        "        tdf = (tdf-tdf.mean())/tdf.std()\n",
        "    df[col] = tdf\n",
        "    return df\n",
        "\n",
        "def drop_rows_with_zeros(df: pd.DataFrame, ref_col_idx: int, all_zeros=False):\n",
        "    \"\"\"Drop rows if some values are zeros, or if all values are zeros.\n",
        "    Assumes contiguous reference columns, i.e. columns to use in deciding whether to drop.\"\"\"\n",
        "    return df[~(df.iloc[:, ref_col_idx:] == 0).all(axis=1)] if all_zeros else df[~(df.iloc[:, ref_col_idx:] == 0).any(axis=1)]\n",
        "\n",
        "def dual_plot(df: pd.DataFrame, x: str, y1: str, y2: str,\n",
        "              title=None, xtitle=None, y1title=None, y2title=None):\n",
        "    fig = make_subplots(specs=[[{\"secondary_y\": True}]])\n",
        "    # Add traces\n",
        "    fig.add_trace(\n",
        "        go.Scatter(x=df[x], y=df[y1], name=y1),\n",
        "        secondary_y=False,\n",
        "    )\n",
        "    fig.add_trace(\n",
        "        go.Scatter(x=df[x], y=df[y2], name=y2),\n",
        "        secondary_y=True,\n",
        "    )\n",
        "    # # Add titles\n",
        "    if title is not None: fig.update_layout(title_text=title)\n",
        "    if xtitle is not None: fig.update_xaxes(title_text=xtitle)\n",
        "    if y1title is not None: fig.update_yaxes(title_text=y1title, secondary_y=False)\n",
        "    if y2title is not None: fig.update_yaxes(title_text=y2title, secondary_y=True)\n",
        "\n",
        "    return fig\n",
        "\n",
        "\n",
        "def triplet_plot(df: pd.DataFrame, x: str, y1_1: str, y1_2: str, y2: str,\n",
        "                 title=None, xtitle=None, y1title=None, y2title=None):\n",
        "    fig = make_subplots(specs=[[{\"secondary_y\": True}]])\n",
        "    # Add traces\n",
        "    fig.add_trace(\n",
        "        go.Scatter(x=df[x], y=df[y1_1], name=y1_1),\n",
        "        secondary_y=False,\n",
        "    )\n",
        "    fig.add_trace(\n",
        "        go.Scatter(x=df[x], y=df[y1_2], name=y1_2),\n",
        "        secondary_y=False,\n",
        "    )\n",
        "    fig.add_trace(\n",
        "        go.Scatter(x=df[x], y=df[y2], name=y2),\n",
        "        secondary_y=True,\n",
        "    )\n",
        "    # # Add titles\n",
        "    if title is not None: fig.update_layout(title_text=title)\n",
        "    if xtitle is not None: fig.update_xaxes(title_text=xtitle)\n",
        "    if y1title is not None: fig.update_yaxes(title_text=y1title, secondary_y=False)\n",
        "    if y2title is not None: fig.update_yaxes(title_text=y2title, secondary_y=True)\n",
        "\n",
        "    return fig\n",
        "\n",
        "def quartet_plot(df: pd.DataFrame, x: str, y1_1: str, y1_2: str, y2_1: str, y2_2: str,\n",
        "                 title=None, xtitle=None, y1title=None, y2title=None):\n",
        "    fig = make_subplots(specs=[[{\"secondary_y\": True}]])\n",
        "    # Add traces\n",
        "    fig.add_trace(\n",
        "        go.Scatter(x=df[x], y=df[y1_1], name=y1_1),\n",
        "        secondary_y=False,\n",
        "    )\n",
        "    fig.add_trace(\n",
        "        go.Scatter(x=df[x], y=df[y1_2], name=y1_2),\n",
        "        secondary_y=True,\n",
        "    )\n",
        "    fig.add_trace(\n",
        "        go.Scatter(x=df[x], y=df[y2_1], name=y2_1),\n",
        "        secondary_y=False,\n",
        "    )\n",
        "    fig.add_trace(\n",
        "        go.Scatter(x=df[x], y=df[y2_2], name=y2_2),\n",
        "        secondary_y=True,\n",
        "    )\n",
        "    # # Add titles\n",
        "    if title is not None: fig.update_layout(title_text=title)\n",
        "    if xtitle is not None: fig.update_xaxes(title_text=xtitle)\n",
        "    if y1title is not None: fig.update_yaxes(title_text=y1title, secondary_y=False)\n",
        "    if y2title is not None: fig.update_yaxes(title_text=y2title, secondary_y=True)\n",
        "\n",
        "    return fig\n",
        "\n",
        "def move_column(df: pd.DataFrame, col: str, new_idx: int):\n",
        "    \"\"\"This is an inplace method.\"\"\"\n",
        "    df.insert(new_idx, col, df.pop(col))\n",
        "    \n",
        "def preprocess_baesians_1(df: pd.DataFrame, commodity: str, rename_to: str, melt_value: str|None, regional=True):\n",
        "    \"\"\"Assumes Geolocation | Commodity | Period columns.\n",
        "    Filters to regional if regional=True, else filters to provincial. Retains \"philippines\".\n",
        "    \"\"\"\n",
        "    # df.dropna(inplace=True)\n",
        "    df[\"Geolocation\"] = df[\"Geolocation\"].str.lstrip(\".\").str.lower()\n",
        "    df[\"Geolocation\"] = df[\"Geolocation\"].replace(region_mapping)\n",
        "    df = df[df[\"Geolocation\"].apply(is_region)] if regional else df[df[\"Geolocation\"].apply(is_province)]\n",
        "    df = df[df[\"Commodity\"] == commodity]\n",
        "    df[\"Commodity\"] = rename_to # Rename everything in Commodity to Rice\n",
        "    if melt_value:\n",
        "        df = df.melt(id_vars=[\"Geolocation\", \"Commodity\"], value_vars=df.columns[2:], var_name=\"Period\", value_name=melt_value)\n",
        "    return df\n",
        "\n",
        "def imputer(df: pd.DataFrame, start_idx: int, end_idx=None):\n",
        "    \"\"\"If only start index is provided, will impute from start index column to last column,\n",
        "    else limit from start_idx to end_idx. Inplace imputation\"\"\"\n",
        "    imp = SimpleImputer(missing_values=pd.NA, strategy='mean')\n",
        "    if end_idx:\n",
        "        imp.fit(df.iloc[:, start_idx:end_idx])\n",
        "        df[df.columns[start_idx:end_idx]] = imp.transform(df.iloc[:, start_idx:])\n",
        "    else:\n",
        "        imp.fit(df.iloc[:, start_idx:])\n",
        "        df[df.columns[start_idx:]] = imp.transform(df.iloc[:, start_idx:])\n",
        "\n",
        "def preprocess_baesians_2(df: pd.DataFrame, commodity_map: dict, melt_value: str|None, regional=True, impute=False):\n",
        "    \"\"\"Assumes Geolocation | Commodity | Period ... columns.\n",
        "    Filters to regional if regional=True, else filters to provincial. Retains \"philippines\".\n",
        "    Filters to raw commodity name (key in commodity_map), and then renames to standard commodity_map[key]\n",
        "    Ex. {\"RICE, REGULAR-MILLED, 1 KG\" : \"Rice\"}\n",
        "    \"\"\"\n",
        "    df[\"Geolocation\"] = df[\"Geolocation\"].str.lstrip(\".\").str.lower()\n",
        "    df[\"Geolocation\"] = df[\"Geolocation\"].replace(region_mapping)\n",
        "    df = df[df[\"Geolocation\"].apply(is_region)] if regional else df[df[\"Geolocation\"].apply(is_province)]\n",
        "    df = df[df[\"Commodity\"].isin(commodity_map)]\n",
        "    df.loc[:, \"Commodity\"] = df[\"Commodity\"].replace(commodity_map)\n",
        "    if melt_value:\n",
        "        df = df.melt(id_vars=[\"Geolocation\", \"Commodity\"], value_vars=df.columns[2:], var_name=\"Period\", value_name=melt_value)\n",
        "    if impute:\n",
        "        imputer(df, 3)  # inplace imputation of melt_value\n",
        "    return df\n",
        "\n",
        "def filter_to_regions(df: pd.DataFrame):\n",
        "    return df[df[\"Geolocation\"].apply(is_region)]\n",
        "    \n",
        "def filter_to_provinces(df: pd.DataFrame):\n",
        "    return df[df[\"Geolocation\"].apply(is_province)]\n",
        "\n",
        "def fig_to_div(fig: figure.Figure, filename: Path):\n",
        "    \"\"\"Optional: Add pretiffication.\"\"\"\n",
        "    filename = Path(filename)\n",
        "    filename.parent.mkdir(exist_ok=True, parents=True)\n",
        "    with open(filename, \"w+\") as f:\n",
        "        f.write(offline.plot(fig, include_plotlyjs=False, output_type='div'))\n",
        "        \n",
        "def fig_to_html(fig: figure.Figure, filename: Path):\n",
        "    filename = Path(filename)\n",
        "    filename.parent.mkdir(exist_ok=True, parents=True)\n",
        "    fig.write_html(filename)\n",
        "    \n",
        "def fig_to_png(fig: figure.Figure, filename: Path):\n",
        "    \"\"\"NOTE: Requires ORCA to be installed!\"\"\"\n",
        "    filename = Path(filename)\n",
        "    filename.parent.mkdir(exist_ok=True, parents=True)\n",
        "    pio.write_image(fig, filename,scale=6, width=1280, height=720)"
      ]
    },
    {
      "cell_type": "code",
      "execution_count": 63,
      "metadata": {},
      "outputs": [],
      "source": [
        "# @title OTG Cleanup\n",
        "# VALUE OF PRODUCTION (5/24/2024)\n",
        "datapath = Path(\"datasets/agricultural-indicators/value-of-production/\")\n",
        "writepath = Path(\"datasets\")\n",
        "\n",
        "files = list(datapath.glob(\"*.csv\"))\n",
        "df = pd.DataFrame()\n",
        "for file in files:\n",
        "    with open(file) as f:\n",
        "        region = f.readlines()[0].split(':')[0].lstrip(\"\\\"\")\n",
        "        if region == u\"\\ufeffTest\\n\":\n",
        "            region = \"Cordillera Administrative Region (CAR)\"\n",
        "        tdf = pd.read_csv(file, skiprows=1, na_values=\".\")\n",
        "        tdf[\"Geolocation\"] = region\n",
        "        df = pd.concat([df, tdf])\n",
        "df[\"Subsector\"] = \"Rice\"\n",
        "df.drop(columns=[\"Type of Valuation\"], inplace=True)\n",
        "df.rename({\"Subsector\": \"Commodity\"}, axis=1, inplace=True)\n",
        "\n",
        "# Imputation of VOP df\n",
        "imp = SimpleImputer(missing_values=pd.NA, strategy='mean')\n",
        "imp.fit(df.iloc[:, 1:-1])\n",
        "df[df.columns[1:-1]] = imp.transform(df.iloc[:, 1:-1])\n",
        "move_column(df, \"Geolocation\", 0)\n",
        "df_val_of_prod = df\n",
        "\n",
        "# ANNUAL RICE STOCKS (5/24/2024) NOTE: Perhaps try to match this with the prices as this has monthly, for national only\n",
        "df = read_csv_to_df(\"datasets/agricultural-indicators/stocks-palay-corn_yearly_1980-2024.csv\")\n",
        "df = df[(df[\"Sector\"] == \"Rice: Total Stock\") | (df[\"Sector\"] == \"Corn: Total Stock\")]\n",
        "df[\"Sector\"] = df[\"Sector\"].replace({\"Rice: Total Stock\": \"Rice\", \"Corn: Total Stock\": \"Corn\"})\n",
        "df = pd.concat([df.iloc[:, :2].copy(), df.mean(axis=1, numeric_only=True)], axis=1)\n",
        "df.rename(columns={\"Sector\": \"Commodity\", \"Year\": \"Period\", 0: \"Stocks\"}, inplace=True)\n",
        "df = df[df[\"Period\"].isin(range(2012, 2024))]\n",
        "df_stocks = df"
      ]
    },
    {
      "cell_type": "markdown",
      "metadata": {
        "id": "yv0jREFhuh32"
      },
      "source": [
        "# Baesian Plots\n"
      ]
    },
    {
      "cell_type": "markdown",
      "metadata": {
        "id": "JToPchIbvMj_"
      },
      "source": [
        "Hypotheses:\n",
        "- **H0.1:** There is no significant difference in the productivity of major food crops when grouped according to their crop type, geolocation, and/or market profile.\n",
        "- **H0.2:** There is no significant relationship between market conditions and food crop production.\n",
        "\n",
        "Goal: Visually and statistically assess the relationship between market indicators and crop yield indicators.\n",
        "\n",
        "Visual tests are dual plots and scatterplots. Statistics for relationship testing: contingency tables and t-tests (?)."
      ]
    },
    {
      "cell_type": "markdown",
      "metadata": {},
      "source": [
        "## Data Overview\n",
        "\n",
        "Selected major crops (analyzed are checked):\n",
        "- ✅ Rice / Palay\n",
        "- ✅ Corn / Maize\n",
        "- Sweet Potato / Camote\n",
        "- Mongo / Monggo / Mung Beans\n",
        "- Banana\n",
        "- Coconut\n",
        "- Onion\n",
        "- Garlic\n",
        "- Sugarcane"
      ]
    },
    {
      "cell_type": "code",
      "execution_count": 64,
      "metadata": {},
      "outputs": [
        {
          "data": {
            "application/vnd.plotly.v1+json": {
              "config": {
                "plotlyServerURL": "https://plot.ly"
              },
              "data": [
                {
                  "alignmentgroup": "True",
                  "bingroup": "x",
                  "histfunc": "sum",
                  "hovertemplate": "Commodity=Palay<br>Period=%{x}<br>sum of Volume=%{y}<extra></extra>",
                  "legendgroup": "Palay",
                  "marker": {
                    "color": "#636efa",
                    "pattern": {
                      "shape": ""
                    }
                  },
                  "name": "Palay",
                  "offsetgroup": "Palay",
                  "orientation": "v",
                  "showlegend": true,
                  "type": "histogram",
                  "x": [
                    "1987",
                    "1988",
                    "1989",
                    "1990",
                    "1991",
                    "1992",
                    "1993",
                    "1994",
                    "1995",
                    "1996",
                    "1997",
                    "1998",
                    "1999",
                    "2000",
                    "2001",
                    "2002",
                    "2003",
                    "2004",
                    "2005",
                    "2006",
                    "2007",
                    "2008",
                    "2009",
                    "2010",
                    "2011",
                    "2012",
                    "2013",
                    "2014",
                    "2015",
                    "2016",
                    "2017",
                    "2018",
                    "2019",
                    "2020",
                    "2021",
                    "2022",
                    "2023",
                    "2024"
                  ],
                  "xaxis": "x",
                  "y": [
                    8539852,
                    8971030,
                    9458772,
                    9319276,
                    9673262,
                    9128940,
                    9434208,
                    10538054,
                    10540649,
                    11283568,
                    11268963,
                    8554824,
                    11786625,
                    12389412,
                    12954870,
                    13270653,
                    13499884,
                    14496784,
                    14603005,
                    15326706,
                    16240194,
                    16815548,
                    16266416.5,
                    15772319,
                    16684062,
                    18032525.47,
                    18439419.73,
                    18967826.17,
                    18149837.78,
                    17627244.82,
                    19276346.63,
                    19066093.94,
                    18814827.29,
                    19294855.51,
                    19960170.2,
                    19756392.28,
                    20059561.96,
                    ".."
                  ],
                  "yaxis": "y"
                },
                {
                  "alignmentgroup": "True",
                  "bingroup": "x",
                  "histfunc": "sum",
                  "hovertemplate": "Commodity=Corn<br>Period=%{x}<br>sum of Volume=%{y}<extra></extra>",
                  "legendgroup": "Corn",
                  "marker": {
                    "color": "#EF553B",
                    "pattern": {
                      "shape": ""
                    }
                  },
                  "name": "Corn",
                  "offsetgroup": "Corn",
                  "orientation": "v",
                  "showlegend": true,
                  "type": "histogram",
                  "x": [
                    "1987",
                    "1988",
                    "1989",
                    "1990",
                    "1991",
                    "1992",
                    "1993",
                    "1994",
                    "1995",
                    "1996",
                    "1997",
                    "1998",
                    "1999",
                    "2000",
                    "2001",
                    "2002",
                    "2003",
                    "2004",
                    "2005",
                    "2006",
                    "2007",
                    "2008",
                    "2009",
                    "2010",
                    "2011",
                    "2012",
                    "2013",
                    "2014",
                    "2015",
                    "2016",
                    "2017",
                    "2018",
                    "2019",
                    "2020",
                    "2021",
                    "2022",
                    "2023",
                    "2024"
                  ],
                  "xaxis": "x",
                  "y": [
                    4278119,
                    4427951,
                    4522195,
                    4853891,
                    4655026,
                    4618854,
                    4797977,
                    4519246,
                    4128510,
                    4151332,
                    4332417,
                    3823184,
                    4584593,
                    4511104,
                    4525012,
                    4319262,
                    4615625,
                    5413386,
                    5253160,
                    6082109,
                    6736940,
                    6928225,
                    7034033,
                    6376796,
                    6971221,
                    7407068.35,
                    7377293.3,
                    7770602.74,
                    7518755.72,
                    7218816.55,
                    7914908.49,
                    7771918.63,
                    7978844.55,
                    8118545.88,
                    8287191.13,
                    8255609.68,
                    8405004.29,
                    ".."
                  ],
                  "yaxis": "y"
                }
              ],
              "layout": {
                "barmode": "group",
                "legend": {
                  "title": {
                    "text": "Commodity"
                  },
                  "tracegroupgap": 0
                },
                "template": {
                  "data": {
                    "bar": [
                      {
                        "error_x": {
                          "color": "#f2f5fa"
                        },
                        "error_y": {
                          "color": "#f2f5fa"
                        },
                        "marker": {
                          "line": {
                            "color": "rgb(17,17,17)",
                            "width": 0.5
                          },
                          "pattern": {
                            "fillmode": "overlay",
                            "size": 10,
                            "solidity": 0.2
                          }
                        },
                        "type": "bar"
                      }
                    ],
                    "barpolar": [
                      {
                        "marker": {
                          "line": {
                            "color": "rgb(17,17,17)",
                            "width": 0.5
                          },
                          "pattern": {
                            "fillmode": "overlay",
                            "size": 10,
                            "solidity": 0.2
                          }
                        },
                        "type": "barpolar"
                      }
                    ],
                    "carpet": [
                      {
                        "aaxis": {
                          "endlinecolor": "#A2B1C6",
                          "gridcolor": "#506784",
                          "linecolor": "#506784",
                          "minorgridcolor": "#506784",
                          "startlinecolor": "#A2B1C6"
                        },
                        "baxis": {
                          "endlinecolor": "#A2B1C6",
                          "gridcolor": "#506784",
                          "linecolor": "#506784",
                          "minorgridcolor": "#506784",
                          "startlinecolor": "#A2B1C6"
                        },
                        "type": "carpet"
                      }
                    ],
                    "choropleth": [
                      {
                        "colorbar": {
                          "outlinewidth": 0,
                          "ticks": ""
                        },
                        "type": "choropleth"
                      }
                    ],
                    "contour": [
                      {
                        "colorbar": {
                          "outlinewidth": 0,
                          "ticks": ""
                        },
                        "colorscale": [
                          [
                            0,
                            "#0d0887"
                          ],
                          [
                            0.1111111111111111,
                            "#46039f"
                          ],
                          [
                            0.2222222222222222,
                            "#7201a8"
                          ],
                          [
                            0.3333333333333333,
                            "#9c179e"
                          ],
                          [
                            0.4444444444444444,
                            "#bd3786"
                          ],
                          [
                            0.5555555555555556,
                            "#d8576b"
                          ],
                          [
                            0.6666666666666666,
                            "#ed7953"
                          ],
                          [
                            0.7777777777777778,
                            "#fb9f3a"
                          ],
                          [
                            0.8888888888888888,
                            "#fdca26"
                          ],
                          [
                            1,
                            "#f0f921"
                          ]
                        ],
                        "type": "contour"
                      }
                    ],
                    "contourcarpet": [
                      {
                        "colorbar": {
                          "outlinewidth": 0,
                          "ticks": ""
                        },
                        "type": "contourcarpet"
                      }
                    ],
                    "heatmap": [
                      {
                        "colorbar": {
                          "outlinewidth": 0,
                          "ticks": ""
                        },
                        "colorscale": [
                          [
                            0,
                            "#0d0887"
                          ],
                          [
                            0.1111111111111111,
                            "#46039f"
                          ],
                          [
                            0.2222222222222222,
                            "#7201a8"
                          ],
                          [
                            0.3333333333333333,
                            "#9c179e"
                          ],
                          [
                            0.4444444444444444,
                            "#bd3786"
                          ],
                          [
                            0.5555555555555556,
                            "#d8576b"
                          ],
                          [
                            0.6666666666666666,
                            "#ed7953"
                          ],
                          [
                            0.7777777777777778,
                            "#fb9f3a"
                          ],
                          [
                            0.8888888888888888,
                            "#fdca26"
                          ],
                          [
                            1,
                            "#f0f921"
                          ]
                        ],
                        "type": "heatmap"
                      }
                    ],
                    "heatmapgl": [
                      {
                        "colorbar": {
                          "outlinewidth": 0,
                          "ticks": ""
                        },
                        "colorscale": [
                          [
                            0,
                            "#0d0887"
                          ],
                          [
                            0.1111111111111111,
                            "#46039f"
                          ],
                          [
                            0.2222222222222222,
                            "#7201a8"
                          ],
                          [
                            0.3333333333333333,
                            "#9c179e"
                          ],
                          [
                            0.4444444444444444,
                            "#bd3786"
                          ],
                          [
                            0.5555555555555556,
                            "#d8576b"
                          ],
                          [
                            0.6666666666666666,
                            "#ed7953"
                          ],
                          [
                            0.7777777777777778,
                            "#fb9f3a"
                          ],
                          [
                            0.8888888888888888,
                            "#fdca26"
                          ],
                          [
                            1,
                            "#f0f921"
                          ]
                        ],
                        "type": "heatmapgl"
                      }
                    ],
                    "histogram": [
                      {
                        "marker": {
                          "pattern": {
                            "fillmode": "overlay",
                            "size": 10,
                            "solidity": 0.2
                          }
                        },
                        "type": "histogram"
                      }
                    ],
                    "histogram2d": [
                      {
                        "colorbar": {
                          "outlinewidth": 0,
                          "ticks": ""
                        },
                        "colorscale": [
                          [
                            0,
                            "#0d0887"
                          ],
                          [
                            0.1111111111111111,
                            "#46039f"
                          ],
                          [
                            0.2222222222222222,
                            "#7201a8"
                          ],
                          [
                            0.3333333333333333,
                            "#9c179e"
                          ],
                          [
                            0.4444444444444444,
                            "#bd3786"
                          ],
                          [
                            0.5555555555555556,
                            "#d8576b"
                          ],
                          [
                            0.6666666666666666,
                            "#ed7953"
                          ],
                          [
                            0.7777777777777778,
                            "#fb9f3a"
                          ],
                          [
                            0.8888888888888888,
                            "#fdca26"
                          ],
                          [
                            1,
                            "#f0f921"
                          ]
                        ],
                        "type": "histogram2d"
                      }
                    ],
                    "histogram2dcontour": [
                      {
                        "colorbar": {
                          "outlinewidth": 0,
                          "ticks": ""
                        },
                        "colorscale": [
                          [
                            0,
                            "#0d0887"
                          ],
                          [
                            0.1111111111111111,
                            "#46039f"
                          ],
                          [
                            0.2222222222222222,
                            "#7201a8"
                          ],
                          [
                            0.3333333333333333,
                            "#9c179e"
                          ],
                          [
                            0.4444444444444444,
                            "#bd3786"
                          ],
                          [
                            0.5555555555555556,
                            "#d8576b"
                          ],
                          [
                            0.6666666666666666,
                            "#ed7953"
                          ],
                          [
                            0.7777777777777778,
                            "#fb9f3a"
                          ],
                          [
                            0.8888888888888888,
                            "#fdca26"
                          ],
                          [
                            1,
                            "#f0f921"
                          ]
                        ],
                        "type": "histogram2dcontour"
                      }
                    ],
                    "mesh3d": [
                      {
                        "colorbar": {
                          "outlinewidth": 0,
                          "ticks": ""
                        },
                        "type": "mesh3d"
                      }
                    ],
                    "parcoords": [
                      {
                        "line": {
                          "colorbar": {
                            "outlinewidth": 0,
                            "ticks": ""
                          }
                        },
                        "type": "parcoords"
                      }
                    ],
                    "pie": [
                      {
                        "automargin": true,
                        "type": "pie"
                      }
                    ],
                    "scatter": [
                      {
                        "marker": {
                          "line": {
                            "color": "#283442"
                          }
                        },
                        "type": "scatter"
                      }
                    ],
                    "scatter3d": [
                      {
                        "line": {
                          "colorbar": {
                            "outlinewidth": 0,
                            "ticks": ""
                          }
                        },
                        "marker": {
                          "colorbar": {
                            "outlinewidth": 0,
                            "ticks": ""
                          }
                        },
                        "type": "scatter3d"
                      }
                    ],
                    "scattercarpet": [
                      {
                        "marker": {
                          "colorbar": {
                            "outlinewidth": 0,
                            "ticks": ""
                          }
                        },
                        "type": "scattercarpet"
                      }
                    ],
                    "scattergeo": [
                      {
                        "marker": {
                          "colorbar": {
                            "outlinewidth": 0,
                            "ticks": ""
                          }
                        },
                        "type": "scattergeo"
                      }
                    ],
                    "scattergl": [
                      {
                        "marker": {
                          "line": {
                            "color": "#283442"
                          }
                        },
                        "type": "scattergl"
                      }
                    ],
                    "scattermapbox": [
                      {
                        "marker": {
                          "colorbar": {
                            "outlinewidth": 0,
                            "ticks": ""
                          }
                        },
                        "type": "scattermapbox"
                      }
                    ],
                    "scatterpolar": [
                      {
                        "marker": {
                          "colorbar": {
                            "outlinewidth": 0,
                            "ticks": ""
                          }
                        },
                        "type": "scatterpolar"
                      }
                    ],
                    "scatterpolargl": [
                      {
                        "marker": {
                          "colorbar": {
                            "outlinewidth": 0,
                            "ticks": ""
                          }
                        },
                        "type": "scatterpolargl"
                      }
                    ],
                    "scatterternary": [
                      {
                        "marker": {
                          "colorbar": {
                            "outlinewidth": 0,
                            "ticks": ""
                          }
                        },
                        "type": "scatterternary"
                      }
                    ],
                    "surface": [
                      {
                        "colorbar": {
                          "outlinewidth": 0,
                          "ticks": ""
                        },
                        "colorscale": [
                          [
                            0,
                            "#0d0887"
                          ],
                          [
                            0.1111111111111111,
                            "#46039f"
                          ],
                          [
                            0.2222222222222222,
                            "#7201a8"
                          ],
                          [
                            0.3333333333333333,
                            "#9c179e"
                          ],
                          [
                            0.4444444444444444,
                            "#bd3786"
                          ],
                          [
                            0.5555555555555556,
                            "#d8576b"
                          ],
                          [
                            0.6666666666666666,
                            "#ed7953"
                          ],
                          [
                            0.7777777777777778,
                            "#fb9f3a"
                          ],
                          [
                            0.8888888888888888,
                            "#fdca26"
                          ],
                          [
                            1,
                            "#f0f921"
                          ]
                        ],
                        "type": "surface"
                      }
                    ],
                    "table": [
                      {
                        "cells": {
                          "fill": {
                            "color": "#506784"
                          },
                          "line": {
                            "color": "rgb(17,17,17)"
                          }
                        },
                        "header": {
                          "fill": {
                            "color": "#2a3f5f"
                          },
                          "line": {
                            "color": "rgb(17,17,17)"
                          }
                        },
                        "type": "table"
                      }
                    ]
                  },
                  "layout": {
                    "annotationdefaults": {
                      "arrowcolor": "#f2f5fa",
                      "arrowhead": 0,
                      "arrowwidth": 1
                    },
                    "autotypenumbers": "strict",
                    "coloraxis": {
                      "colorbar": {
                        "outlinewidth": 0,
                        "ticks": ""
                      }
                    },
                    "colorscale": {
                      "diverging": [
                        [
                          0,
                          "#8e0152"
                        ],
                        [
                          0.1,
                          "#c51b7d"
                        ],
                        [
                          0.2,
                          "#de77ae"
                        ],
                        [
                          0.3,
                          "#f1b6da"
                        ],
                        [
                          0.4,
                          "#fde0ef"
                        ],
                        [
                          0.5,
                          "#f7f7f7"
                        ],
                        [
                          0.6,
                          "#e6f5d0"
                        ],
                        [
                          0.7,
                          "#b8e186"
                        ],
                        [
                          0.8,
                          "#7fbc41"
                        ],
                        [
                          0.9,
                          "#4d9221"
                        ],
                        [
                          1,
                          "#276419"
                        ]
                      ],
                      "sequential": [
                        [
                          0,
                          "#0d0887"
                        ],
                        [
                          0.1111111111111111,
                          "#46039f"
                        ],
                        [
                          0.2222222222222222,
                          "#7201a8"
                        ],
                        [
                          0.3333333333333333,
                          "#9c179e"
                        ],
                        [
                          0.4444444444444444,
                          "#bd3786"
                        ],
                        [
                          0.5555555555555556,
                          "#d8576b"
                        ],
                        [
                          0.6666666666666666,
                          "#ed7953"
                        ],
                        [
                          0.7777777777777778,
                          "#fb9f3a"
                        ],
                        [
                          0.8888888888888888,
                          "#fdca26"
                        ],
                        [
                          1,
                          "#f0f921"
                        ]
                      ],
                      "sequentialminus": [
                        [
                          0,
                          "#0d0887"
                        ],
                        [
                          0.1111111111111111,
                          "#46039f"
                        ],
                        [
                          0.2222222222222222,
                          "#7201a8"
                        ],
                        [
                          0.3333333333333333,
                          "#9c179e"
                        ],
                        [
                          0.4444444444444444,
                          "#bd3786"
                        ],
                        [
                          0.5555555555555556,
                          "#d8576b"
                        ],
                        [
                          0.6666666666666666,
                          "#ed7953"
                        ],
                        [
                          0.7777777777777778,
                          "#fb9f3a"
                        ],
                        [
                          0.8888888888888888,
                          "#fdca26"
                        ],
                        [
                          1,
                          "#f0f921"
                        ]
                      ]
                    },
                    "colorway": [
                      "#636efa",
                      "#EF553B",
                      "#00cc96",
                      "#ab63fa",
                      "#FFA15A",
                      "#19d3f3",
                      "#FF6692",
                      "#B6E880",
                      "#FF97FF",
                      "#FECB52"
                    ],
                    "font": {
                      "color": "#f2f5fa"
                    },
                    "geo": {
                      "bgcolor": "rgb(17,17,17)",
                      "lakecolor": "rgb(17,17,17)",
                      "landcolor": "rgb(17,17,17)",
                      "showlakes": true,
                      "showland": true,
                      "subunitcolor": "#506784"
                    },
                    "hoverlabel": {
                      "align": "left"
                    },
                    "hovermode": "closest",
                    "mapbox": {
                      "style": "dark"
                    },
                    "paper_bgcolor": "rgb(17,17,17)",
                    "plot_bgcolor": "rgb(17,17,17)",
                    "polar": {
                      "angularaxis": {
                        "gridcolor": "#506784",
                        "linecolor": "#506784",
                        "ticks": ""
                      },
                      "bgcolor": "rgb(17,17,17)",
                      "radialaxis": {
                        "gridcolor": "#506784",
                        "linecolor": "#506784",
                        "ticks": ""
                      }
                    },
                    "scene": {
                      "xaxis": {
                        "backgroundcolor": "rgb(17,17,17)",
                        "gridcolor": "#506784",
                        "gridwidth": 2,
                        "linecolor": "#506784",
                        "showbackground": true,
                        "ticks": "",
                        "zerolinecolor": "#C8D4E3"
                      },
                      "yaxis": {
                        "backgroundcolor": "rgb(17,17,17)",
                        "gridcolor": "#506784",
                        "gridwidth": 2,
                        "linecolor": "#506784",
                        "showbackground": true,
                        "ticks": "",
                        "zerolinecolor": "#C8D4E3"
                      },
                      "zaxis": {
                        "backgroundcolor": "rgb(17,17,17)",
                        "gridcolor": "#506784",
                        "gridwidth": 2,
                        "linecolor": "#506784",
                        "showbackground": true,
                        "ticks": "",
                        "zerolinecolor": "#C8D4E3"
                      }
                    },
                    "shapedefaults": {
                      "line": {
                        "color": "#f2f5fa"
                      }
                    },
                    "sliderdefaults": {
                      "bgcolor": "#C8D4E3",
                      "bordercolor": "rgb(17,17,17)",
                      "borderwidth": 1,
                      "tickwidth": 0
                    },
                    "ternary": {
                      "aaxis": {
                        "gridcolor": "#506784",
                        "linecolor": "#506784",
                        "ticks": ""
                      },
                      "baxis": {
                        "gridcolor": "#506784",
                        "linecolor": "#506784",
                        "ticks": ""
                      },
                      "bgcolor": "rgb(17,17,17)",
                      "caxis": {
                        "gridcolor": "#506784",
                        "linecolor": "#506784",
                        "ticks": ""
                      }
                    },
                    "title": {
                      "x": 0.05
                    },
                    "updatemenudefaults": {
                      "bgcolor": "#506784",
                      "borderwidth": 0
                    },
                    "xaxis": {
                      "automargin": true,
                      "gridcolor": "#283442",
                      "linecolor": "#506784",
                      "ticks": "",
                      "title": {
                        "standoff": 15
                      },
                      "zerolinecolor": "#283442",
                      "zerolinewidth": 2
                    },
                    "yaxis": {
                      "automargin": true,
                      "gridcolor": "#283442",
                      "linecolor": "#506784",
                      "ticks": "",
                      "title": {
                        "standoff": 15
                      },
                      "zerolinecolor": "#283442",
                      "zerolinewidth": 2
                    }
                  }
                },
                "title": {
                  "text": "Annual Volume of Production of Rice and Corn<br><sup>National averages in metric tons</sup>"
                },
                "xaxis": {
                  "anchor": "y",
                  "domain": [
                    0,
                    1
                  ],
                  "title": {
                    "text": "Period"
                  }
                },
                "yaxis": {
                  "anchor": "x",
                  "domain": [
                    0,
                    1
                  ],
                  "title": {
                    "text": "Volume of Production"
                  }
                }
              }
            }
          },
          "metadata": {},
          "output_type": "display_data"
        },
        {
          "data": {
            "application/vnd.plotly.v1+json": {
              "config": {
                "plotlyServerURL": "https://plot.ly"
              },
              "data": [
                {
                  "hovertemplate": "Commodity=Coconut Mature<br>Period=%{x}<br>Volume=%{y}<extra></extra>",
                  "legendgroup": "Coconut Mature",
                  "line": {
                    "color": "#636efa",
                    "dash": "solid"
                  },
                  "marker": {
                    "symbol": "circle"
                  },
                  "mode": "lines",
                  "name": "Coconut Mature",
                  "orientation": "v",
                  "showlegend": true,
                  "type": "scatter",
                  "x": [
                    "2010",
                    "2011",
                    "2012",
                    "2013",
                    "2014",
                    "2015",
                    "2016",
                    "2017",
                    "2018",
                    "2019",
                    "2020",
                    "2021",
                    "2022",
                    "2023"
                  ],
                  "xaxis": "x",
                  "y": [
                    15192961.87,
                    14933341.7,
                    15528819.03,
                    15017286.2,
                    14368593.72,
                    14401080.87,
                    13485513.69,
                    13686635.8,
                    14352340.63,
                    14374835.6,
                    14096773.96,
                    14321201.83,
                    14532517.78,
                    14466385.53
                  ],
                  "yaxis": "y"
                },
                {
                  "hovertemplate": "Commodity=Sugarcane<br>Period=%{x}<br>Volume=%{y}<extra></extra>",
                  "legendgroup": "Sugarcane",
                  "line": {
                    "color": "#EF553B",
                    "dash": "solid"
                  },
                  "marker": {
                    "symbol": "circle"
                  },
                  "mode": "lines",
                  "name": "Sugarcane",
                  "orientation": "v",
                  "showlegend": true,
                  "type": "scatter",
                  "x": [
                    "2010",
                    "2011",
                    "2012",
                    "2013",
                    "2014",
                    "2015",
                    "2016",
                    "2017",
                    "2018",
                    "2019",
                    "2020",
                    "2021",
                    "2022",
                    "2023"
                  ],
                  "xaxis": "x",
                  "y": [
                    17929269.47,
                    28376517.84,
                    26395914.59,
                    24584841.5,
                    25029880.01,
                    22926437.34,
                    22370546.22,
                    29286893.18,
                    24730819.95,
                    20719291.05,
                    24398941.25,
                    26277401.74,
                    23455403.5,
                    21649056.78
                  ],
                  "yaxis": "y"
                },
                {
                  "hovertemplate": "Commodity=Banana<br>Period=%{x}<br>Volume=%{y}<extra></extra>",
                  "legendgroup": "Banana",
                  "line": {
                    "color": "#00cc96",
                    "dash": "solid"
                  },
                  "marker": {
                    "symbol": "circle"
                  },
                  "mode": "lines",
                  "name": "Banana",
                  "orientation": "v",
                  "showlegend": true,
                  "type": "scatter",
                  "x": [
                    "2010",
                    "2011",
                    "2012",
                    "2013",
                    "2014",
                    "2015",
                    "2016",
                    "2017",
                    "2018",
                    "2019",
                    "2020",
                    "2021",
                    "2022",
                    "2023"
                  ],
                  "xaxis": "x",
                  "y": [
                    9101341.19,
                    9165046.44,
                    9226768.08,
                    8646416.59,
                    8884857.39,
                    9083929.03,
                    8903684.14,
                    9166334.31,
                    9358784.56,
                    9157676.11,
                    9056149.45,
                    9091308.03,
                    9013288.54,
                    9019054.71
                  ],
                  "yaxis": "y"
                },
                {
                  "hovertemplate": "Commodity=Sweet Potato/Camote<br>Period=%{x}<br>Volume=%{y}<extra></extra>",
                  "legendgroup": "Sweet Potato/Camote",
                  "line": {
                    "color": "#ab63fa",
                    "dash": "solid"
                  },
                  "marker": {
                    "symbol": "circle"
                  },
                  "mode": "lines",
                  "name": "Sweet Potato/Camote",
                  "orientation": "v",
                  "showlegend": true,
                  "type": "scatter",
                  "x": [
                    "2010",
                    "2011",
                    "2012",
                    "2013",
                    "2014",
                    "2015",
                    "2016",
                    "2017",
                    "2018",
                    "2019",
                    "2020",
                    "2021",
                    "2022",
                    "2023"
                  ],
                  "xaxis": "x",
                  "y": [
                    541265.03,
                    516338.02,
                    516907.18,
                    528249.52,
                    519854.97,
                    535995.53,
                    529472.03,
                    537303.36,
                    525634.39,
                    525861.92,
                    546891.46,
                    545519.4,
                    558320.65,
                    523292.89
                  ],
                  "yaxis": "y"
                },
                {
                  "hovertemplate": "Commodity=Garlic (Dried bulb)<br>Period=%{x}<br>Volume=%{y}<extra></extra>",
                  "legendgroup": "Garlic (Dried bulb)",
                  "line": {
                    "color": "#FFA15A",
                    "dash": "solid"
                  },
                  "marker": {
                    "symbol": "circle"
                  },
                  "mode": "lines",
                  "name": "Garlic (Dried bulb)",
                  "orientation": "v",
                  "showlegend": true,
                  "type": "scatter",
                  "x": [
                    "2010",
                    "2011",
                    "2012",
                    "2013",
                    "2014",
                    "2015",
                    "2016",
                    "2017",
                    "2018",
                    "2019",
                    "2020",
                    "2021",
                    "2022",
                    "2023"
                  ],
                  "xaxis": "x",
                  "y": [
                    9563.2,
                    9056.15,
                    8808.43,
                    8986.35,
                    8992.86,
                    10419.52,
                    7468.97,
                    7751.05,
                    7559.12,
                    7256.32,
                    6766.62,
                    5890.14,
                    5884.93,
                    5765.06
                  ],
                  "yaxis": "y"
                },
                {
                  "hovertemplate": "Commodity=Onion (mature bulb)<br>Period=%{x}<br>Volume=%{y}<extra></extra>",
                  "legendgroup": "Onion (mature bulb)",
                  "line": {
                    "color": "#19d3f3",
                    "dash": "solid"
                  },
                  "marker": {
                    "symbol": "circle"
                  },
                  "mode": "lines",
                  "name": "Onion (mature bulb)",
                  "orientation": "v",
                  "showlegend": true,
                  "type": "scatter",
                  "x": [
                    "2010",
                    "2011",
                    "2012",
                    "2013",
                    "2014",
                    "2015",
                    "2016",
                    "2017",
                    "2018",
                    "2019",
                    "2020",
                    "2021",
                    "2022",
                    "2023"
                  ],
                  "xaxis": "x",
                  "y": [
                    135377.26,
                    128387.23,
                    124889.62,
                    134239.01,
                    203651.41,
                    181207.84,
                    122593.99,
                    184426.97,
                    172665.98,
                    222082.28,
                    229539.24,
                    218047.33,
                    241033.06,
                    252487.47
                  ],
                  "yaxis": "y"
                },
                {
                  "hovertemplate": "Commodity=Tomato<br>Period=%{x}<br>Volume=%{y}<extra></extra>",
                  "legendgroup": "Tomato",
                  "line": {
                    "color": "#FF6692",
                    "dash": "solid"
                  },
                  "marker": {
                    "symbol": "circle"
                  },
                  "mode": "lines",
                  "name": "Tomato",
                  "orientation": "v",
                  "showlegend": true,
                  "type": "scatter",
                  "x": [
                    "2010",
                    "2011",
                    "2012",
                    "2013",
                    "2014",
                    "2015",
                    "2016",
                    "2017",
                    "2018",
                    "2019",
                    "2020",
                    "2021",
                    "2022",
                    "2023"
                  ],
                  "xaxis": "x",
                  "y": [
                    204271.66,
                    203581.71,
                    203593.47,
                    207668.39,
                    214572.91,
                    214773.95,
                    210719.51,
                    218793.14,
                    220824.68,
                    223294.47,
                    222002.24,
                    225450.6,
                    216608.97,
                    219309.89
                  ],
                  "yaxis": "y"
                }
              ],
              "layout": {
                "legend": {
                  "title": {
                    "text": "Commodity"
                  },
                  "tracegroupgap": 0
                },
                "template": {
                  "data": {
                    "bar": [
                      {
                        "error_x": {
                          "color": "#f2f5fa"
                        },
                        "error_y": {
                          "color": "#f2f5fa"
                        },
                        "marker": {
                          "line": {
                            "color": "rgb(17,17,17)",
                            "width": 0.5
                          },
                          "pattern": {
                            "fillmode": "overlay",
                            "size": 10,
                            "solidity": 0.2
                          }
                        },
                        "type": "bar"
                      }
                    ],
                    "barpolar": [
                      {
                        "marker": {
                          "line": {
                            "color": "rgb(17,17,17)",
                            "width": 0.5
                          },
                          "pattern": {
                            "fillmode": "overlay",
                            "size": 10,
                            "solidity": 0.2
                          }
                        },
                        "type": "barpolar"
                      }
                    ],
                    "carpet": [
                      {
                        "aaxis": {
                          "endlinecolor": "#A2B1C6",
                          "gridcolor": "#506784",
                          "linecolor": "#506784",
                          "minorgridcolor": "#506784",
                          "startlinecolor": "#A2B1C6"
                        },
                        "baxis": {
                          "endlinecolor": "#A2B1C6",
                          "gridcolor": "#506784",
                          "linecolor": "#506784",
                          "minorgridcolor": "#506784",
                          "startlinecolor": "#A2B1C6"
                        },
                        "type": "carpet"
                      }
                    ],
                    "choropleth": [
                      {
                        "colorbar": {
                          "outlinewidth": 0,
                          "ticks": ""
                        },
                        "type": "choropleth"
                      }
                    ],
                    "contour": [
                      {
                        "colorbar": {
                          "outlinewidth": 0,
                          "ticks": ""
                        },
                        "colorscale": [
                          [
                            0,
                            "#0d0887"
                          ],
                          [
                            0.1111111111111111,
                            "#46039f"
                          ],
                          [
                            0.2222222222222222,
                            "#7201a8"
                          ],
                          [
                            0.3333333333333333,
                            "#9c179e"
                          ],
                          [
                            0.4444444444444444,
                            "#bd3786"
                          ],
                          [
                            0.5555555555555556,
                            "#d8576b"
                          ],
                          [
                            0.6666666666666666,
                            "#ed7953"
                          ],
                          [
                            0.7777777777777778,
                            "#fb9f3a"
                          ],
                          [
                            0.8888888888888888,
                            "#fdca26"
                          ],
                          [
                            1,
                            "#f0f921"
                          ]
                        ],
                        "type": "contour"
                      }
                    ],
                    "contourcarpet": [
                      {
                        "colorbar": {
                          "outlinewidth": 0,
                          "ticks": ""
                        },
                        "type": "contourcarpet"
                      }
                    ],
                    "heatmap": [
                      {
                        "colorbar": {
                          "outlinewidth": 0,
                          "ticks": ""
                        },
                        "colorscale": [
                          [
                            0,
                            "#0d0887"
                          ],
                          [
                            0.1111111111111111,
                            "#46039f"
                          ],
                          [
                            0.2222222222222222,
                            "#7201a8"
                          ],
                          [
                            0.3333333333333333,
                            "#9c179e"
                          ],
                          [
                            0.4444444444444444,
                            "#bd3786"
                          ],
                          [
                            0.5555555555555556,
                            "#d8576b"
                          ],
                          [
                            0.6666666666666666,
                            "#ed7953"
                          ],
                          [
                            0.7777777777777778,
                            "#fb9f3a"
                          ],
                          [
                            0.8888888888888888,
                            "#fdca26"
                          ],
                          [
                            1,
                            "#f0f921"
                          ]
                        ],
                        "type": "heatmap"
                      }
                    ],
                    "heatmapgl": [
                      {
                        "colorbar": {
                          "outlinewidth": 0,
                          "ticks": ""
                        },
                        "colorscale": [
                          [
                            0,
                            "#0d0887"
                          ],
                          [
                            0.1111111111111111,
                            "#46039f"
                          ],
                          [
                            0.2222222222222222,
                            "#7201a8"
                          ],
                          [
                            0.3333333333333333,
                            "#9c179e"
                          ],
                          [
                            0.4444444444444444,
                            "#bd3786"
                          ],
                          [
                            0.5555555555555556,
                            "#d8576b"
                          ],
                          [
                            0.6666666666666666,
                            "#ed7953"
                          ],
                          [
                            0.7777777777777778,
                            "#fb9f3a"
                          ],
                          [
                            0.8888888888888888,
                            "#fdca26"
                          ],
                          [
                            1,
                            "#f0f921"
                          ]
                        ],
                        "type": "heatmapgl"
                      }
                    ],
                    "histogram": [
                      {
                        "marker": {
                          "pattern": {
                            "fillmode": "overlay",
                            "size": 10,
                            "solidity": 0.2
                          }
                        },
                        "type": "histogram"
                      }
                    ],
                    "histogram2d": [
                      {
                        "colorbar": {
                          "outlinewidth": 0,
                          "ticks": ""
                        },
                        "colorscale": [
                          [
                            0,
                            "#0d0887"
                          ],
                          [
                            0.1111111111111111,
                            "#46039f"
                          ],
                          [
                            0.2222222222222222,
                            "#7201a8"
                          ],
                          [
                            0.3333333333333333,
                            "#9c179e"
                          ],
                          [
                            0.4444444444444444,
                            "#bd3786"
                          ],
                          [
                            0.5555555555555556,
                            "#d8576b"
                          ],
                          [
                            0.6666666666666666,
                            "#ed7953"
                          ],
                          [
                            0.7777777777777778,
                            "#fb9f3a"
                          ],
                          [
                            0.8888888888888888,
                            "#fdca26"
                          ],
                          [
                            1,
                            "#f0f921"
                          ]
                        ],
                        "type": "histogram2d"
                      }
                    ],
                    "histogram2dcontour": [
                      {
                        "colorbar": {
                          "outlinewidth": 0,
                          "ticks": ""
                        },
                        "colorscale": [
                          [
                            0,
                            "#0d0887"
                          ],
                          [
                            0.1111111111111111,
                            "#46039f"
                          ],
                          [
                            0.2222222222222222,
                            "#7201a8"
                          ],
                          [
                            0.3333333333333333,
                            "#9c179e"
                          ],
                          [
                            0.4444444444444444,
                            "#bd3786"
                          ],
                          [
                            0.5555555555555556,
                            "#d8576b"
                          ],
                          [
                            0.6666666666666666,
                            "#ed7953"
                          ],
                          [
                            0.7777777777777778,
                            "#fb9f3a"
                          ],
                          [
                            0.8888888888888888,
                            "#fdca26"
                          ],
                          [
                            1,
                            "#f0f921"
                          ]
                        ],
                        "type": "histogram2dcontour"
                      }
                    ],
                    "mesh3d": [
                      {
                        "colorbar": {
                          "outlinewidth": 0,
                          "ticks": ""
                        },
                        "type": "mesh3d"
                      }
                    ],
                    "parcoords": [
                      {
                        "line": {
                          "colorbar": {
                            "outlinewidth": 0,
                            "ticks": ""
                          }
                        },
                        "type": "parcoords"
                      }
                    ],
                    "pie": [
                      {
                        "automargin": true,
                        "type": "pie"
                      }
                    ],
                    "scatter": [
                      {
                        "marker": {
                          "line": {
                            "color": "#283442"
                          }
                        },
                        "type": "scatter"
                      }
                    ],
                    "scatter3d": [
                      {
                        "line": {
                          "colorbar": {
                            "outlinewidth": 0,
                            "ticks": ""
                          }
                        },
                        "marker": {
                          "colorbar": {
                            "outlinewidth": 0,
                            "ticks": ""
                          }
                        },
                        "type": "scatter3d"
                      }
                    ],
                    "scattercarpet": [
                      {
                        "marker": {
                          "colorbar": {
                            "outlinewidth": 0,
                            "ticks": ""
                          }
                        },
                        "type": "scattercarpet"
                      }
                    ],
                    "scattergeo": [
                      {
                        "marker": {
                          "colorbar": {
                            "outlinewidth": 0,
                            "ticks": ""
                          }
                        },
                        "type": "scattergeo"
                      }
                    ],
                    "scattergl": [
                      {
                        "marker": {
                          "line": {
                            "color": "#283442"
                          }
                        },
                        "type": "scattergl"
                      }
                    ],
                    "scattermapbox": [
                      {
                        "marker": {
                          "colorbar": {
                            "outlinewidth": 0,
                            "ticks": ""
                          }
                        },
                        "type": "scattermapbox"
                      }
                    ],
                    "scatterpolar": [
                      {
                        "marker": {
                          "colorbar": {
                            "outlinewidth": 0,
                            "ticks": ""
                          }
                        },
                        "type": "scatterpolar"
                      }
                    ],
                    "scatterpolargl": [
                      {
                        "marker": {
                          "colorbar": {
                            "outlinewidth": 0,
                            "ticks": ""
                          }
                        },
                        "type": "scatterpolargl"
                      }
                    ],
                    "scatterternary": [
                      {
                        "marker": {
                          "colorbar": {
                            "outlinewidth": 0,
                            "ticks": ""
                          }
                        },
                        "type": "scatterternary"
                      }
                    ],
                    "surface": [
                      {
                        "colorbar": {
                          "outlinewidth": 0,
                          "ticks": ""
                        },
                        "colorscale": [
                          [
                            0,
                            "#0d0887"
                          ],
                          [
                            0.1111111111111111,
                            "#46039f"
                          ],
                          [
                            0.2222222222222222,
                            "#7201a8"
                          ],
                          [
                            0.3333333333333333,
                            "#9c179e"
                          ],
                          [
                            0.4444444444444444,
                            "#bd3786"
                          ],
                          [
                            0.5555555555555556,
                            "#d8576b"
                          ],
                          [
                            0.6666666666666666,
                            "#ed7953"
                          ],
                          [
                            0.7777777777777778,
                            "#fb9f3a"
                          ],
                          [
                            0.8888888888888888,
                            "#fdca26"
                          ],
                          [
                            1,
                            "#f0f921"
                          ]
                        ],
                        "type": "surface"
                      }
                    ],
                    "table": [
                      {
                        "cells": {
                          "fill": {
                            "color": "#506784"
                          },
                          "line": {
                            "color": "rgb(17,17,17)"
                          }
                        },
                        "header": {
                          "fill": {
                            "color": "#2a3f5f"
                          },
                          "line": {
                            "color": "rgb(17,17,17)"
                          }
                        },
                        "type": "table"
                      }
                    ]
                  },
                  "layout": {
                    "annotationdefaults": {
                      "arrowcolor": "#f2f5fa",
                      "arrowhead": 0,
                      "arrowwidth": 1
                    },
                    "autotypenumbers": "strict",
                    "coloraxis": {
                      "colorbar": {
                        "outlinewidth": 0,
                        "ticks": ""
                      }
                    },
                    "colorscale": {
                      "diverging": [
                        [
                          0,
                          "#8e0152"
                        ],
                        [
                          0.1,
                          "#c51b7d"
                        ],
                        [
                          0.2,
                          "#de77ae"
                        ],
                        [
                          0.3,
                          "#f1b6da"
                        ],
                        [
                          0.4,
                          "#fde0ef"
                        ],
                        [
                          0.5,
                          "#f7f7f7"
                        ],
                        [
                          0.6,
                          "#e6f5d0"
                        ],
                        [
                          0.7,
                          "#b8e186"
                        ],
                        [
                          0.8,
                          "#7fbc41"
                        ],
                        [
                          0.9,
                          "#4d9221"
                        ],
                        [
                          1,
                          "#276419"
                        ]
                      ],
                      "sequential": [
                        [
                          0,
                          "#0d0887"
                        ],
                        [
                          0.1111111111111111,
                          "#46039f"
                        ],
                        [
                          0.2222222222222222,
                          "#7201a8"
                        ],
                        [
                          0.3333333333333333,
                          "#9c179e"
                        ],
                        [
                          0.4444444444444444,
                          "#bd3786"
                        ],
                        [
                          0.5555555555555556,
                          "#d8576b"
                        ],
                        [
                          0.6666666666666666,
                          "#ed7953"
                        ],
                        [
                          0.7777777777777778,
                          "#fb9f3a"
                        ],
                        [
                          0.8888888888888888,
                          "#fdca26"
                        ],
                        [
                          1,
                          "#f0f921"
                        ]
                      ],
                      "sequentialminus": [
                        [
                          0,
                          "#0d0887"
                        ],
                        [
                          0.1111111111111111,
                          "#46039f"
                        ],
                        [
                          0.2222222222222222,
                          "#7201a8"
                        ],
                        [
                          0.3333333333333333,
                          "#9c179e"
                        ],
                        [
                          0.4444444444444444,
                          "#bd3786"
                        ],
                        [
                          0.5555555555555556,
                          "#d8576b"
                        ],
                        [
                          0.6666666666666666,
                          "#ed7953"
                        ],
                        [
                          0.7777777777777778,
                          "#fb9f3a"
                        ],
                        [
                          0.8888888888888888,
                          "#fdca26"
                        ],
                        [
                          1,
                          "#f0f921"
                        ]
                      ]
                    },
                    "colorway": [
                      "#636efa",
                      "#EF553B",
                      "#00cc96",
                      "#ab63fa",
                      "#FFA15A",
                      "#19d3f3",
                      "#FF6692",
                      "#B6E880",
                      "#FF97FF",
                      "#FECB52"
                    ],
                    "font": {
                      "color": "#f2f5fa"
                    },
                    "geo": {
                      "bgcolor": "rgb(17,17,17)",
                      "lakecolor": "rgb(17,17,17)",
                      "landcolor": "rgb(17,17,17)",
                      "showlakes": true,
                      "showland": true,
                      "subunitcolor": "#506784"
                    },
                    "hoverlabel": {
                      "align": "left"
                    },
                    "hovermode": "closest",
                    "mapbox": {
                      "style": "dark"
                    },
                    "paper_bgcolor": "rgb(17,17,17)",
                    "plot_bgcolor": "rgb(17,17,17)",
                    "polar": {
                      "angularaxis": {
                        "gridcolor": "#506784",
                        "linecolor": "#506784",
                        "ticks": ""
                      },
                      "bgcolor": "rgb(17,17,17)",
                      "radialaxis": {
                        "gridcolor": "#506784",
                        "linecolor": "#506784",
                        "ticks": ""
                      }
                    },
                    "scene": {
                      "xaxis": {
                        "backgroundcolor": "rgb(17,17,17)",
                        "gridcolor": "#506784",
                        "gridwidth": 2,
                        "linecolor": "#506784",
                        "showbackground": true,
                        "ticks": "",
                        "zerolinecolor": "#C8D4E3"
                      },
                      "yaxis": {
                        "backgroundcolor": "rgb(17,17,17)",
                        "gridcolor": "#506784",
                        "gridwidth": 2,
                        "linecolor": "#506784",
                        "showbackground": true,
                        "ticks": "",
                        "zerolinecolor": "#C8D4E3"
                      },
                      "zaxis": {
                        "backgroundcolor": "rgb(17,17,17)",
                        "gridcolor": "#506784",
                        "gridwidth": 2,
                        "linecolor": "#506784",
                        "showbackground": true,
                        "ticks": "",
                        "zerolinecolor": "#C8D4E3"
                      }
                    },
                    "shapedefaults": {
                      "line": {
                        "color": "#f2f5fa"
                      }
                    },
                    "sliderdefaults": {
                      "bgcolor": "#C8D4E3",
                      "bordercolor": "rgb(17,17,17)",
                      "borderwidth": 1,
                      "tickwidth": 0
                    },
                    "ternary": {
                      "aaxis": {
                        "gridcolor": "#506784",
                        "linecolor": "#506784",
                        "ticks": ""
                      },
                      "baxis": {
                        "gridcolor": "#506784",
                        "linecolor": "#506784",
                        "ticks": ""
                      },
                      "bgcolor": "rgb(17,17,17)",
                      "caxis": {
                        "gridcolor": "#506784",
                        "linecolor": "#506784",
                        "ticks": ""
                      }
                    },
                    "title": {
                      "x": 0.05
                    },
                    "updatemenudefaults": {
                      "bgcolor": "#506784",
                      "borderwidth": 0
                    },
                    "xaxis": {
                      "automargin": true,
                      "gridcolor": "#283442",
                      "linecolor": "#506784",
                      "ticks": "",
                      "title": {
                        "standoff": 15
                      },
                      "zerolinecolor": "#283442",
                      "zerolinewidth": 2
                    },
                    "yaxis": {
                      "automargin": true,
                      "gridcolor": "#283442",
                      "linecolor": "#506784",
                      "ticks": "",
                      "title": {
                        "standoff": 15
                      },
                      "zerolinecolor": "#283442",
                      "zerolinewidth": 2
                    }
                  }
                },
                "title": {
                  "text": "Annual Volume of Production of Other Major Crops<br><sup>National averages in metric tons</sup>"
                },
                "xaxis": {
                  "anchor": "y",
                  "domain": [
                    0,
                    1
                  ],
                  "title": {
                    "text": "Period"
                  }
                },
                "yaxis": {
                  "anchor": "x",
                  "domain": [
                    0,
                    1
                  ],
                  "title": {
                    "text": "Volume of Production"
                  }
                }
              }
            }
          },
          "metadata": {},
          "output_type": "display_data"
        }
      ],
      "source": [
        "# Volume of Production of Selected Major Crops\n",
        "df = pd.read_csv(\"datasets/agricultural-indicators/volume_rice-corn.csv\", skiprows=2)\n",
        "df = df[df[\"Geolocation\"] == \"PHILIPPINES\"]\n",
        "df = df[(df[\"Commodity\"] == \"Palay\") | (df[\"Commodity\"] == \"Corn\")]\n",
        "df = df.filter(regex=\"Commodity|Geolocation|Annual\", axis=1)\n",
        "df.columns = map(lambda x: x.replace(\" Annual\", \"\") if \"Annual\" in x else x, df.columns)\n",
        "df = df.melt(id_vars=[\"Commodity\", \"Geolocation\"], value_vars=df.columns[2:], var_name=\"Period\", value_name=\"Volume\")\n",
        "fig = px.histogram(df, x=\"Period\", y=\"Volume\", color=\"Commodity\", barmode='group',\n",
        "                   title='Annual Volume of Production of Rice and Corn<br><sup>National averages in metric tons</sup>').update_layout(\n",
        "    xaxis_title=\"Period\", yaxis_title = \"Volume of Production\", template=\"plotly_dark\")\n",
        "fig.show()\n",
        "\n",
        "df = pd.read_csv(\"datasets/agricultural-indicators/volume_other-crops.csv\", skiprows=2)\n",
        "df = df[df[\"Geolocation\"] == \"PHILIPPINES\"]\n",
        "df = df[df[\"Commodity\"].isin([\"Coconut Mature\", \"Sugarcane\", \"Banana\", \"Tomato\", \"Garlic (Dried bulb)\", \"Onion (mature bulb)\", \"Sweet Potato/Camote\"])]\n",
        "df = df.filter(regex=\"Commodity|Geolocation|Annual\", axis=1)\n",
        "df.columns = map(lambda x: x.replace(\" Annual\", \"\") if \"Annual\" in x else x, df.columns)\n",
        "df = df.melt(id_vars=[\"Commodity\", \"Geolocation\"], value_vars=df.columns[2:], var_name=\"Period\", value_name=\"Volume\")\n",
        "fig = px.line(df, x=\"Period\", y=\"Volume\", color=\"Commodity\", title='Annual Volume of Production of Other Major Crops<br><sup>National averages in metric tons</sup>').update_layout(\n",
        "    xaxis_title=\"Period\", yaxis_title = \"Volume of Production\", template='plotly_dark')\n",
        "fig.show()"
      ]
    },
    {
      "cell_type": "markdown",
      "metadata": {},
      "source": [
        "## Annual Analysis\n",
        "Annual-National and Annual-Regional analysis of the commodities Rice and Corn. Other major crops to follow.\n",
        "\n",
        "**NOTE:** The core agricultural indicators are Stocks, Volume, and Area Harvested, while the core market indicators are Farmgate Price, Wholesale Price, and Retail Price.\n",
        "\n",
        "This is important to know especially during visualization where Farmgate price is used as a slicer."
      ]
    },
    {
      "cell_type": "markdown",
      "metadata": {},
      "source": [
        "### Data Preprocessing"
      ]
    },
    {
      "cell_type": "code",
      "execution_count": 65,
      "metadata": {},
      "outputs": [
        {
          "data": {
            "text/html": [
              "<div>\n",
              "<style scoped>\n",
              "    .dataframe tbody tr th:only-of-type {\n",
              "        vertical-align: middle;\n",
              "    }\n",
              "\n",
              "    .dataframe tbody tr th {\n",
              "        vertical-align: top;\n",
              "    }\n",
              "\n",
              "    .dataframe thead th {\n",
              "        text-align: right;\n",
              "    }\n",
              "</style>\n",
              "<table border=\"1\" class=\"dataframe\">\n",
              "  <thead>\n",
              "    <tr style=\"text-align: right;\">\n",
              "      <th></th>\n",
              "      <th>Geolocation</th>\n",
              "      <th>Commodity</th>\n",
              "      <th>Period</th>\n",
              "      <th>Stocks</th>\n",
              "      <th>Volume</th>\n",
              "      <th>Area Harvested</th>\n",
              "      <th>Self-Sufficiency Ratio</th>\n",
              "      <th>Import-Dependency Ratio</th>\n",
              "      <th>SU Gross Supply</th>\n",
              "      <th>UT Consumable</th>\n",
              "      <th>Farmgate Price</th>\n",
              "      <th>Wholesale Price</th>\n",
              "      <th>Retail Price</th>\n",
              "      <th>CPI All Income</th>\n",
              "      <th>CPI Bottom 30</th>\n",
              "      <th>Net Returns</th>\n",
              "      <th>Inflation Rate</th>\n",
              "      <th>NCR RPI</th>\n",
              "    </tr>\n",
              "  </thead>\n",
              "  <tbody>\n",
              "    <tr>\n",
              "      <th>0</th>\n",
              "      <td>philippines</td>\n",
              "      <td>Rice</td>\n",
              "      <td>2012</td>\n",
              "      <td>2227.093846</td>\n",
              "      <td>18032525.47</td>\n",
              "      <td>4690061.17</td>\n",
              "      <td>91.9</td>\n",
              "      <td>8.1</td>\n",
              "      <td>15465</td>\n",
              "      <td>11473</td>\n",
              "      <td>15.923333</td>\n",
              "      <td>32.800833</td>\n",
              "      <td>33.476667</td>\n",
              "      <td>81.632653</td>\n",
              "      <td>82.987552</td>\n",
              "      <td>19891.0</td>\n",
              "      <td>3.16</td>\n",
              "      <td>100.000000</td>\n",
              "    </tr>\n",
              "    <tr>\n",
              "      <th>1</th>\n",
              "      <td>cordillera administrative region (car)</td>\n",
              "      <td>Rice</td>\n",
              "      <td>2012</td>\n",
              "      <td>2227.093846</td>\n",
              "      <td>453461.00</td>\n",
              "      <td>120100.00</td>\n",
              "      <td>91.9</td>\n",
              "      <td>8.1</td>\n",
              "      <td>15465</td>\n",
              "      <td>11473</td>\n",
              "      <td>16.721667</td>\n",
              "      <td>32.416667</td>\n",
              "      <td>35.628333</td>\n",
              "      <td>85.616438</td>\n",
              "      <td>85.034014</td>\n",
              "      <td>7274.0</td>\n",
              "      <td>3.16</td>\n",
              "      <td>100.000000</td>\n",
              "    </tr>\n",
              "    <tr>\n",
              "      <th>2</th>\n",
              "      <td>region i (ilocos region)</td>\n",
              "      <td>Rice</td>\n",
              "      <td>2012</td>\n",
              "      <td>2227.093846</td>\n",
              "      <td>1737695.00</td>\n",
              "      <td>403169.00</td>\n",
              "      <td>91.9</td>\n",
              "      <td>8.1</td>\n",
              "      <td>15465</td>\n",
              "      <td>11473</td>\n",
              "      <td>17.065000</td>\n",
              "      <td>31.941667</td>\n",
              "      <td>31.070000</td>\n",
              "      <td>79.113924</td>\n",
              "      <td>79.617834</td>\n",
              "      <td>21639.0</td>\n",
              "      <td>3.16</td>\n",
              "      <td>100.000000</td>\n",
              "    </tr>\n",
              "    <tr>\n",
              "      <th>3</th>\n",
              "      <td>region ii (cagayan valley)</td>\n",
              "      <td>Rice</td>\n",
              "      <td>2012</td>\n",
              "      <td>2227.093846</td>\n",
              "      <td>2425536.47</td>\n",
              "      <td>582557.17</td>\n",
              "      <td>91.9</td>\n",
              "      <td>8.1</td>\n",
              "      <td>15465</td>\n",
              "      <td>11473</td>\n",
              "      <td>16.246667</td>\n",
              "      <td>30.702500</td>\n",
              "      <td>31.335833</td>\n",
              "      <td>80.971660</td>\n",
              "      <td>83.752094</td>\n",
              "      <td>16638.0</td>\n",
              "      <td>3.16</td>\n",
              "      <td>100.000000</td>\n",
              "    </tr>\n",
              "    <tr>\n",
              "      <th>4</th>\n",
              "      <td>region iii (central luzon)</td>\n",
              "      <td>Rice</td>\n",
              "      <td>2012</td>\n",
              "      <td>2227.093846</td>\n",
              "      <td>3220607.00</td>\n",
              "      <td>675781.00</td>\n",
              "      <td>91.9</td>\n",
              "      <td>8.1</td>\n",
              "      <td>15465</td>\n",
              "      <td>11473</td>\n",
              "      <td>17.145000</td>\n",
              "      <td>32.866667</td>\n",
              "      <td>31.469167</td>\n",
              "      <td>79.617834</td>\n",
              "      <td>79.808460</td>\n",
              "      <td>30333.0</td>\n",
              "      <td>3.16</td>\n",
              "      <td>100.000000</td>\n",
              "    </tr>\n",
              "    <tr>\n",
              "      <th>...</th>\n",
              "      <td>...</td>\n",
              "      <td>...</td>\n",
              "      <td>...</td>\n",
              "      <td>...</td>\n",
              "      <td>...</td>\n",
              "      <td>...</td>\n",
              "      <td>...</td>\n",
              "      <td>...</td>\n",
              "      <td>...</td>\n",
              "      <td>...</td>\n",
              "      <td>...</td>\n",
              "      <td>...</td>\n",
              "      <td>...</td>\n",
              "      <td>...</td>\n",
              "      <td>...</td>\n",
              "      <td>...</td>\n",
              "      <td>...</td>\n",
              "      <td>...</td>\n",
              "    </tr>\n",
              "    <tr>\n",
              "      <th>335</th>\n",
              "      <td>region x (northern mindanao)</td>\n",
              "      <td>Corn</td>\n",
              "      <td>2021</td>\n",
              "      <td>794.027692</td>\n",
              "      <td>1455030.45</td>\n",
              "      <td>384864.96</td>\n",
              "      <td>94.8</td>\n",
              "      <td>5.2</td>\n",
              "      <td>9661</td>\n",
              "      <td>2609</td>\n",
              "      <td>14.165000</td>\n",
              "      <td>29.346667</td>\n",
              "      <td>24.740833</td>\n",
              "      <td>100.408755</td>\n",
              "      <td>100.126349</td>\n",
              "      <td>29280.0</td>\n",
              "      <td>3.93</td>\n",
              "      <td>125.858333</td>\n",
              "    </tr>\n",
              "    <tr>\n",
              "      <th>336</th>\n",
              "      <td>region xi (davao region)</td>\n",
              "      <td>Corn</td>\n",
              "      <td>2021</td>\n",
              "      <td>794.027692</td>\n",
              "      <td>266894.04</td>\n",
              "      <td>175295.00</td>\n",
              "      <td>94.8</td>\n",
              "      <td>5.2</td>\n",
              "      <td>9661</td>\n",
              "      <td>2609</td>\n",
              "      <td>12.265000</td>\n",
              "      <td>30.242500</td>\n",
              "      <td>20.895000</td>\n",
              "      <td>90.597157</td>\n",
              "      <td>90.246810</td>\n",
              "      <td>NaN</td>\n",
              "      <td>3.93</td>\n",
              "      <td>125.858333</td>\n",
              "    </tr>\n",
              "    <tr>\n",
              "      <th>337</th>\n",
              "      <td>region xii (soccsksargen)</td>\n",
              "      <td>Corn</td>\n",
              "      <td>2021</td>\n",
              "      <td>794.027692</td>\n",
              "      <td>1105238.85</td>\n",
              "      <td>397363.00</td>\n",
              "      <td>94.8</td>\n",
              "      <td>5.2</td>\n",
              "      <td>9661</td>\n",
              "      <td>2609</td>\n",
              "      <td>15.142500</td>\n",
              "      <td>30.406667</td>\n",
              "      <td>NaN</td>\n",
              "      <td>102.613642</td>\n",
              "      <td>102.581773</td>\n",
              "      <td>14274.0</td>\n",
              "      <td>3.93</td>\n",
              "      <td>125.858333</td>\n",
              "    </tr>\n",
              "    <tr>\n",
              "      <th>338</th>\n",
              "      <td>region xiii (caraga)</td>\n",
              "      <td>Corn</td>\n",
              "      <td>2021</td>\n",
              "      <td>794.027692</td>\n",
              "      <td>141648.84</td>\n",
              "      <td>40933.00</td>\n",
              "      <td>94.8</td>\n",
              "      <td>5.2</td>\n",
              "      <td>9661</td>\n",
              "      <td>2609</td>\n",
              "      <td>12.490833</td>\n",
              "      <td>32.963333</td>\n",
              "      <td>NaN</td>\n",
              "      <td>115.890568</td>\n",
              "      <td>115.778763</td>\n",
              "      <td>15564.0</td>\n",
              "      <td>3.93</td>\n",
              "      <td>125.858333</td>\n",
              "    </tr>\n",
              "    <tr>\n",
              "      <th>339</th>\n",
              "      <td>bangsamoro autonomous region in muslim mindana...</td>\n",
              "      <td>Corn</td>\n",
              "      <td>2021</td>\n",
              "      <td>794.027692</td>\n",
              "      <td>1137310.72</td>\n",
              "      <td>350929.19</td>\n",
              "      <td>94.8</td>\n",
              "      <td>5.2</td>\n",
              "      <td>9661</td>\n",
              "      <td>2609</td>\n",
              "      <td>12.575833</td>\n",
              "      <td>NaN</td>\n",
              "      <td>NaN</td>\n",
              "      <td>98.141678</td>\n",
              "      <td>95.450050</td>\n",
              "      <td>20390.0</td>\n",
              "      <td>3.93</td>\n",
              "      <td>125.858333</td>\n",
              "    </tr>\n",
              "  </tbody>\n",
              "</table>\n",
              "<p>340 rows × 18 columns</p>\n",
              "</div>"
            ],
            "text/plain": [
              "                                           Geolocation Commodity Period  \\\n",
              "0                                          philippines      Rice   2012   \n",
              "1               cordillera administrative region (car)      Rice   2012   \n",
              "2                             region i (ilocos region)      Rice   2012   \n",
              "3                           region ii (cagayan valley)      Rice   2012   \n",
              "4                           region iii (central luzon)      Rice   2012   \n",
              "..                                                 ...       ...    ...   \n",
              "335                       region x (northern mindanao)      Corn   2021   \n",
              "336                           region xi (davao region)      Corn   2021   \n",
              "337                          region xii (soccsksargen)      Corn   2021   \n",
              "338                               region xiii (caraga)      Corn   2021   \n",
              "339  bangsamoro autonomous region in muslim mindana...      Corn   2021   \n",
              "\n",
              "          Stocks       Volume  Area Harvested  Self-Sufficiency Ratio  \\\n",
              "0    2227.093846  18032525.47      4690061.17                    91.9   \n",
              "1    2227.093846    453461.00       120100.00                    91.9   \n",
              "2    2227.093846   1737695.00       403169.00                    91.9   \n",
              "3    2227.093846   2425536.47       582557.17                    91.9   \n",
              "4    2227.093846   3220607.00       675781.00                    91.9   \n",
              "..           ...          ...             ...                     ...   \n",
              "335   794.027692   1455030.45       384864.96                    94.8   \n",
              "336   794.027692    266894.04       175295.00                    94.8   \n",
              "337   794.027692   1105238.85       397363.00                    94.8   \n",
              "338   794.027692    141648.84        40933.00                    94.8   \n",
              "339   794.027692   1137310.72       350929.19                    94.8   \n",
              "\n",
              "     Import-Dependency Ratio  SU Gross Supply  UT Consumable  Farmgate Price  \\\n",
              "0                        8.1            15465          11473       15.923333   \n",
              "1                        8.1            15465          11473       16.721667   \n",
              "2                        8.1            15465          11473       17.065000   \n",
              "3                        8.1            15465          11473       16.246667   \n",
              "4                        8.1            15465          11473       17.145000   \n",
              "..                       ...              ...            ...             ...   \n",
              "335                      5.2             9661           2609       14.165000   \n",
              "336                      5.2             9661           2609       12.265000   \n",
              "337                      5.2             9661           2609       15.142500   \n",
              "338                      5.2             9661           2609       12.490833   \n",
              "339                      5.2             9661           2609       12.575833   \n",
              "\n",
              "     Wholesale Price  Retail Price  CPI All Income  CPI Bottom 30  \\\n",
              "0          32.800833     33.476667       81.632653      82.987552   \n",
              "1          32.416667     35.628333       85.616438      85.034014   \n",
              "2          31.941667     31.070000       79.113924      79.617834   \n",
              "3          30.702500     31.335833       80.971660      83.752094   \n",
              "4          32.866667     31.469167       79.617834      79.808460   \n",
              "..               ...           ...             ...            ...   \n",
              "335        29.346667     24.740833      100.408755     100.126349   \n",
              "336        30.242500     20.895000       90.597157      90.246810   \n",
              "337        30.406667           NaN      102.613642     102.581773   \n",
              "338        32.963333           NaN      115.890568     115.778763   \n",
              "339              NaN           NaN       98.141678      95.450050   \n",
              "\n",
              "     Net Returns  Inflation Rate     NCR RPI  \n",
              "0        19891.0            3.16  100.000000  \n",
              "1         7274.0            3.16  100.000000  \n",
              "2        21639.0            3.16  100.000000  \n",
              "3        16638.0            3.16  100.000000  \n",
              "4        30333.0            3.16  100.000000  \n",
              "..           ...             ...         ...  \n",
              "335      29280.0            3.93  125.858333  \n",
              "336          NaN            3.93  125.858333  \n",
              "337      14274.0            3.93  125.858333  \n",
              "338      15564.0            3.93  125.858333  \n",
              "339      20390.0            3.93  125.858333  \n",
              "\n",
              "[340 rows x 18 columns]"
            ]
          },
          "execution_count": 65,
          "metadata": {},
          "output_type": "execute_result"
        }
      ],
      "source": [
        "# @title Annual megadataset for rice and corn\n",
        "# NOTE: Filter this during visualization and analysis to just Philippines or Regions\n",
        "def filter_period(df: pd.DataFrame, _type: str):\n",
        "    if _type == \"Annual\":\n",
        "        df = df.filter(regex=\"Commodity|Geolocation|Annual\", axis=1)\n",
        "        df.columns = map(lambda x: x.replace(\" Annual\", \"\") if \"Annual\" in x else x, df.columns)\n",
        "    elif _type == \"Quarterly\":\n",
        "        df = df.filter(regex=\"Commodity|Geolocation|Q\\d\", axis=1)\n",
        "    return df\n",
        "\n",
        "# Volume of Rice and Corn\n",
        "df1 = pd.read_csv(\"datasets/agricultural-indicators/volume_rice-corn.csv\", skiprows=2, na_values=[\"..\"])\n",
        "df1 = filter_period(df1, \"Annual\")\n",
        "df1 = preprocess_baesians_2(df1, {\"Palay\": \"Rice\", \"Corn\": \"Corn\"}, melt_value=\"Volume\")\n",
        "\n",
        "df1_1 = pd.read_csv(\"datasets/agricultural-indicators/volume_other-crops.csv\", skiprows=2, na_values=[\"..\"])\n",
        "df1_1 = filter_period(df1_1, \"Annual\")\n",
        "df1_1 = preprocess_baesians_2(df1_1, {\"Onion (mature bulb)\": \"Onion\", \"Garlic (Dried bulb)\": \"Garlic\"}, melt_value=\"Volume\")\n",
        "\n",
        "# Farmgate Price of Rice and Corn\n",
        "df2 = pd.read_csv(\"datasets/prices/prices_farmgate-new-series_2010-2023.csv\")\n",
        "df2 = get_annual_columns(df2, range(2012, 2024), 2)\n",
        "df2 = preprocess_baesians_2(df2, {\"Palay [Paddy] Other Variety, dry (conv. to 14% mc)\": \"Rice\",\n",
        "                                  \"Corngrain [Maize] Yellow, matured\": \"Corn\",\n",
        "                                  \"Onion Red Creole (Bermuda Red)\": \"Onion\",\n",
        "                                  \"Garlic\": \"Garlic\"}, melt_value=\"Farmgate Price\")\n",
        "\n",
        "# Wholesale Price of Rice and Corn\n",
        "df3 = pd.read_csv(\"datasets/prices/prices_wholesale-new-series_2010-2023.csv\",)\n",
        "df3 = get_annual_columns(df3, range(2012, 2024), 2)\n",
        "df3 = preprocess_baesians_2(df3, {\"Well Milled Rice (WMR)\": \"Rice\",\n",
        "                                  \"Corngrits White\": \"Corn\",\n",
        "                                  \"Onion Red Creole (Bermuda Red)\": \"Onion\",\n",
        "                                  \"Garlic\": \"Garlic\"}, melt_value=\"Wholesale Price\")\n",
        "\n",
        "# Retail Price of Rice and Corn\n",
        "df4 = pd.read_csv(\"datasets/prices/prices_retail_2012-2023.csv\")\n",
        "df4 = get_annual_columns(df4, range(2012, 2024), 2)\n",
        "df4 = preprocess_baesians_2(df4, {\"RICE, REGULAR-MILLED, 1 KG\": \"Rice\",\n",
        "                                  \"RICE, REGULAR MILLED, LOOSE, 1 KG\" : \"Rice\",\n",
        "                                  'WHOLE CORN GRAIN, YELLOW, 1 KG': \"Corn\",\n",
        "                                  \"ONION RED CREOLE (BERMUDA RED), 1 KG\": \"Onion\",\n",
        "                                  \"GARLIC, NATIVE, 1 KG\": \"Garlic\"}, melt_value=\"Retail Price\")\n",
        "\n",
        "# Area Harvested of Rice and Corn\n",
        "df5 = pd.read_csv(\"datasets/agricultural-indicators/area-harvested-palay-corn_quarterly-annual_2010-2023.csv\", skiprows=2)\n",
        "df5 = filter_period(df5, \"Annual\")\n",
        "df5 = preprocess_baesians_2(df5, {\"Palay\": \"Rice\", \"Corn\": \"Corn\"}, melt_value=\"Area Harvested\")\n",
        "\n",
        "df5_1 = pd.read_csv(\"datasets/agricultural-indicators/area-harvested-by-crop-by-region_quarterly-annual_2013-2023.csv\", skiprows=2)\n",
        "df5_1 = filter_period(df5_1, \"Annual\")\n",
        "df5_1 = preprocess_baesians_2(df5_1, {\"Onion (mature bulb)\": \"Onion\",\n",
        "                                      \"Garlic (bulb)\": \"Garlic\"}, melt_value=\"Area Harvested\")\n",
        "\n",
        "# Consumer Price Index (All Income) per Region of Rice and Corn\n",
        "df6 = pd.read_csv(\"datasets/price-indices-2018-based/cpi_all-income-households-by-cg-with-backcasting_1994-2023.csv\")\n",
        "df6 = get_annual_columns(df6, range(2012, 2024), 2)\n",
        "df6 = preprocess_baesians_2(df6, {\"01.1.1.12 - Rice\": \"Rice\",\n",
        "                                  \"01.1.1.16 - Corn\": \"Corn\",\n",
        "                                  \"01.1.7 - Vegetables, tubers, plantains, cooking bananas and pulses (ND)\": \"Onion\"},\n",
        "                            melt_value=\"CPI All Income\")\n",
        "\n",
        "# Consumer Price Index (Bottom 30) per Region of Rice and Corn\n",
        "df7 = pd.read_csv(\"datasets/price-indices-2018-based/cpi_bottom-30-by-cg-with-backcasting_2012-2017.csv\")\n",
        "df7 = preprocess_baesians_2(df7, {\"01.1.1.12 - Rice\": \"Rice\", \"01.1.1.16 - Corn\": \"Corn\"}, melt_value=None)\n",
        "tdf = pd.read_csv(\"datasets/price-indices-2018-based/cpi_bottom-30-by-cg_2018-2023.csv\")\n",
        "tdf = preprocess_baesians_2(tdf, {\"01.1.1.12 - Rice\": \"Rice\", \"01.1.1.16 - Corn\": \"Corn\"}, melt_value=None)\n",
        "df7 = pd.merge(df7, tdf, on=[\"Geolocation\", \"Commodity\"])\n",
        "df7 = get_annual_columns(df7, range(2012, 2024), 2)\n",
        "df7 = preprocess_baesians_2(df7, {\"Rice\": \"Rice\", \"Corn\": \"Corn\"}, melt_value=\"CPI Bottom 30\")\n",
        "\n",
        "# Costs and Returns per Region of Rice and Corn\n",
        "df8 = pd.read_csv(\"datasets/agricultural-indicators/costs-and-returns_rice-and-corn.csv\", skiprows=1, na_values=[\"..\"])\n",
        "df8 = df8[df8[\"Item\"] == \"NET RETURNS\"]\n",
        "df8.drop(\"Item\", axis=1, inplace=True)\n",
        "df8.rename({\"Type\": \"Commodity\"}, axis=1, inplace=True)\n",
        "df8 = preprocess_baesians_2(df8, {\"All Palay\": \"Rice\", \"All Corn\": \"Corn\"}, melt_value=\"Net Returns\")\n",
        "df8 = df8[df8[\"Period\"].str.contains(\"Average\")]\n",
        "df8[\"Period\"] = df8[\"Period\"].apply(lambda x: x.split()[1])\n",
        "\n",
        "# National Inflation Rate\n",
        "df9 = pd.read_csv(\"datasets/statista_inflation-rate-in-the-philippines-2029.csv\", dtype={\"Period\": object, \"Inflation Rate\": float})\n",
        "\n",
        "# NCR Retail Price Index on Food\n",
        "df10 = pd.read_csv(\"datasets/price-indices-2018-based/rpi-in-ncr_food-only_1998-2023.csv\")\n",
        "df10 = get_annual_columns(df10, range(2010, 2024), 2)\n",
        "df10 = preprocess_baesians_2(df10, {\"Food\": \"Food\"}, melt_value=\"NCR RPI\").drop([\"Geolocation\", \"Commodity\"], axis=1)\n",
        "\n",
        "# Agricultural Self-Sufficiency for Rice and Corn\n",
        "df11 = pd.read_csv(\"datasets/agricultural-indicators/agri-self-sufficiency-ratio.csv\", skiprows=1)\n",
        "df11 = df11[(df11[\"Commodity\"] == \"Rice\") | (df11[\"Commodity\"] == \"Corn\")]\n",
        "df11 = df11.melt(\"Commodity\", df11.columns[1:], \"Period\", \"Self-Sufficiency Ratio\")\n",
        "\n",
        "# Agricultural Import-Dependency for Rice and Corn\n",
        "df12 = pd.read_csv(\"datasets/agricultural-indicators/agri-import-dependency-ratio.csv\", skiprows=1)\n",
        "df12 = df12[(df12[\"Commodity\"] == \"Rice\") | (df12[\"Commodity\"] == \"Corn\")]\n",
        "df12 = df12.melt(\"Commodity\", df12.columns[1:], \"Period\", \"Import-Dependency Ratio\")\n",
        "\n",
        "# SU Gross Supply and UT Total Net Food Disposable for Rice and Corn\n",
        "# Explained here: https://openstat.psa.gov.ph/Metadata/2B5FSUA0\n",
        "df13 = pd.read_csv(\"datasets/agricultural-indicators/SUT_Rice and Corn.csv\")\n",
        "df13 = df13.filter(regex=\"Commodity|Year|Gross|Food\")\n",
        "df13.rename({\"Year\": \"Period\", \"UT Total Net Food Disposable\": \"UT Consumable\"}, axis=1, inplace=True)\n",
        "df13.Period = df13.Period.astype(str)\n",
        "\n",
        "# Merge all dfs into a single df\n",
        "# NOTE: Remove df8 or add more year data or commodities to increase number of samples\n",
        "# NOTE: You may adjust here which dfs are included in the final df\n",
        "# NOTE: df8, df10, df11, df12, and df13 are all only until 2021 and 2022... respectively\n",
        "UNTIL_2023 = False\n",
        "if UNTIL_2023:\n",
        "    dfs = [df1, df2, df3, df4, df5, df6, df7, df9]\n",
        "    df = functools.reduce(lambda left, right: pd.merge(left, right), dfs)\n",
        "else:\n",
        "    dfs = [df1, df2, df3, df4, df5, df6, df7, df8, df9, df10, df11, df12, df13]\n",
        "    df = functools.reduce(lambda left, right: pd.merge(left, right), dfs)\n",
        "    move_column(df, \"Area Harvested\", 4)\n",
        "    move_column(df, \"Self-Sufficiency Ratio\", 5)\n",
        "    move_column(df, \"Import-Dependency Ratio\", 6)\n",
        "    move_column(df, \"SU Gross Supply\", 7)\n",
        "    move_column(df, \"UT Consumable\", 8)\n",
        "\n",
        "# # Stocks of Rice (Annual)\n",
        "tdf1 = df_stocks.copy()\n",
        "tdf2 = df[[\"Commodity\", \"Period\"]].copy()\n",
        "tdf2[\"Period\"] = pd.to_numeric(tdf2[\"Period\"])\n",
        "df.insert(3, \"Stocks\", pd.merge(tdf2, tdf1)[\"Stocks\"])\n",
        "\n",
        "# Additional Datasets -------------------------------------\n",
        "# Uncomment the merge to include\n",
        "# Poverty Incidence per Region (only on 2015, 2018, 2021)\n",
        "df_poverty = pd.read_csv(\"datasets/poverty_incidence.csv\", skiprows=1)\n",
        "df_poverty[\"Commodity\"] = \"Rice\"\n",
        "df_poverty = preprocess_baesians_2(df_poverty, {\"Rice\": \"Rice\"}, melt_value=\"Poverty Incidence\")\n",
        "df_poverty.drop(\"Commodity\", axis=1, inplace=True)\n",
        "\n",
        "# df = pd.merge(df, df_poverty) # NOTE: Uncomment to include\n",
        "\n",
        "# Enrollment Rate per Region\n",
        "df_enrollment = pd.read_csv(\"datasets/enrollment.csv\", na_values=[\"..\"])\n",
        "df_enrollment[\"Geolocation\"] = df[\"Geolocation\"].str.lower().replace(region_short_to_long)\n",
        "df_enrollment = df_enrollment.filter(regex=\"Geolocation|Both Sexes\")\n",
        "df_enrollment.rename(lambda x: x.split()[2] if \"Both\" in x else x, axis=1, inplace=True)\n",
        "df_enrollment = df_enrollment.melt([\"Geolocation\"], df_enrollment.columns[1:], \"Period\", \"Enrollment Rate\")\n",
        "\n",
        "# df = pd.merge(df, df_enrollment) # NOTE: Uncomment to include\n",
        "\n",
        "# Cleanup\n",
        "del dfs, df1, df2, df3, df4, df5, df6, df7, df8, df9, df10, df11, df12, df13\n",
        "\n",
        "df"
      ]
    },
    {
      "cell_type": "markdown",
      "metadata": {},
      "source": [
        "### Data Visualizations"
      ]
    },
    {
      "cell_type": "code",
      "execution_count": 66,
      "metadata": {},
      "outputs": [
        {
          "data": {
            "application/vnd.plotly.v1+json": {
              "config": {
                "plotlyServerURL": "https://plot.ly"
              },
              "data": [
                {
                  "coloraxis": "coloraxis",
                  "hovertemplate": "x: %{x}<br>y: %{y}<br><b>Correlation: %{z}</b><extra></extra>",
                  "name": "0",
                  "texttemplate": "%{z:.2f}",
                  "type": "heatmap",
                  "x": [
                    "Farmgate Price",
                    "Wholesale Price",
                    "Retail Price",
                    "CPI All Income",
                    "CPI Bottom 30",
                    "Net Returns",
                    "Inflation Rate",
                    "NCR RPI"
                  ],
                  "xaxis": "x",
                  "y": [
                    "Stocks",
                    "Volume",
                    "Area Harvested",
                    "Self-Sufficiency Ratio",
                    "Import-Dependency Ratio",
                    "SU Gross Supply",
                    "UT Consumable"
                  ],
                  "yaxis": "y",
                  "z": [
                    [
                      -0.12046780702791529,
                      0.018070178250445396,
                      0.10519258893624868,
                      0.18491080312794278,
                      0.1860357522922942,
                      -0.05870897626504244,
                      -0.835352133998475,
                      0.03436609022201379
                    ],
                    [
                      0.056839092450440075,
                      -0.16508162192486295,
                      -0.31033208828819386,
                      0.05308340490173802,
                      0.02156741244217455,
                      0.35361400901731926,
                      0.027712091907128315,
                      0.03301280220944933
                    ],
                    [
                      -0.004057674586468534,
                      -0.21830364481320758,
                      -0.3229022761898593,
                      0.01698035367268709,
                      -0.018365895606293488,
                      0.26209556521331606,
                      0.018672483985326657,
                      0.0063494104315297405
                    ],
                    [
                      0.04821829699048185,
                      -0.3103036818425525,
                      -0.34799744847701514,
                      -0.3420126591393606,
                      -0.2513244544667995,
                      0.21593013597483737,
                      -0.25351393240883346,
                      -0.8032794922699679
                    ],
                    [
                      -0.04616923048829057,
                      0.3118003158603369,
                      0.3488787179319851,
                      0.34272284921161145,
                      0.2521089624969503,
                      -0.21426344137655548,
                      0.25490019154398386,
                      0.8023953078339559
                    ],
                    [
                      -0.07237333408935766,
                      0.31600142162782896,
                      0.34274393580080664,
                      0.33690278114317845,
                      0.23072364338425055,
                      -0.25019208414026106,
                      0.2753872153981317,
                      0.9257552304096524
                    ],
                    [
                      -0.1325718726655956,
                      0.21823880838795146,
                      0.23903589292189203,
                      0.20894172047355286,
                      0.10352154047138681,
                      -0.29018624688458167,
                      0.37204851321079235,
                      0.9071996901501422
                    ]
                  ]
                }
              ],
              "layout": {
                "coloraxis": {
                  "colorscale": [
                    [
                      0,
                      "#0d0887"
                    ],
                    [
                      0.1111111111111111,
                      "#46039f"
                    ],
                    [
                      0.2222222222222222,
                      "#7201a8"
                    ],
                    [
                      0.3333333333333333,
                      "#9c179e"
                    ],
                    [
                      0.4444444444444444,
                      "#bd3786"
                    ],
                    [
                      0.5555555555555556,
                      "#d8576b"
                    ],
                    [
                      0.6666666666666666,
                      "#ed7953"
                    ],
                    [
                      0.7777777777777778,
                      "#fb9f3a"
                    ],
                    [
                      0.8888888888888888,
                      "#fdca26"
                    ],
                    [
                      1,
                      "#f0f921"
                    ]
                  ]
                },
                "template": {
                  "data": {
                    "bar": [
                      {
                        "error_x": {
                          "color": "#f2f5fa"
                        },
                        "error_y": {
                          "color": "#f2f5fa"
                        },
                        "marker": {
                          "line": {
                            "color": "rgb(17,17,17)",
                            "width": 0.5
                          },
                          "pattern": {
                            "fillmode": "overlay",
                            "size": 10,
                            "solidity": 0.2
                          }
                        },
                        "type": "bar"
                      }
                    ],
                    "barpolar": [
                      {
                        "marker": {
                          "line": {
                            "color": "rgb(17,17,17)",
                            "width": 0.5
                          },
                          "pattern": {
                            "fillmode": "overlay",
                            "size": 10,
                            "solidity": 0.2
                          }
                        },
                        "type": "barpolar"
                      }
                    ],
                    "carpet": [
                      {
                        "aaxis": {
                          "endlinecolor": "#A2B1C6",
                          "gridcolor": "#506784",
                          "linecolor": "#506784",
                          "minorgridcolor": "#506784",
                          "startlinecolor": "#A2B1C6"
                        },
                        "baxis": {
                          "endlinecolor": "#A2B1C6",
                          "gridcolor": "#506784",
                          "linecolor": "#506784",
                          "minorgridcolor": "#506784",
                          "startlinecolor": "#A2B1C6"
                        },
                        "type": "carpet"
                      }
                    ],
                    "choropleth": [
                      {
                        "colorbar": {
                          "outlinewidth": 0,
                          "ticks": ""
                        },
                        "type": "choropleth"
                      }
                    ],
                    "contour": [
                      {
                        "colorbar": {
                          "outlinewidth": 0,
                          "ticks": ""
                        },
                        "colorscale": [
                          [
                            0,
                            "#0d0887"
                          ],
                          [
                            0.1111111111111111,
                            "#46039f"
                          ],
                          [
                            0.2222222222222222,
                            "#7201a8"
                          ],
                          [
                            0.3333333333333333,
                            "#9c179e"
                          ],
                          [
                            0.4444444444444444,
                            "#bd3786"
                          ],
                          [
                            0.5555555555555556,
                            "#d8576b"
                          ],
                          [
                            0.6666666666666666,
                            "#ed7953"
                          ],
                          [
                            0.7777777777777778,
                            "#fb9f3a"
                          ],
                          [
                            0.8888888888888888,
                            "#fdca26"
                          ],
                          [
                            1,
                            "#f0f921"
                          ]
                        ],
                        "type": "contour"
                      }
                    ],
                    "contourcarpet": [
                      {
                        "colorbar": {
                          "outlinewidth": 0,
                          "ticks": ""
                        },
                        "type": "contourcarpet"
                      }
                    ],
                    "heatmap": [
                      {
                        "colorbar": {
                          "outlinewidth": 0,
                          "ticks": ""
                        },
                        "colorscale": [
                          [
                            0,
                            "#0d0887"
                          ],
                          [
                            0.1111111111111111,
                            "#46039f"
                          ],
                          [
                            0.2222222222222222,
                            "#7201a8"
                          ],
                          [
                            0.3333333333333333,
                            "#9c179e"
                          ],
                          [
                            0.4444444444444444,
                            "#bd3786"
                          ],
                          [
                            0.5555555555555556,
                            "#d8576b"
                          ],
                          [
                            0.6666666666666666,
                            "#ed7953"
                          ],
                          [
                            0.7777777777777778,
                            "#fb9f3a"
                          ],
                          [
                            0.8888888888888888,
                            "#fdca26"
                          ],
                          [
                            1,
                            "#f0f921"
                          ]
                        ],
                        "type": "heatmap"
                      }
                    ],
                    "heatmapgl": [
                      {
                        "colorbar": {
                          "outlinewidth": 0,
                          "ticks": ""
                        },
                        "colorscale": [
                          [
                            0,
                            "#0d0887"
                          ],
                          [
                            0.1111111111111111,
                            "#46039f"
                          ],
                          [
                            0.2222222222222222,
                            "#7201a8"
                          ],
                          [
                            0.3333333333333333,
                            "#9c179e"
                          ],
                          [
                            0.4444444444444444,
                            "#bd3786"
                          ],
                          [
                            0.5555555555555556,
                            "#d8576b"
                          ],
                          [
                            0.6666666666666666,
                            "#ed7953"
                          ],
                          [
                            0.7777777777777778,
                            "#fb9f3a"
                          ],
                          [
                            0.8888888888888888,
                            "#fdca26"
                          ],
                          [
                            1,
                            "#f0f921"
                          ]
                        ],
                        "type": "heatmapgl"
                      }
                    ],
                    "histogram": [
                      {
                        "marker": {
                          "pattern": {
                            "fillmode": "overlay",
                            "size": 10,
                            "solidity": 0.2
                          }
                        },
                        "type": "histogram"
                      }
                    ],
                    "histogram2d": [
                      {
                        "colorbar": {
                          "outlinewidth": 0,
                          "ticks": ""
                        },
                        "colorscale": [
                          [
                            0,
                            "#0d0887"
                          ],
                          [
                            0.1111111111111111,
                            "#46039f"
                          ],
                          [
                            0.2222222222222222,
                            "#7201a8"
                          ],
                          [
                            0.3333333333333333,
                            "#9c179e"
                          ],
                          [
                            0.4444444444444444,
                            "#bd3786"
                          ],
                          [
                            0.5555555555555556,
                            "#d8576b"
                          ],
                          [
                            0.6666666666666666,
                            "#ed7953"
                          ],
                          [
                            0.7777777777777778,
                            "#fb9f3a"
                          ],
                          [
                            0.8888888888888888,
                            "#fdca26"
                          ],
                          [
                            1,
                            "#f0f921"
                          ]
                        ],
                        "type": "histogram2d"
                      }
                    ],
                    "histogram2dcontour": [
                      {
                        "colorbar": {
                          "outlinewidth": 0,
                          "ticks": ""
                        },
                        "colorscale": [
                          [
                            0,
                            "#0d0887"
                          ],
                          [
                            0.1111111111111111,
                            "#46039f"
                          ],
                          [
                            0.2222222222222222,
                            "#7201a8"
                          ],
                          [
                            0.3333333333333333,
                            "#9c179e"
                          ],
                          [
                            0.4444444444444444,
                            "#bd3786"
                          ],
                          [
                            0.5555555555555556,
                            "#d8576b"
                          ],
                          [
                            0.6666666666666666,
                            "#ed7953"
                          ],
                          [
                            0.7777777777777778,
                            "#fb9f3a"
                          ],
                          [
                            0.8888888888888888,
                            "#fdca26"
                          ],
                          [
                            1,
                            "#f0f921"
                          ]
                        ],
                        "type": "histogram2dcontour"
                      }
                    ],
                    "mesh3d": [
                      {
                        "colorbar": {
                          "outlinewidth": 0,
                          "ticks": ""
                        },
                        "type": "mesh3d"
                      }
                    ],
                    "parcoords": [
                      {
                        "line": {
                          "colorbar": {
                            "outlinewidth": 0,
                            "ticks": ""
                          }
                        },
                        "type": "parcoords"
                      }
                    ],
                    "pie": [
                      {
                        "automargin": true,
                        "type": "pie"
                      }
                    ],
                    "scatter": [
                      {
                        "marker": {
                          "line": {
                            "color": "#283442"
                          }
                        },
                        "type": "scatter"
                      }
                    ],
                    "scatter3d": [
                      {
                        "line": {
                          "colorbar": {
                            "outlinewidth": 0,
                            "ticks": ""
                          }
                        },
                        "marker": {
                          "colorbar": {
                            "outlinewidth": 0,
                            "ticks": ""
                          }
                        },
                        "type": "scatter3d"
                      }
                    ],
                    "scattercarpet": [
                      {
                        "marker": {
                          "colorbar": {
                            "outlinewidth": 0,
                            "ticks": ""
                          }
                        },
                        "type": "scattercarpet"
                      }
                    ],
                    "scattergeo": [
                      {
                        "marker": {
                          "colorbar": {
                            "outlinewidth": 0,
                            "ticks": ""
                          }
                        },
                        "type": "scattergeo"
                      }
                    ],
                    "scattergl": [
                      {
                        "marker": {
                          "line": {
                            "color": "#283442"
                          }
                        },
                        "type": "scattergl"
                      }
                    ],
                    "scattermapbox": [
                      {
                        "marker": {
                          "colorbar": {
                            "outlinewidth": 0,
                            "ticks": ""
                          }
                        },
                        "type": "scattermapbox"
                      }
                    ],
                    "scatterpolar": [
                      {
                        "marker": {
                          "colorbar": {
                            "outlinewidth": 0,
                            "ticks": ""
                          }
                        },
                        "type": "scatterpolar"
                      }
                    ],
                    "scatterpolargl": [
                      {
                        "marker": {
                          "colorbar": {
                            "outlinewidth": 0,
                            "ticks": ""
                          }
                        },
                        "type": "scatterpolargl"
                      }
                    ],
                    "scatterternary": [
                      {
                        "marker": {
                          "colorbar": {
                            "outlinewidth": 0,
                            "ticks": ""
                          }
                        },
                        "type": "scatterternary"
                      }
                    ],
                    "surface": [
                      {
                        "colorbar": {
                          "outlinewidth": 0,
                          "ticks": ""
                        },
                        "colorscale": [
                          [
                            0,
                            "#0d0887"
                          ],
                          [
                            0.1111111111111111,
                            "#46039f"
                          ],
                          [
                            0.2222222222222222,
                            "#7201a8"
                          ],
                          [
                            0.3333333333333333,
                            "#9c179e"
                          ],
                          [
                            0.4444444444444444,
                            "#bd3786"
                          ],
                          [
                            0.5555555555555556,
                            "#d8576b"
                          ],
                          [
                            0.6666666666666666,
                            "#ed7953"
                          ],
                          [
                            0.7777777777777778,
                            "#fb9f3a"
                          ],
                          [
                            0.8888888888888888,
                            "#fdca26"
                          ],
                          [
                            1,
                            "#f0f921"
                          ]
                        ],
                        "type": "surface"
                      }
                    ],
                    "table": [
                      {
                        "cells": {
                          "fill": {
                            "color": "#506784"
                          },
                          "line": {
                            "color": "rgb(17,17,17)"
                          }
                        },
                        "header": {
                          "fill": {
                            "color": "#2a3f5f"
                          },
                          "line": {
                            "color": "rgb(17,17,17)"
                          }
                        },
                        "type": "table"
                      }
                    ]
                  },
                  "layout": {
                    "annotationdefaults": {
                      "arrowcolor": "#f2f5fa",
                      "arrowhead": 0,
                      "arrowwidth": 1
                    },
                    "autotypenumbers": "strict",
                    "coloraxis": {
                      "colorbar": {
                        "outlinewidth": 0,
                        "ticks": ""
                      }
                    },
                    "colorscale": {
                      "diverging": [
                        [
                          0,
                          "#8e0152"
                        ],
                        [
                          0.1,
                          "#c51b7d"
                        ],
                        [
                          0.2,
                          "#de77ae"
                        ],
                        [
                          0.3,
                          "#f1b6da"
                        ],
                        [
                          0.4,
                          "#fde0ef"
                        ],
                        [
                          0.5,
                          "#f7f7f7"
                        ],
                        [
                          0.6,
                          "#e6f5d0"
                        ],
                        [
                          0.7,
                          "#b8e186"
                        ],
                        [
                          0.8,
                          "#7fbc41"
                        ],
                        [
                          0.9,
                          "#4d9221"
                        ],
                        [
                          1,
                          "#276419"
                        ]
                      ],
                      "sequential": [
                        [
                          0,
                          "#0d0887"
                        ],
                        [
                          0.1111111111111111,
                          "#46039f"
                        ],
                        [
                          0.2222222222222222,
                          "#7201a8"
                        ],
                        [
                          0.3333333333333333,
                          "#9c179e"
                        ],
                        [
                          0.4444444444444444,
                          "#bd3786"
                        ],
                        [
                          0.5555555555555556,
                          "#d8576b"
                        ],
                        [
                          0.6666666666666666,
                          "#ed7953"
                        ],
                        [
                          0.7777777777777778,
                          "#fb9f3a"
                        ],
                        [
                          0.8888888888888888,
                          "#fdca26"
                        ],
                        [
                          1,
                          "#f0f921"
                        ]
                      ],
                      "sequentialminus": [
                        [
                          0,
                          "#0d0887"
                        ],
                        [
                          0.1111111111111111,
                          "#46039f"
                        ],
                        [
                          0.2222222222222222,
                          "#7201a8"
                        ],
                        [
                          0.3333333333333333,
                          "#9c179e"
                        ],
                        [
                          0.4444444444444444,
                          "#bd3786"
                        ],
                        [
                          0.5555555555555556,
                          "#d8576b"
                        ],
                        [
                          0.6666666666666666,
                          "#ed7953"
                        ],
                        [
                          0.7777777777777778,
                          "#fb9f3a"
                        ],
                        [
                          0.8888888888888888,
                          "#fdca26"
                        ],
                        [
                          1,
                          "#f0f921"
                        ]
                      ]
                    },
                    "colorway": [
                      "#636efa",
                      "#EF553B",
                      "#00cc96",
                      "#ab63fa",
                      "#FFA15A",
                      "#19d3f3",
                      "#FF6692",
                      "#B6E880",
                      "#FF97FF",
                      "#FECB52"
                    ],
                    "font": {
                      "color": "#f2f5fa"
                    },
                    "geo": {
                      "bgcolor": "rgb(17,17,17)",
                      "lakecolor": "rgb(17,17,17)",
                      "landcolor": "rgb(17,17,17)",
                      "showlakes": true,
                      "showland": true,
                      "subunitcolor": "#506784"
                    },
                    "hoverlabel": {
                      "align": "left"
                    },
                    "hovermode": "closest",
                    "mapbox": {
                      "style": "dark"
                    },
                    "paper_bgcolor": "rgb(17,17,17)",
                    "plot_bgcolor": "rgb(17,17,17)",
                    "polar": {
                      "angularaxis": {
                        "gridcolor": "#506784",
                        "linecolor": "#506784",
                        "ticks": ""
                      },
                      "bgcolor": "rgb(17,17,17)",
                      "radialaxis": {
                        "gridcolor": "#506784",
                        "linecolor": "#506784",
                        "ticks": ""
                      }
                    },
                    "scene": {
                      "xaxis": {
                        "backgroundcolor": "rgb(17,17,17)",
                        "gridcolor": "#506784",
                        "gridwidth": 2,
                        "linecolor": "#506784",
                        "showbackground": true,
                        "ticks": "",
                        "zerolinecolor": "#C8D4E3"
                      },
                      "yaxis": {
                        "backgroundcolor": "rgb(17,17,17)",
                        "gridcolor": "#506784",
                        "gridwidth": 2,
                        "linecolor": "#506784",
                        "showbackground": true,
                        "ticks": "",
                        "zerolinecolor": "#C8D4E3"
                      },
                      "zaxis": {
                        "backgroundcolor": "rgb(17,17,17)",
                        "gridcolor": "#506784",
                        "gridwidth": 2,
                        "linecolor": "#506784",
                        "showbackground": true,
                        "ticks": "",
                        "zerolinecolor": "#C8D4E3"
                      }
                    },
                    "shapedefaults": {
                      "line": {
                        "color": "#f2f5fa"
                      }
                    },
                    "sliderdefaults": {
                      "bgcolor": "#C8D4E3",
                      "bordercolor": "rgb(17,17,17)",
                      "borderwidth": 1,
                      "tickwidth": 0
                    },
                    "ternary": {
                      "aaxis": {
                        "gridcolor": "#506784",
                        "linecolor": "#506784",
                        "ticks": ""
                      },
                      "baxis": {
                        "gridcolor": "#506784",
                        "linecolor": "#506784",
                        "ticks": ""
                      },
                      "bgcolor": "rgb(17,17,17)",
                      "caxis": {
                        "gridcolor": "#506784",
                        "linecolor": "#506784",
                        "ticks": ""
                      }
                    },
                    "title": {
                      "x": 0.05
                    },
                    "updatemenudefaults": {
                      "bgcolor": "#506784",
                      "borderwidth": 0
                    },
                    "xaxis": {
                      "automargin": true,
                      "gridcolor": "#283442",
                      "linecolor": "#506784",
                      "ticks": "",
                      "title": {
                        "standoff": 15
                      },
                      "zerolinecolor": "#283442",
                      "zerolinewidth": 2
                    },
                    "yaxis": {
                      "automargin": true,
                      "gridcolor": "#283442",
                      "linecolor": "#506784",
                      "ticks": "",
                      "title": {
                        "standoff": 15
                      },
                      "zerolinecolor": "#283442",
                      "zerolinewidth": 2
                    }
                  }
                },
                "title": {
                  "text": "Rice: Correlation Matrix on 160 Annual-Regional Samples"
                },
                "xaxis": {
                  "anchor": "y",
                  "constrain": "domain",
                  "domain": [
                    0,
                    1
                  ],
                  "scaleanchor": "y",
                  "title": {
                    "text": "Socioeconomic Indicator for Rice"
                  }
                },
                "yaxis": {
                  "anchor": "x",
                  "autorange": "reversed",
                  "constrain": "domain",
                  "domain": [
                    0,
                    1
                  ],
                  "title": {
                    "text": "Agricultural Indicator for Rice"
                  }
                }
              }
            }
          },
          "metadata": {},
          "output_type": "display_data"
        },
        {
          "data": {
            "application/vnd.plotly.v1+json": {
              "config": {
                "plotlyServerURL": "https://plot.ly"
              },
              "data": [
                {
                  "name": "Volume",
                  "type": "scatter",
                  "x": [
                    "2012",
                    "2013",
                    "2014",
                    "2015",
                    "2016",
                    "2017",
                    "2018",
                    "2019",
                    "2020",
                    "2021"
                  ],
                  "xaxis": "x",
                  "y": [
                    18032525.47,
                    18439419.73,
                    18967826.17,
                    18149837.78,
                    17627244.82,
                    19276346.63,
                    19066093.94,
                    18814827.29,
                    19294855.51,
                    19960170.2
                  ],
                  "yaxis": "y"
                },
                {
                  "name": "Retail Price",
                  "type": "scatter",
                  "x": [
                    "2012",
                    "2013",
                    "2014",
                    "2015",
                    "2016",
                    "2017",
                    "2018",
                    "2019",
                    "2020",
                    "2021"
                  ],
                  "xaxis": "x",
                  "y": [
                    33.47666666666667,
                    34.95250000000001,
                    39.7575,
                    39.46666666666667,
                    39.0175,
                    39.52,
                    43.36666666666667,
                    41.1575,
                    39.05166666666667,
                    38.279999999999994
                  ],
                  "yaxis": "y2"
                }
              ],
              "layout": {
                "hoverlabel": {
                  "bgcolor": "rgba(17,17,17,0.75)"
                },
                "hovermode": "x unified",
                "template": {
                  "data": {
                    "bar": [
                      {
                        "error_x": {
                          "color": "#f2f5fa"
                        },
                        "error_y": {
                          "color": "#f2f5fa"
                        },
                        "marker": {
                          "line": {
                            "color": "rgb(17,17,17)",
                            "width": 0.5
                          },
                          "pattern": {
                            "fillmode": "overlay",
                            "size": 10,
                            "solidity": 0.2
                          }
                        },
                        "type": "bar"
                      }
                    ],
                    "barpolar": [
                      {
                        "marker": {
                          "line": {
                            "color": "rgb(17,17,17)",
                            "width": 0.5
                          },
                          "pattern": {
                            "fillmode": "overlay",
                            "size": 10,
                            "solidity": 0.2
                          }
                        },
                        "type": "barpolar"
                      }
                    ],
                    "carpet": [
                      {
                        "aaxis": {
                          "endlinecolor": "#A2B1C6",
                          "gridcolor": "#506784",
                          "linecolor": "#506784",
                          "minorgridcolor": "#506784",
                          "startlinecolor": "#A2B1C6"
                        },
                        "baxis": {
                          "endlinecolor": "#A2B1C6",
                          "gridcolor": "#506784",
                          "linecolor": "#506784",
                          "minorgridcolor": "#506784",
                          "startlinecolor": "#A2B1C6"
                        },
                        "type": "carpet"
                      }
                    ],
                    "choropleth": [
                      {
                        "colorbar": {
                          "outlinewidth": 0,
                          "ticks": ""
                        },
                        "type": "choropleth"
                      }
                    ],
                    "contour": [
                      {
                        "colorbar": {
                          "outlinewidth": 0,
                          "ticks": ""
                        },
                        "colorscale": [
                          [
                            0,
                            "#0d0887"
                          ],
                          [
                            0.1111111111111111,
                            "#46039f"
                          ],
                          [
                            0.2222222222222222,
                            "#7201a8"
                          ],
                          [
                            0.3333333333333333,
                            "#9c179e"
                          ],
                          [
                            0.4444444444444444,
                            "#bd3786"
                          ],
                          [
                            0.5555555555555556,
                            "#d8576b"
                          ],
                          [
                            0.6666666666666666,
                            "#ed7953"
                          ],
                          [
                            0.7777777777777778,
                            "#fb9f3a"
                          ],
                          [
                            0.8888888888888888,
                            "#fdca26"
                          ],
                          [
                            1,
                            "#f0f921"
                          ]
                        ],
                        "type": "contour"
                      }
                    ],
                    "contourcarpet": [
                      {
                        "colorbar": {
                          "outlinewidth": 0,
                          "ticks": ""
                        },
                        "type": "contourcarpet"
                      }
                    ],
                    "heatmap": [
                      {
                        "colorbar": {
                          "outlinewidth": 0,
                          "ticks": ""
                        },
                        "colorscale": [
                          [
                            0,
                            "#0d0887"
                          ],
                          [
                            0.1111111111111111,
                            "#46039f"
                          ],
                          [
                            0.2222222222222222,
                            "#7201a8"
                          ],
                          [
                            0.3333333333333333,
                            "#9c179e"
                          ],
                          [
                            0.4444444444444444,
                            "#bd3786"
                          ],
                          [
                            0.5555555555555556,
                            "#d8576b"
                          ],
                          [
                            0.6666666666666666,
                            "#ed7953"
                          ],
                          [
                            0.7777777777777778,
                            "#fb9f3a"
                          ],
                          [
                            0.8888888888888888,
                            "#fdca26"
                          ],
                          [
                            1,
                            "#f0f921"
                          ]
                        ],
                        "type": "heatmap"
                      }
                    ],
                    "heatmapgl": [
                      {
                        "colorbar": {
                          "outlinewidth": 0,
                          "ticks": ""
                        },
                        "colorscale": [
                          [
                            0,
                            "#0d0887"
                          ],
                          [
                            0.1111111111111111,
                            "#46039f"
                          ],
                          [
                            0.2222222222222222,
                            "#7201a8"
                          ],
                          [
                            0.3333333333333333,
                            "#9c179e"
                          ],
                          [
                            0.4444444444444444,
                            "#bd3786"
                          ],
                          [
                            0.5555555555555556,
                            "#d8576b"
                          ],
                          [
                            0.6666666666666666,
                            "#ed7953"
                          ],
                          [
                            0.7777777777777778,
                            "#fb9f3a"
                          ],
                          [
                            0.8888888888888888,
                            "#fdca26"
                          ],
                          [
                            1,
                            "#f0f921"
                          ]
                        ],
                        "type": "heatmapgl"
                      }
                    ],
                    "histogram": [
                      {
                        "marker": {
                          "pattern": {
                            "fillmode": "overlay",
                            "size": 10,
                            "solidity": 0.2
                          }
                        },
                        "type": "histogram"
                      }
                    ],
                    "histogram2d": [
                      {
                        "colorbar": {
                          "outlinewidth": 0,
                          "ticks": ""
                        },
                        "colorscale": [
                          [
                            0,
                            "#0d0887"
                          ],
                          [
                            0.1111111111111111,
                            "#46039f"
                          ],
                          [
                            0.2222222222222222,
                            "#7201a8"
                          ],
                          [
                            0.3333333333333333,
                            "#9c179e"
                          ],
                          [
                            0.4444444444444444,
                            "#bd3786"
                          ],
                          [
                            0.5555555555555556,
                            "#d8576b"
                          ],
                          [
                            0.6666666666666666,
                            "#ed7953"
                          ],
                          [
                            0.7777777777777778,
                            "#fb9f3a"
                          ],
                          [
                            0.8888888888888888,
                            "#fdca26"
                          ],
                          [
                            1,
                            "#f0f921"
                          ]
                        ],
                        "type": "histogram2d"
                      }
                    ],
                    "histogram2dcontour": [
                      {
                        "colorbar": {
                          "outlinewidth": 0,
                          "ticks": ""
                        },
                        "colorscale": [
                          [
                            0,
                            "#0d0887"
                          ],
                          [
                            0.1111111111111111,
                            "#46039f"
                          ],
                          [
                            0.2222222222222222,
                            "#7201a8"
                          ],
                          [
                            0.3333333333333333,
                            "#9c179e"
                          ],
                          [
                            0.4444444444444444,
                            "#bd3786"
                          ],
                          [
                            0.5555555555555556,
                            "#d8576b"
                          ],
                          [
                            0.6666666666666666,
                            "#ed7953"
                          ],
                          [
                            0.7777777777777778,
                            "#fb9f3a"
                          ],
                          [
                            0.8888888888888888,
                            "#fdca26"
                          ],
                          [
                            1,
                            "#f0f921"
                          ]
                        ],
                        "type": "histogram2dcontour"
                      }
                    ],
                    "mesh3d": [
                      {
                        "colorbar": {
                          "outlinewidth": 0,
                          "ticks": ""
                        },
                        "type": "mesh3d"
                      }
                    ],
                    "parcoords": [
                      {
                        "line": {
                          "colorbar": {
                            "outlinewidth": 0,
                            "ticks": ""
                          }
                        },
                        "type": "parcoords"
                      }
                    ],
                    "pie": [
                      {
                        "automargin": true,
                        "type": "pie"
                      }
                    ],
                    "scatter": [
                      {
                        "marker": {
                          "line": {
                            "color": "#283442"
                          }
                        },
                        "type": "scatter"
                      }
                    ],
                    "scatter3d": [
                      {
                        "line": {
                          "colorbar": {
                            "outlinewidth": 0,
                            "ticks": ""
                          }
                        },
                        "marker": {
                          "colorbar": {
                            "outlinewidth": 0,
                            "ticks": ""
                          }
                        },
                        "type": "scatter3d"
                      }
                    ],
                    "scattercarpet": [
                      {
                        "marker": {
                          "colorbar": {
                            "outlinewidth": 0,
                            "ticks": ""
                          }
                        },
                        "type": "scattercarpet"
                      }
                    ],
                    "scattergeo": [
                      {
                        "marker": {
                          "colorbar": {
                            "outlinewidth": 0,
                            "ticks": ""
                          }
                        },
                        "type": "scattergeo"
                      }
                    ],
                    "scattergl": [
                      {
                        "marker": {
                          "line": {
                            "color": "#283442"
                          }
                        },
                        "type": "scattergl"
                      }
                    ],
                    "scattermapbox": [
                      {
                        "marker": {
                          "colorbar": {
                            "outlinewidth": 0,
                            "ticks": ""
                          }
                        },
                        "type": "scattermapbox"
                      }
                    ],
                    "scatterpolar": [
                      {
                        "marker": {
                          "colorbar": {
                            "outlinewidth": 0,
                            "ticks": ""
                          }
                        },
                        "type": "scatterpolar"
                      }
                    ],
                    "scatterpolargl": [
                      {
                        "marker": {
                          "colorbar": {
                            "outlinewidth": 0,
                            "ticks": ""
                          }
                        },
                        "type": "scatterpolargl"
                      }
                    ],
                    "scatterternary": [
                      {
                        "marker": {
                          "colorbar": {
                            "outlinewidth": 0,
                            "ticks": ""
                          }
                        },
                        "type": "scatterternary"
                      }
                    ],
                    "surface": [
                      {
                        "colorbar": {
                          "outlinewidth": 0,
                          "ticks": ""
                        },
                        "colorscale": [
                          [
                            0,
                            "#0d0887"
                          ],
                          [
                            0.1111111111111111,
                            "#46039f"
                          ],
                          [
                            0.2222222222222222,
                            "#7201a8"
                          ],
                          [
                            0.3333333333333333,
                            "#9c179e"
                          ],
                          [
                            0.4444444444444444,
                            "#bd3786"
                          ],
                          [
                            0.5555555555555556,
                            "#d8576b"
                          ],
                          [
                            0.6666666666666666,
                            "#ed7953"
                          ],
                          [
                            0.7777777777777778,
                            "#fb9f3a"
                          ],
                          [
                            0.8888888888888888,
                            "#fdca26"
                          ],
                          [
                            1,
                            "#f0f921"
                          ]
                        ],
                        "type": "surface"
                      }
                    ],
                    "table": [
                      {
                        "cells": {
                          "fill": {
                            "color": "#506784"
                          },
                          "line": {
                            "color": "rgb(17,17,17)"
                          }
                        },
                        "header": {
                          "fill": {
                            "color": "#2a3f5f"
                          },
                          "line": {
                            "color": "rgb(17,17,17)"
                          }
                        },
                        "type": "table"
                      }
                    ]
                  },
                  "layout": {
                    "annotationdefaults": {
                      "arrowcolor": "#f2f5fa",
                      "arrowhead": 0,
                      "arrowwidth": 1
                    },
                    "autotypenumbers": "strict",
                    "coloraxis": {
                      "colorbar": {
                        "outlinewidth": 0,
                        "ticks": ""
                      }
                    },
                    "colorscale": {
                      "diverging": [
                        [
                          0,
                          "#8e0152"
                        ],
                        [
                          0.1,
                          "#c51b7d"
                        ],
                        [
                          0.2,
                          "#de77ae"
                        ],
                        [
                          0.3,
                          "#f1b6da"
                        ],
                        [
                          0.4,
                          "#fde0ef"
                        ],
                        [
                          0.5,
                          "#f7f7f7"
                        ],
                        [
                          0.6,
                          "#e6f5d0"
                        ],
                        [
                          0.7,
                          "#b8e186"
                        ],
                        [
                          0.8,
                          "#7fbc41"
                        ],
                        [
                          0.9,
                          "#4d9221"
                        ],
                        [
                          1,
                          "#276419"
                        ]
                      ],
                      "sequential": [
                        [
                          0,
                          "#0d0887"
                        ],
                        [
                          0.1111111111111111,
                          "#46039f"
                        ],
                        [
                          0.2222222222222222,
                          "#7201a8"
                        ],
                        [
                          0.3333333333333333,
                          "#9c179e"
                        ],
                        [
                          0.4444444444444444,
                          "#bd3786"
                        ],
                        [
                          0.5555555555555556,
                          "#d8576b"
                        ],
                        [
                          0.6666666666666666,
                          "#ed7953"
                        ],
                        [
                          0.7777777777777778,
                          "#fb9f3a"
                        ],
                        [
                          0.8888888888888888,
                          "#fdca26"
                        ],
                        [
                          1,
                          "#f0f921"
                        ]
                      ],
                      "sequentialminus": [
                        [
                          0,
                          "#0d0887"
                        ],
                        [
                          0.1111111111111111,
                          "#46039f"
                        ],
                        [
                          0.2222222222222222,
                          "#7201a8"
                        ],
                        [
                          0.3333333333333333,
                          "#9c179e"
                        ],
                        [
                          0.4444444444444444,
                          "#bd3786"
                        ],
                        [
                          0.5555555555555556,
                          "#d8576b"
                        ],
                        [
                          0.6666666666666666,
                          "#ed7953"
                        ],
                        [
                          0.7777777777777778,
                          "#fb9f3a"
                        ],
                        [
                          0.8888888888888888,
                          "#fdca26"
                        ],
                        [
                          1,
                          "#f0f921"
                        ]
                      ]
                    },
                    "colorway": [
                      "#636efa",
                      "#EF553B",
                      "#00cc96",
                      "#ab63fa",
                      "#FFA15A",
                      "#19d3f3",
                      "#FF6692",
                      "#B6E880",
                      "#FF97FF",
                      "#FECB52"
                    ],
                    "font": {
                      "color": "#f2f5fa"
                    },
                    "geo": {
                      "bgcolor": "rgb(17,17,17)",
                      "lakecolor": "rgb(17,17,17)",
                      "landcolor": "rgb(17,17,17)",
                      "showlakes": true,
                      "showland": true,
                      "subunitcolor": "#506784"
                    },
                    "hoverlabel": {
                      "align": "left"
                    },
                    "hovermode": "closest",
                    "mapbox": {
                      "style": "dark"
                    },
                    "paper_bgcolor": "rgb(17,17,17)",
                    "plot_bgcolor": "rgb(17,17,17)",
                    "polar": {
                      "angularaxis": {
                        "gridcolor": "#506784",
                        "linecolor": "#506784",
                        "ticks": ""
                      },
                      "bgcolor": "rgb(17,17,17)",
                      "radialaxis": {
                        "gridcolor": "#506784",
                        "linecolor": "#506784",
                        "ticks": ""
                      }
                    },
                    "scene": {
                      "xaxis": {
                        "backgroundcolor": "rgb(17,17,17)",
                        "gridcolor": "#506784",
                        "gridwidth": 2,
                        "linecolor": "#506784",
                        "showbackground": true,
                        "ticks": "",
                        "zerolinecolor": "#C8D4E3"
                      },
                      "yaxis": {
                        "backgroundcolor": "rgb(17,17,17)",
                        "gridcolor": "#506784",
                        "gridwidth": 2,
                        "linecolor": "#506784",
                        "showbackground": true,
                        "ticks": "",
                        "zerolinecolor": "#C8D4E3"
                      },
                      "zaxis": {
                        "backgroundcolor": "rgb(17,17,17)",
                        "gridcolor": "#506784",
                        "gridwidth": 2,
                        "linecolor": "#506784",
                        "showbackground": true,
                        "ticks": "",
                        "zerolinecolor": "#C8D4E3"
                      }
                    },
                    "shapedefaults": {
                      "line": {
                        "color": "#f2f5fa"
                      }
                    },
                    "sliderdefaults": {
                      "bgcolor": "#C8D4E3",
                      "bordercolor": "rgb(17,17,17)",
                      "borderwidth": 1,
                      "tickwidth": 0
                    },
                    "ternary": {
                      "aaxis": {
                        "gridcolor": "#506784",
                        "linecolor": "#506784",
                        "ticks": ""
                      },
                      "baxis": {
                        "gridcolor": "#506784",
                        "linecolor": "#506784",
                        "ticks": ""
                      },
                      "bgcolor": "rgb(17,17,17)",
                      "caxis": {
                        "gridcolor": "#506784",
                        "linecolor": "#506784",
                        "ticks": ""
                      }
                    },
                    "title": {
                      "x": 0.05
                    },
                    "updatemenudefaults": {
                      "bgcolor": "#506784",
                      "borderwidth": 0
                    },
                    "xaxis": {
                      "automargin": true,
                      "gridcolor": "#283442",
                      "linecolor": "#506784",
                      "ticks": "",
                      "title": {
                        "standoff": 15
                      },
                      "zerolinecolor": "#283442",
                      "zerolinewidth": 2
                    },
                    "yaxis": {
                      "automargin": true,
                      "gridcolor": "#283442",
                      "linecolor": "#506784",
                      "ticks": "",
                      "title": {
                        "standoff": 15
                      },
                      "zerolinecolor": "#283442",
                      "zerolinewidth": 2
                    }
                  }
                },
                "title": {
                  "text": "Rice: Volume of Production and Retail Price in the Philippines"
                },
                "xaxis": {
                  "anchor": "y",
                  "color": "rgba(205,208,212,0.75)",
                  "domain": [
                    0,
                    0.94
                  ],
                  "showspikes": true,
                  "title": {
                    "text": "Year"
                  }
                },
                "yaxis": {
                  "anchor": "x",
                  "domain": [
                    0,
                    1
                  ],
                  "title": {
                    "text": "Volume of Production (metric tons)"
                  }
                },
                "yaxis2": {
                  "anchor": "x",
                  "overlaying": "y",
                  "side": "right",
                  "title": {
                    "text": "Retail Price (in PHP)"
                  }
                }
              }
            }
          },
          "metadata": {},
          "output_type": "display_data"
        },
        {
          "data": {
            "application/vnd.plotly.v1+json": {
              "config": {
                "plotlyServerURL": "https://plot.ly"
              },
              "data": [
                {
                  "name": "Stocks",
                  "type": "scatter",
                  "x": [
                    "2012",
                    "2013",
                    "2014",
                    "2015",
                    "2016",
                    "2017",
                    "2018",
                    "2019",
                    "2020",
                    "2021"
                  ],
                  "xaxis": "x",
                  "y": [
                    2227.093846153846,
                    2157.0515384615387,
                    2150.923076923077,
                    2579.6515384615386,
                    2819.688461538462,
                    2404.616923076923,
                    2095.564615384615,
                    2465.2923076923075,
                    2387.2207692307693,
                    2155.8138461538465
                  ],
                  "yaxis": "y"
                },
                {
                  "name": "Inflation Rate",
                  "type": "scatter",
                  "x": [
                    "2012",
                    "2013",
                    "2014",
                    "2015",
                    "2016",
                    "2017",
                    "2018",
                    "2019",
                    "2020",
                    "2021"
                  ],
                  "xaxis": "x",
                  "y": [
                    3.16,
                    2.59,
                    3.59,
                    0.69,
                    1.23,
                    2.85,
                    5.31,
                    2.39,
                    2.39,
                    3.93
                  ],
                  "yaxis": "y2"
                }
              ],
              "layout": {
                "hoverlabel": {
                  "bgcolor": "rgba(17,17,17,0.75)"
                },
                "hovermode": "x unified",
                "template": {
                  "data": {
                    "bar": [
                      {
                        "error_x": {
                          "color": "#f2f5fa"
                        },
                        "error_y": {
                          "color": "#f2f5fa"
                        },
                        "marker": {
                          "line": {
                            "color": "rgb(17,17,17)",
                            "width": 0.5
                          },
                          "pattern": {
                            "fillmode": "overlay",
                            "size": 10,
                            "solidity": 0.2
                          }
                        },
                        "type": "bar"
                      }
                    ],
                    "barpolar": [
                      {
                        "marker": {
                          "line": {
                            "color": "rgb(17,17,17)",
                            "width": 0.5
                          },
                          "pattern": {
                            "fillmode": "overlay",
                            "size": 10,
                            "solidity": 0.2
                          }
                        },
                        "type": "barpolar"
                      }
                    ],
                    "carpet": [
                      {
                        "aaxis": {
                          "endlinecolor": "#A2B1C6",
                          "gridcolor": "#506784",
                          "linecolor": "#506784",
                          "minorgridcolor": "#506784",
                          "startlinecolor": "#A2B1C6"
                        },
                        "baxis": {
                          "endlinecolor": "#A2B1C6",
                          "gridcolor": "#506784",
                          "linecolor": "#506784",
                          "minorgridcolor": "#506784",
                          "startlinecolor": "#A2B1C6"
                        },
                        "type": "carpet"
                      }
                    ],
                    "choropleth": [
                      {
                        "colorbar": {
                          "outlinewidth": 0,
                          "ticks": ""
                        },
                        "type": "choropleth"
                      }
                    ],
                    "contour": [
                      {
                        "colorbar": {
                          "outlinewidth": 0,
                          "ticks": ""
                        },
                        "colorscale": [
                          [
                            0,
                            "#0d0887"
                          ],
                          [
                            0.1111111111111111,
                            "#46039f"
                          ],
                          [
                            0.2222222222222222,
                            "#7201a8"
                          ],
                          [
                            0.3333333333333333,
                            "#9c179e"
                          ],
                          [
                            0.4444444444444444,
                            "#bd3786"
                          ],
                          [
                            0.5555555555555556,
                            "#d8576b"
                          ],
                          [
                            0.6666666666666666,
                            "#ed7953"
                          ],
                          [
                            0.7777777777777778,
                            "#fb9f3a"
                          ],
                          [
                            0.8888888888888888,
                            "#fdca26"
                          ],
                          [
                            1,
                            "#f0f921"
                          ]
                        ],
                        "type": "contour"
                      }
                    ],
                    "contourcarpet": [
                      {
                        "colorbar": {
                          "outlinewidth": 0,
                          "ticks": ""
                        },
                        "type": "contourcarpet"
                      }
                    ],
                    "heatmap": [
                      {
                        "colorbar": {
                          "outlinewidth": 0,
                          "ticks": ""
                        },
                        "colorscale": [
                          [
                            0,
                            "#0d0887"
                          ],
                          [
                            0.1111111111111111,
                            "#46039f"
                          ],
                          [
                            0.2222222222222222,
                            "#7201a8"
                          ],
                          [
                            0.3333333333333333,
                            "#9c179e"
                          ],
                          [
                            0.4444444444444444,
                            "#bd3786"
                          ],
                          [
                            0.5555555555555556,
                            "#d8576b"
                          ],
                          [
                            0.6666666666666666,
                            "#ed7953"
                          ],
                          [
                            0.7777777777777778,
                            "#fb9f3a"
                          ],
                          [
                            0.8888888888888888,
                            "#fdca26"
                          ],
                          [
                            1,
                            "#f0f921"
                          ]
                        ],
                        "type": "heatmap"
                      }
                    ],
                    "heatmapgl": [
                      {
                        "colorbar": {
                          "outlinewidth": 0,
                          "ticks": ""
                        },
                        "colorscale": [
                          [
                            0,
                            "#0d0887"
                          ],
                          [
                            0.1111111111111111,
                            "#46039f"
                          ],
                          [
                            0.2222222222222222,
                            "#7201a8"
                          ],
                          [
                            0.3333333333333333,
                            "#9c179e"
                          ],
                          [
                            0.4444444444444444,
                            "#bd3786"
                          ],
                          [
                            0.5555555555555556,
                            "#d8576b"
                          ],
                          [
                            0.6666666666666666,
                            "#ed7953"
                          ],
                          [
                            0.7777777777777778,
                            "#fb9f3a"
                          ],
                          [
                            0.8888888888888888,
                            "#fdca26"
                          ],
                          [
                            1,
                            "#f0f921"
                          ]
                        ],
                        "type": "heatmapgl"
                      }
                    ],
                    "histogram": [
                      {
                        "marker": {
                          "pattern": {
                            "fillmode": "overlay",
                            "size": 10,
                            "solidity": 0.2
                          }
                        },
                        "type": "histogram"
                      }
                    ],
                    "histogram2d": [
                      {
                        "colorbar": {
                          "outlinewidth": 0,
                          "ticks": ""
                        },
                        "colorscale": [
                          [
                            0,
                            "#0d0887"
                          ],
                          [
                            0.1111111111111111,
                            "#46039f"
                          ],
                          [
                            0.2222222222222222,
                            "#7201a8"
                          ],
                          [
                            0.3333333333333333,
                            "#9c179e"
                          ],
                          [
                            0.4444444444444444,
                            "#bd3786"
                          ],
                          [
                            0.5555555555555556,
                            "#d8576b"
                          ],
                          [
                            0.6666666666666666,
                            "#ed7953"
                          ],
                          [
                            0.7777777777777778,
                            "#fb9f3a"
                          ],
                          [
                            0.8888888888888888,
                            "#fdca26"
                          ],
                          [
                            1,
                            "#f0f921"
                          ]
                        ],
                        "type": "histogram2d"
                      }
                    ],
                    "histogram2dcontour": [
                      {
                        "colorbar": {
                          "outlinewidth": 0,
                          "ticks": ""
                        },
                        "colorscale": [
                          [
                            0,
                            "#0d0887"
                          ],
                          [
                            0.1111111111111111,
                            "#46039f"
                          ],
                          [
                            0.2222222222222222,
                            "#7201a8"
                          ],
                          [
                            0.3333333333333333,
                            "#9c179e"
                          ],
                          [
                            0.4444444444444444,
                            "#bd3786"
                          ],
                          [
                            0.5555555555555556,
                            "#d8576b"
                          ],
                          [
                            0.6666666666666666,
                            "#ed7953"
                          ],
                          [
                            0.7777777777777778,
                            "#fb9f3a"
                          ],
                          [
                            0.8888888888888888,
                            "#fdca26"
                          ],
                          [
                            1,
                            "#f0f921"
                          ]
                        ],
                        "type": "histogram2dcontour"
                      }
                    ],
                    "mesh3d": [
                      {
                        "colorbar": {
                          "outlinewidth": 0,
                          "ticks": ""
                        },
                        "type": "mesh3d"
                      }
                    ],
                    "parcoords": [
                      {
                        "line": {
                          "colorbar": {
                            "outlinewidth": 0,
                            "ticks": ""
                          }
                        },
                        "type": "parcoords"
                      }
                    ],
                    "pie": [
                      {
                        "automargin": true,
                        "type": "pie"
                      }
                    ],
                    "scatter": [
                      {
                        "marker": {
                          "line": {
                            "color": "#283442"
                          }
                        },
                        "type": "scatter"
                      }
                    ],
                    "scatter3d": [
                      {
                        "line": {
                          "colorbar": {
                            "outlinewidth": 0,
                            "ticks": ""
                          }
                        },
                        "marker": {
                          "colorbar": {
                            "outlinewidth": 0,
                            "ticks": ""
                          }
                        },
                        "type": "scatter3d"
                      }
                    ],
                    "scattercarpet": [
                      {
                        "marker": {
                          "colorbar": {
                            "outlinewidth": 0,
                            "ticks": ""
                          }
                        },
                        "type": "scattercarpet"
                      }
                    ],
                    "scattergeo": [
                      {
                        "marker": {
                          "colorbar": {
                            "outlinewidth": 0,
                            "ticks": ""
                          }
                        },
                        "type": "scattergeo"
                      }
                    ],
                    "scattergl": [
                      {
                        "marker": {
                          "line": {
                            "color": "#283442"
                          }
                        },
                        "type": "scattergl"
                      }
                    ],
                    "scattermapbox": [
                      {
                        "marker": {
                          "colorbar": {
                            "outlinewidth": 0,
                            "ticks": ""
                          }
                        },
                        "type": "scattermapbox"
                      }
                    ],
                    "scatterpolar": [
                      {
                        "marker": {
                          "colorbar": {
                            "outlinewidth": 0,
                            "ticks": ""
                          }
                        },
                        "type": "scatterpolar"
                      }
                    ],
                    "scatterpolargl": [
                      {
                        "marker": {
                          "colorbar": {
                            "outlinewidth": 0,
                            "ticks": ""
                          }
                        },
                        "type": "scatterpolargl"
                      }
                    ],
                    "scatterternary": [
                      {
                        "marker": {
                          "colorbar": {
                            "outlinewidth": 0,
                            "ticks": ""
                          }
                        },
                        "type": "scatterternary"
                      }
                    ],
                    "surface": [
                      {
                        "colorbar": {
                          "outlinewidth": 0,
                          "ticks": ""
                        },
                        "colorscale": [
                          [
                            0,
                            "#0d0887"
                          ],
                          [
                            0.1111111111111111,
                            "#46039f"
                          ],
                          [
                            0.2222222222222222,
                            "#7201a8"
                          ],
                          [
                            0.3333333333333333,
                            "#9c179e"
                          ],
                          [
                            0.4444444444444444,
                            "#bd3786"
                          ],
                          [
                            0.5555555555555556,
                            "#d8576b"
                          ],
                          [
                            0.6666666666666666,
                            "#ed7953"
                          ],
                          [
                            0.7777777777777778,
                            "#fb9f3a"
                          ],
                          [
                            0.8888888888888888,
                            "#fdca26"
                          ],
                          [
                            1,
                            "#f0f921"
                          ]
                        ],
                        "type": "surface"
                      }
                    ],
                    "table": [
                      {
                        "cells": {
                          "fill": {
                            "color": "#506784"
                          },
                          "line": {
                            "color": "rgb(17,17,17)"
                          }
                        },
                        "header": {
                          "fill": {
                            "color": "#2a3f5f"
                          },
                          "line": {
                            "color": "rgb(17,17,17)"
                          }
                        },
                        "type": "table"
                      }
                    ]
                  },
                  "layout": {
                    "annotationdefaults": {
                      "arrowcolor": "#f2f5fa",
                      "arrowhead": 0,
                      "arrowwidth": 1
                    },
                    "autotypenumbers": "strict",
                    "coloraxis": {
                      "colorbar": {
                        "outlinewidth": 0,
                        "ticks": ""
                      }
                    },
                    "colorscale": {
                      "diverging": [
                        [
                          0,
                          "#8e0152"
                        ],
                        [
                          0.1,
                          "#c51b7d"
                        ],
                        [
                          0.2,
                          "#de77ae"
                        ],
                        [
                          0.3,
                          "#f1b6da"
                        ],
                        [
                          0.4,
                          "#fde0ef"
                        ],
                        [
                          0.5,
                          "#f7f7f7"
                        ],
                        [
                          0.6,
                          "#e6f5d0"
                        ],
                        [
                          0.7,
                          "#b8e186"
                        ],
                        [
                          0.8,
                          "#7fbc41"
                        ],
                        [
                          0.9,
                          "#4d9221"
                        ],
                        [
                          1,
                          "#276419"
                        ]
                      ],
                      "sequential": [
                        [
                          0,
                          "#0d0887"
                        ],
                        [
                          0.1111111111111111,
                          "#46039f"
                        ],
                        [
                          0.2222222222222222,
                          "#7201a8"
                        ],
                        [
                          0.3333333333333333,
                          "#9c179e"
                        ],
                        [
                          0.4444444444444444,
                          "#bd3786"
                        ],
                        [
                          0.5555555555555556,
                          "#d8576b"
                        ],
                        [
                          0.6666666666666666,
                          "#ed7953"
                        ],
                        [
                          0.7777777777777778,
                          "#fb9f3a"
                        ],
                        [
                          0.8888888888888888,
                          "#fdca26"
                        ],
                        [
                          1,
                          "#f0f921"
                        ]
                      ],
                      "sequentialminus": [
                        [
                          0,
                          "#0d0887"
                        ],
                        [
                          0.1111111111111111,
                          "#46039f"
                        ],
                        [
                          0.2222222222222222,
                          "#7201a8"
                        ],
                        [
                          0.3333333333333333,
                          "#9c179e"
                        ],
                        [
                          0.4444444444444444,
                          "#bd3786"
                        ],
                        [
                          0.5555555555555556,
                          "#d8576b"
                        ],
                        [
                          0.6666666666666666,
                          "#ed7953"
                        ],
                        [
                          0.7777777777777778,
                          "#fb9f3a"
                        ],
                        [
                          0.8888888888888888,
                          "#fdca26"
                        ],
                        [
                          1,
                          "#f0f921"
                        ]
                      ]
                    },
                    "colorway": [
                      "#636efa",
                      "#EF553B",
                      "#00cc96",
                      "#ab63fa",
                      "#FFA15A",
                      "#19d3f3",
                      "#FF6692",
                      "#B6E880",
                      "#FF97FF",
                      "#FECB52"
                    ],
                    "font": {
                      "color": "#f2f5fa"
                    },
                    "geo": {
                      "bgcolor": "rgb(17,17,17)",
                      "lakecolor": "rgb(17,17,17)",
                      "landcolor": "rgb(17,17,17)",
                      "showlakes": true,
                      "showland": true,
                      "subunitcolor": "#506784"
                    },
                    "hoverlabel": {
                      "align": "left"
                    },
                    "hovermode": "closest",
                    "mapbox": {
                      "style": "dark"
                    },
                    "paper_bgcolor": "rgb(17,17,17)",
                    "plot_bgcolor": "rgb(17,17,17)",
                    "polar": {
                      "angularaxis": {
                        "gridcolor": "#506784",
                        "linecolor": "#506784",
                        "ticks": ""
                      },
                      "bgcolor": "rgb(17,17,17)",
                      "radialaxis": {
                        "gridcolor": "#506784",
                        "linecolor": "#506784",
                        "ticks": ""
                      }
                    },
                    "scene": {
                      "xaxis": {
                        "backgroundcolor": "rgb(17,17,17)",
                        "gridcolor": "#506784",
                        "gridwidth": 2,
                        "linecolor": "#506784",
                        "showbackground": true,
                        "ticks": "",
                        "zerolinecolor": "#C8D4E3"
                      },
                      "yaxis": {
                        "backgroundcolor": "rgb(17,17,17)",
                        "gridcolor": "#506784",
                        "gridwidth": 2,
                        "linecolor": "#506784",
                        "showbackground": true,
                        "ticks": "",
                        "zerolinecolor": "#C8D4E3"
                      },
                      "zaxis": {
                        "backgroundcolor": "rgb(17,17,17)",
                        "gridcolor": "#506784",
                        "gridwidth": 2,
                        "linecolor": "#506784",
                        "showbackground": true,
                        "ticks": "",
                        "zerolinecolor": "#C8D4E3"
                      }
                    },
                    "shapedefaults": {
                      "line": {
                        "color": "#f2f5fa"
                      }
                    },
                    "sliderdefaults": {
                      "bgcolor": "#C8D4E3",
                      "bordercolor": "rgb(17,17,17)",
                      "borderwidth": 1,
                      "tickwidth": 0
                    },
                    "ternary": {
                      "aaxis": {
                        "gridcolor": "#506784",
                        "linecolor": "#506784",
                        "ticks": ""
                      },
                      "baxis": {
                        "gridcolor": "#506784",
                        "linecolor": "#506784",
                        "ticks": ""
                      },
                      "bgcolor": "rgb(17,17,17)",
                      "caxis": {
                        "gridcolor": "#506784",
                        "linecolor": "#506784",
                        "ticks": ""
                      }
                    },
                    "title": {
                      "x": 0.05
                    },
                    "updatemenudefaults": {
                      "bgcolor": "#506784",
                      "borderwidth": 0
                    },
                    "xaxis": {
                      "automargin": true,
                      "gridcolor": "#283442",
                      "linecolor": "#506784",
                      "ticks": "",
                      "title": {
                        "standoff": 15
                      },
                      "zerolinecolor": "#283442",
                      "zerolinewidth": 2
                    },
                    "yaxis": {
                      "automargin": true,
                      "gridcolor": "#283442",
                      "linecolor": "#506784",
                      "ticks": "",
                      "title": {
                        "standoff": 15
                      },
                      "zerolinecolor": "#283442",
                      "zerolinewidth": 2
                    }
                  }
                },
                "title": {
                  "text": "Rice: Stocks and National Inflation Rate in the Philippines"
                },
                "xaxis": {
                  "anchor": "y",
                  "color": "rgba(205,208,212,0.75)",
                  "domain": [
                    0,
                    0.94
                  ],
                  "showspikes": true,
                  "title": {
                    "text": "Year"
                  }
                },
                "yaxis": {
                  "anchor": "x",
                  "domain": [
                    0,
                    1
                  ],
                  "title": {
                    "text": "Stocks (metric tons)"
                  }
                },
                "yaxis2": {
                  "anchor": "x",
                  "overlaying": "y",
                  "side": "right",
                  "title": {
                    "text": "Inflation Rate (in %)"
                  }
                }
              }
            }
          },
          "metadata": {},
          "output_type": "display_data"
        },
        {
          "name": "stdout",
          "output_type": "stream",
          "text": [
            "\u001b[31mStocks <-> Farmgate Price = 0.0: Significant relationship exists.\u001b[0m\n",
            "\u001b[31mStocks <-> Wholesale Price = 0.0: Significant relationship exists.\u001b[0m\n",
            "\u001b[31mStocks <-> Retail Price = 0.0: Significant relationship exists.\u001b[0m\n",
            "Stocks </> CPI All Income = 0.405: No significant relationship exists.\n",
            "\u001b[31mStocks <-> CPI Bottom 30 = 0.005: Significant relationship exists.\u001b[0m\n",
            "\u001b[31mStocks <-> Net Returns = 0.012: Significant relationship exists.\u001b[0m\n",
            "\u001b[31mStocks <-> Inflation Rate = 0.004: Significant relationship exists.\u001b[0m\n",
            "Stocks </> NCR RPI = 0.14: No significant relationship exists.\n",
            "Volume </> Farmgate Price = 0.401: No significant relationship exists.\n",
            "Volume </> Wholesale Price = 0.262: No significant relationship exists.\n",
            "Volume </> Retail Price = 0.684: No significant relationship exists.\n",
            "Volume </> CPI All Income = 0.256: No significant relationship exists.\n",
            "Volume </> CPI Bottom 30 = 0.383: No significant relationship exists.\n",
            "\u001b[31mVolume <-> Net Returns = 0.048: Significant relationship exists.\u001b[0m\n",
            "Volume </> Inflation Rate = 0.82: No significant relationship exists.\n",
            "Volume </> NCR RPI = 0.604: No significant relationship exists.\n",
            "Area Harvested </> Farmgate Price = 0.073: No significant relationship exists.\n",
            "\u001b[31mArea Harvested <-> Wholesale Price = 0.039: Significant relationship exists.\u001b[0m\n",
            "Area Harvested </> Retail Price = 0.274: No significant relationship exists.\n",
            "Area Harvested </> CPI All Income = 0.293: No significant relationship exists.\n",
            "Area Harvested </> CPI Bottom 30 = 0.46: No significant relationship exists.\n",
            "Area Harvested </> Net Returns = 0.179: No significant relationship exists.\n",
            "Area Harvested </> Inflation Rate = 0.897: No significant relationship exists.\n",
            "Area Harvested </> NCR RPI = 0.769: No significant relationship exists.\n",
            "\u001b[31mSelf-Sufficiency Ratio <-> Farmgate Price = 0.02: Significant relationship exists.\u001b[0m\n",
            "\u001b[31mSelf-Sufficiency Ratio <-> Wholesale Price = 0.0: Significant relationship exists.\u001b[0m\n",
            "\u001b[31mSelf-Sufficiency Ratio <-> Retail Price = 0.0: Significant relationship exists.\u001b[0m\n",
            "\u001b[31mSelf-Sufficiency Ratio <-> CPI All Income = 0.0: Significant relationship exists.\u001b[0m\n",
            "\u001b[31mSelf-Sufficiency Ratio <-> CPI Bottom 30 = 0.0: Significant relationship exists.\u001b[0m\n",
            "Self-Sufficiency Ratio </> Net Returns = 0.12: No significant relationship exists.\n",
            "\u001b[31mSelf-Sufficiency Ratio <-> Inflation Rate = 0.002: Significant relationship exists.\u001b[0m\n",
            "\u001b[31mSelf-Sufficiency Ratio <-> NCR RPI = 0.0: Significant relationship exists.\u001b[0m\n",
            "\u001b[31mImport-Dependency Ratio <-> Farmgate Price = 0.019: Significant relationship exists.\u001b[0m\n",
            "\u001b[31mImport-Dependency Ratio <-> Wholesale Price = 0.0: Significant relationship exists.\u001b[0m\n",
            "\u001b[31mImport-Dependency Ratio <-> Retail Price = 0.0: Significant relationship exists.\u001b[0m\n",
            "\u001b[31mImport-Dependency Ratio <-> CPI All Income = 0.0: Significant relationship exists.\u001b[0m\n",
            "\u001b[31mImport-Dependency Ratio <-> CPI Bottom 30 = 0.0: Significant relationship exists.\u001b[0m\n",
            "Import-Dependency Ratio </> Net Returns = 0.125: No significant relationship exists.\n",
            "\u001b[31mImport-Dependency Ratio <-> Inflation Rate = 0.002: Significant relationship exists.\u001b[0m\n",
            "\u001b[31mImport-Dependency Ratio <-> NCR RPI = 0.0: Significant relationship exists.\u001b[0m\n",
            "\u001b[31mSU Gross Supply <-> Farmgate Price = 0.0: Significant relationship exists.\u001b[0m\n",
            "\u001b[31mSU Gross Supply <-> Wholesale Price = 0.0: Significant relationship exists.\u001b[0m\n",
            "\u001b[31mSU Gross Supply <-> Retail Price = 0.0: Significant relationship exists.\u001b[0m\n",
            "SU Gross Supply </> CPI All Income = 0.099: No significant relationship exists.\n",
            "\u001b[31mSU Gross Supply <-> CPI Bottom 30 = 0.003: Significant relationship exists.\u001b[0m\n",
            "SU Gross Supply </> Net Returns = 0.125: No significant relationship exists.\n",
            "SU Gross Supply </> Inflation Rate = 0.066: No significant relationship exists.\n",
            "\u001b[31mSU Gross Supply <-> NCR RPI = 0.0: Significant relationship exists.\u001b[0m\n",
            "\u001b[31mUT Consumable <-> Farmgate Price = 0.0: Significant relationship exists.\u001b[0m\n",
            "\u001b[31mUT Consumable <-> Wholesale Price = 0.0: Significant relationship exists.\u001b[0m\n",
            "\u001b[31mUT Consumable <-> Retail Price = 0.0: Significant relationship exists.\u001b[0m\n",
            "UT Consumable </> CPI All Income = 0.519: No significant relationship exists.\n",
            "\u001b[31mUT Consumable <-> CPI Bottom 30 = 0.033: Significant relationship exists.\u001b[0m\n",
            "UT Consumable </> Net Returns = 0.154: No significant relationship exists.\n",
            "UT Consumable </> Inflation Rate = 0.052: No significant relationship exists.\n",
            "\u001b[31mUT Consumable <-> NCR RPI = 0.0: Significant relationship exists.\u001b[0m\n"
          ]
        },
        {
          "data": {
            "application/vnd.plotly.v1+json": {
              "config": {
                "plotlyServerURL": "https://plot.ly"
              },
              "data": [
                {
                  "coloraxis": "coloraxis",
                  "hovertemplate": "x: %{x}<br>y: %{y}<br><b>Correlation: %{z}</b><extra></extra>",
                  "name": "0",
                  "texttemplate": "%{z:.2f}",
                  "type": "heatmap",
                  "x": [
                    "Farmgate Price",
                    "Wholesale Price",
                    "Retail Price",
                    "CPI All Income",
                    "CPI Bottom 30",
                    "Net Returns",
                    "Inflation Rate",
                    "NCR RPI"
                  ],
                  "xaxis": "x",
                  "y": [
                    "Stocks",
                    "Volume",
                    "Area Harvested",
                    "Self-Sufficiency Ratio",
                    "Import-Dependency Ratio",
                    "SU Gross Supply",
                    "UT Consumable"
                  ],
                  "yaxis": "y",
                  "z": [
                    [
                      0.04408836217052438,
                      0.09459615551729669,
                      0.17987160540395544,
                      0.5643368193922891,
                      0.5628739793484774,
                      0.26110580621535073,
                      0.17600993448447375,
                      0.8632750713915738
                    ],
                    [
                      -0.1347963129136079,
                      -0.2893577532819513,
                      -0.5906734126502479,
                      -0.07035944249519344,
                      0.03470282702427919,
                      0.08975815811679357,
                      0.016976362069830497,
                      0.03380227388536806
                    ],
                    [
                      -0.1470183922159899,
                      -0.3096441690258509,
                      -0.7086213552608713,
                      -0.09671422033440276,
                      -0.01064404045408075,
                      0.053364341212461044,
                      0.0026365121976004257,
                      -0.007078261847608308
                    ],
                    [
                      -0.07503424397728613,
                      -0.07653262334291844,
                      -0.05302697105272374,
                      -0.22691237195741137,
                      -0.23606541960193086,
                      -0.07966095335328184,
                      0.006730272132911147,
                      -0.33848700564678297
                    ],
                    [
                      0.07503424397728495,
                      0.07653262334291895,
                      0.053026971052724664,
                      0.22691237195740768,
                      0.23606541960192748,
                      0.07966095335328169,
                      -0.006730272132914577,
                      0.3384870056467774
                    ],
                    [
                      0.34289600794904557,
                      0.2989486821903025,
                      0.23060233714948802,
                      0.6842998920629505,
                      0.6750168590629444,
                      0.30691745935481407,
                      0.43589085041103875,
                      0.9340985176005605
                    ],
                    [
                      0.45273018692252937,
                      0.3375811650751675,
                      0.16179485231506954,
                      0.46282661035511763,
                      0.4503324757471487,
                      0.20005934207050094,
                      0.44663600370586354,
                      0.5476574947605761
                    ]
                  ]
                }
              ],
              "layout": {
                "coloraxis": {
                  "colorscale": [
                    [
                      0,
                      "#0d0887"
                    ],
                    [
                      0.1111111111111111,
                      "#46039f"
                    ],
                    [
                      0.2222222222222222,
                      "#7201a8"
                    ],
                    [
                      0.3333333333333333,
                      "#9c179e"
                    ],
                    [
                      0.4444444444444444,
                      "#bd3786"
                    ],
                    [
                      0.5555555555555556,
                      "#d8576b"
                    ],
                    [
                      0.6666666666666666,
                      "#ed7953"
                    ],
                    [
                      0.7777777777777778,
                      "#fb9f3a"
                    ],
                    [
                      0.8888888888888888,
                      "#fdca26"
                    ],
                    [
                      1,
                      "#f0f921"
                    ]
                  ]
                },
                "template": {
                  "data": {
                    "bar": [
                      {
                        "error_x": {
                          "color": "#f2f5fa"
                        },
                        "error_y": {
                          "color": "#f2f5fa"
                        },
                        "marker": {
                          "line": {
                            "color": "rgb(17,17,17)",
                            "width": 0.5
                          },
                          "pattern": {
                            "fillmode": "overlay",
                            "size": 10,
                            "solidity": 0.2
                          }
                        },
                        "type": "bar"
                      }
                    ],
                    "barpolar": [
                      {
                        "marker": {
                          "line": {
                            "color": "rgb(17,17,17)",
                            "width": 0.5
                          },
                          "pattern": {
                            "fillmode": "overlay",
                            "size": 10,
                            "solidity": 0.2
                          }
                        },
                        "type": "barpolar"
                      }
                    ],
                    "carpet": [
                      {
                        "aaxis": {
                          "endlinecolor": "#A2B1C6",
                          "gridcolor": "#506784",
                          "linecolor": "#506784",
                          "minorgridcolor": "#506784",
                          "startlinecolor": "#A2B1C6"
                        },
                        "baxis": {
                          "endlinecolor": "#A2B1C6",
                          "gridcolor": "#506784",
                          "linecolor": "#506784",
                          "minorgridcolor": "#506784",
                          "startlinecolor": "#A2B1C6"
                        },
                        "type": "carpet"
                      }
                    ],
                    "choropleth": [
                      {
                        "colorbar": {
                          "outlinewidth": 0,
                          "ticks": ""
                        },
                        "type": "choropleth"
                      }
                    ],
                    "contour": [
                      {
                        "colorbar": {
                          "outlinewidth": 0,
                          "ticks": ""
                        },
                        "colorscale": [
                          [
                            0,
                            "#0d0887"
                          ],
                          [
                            0.1111111111111111,
                            "#46039f"
                          ],
                          [
                            0.2222222222222222,
                            "#7201a8"
                          ],
                          [
                            0.3333333333333333,
                            "#9c179e"
                          ],
                          [
                            0.4444444444444444,
                            "#bd3786"
                          ],
                          [
                            0.5555555555555556,
                            "#d8576b"
                          ],
                          [
                            0.6666666666666666,
                            "#ed7953"
                          ],
                          [
                            0.7777777777777778,
                            "#fb9f3a"
                          ],
                          [
                            0.8888888888888888,
                            "#fdca26"
                          ],
                          [
                            1,
                            "#f0f921"
                          ]
                        ],
                        "type": "contour"
                      }
                    ],
                    "contourcarpet": [
                      {
                        "colorbar": {
                          "outlinewidth": 0,
                          "ticks": ""
                        },
                        "type": "contourcarpet"
                      }
                    ],
                    "heatmap": [
                      {
                        "colorbar": {
                          "outlinewidth": 0,
                          "ticks": ""
                        },
                        "colorscale": [
                          [
                            0,
                            "#0d0887"
                          ],
                          [
                            0.1111111111111111,
                            "#46039f"
                          ],
                          [
                            0.2222222222222222,
                            "#7201a8"
                          ],
                          [
                            0.3333333333333333,
                            "#9c179e"
                          ],
                          [
                            0.4444444444444444,
                            "#bd3786"
                          ],
                          [
                            0.5555555555555556,
                            "#d8576b"
                          ],
                          [
                            0.6666666666666666,
                            "#ed7953"
                          ],
                          [
                            0.7777777777777778,
                            "#fb9f3a"
                          ],
                          [
                            0.8888888888888888,
                            "#fdca26"
                          ],
                          [
                            1,
                            "#f0f921"
                          ]
                        ],
                        "type": "heatmap"
                      }
                    ],
                    "heatmapgl": [
                      {
                        "colorbar": {
                          "outlinewidth": 0,
                          "ticks": ""
                        },
                        "colorscale": [
                          [
                            0,
                            "#0d0887"
                          ],
                          [
                            0.1111111111111111,
                            "#46039f"
                          ],
                          [
                            0.2222222222222222,
                            "#7201a8"
                          ],
                          [
                            0.3333333333333333,
                            "#9c179e"
                          ],
                          [
                            0.4444444444444444,
                            "#bd3786"
                          ],
                          [
                            0.5555555555555556,
                            "#d8576b"
                          ],
                          [
                            0.6666666666666666,
                            "#ed7953"
                          ],
                          [
                            0.7777777777777778,
                            "#fb9f3a"
                          ],
                          [
                            0.8888888888888888,
                            "#fdca26"
                          ],
                          [
                            1,
                            "#f0f921"
                          ]
                        ],
                        "type": "heatmapgl"
                      }
                    ],
                    "histogram": [
                      {
                        "marker": {
                          "pattern": {
                            "fillmode": "overlay",
                            "size": 10,
                            "solidity": 0.2
                          }
                        },
                        "type": "histogram"
                      }
                    ],
                    "histogram2d": [
                      {
                        "colorbar": {
                          "outlinewidth": 0,
                          "ticks": ""
                        },
                        "colorscale": [
                          [
                            0,
                            "#0d0887"
                          ],
                          [
                            0.1111111111111111,
                            "#46039f"
                          ],
                          [
                            0.2222222222222222,
                            "#7201a8"
                          ],
                          [
                            0.3333333333333333,
                            "#9c179e"
                          ],
                          [
                            0.4444444444444444,
                            "#bd3786"
                          ],
                          [
                            0.5555555555555556,
                            "#d8576b"
                          ],
                          [
                            0.6666666666666666,
                            "#ed7953"
                          ],
                          [
                            0.7777777777777778,
                            "#fb9f3a"
                          ],
                          [
                            0.8888888888888888,
                            "#fdca26"
                          ],
                          [
                            1,
                            "#f0f921"
                          ]
                        ],
                        "type": "histogram2d"
                      }
                    ],
                    "histogram2dcontour": [
                      {
                        "colorbar": {
                          "outlinewidth": 0,
                          "ticks": ""
                        },
                        "colorscale": [
                          [
                            0,
                            "#0d0887"
                          ],
                          [
                            0.1111111111111111,
                            "#46039f"
                          ],
                          [
                            0.2222222222222222,
                            "#7201a8"
                          ],
                          [
                            0.3333333333333333,
                            "#9c179e"
                          ],
                          [
                            0.4444444444444444,
                            "#bd3786"
                          ],
                          [
                            0.5555555555555556,
                            "#d8576b"
                          ],
                          [
                            0.6666666666666666,
                            "#ed7953"
                          ],
                          [
                            0.7777777777777778,
                            "#fb9f3a"
                          ],
                          [
                            0.8888888888888888,
                            "#fdca26"
                          ],
                          [
                            1,
                            "#f0f921"
                          ]
                        ],
                        "type": "histogram2dcontour"
                      }
                    ],
                    "mesh3d": [
                      {
                        "colorbar": {
                          "outlinewidth": 0,
                          "ticks": ""
                        },
                        "type": "mesh3d"
                      }
                    ],
                    "parcoords": [
                      {
                        "line": {
                          "colorbar": {
                            "outlinewidth": 0,
                            "ticks": ""
                          }
                        },
                        "type": "parcoords"
                      }
                    ],
                    "pie": [
                      {
                        "automargin": true,
                        "type": "pie"
                      }
                    ],
                    "scatter": [
                      {
                        "marker": {
                          "line": {
                            "color": "#283442"
                          }
                        },
                        "type": "scatter"
                      }
                    ],
                    "scatter3d": [
                      {
                        "line": {
                          "colorbar": {
                            "outlinewidth": 0,
                            "ticks": ""
                          }
                        },
                        "marker": {
                          "colorbar": {
                            "outlinewidth": 0,
                            "ticks": ""
                          }
                        },
                        "type": "scatter3d"
                      }
                    ],
                    "scattercarpet": [
                      {
                        "marker": {
                          "colorbar": {
                            "outlinewidth": 0,
                            "ticks": ""
                          }
                        },
                        "type": "scattercarpet"
                      }
                    ],
                    "scattergeo": [
                      {
                        "marker": {
                          "colorbar": {
                            "outlinewidth": 0,
                            "ticks": ""
                          }
                        },
                        "type": "scattergeo"
                      }
                    ],
                    "scattergl": [
                      {
                        "marker": {
                          "line": {
                            "color": "#283442"
                          }
                        },
                        "type": "scattergl"
                      }
                    ],
                    "scattermapbox": [
                      {
                        "marker": {
                          "colorbar": {
                            "outlinewidth": 0,
                            "ticks": ""
                          }
                        },
                        "type": "scattermapbox"
                      }
                    ],
                    "scatterpolar": [
                      {
                        "marker": {
                          "colorbar": {
                            "outlinewidth": 0,
                            "ticks": ""
                          }
                        },
                        "type": "scatterpolar"
                      }
                    ],
                    "scatterpolargl": [
                      {
                        "marker": {
                          "colorbar": {
                            "outlinewidth": 0,
                            "ticks": ""
                          }
                        },
                        "type": "scatterpolargl"
                      }
                    ],
                    "scatterternary": [
                      {
                        "marker": {
                          "colorbar": {
                            "outlinewidth": 0,
                            "ticks": ""
                          }
                        },
                        "type": "scatterternary"
                      }
                    ],
                    "surface": [
                      {
                        "colorbar": {
                          "outlinewidth": 0,
                          "ticks": ""
                        },
                        "colorscale": [
                          [
                            0,
                            "#0d0887"
                          ],
                          [
                            0.1111111111111111,
                            "#46039f"
                          ],
                          [
                            0.2222222222222222,
                            "#7201a8"
                          ],
                          [
                            0.3333333333333333,
                            "#9c179e"
                          ],
                          [
                            0.4444444444444444,
                            "#bd3786"
                          ],
                          [
                            0.5555555555555556,
                            "#d8576b"
                          ],
                          [
                            0.6666666666666666,
                            "#ed7953"
                          ],
                          [
                            0.7777777777777778,
                            "#fb9f3a"
                          ],
                          [
                            0.8888888888888888,
                            "#fdca26"
                          ],
                          [
                            1,
                            "#f0f921"
                          ]
                        ],
                        "type": "surface"
                      }
                    ],
                    "table": [
                      {
                        "cells": {
                          "fill": {
                            "color": "#506784"
                          },
                          "line": {
                            "color": "rgb(17,17,17)"
                          }
                        },
                        "header": {
                          "fill": {
                            "color": "#2a3f5f"
                          },
                          "line": {
                            "color": "rgb(17,17,17)"
                          }
                        },
                        "type": "table"
                      }
                    ]
                  },
                  "layout": {
                    "annotationdefaults": {
                      "arrowcolor": "#f2f5fa",
                      "arrowhead": 0,
                      "arrowwidth": 1
                    },
                    "autotypenumbers": "strict",
                    "coloraxis": {
                      "colorbar": {
                        "outlinewidth": 0,
                        "ticks": ""
                      }
                    },
                    "colorscale": {
                      "diverging": [
                        [
                          0,
                          "#8e0152"
                        ],
                        [
                          0.1,
                          "#c51b7d"
                        ],
                        [
                          0.2,
                          "#de77ae"
                        ],
                        [
                          0.3,
                          "#f1b6da"
                        ],
                        [
                          0.4,
                          "#fde0ef"
                        ],
                        [
                          0.5,
                          "#f7f7f7"
                        ],
                        [
                          0.6,
                          "#e6f5d0"
                        ],
                        [
                          0.7,
                          "#b8e186"
                        ],
                        [
                          0.8,
                          "#7fbc41"
                        ],
                        [
                          0.9,
                          "#4d9221"
                        ],
                        [
                          1,
                          "#276419"
                        ]
                      ],
                      "sequential": [
                        [
                          0,
                          "#0d0887"
                        ],
                        [
                          0.1111111111111111,
                          "#46039f"
                        ],
                        [
                          0.2222222222222222,
                          "#7201a8"
                        ],
                        [
                          0.3333333333333333,
                          "#9c179e"
                        ],
                        [
                          0.4444444444444444,
                          "#bd3786"
                        ],
                        [
                          0.5555555555555556,
                          "#d8576b"
                        ],
                        [
                          0.6666666666666666,
                          "#ed7953"
                        ],
                        [
                          0.7777777777777778,
                          "#fb9f3a"
                        ],
                        [
                          0.8888888888888888,
                          "#fdca26"
                        ],
                        [
                          1,
                          "#f0f921"
                        ]
                      ],
                      "sequentialminus": [
                        [
                          0,
                          "#0d0887"
                        ],
                        [
                          0.1111111111111111,
                          "#46039f"
                        ],
                        [
                          0.2222222222222222,
                          "#7201a8"
                        ],
                        [
                          0.3333333333333333,
                          "#9c179e"
                        ],
                        [
                          0.4444444444444444,
                          "#bd3786"
                        ],
                        [
                          0.5555555555555556,
                          "#d8576b"
                        ],
                        [
                          0.6666666666666666,
                          "#ed7953"
                        ],
                        [
                          0.7777777777777778,
                          "#fb9f3a"
                        ],
                        [
                          0.8888888888888888,
                          "#fdca26"
                        ],
                        [
                          1,
                          "#f0f921"
                        ]
                      ]
                    },
                    "colorway": [
                      "#636efa",
                      "#EF553B",
                      "#00cc96",
                      "#ab63fa",
                      "#FFA15A",
                      "#19d3f3",
                      "#FF6692",
                      "#B6E880",
                      "#FF97FF",
                      "#FECB52"
                    ],
                    "font": {
                      "color": "#f2f5fa"
                    },
                    "geo": {
                      "bgcolor": "rgb(17,17,17)",
                      "lakecolor": "rgb(17,17,17)",
                      "landcolor": "rgb(17,17,17)",
                      "showlakes": true,
                      "showland": true,
                      "subunitcolor": "#506784"
                    },
                    "hoverlabel": {
                      "align": "left"
                    },
                    "hovermode": "closest",
                    "mapbox": {
                      "style": "dark"
                    },
                    "paper_bgcolor": "rgb(17,17,17)",
                    "plot_bgcolor": "rgb(17,17,17)",
                    "polar": {
                      "angularaxis": {
                        "gridcolor": "#506784",
                        "linecolor": "#506784",
                        "ticks": ""
                      },
                      "bgcolor": "rgb(17,17,17)",
                      "radialaxis": {
                        "gridcolor": "#506784",
                        "linecolor": "#506784",
                        "ticks": ""
                      }
                    },
                    "scene": {
                      "xaxis": {
                        "backgroundcolor": "rgb(17,17,17)",
                        "gridcolor": "#506784",
                        "gridwidth": 2,
                        "linecolor": "#506784",
                        "showbackground": true,
                        "ticks": "",
                        "zerolinecolor": "#C8D4E3"
                      },
                      "yaxis": {
                        "backgroundcolor": "rgb(17,17,17)",
                        "gridcolor": "#506784",
                        "gridwidth": 2,
                        "linecolor": "#506784",
                        "showbackground": true,
                        "ticks": "",
                        "zerolinecolor": "#C8D4E3"
                      },
                      "zaxis": {
                        "backgroundcolor": "rgb(17,17,17)",
                        "gridcolor": "#506784",
                        "gridwidth": 2,
                        "linecolor": "#506784",
                        "showbackground": true,
                        "ticks": "",
                        "zerolinecolor": "#C8D4E3"
                      }
                    },
                    "shapedefaults": {
                      "line": {
                        "color": "#f2f5fa"
                      }
                    },
                    "sliderdefaults": {
                      "bgcolor": "#C8D4E3",
                      "bordercolor": "rgb(17,17,17)",
                      "borderwidth": 1,
                      "tickwidth": 0
                    },
                    "ternary": {
                      "aaxis": {
                        "gridcolor": "#506784",
                        "linecolor": "#506784",
                        "ticks": ""
                      },
                      "baxis": {
                        "gridcolor": "#506784",
                        "linecolor": "#506784",
                        "ticks": ""
                      },
                      "bgcolor": "rgb(17,17,17)",
                      "caxis": {
                        "gridcolor": "#506784",
                        "linecolor": "#506784",
                        "ticks": ""
                      }
                    },
                    "title": {
                      "x": 0.05
                    },
                    "updatemenudefaults": {
                      "bgcolor": "#506784",
                      "borderwidth": 0
                    },
                    "xaxis": {
                      "automargin": true,
                      "gridcolor": "#283442",
                      "linecolor": "#506784",
                      "ticks": "",
                      "title": {
                        "standoff": 15
                      },
                      "zerolinecolor": "#283442",
                      "zerolinewidth": 2
                    },
                    "yaxis": {
                      "automargin": true,
                      "gridcolor": "#283442",
                      "linecolor": "#506784",
                      "ticks": "",
                      "title": {
                        "standoff": 15
                      },
                      "zerolinecolor": "#283442",
                      "zerolinewidth": 2
                    }
                  }
                },
                "title": {
                  "text": "Corn: Correlation Matrix on 160 Annual-Regional Samples"
                },
                "xaxis": {
                  "anchor": "y",
                  "constrain": "domain",
                  "domain": [
                    0,
                    1
                  ],
                  "scaleanchor": "y",
                  "title": {
                    "text": "Socioeconomic Indicator for Corn"
                  }
                },
                "yaxis": {
                  "anchor": "x",
                  "autorange": "reversed",
                  "constrain": "domain",
                  "domain": [
                    0,
                    1
                  ],
                  "title": {
                    "text": "Agricultural Indicator for Corn"
                  }
                }
              }
            }
          },
          "metadata": {},
          "output_type": "display_data"
        },
        {
          "data": {
            "application/vnd.plotly.v1+json": {
              "config": {
                "plotlyServerURL": "https://plot.ly"
              },
              "data": [
                {
                  "name": "Volume",
                  "type": "scatter",
                  "x": [
                    "2012",
                    "2013",
                    "2014",
                    "2015",
                    "2016",
                    "2017",
                    "2018",
                    "2019",
                    "2020",
                    "2021"
                  ],
                  "xaxis": "x",
                  "y": [
                    7407068.35,
                    7377293.3,
                    7770602.74,
                    7518755.72,
                    7218816.55,
                    7914908.49,
                    7771918.63,
                    7978844.55,
                    8118545.88,
                    8287191.13
                  ],
                  "yaxis": "y"
                },
                {
                  "name": "Retail Price",
                  "type": "scatter",
                  "x": [
                    "2012",
                    "2013",
                    "2014",
                    "2015",
                    "2016",
                    "2017",
                    "2018",
                    "2019",
                    "2020",
                    "2021"
                  ],
                  "xaxis": "x",
                  "y": [
                    24.6825,
                    24.361666666666668,
                    24.8175,
                    25.363333333333333,
                    25.43166666666666,
                    25.495833333333337,
                    28.216666666666665,
                    29.586666666666673,
                    30.983333333333334,
                    33.1575
                  ],
                  "yaxis": "y2"
                }
              ],
              "layout": {
                "hoverlabel": {
                  "bgcolor": "rgba(17,17,17,0.75)"
                },
                "hovermode": "x unified",
                "template": {
                  "data": {
                    "bar": [
                      {
                        "error_x": {
                          "color": "#f2f5fa"
                        },
                        "error_y": {
                          "color": "#f2f5fa"
                        },
                        "marker": {
                          "line": {
                            "color": "rgb(17,17,17)",
                            "width": 0.5
                          },
                          "pattern": {
                            "fillmode": "overlay",
                            "size": 10,
                            "solidity": 0.2
                          }
                        },
                        "type": "bar"
                      }
                    ],
                    "barpolar": [
                      {
                        "marker": {
                          "line": {
                            "color": "rgb(17,17,17)",
                            "width": 0.5
                          },
                          "pattern": {
                            "fillmode": "overlay",
                            "size": 10,
                            "solidity": 0.2
                          }
                        },
                        "type": "barpolar"
                      }
                    ],
                    "carpet": [
                      {
                        "aaxis": {
                          "endlinecolor": "#A2B1C6",
                          "gridcolor": "#506784",
                          "linecolor": "#506784",
                          "minorgridcolor": "#506784",
                          "startlinecolor": "#A2B1C6"
                        },
                        "baxis": {
                          "endlinecolor": "#A2B1C6",
                          "gridcolor": "#506784",
                          "linecolor": "#506784",
                          "minorgridcolor": "#506784",
                          "startlinecolor": "#A2B1C6"
                        },
                        "type": "carpet"
                      }
                    ],
                    "choropleth": [
                      {
                        "colorbar": {
                          "outlinewidth": 0,
                          "ticks": ""
                        },
                        "type": "choropleth"
                      }
                    ],
                    "contour": [
                      {
                        "colorbar": {
                          "outlinewidth": 0,
                          "ticks": ""
                        },
                        "colorscale": [
                          [
                            0,
                            "#0d0887"
                          ],
                          [
                            0.1111111111111111,
                            "#46039f"
                          ],
                          [
                            0.2222222222222222,
                            "#7201a8"
                          ],
                          [
                            0.3333333333333333,
                            "#9c179e"
                          ],
                          [
                            0.4444444444444444,
                            "#bd3786"
                          ],
                          [
                            0.5555555555555556,
                            "#d8576b"
                          ],
                          [
                            0.6666666666666666,
                            "#ed7953"
                          ],
                          [
                            0.7777777777777778,
                            "#fb9f3a"
                          ],
                          [
                            0.8888888888888888,
                            "#fdca26"
                          ],
                          [
                            1,
                            "#f0f921"
                          ]
                        ],
                        "type": "contour"
                      }
                    ],
                    "contourcarpet": [
                      {
                        "colorbar": {
                          "outlinewidth": 0,
                          "ticks": ""
                        },
                        "type": "contourcarpet"
                      }
                    ],
                    "heatmap": [
                      {
                        "colorbar": {
                          "outlinewidth": 0,
                          "ticks": ""
                        },
                        "colorscale": [
                          [
                            0,
                            "#0d0887"
                          ],
                          [
                            0.1111111111111111,
                            "#46039f"
                          ],
                          [
                            0.2222222222222222,
                            "#7201a8"
                          ],
                          [
                            0.3333333333333333,
                            "#9c179e"
                          ],
                          [
                            0.4444444444444444,
                            "#bd3786"
                          ],
                          [
                            0.5555555555555556,
                            "#d8576b"
                          ],
                          [
                            0.6666666666666666,
                            "#ed7953"
                          ],
                          [
                            0.7777777777777778,
                            "#fb9f3a"
                          ],
                          [
                            0.8888888888888888,
                            "#fdca26"
                          ],
                          [
                            1,
                            "#f0f921"
                          ]
                        ],
                        "type": "heatmap"
                      }
                    ],
                    "heatmapgl": [
                      {
                        "colorbar": {
                          "outlinewidth": 0,
                          "ticks": ""
                        },
                        "colorscale": [
                          [
                            0,
                            "#0d0887"
                          ],
                          [
                            0.1111111111111111,
                            "#46039f"
                          ],
                          [
                            0.2222222222222222,
                            "#7201a8"
                          ],
                          [
                            0.3333333333333333,
                            "#9c179e"
                          ],
                          [
                            0.4444444444444444,
                            "#bd3786"
                          ],
                          [
                            0.5555555555555556,
                            "#d8576b"
                          ],
                          [
                            0.6666666666666666,
                            "#ed7953"
                          ],
                          [
                            0.7777777777777778,
                            "#fb9f3a"
                          ],
                          [
                            0.8888888888888888,
                            "#fdca26"
                          ],
                          [
                            1,
                            "#f0f921"
                          ]
                        ],
                        "type": "heatmapgl"
                      }
                    ],
                    "histogram": [
                      {
                        "marker": {
                          "pattern": {
                            "fillmode": "overlay",
                            "size": 10,
                            "solidity": 0.2
                          }
                        },
                        "type": "histogram"
                      }
                    ],
                    "histogram2d": [
                      {
                        "colorbar": {
                          "outlinewidth": 0,
                          "ticks": ""
                        },
                        "colorscale": [
                          [
                            0,
                            "#0d0887"
                          ],
                          [
                            0.1111111111111111,
                            "#46039f"
                          ],
                          [
                            0.2222222222222222,
                            "#7201a8"
                          ],
                          [
                            0.3333333333333333,
                            "#9c179e"
                          ],
                          [
                            0.4444444444444444,
                            "#bd3786"
                          ],
                          [
                            0.5555555555555556,
                            "#d8576b"
                          ],
                          [
                            0.6666666666666666,
                            "#ed7953"
                          ],
                          [
                            0.7777777777777778,
                            "#fb9f3a"
                          ],
                          [
                            0.8888888888888888,
                            "#fdca26"
                          ],
                          [
                            1,
                            "#f0f921"
                          ]
                        ],
                        "type": "histogram2d"
                      }
                    ],
                    "histogram2dcontour": [
                      {
                        "colorbar": {
                          "outlinewidth": 0,
                          "ticks": ""
                        },
                        "colorscale": [
                          [
                            0,
                            "#0d0887"
                          ],
                          [
                            0.1111111111111111,
                            "#46039f"
                          ],
                          [
                            0.2222222222222222,
                            "#7201a8"
                          ],
                          [
                            0.3333333333333333,
                            "#9c179e"
                          ],
                          [
                            0.4444444444444444,
                            "#bd3786"
                          ],
                          [
                            0.5555555555555556,
                            "#d8576b"
                          ],
                          [
                            0.6666666666666666,
                            "#ed7953"
                          ],
                          [
                            0.7777777777777778,
                            "#fb9f3a"
                          ],
                          [
                            0.8888888888888888,
                            "#fdca26"
                          ],
                          [
                            1,
                            "#f0f921"
                          ]
                        ],
                        "type": "histogram2dcontour"
                      }
                    ],
                    "mesh3d": [
                      {
                        "colorbar": {
                          "outlinewidth": 0,
                          "ticks": ""
                        },
                        "type": "mesh3d"
                      }
                    ],
                    "parcoords": [
                      {
                        "line": {
                          "colorbar": {
                            "outlinewidth": 0,
                            "ticks": ""
                          }
                        },
                        "type": "parcoords"
                      }
                    ],
                    "pie": [
                      {
                        "automargin": true,
                        "type": "pie"
                      }
                    ],
                    "scatter": [
                      {
                        "marker": {
                          "line": {
                            "color": "#283442"
                          }
                        },
                        "type": "scatter"
                      }
                    ],
                    "scatter3d": [
                      {
                        "line": {
                          "colorbar": {
                            "outlinewidth": 0,
                            "ticks": ""
                          }
                        },
                        "marker": {
                          "colorbar": {
                            "outlinewidth": 0,
                            "ticks": ""
                          }
                        },
                        "type": "scatter3d"
                      }
                    ],
                    "scattercarpet": [
                      {
                        "marker": {
                          "colorbar": {
                            "outlinewidth": 0,
                            "ticks": ""
                          }
                        },
                        "type": "scattercarpet"
                      }
                    ],
                    "scattergeo": [
                      {
                        "marker": {
                          "colorbar": {
                            "outlinewidth": 0,
                            "ticks": ""
                          }
                        },
                        "type": "scattergeo"
                      }
                    ],
                    "scattergl": [
                      {
                        "marker": {
                          "line": {
                            "color": "#283442"
                          }
                        },
                        "type": "scattergl"
                      }
                    ],
                    "scattermapbox": [
                      {
                        "marker": {
                          "colorbar": {
                            "outlinewidth": 0,
                            "ticks": ""
                          }
                        },
                        "type": "scattermapbox"
                      }
                    ],
                    "scatterpolar": [
                      {
                        "marker": {
                          "colorbar": {
                            "outlinewidth": 0,
                            "ticks": ""
                          }
                        },
                        "type": "scatterpolar"
                      }
                    ],
                    "scatterpolargl": [
                      {
                        "marker": {
                          "colorbar": {
                            "outlinewidth": 0,
                            "ticks": ""
                          }
                        },
                        "type": "scatterpolargl"
                      }
                    ],
                    "scatterternary": [
                      {
                        "marker": {
                          "colorbar": {
                            "outlinewidth": 0,
                            "ticks": ""
                          }
                        },
                        "type": "scatterternary"
                      }
                    ],
                    "surface": [
                      {
                        "colorbar": {
                          "outlinewidth": 0,
                          "ticks": ""
                        },
                        "colorscale": [
                          [
                            0,
                            "#0d0887"
                          ],
                          [
                            0.1111111111111111,
                            "#46039f"
                          ],
                          [
                            0.2222222222222222,
                            "#7201a8"
                          ],
                          [
                            0.3333333333333333,
                            "#9c179e"
                          ],
                          [
                            0.4444444444444444,
                            "#bd3786"
                          ],
                          [
                            0.5555555555555556,
                            "#d8576b"
                          ],
                          [
                            0.6666666666666666,
                            "#ed7953"
                          ],
                          [
                            0.7777777777777778,
                            "#fb9f3a"
                          ],
                          [
                            0.8888888888888888,
                            "#fdca26"
                          ],
                          [
                            1,
                            "#f0f921"
                          ]
                        ],
                        "type": "surface"
                      }
                    ],
                    "table": [
                      {
                        "cells": {
                          "fill": {
                            "color": "#506784"
                          },
                          "line": {
                            "color": "rgb(17,17,17)"
                          }
                        },
                        "header": {
                          "fill": {
                            "color": "#2a3f5f"
                          },
                          "line": {
                            "color": "rgb(17,17,17)"
                          }
                        },
                        "type": "table"
                      }
                    ]
                  },
                  "layout": {
                    "annotationdefaults": {
                      "arrowcolor": "#f2f5fa",
                      "arrowhead": 0,
                      "arrowwidth": 1
                    },
                    "autotypenumbers": "strict",
                    "coloraxis": {
                      "colorbar": {
                        "outlinewidth": 0,
                        "ticks": ""
                      }
                    },
                    "colorscale": {
                      "diverging": [
                        [
                          0,
                          "#8e0152"
                        ],
                        [
                          0.1,
                          "#c51b7d"
                        ],
                        [
                          0.2,
                          "#de77ae"
                        ],
                        [
                          0.3,
                          "#f1b6da"
                        ],
                        [
                          0.4,
                          "#fde0ef"
                        ],
                        [
                          0.5,
                          "#f7f7f7"
                        ],
                        [
                          0.6,
                          "#e6f5d0"
                        ],
                        [
                          0.7,
                          "#b8e186"
                        ],
                        [
                          0.8,
                          "#7fbc41"
                        ],
                        [
                          0.9,
                          "#4d9221"
                        ],
                        [
                          1,
                          "#276419"
                        ]
                      ],
                      "sequential": [
                        [
                          0,
                          "#0d0887"
                        ],
                        [
                          0.1111111111111111,
                          "#46039f"
                        ],
                        [
                          0.2222222222222222,
                          "#7201a8"
                        ],
                        [
                          0.3333333333333333,
                          "#9c179e"
                        ],
                        [
                          0.4444444444444444,
                          "#bd3786"
                        ],
                        [
                          0.5555555555555556,
                          "#d8576b"
                        ],
                        [
                          0.6666666666666666,
                          "#ed7953"
                        ],
                        [
                          0.7777777777777778,
                          "#fb9f3a"
                        ],
                        [
                          0.8888888888888888,
                          "#fdca26"
                        ],
                        [
                          1,
                          "#f0f921"
                        ]
                      ],
                      "sequentialminus": [
                        [
                          0,
                          "#0d0887"
                        ],
                        [
                          0.1111111111111111,
                          "#46039f"
                        ],
                        [
                          0.2222222222222222,
                          "#7201a8"
                        ],
                        [
                          0.3333333333333333,
                          "#9c179e"
                        ],
                        [
                          0.4444444444444444,
                          "#bd3786"
                        ],
                        [
                          0.5555555555555556,
                          "#d8576b"
                        ],
                        [
                          0.6666666666666666,
                          "#ed7953"
                        ],
                        [
                          0.7777777777777778,
                          "#fb9f3a"
                        ],
                        [
                          0.8888888888888888,
                          "#fdca26"
                        ],
                        [
                          1,
                          "#f0f921"
                        ]
                      ]
                    },
                    "colorway": [
                      "#636efa",
                      "#EF553B",
                      "#00cc96",
                      "#ab63fa",
                      "#FFA15A",
                      "#19d3f3",
                      "#FF6692",
                      "#B6E880",
                      "#FF97FF",
                      "#FECB52"
                    ],
                    "font": {
                      "color": "#f2f5fa"
                    },
                    "geo": {
                      "bgcolor": "rgb(17,17,17)",
                      "lakecolor": "rgb(17,17,17)",
                      "landcolor": "rgb(17,17,17)",
                      "showlakes": true,
                      "showland": true,
                      "subunitcolor": "#506784"
                    },
                    "hoverlabel": {
                      "align": "left"
                    },
                    "hovermode": "closest",
                    "mapbox": {
                      "style": "dark"
                    },
                    "paper_bgcolor": "rgb(17,17,17)",
                    "plot_bgcolor": "rgb(17,17,17)",
                    "polar": {
                      "angularaxis": {
                        "gridcolor": "#506784",
                        "linecolor": "#506784",
                        "ticks": ""
                      },
                      "bgcolor": "rgb(17,17,17)",
                      "radialaxis": {
                        "gridcolor": "#506784",
                        "linecolor": "#506784",
                        "ticks": ""
                      }
                    },
                    "scene": {
                      "xaxis": {
                        "backgroundcolor": "rgb(17,17,17)",
                        "gridcolor": "#506784",
                        "gridwidth": 2,
                        "linecolor": "#506784",
                        "showbackground": true,
                        "ticks": "",
                        "zerolinecolor": "#C8D4E3"
                      },
                      "yaxis": {
                        "backgroundcolor": "rgb(17,17,17)",
                        "gridcolor": "#506784",
                        "gridwidth": 2,
                        "linecolor": "#506784",
                        "showbackground": true,
                        "ticks": "",
                        "zerolinecolor": "#C8D4E3"
                      },
                      "zaxis": {
                        "backgroundcolor": "rgb(17,17,17)",
                        "gridcolor": "#506784",
                        "gridwidth": 2,
                        "linecolor": "#506784",
                        "showbackground": true,
                        "ticks": "",
                        "zerolinecolor": "#C8D4E3"
                      }
                    },
                    "shapedefaults": {
                      "line": {
                        "color": "#f2f5fa"
                      }
                    },
                    "sliderdefaults": {
                      "bgcolor": "#C8D4E3",
                      "bordercolor": "rgb(17,17,17)",
                      "borderwidth": 1,
                      "tickwidth": 0
                    },
                    "ternary": {
                      "aaxis": {
                        "gridcolor": "#506784",
                        "linecolor": "#506784",
                        "ticks": ""
                      },
                      "baxis": {
                        "gridcolor": "#506784",
                        "linecolor": "#506784",
                        "ticks": ""
                      },
                      "bgcolor": "rgb(17,17,17)",
                      "caxis": {
                        "gridcolor": "#506784",
                        "linecolor": "#506784",
                        "ticks": ""
                      }
                    },
                    "title": {
                      "x": 0.05
                    },
                    "updatemenudefaults": {
                      "bgcolor": "#506784",
                      "borderwidth": 0
                    },
                    "xaxis": {
                      "automargin": true,
                      "gridcolor": "#283442",
                      "linecolor": "#506784",
                      "ticks": "",
                      "title": {
                        "standoff": 15
                      },
                      "zerolinecolor": "#283442",
                      "zerolinewidth": 2
                    },
                    "yaxis": {
                      "automargin": true,
                      "gridcolor": "#283442",
                      "linecolor": "#506784",
                      "ticks": "",
                      "title": {
                        "standoff": 15
                      },
                      "zerolinecolor": "#283442",
                      "zerolinewidth": 2
                    }
                  }
                },
                "title": {
                  "text": "Corn: Volume of Production and Retail Price in the Philippines"
                },
                "xaxis": {
                  "anchor": "y",
                  "color": "rgba(205,208,212,0.75)",
                  "domain": [
                    0,
                    0.94
                  ],
                  "showspikes": true,
                  "title": {
                    "text": "Year"
                  }
                },
                "yaxis": {
                  "anchor": "x",
                  "domain": [
                    0,
                    1
                  ],
                  "title": {
                    "text": "Volume of Production (metric tons)"
                  }
                },
                "yaxis2": {
                  "anchor": "x",
                  "overlaying": "y",
                  "side": "right",
                  "title": {
                    "text": "Retail Price (in PHP)"
                  }
                }
              }
            }
          },
          "metadata": {},
          "output_type": "display_data"
        },
        {
          "data": {
            "application/vnd.plotly.v1+json": {
              "config": {
                "plotlyServerURL": "https://plot.ly"
              },
              "data": [
                {
                  "name": "Stocks",
                  "type": "scatter",
                  "x": [
                    "2012",
                    "2013",
                    "2014",
                    "2015",
                    "2016",
                    "2017",
                    "2018",
                    "2019",
                    "2020",
                    "2021"
                  ],
                  "xaxis": "x",
                  "y": [
                    320.0123076923076,
                    331.1238461538462,
                    388.7415384615385,
                    408.52461538461534,
                    513.7215384615386,
                    993.0884615384615,
                    694.4630769230769,
                    890.8753846153847,
                    923.1153846153846,
                    794.0276923076924
                  ],
                  "yaxis": "y"
                },
                {
                  "name": "Inflation Rate",
                  "type": "scatter",
                  "x": [
                    "2012",
                    "2013",
                    "2014",
                    "2015",
                    "2016",
                    "2017",
                    "2018",
                    "2019",
                    "2020",
                    "2021"
                  ],
                  "xaxis": "x",
                  "y": [
                    3.16,
                    2.59,
                    3.59,
                    0.69,
                    1.23,
                    2.85,
                    5.31,
                    2.39,
                    2.39,
                    3.93
                  ],
                  "yaxis": "y2"
                }
              ],
              "layout": {
                "hoverlabel": {
                  "bgcolor": "rgba(17,17,17,0.75)"
                },
                "hovermode": "x unified",
                "template": {
                  "data": {
                    "bar": [
                      {
                        "error_x": {
                          "color": "#f2f5fa"
                        },
                        "error_y": {
                          "color": "#f2f5fa"
                        },
                        "marker": {
                          "line": {
                            "color": "rgb(17,17,17)",
                            "width": 0.5
                          },
                          "pattern": {
                            "fillmode": "overlay",
                            "size": 10,
                            "solidity": 0.2
                          }
                        },
                        "type": "bar"
                      }
                    ],
                    "barpolar": [
                      {
                        "marker": {
                          "line": {
                            "color": "rgb(17,17,17)",
                            "width": 0.5
                          },
                          "pattern": {
                            "fillmode": "overlay",
                            "size": 10,
                            "solidity": 0.2
                          }
                        },
                        "type": "barpolar"
                      }
                    ],
                    "carpet": [
                      {
                        "aaxis": {
                          "endlinecolor": "#A2B1C6",
                          "gridcolor": "#506784",
                          "linecolor": "#506784",
                          "minorgridcolor": "#506784",
                          "startlinecolor": "#A2B1C6"
                        },
                        "baxis": {
                          "endlinecolor": "#A2B1C6",
                          "gridcolor": "#506784",
                          "linecolor": "#506784",
                          "minorgridcolor": "#506784",
                          "startlinecolor": "#A2B1C6"
                        },
                        "type": "carpet"
                      }
                    ],
                    "choropleth": [
                      {
                        "colorbar": {
                          "outlinewidth": 0,
                          "ticks": ""
                        },
                        "type": "choropleth"
                      }
                    ],
                    "contour": [
                      {
                        "colorbar": {
                          "outlinewidth": 0,
                          "ticks": ""
                        },
                        "colorscale": [
                          [
                            0,
                            "#0d0887"
                          ],
                          [
                            0.1111111111111111,
                            "#46039f"
                          ],
                          [
                            0.2222222222222222,
                            "#7201a8"
                          ],
                          [
                            0.3333333333333333,
                            "#9c179e"
                          ],
                          [
                            0.4444444444444444,
                            "#bd3786"
                          ],
                          [
                            0.5555555555555556,
                            "#d8576b"
                          ],
                          [
                            0.6666666666666666,
                            "#ed7953"
                          ],
                          [
                            0.7777777777777778,
                            "#fb9f3a"
                          ],
                          [
                            0.8888888888888888,
                            "#fdca26"
                          ],
                          [
                            1,
                            "#f0f921"
                          ]
                        ],
                        "type": "contour"
                      }
                    ],
                    "contourcarpet": [
                      {
                        "colorbar": {
                          "outlinewidth": 0,
                          "ticks": ""
                        },
                        "type": "contourcarpet"
                      }
                    ],
                    "heatmap": [
                      {
                        "colorbar": {
                          "outlinewidth": 0,
                          "ticks": ""
                        },
                        "colorscale": [
                          [
                            0,
                            "#0d0887"
                          ],
                          [
                            0.1111111111111111,
                            "#46039f"
                          ],
                          [
                            0.2222222222222222,
                            "#7201a8"
                          ],
                          [
                            0.3333333333333333,
                            "#9c179e"
                          ],
                          [
                            0.4444444444444444,
                            "#bd3786"
                          ],
                          [
                            0.5555555555555556,
                            "#d8576b"
                          ],
                          [
                            0.6666666666666666,
                            "#ed7953"
                          ],
                          [
                            0.7777777777777778,
                            "#fb9f3a"
                          ],
                          [
                            0.8888888888888888,
                            "#fdca26"
                          ],
                          [
                            1,
                            "#f0f921"
                          ]
                        ],
                        "type": "heatmap"
                      }
                    ],
                    "heatmapgl": [
                      {
                        "colorbar": {
                          "outlinewidth": 0,
                          "ticks": ""
                        },
                        "colorscale": [
                          [
                            0,
                            "#0d0887"
                          ],
                          [
                            0.1111111111111111,
                            "#46039f"
                          ],
                          [
                            0.2222222222222222,
                            "#7201a8"
                          ],
                          [
                            0.3333333333333333,
                            "#9c179e"
                          ],
                          [
                            0.4444444444444444,
                            "#bd3786"
                          ],
                          [
                            0.5555555555555556,
                            "#d8576b"
                          ],
                          [
                            0.6666666666666666,
                            "#ed7953"
                          ],
                          [
                            0.7777777777777778,
                            "#fb9f3a"
                          ],
                          [
                            0.8888888888888888,
                            "#fdca26"
                          ],
                          [
                            1,
                            "#f0f921"
                          ]
                        ],
                        "type": "heatmapgl"
                      }
                    ],
                    "histogram": [
                      {
                        "marker": {
                          "pattern": {
                            "fillmode": "overlay",
                            "size": 10,
                            "solidity": 0.2
                          }
                        },
                        "type": "histogram"
                      }
                    ],
                    "histogram2d": [
                      {
                        "colorbar": {
                          "outlinewidth": 0,
                          "ticks": ""
                        },
                        "colorscale": [
                          [
                            0,
                            "#0d0887"
                          ],
                          [
                            0.1111111111111111,
                            "#46039f"
                          ],
                          [
                            0.2222222222222222,
                            "#7201a8"
                          ],
                          [
                            0.3333333333333333,
                            "#9c179e"
                          ],
                          [
                            0.4444444444444444,
                            "#bd3786"
                          ],
                          [
                            0.5555555555555556,
                            "#d8576b"
                          ],
                          [
                            0.6666666666666666,
                            "#ed7953"
                          ],
                          [
                            0.7777777777777778,
                            "#fb9f3a"
                          ],
                          [
                            0.8888888888888888,
                            "#fdca26"
                          ],
                          [
                            1,
                            "#f0f921"
                          ]
                        ],
                        "type": "histogram2d"
                      }
                    ],
                    "histogram2dcontour": [
                      {
                        "colorbar": {
                          "outlinewidth": 0,
                          "ticks": ""
                        },
                        "colorscale": [
                          [
                            0,
                            "#0d0887"
                          ],
                          [
                            0.1111111111111111,
                            "#46039f"
                          ],
                          [
                            0.2222222222222222,
                            "#7201a8"
                          ],
                          [
                            0.3333333333333333,
                            "#9c179e"
                          ],
                          [
                            0.4444444444444444,
                            "#bd3786"
                          ],
                          [
                            0.5555555555555556,
                            "#d8576b"
                          ],
                          [
                            0.6666666666666666,
                            "#ed7953"
                          ],
                          [
                            0.7777777777777778,
                            "#fb9f3a"
                          ],
                          [
                            0.8888888888888888,
                            "#fdca26"
                          ],
                          [
                            1,
                            "#f0f921"
                          ]
                        ],
                        "type": "histogram2dcontour"
                      }
                    ],
                    "mesh3d": [
                      {
                        "colorbar": {
                          "outlinewidth": 0,
                          "ticks": ""
                        },
                        "type": "mesh3d"
                      }
                    ],
                    "parcoords": [
                      {
                        "line": {
                          "colorbar": {
                            "outlinewidth": 0,
                            "ticks": ""
                          }
                        },
                        "type": "parcoords"
                      }
                    ],
                    "pie": [
                      {
                        "automargin": true,
                        "type": "pie"
                      }
                    ],
                    "scatter": [
                      {
                        "marker": {
                          "line": {
                            "color": "#283442"
                          }
                        },
                        "type": "scatter"
                      }
                    ],
                    "scatter3d": [
                      {
                        "line": {
                          "colorbar": {
                            "outlinewidth": 0,
                            "ticks": ""
                          }
                        },
                        "marker": {
                          "colorbar": {
                            "outlinewidth": 0,
                            "ticks": ""
                          }
                        },
                        "type": "scatter3d"
                      }
                    ],
                    "scattercarpet": [
                      {
                        "marker": {
                          "colorbar": {
                            "outlinewidth": 0,
                            "ticks": ""
                          }
                        },
                        "type": "scattercarpet"
                      }
                    ],
                    "scattergeo": [
                      {
                        "marker": {
                          "colorbar": {
                            "outlinewidth": 0,
                            "ticks": ""
                          }
                        },
                        "type": "scattergeo"
                      }
                    ],
                    "scattergl": [
                      {
                        "marker": {
                          "line": {
                            "color": "#283442"
                          }
                        },
                        "type": "scattergl"
                      }
                    ],
                    "scattermapbox": [
                      {
                        "marker": {
                          "colorbar": {
                            "outlinewidth": 0,
                            "ticks": ""
                          }
                        },
                        "type": "scattermapbox"
                      }
                    ],
                    "scatterpolar": [
                      {
                        "marker": {
                          "colorbar": {
                            "outlinewidth": 0,
                            "ticks": ""
                          }
                        },
                        "type": "scatterpolar"
                      }
                    ],
                    "scatterpolargl": [
                      {
                        "marker": {
                          "colorbar": {
                            "outlinewidth": 0,
                            "ticks": ""
                          }
                        },
                        "type": "scatterpolargl"
                      }
                    ],
                    "scatterternary": [
                      {
                        "marker": {
                          "colorbar": {
                            "outlinewidth": 0,
                            "ticks": ""
                          }
                        },
                        "type": "scatterternary"
                      }
                    ],
                    "surface": [
                      {
                        "colorbar": {
                          "outlinewidth": 0,
                          "ticks": ""
                        },
                        "colorscale": [
                          [
                            0,
                            "#0d0887"
                          ],
                          [
                            0.1111111111111111,
                            "#46039f"
                          ],
                          [
                            0.2222222222222222,
                            "#7201a8"
                          ],
                          [
                            0.3333333333333333,
                            "#9c179e"
                          ],
                          [
                            0.4444444444444444,
                            "#bd3786"
                          ],
                          [
                            0.5555555555555556,
                            "#d8576b"
                          ],
                          [
                            0.6666666666666666,
                            "#ed7953"
                          ],
                          [
                            0.7777777777777778,
                            "#fb9f3a"
                          ],
                          [
                            0.8888888888888888,
                            "#fdca26"
                          ],
                          [
                            1,
                            "#f0f921"
                          ]
                        ],
                        "type": "surface"
                      }
                    ],
                    "table": [
                      {
                        "cells": {
                          "fill": {
                            "color": "#506784"
                          },
                          "line": {
                            "color": "rgb(17,17,17)"
                          }
                        },
                        "header": {
                          "fill": {
                            "color": "#2a3f5f"
                          },
                          "line": {
                            "color": "rgb(17,17,17)"
                          }
                        },
                        "type": "table"
                      }
                    ]
                  },
                  "layout": {
                    "annotationdefaults": {
                      "arrowcolor": "#f2f5fa",
                      "arrowhead": 0,
                      "arrowwidth": 1
                    },
                    "autotypenumbers": "strict",
                    "coloraxis": {
                      "colorbar": {
                        "outlinewidth": 0,
                        "ticks": ""
                      }
                    },
                    "colorscale": {
                      "diverging": [
                        [
                          0,
                          "#8e0152"
                        ],
                        [
                          0.1,
                          "#c51b7d"
                        ],
                        [
                          0.2,
                          "#de77ae"
                        ],
                        [
                          0.3,
                          "#f1b6da"
                        ],
                        [
                          0.4,
                          "#fde0ef"
                        ],
                        [
                          0.5,
                          "#f7f7f7"
                        ],
                        [
                          0.6,
                          "#e6f5d0"
                        ],
                        [
                          0.7,
                          "#b8e186"
                        ],
                        [
                          0.8,
                          "#7fbc41"
                        ],
                        [
                          0.9,
                          "#4d9221"
                        ],
                        [
                          1,
                          "#276419"
                        ]
                      ],
                      "sequential": [
                        [
                          0,
                          "#0d0887"
                        ],
                        [
                          0.1111111111111111,
                          "#46039f"
                        ],
                        [
                          0.2222222222222222,
                          "#7201a8"
                        ],
                        [
                          0.3333333333333333,
                          "#9c179e"
                        ],
                        [
                          0.4444444444444444,
                          "#bd3786"
                        ],
                        [
                          0.5555555555555556,
                          "#d8576b"
                        ],
                        [
                          0.6666666666666666,
                          "#ed7953"
                        ],
                        [
                          0.7777777777777778,
                          "#fb9f3a"
                        ],
                        [
                          0.8888888888888888,
                          "#fdca26"
                        ],
                        [
                          1,
                          "#f0f921"
                        ]
                      ],
                      "sequentialminus": [
                        [
                          0,
                          "#0d0887"
                        ],
                        [
                          0.1111111111111111,
                          "#46039f"
                        ],
                        [
                          0.2222222222222222,
                          "#7201a8"
                        ],
                        [
                          0.3333333333333333,
                          "#9c179e"
                        ],
                        [
                          0.4444444444444444,
                          "#bd3786"
                        ],
                        [
                          0.5555555555555556,
                          "#d8576b"
                        ],
                        [
                          0.6666666666666666,
                          "#ed7953"
                        ],
                        [
                          0.7777777777777778,
                          "#fb9f3a"
                        ],
                        [
                          0.8888888888888888,
                          "#fdca26"
                        ],
                        [
                          1,
                          "#f0f921"
                        ]
                      ]
                    },
                    "colorway": [
                      "#636efa",
                      "#EF553B",
                      "#00cc96",
                      "#ab63fa",
                      "#FFA15A",
                      "#19d3f3",
                      "#FF6692",
                      "#B6E880",
                      "#FF97FF",
                      "#FECB52"
                    ],
                    "font": {
                      "color": "#f2f5fa"
                    },
                    "geo": {
                      "bgcolor": "rgb(17,17,17)",
                      "lakecolor": "rgb(17,17,17)",
                      "landcolor": "rgb(17,17,17)",
                      "showlakes": true,
                      "showland": true,
                      "subunitcolor": "#506784"
                    },
                    "hoverlabel": {
                      "align": "left"
                    },
                    "hovermode": "closest",
                    "mapbox": {
                      "style": "dark"
                    },
                    "paper_bgcolor": "rgb(17,17,17)",
                    "plot_bgcolor": "rgb(17,17,17)",
                    "polar": {
                      "angularaxis": {
                        "gridcolor": "#506784",
                        "linecolor": "#506784",
                        "ticks": ""
                      },
                      "bgcolor": "rgb(17,17,17)",
                      "radialaxis": {
                        "gridcolor": "#506784",
                        "linecolor": "#506784",
                        "ticks": ""
                      }
                    },
                    "scene": {
                      "xaxis": {
                        "backgroundcolor": "rgb(17,17,17)",
                        "gridcolor": "#506784",
                        "gridwidth": 2,
                        "linecolor": "#506784",
                        "showbackground": true,
                        "ticks": "",
                        "zerolinecolor": "#C8D4E3"
                      },
                      "yaxis": {
                        "backgroundcolor": "rgb(17,17,17)",
                        "gridcolor": "#506784",
                        "gridwidth": 2,
                        "linecolor": "#506784",
                        "showbackground": true,
                        "ticks": "",
                        "zerolinecolor": "#C8D4E3"
                      },
                      "zaxis": {
                        "backgroundcolor": "rgb(17,17,17)",
                        "gridcolor": "#506784",
                        "gridwidth": 2,
                        "linecolor": "#506784",
                        "showbackground": true,
                        "ticks": "",
                        "zerolinecolor": "#C8D4E3"
                      }
                    },
                    "shapedefaults": {
                      "line": {
                        "color": "#f2f5fa"
                      }
                    },
                    "sliderdefaults": {
                      "bgcolor": "#C8D4E3",
                      "bordercolor": "rgb(17,17,17)",
                      "borderwidth": 1,
                      "tickwidth": 0
                    },
                    "ternary": {
                      "aaxis": {
                        "gridcolor": "#506784",
                        "linecolor": "#506784",
                        "ticks": ""
                      },
                      "baxis": {
                        "gridcolor": "#506784",
                        "linecolor": "#506784",
                        "ticks": ""
                      },
                      "bgcolor": "rgb(17,17,17)",
                      "caxis": {
                        "gridcolor": "#506784",
                        "linecolor": "#506784",
                        "ticks": ""
                      }
                    },
                    "title": {
                      "x": 0.05
                    },
                    "updatemenudefaults": {
                      "bgcolor": "#506784",
                      "borderwidth": 0
                    },
                    "xaxis": {
                      "automargin": true,
                      "gridcolor": "#283442",
                      "linecolor": "#506784",
                      "ticks": "",
                      "title": {
                        "standoff": 15
                      },
                      "zerolinecolor": "#283442",
                      "zerolinewidth": 2
                    },
                    "yaxis": {
                      "automargin": true,
                      "gridcolor": "#283442",
                      "linecolor": "#506784",
                      "ticks": "",
                      "title": {
                        "standoff": 15
                      },
                      "zerolinecolor": "#283442",
                      "zerolinewidth": 2
                    }
                  }
                },
                "title": {
                  "text": "Corn: Stocks and National Inflation Rate in the Philippines"
                },
                "xaxis": {
                  "anchor": "y",
                  "color": "rgba(205,208,212,0.75)",
                  "domain": [
                    0,
                    0.94
                  ],
                  "showspikes": true,
                  "title": {
                    "text": "Year"
                  }
                },
                "yaxis": {
                  "anchor": "x",
                  "domain": [
                    0,
                    1
                  ],
                  "title": {
                    "text": "Stocks (metric tons)"
                  }
                },
                "yaxis2": {
                  "anchor": "x",
                  "overlaying": "y",
                  "side": "right",
                  "title": {
                    "text": "Inflation Rate (in %)"
                  }
                }
              }
            }
          },
          "metadata": {},
          "output_type": "display_data"
        },
        {
          "name": "stdout",
          "output_type": "stream",
          "text": [
            "\u001b[31mStocks <-> Farmgate Price = 0.0: Significant relationship exists.\u001b[0m\n",
            "\u001b[31mStocks <-> Wholesale Price = 0.0: Significant relationship exists.\u001b[0m\n",
            "\u001b[31mStocks <-> Retail Price = 0.0: Significant relationship exists.\u001b[0m\n",
            "Stocks </> CPI All Income = 0.405: No significant relationship exists.\n",
            "\u001b[31mStocks <-> CPI Bottom 30 = 0.005: Significant relationship exists.\u001b[0m\n",
            "\u001b[31mStocks <-> Net Returns = 0.012: Significant relationship exists.\u001b[0m\n",
            "\u001b[31mStocks <-> Inflation Rate = 0.004: Significant relationship exists.\u001b[0m\n",
            "Stocks </> NCR RPI = 0.14: No significant relationship exists.\n",
            "Volume </> Farmgate Price = 0.401: No significant relationship exists.\n",
            "Volume </> Wholesale Price = 0.262: No significant relationship exists.\n",
            "Volume </> Retail Price = 0.684: No significant relationship exists.\n",
            "Volume </> CPI All Income = 0.256: No significant relationship exists.\n",
            "Volume </> CPI Bottom 30 = 0.383: No significant relationship exists.\n",
            "\u001b[31mVolume <-> Net Returns = 0.048: Significant relationship exists.\u001b[0m\n",
            "Volume </> Inflation Rate = 0.82: No significant relationship exists.\n",
            "Volume </> NCR RPI = 0.604: No significant relationship exists.\n",
            "Area Harvested </> Farmgate Price = 0.073: No significant relationship exists.\n",
            "\u001b[31mArea Harvested <-> Wholesale Price = 0.039: Significant relationship exists.\u001b[0m\n",
            "Area Harvested </> Retail Price = 0.274: No significant relationship exists.\n",
            "Area Harvested </> CPI All Income = 0.293: No significant relationship exists.\n",
            "Area Harvested </> CPI Bottom 30 = 0.46: No significant relationship exists.\n",
            "Area Harvested </> Net Returns = 0.179: No significant relationship exists.\n",
            "Area Harvested </> Inflation Rate = 0.897: No significant relationship exists.\n",
            "Area Harvested </> NCR RPI = 0.769: No significant relationship exists.\n",
            "\u001b[31mSelf-Sufficiency Ratio <-> Farmgate Price = 0.02: Significant relationship exists.\u001b[0m\n",
            "\u001b[31mSelf-Sufficiency Ratio <-> Wholesale Price = 0.0: Significant relationship exists.\u001b[0m\n",
            "\u001b[31mSelf-Sufficiency Ratio <-> Retail Price = 0.0: Significant relationship exists.\u001b[0m\n",
            "\u001b[31mSelf-Sufficiency Ratio <-> CPI All Income = 0.0: Significant relationship exists.\u001b[0m\n",
            "\u001b[31mSelf-Sufficiency Ratio <-> CPI Bottom 30 = 0.0: Significant relationship exists.\u001b[0m\n",
            "Self-Sufficiency Ratio </> Net Returns = 0.12: No significant relationship exists.\n",
            "\u001b[31mSelf-Sufficiency Ratio <-> Inflation Rate = 0.002: Significant relationship exists.\u001b[0m\n",
            "\u001b[31mSelf-Sufficiency Ratio <-> NCR RPI = 0.0: Significant relationship exists.\u001b[0m\n",
            "\u001b[31mImport-Dependency Ratio <-> Farmgate Price = 0.019: Significant relationship exists.\u001b[0m\n",
            "\u001b[31mImport-Dependency Ratio <-> Wholesale Price = 0.0: Significant relationship exists.\u001b[0m\n",
            "\u001b[31mImport-Dependency Ratio <-> Retail Price = 0.0: Significant relationship exists.\u001b[0m\n",
            "\u001b[31mImport-Dependency Ratio <-> CPI All Income = 0.0: Significant relationship exists.\u001b[0m\n",
            "\u001b[31mImport-Dependency Ratio <-> CPI Bottom 30 = 0.0: Significant relationship exists.\u001b[0m\n",
            "Import-Dependency Ratio </> Net Returns = 0.125: No significant relationship exists.\n",
            "\u001b[31mImport-Dependency Ratio <-> Inflation Rate = 0.002: Significant relationship exists.\u001b[0m\n",
            "\u001b[31mImport-Dependency Ratio <-> NCR RPI = 0.0: Significant relationship exists.\u001b[0m\n",
            "\u001b[31mSU Gross Supply <-> Farmgate Price = 0.0: Significant relationship exists.\u001b[0m\n",
            "\u001b[31mSU Gross Supply <-> Wholesale Price = 0.0: Significant relationship exists.\u001b[0m\n",
            "\u001b[31mSU Gross Supply <-> Retail Price = 0.0: Significant relationship exists.\u001b[0m\n",
            "SU Gross Supply </> CPI All Income = 0.099: No significant relationship exists.\n",
            "\u001b[31mSU Gross Supply <-> CPI Bottom 30 = 0.003: Significant relationship exists.\u001b[0m\n",
            "SU Gross Supply </> Net Returns = 0.125: No significant relationship exists.\n",
            "SU Gross Supply </> Inflation Rate = 0.066: No significant relationship exists.\n",
            "\u001b[31mSU Gross Supply <-> NCR RPI = 0.0: Significant relationship exists.\u001b[0m\n",
            "\u001b[31mUT Consumable <-> Farmgate Price = 0.0: Significant relationship exists.\u001b[0m\n",
            "\u001b[31mUT Consumable <-> Wholesale Price = 0.0: Significant relationship exists.\u001b[0m\n",
            "\u001b[31mUT Consumable <-> Retail Price = 0.0: Significant relationship exists.\u001b[0m\n",
            "UT Consumable </> CPI All Income = 0.519: No significant relationship exists.\n",
            "\u001b[31mUT Consumable <-> CPI Bottom 30 = 0.033: Significant relationship exists.\u001b[0m\n",
            "UT Consumable </> Net Returns = 0.154: No significant relationship exists.\n",
            "UT Consumable </> Inflation Rate = 0.052: No significant relationship exists.\n",
            "\u001b[31mUT Consumable <-> NCR RPI = 0.0: Significant relationship exists.\u001b[0m\n"
          ]
        }
      ],
      "source": [
        "# @Visualizations\n",
        "from termcolor import cprint\n",
        "REGEN_PLOTS = True\n",
        "\n",
        "# for x in [\"Volume\", \"Area Harvested\"]:\n",
        "#     for y in [\"Retail Price\", \"Wholesale Price\", \"Farmgate Price\", \"CPI All Income\", \"CPI Bottom 30\"]:\n",
        "#         fig = px.scatter(df, x=x, y=y)\n",
        "#         # fig.show()\n",
        "        \n",
        "# Correlation Matrix for Annual-Regions\n",
        "# NOTE: Filter != or == philippines\n",
        "for commodity in df[\"Commodity\"].unique():\n",
        "    tdf = df[(df[\"Geolocation\"] != \"philippines\") & (df[\"Commodity\"] == commodity)]\n",
        "    samples = tdf.shape[0]\n",
        "    # NOTE: pearson|kendall|spearman\n",
        "    contingency = tdf.iloc[:, 3:].corr(method=\"pearson\")\n",
        "    idx = list(contingency.columns).index(\"Farmgate Price\")\n",
        "    cont_1 = contingency.iloc[:idx, idx:]\n",
        "    fig1 = px.imshow(cont_1, text_auto=True, title=f\"{commodity}: Correlation Matrix on {samples} Annual-Regional Samples\",\n",
        "                    labels=dict(x=f\"Socioeconomic Indicator for {commodity}\", y=f\"Agricultural Indicator for {commodity}\"))\n",
        "    fig1.update_traces(\n",
        "        texttemplate='%{z:.2f}',\n",
        "        hovertemplate=(\"x: %{x}<br>y: %{y}<br><b>Correlation: %{z}</b><extra></extra>\")\n",
        "    )\n",
        "    fig1.update_layout(template=\"plotly_dark\")\n",
        "    fig1.show()\n",
        "    \n",
        "    mask = (df[\"Geolocation\"] == \"philippines\") & (df[\"Commodity\"] == commodity)\n",
        "    fig = dual_plot(df[mask], \"Period\", \"Volume\", \"Retail Price\",\n",
        "                    f\"{commodity}: Volume of Production and Retail Price in the Philippines\",\n",
        "                    \"Year\", \"Volume of Production (metric tons)\", \"Retail Price (in PHP)\")\n",
        "    fig.update_layout(template=\"plotly_dark\", hovermode=\"x unified\", hoverlabel=dict(bgcolor=\"rgba(17,17,17,0.75)\"))\n",
        "    fig.update_xaxes(showspikes=True, color=\"rgba(205,208,212,0.75)\")\n",
        "    fig.show()\n",
        "\n",
        "    fig3 = dual_plot(df[mask], \"Period\", \"Stocks\", \"Inflation Rate\",\n",
        "                    f\"{commodity}: Stocks and National Inflation Rate in the Philippines\",\n",
        "                    \"Year\", \"Stocks (metric tons)\", \"Inflation Rate (in %)\")\n",
        "    fig3.update_layout(template=\"plotly_dark\", hovermode=\"x unified\")\n",
        "    fig3.update_layout(template=\"plotly_dark\", hovermode=\"x unified\", hoverlabel=dict(bgcolor=\"rgba(17,17,17,0.75)\"))\n",
        "    fig3.update_xaxes(showspikes=True, color=\"rgba(205,208,212,0.75)\")\n",
        "    fig3.show()\n",
        "    \n",
        "    if REGEN_PLOTS:\n",
        "        fig_to_div(fig1, f\"plots/annual-regional/{commodity}_heatmap_div.html\")\n",
        "        fig_to_html(fig1, f\"plots/annual-regional/{commodity}_heatmap.html\")\n",
        "        fig_to_png(fig1, f\"plots/annual-regional/{commodity}_heatmap.png\")\n",
        "        \n",
        "        fig_to_div(fig, f\"plots/annual-regional/{commodity}_dual_volume-retail_div.html\")\n",
        "        fig_to_html(fig, f\"plots/annual-regional/{commodity}_dual_volume-retail.html\")\n",
        "        fig_to_png(fig, f\"plots/annual-regional/{commodity}_dual_volume-retail.png\")\n",
        "\n",
        "        fig_to_div(fig3, f\"plots/annual-regional/{commodity}_dual_stocks-inflation_div.html\")\n",
        "        fig_to_html(fig3, f\"plots/annual-regional/{commodity}_dual_stocks-inflation.html\")\n",
        "        fig_to_png(fig3, f\"plots/annual-regional/{commodity}_dual_stocks-inflation.png\")\n",
        "    \n",
        "    # Hypothesis testing for commodity\n",
        "    tdf = df.dropna()\n",
        "    agri_cols = df.columns[3:10]\n",
        "    market_cols = df.columns[10:]\n",
        "    alpha = 0.05\n",
        "    for x in agri_cols:\n",
        "        for y in market_cols:\n",
        "            agri, market = tdf[x], tdf[y]\n",
        "            r_stat, p_value = stats.pearsonr(agri, market)  # Pearson's r\n",
        "            if p_value < alpha:\n",
        "                cprint(f\"{x} <-> {y} = {round(p_value, 3)}: Significant relationship exists.\", \"red\")\n",
        "            else:\n",
        "                print(f\"{x} </> {y} = {round(p_value, 3)}: No significant relationship exists.\")"
      ]
    },
    {
      "cell_type": "markdown",
      "metadata": {},
      "source": [
        "### Hypothesis Testing\n",
        "The following hypotheses are tested at **0.05 level of signficance** (alpha=0.05):\n",
        "- **H0.1:** There is no significant difference in the productivity of major food crops when grouped according to their crop type, geolocation, and/or market profile.\n",
        "- **H0.2:** There is no significant relationship between market conditions and food crop production.\n",
        "\n",
        "#### H0.1 Significant Difference Test using Two-sample t-Test\n",
        "Tested significant difference between features of rice and corn when grouped according to geolocation."
      ]
    },
    {
      "cell_type": "code",
      "execution_count": 67,
      "metadata": {},
      "outputs": [
        {
          "data": {
            "application/vnd.plotly.v1+json": {
              "config": {
                "plotlyServerURL": "https://plot.ly"
              },
              "data": [
                {
                  "alignmentgroup": "True",
                  "bingroup": "x",
                  "histfunc": "sum",
                  "hovertemplate": "Geolocation: %{x}<br><b>Avg. retail price: %{y}</b><extra></extra>",
                  "legendgroup": "Corn",
                  "marker": {
                    "color": "#636efa",
                    "pattern": {
                      "shape": ""
                    }
                  },
                  "name": "Corn",
                  "offsetgroup": "Corn",
                  "orientation": "v",
                  "showlegend": true,
                  "type": "histogram",
                  "x": [
                    "barmm",
                    "car",
                    "mimaropa",
                    "ilocos region",
                    "cagayan valley",
                    "central luzon",
                    "calabarzon",
                    "zamboanga peninsula",
                    "bicol region",
                    "western visayas",
                    "central visayas",
                    "eastern visayas",
                    "northern mindanao",
                    "davao region",
                    "soccsksargen",
                    "caraga"
                  ],
                  "xaxis": "x",
                  "y": [
                    35.38633196721311,
                    29.52108333333333,
                    46.31575,
                    35.38633196721311,
                    18.472,
                    35.38633196721311,
                    36.771750000000004,
                    35.38633196721311,
                    35.38633196721311,
                    31.090465846994533,
                    35.38633196721311,
                    35.38633196721311,
                    16.653916666666667,
                    19.114583333333336,
                    35.38633196721311,
                    35.38633196721311
                  ],
                  "yaxis": "y"
                },
                {
                  "alignmentgroup": "True",
                  "bingroup": "x",
                  "histfunc": "sum",
                  "hovertemplate": "Geolocation: %{x}<br><b>Avg. retail price: %{y}</b><extra></extra>",
                  "legendgroup": "Rice",
                  "marker": {
                    "color": "#EF553B",
                    "pattern": {
                      "shape": ""
                    }
                  },
                  "name": "Rice",
                  "offsetgroup": "Rice",
                  "orientation": "v",
                  "showlegend": true,
                  "type": "histogram",
                  "x": [
                    "barmm",
                    "car",
                    "mimaropa",
                    "ilocos region",
                    "cagayan valley",
                    "central luzon",
                    "calabarzon",
                    "zamboanga peninsula",
                    "bicol region",
                    "western visayas",
                    "central visayas",
                    "eastern visayas",
                    "northern mindanao",
                    "davao region",
                    "soccsksargen",
                    "caraga"
                  ],
                  "xaxis": "x",
                  "y": [
                    37.272083333333335,
                    40.60316666666667,
                    38.087583333333335,
                    36.087916666666665,
                    36.257083333333334,
                    36.951,
                    37.58383333333333,
                    41.249,
                    38.15258333333333,
                    38.57933333333333,
                    42.24716666666667,
                    40.26241666666667,
                    40.456,
                    39.455,
                    38.19991666666667,
                    39.260333333333335
                  ],
                  "yaxis": "y"
                }
              ],
              "layout": {
                "barmode": "group",
                "legend": {
                  "title": {
                    "text": "Commodity"
                  },
                  "tracegroupgap": 0
                },
                "margin": {
                  "t": 60
                },
                "template": {
                  "data": {
                    "bar": [
                      {
                        "error_x": {
                          "color": "#f2f5fa"
                        },
                        "error_y": {
                          "color": "#f2f5fa"
                        },
                        "marker": {
                          "line": {
                            "color": "rgb(17,17,17)",
                            "width": 0.5
                          },
                          "pattern": {
                            "fillmode": "overlay",
                            "size": 10,
                            "solidity": 0.2
                          }
                        },
                        "type": "bar"
                      }
                    ],
                    "barpolar": [
                      {
                        "marker": {
                          "line": {
                            "color": "rgb(17,17,17)",
                            "width": 0.5
                          },
                          "pattern": {
                            "fillmode": "overlay",
                            "size": 10,
                            "solidity": 0.2
                          }
                        },
                        "type": "barpolar"
                      }
                    ],
                    "carpet": [
                      {
                        "aaxis": {
                          "endlinecolor": "#A2B1C6",
                          "gridcolor": "#506784",
                          "linecolor": "#506784",
                          "minorgridcolor": "#506784",
                          "startlinecolor": "#A2B1C6"
                        },
                        "baxis": {
                          "endlinecolor": "#A2B1C6",
                          "gridcolor": "#506784",
                          "linecolor": "#506784",
                          "minorgridcolor": "#506784",
                          "startlinecolor": "#A2B1C6"
                        },
                        "type": "carpet"
                      }
                    ],
                    "choropleth": [
                      {
                        "colorbar": {
                          "outlinewidth": 0,
                          "ticks": ""
                        },
                        "type": "choropleth"
                      }
                    ],
                    "contour": [
                      {
                        "colorbar": {
                          "outlinewidth": 0,
                          "ticks": ""
                        },
                        "colorscale": [
                          [
                            0,
                            "#0d0887"
                          ],
                          [
                            0.1111111111111111,
                            "#46039f"
                          ],
                          [
                            0.2222222222222222,
                            "#7201a8"
                          ],
                          [
                            0.3333333333333333,
                            "#9c179e"
                          ],
                          [
                            0.4444444444444444,
                            "#bd3786"
                          ],
                          [
                            0.5555555555555556,
                            "#d8576b"
                          ],
                          [
                            0.6666666666666666,
                            "#ed7953"
                          ],
                          [
                            0.7777777777777778,
                            "#fb9f3a"
                          ],
                          [
                            0.8888888888888888,
                            "#fdca26"
                          ],
                          [
                            1,
                            "#f0f921"
                          ]
                        ],
                        "type": "contour"
                      }
                    ],
                    "contourcarpet": [
                      {
                        "colorbar": {
                          "outlinewidth": 0,
                          "ticks": ""
                        },
                        "type": "contourcarpet"
                      }
                    ],
                    "heatmap": [
                      {
                        "colorbar": {
                          "outlinewidth": 0,
                          "ticks": ""
                        },
                        "colorscale": [
                          [
                            0,
                            "#0d0887"
                          ],
                          [
                            0.1111111111111111,
                            "#46039f"
                          ],
                          [
                            0.2222222222222222,
                            "#7201a8"
                          ],
                          [
                            0.3333333333333333,
                            "#9c179e"
                          ],
                          [
                            0.4444444444444444,
                            "#bd3786"
                          ],
                          [
                            0.5555555555555556,
                            "#d8576b"
                          ],
                          [
                            0.6666666666666666,
                            "#ed7953"
                          ],
                          [
                            0.7777777777777778,
                            "#fb9f3a"
                          ],
                          [
                            0.8888888888888888,
                            "#fdca26"
                          ],
                          [
                            1,
                            "#f0f921"
                          ]
                        ],
                        "type": "heatmap"
                      }
                    ],
                    "heatmapgl": [
                      {
                        "colorbar": {
                          "outlinewidth": 0,
                          "ticks": ""
                        },
                        "colorscale": [
                          [
                            0,
                            "#0d0887"
                          ],
                          [
                            0.1111111111111111,
                            "#46039f"
                          ],
                          [
                            0.2222222222222222,
                            "#7201a8"
                          ],
                          [
                            0.3333333333333333,
                            "#9c179e"
                          ],
                          [
                            0.4444444444444444,
                            "#bd3786"
                          ],
                          [
                            0.5555555555555556,
                            "#d8576b"
                          ],
                          [
                            0.6666666666666666,
                            "#ed7953"
                          ],
                          [
                            0.7777777777777778,
                            "#fb9f3a"
                          ],
                          [
                            0.8888888888888888,
                            "#fdca26"
                          ],
                          [
                            1,
                            "#f0f921"
                          ]
                        ],
                        "type": "heatmapgl"
                      }
                    ],
                    "histogram": [
                      {
                        "marker": {
                          "pattern": {
                            "fillmode": "overlay",
                            "size": 10,
                            "solidity": 0.2
                          }
                        },
                        "type": "histogram"
                      }
                    ],
                    "histogram2d": [
                      {
                        "colorbar": {
                          "outlinewidth": 0,
                          "ticks": ""
                        },
                        "colorscale": [
                          [
                            0,
                            "#0d0887"
                          ],
                          [
                            0.1111111111111111,
                            "#46039f"
                          ],
                          [
                            0.2222222222222222,
                            "#7201a8"
                          ],
                          [
                            0.3333333333333333,
                            "#9c179e"
                          ],
                          [
                            0.4444444444444444,
                            "#bd3786"
                          ],
                          [
                            0.5555555555555556,
                            "#d8576b"
                          ],
                          [
                            0.6666666666666666,
                            "#ed7953"
                          ],
                          [
                            0.7777777777777778,
                            "#fb9f3a"
                          ],
                          [
                            0.8888888888888888,
                            "#fdca26"
                          ],
                          [
                            1,
                            "#f0f921"
                          ]
                        ],
                        "type": "histogram2d"
                      }
                    ],
                    "histogram2dcontour": [
                      {
                        "colorbar": {
                          "outlinewidth": 0,
                          "ticks": ""
                        },
                        "colorscale": [
                          [
                            0,
                            "#0d0887"
                          ],
                          [
                            0.1111111111111111,
                            "#46039f"
                          ],
                          [
                            0.2222222222222222,
                            "#7201a8"
                          ],
                          [
                            0.3333333333333333,
                            "#9c179e"
                          ],
                          [
                            0.4444444444444444,
                            "#bd3786"
                          ],
                          [
                            0.5555555555555556,
                            "#d8576b"
                          ],
                          [
                            0.6666666666666666,
                            "#ed7953"
                          ],
                          [
                            0.7777777777777778,
                            "#fb9f3a"
                          ],
                          [
                            0.8888888888888888,
                            "#fdca26"
                          ],
                          [
                            1,
                            "#f0f921"
                          ]
                        ],
                        "type": "histogram2dcontour"
                      }
                    ],
                    "mesh3d": [
                      {
                        "colorbar": {
                          "outlinewidth": 0,
                          "ticks": ""
                        },
                        "type": "mesh3d"
                      }
                    ],
                    "parcoords": [
                      {
                        "line": {
                          "colorbar": {
                            "outlinewidth": 0,
                            "ticks": ""
                          }
                        },
                        "type": "parcoords"
                      }
                    ],
                    "pie": [
                      {
                        "automargin": true,
                        "type": "pie"
                      }
                    ],
                    "scatter": [
                      {
                        "marker": {
                          "line": {
                            "color": "#283442"
                          }
                        },
                        "type": "scatter"
                      }
                    ],
                    "scatter3d": [
                      {
                        "line": {
                          "colorbar": {
                            "outlinewidth": 0,
                            "ticks": ""
                          }
                        },
                        "marker": {
                          "colorbar": {
                            "outlinewidth": 0,
                            "ticks": ""
                          }
                        },
                        "type": "scatter3d"
                      }
                    ],
                    "scattercarpet": [
                      {
                        "marker": {
                          "colorbar": {
                            "outlinewidth": 0,
                            "ticks": ""
                          }
                        },
                        "type": "scattercarpet"
                      }
                    ],
                    "scattergeo": [
                      {
                        "marker": {
                          "colorbar": {
                            "outlinewidth": 0,
                            "ticks": ""
                          }
                        },
                        "type": "scattergeo"
                      }
                    ],
                    "scattergl": [
                      {
                        "marker": {
                          "line": {
                            "color": "#283442"
                          }
                        },
                        "type": "scattergl"
                      }
                    ],
                    "scattermapbox": [
                      {
                        "marker": {
                          "colorbar": {
                            "outlinewidth": 0,
                            "ticks": ""
                          }
                        },
                        "type": "scattermapbox"
                      }
                    ],
                    "scatterpolar": [
                      {
                        "marker": {
                          "colorbar": {
                            "outlinewidth": 0,
                            "ticks": ""
                          }
                        },
                        "type": "scatterpolar"
                      }
                    ],
                    "scatterpolargl": [
                      {
                        "marker": {
                          "colorbar": {
                            "outlinewidth": 0,
                            "ticks": ""
                          }
                        },
                        "type": "scatterpolargl"
                      }
                    ],
                    "scatterternary": [
                      {
                        "marker": {
                          "colorbar": {
                            "outlinewidth": 0,
                            "ticks": ""
                          }
                        },
                        "type": "scatterternary"
                      }
                    ],
                    "surface": [
                      {
                        "colorbar": {
                          "outlinewidth": 0,
                          "ticks": ""
                        },
                        "colorscale": [
                          [
                            0,
                            "#0d0887"
                          ],
                          [
                            0.1111111111111111,
                            "#46039f"
                          ],
                          [
                            0.2222222222222222,
                            "#7201a8"
                          ],
                          [
                            0.3333333333333333,
                            "#9c179e"
                          ],
                          [
                            0.4444444444444444,
                            "#bd3786"
                          ],
                          [
                            0.5555555555555556,
                            "#d8576b"
                          ],
                          [
                            0.6666666666666666,
                            "#ed7953"
                          ],
                          [
                            0.7777777777777778,
                            "#fb9f3a"
                          ],
                          [
                            0.8888888888888888,
                            "#fdca26"
                          ],
                          [
                            1,
                            "#f0f921"
                          ]
                        ],
                        "type": "surface"
                      }
                    ],
                    "table": [
                      {
                        "cells": {
                          "fill": {
                            "color": "#506784"
                          },
                          "line": {
                            "color": "rgb(17,17,17)"
                          }
                        },
                        "header": {
                          "fill": {
                            "color": "#2a3f5f"
                          },
                          "line": {
                            "color": "rgb(17,17,17)"
                          }
                        },
                        "type": "table"
                      }
                    ]
                  },
                  "layout": {
                    "annotationdefaults": {
                      "arrowcolor": "#f2f5fa",
                      "arrowhead": 0,
                      "arrowwidth": 1
                    },
                    "autotypenumbers": "strict",
                    "coloraxis": {
                      "colorbar": {
                        "outlinewidth": 0,
                        "ticks": ""
                      }
                    },
                    "colorscale": {
                      "diverging": [
                        [
                          0,
                          "#8e0152"
                        ],
                        [
                          0.1,
                          "#c51b7d"
                        ],
                        [
                          0.2,
                          "#de77ae"
                        ],
                        [
                          0.3,
                          "#f1b6da"
                        ],
                        [
                          0.4,
                          "#fde0ef"
                        ],
                        [
                          0.5,
                          "#f7f7f7"
                        ],
                        [
                          0.6,
                          "#e6f5d0"
                        ],
                        [
                          0.7,
                          "#b8e186"
                        ],
                        [
                          0.8,
                          "#7fbc41"
                        ],
                        [
                          0.9,
                          "#4d9221"
                        ],
                        [
                          1,
                          "#276419"
                        ]
                      ],
                      "sequential": [
                        [
                          0,
                          "#0d0887"
                        ],
                        [
                          0.1111111111111111,
                          "#46039f"
                        ],
                        [
                          0.2222222222222222,
                          "#7201a8"
                        ],
                        [
                          0.3333333333333333,
                          "#9c179e"
                        ],
                        [
                          0.4444444444444444,
                          "#bd3786"
                        ],
                        [
                          0.5555555555555556,
                          "#d8576b"
                        ],
                        [
                          0.6666666666666666,
                          "#ed7953"
                        ],
                        [
                          0.7777777777777778,
                          "#fb9f3a"
                        ],
                        [
                          0.8888888888888888,
                          "#fdca26"
                        ],
                        [
                          1,
                          "#f0f921"
                        ]
                      ],
                      "sequentialminus": [
                        [
                          0,
                          "#0d0887"
                        ],
                        [
                          0.1111111111111111,
                          "#46039f"
                        ],
                        [
                          0.2222222222222222,
                          "#7201a8"
                        ],
                        [
                          0.3333333333333333,
                          "#9c179e"
                        ],
                        [
                          0.4444444444444444,
                          "#bd3786"
                        ],
                        [
                          0.5555555555555556,
                          "#d8576b"
                        ],
                        [
                          0.6666666666666666,
                          "#ed7953"
                        ],
                        [
                          0.7777777777777778,
                          "#fb9f3a"
                        ],
                        [
                          0.8888888888888888,
                          "#fdca26"
                        ],
                        [
                          1,
                          "#f0f921"
                        ]
                      ]
                    },
                    "colorway": [
                      "#636efa",
                      "#EF553B",
                      "#00cc96",
                      "#ab63fa",
                      "#FFA15A",
                      "#19d3f3",
                      "#FF6692",
                      "#B6E880",
                      "#FF97FF",
                      "#FECB52"
                    ],
                    "font": {
                      "color": "#f2f5fa"
                    },
                    "geo": {
                      "bgcolor": "rgb(17,17,17)",
                      "lakecolor": "rgb(17,17,17)",
                      "landcolor": "rgb(17,17,17)",
                      "showlakes": true,
                      "showland": true,
                      "subunitcolor": "#506784"
                    },
                    "hoverlabel": {
                      "align": "left"
                    },
                    "hovermode": "closest",
                    "mapbox": {
                      "style": "dark"
                    },
                    "paper_bgcolor": "rgb(17,17,17)",
                    "plot_bgcolor": "rgb(17,17,17)",
                    "polar": {
                      "angularaxis": {
                        "gridcolor": "#506784",
                        "linecolor": "#506784",
                        "ticks": ""
                      },
                      "bgcolor": "rgb(17,17,17)",
                      "radialaxis": {
                        "gridcolor": "#506784",
                        "linecolor": "#506784",
                        "ticks": ""
                      }
                    },
                    "scene": {
                      "xaxis": {
                        "backgroundcolor": "rgb(17,17,17)",
                        "gridcolor": "#506784",
                        "gridwidth": 2,
                        "linecolor": "#506784",
                        "showbackground": true,
                        "ticks": "",
                        "zerolinecolor": "#C8D4E3"
                      },
                      "yaxis": {
                        "backgroundcolor": "rgb(17,17,17)",
                        "gridcolor": "#506784",
                        "gridwidth": 2,
                        "linecolor": "#506784",
                        "showbackground": true,
                        "ticks": "",
                        "zerolinecolor": "#C8D4E3"
                      },
                      "zaxis": {
                        "backgroundcolor": "rgb(17,17,17)",
                        "gridcolor": "#506784",
                        "gridwidth": 2,
                        "linecolor": "#506784",
                        "showbackground": true,
                        "ticks": "",
                        "zerolinecolor": "#C8D4E3"
                      }
                    },
                    "shapedefaults": {
                      "line": {
                        "color": "#f2f5fa"
                      }
                    },
                    "sliderdefaults": {
                      "bgcolor": "#C8D4E3",
                      "bordercolor": "rgb(17,17,17)",
                      "borderwidth": 1,
                      "tickwidth": 0
                    },
                    "ternary": {
                      "aaxis": {
                        "gridcolor": "#506784",
                        "linecolor": "#506784",
                        "ticks": ""
                      },
                      "baxis": {
                        "gridcolor": "#506784",
                        "linecolor": "#506784",
                        "ticks": ""
                      },
                      "bgcolor": "rgb(17,17,17)",
                      "caxis": {
                        "gridcolor": "#506784",
                        "linecolor": "#506784",
                        "ticks": ""
                      }
                    },
                    "title": {
                      "x": 0.05
                    },
                    "updatemenudefaults": {
                      "bgcolor": "#506784",
                      "borderwidth": 0
                    },
                    "xaxis": {
                      "automargin": true,
                      "gridcolor": "#283442",
                      "linecolor": "#506784",
                      "ticks": "",
                      "title": {
                        "standoff": 15
                      },
                      "zerolinecolor": "#283442",
                      "zerolinewidth": 2
                    },
                    "yaxis": {
                      "automargin": true,
                      "gridcolor": "#283442",
                      "linecolor": "#506784",
                      "ticks": "",
                      "title": {
                        "standoff": 15
                      },
                      "zerolinecolor": "#283442",
                      "zerolinewidth": 2
                    }
                  }
                },
                "title": {
                  "text": "Average Retail Price of Rice and Corn<br><sup>Some regions lack retail price data for either rice or corn</sup>"
                },
                "xaxis": {
                  "anchor": "y",
                  "domain": [
                    0,
                    1
                  ],
                  "title": {
                    "text": "Geolocation"
                  }
                },
                "yaxis": {
                  "anchor": "x",
                  "domain": [
                    0,
                    1
                  ],
                  "title": {
                    "text": "Average Retail Price"
                  }
                }
              }
            }
          },
          "metadata": {},
          "output_type": "display_data"
        },
        {
          "name": "stdout",
          "output_type": "stream",
          "text": [
            "\u001b[34mIndicators tested are:\u001b[0m\n",
            "Stocks\n",
            "Volume\n",
            "Area Harvested\n",
            "SU Gross Supply\n",
            "UT Consumable\n",
            "Farmgate Price\n",
            "Wholesale Price\n",
            "Retail Price\n",
            "\u001b[31mThere is a significant difference in the Stocks of rice and corn when grouped according to geolocation.\u001b[0m\n",
            "\u001b[31mThere is a significant difference in the Volume of rice and corn when grouped according to geolocation.\u001b[0m\n",
            "There is NO significant difference in the Area Harvested of rice and corn when grouped according to geolocation.\n",
            "\u001b[31mThere is a significant difference in the SU Gross Supply of rice and corn when grouped according to geolocation.\u001b[0m\n",
            "\u001b[31mThere is a significant difference in the UT Consumable of rice and corn when grouped according to geolocation.\u001b[0m\n",
            "\u001b[31mThere is a significant difference in the Farmgate Price of rice and corn when grouped according to geolocation.\u001b[0m\n",
            "\u001b[31mThere is a significant difference in the Wholesale Price of rice and corn when grouped according to geolocation.\u001b[0m\n",
            "\u001b[31mThere is a significant difference in the Retail Price of rice and corn when grouped according to geolocation.\u001b[0m\n",
            "\u001b[31mThere is a significant difference in the Stocks of rice and corn when grouped according to geolocation.\u001b[0m\n",
            "\u001b[31mThere is a significant difference in the Volume of rice and corn when grouped according to geolocation.\u001b[0m\n",
            "There is NO significant difference in the Area Harvested of rice and corn when grouped according to geolocation.\n",
            "\u001b[31mThere is a significant difference in the SU Gross Supply of rice and corn when grouped according to geolocation.\u001b[0m\n",
            "\u001b[31mThere is a significant difference in the UT Consumable of rice and corn when grouped according to geolocation.\u001b[0m\n",
            "\u001b[31mThere is a significant difference in the Farmgate Price of rice and corn when grouped according to geolocation.\u001b[0m\n",
            "\u001b[31mThere is a significant difference in the Wholesale Price of rice and corn when grouped according to geolocation.\u001b[0m\n",
            "\u001b[31mThere is a significant difference in the Retail Price of rice and corn when grouped according to geolocation.\u001b[0m\n",
            "\u001b[31mThere is a significant difference in the Stocks of rice and corn when grouped according to geolocation.\u001b[0m\n",
            "\u001b[31mThere is a significant difference in the Volume of rice and corn when grouped according to geolocation.\u001b[0m\n",
            "There is NO significant difference in the Area Harvested of rice and corn when grouped according to geolocation.\n",
            "\u001b[31mThere is a significant difference in the SU Gross Supply of rice and corn when grouped according to geolocation.\u001b[0m\n",
            "\u001b[31mThere is a significant difference in the UT Consumable of rice and corn when grouped according to geolocation.\u001b[0m\n",
            "\u001b[31mThere is a significant difference in the Farmgate Price of rice and corn when grouped according to geolocation.\u001b[0m\n",
            "\u001b[31mThere is a significant difference in the Wholesale Price of rice and corn when grouped according to geolocation.\u001b[0m\n",
            "\u001b[31mThere is a significant difference in the Retail Price of rice and corn when grouped according to geolocation.\u001b[0m\n",
            "\u001b[31mThere is a significant difference in the Stocks of rice and corn when grouped according to geolocation.\u001b[0m\n",
            "\u001b[31mThere is a significant difference in the Volume of rice and corn when grouped according to geolocation.\u001b[0m\n",
            "There is NO significant difference in the Area Harvested of rice and corn when grouped according to geolocation.\n",
            "\u001b[31mThere is a significant difference in the SU Gross Supply of rice and corn when grouped according to geolocation.\u001b[0m\n",
            "\u001b[31mThere is a significant difference in the UT Consumable of rice and corn when grouped according to geolocation.\u001b[0m\n",
            "\u001b[31mThere is a significant difference in the Farmgate Price of rice and corn when grouped according to geolocation.\u001b[0m\n",
            "\u001b[31mThere is a significant difference in the Wholesale Price of rice and corn when grouped according to geolocation.\u001b[0m\n",
            "\u001b[31mThere is a significant difference in the Retail Price of rice and corn when grouped according to geolocation.\u001b[0m\n",
            "\u001b[31mThere is a significant difference in the Stocks of rice and corn when grouped according to geolocation.\u001b[0m\n",
            "\u001b[31mThere is a significant difference in the Volume of rice and corn when grouped according to geolocation.\u001b[0m\n",
            "There is NO significant difference in the Area Harvested of rice and corn when grouped according to geolocation.\n",
            "\u001b[31mThere is a significant difference in the SU Gross Supply of rice and corn when grouped according to geolocation.\u001b[0m\n",
            "\u001b[31mThere is a significant difference in the UT Consumable of rice and corn when grouped according to geolocation.\u001b[0m\n",
            "\u001b[31mThere is a significant difference in the Farmgate Price of rice and corn when grouped according to geolocation.\u001b[0m\n",
            "\u001b[31mThere is a significant difference in the Wholesale Price of rice and corn when grouped according to geolocation.\u001b[0m\n",
            "\u001b[31mThere is a significant difference in the Retail Price of rice and corn when grouped according to geolocation.\u001b[0m\n",
            "\u001b[31mThere is a significant difference in the Stocks of rice and corn when grouped according to geolocation.\u001b[0m\n",
            "\u001b[31mThere is a significant difference in the Volume of rice and corn when grouped according to geolocation.\u001b[0m\n",
            "There is NO significant difference in the Area Harvested of rice and corn when grouped according to geolocation.\n",
            "\u001b[31mThere is a significant difference in the SU Gross Supply of rice and corn when grouped according to geolocation.\u001b[0m\n",
            "\u001b[31mThere is a significant difference in the UT Consumable of rice and corn when grouped according to geolocation.\u001b[0m\n",
            "\u001b[31mThere is a significant difference in the Farmgate Price of rice and corn when grouped according to geolocation.\u001b[0m\n",
            "\u001b[31mThere is a significant difference in the Wholesale Price of rice and corn when grouped according to geolocation.\u001b[0m\n",
            "\u001b[31mThere is a significant difference in the Retail Price of rice and corn when grouped according to geolocation.\u001b[0m\n",
            "\u001b[31mThere is a significant difference in the Stocks of rice and corn when grouped according to geolocation.\u001b[0m\n",
            "\u001b[31mThere is a significant difference in the Volume of rice and corn when grouped according to geolocation.\u001b[0m\n",
            "There is NO significant difference in the Area Harvested of rice and corn when grouped according to geolocation.\n",
            "\u001b[31mThere is a significant difference in the SU Gross Supply of rice and corn when grouped according to geolocation.\u001b[0m\n",
            "\u001b[31mThere is a significant difference in the UT Consumable of rice and corn when grouped according to geolocation.\u001b[0m\n",
            "\u001b[31mThere is a significant difference in the Farmgate Price of rice and corn when grouped according to geolocation.\u001b[0m\n",
            "\u001b[31mThere is a significant difference in the Wholesale Price of rice and corn when grouped according to geolocation.\u001b[0m\n",
            "\u001b[31mThere is a significant difference in the Retail Price of rice and corn when grouped according to geolocation.\u001b[0m\n",
            "\u001b[31mThere is a significant difference in the Stocks of rice and corn when grouped according to geolocation.\u001b[0m\n",
            "\u001b[31mThere is a significant difference in the Volume of rice and corn when grouped according to geolocation.\u001b[0m\n",
            "There is NO significant difference in the Area Harvested of rice and corn when grouped according to geolocation.\n",
            "\u001b[31mThere is a significant difference in the SU Gross Supply of rice and corn when grouped according to geolocation.\u001b[0m\n",
            "\u001b[31mThere is a significant difference in the UT Consumable of rice and corn when grouped according to geolocation.\u001b[0m\n",
            "\u001b[31mThere is a significant difference in the Farmgate Price of rice and corn when grouped according to geolocation.\u001b[0m\n",
            "\u001b[31mThere is a significant difference in the Wholesale Price of rice and corn when grouped according to geolocation.\u001b[0m\n",
            "\u001b[31mThere is a significant difference in the Retail Price of rice and corn when grouped according to geolocation.\u001b[0m\n",
            "\u001b[31mThere is a significant difference in the Stocks of rice and corn when grouped according to geolocation.\u001b[0m\n",
            "\u001b[31mThere is a significant difference in the Volume of rice and corn when grouped according to geolocation.\u001b[0m\n",
            "There is NO significant difference in the Area Harvested of rice and corn when grouped according to geolocation.\n",
            "\u001b[31mThere is a significant difference in the SU Gross Supply of rice and corn when grouped according to geolocation.\u001b[0m\n",
            "\u001b[31mThere is a significant difference in the UT Consumable of rice and corn when grouped according to geolocation.\u001b[0m\n",
            "\u001b[31mThere is a significant difference in the Farmgate Price of rice and corn when grouped according to geolocation.\u001b[0m\n",
            "\u001b[31mThere is a significant difference in the Wholesale Price of rice and corn when grouped according to geolocation.\u001b[0m\n",
            "\u001b[31mThere is a significant difference in the Retail Price of rice and corn when grouped according to geolocation.\u001b[0m\n",
            "\u001b[31mThere is a significant difference in the Stocks of rice and corn when grouped according to geolocation.\u001b[0m\n",
            "\u001b[31mThere is a significant difference in the Volume of rice and corn when grouped according to geolocation.\u001b[0m\n",
            "There is NO significant difference in the Area Harvested of rice and corn when grouped according to geolocation.\n",
            "\u001b[31mThere is a significant difference in the SU Gross Supply of rice and corn when grouped according to geolocation.\u001b[0m\n",
            "\u001b[31mThere is a significant difference in the UT Consumable of rice and corn when grouped according to geolocation.\u001b[0m\n",
            "\u001b[31mThere is a significant difference in the Farmgate Price of rice and corn when grouped according to geolocation.\u001b[0m\n",
            "\u001b[31mThere is a significant difference in the Wholesale Price of rice and corn when grouped according to geolocation.\u001b[0m\n",
            "\u001b[31mThere is a significant difference in the Retail Price of rice and corn when grouped according to geolocation.\u001b[0m\n",
            "\u001b[31mThere is a significant difference in the Stocks of rice and corn when grouped according to geolocation.\u001b[0m\n",
            "\u001b[31mThere is a significant difference in the Volume of rice and corn when grouped according to geolocation.\u001b[0m\n",
            "There is NO significant difference in the Area Harvested of rice and corn when grouped according to geolocation.\n",
            "\u001b[31mThere is a significant difference in the SU Gross Supply of rice and corn when grouped according to geolocation.\u001b[0m\n",
            "\u001b[31mThere is a significant difference in the UT Consumable of rice and corn when grouped according to geolocation.\u001b[0m\n",
            "\u001b[31mThere is a significant difference in the Farmgate Price of rice and corn when grouped according to geolocation.\u001b[0m\n",
            "\u001b[31mThere is a significant difference in the Wholesale Price of rice and corn when grouped according to geolocation.\u001b[0m\n",
            "\u001b[31mThere is a significant difference in the Retail Price of rice and corn when grouped according to geolocation.\u001b[0m\n",
            "\u001b[31mThere is a significant difference in the Stocks of rice and corn when grouped according to geolocation.\u001b[0m\n",
            "\u001b[31mThere is a significant difference in the Volume of rice and corn when grouped according to geolocation.\u001b[0m\n",
            "There is NO significant difference in the Area Harvested of rice and corn when grouped according to geolocation.\n",
            "\u001b[31mThere is a significant difference in the SU Gross Supply of rice and corn when grouped according to geolocation.\u001b[0m\n",
            "\u001b[31mThere is a significant difference in the UT Consumable of rice and corn when grouped according to geolocation.\u001b[0m\n",
            "\u001b[31mThere is a significant difference in the Farmgate Price of rice and corn when grouped according to geolocation.\u001b[0m\n",
            "\u001b[31mThere is a significant difference in the Wholesale Price of rice and corn when grouped according to geolocation.\u001b[0m\n",
            "\u001b[31mThere is a significant difference in the Retail Price of rice and corn when grouped according to geolocation.\u001b[0m\n",
            "\u001b[31mThere is a significant difference in the Stocks of rice and corn when grouped according to geolocation.\u001b[0m\n",
            "\u001b[31mThere is a significant difference in the Volume of rice and corn when grouped according to geolocation.\u001b[0m\n",
            "There is NO significant difference in the Area Harvested of rice and corn when grouped according to geolocation.\n",
            "\u001b[31mThere is a significant difference in the SU Gross Supply of rice and corn when grouped according to geolocation.\u001b[0m\n",
            "\u001b[31mThere is a significant difference in the UT Consumable of rice and corn when grouped according to geolocation.\u001b[0m\n",
            "\u001b[31mThere is a significant difference in the Farmgate Price of rice and corn when grouped according to geolocation.\u001b[0m\n",
            "\u001b[31mThere is a significant difference in the Wholesale Price of rice and corn when grouped according to geolocation.\u001b[0m\n",
            "\u001b[31mThere is a significant difference in the Retail Price of rice and corn when grouped according to geolocation.\u001b[0m\n",
            "\u001b[31mThere is a significant difference in the Stocks of rice and corn when grouped according to geolocation.\u001b[0m\n",
            "\u001b[31mThere is a significant difference in the Volume of rice and corn when grouped according to geolocation.\u001b[0m\n",
            "There is NO significant difference in the Area Harvested of rice and corn when grouped according to geolocation.\n",
            "\u001b[31mThere is a significant difference in the SU Gross Supply of rice and corn when grouped according to geolocation.\u001b[0m\n",
            "\u001b[31mThere is a significant difference in the UT Consumable of rice and corn when grouped according to geolocation.\u001b[0m\n",
            "\u001b[31mThere is a significant difference in the Farmgate Price of rice and corn when grouped according to geolocation.\u001b[0m\n",
            "\u001b[31mThere is a significant difference in the Wholesale Price of rice and corn when grouped according to geolocation.\u001b[0m\n",
            "\u001b[31mThere is a significant difference in the Retail Price of rice and corn when grouped according to geolocation.\u001b[0m\n",
            "\u001b[31mThere is a significant difference in the Stocks of rice and corn when grouped according to geolocation.\u001b[0m\n",
            "\u001b[31mThere is a significant difference in the Volume of rice and corn when grouped according to geolocation.\u001b[0m\n",
            "There is NO significant difference in the Area Harvested of rice and corn when grouped according to geolocation.\n",
            "\u001b[31mThere is a significant difference in the SU Gross Supply of rice and corn when grouped according to geolocation.\u001b[0m\n",
            "\u001b[31mThere is a significant difference in the UT Consumable of rice and corn when grouped according to geolocation.\u001b[0m\n",
            "\u001b[31mThere is a significant difference in the Farmgate Price of rice and corn when grouped according to geolocation.\u001b[0m\n",
            "\u001b[31mThere is a significant difference in the Wholesale Price of rice and corn when grouped according to geolocation.\u001b[0m\n",
            "\u001b[31mThere is a significant difference in the Retail Price of rice and corn when grouped according to geolocation.\u001b[0m\n",
            "\u001b[31mThere is a significant difference in the Stocks of rice and corn when grouped according to geolocation.\u001b[0m\n",
            "\u001b[31mThere is a significant difference in the Volume of rice and corn when grouped according to geolocation.\u001b[0m\n",
            "There is NO significant difference in the Area Harvested of rice and corn when grouped according to geolocation.\n",
            "\u001b[31mThere is a significant difference in the SU Gross Supply of rice and corn when grouped according to geolocation.\u001b[0m\n",
            "\u001b[31mThere is a significant difference in the UT Consumable of rice and corn when grouped according to geolocation.\u001b[0m\n",
            "\u001b[31mThere is a significant difference in the Farmgate Price of rice and corn when grouped according to geolocation.\u001b[0m\n",
            "\u001b[31mThere is a significant difference in the Wholesale Price of rice and corn when grouped according to geolocation.\u001b[0m\n",
            "\u001b[31mThere is a significant difference in the Retail Price of rice and corn when grouped according to geolocation.\u001b[0m\n"
          ]
        },
        {
          "data": {
            "text/html": [
              "<div>\n",
              "<style scoped>\n",
              "    .dataframe tbody tr th:only-of-type {\n",
              "        vertical-align: middle;\n",
              "    }\n",
              "\n",
              "    .dataframe tbody tr th {\n",
              "        vertical-align: top;\n",
              "    }\n",
              "\n",
              "    .dataframe thead th {\n",
              "        text-align: right;\n",
              "    }\n",
              "</style>\n",
              "<table border=\"1\" class=\"dataframe\">\n",
              "  <thead>\n",
              "    <tr style=\"text-align: right;\">\n",
              "      <th></th>\n",
              "      <th>Commodity A</th>\n",
              "      <th>Commodity B</th>\n",
              "      <th>Grouping</th>\n",
              "      <th>Feature</th>\n",
              "      <th>t-stat</th>\n",
              "      <th>p-value</th>\n",
              "      <th>SigDiff</th>\n",
              "    </tr>\n",
              "  </thead>\n",
              "  <tbody>\n",
              "    <tr>\n",
              "      <th>0</th>\n",
              "      <td>Rice</td>\n",
              "      <td>Corn</td>\n",
              "      <td>Geolocation</td>\n",
              "      <td>Stocks</td>\n",
              "      <td>32.155</td>\n",
              "      <td>&lt;0.001</td>\n",
              "      <td>Exists</td>\n",
              "    </tr>\n",
              "    <tr>\n",
              "      <th>1</th>\n",
              "      <td>Rice</td>\n",
              "      <td>Corn</td>\n",
              "      <td>Geolocation</td>\n",
              "      <td>Volume</td>\n",
              "      <td>2.179</td>\n",
              "      <td>0.031</td>\n",
              "      <td>Exists</td>\n",
              "    </tr>\n",
              "    <tr>\n",
              "      <th>2</th>\n",
              "      <td>Rice</td>\n",
              "      <td>Corn</td>\n",
              "      <td>Geolocation</td>\n",
              "      <td>Area Harvested</td>\n",
              "      <td>0.772</td>\n",
              "      <td>0.441</td>\n",
              "      <td>Does not exist</td>\n",
              "    </tr>\n",
              "    <tr>\n",
              "      <th>3</th>\n",
              "      <td>Rice</td>\n",
              "      <td>Corn</td>\n",
              "      <td>Geolocation</td>\n",
              "      <td>SU Gross Supply</td>\n",
              "      <td>29.572</td>\n",
              "      <td>&lt;0.001</td>\n",
              "      <td>Exists</td>\n",
              "    </tr>\n",
              "    <tr>\n",
              "      <th>4</th>\n",
              "      <td>Rice</td>\n",
              "      <td>Corn</td>\n",
              "      <td>Geolocation</td>\n",
              "      <td>UT Consumable</td>\n",
              "      <td>36.641</td>\n",
              "      <td>&lt;0.001</td>\n",
              "      <td>Exists</td>\n",
              "    </tr>\n",
              "    <tr>\n",
              "      <th>...</th>\n",
              "      <td>...</td>\n",
              "      <td>...</td>\n",
              "      <td>...</td>\n",
              "      <td>...</td>\n",
              "      <td>...</td>\n",
              "      <td>...</td>\n",
              "      <td>...</td>\n",
              "    </tr>\n",
              "    <tr>\n",
              "      <th>123</th>\n",
              "      <td>Rice</td>\n",
              "      <td>Corn</td>\n",
              "      <td>Geolocation</td>\n",
              "      <td>SU Gross Supply</td>\n",
              "      <td>29.572</td>\n",
              "      <td>&lt;0.001</td>\n",
              "      <td>Exists</td>\n",
              "    </tr>\n",
              "    <tr>\n",
              "      <th>124</th>\n",
              "      <td>Rice</td>\n",
              "      <td>Corn</td>\n",
              "      <td>Geolocation</td>\n",
              "      <td>UT Consumable</td>\n",
              "      <td>36.641</td>\n",
              "      <td>&lt;0.001</td>\n",
              "      <td>Exists</td>\n",
              "    </tr>\n",
              "    <tr>\n",
              "      <th>125</th>\n",
              "      <td>Rice</td>\n",
              "      <td>Corn</td>\n",
              "      <td>Geolocation</td>\n",
              "      <td>Farmgate Price</td>\n",
              "      <td>14.296</td>\n",
              "      <td>&lt;0.001</td>\n",
              "      <td>Exists</td>\n",
              "    </tr>\n",
              "    <tr>\n",
              "      <th>126</th>\n",
              "      <td>Rice</td>\n",
              "      <td>Corn</td>\n",
              "      <td>Geolocation</td>\n",
              "      <td>Wholesale Price</td>\n",
              "      <td>18.131</td>\n",
              "      <td>&lt;0.001</td>\n",
              "      <td>Exists</td>\n",
              "    </tr>\n",
              "    <tr>\n",
              "      <th>127</th>\n",
              "      <td>Rice</td>\n",
              "      <td>Corn</td>\n",
              "      <td>Geolocation</td>\n",
              "      <td>Retail Price</td>\n",
              "      <td>25.410</td>\n",
              "      <td>&lt;0.001</td>\n",
              "      <td>Exists</td>\n",
              "    </tr>\n",
              "  </tbody>\n",
              "</table>\n",
              "<p>128 rows × 7 columns</p>\n",
              "</div>"
            ],
            "text/plain": [
              "    Commodity A Commodity B     Grouping          Feature  t-stat p-value  \\\n",
              "0          Rice        Corn  Geolocation           Stocks  32.155  <0.001   \n",
              "1          Rice        Corn  Geolocation           Volume   2.179   0.031   \n",
              "2          Rice        Corn  Geolocation   Area Harvested   0.772   0.441   \n",
              "3          Rice        Corn  Geolocation  SU Gross Supply  29.572  <0.001   \n",
              "4          Rice        Corn  Geolocation    UT Consumable  36.641  <0.001   \n",
              "..          ...         ...          ...              ...     ...     ...   \n",
              "123        Rice        Corn  Geolocation  SU Gross Supply  29.572  <0.001   \n",
              "124        Rice        Corn  Geolocation    UT Consumable  36.641  <0.001   \n",
              "125        Rice        Corn  Geolocation   Farmgate Price  14.296  <0.001   \n",
              "126        Rice        Corn  Geolocation  Wholesale Price  18.131  <0.001   \n",
              "127        Rice        Corn  Geolocation     Retail Price  25.410  <0.001   \n",
              "\n",
              "            SigDiff  \n",
              "0            Exists  \n",
              "1            Exists  \n",
              "2    Does not exist  \n",
              "3            Exists  \n",
              "4            Exists  \n",
              "..              ...  \n",
              "123          Exists  \n",
              "124          Exists  \n",
              "125          Exists  \n",
              "126          Exists  \n",
              "127          Exists  \n",
              "\n",
              "[128 rows x 7 columns]"
            ]
          },
          "execution_count": 67,
          "metadata": {},
          "output_type": "execute_result"
        }
      ],
      "source": [
        "# @title Hypotheses Testing H0.1 Significant Difference Test using Two-sample t-Test\n",
        "from termcolor import cprint\n",
        "\n",
        "def p_report(p: int) -> str|int:\n",
        "    if p >= 0.001:\n",
        "        return round(p, 3)\n",
        "    else:\n",
        "        return \"<0.001\"\n",
        "\n",
        "# NOTE: pearson|kendall|spearman\n",
        "grouped = df[[\"Commodity\", \"Geolocation\", \"Retail Price\"]].copy()\n",
        "imputer(grouped, 2)\n",
        "grouped = grouped.groupby([\"Commodity\", \"Geolocation\"])[\"Retail Price\"].mean()\n",
        "grouped = pd.DataFrame(grouped).reset_index()\n",
        "grouped = grouped[grouped.Geolocation != \"philippines\"]\n",
        "grouped[\"Geolocation\"] = grouped[\"Geolocation\"].replace(region_long_to_short)\n",
        "\n",
        "fig = px.histogram(grouped, x=\"Geolocation\", y=\"Retail Price\",\n",
        "             color='Commodity', barmode='group')\n",
        "fig.update_layout(template=\"plotly_dark\", xaxis_title=\"Geolocation\", yaxis_title = \"Average Retail Price\",\n",
        "                  title=\"Average Retail Price of Rice and Corn<br><sup>Some regions lack retail price data for either rice or corn</sup>\")\n",
        "fig.update_traces(hovertemplate=(\"Geolocation: %{x}<br><b>Avg. retail price: %{y}</b><extra></extra>\"))\n",
        "fig.show()\n",
        "\n",
        "fig_to_div(fig, \"plots/annual-regional/ALL_bar_retail-loc_div.html\")\n",
        "fig_to_html(fig, \"plots/annual-regional/ALL_bar_retail-loc.html\")\n",
        "fig_to_png(fig, \"plots/annual-regional/ALL_bar_retail-loc.png\")\n",
        "\n",
        "# Agrimarket Indicators for Annual-Regional Data\n",
        "# Is there a significant difference in commodity retail prices when grouped according to geolocation?\n",
        "tdf = pd.concat([df.iloc[:, 0:6], df.iloc[:, 8:13]], axis=1).dropna()\n",
        "tdf = tdf[tdf.Geolocation != \"philippines\"]\n",
        "indicators = tdf.columns[3:]\n",
        "cprint(\"Indicators tested are:\", \"blue\")\n",
        "print(*indicators, sep=\"\\n\")\n",
        "alpha = 0.05\n",
        "\n",
        "rice = tdf[tdf[\"Commodity\"] == \"Rice\"]\n",
        "corn = tdf[tdf[\"Commodity\"] == \"Corn\"]\n",
        "results = pd.DataFrame(columns=[\"Commodity A\", \"Commodity B\", \"Grouping\", \"Feature\", \"t-stat\", \"p-value\", \"SigDiff\"])\n",
        "for loc in tdf[\"Geolocation\"].unique():\n",
        "    tdf_ = tdf[tdf[\"Geolocation\"] == loc]\n",
        "    for var in tdf.columns[3:]:\n",
        "        rice_var = rice[var]\n",
        "        corn_var = corn[var]\n",
        "\n",
        "        # Perform the t-test:\n",
        "        t_stat, p_value = stats.ttest_ind(rice_var, corn_var)\n",
        "\n",
        "        # Interpret the results:\n",
        "        if p_value < alpha:\n",
        "            cprint(f\"There is a significant difference in the {var} of rice and corn when grouped according to geolocation.\", \"red\")\n",
        "            results.loc[len(results.index)] = [\"Rice\", \"Corn\", \"Geolocation\", var, round(t_stat,3), p_report(p_value), \"Exists\"]\n",
        "        else:\n",
        "            print(f\"There is NO significant difference in the {var} of rice and corn when grouped according to geolocation.\")\n",
        "            results.loc[len(results.index)] = [\"Rice\", \"Corn\", \"Geolocation\", var, round(t_stat,3), p_report(p_value), \"Does not exist\"]\n",
        "            \n",
        "results.to_html(\"results/hypothesis1.html\")\n",
        "results"
      ]
    },
    {
      "cell_type": "markdown",
      "metadata": {},
      "source": [
        "#### H0.2: Significant Relationship Test using Pearson's R Correlation Coefficient Test\n",
        "\n",
        "**Agricultural Indicators** tested are:\n",
        "- Stocks (core)\n",
        "- Volume (core)\n",
        "- Area Harvested (core)\n",
        "- Self-Sufficiency Ratio\n",
        "- Import-Dependency Ratio\n",
        "- SU Gross Supply\n",
        "- UT Consumable\n",
        "\n",
        "**Market or Socioeconomic Indicators** tested are:\n",
        "- Farmgate Price (core)\n",
        "- Wholesale Price (core)\n",
        "- Retail Price (core)\n",
        "- CPI All Income\n",
        "- CPI Bottom 30\n",
        "- Net Returns\n",
        "- Inflation Rate\n",
        "- NCR RPI"
      ]
    },
    {
      "cell_type": "code",
      "execution_count": 68,
      "metadata": {},
      "outputs": [
        {
          "data": {
            "application/vnd.plotly.v1+json": {
              "config": {
                "plotlyServerURL": "https://plot.ly"
              },
              "data": [
                {
                  "coloraxis": "coloraxis",
                  "hovertemplate": "x: %{x}<br>y: %{y}<br><b>Correlation: %{z}</b><extra></extra>",
                  "name": "0",
                  "texttemplate": "%{z:.2f}",
                  "type": "heatmap",
                  "x": [
                    "Farmgate Price",
                    "Wholesale Price",
                    "Retail Price",
                    "CPI All Income",
                    "CPI Bottom 30",
                    "Net Returns",
                    "Inflation Rate",
                    "NCR RPI"
                  ],
                  "xaxis": "x",
                  "y": [
                    "Stocks",
                    "Volume",
                    "Area Harvested",
                    "Self-Sufficiency Ratio",
                    "Import-Dependency Ratio",
                    "SU Gross Supply",
                    "UT Consumable"
                  ],
                  "yaxis": "y",
                  "z": [
                    [
                      0.8247873096547418,
                      0.8148379482482916,
                      0.6150150882005596,
                      0.004888117321738196,
                      0.017339050684731187,
                      0.4157195866369573,
                      -0.07860302211532916,
                      0.12516480020700435
                    ],
                    [
                      0.16002402891013173,
                      0.09010720113318413,
                      -0.010248794021028847,
                      -0.01613646583356064,
                      -0.01781396725513946,
                      0.20012011163692486,
                      0.009473995285389312,
                      0.013242222504322438
                    ],
                    [
                      0.11256969943404445,
                      0.02828048911147454,
                      -0.04503363602105461,
                      -0.01890525312181832,
                      -0.02271780826168751,
                      0.16446011669290936,
                      0.004335480556075731,
                      0.000296461794820429
                    ],
                    [
                      -0.36068307035362124,
                      -0.4439596872814033,
                      -0.3343732865284575,
                      -0.14293764889650223,
                      -0.12415851853932919,
                      -0.08271496545012583,
                      -0.14244785024126444,
                      -0.555216094224954
                    ],
                    [
                      0.36233865849474006,
                      0.4453044707654643,
                      0.33521943238984603,
                      0.14296366017610013,
                      0.12424232451893268,
                      0.08413934754994827,
                      0.1431221881870654,
                      0.5543688454305371
                    ],
                    [
                      0.8438350634769668,
                      0.849906266609855,
                      0.6326288830862902,
                      -0.004701726201887231,
                      -0.0012402191789399252,
                      0.3847711641873721,
                      0.07812638026831664,
                      0.21510052353538903
                    ],
                    [
                      0.8457417178065239,
                      0.8420577246722345,
                      0.6163120701033749,
                      -0.07512552083467502,
                      -0.06981671825191159,
                      0.3729615574910106,
                      0.06104036548259337,
                      0.12845490584089447
                    ]
                  ]
                }
              ],
              "layout": {
                "coloraxis": {
                  "colorscale": [
                    [
                      0,
                      "#0d0887"
                    ],
                    [
                      0.1111111111111111,
                      "#46039f"
                    ],
                    [
                      0.2222222222222222,
                      "#7201a8"
                    ],
                    [
                      0.3333333333333333,
                      "#9c179e"
                    ],
                    [
                      0.4444444444444444,
                      "#bd3786"
                    ],
                    [
                      0.5555555555555556,
                      "#d8576b"
                    ],
                    [
                      0.6666666666666666,
                      "#ed7953"
                    ],
                    [
                      0.7777777777777778,
                      "#fb9f3a"
                    ],
                    [
                      0.8888888888888888,
                      "#fdca26"
                    ],
                    [
                      1,
                      "#f0f921"
                    ]
                  ]
                },
                "template": {
                  "data": {
                    "bar": [
                      {
                        "error_x": {
                          "color": "#f2f5fa"
                        },
                        "error_y": {
                          "color": "#f2f5fa"
                        },
                        "marker": {
                          "line": {
                            "color": "rgb(17,17,17)",
                            "width": 0.5
                          },
                          "pattern": {
                            "fillmode": "overlay",
                            "size": 10,
                            "solidity": 0.2
                          }
                        },
                        "type": "bar"
                      }
                    ],
                    "barpolar": [
                      {
                        "marker": {
                          "line": {
                            "color": "rgb(17,17,17)",
                            "width": 0.5
                          },
                          "pattern": {
                            "fillmode": "overlay",
                            "size": 10,
                            "solidity": 0.2
                          }
                        },
                        "type": "barpolar"
                      }
                    ],
                    "carpet": [
                      {
                        "aaxis": {
                          "endlinecolor": "#A2B1C6",
                          "gridcolor": "#506784",
                          "linecolor": "#506784",
                          "minorgridcolor": "#506784",
                          "startlinecolor": "#A2B1C6"
                        },
                        "baxis": {
                          "endlinecolor": "#A2B1C6",
                          "gridcolor": "#506784",
                          "linecolor": "#506784",
                          "minorgridcolor": "#506784",
                          "startlinecolor": "#A2B1C6"
                        },
                        "type": "carpet"
                      }
                    ],
                    "choropleth": [
                      {
                        "colorbar": {
                          "outlinewidth": 0,
                          "ticks": ""
                        },
                        "type": "choropleth"
                      }
                    ],
                    "contour": [
                      {
                        "colorbar": {
                          "outlinewidth": 0,
                          "ticks": ""
                        },
                        "colorscale": [
                          [
                            0,
                            "#0d0887"
                          ],
                          [
                            0.1111111111111111,
                            "#46039f"
                          ],
                          [
                            0.2222222222222222,
                            "#7201a8"
                          ],
                          [
                            0.3333333333333333,
                            "#9c179e"
                          ],
                          [
                            0.4444444444444444,
                            "#bd3786"
                          ],
                          [
                            0.5555555555555556,
                            "#d8576b"
                          ],
                          [
                            0.6666666666666666,
                            "#ed7953"
                          ],
                          [
                            0.7777777777777778,
                            "#fb9f3a"
                          ],
                          [
                            0.8888888888888888,
                            "#fdca26"
                          ],
                          [
                            1,
                            "#f0f921"
                          ]
                        ],
                        "type": "contour"
                      }
                    ],
                    "contourcarpet": [
                      {
                        "colorbar": {
                          "outlinewidth": 0,
                          "ticks": ""
                        },
                        "type": "contourcarpet"
                      }
                    ],
                    "heatmap": [
                      {
                        "colorbar": {
                          "outlinewidth": 0,
                          "ticks": ""
                        },
                        "colorscale": [
                          [
                            0,
                            "#0d0887"
                          ],
                          [
                            0.1111111111111111,
                            "#46039f"
                          ],
                          [
                            0.2222222222222222,
                            "#7201a8"
                          ],
                          [
                            0.3333333333333333,
                            "#9c179e"
                          ],
                          [
                            0.4444444444444444,
                            "#bd3786"
                          ],
                          [
                            0.5555555555555556,
                            "#d8576b"
                          ],
                          [
                            0.6666666666666666,
                            "#ed7953"
                          ],
                          [
                            0.7777777777777778,
                            "#fb9f3a"
                          ],
                          [
                            0.8888888888888888,
                            "#fdca26"
                          ],
                          [
                            1,
                            "#f0f921"
                          ]
                        ],
                        "type": "heatmap"
                      }
                    ],
                    "heatmapgl": [
                      {
                        "colorbar": {
                          "outlinewidth": 0,
                          "ticks": ""
                        },
                        "colorscale": [
                          [
                            0,
                            "#0d0887"
                          ],
                          [
                            0.1111111111111111,
                            "#46039f"
                          ],
                          [
                            0.2222222222222222,
                            "#7201a8"
                          ],
                          [
                            0.3333333333333333,
                            "#9c179e"
                          ],
                          [
                            0.4444444444444444,
                            "#bd3786"
                          ],
                          [
                            0.5555555555555556,
                            "#d8576b"
                          ],
                          [
                            0.6666666666666666,
                            "#ed7953"
                          ],
                          [
                            0.7777777777777778,
                            "#fb9f3a"
                          ],
                          [
                            0.8888888888888888,
                            "#fdca26"
                          ],
                          [
                            1,
                            "#f0f921"
                          ]
                        ],
                        "type": "heatmapgl"
                      }
                    ],
                    "histogram": [
                      {
                        "marker": {
                          "pattern": {
                            "fillmode": "overlay",
                            "size": 10,
                            "solidity": 0.2
                          }
                        },
                        "type": "histogram"
                      }
                    ],
                    "histogram2d": [
                      {
                        "colorbar": {
                          "outlinewidth": 0,
                          "ticks": ""
                        },
                        "colorscale": [
                          [
                            0,
                            "#0d0887"
                          ],
                          [
                            0.1111111111111111,
                            "#46039f"
                          ],
                          [
                            0.2222222222222222,
                            "#7201a8"
                          ],
                          [
                            0.3333333333333333,
                            "#9c179e"
                          ],
                          [
                            0.4444444444444444,
                            "#bd3786"
                          ],
                          [
                            0.5555555555555556,
                            "#d8576b"
                          ],
                          [
                            0.6666666666666666,
                            "#ed7953"
                          ],
                          [
                            0.7777777777777778,
                            "#fb9f3a"
                          ],
                          [
                            0.8888888888888888,
                            "#fdca26"
                          ],
                          [
                            1,
                            "#f0f921"
                          ]
                        ],
                        "type": "histogram2d"
                      }
                    ],
                    "histogram2dcontour": [
                      {
                        "colorbar": {
                          "outlinewidth": 0,
                          "ticks": ""
                        },
                        "colorscale": [
                          [
                            0,
                            "#0d0887"
                          ],
                          [
                            0.1111111111111111,
                            "#46039f"
                          ],
                          [
                            0.2222222222222222,
                            "#7201a8"
                          ],
                          [
                            0.3333333333333333,
                            "#9c179e"
                          ],
                          [
                            0.4444444444444444,
                            "#bd3786"
                          ],
                          [
                            0.5555555555555556,
                            "#d8576b"
                          ],
                          [
                            0.6666666666666666,
                            "#ed7953"
                          ],
                          [
                            0.7777777777777778,
                            "#fb9f3a"
                          ],
                          [
                            0.8888888888888888,
                            "#fdca26"
                          ],
                          [
                            1,
                            "#f0f921"
                          ]
                        ],
                        "type": "histogram2dcontour"
                      }
                    ],
                    "mesh3d": [
                      {
                        "colorbar": {
                          "outlinewidth": 0,
                          "ticks": ""
                        },
                        "type": "mesh3d"
                      }
                    ],
                    "parcoords": [
                      {
                        "line": {
                          "colorbar": {
                            "outlinewidth": 0,
                            "ticks": ""
                          }
                        },
                        "type": "parcoords"
                      }
                    ],
                    "pie": [
                      {
                        "automargin": true,
                        "type": "pie"
                      }
                    ],
                    "scatter": [
                      {
                        "marker": {
                          "line": {
                            "color": "#283442"
                          }
                        },
                        "type": "scatter"
                      }
                    ],
                    "scatter3d": [
                      {
                        "line": {
                          "colorbar": {
                            "outlinewidth": 0,
                            "ticks": ""
                          }
                        },
                        "marker": {
                          "colorbar": {
                            "outlinewidth": 0,
                            "ticks": ""
                          }
                        },
                        "type": "scatter3d"
                      }
                    ],
                    "scattercarpet": [
                      {
                        "marker": {
                          "colorbar": {
                            "outlinewidth": 0,
                            "ticks": ""
                          }
                        },
                        "type": "scattercarpet"
                      }
                    ],
                    "scattergeo": [
                      {
                        "marker": {
                          "colorbar": {
                            "outlinewidth": 0,
                            "ticks": ""
                          }
                        },
                        "type": "scattergeo"
                      }
                    ],
                    "scattergl": [
                      {
                        "marker": {
                          "line": {
                            "color": "#283442"
                          }
                        },
                        "type": "scattergl"
                      }
                    ],
                    "scattermapbox": [
                      {
                        "marker": {
                          "colorbar": {
                            "outlinewidth": 0,
                            "ticks": ""
                          }
                        },
                        "type": "scattermapbox"
                      }
                    ],
                    "scatterpolar": [
                      {
                        "marker": {
                          "colorbar": {
                            "outlinewidth": 0,
                            "ticks": ""
                          }
                        },
                        "type": "scatterpolar"
                      }
                    ],
                    "scatterpolargl": [
                      {
                        "marker": {
                          "colorbar": {
                            "outlinewidth": 0,
                            "ticks": ""
                          }
                        },
                        "type": "scatterpolargl"
                      }
                    ],
                    "scatterternary": [
                      {
                        "marker": {
                          "colorbar": {
                            "outlinewidth": 0,
                            "ticks": ""
                          }
                        },
                        "type": "scatterternary"
                      }
                    ],
                    "surface": [
                      {
                        "colorbar": {
                          "outlinewidth": 0,
                          "ticks": ""
                        },
                        "colorscale": [
                          [
                            0,
                            "#0d0887"
                          ],
                          [
                            0.1111111111111111,
                            "#46039f"
                          ],
                          [
                            0.2222222222222222,
                            "#7201a8"
                          ],
                          [
                            0.3333333333333333,
                            "#9c179e"
                          ],
                          [
                            0.4444444444444444,
                            "#bd3786"
                          ],
                          [
                            0.5555555555555556,
                            "#d8576b"
                          ],
                          [
                            0.6666666666666666,
                            "#ed7953"
                          ],
                          [
                            0.7777777777777778,
                            "#fb9f3a"
                          ],
                          [
                            0.8888888888888888,
                            "#fdca26"
                          ],
                          [
                            1,
                            "#f0f921"
                          ]
                        ],
                        "type": "surface"
                      }
                    ],
                    "table": [
                      {
                        "cells": {
                          "fill": {
                            "color": "#506784"
                          },
                          "line": {
                            "color": "rgb(17,17,17)"
                          }
                        },
                        "header": {
                          "fill": {
                            "color": "#2a3f5f"
                          },
                          "line": {
                            "color": "rgb(17,17,17)"
                          }
                        },
                        "type": "table"
                      }
                    ]
                  },
                  "layout": {
                    "annotationdefaults": {
                      "arrowcolor": "#f2f5fa",
                      "arrowhead": 0,
                      "arrowwidth": 1
                    },
                    "autotypenumbers": "strict",
                    "coloraxis": {
                      "colorbar": {
                        "outlinewidth": 0,
                        "ticks": ""
                      }
                    },
                    "colorscale": {
                      "diverging": [
                        [
                          0,
                          "#8e0152"
                        ],
                        [
                          0.1,
                          "#c51b7d"
                        ],
                        [
                          0.2,
                          "#de77ae"
                        ],
                        [
                          0.3,
                          "#f1b6da"
                        ],
                        [
                          0.4,
                          "#fde0ef"
                        ],
                        [
                          0.5,
                          "#f7f7f7"
                        ],
                        [
                          0.6,
                          "#e6f5d0"
                        ],
                        [
                          0.7,
                          "#b8e186"
                        ],
                        [
                          0.8,
                          "#7fbc41"
                        ],
                        [
                          0.9,
                          "#4d9221"
                        ],
                        [
                          1,
                          "#276419"
                        ]
                      ],
                      "sequential": [
                        [
                          0,
                          "#0d0887"
                        ],
                        [
                          0.1111111111111111,
                          "#46039f"
                        ],
                        [
                          0.2222222222222222,
                          "#7201a8"
                        ],
                        [
                          0.3333333333333333,
                          "#9c179e"
                        ],
                        [
                          0.4444444444444444,
                          "#bd3786"
                        ],
                        [
                          0.5555555555555556,
                          "#d8576b"
                        ],
                        [
                          0.6666666666666666,
                          "#ed7953"
                        ],
                        [
                          0.7777777777777778,
                          "#fb9f3a"
                        ],
                        [
                          0.8888888888888888,
                          "#fdca26"
                        ],
                        [
                          1,
                          "#f0f921"
                        ]
                      ],
                      "sequentialminus": [
                        [
                          0,
                          "#0d0887"
                        ],
                        [
                          0.1111111111111111,
                          "#46039f"
                        ],
                        [
                          0.2222222222222222,
                          "#7201a8"
                        ],
                        [
                          0.3333333333333333,
                          "#9c179e"
                        ],
                        [
                          0.4444444444444444,
                          "#bd3786"
                        ],
                        [
                          0.5555555555555556,
                          "#d8576b"
                        ],
                        [
                          0.6666666666666666,
                          "#ed7953"
                        ],
                        [
                          0.7777777777777778,
                          "#fb9f3a"
                        ],
                        [
                          0.8888888888888888,
                          "#fdca26"
                        ],
                        [
                          1,
                          "#f0f921"
                        ]
                      ]
                    },
                    "colorway": [
                      "#636efa",
                      "#EF553B",
                      "#00cc96",
                      "#ab63fa",
                      "#FFA15A",
                      "#19d3f3",
                      "#FF6692",
                      "#B6E880",
                      "#FF97FF",
                      "#FECB52"
                    ],
                    "font": {
                      "color": "#f2f5fa"
                    },
                    "geo": {
                      "bgcolor": "rgb(17,17,17)",
                      "lakecolor": "rgb(17,17,17)",
                      "landcolor": "rgb(17,17,17)",
                      "showlakes": true,
                      "showland": true,
                      "subunitcolor": "#506784"
                    },
                    "hoverlabel": {
                      "align": "left"
                    },
                    "hovermode": "closest",
                    "mapbox": {
                      "style": "dark"
                    },
                    "paper_bgcolor": "rgb(17,17,17)",
                    "plot_bgcolor": "rgb(17,17,17)",
                    "polar": {
                      "angularaxis": {
                        "gridcolor": "#506784",
                        "linecolor": "#506784",
                        "ticks": ""
                      },
                      "bgcolor": "rgb(17,17,17)",
                      "radialaxis": {
                        "gridcolor": "#506784",
                        "linecolor": "#506784",
                        "ticks": ""
                      }
                    },
                    "scene": {
                      "xaxis": {
                        "backgroundcolor": "rgb(17,17,17)",
                        "gridcolor": "#506784",
                        "gridwidth": 2,
                        "linecolor": "#506784",
                        "showbackground": true,
                        "ticks": "",
                        "zerolinecolor": "#C8D4E3"
                      },
                      "yaxis": {
                        "backgroundcolor": "rgb(17,17,17)",
                        "gridcolor": "#506784",
                        "gridwidth": 2,
                        "linecolor": "#506784",
                        "showbackground": true,
                        "ticks": "",
                        "zerolinecolor": "#C8D4E3"
                      },
                      "zaxis": {
                        "backgroundcolor": "rgb(17,17,17)",
                        "gridcolor": "#506784",
                        "gridwidth": 2,
                        "linecolor": "#506784",
                        "showbackground": true,
                        "ticks": "",
                        "zerolinecolor": "#C8D4E3"
                      }
                    },
                    "shapedefaults": {
                      "line": {
                        "color": "#f2f5fa"
                      }
                    },
                    "sliderdefaults": {
                      "bgcolor": "#C8D4E3",
                      "bordercolor": "rgb(17,17,17)",
                      "borderwidth": 1,
                      "tickwidth": 0
                    },
                    "ternary": {
                      "aaxis": {
                        "gridcolor": "#506784",
                        "linecolor": "#506784",
                        "ticks": ""
                      },
                      "baxis": {
                        "gridcolor": "#506784",
                        "linecolor": "#506784",
                        "ticks": ""
                      },
                      "bgcolor": "rgb(17,17,17)",
                      "caxis": {
                        "gridcolor": "#506784",
                        "linecolor": "#506784",
                        "ticks": ""
                      }
                    },
                    "title": {
                      "x": 0.05
                    },
                    "updatemenudefaults": {
                      "bgcolor": "#506784",
                      "borderwidth": 0
                    },
                    "xaxis": {
                      "automargin": true,
                      "gridcolor": "#283442",
                      "linecolor": "#506784",
                      "ticks": "",
                      "title": {
                        "standoff": 15
                      },
                      "zerolinecolor": "#283442",
                      "zerolinewidth": 2
                    },
                    "yaxis": {
                      "automargin": true,
                      "gridcolor": "#283442",
                      "linecolor": "#506784",
                      "ticks": "",
                      "title": {
                        "standoff": 15
                      },
                      "zerolinecolor": "#283442",
                      "zerolinewidth": 2
                    }
                  }
                },
                "title": {
                  "text": "Rice and Corn: Correlation Matrix on 340 Annual-Regional Samples"
                },
                "xaxis": {
                  "anchor": "y",
                  "constrain": "domain",
                  "domain": [
                    0,
                    1
                  ],
                  "scaleanchor": "y",
                  "title": {
                    "text": "Socioeconomic Indicator"
                  }
                },
                "yaxis": {
                  "anchor": "x",
                  "autorange": "reversed",
                  "constrain": "domain",
                  "domain": [
                    0,
                    1
                  ],
                  "title": {
                    "text": "Agricultural Indicator"
                  }
                }
              }
            }
          },
          "metadata": {},
          "output_type": "display_data"
        },
        {
          "data": {
            "application/vnd.plotly.v1+json": {
              "config": {
                "plotlyServerURL": "https://plot.ly"
              },
              "data": [
                {
                  "name": "Rice Volume",
                  "type": "scatter",
                  "x": [
                    "2012",
                    "2013",
                    "2014",
                    "2015",
                    "2016",
                    "2017",
                    "2018",
                    "2019",
                    "2020",
                    "2021"
                  ],
                  "xaxis": "x",
                  "y": [
                    18032525.47,
                    18439419.73,
                    18967826.17,
                    18149837.78,
                    17627244.82,
                    19276346.63,
                    19066093.94,
                    18814827.29,
                    19294855.51,
                    19960170.2
                  ],
                  "yaxis": "y"
                },
                {
                  "name": "Rice Retail Price",
                  "type": "scatter",
                  "x": [
                    "2012",
                    "2013",
                    "2014",
                    "2015",
                    "2016",
                    "2017",
                    "2018",
                    "2019",
                    "2020",
                    "2021"
                  ],
                  "xaxis": "x",
                  "y": [
                    33.47666666666667,
                    34.95250000000001,
                    39.7575,
                    39.46666666666667,
                    39.0175,
                    39.52,
                    43.36666666666667,
                    41.1575,
                    39.05166666666667,
                    38.279999999999994
                  ],
                  "yaxis": "y2"
                },
                {
                  "name": "Corn Volume",
                  "type": "scatter",
                  "x": [
                    "2012",
                    "2013",
                    "2014",
                    "2015",
                    "2016",
                    "2017",
                    "2018",
                    "2019",
                    "2020",
                    "2021"
                  ],
                  "xaxis": "x",
                  "y": [
                    7407068.35,
                    7377293.3,
                    7770602.74,
                    7518755.72,
                    7218816.55,
                    7914908.49,
                    7771918.63,
                    7978844.55,
                    8118545.88,
                    8287191.13
                  ],
                  "yaxis": "y"
                },
                {
                  "name": "Corn Retail Price",
                  "type": "scatter",
                  "x": [
                    "2012",
                    "2013",
                    "2014",
                    "2015",
                    "2016",
                    "2017",
                    "2018",
                    "2019",
                    "2020",
                    "2021"
                  ],
                  "xaxis": "x",
                  "y": [
                    24.6825,
                    24.361666666666668,
                    24.8175,
                    25.363333333333333,
                    25.43166666666666,
                    25.495833333333337,
                    28.216666666666665,
                    29.586666666666673,
                    30.983333333333334,
                    33.1575
                  ],
                  "yaxis": "y2"
                }
              ],
              "layout": {
                "hoverlabel": {
                  "bgcolor": "rgba(17,17,17,0.75)"
                },
                "hovermode": "x unified",
                "template": {
                  "data": {
                    "bar": [
                      {
                        "error_x": {
                          "color": "#f2f5fa"
                        },
                        "error_y": {
                          "color": "#f2f5fa"
                        },
                        "marker": {
                          "line": {
                            "color": "rgb(17,17,17)",
                            "width": 0.5
                          },
                          "pattern": {
                            "fillmode": "overlay",
                            "size": 10,
                            "solidity": 0.2
                          }
                        },
                        "type": "bar"
                      }
                    ],
                    "barpolar": [
                      {
                        "marker": {
                          "line": {
                            "color": "rgb(17,17,17)",
                            "width": 0.5
                          },
                          "pattern": {
                            "fillmode": "overlay",
                            "size": 10,
                            "solidity": 0.2
                          }
                        },
                        "type": "barpolar"
                      }
                    ],
                    "carpet": [
                      {
                        "aaxis": {
                          "endlinecolor": "#A2B1C6",
                          "gridcolor": "#506784",
                          "linecolor": "#506784",
                          "minorgridcolor": "#506784",
                          "startlinecolor": "#A2B1C6"
                        },
                        "baxis": {
                          "endlinecolor": "#A2B1C6",
                          "gridcolor": "#506784",
                          "linecolor": "#506784",
                          "minorgridcolor": "#506784",
                          "startlinecolor": "#A2B1C6"
                        },
                        "type": "carpet"
                      }
                    ],
                    "choropleth": [
                      {
                        "colorbar": {
                          "outlinewidth": 0,
                          "ticks": ""
                        },
                        "type": "choropleth"
                      }
                    ],
                    "contour": [
                      {
                        "colorbar": {
                          "outlinewidth": 0,
                          "ticks": ""
                        },
                        "colorscale": [
                          [
                            0,
                            "#0d0887"
                          ],
                          [
                            0.1111111111111111,
                            "#46039f"
                          ],
                          [
                            0.2222222222222222,
                            "#7201a8"
                          ],
                          [
                            0.3333333333333333,
                            "#9c179e"
                          ],
                          [
                            0.4444444444444444,
                            "#bd3786"
                          ],
                          [
                            0.5555555555555556,
                            "#d8576b"
                          ],
                          [
                            0.6666666666666666,
                            "#ed7953"
                          ],
                          [
                            0.7777777777777778,
                            "#fb9f3a"
                          ],
                          [
                            0.8888888888888888,
                            "#fdca26"
                          ],
                          [
                            1,
                            "#f0f921"
                          ]
                        ],
                        "type": "contour"
                      }
                    ],
                    "contourcarpet": [
                      {
                        "colorbar": {
                          "outlinewidth": 0,
                          "ticks": ""
                        },
                        "type": "contourcarpet"
                      }
                    ],
                    "heatmap": [
                      {
                        "colorbar": {
                          "outlinewidth": 0,
                          "ticks": ""
                        },
                        "colorscale": [
                          [
                            0,
                            "#0d0887"
                          ],
                          [
                            0.1111111111111111,
                            "#46039f"
                          ],
                          [
                            0.2222222222222222,
                            "#7201a8"
                          ],
                          [
                            0.3333333333333333,
                            "#9c179e"
                          ],
                          [
                            0.4444444444444444,
                            "#bd3786"
                          ],
                          [
                            0.5555555555555556,
                            "#d8576b"
                          ],
                          [
                            0.6666666666666666,
                            "#ed7953"
                          ],
                          [
                            0.7777777777777778,
                            "#fb9f3a"
                          ],
                          [
                            0.8888888888888888,
                            "#fdca26"
                          ],
                          [
                            1,
                            "#f0f921"
                          ]
                        ],
                        "type": "heatmap"
                      }
                    ],
                    "heatmapgl": [
                      {
                        "colorbar": {
                          "outlinewidth": 0,
                          "ticks": ""
                        },
                        "colorscale": [
                          [
                            0,
                            "#0d0887"
                          ],
                          [
                            0.1111111111111111,
                            "#46039f"
                          ],
                          [
                            0.2222222222222222,
                            "#7201a8"
                          ],
                          [
                            0.3333333333333333,
                            "#9c179e"
                          ],
                          [
                            0.4444444444444444,
                            "#bd3786"
                          ],
                          [
                            0.5555555555555556,
                            "#d8576b"
                          ],
                          [
                            0.6666666666666666,
                            "#ed7953"
                          ],
                          [
                            0.7777777777777778,
                            "#fb9f3a"
                          ],
                          [
                            0.8888888888888888,
                            "#fdca26"
                          ],
                          [
                            1,
                            "#f0f921"
                          ]
                        ],
                        "type": "heatmapgl"
                      }
                    ],
                    "histogram": [
                      {
                        "marker": {
                          "pattern": {
                            "fillmode": "overlay",
                            "size": 10,
                            "solidity": 0.2
                          }
                        },
                        "type": "histogram"
                      }
                    ],
                    "histogram2d": [
                      {
                        "colorbar": {
                          "outlinewidth": 0,
                          "ticks": ""
                        },
                        "colorscale": [
                          [
                            0,
                            "#0d0887"
                          ],
                          [
                            0.1111111111111111,
                            "#46039f"
                          ],
                          [
                            0.2222222222222222,
                            "#7201a8"
                          ],
                          [
                            0.3333333333333333,
                            "#9c179e"
                          ],
                          [
                            0.4444444444444444,
                            "#bd3786"
                          ],
                          [
                            0.5555555555555556,
                            "#d8576b"
                          ],
                          [
                            0.6666666666666666,
                            "#ed7953"
                          ],
                          [
                            0.7777777777777778,
                            "#fb9f3a"
                          ],
                          [
                            0.8888888888888888,
                            "#fdca26"
                          ],
                          [
                            1,
                            "#f0f921"
                          ]
                        ],
                        "type": "histogram2d"
                      }
                    ],
                    "histogram2dcontour": [
                      {
                        "colorbar": {
                          "outlinewidth": 0,
                          "ticks": ""
                        },
                        "colorscale": [
                          [
                            0,
                            "#0d0887"
                          ],
                          [
                            0.1111111111111111,
                            "#46039f"
                          ],
                          [
                            0.2222222222222222,
                            "#7201a8"
                          ],
                          [
                            0.3333333333333333,
                            "#9c179e"
                          ],
                          [
                            0.4444444444444444,
                            "#bd3786"
                          ],
                          [
                            0.5555555555555556,
                            "#d8576b"
                          ],
                          [
                            0.6666666666666666,
                            "#ed7953"
                          ],
                          [
                            0.7777777777777778,
                            "#fb9f3a"
                          ],
                          [
                            0.8888888888888888,
                            "#fdca26"
                          ],
                          [
                            1,
                            "#f0f921"
                          ]
                        ],
                        "type": "histogram2dcontour"
                      }
                    ],
                    "mesh3d": [
                      {
                        "colorbar": {
                          "outlinewidth": 0,
                          "ticks": ""
                        },
                        "type": "mesh3d"
                      }
                    ],
                    "parcoords": [
                      {
                        "line": {
                          "colorbar": {
                            "outlinewidth": 0,
                            "ticks": ""
                          }
                        },
                        "type": "parcoords"
                      }
                    ],
                    "pie": [
                      {
                        "automargin": true,
                        "type": "pie"
                      }
                    ],
                    "scatter": [
                      {
                        "marker": {
                          "line": {
                            "color": "#283442"
                          }
                        },
                        "type": "scatter"
                      }
                    ],
                    "scatter3d": [
                      {
                        "line": {
                          "colorbar": {
                            "outlinewidth": 0,
                            "ticks": ""
                          }
                        },
                        "marker": {
                          "colorbar": {
                            "outlinewidth": 0,
                            "ticks": ""
                          }
                        },
                        "type": "scatter3d"
                      }
                    ],
                    "scattercarpet": [
                      {
                        "marker": {
                          "colorbar": {
                            "outlinewidth": 0,
                            "ticks": ""
                          }
                        },
                        "type": "scattercarpet"
                      }
                    ],
                    "scattergeo": [
                      {
                        "marker": {
                          "colorbar": {
                            "outlinewidth": 0,
                            "ticks": ""
                          }
                        },
                        "type": "scattergeo"
                      }
                    ],
                    "scattergl": [
                      {
                        "marker": {
                          "line": {
                            "color": "#283442"
                          }
                        },
                        "type": "scattergl"
                      }
                    ],
                    "scattermapbox": [
                      {
                        "marker": {
                          "colorbar": {
                            "outlinewidth": 0,
                            "ticks": ""
                          }
                        },
                        "type": "scattermapbox"
                      }
                    ],
                    "scatterpolar": [
                      {
                        "marker": {
                          "colorbar": {
                            "outlinewidth": 0,
                            "ticks": ""
                          }
                        },
                        "type": "scatterpolar"
                      }
                    ],
                    "scatterpolargl": [
                      {
                        "marker": {
                          "colorbar": {
                            "outlinewidth": 0,
                            "ticks": ""
                          }
                        },
                        "type": "scatterpolargl"
                      }
                    ],
                    "scatterternary": [
                      {
                        "marker": {
                          "colorbar": {
                            "outlinewidth": 0,
                            "ticks": ""
                          }
                        },
                        "type": "scatterternary"
                      }
                    ],
                    "surface": [
                      {
                        "colorbar": {
                          "outlinewidth": 0,
                          "ticks": ""
                        },
                        "colorscale": [
                          [
                            0,
                            "#0d0887"
                          ],
                          [
                            0.1111111111111111,
                            "#46039f"
                          ],
                          [
                            0.2222222222222222,
                            "#7201a8"
                          ],
                          [
                            0.3333333333333333,
                            "#9c179e"
                          ],
                          [
                            0.4444444444444444,
                            "#bd3786"
                          ],
                          [
                            0.5555555555555556,
                            "#d8576b"
                          ],
                          [
                            0.6666666666666666,
                            "#ed7953"
                          ],
                          [
                            0.7777777777777778,
                            "#fb9f3a"
                          ],
                          [
                            0.8888888888888888,
                            "#fdca26"
                          ],
                          [
                            1,
                            "#f0f921"
                          ]
                        ],
                        "type": "surface"
                      }
                    ],
                    "table": [
                      {
                        "cells": {
                          "fill": {
                            "color": "#506784"
                          },
                          "line": {
                            "color": "rgb(17,17,17)"
                          }
                        },
                        "header": {
                          "fill": {
                            "color": "#2a3f5f"
                          },
                          "line": {
                            "color": "rgb(17,17,17)"
                          }
                        },
                        "type": "table"
                      }
                    ]
                  },
                  "layout": {
                    "annotationdefaults": {
                      "arrowcolor": "#f2f5fa",
                      "arrowhead": 0,
                      "arrowwidth": 1
                    },
                    "autotypenumbers": "strict",
                    "coloraxis": {
                      "colorbar": {
                        "outlinewidth": 0,
                        "ticks": ""
                      }
                    },
                    "colorscale": {
                      "diverging": [
                        [
                          0,
                          "#8e0152"
                        ],
                        [
                          0.1,
                          "#c51b7d"
                        ],
                        [
                          0.2,
                          "#de77ae"
                        ],
                        [
                          0.3,
                          "#f1b6da"
                        ],
                        [
                          0.4,
                          "#fde0ef"
                        ],
                        [
                          0.5,
                          "#f7f7f7"
                        ],
                        [
                          0.6,
                          "#e6f5d0"
                        ],
                        [
                          0.7,
                          "#b8e186"
                        ],
                        [
                          0.8,
                          "#7fbc41"
                        ],
                        [
                          0.9,
                          "#4d9221"
                        ],
                        [
                          1,
                          "#276419"
                        ]
                      ],
                      "sequential": [
                        [
                          0,
                          "#0d0887"
                        ],
                        [
                          0.1111111111111111,
                          "#46039f"
                        ],
                        [
                          0.2222222222222222,
                          "#7201a8"
                        ],
                        [
                          0.3333333333333333,
                          "#9c179e"
                        ],
                        [
                          0.4444444444444444,
                          "#bd3786"
                        ],
                        [
                          0.5555555555555556,
                          "#d8576b"
                        ],
                        [
                          0.6666666666666666,
                          "#ed7953"
                        ],
                        [
                          0.7777777777777778,
                          "#fb9f3a"
                        ],
                        [
                          0.8888888888888888,
                          "#fdca26"
                        ],
                        [
                          1,
                          "#f0f921"
                        ]
                      ],
                      "sequentialminus": [
                        [
                          0,
                          "#0d0887"
                        ],
                        [
                          0.1111111111111111,
                          "#46039f"
                        ],
                        [
                          0.2222222222222222,
                          "#7201a8"
                        ],
                        [
                          0.3333333333333333,
                          "#9c179e"
                        ],
                        [
                          0.4444444444444444,
                          "#bd3786"
                        ],
                        [
                          0.5555555555555556,
                          "#d8576b"
                        ],
                        [
                          0.6666666666666666,
                          "#ed7953"
                        ],
                        [
                          0.7777777777777778,
                          "#fb9f3a"
                        ],
                        [
                          0.8888888888888888,
                          "#fdca26"
                        ],
                        [
                          1,
                          "#f0f921"
                        ]
                      ]
                    },
                    "colorway": [
                      "#636efa",
                      "#EF553B",
                      "#00cc96",
                      "#ab63fa",
                      "#FFA15A",
                      "#19d3f3",
                      "#FF6692",
                      "#B6E880",
                      "#FF97FF",
                      "#FECB52"
                    ],
                    "font": {
                      "color": "#f2f5fa"
                    },
                    "geo": {
                      "bgcolor": "rgb(17,17,17)",
                      "lakecolor": "rgb(17,17,17)",
                      "landcolor": "rgb(17,17,17)",
                      "showlakes": true,
                      "showland": true,
                      "subunitcolor": "#506784"
                    },
                    "hoverlabel": {
                      "align": "left"
                    },
                    "hovermode": "closest",
                    "mapbox": {
                      "style": "dark"
                    },
                    "paper_bgcolor": "rgb(17,17,17)",
                    "plot_bgcolor": "rgb(17,17,17)",
                    "polar": {
                      "angularaxis": {
                        "gridcolor": "#506784",
                        "linecolor": "#506784",
                        "ticks": ""
                      },
                      "bgcolor": "rgb(17,17,17)",
                      "radialaxis": {
                        "gridcolor": "#506784",
                        "linecolor": "#506784",
                        "ticks": ""
                      }
                    },
                    "scene": {
                      "xaxis": {
                        "backgroundcolor": "rgb(17,17,17)",
                        "gridcolor": "#506784",
                        "gridwidth": 2,
                        "linecolor": "#506784",
                        "showbackground": true,
                        "ticks": "",
                        "zerolinecolor": "#C8D4E3"
                      },
                      "yaxis": {
                        "backgroundcolor": "rgb(17,17,17)",
                        "gridcolor": "#506784",
                        "gridwidth": 2,
                        "linecolor": "#506784",
                        "showbackground": true,
                        "ticks": "",
                        "zerolinecolor": "#C8D4E3"
                      },
                      "zaxis": {
                        "backgroundcolor": "rgb(17,17,17)",
                        "gridcolor": "#506784",
                        "gridwidth": 2,
                        "linecolor": "#506784",
                        "showbackground": true,
                        "ticks": "",
                        "zerolinecolor": "#C8D4E3"
                      }
                    },
                    "shapedefaults": {
                      "line": {
                        "color": "#f2f5fa"
                      }
                    },
                    "sliderdefaults": {
                      "bgcolor": "#C8D4E3",
                      "bordercolor": "rgb(17,17,17)",
                      "borderwidth": 1,
                      "tickwidth": 0
                    },
                    "ternary": {
                      "aaxis": {
                        "gridcolor": "#506784",
                        "linecolor": "#506784",
                        "ticks": ""
                      },
                      "baxis": {
                        "gridcolor": "#506784",
                        "linecolor": "#506784",
                        "ticks": ""
                      },
                      "bgcolor": "rgb(17,17,17)",
                      "caxis": {
                        "gridcolor": "#506784",
                        "linecolor": "#506784",
                        "ticks": ""
                      }
                    },
                    "title": {
                      "x": 0.05
                    },
                    "updatemenudefaults": {
                      "bgcolor": "#506784",
                      "borderwidth": 0
                    },
                    "xaxis": {
                      "automargin": true,
                      "gridcolor": "#283442",
                      "linecolor": "#506784",
                      "ticks": "",
                      "title": {
                        "standoff": 15
                      },
                      "zerolinecolor": "#283442",
                      "zerolinewidth": 2
                    },
                    "yaxis": {
                      "automargin": true,
                      "gridcolor": "#283442",
                      "linecolor": "#506784",
                      "ticks": "",
                      "title": {
                        "standoff": 15
                      },
                      "zerolinecolor": "#283442",
                      "zerolinewidth": 2
                    }
                  }
                },
                "title": {
                  "text": "Rice and Corn: Volume of Production and Retail Price in the Philippines<br><sup>Use the legends to <b>filter</b> to rice or corn only views.</sup>"
                },
                "xaxis": {
                  "anchor": "y",
                  "color": "rgba(205,208,212,0.75)",
                  "domain": [
                    0,
                    0.94
                  ],
                  "showspikes": true,
                  "title": {
                    "text": "Year"
                  }
                },
                "yaxis": {
                  "anchor": "x",
                  "domain": [
                    0,
                    1
                  ],
                  "title": {
                    "text": "Volume of Production (metric tons)"
                  }
                },
                "yaxis2": {
                  "anchor": "x",
                  "overlaying": "y",
                  "side": "right",
                  "title": {
                    "text": "Retail Price (in PHP)"
                  }
                }
              }
            }
          },
          "metadata": {},
          "output_type": "display_data"
        },
        {
          "data": {
            "application/vnd.plotly.v1+json": {
              "config": {
                "plotlyServerURL": "https://plot.ly"
              },
              "data": [
                {
                  "name": "Rice Stocks",
                  "type": "scatter",
                  "x": [
                    "2012",
                    "2013",
                    "2014",
                    "2015",
                    "2016",
                    "2017",
                    "2018",
                    "2019",
                    "2020",
                    "2021"
                  ],
                  "xaxis": "x",
                  "y": [
                    2227.093846153846,
                    2157.0515384615387,
                    2150.923076923077,
                    2579.6515384615386,
                    2819.688461538462,
                    2404.616923076923,
                    2095.564615384615,
                    2465.2923076923075,
                    2387.2207692307693,
                    2155.8138461538465
                  ],
                  "yaxis": "y"
                },
                {
                  "name": "Corn Stocks",
                  "type": "scatter",
                  "x": [
                    "2012",
                    "2013",
                    "2014",
                    "2015",
                    "2016",
                    "2017",
                    "2018",
                    "2019",
                    "2020",
                    "2021"
                  ],
                  "xaxis": "x",
                  "y": [
                    320.0123076923076,
                    331.1238461538462,
                    388.7415384615385,
                    408.52461538461534,
                    513.7215384615386,
                    993.0884615384615,
                    694.4630769230769,
                    890.8753846153847,
                    923.1153846153846,
                    794.0276923076924
                  ],
                  "yaxis": "y"
                },
                {
                  "name": "Inflation Rate",
                  "type": "scatter",
                  "x": [
                    "2012",
                    "2013",
                    "2014",
                    "2015",
                    "2016",
                    "2017",
                    "2018",
                    "2019",
                    "2020",
                    "2021"
                  ],
                  "xaxis": "x",
                  "y": [
                    3.16,
                    2.59,
                    3.59,
                    0.69,
                    1.23,
                    2.85,
                    5.31,
                    2.39,
                    2.39,
                    3.93
                  ],
                  "yaxis": "y2"
                }
              ],
              "layout": {
                "hoverlabel": {
                  "bgcolor": "rgba(17,17,17,0.75)"
                },
                "hovermode": "x unified",
                "template": {
                  "data": {
                    "bar": [
                      {
                        "error_x": {
                          "color": "#f2f5fa"
                        },
                        "error_y": {
                          "color": "#f2f5fa"
                        },
                        "marker": {
                          "line": {
                            "color": "rgb(17,17,17)",
                            "width": 0.5
                          },
                          "pattern": {
                            "fillmode": "overlay",
                            "size": 10,
                            "solidity": 0.2
                          }
                        },
                        "type": "bar"
                      }
                    ],
                    "barpolar": [
                      {
                        "marker": {
                          "line": {
                            "color": "rgb(17,17,17)",
                            "width": 0.5
                          },
                          "pattern": {
                            "fillmode": "overlay",
                            "size": 10,
                            "solidity": 0.2
                          }
                        },
                        "type": "barpolar"
                      }
                    ],
                    "carpet": [
                      {
                        "aaxis": {
                          "endlinecolor": "#A2B1C6",
                          "gridcolor": "#506784",
                          "linecolor": "#506784",
                          "minorgridcolor": "#506784",
                          "startlinecolor": "#A2B1C6"
                        },
                        "baxis": {
                          "endlinecolor": "#A2B1C6",
                          "gridcolor": "#506784",
                          "linecolor": "#506784",
                          "minorgridcolor": "#506784",
                          "startlinecolor": "#A2B1C6"
                        },
                        "type": "carpet"
                      }
                    ],
                    "choropleth": [
                      {
                        "colorbar": {
                          "outlinewidth": 0,
                          "ticks": ""
                        },
                        "type": "choropleth"
                      }
                    ],
                    "contour": [
                      {
                        "colorbar": {
                          "outlinewidth": 0,
                          "ticks": ""
                        },
                        "colorscale": [
                          [
                            0,
                            "#0d0887"
                          ],
                          [
                            0.1111111111111111,
                            "#46039f"
                          ],
                          [
                            0.2222222222222222,
                            "#7201a8"
                          ],
                          [
                            0.3333333333333333,
                            "#9c179e"
                          ],
                          [
                            0.4444444444444444,
                            "#bd3786"
                          ],
                          [
                            0.5555555555555556,
                            "#d8576b"
                          ],
                          [
                            0.6666666666666666,
                            "#ed7953"
                          ],
                          [
                            0.7777777777777778,
                            "#fb9f3a"
                          ],
                          [
                            0.8888888888888888,
                            "#fdca26"
                          ],
                          [
                            1,
                            "#f0f921"
                          ]
                        ],
                        "type": "contour"
                      }
                    ],
                    "contourcarpet": [
                      {
                        "colorbar": {
                          "outlinewidth": 0,
                          "ticks": ""
                        },
                        "type": "contourcarpet"
                      }
                    ],
                    "heatmap": [
                      {
                        "colorbar": {
                          "outlinewidth": 0,
                          "ticks": ""
                        },
                        "colorscale": [
                          [
                            0,
                            "#0d0887"
                          ],
                          [
                            0.1111111111111111,
                            "#46039f"
                          ],
                          [
                            0.2222222222222222,
                            "#7201a8"
                          ],
                          [
                            0.3333333333333333,
                            "#9c179e"
                          ],
                          [
                            0.4444444444444444,
                            "#bd3786"
                          ],
                          [
                            0.5555555555555556,
                            "#d8576b"
                          ],
                          [
                            0.6666666666666666,
                            "#ed7953"
                          ],
                          [
                            0.7777777777777778,
                            "#fb9f3a"
                          ],
                          [
                            0.8888888888888888,
                            "#fdca26"
                          ],
                          [
                            1,
                            "#f0f921"
                          ]
                        ],
                        "type": "heatmap"
                      }
                    ],
                    "heatmapgl": [
                      {
                        "colorbar": {
                          "outlinewidth": 0,
                          "ticks": ""
                        },
                        "colorscale": [
                          [
                            0,
                            "#0d0887"
                          ],
                          [
                            0.1111111111111111,
                            "#46039f"
                          ],
                          [
                            0.2222222222222222,
                            "#7201a8"
                          ],
                          [
                            0.3333333333333333,
                            "#9c179e"
                          ],
                          [
                            0.4444444444444444,
                            "#bd3786"
                          ],
                          [
                            0.5555555555555556,
                            "#d8576b"
                          ],
                          [
                            0.6666666666666666,
                            "#ed7953"
                          ],
                          [
                            0.7777777777777778,
                            "#fb9f3a"
                          ],
                          [
                            0.8888888888888888,
                            "#fdca26"
                          ],
                          [
                            1,
                            "#f0f921"
                          ]
                        ],
                        "type": "heatmapgl"
                      }
                    ],
                    "histogram": [
                      {
                        "marker": {
                          "pattern": {
                            "fillmode": "overlay",
                            "size": 10,
                            "solidity": 0.2
                          }
                        },
                        "type": "histogram"
                      }
                    ],
                    "histogram2d": [
                      {
                        "colorbar": {
                          "outlinewidth": 0,
                          "ticks": ""
                        },
                        "colorscale": [
                          [
                            0,
                            "#0d0887"
                          ],
                          [
                            0.1111111111111111,
                            "#46039f"
                          ],
                          [
                            0.2222222222222222,
                            "#7201a8"
                          ],
                          [
                            0.3333333333333333,
                            "#9c179e"
                          ],
                          [
                            0.4444444444444444,
                            "#bd3786"
                          ],
                          [
                            0.5555555555555556,
                            "#d8576b"
                          ],
                          [
                            0.6666666666666666,
                            "#ed7953"
                          ],
                          [
                            0.7777777777777778,
                            "#fb9f3a"
                          ],
                          [
                            0.8888888888888888,
                            "#fdca26"
                          ],
                          [
                            1,
                            "#f0f921"
                          ]
                        ],
                        "type": "histogram2d"
                      }
                    ],
                    "histogram2dcontour": [
                      {
                        "colorbar": {
                          "outlinewidth": 0,
                          "ticks": ""
                        },
                        "colorscale": [
                          [
                            0,
                            "#0d0887"
                          ],
                          [
                            0.1111111111111111,
                            "#46039f"
                          ],
                          [
                            0.2222222222222222,
                            "#7201a8"
                          ],
                          [
                            0.3333333333333333,
                            "#9c179e"
                          ],
                          [
                            0.4444444444444444,
                            "#bd3786"
                          ],
                          [
                            0.5555555555555556,
                            "#d8576b"
                          ],
                          [
                            0.6666666666666666,
                            "#ed7953"
                          ],
                          [
                            0.7777777777777778,
                            "#fb9f3a"
                          ],
                          [
                            0.8888888888888888,
                            "#fdca26"
                          ],
                          [
                            1,
                            "#f0f921"
                          ]
                        ],
                        "type": "histogram2dcontour"
                      }
                    ],
                    "mesh3d": [
                      {
                        "colorbar": {
                          "outlinewidth": 0,
                          "ticks": ""
                        },
                        "type": "mesh3d"
                      }
                    ],
                    "parcoords": [
                      {
                        "line": {
                          "colorbar": {
                            "outlinewidth": 0,
                            "ticks": ""
                          }
                        },
                        "type": "parcoords"
                      }
                    ],
                    "pie": [
                      {
                        "automargin": true,
                        "type": "pie"
                      }
                    ],
                    "scatter": [
                      {
                        "marker": {
                          "line": {
                            "color": "#283442"
                          }
                        },
                        "type": "scatter"
                      }
                    ],
                    "scatter3d": [
                      {
                        "line": {
                          "colorbar": {
                            "outlinewidth": 0,
                            "ticks": ""
                          }
                        },
                        "marker": {
                          "colorbar": {
                            "outlinewidth": 0,
                            "ticks": ""
                          }
                        },
                        "type": "scatter3d"
                      }
                    ],
                    "scattercarpet": [
                      {
                        "marker": {
                          "colorbar": {
                            "outlinewidth": 0,
                            "ticks": ""
                          }
                        },
                        "type": "scattercarpet"
                      }
                    ],
                    "scattergeo": [
                      {
                        "marker": {
                          "colorbar": {
                            "outlinewidth": 0,
                            "ticks": ""
                          }
                        },
                        "type": "scattergeo"
                      }
                    ],
                    "scattergl": [
                      {
                        "marker": {
                          "line": {
                            "color": "#283442"
                          }
                        },
                        "type": "scattergl"
                      }
                    ],
                    "scattermapbox": [
                      {
                        "marker": {
                          "colorbar": {
                            "outlinewidth": 0,
                            "ticks": ""
                          }
                        },
                        "type": "scattermapbox"
                      }
                    ],
                    "scatterpolar": [
                      {
                        "marker": {
                          "colorbar": {
                            "outlinewidth": 0,
                            "ticks": ""
                          }
                        },
                        "type": "scatterpolar"
                      }
                    ],
                    "scatterpolargl": [
                      {
                        "marker": {
                          "colorbar": {
                            "outlinewidth": 0,
                            "ticks": ""
                          }
                        },
                        "type": "scatterpolargl"
                      }
                    ],
                    "scatterternary": [
                      {
                        "marker": {
                          "colorbar": {
                            "outlinewidth": 0,
                            "ticks": ""
                          }
                        },
                        "type": "scatterternary"
                      }
                    ],
                    "surface": [
                      {
                        "colorbar": {
                          "outlinewidth": 0,
                          "ticks": ""
                        },
                        "colorscale": [
                          [
                            0,
                            "#0d0887"
                          ],
                          [
                            0.1111111111111111,
                            "#46039f"
                          ],
                          [
                            0.2222222222222222,
                            "#7201a8"
                          ],
                          [
                            0.3333333333333333,
                            "#9c179e"
                          ],
                          [
                            0.4444444444444444,
                            "#bd3786"
                          ],
                          [
                            0.5555555555555556,
                            "#d8576b"
                          ],
                          [
                            0.6666666666666666,
                            "#ed7953"
                          ],
                          [
                            0.7777777777777778,
                            "#fb9f3a"
                          ],
                          [
                            0.8888888888888888,
                            "#fdca26"
                          ],
                          [
                            1,
                            "#f0f921"
                          ]
                        ],
                        "type": "surface"
                      }
                    ],
                    "table": [
                      {
                        "cells": {
                          "fill": {
                            "color": "#506784"
                          },
                          "line": {
                            "color": "rgb(17,17,17)"
                          }
                        },
                        "header": {
                          "fill": {
                            "color": "#2a3f5f"
                          },
                          "line": {
                            "color": "rgb(17,17,17)"
                          }
                        },
                        "type": "table"
                      }
                    ]
                  },
                  "layout": {
                    "annotationdefaults": {
                      "arrowcolor": "#f2f5fa",
                      "arrowhead": 0,
                      "arrowwidth": 1
                    },
                    "autotypenumbers": "strict",
                    "coloraxis": {
                      "colorbar": {
                        "outlinewidth": 0,
                        "ticks": ""
                      }
                    },
                    "colorscale": {
                      "diverging": [
                        [
                          0,
                          "#8e0152"
                        ],
                        [
                          0.1,
                          "#c51b7d"
                        ],
                        [
                          0.2,
                          "#de77ae"
                        ],
                        [
                          0.3,
                          "#f1b6da"
                        ],
                        [
                          0.4,
                          "#fde0ef"
                        ],
                        [
                          0.5,
                          "#f7f7f7"
                        ],
                        [
                          0.6,
                          "#e6f5d0"
                        ],
                        [
                          0.7,
                          "#b8e186"
                        ],
                        [
                          0.8,
                          "#7fbc41"
                        ],
                        [
                          0.9,
                          "#4d9221"
                        ],
                        [
                          1,
                          "#276419"
                        ]
                      ],
                      "sequential": [
                        [
                          0,
                          "#0d0887"
                        ],
                        [
                          0.1111111111111111,
                          "#46039f"
                        ],
                        [
                          0.2222222222222222,
                          "#7201a8"
                        ],
                        [
                          0.3333333333333333,
                          "#9c179e"
                        ],
                        [
                          0.4444444444444444,
                          "#bd3786"
                        ],
                        [
                          0.5555555555555556,
                          "#d8576b"
                        ],
                        [
                          0.6666666666666666,
                          "#ed7953"
                        ],
                        [
                          0.7777777777777778,
                          "#fb9f3a"
                        ],
                        [
                          0.8888888888888888,
                          "#fdca26"
                        ],
                        [
                          1,
                          "#f0f921"
                        ]
                      ],
                      "sequentialminus": [
                        [
                          0,
                          "#0d0887"
                        ],
                        [
                          0.1111111111111111,
                          "#46039f"
                        ],
                        [
                          0.2222222222222222,
                          "#7201a8"
                        ],
                        [
                          0.3333333333333333,
                          "#9c179e"
                        ],
                        [
                          0.4444444444444444,
                          "#bd3786"
                        ],
                        [
                          0.5555555555555556,
                          "#d8576b"
                        ],
                        [
                          0.6666666666666666,
                          "#ed7953"
                        ],
                        [
                          0.7777777777777778,
                          "#fb9f3a"
                        ],
                        [
                          0.8888888888888888,
                          "#fdca26"
                        ],
                        [
                          1,
                          "#f0f921"
                        ]
                      ]
                    },
                    "colorway": [
                      "#636efa",
                      "#EF553B",
                      "#00cc96",
                      "#ab63fa",
                      "#FFA15A",
                      "#19d3f3",
                      "#FF6692",
                      "#B6E880",
                      "#FF97FF",
                      "#FECB52"
                    ],
                    "font": {
                      "color": "#f2f5fa"
                    },
                    "geo": {
                      "bgcolor": "rgb(17,17,17)",
                      "lakecolor": "rgb(17,17,17)",
                      "landcolor": "rgb(17,17,17)",
                      "showlakes": true,
                      "showland": true,
                      "subunitcolor": "#506784"
                    },
                    "hoverlabel": {
                      "align": "left"
                    },
                    "hovermode": "closest",
                    "mapbox": {
                      "style": "dark"
                    },
                    "paper_bgcolor": "rgb(17,17,17)",
                    "plot_bgcolor": "rgb(17,17,17)",
                    "polar": {
                      "angularaxis": {
                        "gridcolor": "#506784",
                        "linecolor": "#506784",
                        "ticks": ""
                      },
                      "bgcolor": "rgb(17,17,17)",
                      "radialaxis": {
                        "gridcolor": "#506784",
                        "linecolor": "#506784",
                        "ticks": ""
                      }
                    },
                    "scene": {
                      "xaxis": {
                        "backgroundcolor": "rgb(17,17,17)",
                        "gridcolor": "#506784",
                        "gridwidth": 2,
                        "linecolor": "#506784",
                        "showbackground": true,
                        "ticks": "",
                        "zerolinecolor": "#C8D4E3"
                      },
                      "yaxis": {
                        "backgroundcolor": "rgb(17,17,17)",
                        "gridcolor": "#506784",
                        "gridwidth": 2,
                        "linecolor": "#506784",
                        "showbackground": true,
                        "ticks": "",
                        "zerolinecolor": "#C8D4E3"
                      },
                      "zaxis": {
                        "backgroundcolor": "rgb(17,17,17)",
                        "gridcolor": "#506784",
                        "gridwidth": 2,
                        "linecolor": "#506784",
                        "showbackground": true,
                        "ticks": "",
                        "zerolinecolor": "#C8D4E3"
                      }
                    },
                    "shapedefaults": {
                      "line": {
                        "color": "#f2f5fa"
                      }
                    },
                    "sliderdefaults": {
                      "bgcolor": "#C8D4E3",
                      "bordercolor": "rgb(17,17,17)",
                      "borderwidth": 1,
                      "tickwidth": 0
                    },
                    "ternary": {
                      "aaxis": {
                        "gridcolor": "#506784",
                        "linecolor": "#506784",
                        "ticks": ""
                      },
                      "baxis": {
                        "gridcolor": "#506784",
                        "linecolor": "#506784",
                        "ticks": ""
                      },
                      "bgcolor": "rgb(17,17,17)",
                      "caxis": {
                        "gridcolor": "#506784",
                        "linecolor": "#506784",
                        "ticks": ""
                      }
                    },
                    "title": {
                      "x": 0.05
                    },
                    "updatemenudefaults": {
                      "bgcolor": "#506784",
                      "borderwidth": 0
                    },
                    "xaxis": {
                      "automargin": true,
                      "gridcolor": "#283442",
                      "linecolor": "#506784",
                      "ticks": "",
                      "title": {
                        "standoff": 15
                      },
                      "zerolinecolor": "#283442",
                      "zerolinewidth": 2
                    },
                    "yaxis": {
                      "automargin": true,
                      "gridcolor": "#283442",
                      "linecolor": "#506784",
                      "ticks": "",
                      "title": {
                        "standoff": 15
                      },
                      "zerolinecolor": "#283442",
                      "zerolinewidth": 2
                    }
                  }
                },
                "title": {
                  "text": "Rice and Corn: Stocks and National Inflation Rate in the Philippines<br><sup>Use the legends to <b>filter</b> to rice or corn only views.</sup>"
                },
                "xaxis": {
                  "anchor": "y",
                  "color": "rgba(205,208,212,0.75)",
                  "domain": [
                    0,
                    0.94
                  ],
                  "showspikes": true,
                  "title": {
                    "text": "Year"
                  }
                },
                "yaxis": {
                  "anchor": "x",
                  "domain": [
                    0,
                    1
                  ],
                  "title": {
                    "text": "Stocks (metric tons)"
                  }
                },
                "yaxis2": {
                  "anchor": "x",
                  "overlaying": "y",
                  "side": "right",
                  "title": {
                    "text": "Inflation Rate (in %)"
                  }
                }
              }
            }
          },
          "metadata": {},
          "output_type": "display_data"
        }
      ],
      "source": [
        "# @title Hypotheses Testing H0.2 Part 1: Correlation Visualization for all Commodities\n",
        "# NOTE: Only Volume-RetailPrice and Stocks-InflationRate correlations have been visualized using a line plot.\n",
        "#       These correspond to strong correlations you'd find at the correlation matrices (contingency).\n",
        "from termcolor import cprint\n",
        "\n",
        "# NOTE: pearson|kendall|spearman\n",
        "contingency = df.iloc[:, 3:].corr(method=\"pearson\")\n",
        "idx = list(contingency.columns).index(\"Farmgate Price\")\n",
        "cont_1 = contingency.iloc[:idx, idx:]\n",
        "fig = px.imshow(cont_1, text_auto=True, title=f\"Rice and Corn: Correlation Matrix on {df.shape[0]} Annual-Regional Samples\",\n",
        "                labels=dict(x=\"Socioeconomic Indicator\", y=\"Agricultural Indicator\"))\n",
        "fig.update_traces(\n",
        "    texttemplate='%{z:.2f}',\n",
        "    hovertemplate=(\"x: %{x}<br>y: %{y}<br><b>Correlation: %{z}</b><extra></extra>\")\n",
        ")\n",
        "fig.update_layout(template=\"plotly_dark\")\n",
        "fig.show()\n",
        "\n",
        "fig_to_div(fig, \"plots/annual-regional/ALL_heatmap_div.html\")\n",
        "fig_to_html(fig, \"plots/annual-regional/ALL_heatmap.html\")\n",
        "fig_to_png(fig, \"plots/annual-regional/ALL_heatmap.png\")\n",
        "\n",
        "# QUARTET PLOT for Rice Corn Volume Retail # NOTE: Pivot tables could be used but requires more processing.\n",
        "mask = (df[\"Geolocation\"] == \"philippines\")    # NOTE: Philippines only for overview\n",
        "tdf = df[mask][[\"Commodity\", \"Period\", \"Volume\", \"Retail Price\"]].copy()\n",
        "rice = tdf[tdf[\"Commodity\"] == \"Rice\"].drop(\"Commodity\", axis=1).rename(\n",
        "        {\"Volume\": \"Rice Volume\", \"Retail Price\": \"Rice Retail Price\"}, axis=1)\n",
        "corn = tdf[tdf[\"Commodity\"] == \"Corn\"].drop(\"Commodity\", axis=1).rename(\n",
        "        {\"Volume\": \"Corn Volume\", \"Retail Price\": \"Corn Retail Price\"}, axis=1)\n",
        "tdf = pd.merge(rice, corn, on=[\"Period\"])\n",
        "\n",
        "fig = quartet_plot(tdf, \"Period\", \"Rice Volume\", \"Rice Retail Price\", \"Corn Volume\", \"Corn Retail Price\",\n",
        "                \"Rice and Corn: Volume of Production and Retail Price in the Philippines<br><sup>Use the legends to <b>filter</b> to rice or corn only views.</sup>\",\n",
        "                \"Year\", \"Volume of Production (metric tons)\", \"Retail Price (in PHP)\")\n",
        "fig.update_layout(template=\"plotly_dark\", hovermode=\"x unified\", hoverlabel=dict(bgcolor=\"rgba(17,17,17,0.75)\"))\n",
        "fig.update_xaxes(showspikes=True, color=\"rgba(205,208,212,0.75)\")\n",
        "fig.show()\n",
        "\n",
        "fig_to_div(fig, \"plots/annual-regional/ALL_vol-retail_div.html\")\n",
        "fig_to_html(fig, \"plots/annual-regional/ALL_vol-retail.html\")\n",
        "fig_to_png(fig, \"plots/annual-regional/ALL_vol-retail.png\")\n",
        "\n",
        "# TRIPLET PLOT for Rice Corn Stocks Inflation\n",
        "mask = (df[\"Geolocation\"] == \"philippines\")    # NOTE: Philippines only for overview\n",
        "tdf = df[mask][[\"Commodity\", \"Period\", \"Stocks\", \"Inflation Rate\"]].copy()\n",
        "rice = tdf[tdf[\"Commodity\"] == \"Rice\"].drop(\"Commodity\", axis=1).rename(\n",
        "        {\"Stocks\": \"Rice Stocks\"}, axis=1)\n",
        "corn = tdf[tdf[\"Commodity\"] == \"Corn\"].drop(\"Commodity\", axis=1).rename(\n",
        "        {\"Stocks\": \"Corn Stocks\"}, axis=1)\n",
        "tdf = pd.merge(rice, corn, on=[\"Period\", \"Inflation Rate\"])\n",
        "\n",
        "fig = triplet_plot(tdf, \"Period\", \"Rice Stocks\", \"Corn Stocks\", \"Inflation Rate\",\n",
        "                \"Rice and Corn: Stocks and National Inflation Rate in the Philippines<br><sup>Use the legends to <b>filter</b> to rice or corn only views.</sup>\",\n",
        "                \"Year\", \"Stocks (metric tons)\", \"Inflation Rate (in %)\")\n",
        "fig.update_layout(template=\"plotly_dark\", hovermode=\"x unified\", hoverlabel=dict(bgcolor=\"rgba(17,17,17,0.75)\"))\n",
        "fig.update_xaxes(showspikes=True, color=\"rgba(205,208,212,0.75)\")\n",
        "fig.show()\n",
        "\n",
        "fig_to_div(fig, \"plots/annual-regional/ALL_stocks-inflation_div.html\")\n",
        "fig_to_html(fig, \"plots/annual-regional/ALL_stocks-inflation.html\")\n",
        "fig_to_png(fig, \"plots/annual-regional/ALL_stocks-inflation.png\")"
      ]
    },
    {
      "cell_type": "code",
      "execution_count": 69,
      "metadata": {},
      "outputs": [
        {
          "name": "stdout",
          "output_type": "stream",
          "text": [
            "<class 'pandas.core.frame.DataFrame'>\n",
            "RangeIndex: 0 entries\n",
            "Data columns (total 5 columns):\n",
            " #   Column           Non-Null Count  Dtype \n",
            "---  ------           --------------  ----- \n",
            " 0   AgriIndicator    0 non-null      object\n",
            " 1   MarketIndicator  0 non-null      object\n",
            " 2   r-stat           0 non-null      object\n",
            " 3   p-value          0 non-null      object\n",
            " 4   SigRel           0 non-null      object\n",
            "dtypes: object(5)\n",
            "memory usage: 132.0+ bytes\n",
            "\u001b[31mStocks <-> Farmgate Price = 0.0: Significant relationship exists.\u001b[0m\n",
            "\u001b[31mStocks <-> Wholesale Price = 0.0: Significant relationship exists.\u001b[0m\n",
            "\u001b[31mStocks <-> Retail Price = 0.0: Significant relationship exists.\u001b[0m\n",
            "Stocks </> CPI All Income = 0.405: No significant relationship exists.\n",
            "\u001b[31mStocks <-> CPI Bottom 30 = 0.005: Significant relationship exists.\u001b[0m\n",
            "\u001b[31mStocks <-> Net Returns = 0.012: Significant relationship exists.\u001b[0m\n",
            "\u001b[31mStocks <-> Inflation Rate = 0.004: Significant relationship exists.\u001b[0m\n",
            "Stocks </> NCR RPI = 0.14: No significant relationship exists.\n",
            "Volume </> Farmgate Price = 0.401: No significant relationship exists.\n",
            "Volume </> Wholesale Price = 0.262: No significant relationship exists.\n",
            "Volume </> Retail Price = 0.684: No significant relationship exists.\n",
            "Volume </> CPI All Income = 0.256: No significant relationship exists.\n",
            "Volume </> CPI Bottom 30 = 0.383: No significant relationship exists.\n",
            "\u001b[31mVolume <-> Net Returns = 0.048: Significant relationship exists.\u001b[0m\n",
            "Volume </> Inflation Rate = 0.82: No significant relationship exists.\n",
            "Volume </> NCR RPI = 0.604: No significant relationship exists.\n",
            "Area Harvested </> Farmgate Price = 0.073: No significant relationship exists.\n",
            "\u001b[31mArea Harvested <-> Wholesale Price = 0.039: Significant relationship exists.\u001b[0m\n",
            "Area Harvested </> Retail Price = 0.274: No significant relationship exists.\n",
            "Area Harvested </> CPI All Income = 0.293: No significant relationship exists.\n",
            "Area Harvested </> CPI Bottom 30 = 0.46: No significant relationship exists.\n",
            "Area Harvested </> Net Returns = 0.179: No significant relationship exists.\n",
            "Area Harvested </> Inflation Rate = 0.897: No significant relationship exists.\n",
            "Area Harvested </> NCR RPI = 0.769: No significant relationship exists.\n",
            "\u001b[31mSelf-Sufficiency Ratio <-> Farmgate Price = 0.02: Significant relationship exists.\u001b[0m\n",
            "\u001b[31mSelf-Sufficiency Ratio <-> Wholesale Price = 0.0: Significant relationship exists.\u001b[0m\n",
            "\u001b[31mSelf-Sufficiency Ratio <-> Retail Price = 0.0: Significant relationship exists.\u001b[0m\n",
            "\u001b[31mSelf-Sufficiency Ratio <-> CPI All Income = 0.0: Significant relationship exists.\u001b[0m\n",
            "\u001b[31mSelf-Sufficiency Ratio <-> CPI Bottom 30 = 0.0: Significant relationship exists.\u001b[0m\n",
            "Self-Sufficiency Ratio </> Net Returns = 0.12: No significant relationship exists.\n",
            "\u001b[31mSelf-Sufficiency Ratio <-> Inflation Rate = 0.002: Significant relationship exists.\u001b[0m\n",
            "\u001b[31mSelf-Sufficiency Ratio <-> NCR RPI = 0.0: Significant relationship exists.\u001b[0m\n",
            "\u001b[31mImport-Dependency Ratio <-> Farmgate Price = 0.019: Significant relationship exists.\u001b[0m\n",
            "\u001b[31mImport-Dependency Ratio <-> Wholesale Price = 0.0: Significant relationship exists.\u001b[0m\n",
            "\u001b[31mImport-Dependency Ratio <-> Retail Price = 0.0: Significant relationship exists.\u001b[0m\n",
            "\u001b[31mImport-Dependency Ratio <-> CPI All Income = 0.0: Significant relationship exists.\u001b[0m\n",
            "\u001b[31mImport-Dependency Ratio <-> CPI Bottom 30 = 0.0: Significant relationship exists.\u001b[0m\n",
            "Import-Dependency Ratio </> Net Returns = 0.125: No significant relationship exists.\n",
            "\u001b[31mImport-Dependency Ratio <-> Inflation Rate = 0.002: Significant relationship exists.\u001b[0m\n",
            "\u001b[31mImport-Dependency Ratio <-> NCR RPI = 0.0: Significant relationship exists.\u001b[0m\n",
            "\u001b[31mSU Gross Supply <-> Farmgate Price = 0.0: Significant relationship exists.\u001b[0m\n",
            "\u001b[31mSU Gross Supply <-> Wholesale Price = 0.0: Significant relationship exists.\u001b[0m\n",
            "\u001b[31mSU Gross Supply <-> Retail Price = 0.0: Significant relationship exists.\u001b[0m\n",
            "SU Gross Supply </> CPI All Income = 0.099: No significant relationship exists.\n",
            "\u001b[31mSU Gross Supply <-> CPI Bottom 30 = 0.003: Significant relationship exists.\u001b[0m\n",
            "SU Gross Supply </> Net Returns = 0.125: No significant relationship exists.\n",
            "SU Gross Supply </> Inflation Rate = 0.066: No significant relationship exists.\n",
            "\u001b[31mSU Gross Supply <-> NCR RPI = 0.0: Significant relationship exists.\u001b[0m\n",
            "\u001b[31mUT Consumable <-> Farmgate Price = 0.0: Significant relationship exists.\u001b[0m\n",
            "\u001b[31mUT Consumable <-> Wholesale Price = 0.0: Significant relationship exists.\u001b[0m\n",
            "\u001b[31mUT Consumable <-> Retail Price = 0.0: Significant relationship exists.\u001b[0m\n",
            "UT Consumable </> CPI All Income = 0.519: No significant relationship exists.\n",
            "\u001b[31mUT Consumable <-> CPI Bottom 30 = 0.033: Significant relationship exists.\u001b[0m\n",
            "UT Consumable </> Net Returns = 0.154: No significant relationship exists.\n",
            "UT Consumable </> Inflation Rate = 0.052: No significant relationship exists.\n",
            "\u001b[31mUT Consumable <-> NCR RPI = 0.0: Significant relationship exists.\u001b[0m\n"
          ]
        },
        {
          "data": {
            "text/html": [
              "<div>\n",
              "<style scoped>\n",
              "    .dataframe tbody tr th:only-of-type {\n",
              "        vertical-align: middle;\n",
              "    }\n",
              "\n",
              "    .dataframe tbody tr th {\n",
              "        vertical-align: top;\n",
              "    }\n",
              "\n",
              "    .dataframe thead th {\n",
              "        text-align: right;\n",
              "    }\n",
              "</style>\n",
              "<table border=\"1\" class=\"dataframe\">\n",
              "  <thead>\n",
              "    <tr style=\"text-align: right;\">\n",
              "      <th></th>\n",
              "      <th>AgriIndicator</th>\n",
              "      <th>MarketIndicator</th>\n",
              "      <th>r-stat</th>\n",
              "      <th>p-value</th>\n",
              "      <th>SigRel</th>\n",
              "    </tr>\n",
              "  </thead>\n",
              "  <tbody>\n",
              "    <tr>\n",
              "      <th>0</th>\n",
              "      <td>Stocks</td>\n",
              "      <td>Farmgate Price</td>\n",
              "      <td>0.686</td>\n",
              "      <td>&lt;0.001</td>\n",
              "      <td>Exists</td>\n",
              "    </tr>\n",
              "    <tr>\n",
              "      <th>1</th>\n",
              "      <td>Stocks</td>\n",
              "      <td>Wholesale Price</td>\n",
              "      <td>0.780</td>\n",
              "      <td>&lt;0.001</td>\n",
              "      <td>Exists</td>\n",
              "    </tr>\n",
              "    <tr>\n",
              "      <th>2</th>\n",
              "      <td>Stocks</td>\n",
              "      <td>Retail Price</td>\n",
              "      <td>0.829</td>\n",
              "      <td>&lt;0.001</td>\n",
              "      <td>Exists</td>\n",
              "    </tr>\n",
              "    <tr>\n",
              "      <th>3</th>\n",
              "      <td>Stocks</td>\n",
              "      <td>CPI All Income</td>\n",
              "      <td>0.061</td>\n",
              "      <td>0.405</td>\n",
              "      <td>Does not exist</td>\n",
              "    </tr>\n",
              "    <tr>\n",
              "      <th>4</th>\n",
              "      <td>Stocks</td>\n",
              "      <td>CPI Bottom 30</td>\n",
              "      <td>0.203</td>\n",
              "      <td>0.005</td>\n",
              "      <td>Exists</td>\n",
              "    </tr>\n",
              "    <tr>\n",
              "      <th>5</th>\n",
              "      <td>Stocks</td>\n",
              "      <td>Net Returns</td>\n",
              "      <td>0.182</td>\n",
              "      <td>0.012</td>\n",
              "      <td>Exists</td>\n",
              "    </tr>\n",
              "    <tr>\n",
              "      <th>6</th>\n",
              "      <td>Stocks</td>\n",
              "      <td>Inflation Rate</td>\n",
              "      <td>-0.208</td>\n",
              "      <td>0.004</td>\n",
              "      <td>Exists</td>\n",
              "    </tr>\n",
              "    <tr>\n",
              "      <th>7</th>\n",
              "      <td>Stocks</td>\n",
              "      <td>NCR RPI</td>\n",
              "      <td>0.108</td>\n",
              "      <td>0.14</td>\n",
              "      <td>Does not exist</td>\n",
              "    </tr>\n",
              "    <tr>\n",
              "      <th>8</th>\n",
              "      <td>Volume</td>\n",
              "      <td>Farmgate Price</td>\n",
              "      <td>-0.062</td>\n",
              "      <td>0.401</td>\n",
              "      <td>Does not exist</td>\n",
              "    </tr>\n",
              "    <tr>\n",
              "      <th>9</th>\n",
              "      <td>Volume</td>\n",
              "      <td>Wholesale Price</td>\n",
              "      <td>-0.082</td>\n",
              "      <td>0.262</td>\n",
              "      <td>Does not exist</td>\n",
              "    </tr>\n",
              "    <tr>\n",
              "      <th>10</th>\n",
              "      <td>Volume</td>\n",
              "      <td>Retail Price</td>\n",
              "      <td>-0.030</td>\n",
              "      <td>0.684</td>\n",
              "      <td>Does not exist</td>\n",
              "    </tr>\n",
              "    <tr>\n",
              "      <th>11</th>\n",
              "      <td>Volume</td>\n",
              "      <td>CPI All Income</td>\n",
              "      <td>0.083</td>\n",
              "      <td>0.256</td>\n",
              "      <td>Does not exist</td>\n",
              "    </tr>\n",
              "    <tr>\n",
              "      <th>12</th>\n",
              "      <td>Volume</td>\n",
              "      <td>CPI Bottom 30</td>\n",
              "      <td>0.064</td>\n",
              "      <td>0.383</td>\n",
              "      <td>Does not exist</td>\n",
              "    </tr>\n",
              "    <tr>\n",
              "      <th>13</th>\n",
              "      <td>Volume</td>\n",
              "      <td>Net Returns</td>\n",
              "      <td>0.145</td>\n",
              "      <td>0.048</td>\n",
              "      <td>Exists</td>\n",
              "    </tr>\n",
              "    <tr>\n",
              "      <th>14</th>\n",
              "      <td>Volume</td>\n",
              "      <td>Inflation Rate</td>\n",
              "      <td>0.017</td>\n",
              "      <td>0.82</td>\n",
              "      <td>Does not exist</td>\n",
              "    </tr>\n",
              "    <tr>\n",
              "      <th>15</th>\n",
              "      <td>Volume</td>\n",
              "      <td>NCR RPI</td>\n",
              "      <td>0.038</td>\n",
              "      <td>0.604</td>\n",
              "      <td>Does not exist</td>\n",
              "    </tr>\n",
              "    <tr>\n",
              "      <th>16</th>\n",
              "      <td>Area Harvested</td>\n",
              "      <td>Farmgate Price</td>\n",
              "      <td>-0.131</td>\n",
              "      <td>0.073</td>\n",
              "      <td>Does not exist</td>\n",
              "    </tr>\n",
              "    <tr>\n",
              "      <th>17</th>\n",
              "      <td>Area Harvested</td>\n",
              "      <td>Wholesale Price</td>\n",
              "      <td>-0.151</td>\n",
              "      <td>0.039</td>\n",
              "      <td>Exists</td>\n",
              "    </tr>\n",
              "    <tr>\n",
              "      <th>18</th>\n",
              "      <td>Area Harvested</td>\n",
              "      <td>Retail Price</td>\n",
              "      <td>-0.080</td>\n",
              "      <td>0.274</td>\n",
              "      <td>Does not exist</td>\n",
              "    </tr>\n",
              "    <tr>\n",
              "      <th>19</th>\n",
              "      <td>Area Harvested</td>\n",
              "      <td>CPI All Income</td>\n",
              "      <td>0.077</td>\n",
              "      <td>0.293</td>\n",
              "      <td>Does not exist</td>\n",
              "    </tr>\n",
              "    <tr>\n",
              "      <th>20</th>\n",
              "      <td>Area Harvested</td>\n",
              "      <td>CPI Bottom 30</td>\n",
              "      <td>0.054</td>\n",
              "      <td>0.46</td>\n",
              "      <td>Does not exist</td>\n",
              "    </tr>\n",
              "    <tr>\n",
              "      <th>21</th>\n",
              "      <td>Area Harvested</td>\n",
              "      <td>Net Returns</td>\n",
              "      <td>0.098</td>\n",
              "      <td>0.179</td>\n",
              "      <td>Does not exist</td>\n",
              "    </tr>\n",
              "    <tr>\n",
              "      <th>22</th>\n",
              "      <td>Area Harvested</td>\n",
              "      <td>Inflation Rate</td>\n",
              "      <td>0.010</td>\n",
              "      <td>0.897</td>\n",
              "      <td>Does not exist</td>\n",
              "    </tr>\n",
              "    <tr>\n",
              "      <th>23</th>\n",
              "      <td>Area Harvested</td>\n",
              "      <td>NCR RPI</td>\n",
              "      <td>0.022</td>\n",
              "      <td>0.769</td>\n",
              "      <td>Does not exist</td>\n",
              "    </tr>\n",
              "    <tr>\n",
              "      <th>24</th>\n",
              "      <td>Self-Sufficiency Ratio</td>\n",
              "      <td>Farmgate Price</td>\n",
              "      <td>-0.169</td>\n",
              "      <td>0.02</td>\n",
              "      <td>Exists</td>\n",
              "    </tr>\n",
              "    <tr>\n",
              "      <th>25</th>\n",
              "      <td>Self-Sufficiency Ratio</td>\n",
              "      <td>Wholesale Price</td>\n",
              "      <td>-0.374</td>\n",
              "      <td>&lt;0.001</td>\n",
              "      <td>Exists</td>\n",
              "    </tr>\n",
              "    <tr>\n",
              "      <th>26</th>\n",
              "      <td>Self-Sufficiency Ratio</td>\n",
              "      <td>Retail Price</td>\n",
              "      <td>-0.366</td>\n",
              "      <td>&lt;0.001</td>\n",
              "      <td>Exists</td>\n",
              "    </tr>\n",
              "    <tr>\n",
              "      <th>27</th>\n",
              "      <td>Self-Sufficiency Ratio</td>\n",
              "      <td>CPI All Income</td>\n",
              "      <td>-0.334</td>\n",
              "      <td>&lt;0.001</td>\n",
              "      <td>Exists</td>\n",
              "    </tr>\n",
              "    <tr>\n",
              "      <th>28</th>\n",
              "      <td>Self-Sufficiency Ratio</td>\n",
              "      <td>CPI Bottom 30</td>\n",
              "      <td>-0.254</td>\n",
              "      <td>&lt;0.001</td>\n",
              "      <td>Exists</td>\n",
              "    </tr>\n",
              "    <tr>\n",
              "      <th>29</th>\n",
              "      <td>Self-Sufficiency Ratio</td>\n",
              "      <td>Net Returns</td>\n",
              "      <td>0.114</td>\n",
              "      <td>0.12</td>\n",
              "      <td>Does not exist</td>\n",
              "    </tr>\n",
              "    <tr>\n",
              "      <th>30</th>\n",
              "      <td>Self-Sufficiency Ratio</td>\n",
              "      <td>Inflation Rate</td>\n",
              "      <td>-0.220</td>\n",
              "      <td>0.002</td>\n",
              "      <td>Exists</td>\n",
              "    </tr>\n",
              "    <tr>\n",
              "      <th>31</th>\n",
              "      <td>Self-Sufficiency Ratio</td>\n",
              "      <td>NCR RPI</td>\n",
              "      <td>-0.750</td>\n",
              "      <td>&lt;0.001</td>\n",
              "      <td>Exists</td>\n",
              "    </tr>\n",
              "    <tr>\n",
              "      <th>32</th>\n",
              "      <td>Import-Dependency Ratio</td>\n",
              "      <td>Farmgate Price</td>\n",
              "      <td>0.171</td>\n",
              "      <td>0.019</td>\n",
              "      <td>Exists</td>\n",
              "    </tr>\n",
              "    <tr>\n",
              "      <th>33</th>\n",
              "      <td>Import-Dependency Ratio</td>\n",
              "      <td>Wholesale Price</td>\n",
              "      <td>0.375</td>\n",
              "      <td>&lt;0.001</td>\n",
              "      <td>Exists</td>\n",
              "    </tr>\n",
              "    <tr>\n",
              "      <th>34</th>\n",
              "      <td>Import-Dependency Ratio</td>\n",
              "      <td>Retail Price</td>\n",
              "      <td>0.367</td>\n",
              "      <td>&lt;0.001</td>\n",
              "      <td>Exists</td>\n",
              "    </tr>\n",
              "    <tr>\n",
              "      <th>35</th>\n",
              "      <td>Import-Dependency Ratio</td>\n",
              "      <td>CPI All Income</td>\n",
              "      <td>0.334</td>\n",
              "      <td>&lt;0.001</td>\n",
              "      <td>Exists</td>\n",
              "    </tr>\n",
              "    <tr>\n",
              "      <th>36</th>\n",
              "      <td>Import-Dependency Ratio</td>\n",
              "      <td>CPI Bottom 30</td>\n",
              "      <td>0.255</td>\n",
              "      <td>&lt;0.001</td>\n",
              "      <td>Exists</td>\n",
              "    </tr>\n",
              "    <tr>\n",
              "      <th>37</th>\n",
              "      <td>Import-Dependency Ratio</td>\n",
              "      <td>Net Returns</td>\n",
              "      <td>-0.112</td>\n",
              "      <td>0.125</td>\n",
              "      <td>Does not exist</td>\n",
              "    </tr>\n",
              "    <tr>\n",
              "      <th>38</th>\n",
              "      <td>Import-Dependency Ratio</td>\n",
              "      <td>Inflation Rate</td>\n",
              "      <td>0.221</td>\n",
              "      <td>0.002</td>\n",
              "      <td>Exists</td>\n",
              "    </tr>\n",
              "    <tr>\n",
              "      <th>39</th>\n",
              "      <td>Import-Dependency Ratio</td>\n",
              "      <td>NCR RPI</td>\n",
              "      <td>0.749</td>\n",
              "      <td>&lt;0.001</td>\n",
              "      <td>Exists</td>\n",
              "    </tr>\n",
              "    <tr>\n",
              "      <th>40</th>\n",
              "      <td>SU Gross Supply</td>\n",
              "      <td>Farmgate Price</td>\n",
              "      <td>0.687</td>\n",
              "      <td>&lt;0.001</td>\n",
              "      <td>Exists</td>\n",
              "    </tr>\n",
              "    <tr>\n",
              "      <th>41</th>\n",
              "      <td>SU Gross Supply</td>\n",
              "      <td>Wholesale Price</td>\n",
              "      <td>0.834</td>\n",
              "      <td>&lt;0.001</td>\n",
              "      <td>Exists</td>\n",
              "    </tr>\n",
              "    <tr>\n",
              "      <th>42</th>\n",
              "      <td>SU Gross Supply</td>\n",
              "      <td>Retail Price</td>\n",
              "      <td>0.852</td>\n",
              "      <td>&lt;0.001</td>\n",
              "      <td>Exists</td>\n",
              "    </tr>\n",
              "    <tr>\n",
              "      <th>43</th>\n",
              "      <td>SU Gross Supply</td>\n",
              "      <td>CPI All Income</td>\n",
              "      <td>0.121</td>\n",
              "      <td>0.099</td>\n",
              "      <td>Does not exist</td>\n",
              "    </tr>\n",
              "    <tr>\n",
              "      <th>44</th>\n",
              "      <td>SU Gross Supply</td>\n",
              "      <td>CPI Bottom 30</td>\n",
              "      <td>0.217</td>\n",
              "      <td>0.003</td>\n",
              "      <td>Exists</td>\n",
              "    </tr>\n",
              "    <tr>\n",
              "      <th>45</th>\n",
              "      <td>SU Gross Supply</td>\n",
              "      <td>Net Returns</td>\n",
              "      <td>0.112</td>\n",
              "      <td>0.125</td>\n",
              "      <td>Does not exist</td>\n",
              "    </tr>\n",
              "    <tr>\n",
              "      <th>46</th>\n",
              "      <td>SU Gross Supply</td>\n",
              "      <td>Inflation Rate</td>\n",
              "      <td>0.134</td>\n",
              "      <td>0.066</td>\n",
              "      <td>Does not exist</td>\n",
              "    </tr>\n",
              "    <tr>\n",
              "      <th>47</th>\n",
              "      <td>SU Gross Supply</td>\n",
              "      <td>NCR RPI</td>\n",
              "      <td>0.395</td>\n",
              "      <td>&lt;0.001</td>\n",
              "      <td>Exists</td>\n",
              "    </tr>\n",
              "    <tr>\n",
              "      <th>48</th>\n",
              "      <td>UT Consumable</td>\n",
              "      <td>Farmgate Price</td>\n",
              "      <td>0.690</td>\n",
              "      <td>&lt;0.001</td>\n",
              "      <td>Exists</td>\n",
              "    </tr>\n",
              "    <tr>\n",
              "      <th>49</th>\n",
              "      <td>UT Consumable</td>\n",
              "      <td>Wholesale Price</td>\n",
              "      <td>0.823</td>\n",
              "      <td>&lt;0.001</td>\n",
              "      <td>Exists</td>\n",
              "    </tr>\n",
              "    <tr>\n",
              "      <th>50</th>\n",
              "      <td>UT Consumable</td>\n",
              "      <td>Retail Price</td>\n",
              "      <td>0.840</td>\n",
              "      <td>&lt;0.001</td>\n",
              "      <td>Exists</td>\n",
              "    </tr>\n",
              "    <tr>\n",
              "      <th>51</th>\n",
              "      <td>UT Consumable</td>\n",
              "      <td>CPI All Income</td>\n",
              "      <td>0.047</td>\n",
              "      <td>0.519</td>\n",
              "      <td>Does not exist</td>\n",
              "    </tr>\n",
              "    <tr>\n",
              "      <th>52</th>\n",
              "      <td>UT Consumable</td>\n",
              "      <td>CPI Bottom 30</td>\n",
              "      <td>0.156</td>\n",
              "      <td>0.033</td>\n",
              "      <td>Exists</td>\n",
              "    </tr>\n",
              "    <tr>\n",
              "      <th>53</th>\n",
              "      <td>UT Consumable</td>\n",
              "      <td>Net Returns</td>\n",
              "      <td>0.104</td>\n",
              "      <td>0.154</td>\n",
              "      <td>Does not exist</td>\n",
              "    </tr>\n",
              "    <tr>\n",
              "      <th>54</th>\n",
              "      <td>UT Consumable</td>\n",
              "      <td>Inflation Rate</td>\n",
              "      <td>0.142</td>\n",
              "      <td>0.052</td>\n",
              "      <td>Does not exist</td>\n",
              "    </tr>\n",
              "    <tr>\n",
              "      <th>55</th>\n",
              "      <td>UT Consumable</td>\n",
              "      <td>NCR RPI</td>\n",
              "      <td>0.322</td>\n",
              "      <td>&lt;0.001</td>\n",
              "      <td>Exists</td>\n",
              "    </tr>\n",
              "  </tbody>\n",
              "</table>\n",
              "</div>"
            ],
            "text/plain": [
              "              AgriIndicator  MarketIndicator  r-stat p-value          SigRel\n",
              "0                    Stocks   Farmgate Price   0.686  <0.001          Exists\n",
              "1                    Stocks  Wholesale Price   0.780  <0.001          Exists\n",
              "2                    Stocks     Retail Price   0.829  <0.001          Exists\n",
              "3                    Stocks   CPI All Income   0.061   0.405  Does not exist\n",
              "4                    Stocks    CPI Bottom 30   0.203   0.005          Exists\n",
              "5                    Stocks      Net Returns   0.182   0.012          Exists\n",
              "6                    Stocks   Inflation Rate  -0.208   0.004          Exists\n",
              "7                    Stocks          NCR RPI   0.108    0.14  Does not exist\n",
              "8                    Volume   Farmgate Price  -0.062   0.401  Does not exist\n",
              "9                    Volume  Wholesale Price  -0.082   0.262  Does not exist\n",
              "10                   Volume     Retail Price  -0.030   0.684  Does not exist\n",
              "11                   Volume   CPI All Income   0.083   0.256  Does not exist\n",
              "12                   Volume    CPI Bottom 30   0.064   0.383  Does not exist\n",
              "13                   Volume      Net Returns   0.145   0.048          Exists\n",
              "14                   Volume   Inflation Rate   0.017    0.82  Does not exist\n",
              "15                   Volume          NCR RPI   0.038   0.604  Does not exist\n",
              "16           Area Harvested   Farmgate Price  -0.131   0.073  Does not exist\n",
              "17           Area Harvested  Wholesale Price  -0.151   0.039          Exists\n",
              "18           Area Harvested     Retail Price  -0.080   0.274  Does not exist\n",
              "19           Area Harvested   CPI All Income   0.077   0.293  Does not exist\n",
              "20           Area Harvested    CPI Bottom 30   0.054    0.46  Does not exist\n",
              "21           Area Harvested      Net Returns   0.098   0.179  Does not exist\n",
              "22           Area Harvested   Inflation Rate   0.010   0.897  Does not exist\n",
              "23           Area Harvested          NCR RPI   0.022   0.769  Does not exist\n",
              "24   Self-Sufficiency Ratio   Farmgate Price  -0.169    0.02          Exists\n",
              "25   Self-Sufficiency Ratio  Wholesale Price  -0.374  <0.001          Exists\n",
              "26   Self-Sufficiency Ratio     Retail Price  -0.366  <0.001          Exists\n",
              "27   Self-Sufficiency Ratio   CPI All Income  -0.334  <0.001          Exists\n",
              "28   Self-Sufficiency Ratio    CPI Bottom 30  -0.254  <0.001          Exists\n",
              "29   Self-Sufficiency Ratio      Net Returns   0.114    0.12  Does not exist\n",
              "30   Self-Sufficiency Ratio   Inflation Rate  -0.220   0.002          Exists\n",
              "31   Self-Sufficiency Ratio          NCR RPI  -0.750  <0.001          Exists\n",
              "32  Import-Dependency Ratio   Farmgate Price   0.171   0.019          Exists\n",
              "33  Import-Dependency Ratio  Wholesale Price   0.375  <0.001          Exists\n",
              "34  Import-Dependency Ratio     Retail Price   0.367  <0.001          Exists\n",
              "35  Import-Dependency Ratio   CPI All Income   0.334  <0.001          Exists\n",
              "36  Import-Dependency Ratio    CPI Bottom 30   0.255  <0.001          Exists\n",
              "37  Import-Dependency Ratio      Net Returns  -0.112   0.125  Does not exist\n",
              "38  Import-Dependency Ratio   Inflation Rate   0.221   0.002          Exists\n",
              "39  Import-Dependency Ratio          NCR RPI   0.749  <0.001          Exists\n",
              "40          SU Gross Supply   Farmgate Price   0.687  <0.001          Exists\n",
              "41          SU Gross Supply  Wholesale Price   0.834  <0.001          Exists\n",
              "42          SU Gross Supply     Retail Price   0.852  <0.001          Exists\n",
              "43          SU Gross Supply   CPI All Income   0.121   0.099  Does not exist\n",
              "44          SU Gross Supply    CPI Bottom 30   0.217   0.003          Exists\n",
              "45          SU Gross Supply      Net Returns   0.112   0.125  Does not exist\n",
              "46          SU Gross Supply   Inflation Rate   0.134   0.066  Does not exist\n",
              "47          SU Gross Supply          NCR RPI   0.395  <0.001          Exists\n",
              "48            UT Consumable   Farmgate Price   0.690  <0.001          Exists\n",
              "49            UT Consumable  Wholesale Price   0.823  <0.001          Exists\n",
              "50            UT Consumable     Retail Price   0.840  <0.001          Exists\n",
              "51            UT Consumable   CPI All Income   0.047   0.519  Does not exist\n",
              "52            UT Consumable    CPI Bottom 30   0.156   0.033          Exists\n",
              "53            UT Consumable      Net Returns   0.104   0.154  Does not exist\n",
              "54            UT Consumable   Inflation Rate   0.142   0.052  Does not exist\n",
              "55            UT Consumable          NCR RPI   0.322  <0.001          Exists"
            ]
          },
          "execution_count": 69,
          "metadata": {},
          "output_type": "execute_result"
        }
      ],
      "source": [
        "# Hypothesis Testing H0.2 Part 2: Significant Relationship Test using Pearson's r\n",
        "# NOTE: Agri and Market Indicators for Annual-Regional Data\n",
        "tdf = df.dropna()\n",
        "agri_cols = df.columns[3:10]\n",
        "market_cols = df.columns[10:]\n",
        "alpha = 0.05\n",
        "results = pd.DataFrame(columns=[\"AgriIndicator\", \"MarketIndicator\", \"r-stat\", \"p-value\", \"SigRel\"])\n",
        "results.info()\n",
        "for x in agri_cols:\n",
        "    for y in market_cols:\n",
        "        agri, market = tdf[x], tdf[y]\n",
        "        r_stat, p_value = stats.pearsonr(agri, market)  # Pearson's r\n",
        "        if p_value < alpha:\n",
        "            cprint(f\"{x} <-> {y} = {round(p_value, 3)}: Significant relationship exists.\", \"red\")\n",
        "            results.loc[len(results.index)] = [x, y, round(r_stat,3), p_report(p_value), \"Exists\"]\n",
        "        else:\n",
        "            print(f\"{x} </> {y} = {round(p_value, 3)}: No significant relationship exists.\")\n",
        "            results.loc[len(results.index)] = [x, y, round(r_stat,3), p_report(p_value), \"Does not exist\"]\n",
        "results.to_html(\"results/hypothesis2.html\")\n",
        "results"
      ]
    },
    {
      "cell_type": "markdown",
      "metadata": {},
      "source": [
        "### Additional Exploration"
      ]
    },
    {
      "cell_type": "code",
      "execution_count": 70,
      "metadata": {},
      "outputs": [],
      "source": [
        "# NOTE: Choropleth Maps\n",
        "from urllib.request import urlopen\n",
        "import json\n",
        "url = \"https://raw.githubusercontent.com/faeldon/philippines-json-maps/master/2023/geojson/country/lowres/country.0.001.json\"\n",
        "with urlopen(url) as response:\n",
        "    counties = json.load(response)\n",
        "\n",
        "# fips_mapping = {}\n",
        "# for i in range(len(counties[\"features\"])):\n",
        "#     fips_mapping.update({counties[\"features\"][i][\"properties\"]['adm1_en'].lower(): counties[\"features\"][i][\"id\"]})\n",
        "# fips_mapping[\"mimaropa region (mimaropa)\"] = 1700000000\n",
        "# fips_mapping\n",
        "for i in range(len(counties[\"features\"])):\n",
        "    counties[\"features\"][i][\"properties\"]['adm1_en'] = counties[\"features\"][i][\"properties\"]['adm1_en'].lower()"
      ]
    },
    {
      "cell_type": "code",
      "execution_count": 71,
      "metadata": {},
      "outputs": [],
      "source": [
        "tdf = df.copy()\n",
        "# tdf[\"FIPS\"] = tdf[\"Geolocation\"].replace(fips_mapping)\n",
        "mask = (tdf[\"Geolocation\"] != \"philippines\") & (tdf[\"Commodity\"] == \"Rice\")\n",
        "tdf[\"Geolocation\"] = tdf[\"Geolocation\"].apply(lambda x: \"mimaropa region\" if x == \"mimaropa region (mimaropa)\" else x)\n",
        "tdf = tdf[mask]\n",
        "\n",
        "# long: 12.8797° N, lat: 121.7740° E\n",
        "\n",
        "var = \"Retail Price\"\n",
        "fig = px.choropleth_mapbox(tdf, geojson=counties, locations='Geolocation', color=var,\n",
        "                           featureidkey = \"properties.adm1_en\",\n",
        "                           mapbox_style=\"carto-positron\",\n",
        "                           color_continuous_scale=\"viridis\",\n",
        "                           zoom=4.5, center = {\"lat\": 12.8700, \"lon\": 121.7740},\n",
        "                           opacity=0.5,\n",
        "                           labels={f'{var}':f'{var} (in PHP)'},\n",
        "                           hover_data=[\"Geolocation\", \"Retail Price\"],\n",
        "                           animation_frame=\"Period\",\n",
        "                           animation_group=\"Geolocation\"\n",
        "                          )\n",
        "fig.update_layout(\n",
        "        autosize=False,\n",
        "        hoverlabel=dict(bgcolor=\"rgba(17,17,17,0.75)\"),\n",
        "        margin = dict(\n",
        "                l=0,\n",
        "                r=0,\n",
        "                b=0,\n",
        "                t=0,\n",
        "                pad=4,\n",
        "                autoexpand=True\n",
        "            ),\n",
        "            width=640,\n",
        "            height=640,\n",
        "    )\n",
        "fig[\"layout\"].pop(\"updatemenus\") # optional, drop animation buttons\n",
        "# fig.show()\n",
        "\n",
        "del fig\n"
      ]
    }
  ],
  "metadata": {
    "colab": {
      "include_colab_link": true,
      "provenance": [],
      "toc_visible": true
    },
    "kernelspec": {
      "display_name": "Python 3",
      "name": "python3"
    },
    "language_info": {
      "codemirror_mode": {
        "name": "ipython",
        "version": 3
      },
      "file_extension": ".py",
      "mimetype": "text/x-python",
      "name": "python",
      "nbconvert_exporter": "python",
      "pygments_lexer": "ipython3",
      "version": "3.11.8"
    }
  },
  "nbformat": 4,
  "nbformat_minor": 0
}
