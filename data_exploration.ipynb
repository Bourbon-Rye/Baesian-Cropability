{
  "cells": [
    {
      "cell_type": "markdown",
      "metadata": {
        "colab_type": "text",
        "id": "view-in-github"
      },
      "source": [
        "<a href=\"https://colab.research.google.com/github/Bourbon-Rye/Baesian-Cropability/blob/main/PilipiNuts_2023_Baesian_Cropability.ipynb\" target=\"_parent\"><img src=\"https://colab.research.google.com/assets/colab-badge.svg\" alt=\"Open In Colab\"/></a>"
      ]
    },
    {
      "cell_type": "markdown",
      "metadata": {},
      "source": [
        "# Setup"
      ]
    },
    {
      "cell_type": "code",
      "execution_count": 3,
      "metadata": {},
      "outputs": [],
      "source": [
        "\n",
        "# @Libraries\n",
        "import numpy as np\n",
        "import pandas as pd\n",
        "import seaborn as sns\n",
        "\n",
        "import plotly.express as px\n",
        "import plotly.graph_objects as go\n",
        "import matplotlib.pyplot as plt\n",
        "import json\n",
        "import re\n",
        "import functools\n",
        "\n",
        "from pathlib import Path\n",
        "from sklearn import preprocessing\n",
        "from plotly.subplots import make_subplots\n",
        "from scipy.stats import chi2_contingency\n",
        "from sklearn.impute import SimpleImputer"
      ]
    },
    {
      "cell_type": "code",
      "execution_count": 4,
      "metadata": {},
      "outputs": [
        {
          "name": "stdout",
          "output_type": "stream",
          "text": [
            "['areas outside national capital region (aoncr)', 'bangsamoro autonomous region in muslim mindanao (barmm)', 'cordillera administrative region (car)', 'mimaropa region (mimaropa)', 'national capital region (ncr)', 'region i (ilocos region)', 'region ii (cagayan valley)', 'region iii (central luzon)', 'region iv-a (calabarzon)', 'region ix (zamboanga peninsula)', 'region v (bicol region)', 'region vi (western visayas)', 'region vii (central visayas)', 'region viii (eastern visayas)', 'region x (northern mindanao)', 'region xi (davao region)', 'region xii (soccsksargen)', 'region xiii (caraga)']\n",
            "{'aoncr': 'areas outside national capital region (aoncr)', 'barmm': 'bangsamoro autonomous region in muslim mindanao (barmm)', 'car': 'cordillera administrative region (car)', 'mimaropa': 'mimaropa region (mimaropa)', 'ncr': 'national capital region (ncr)', 'ilocos region': 'region i (ilocos region)', 'cagayan valley': 'region ii (cagayan valley)', 'central luzon': 'region iii (central luzon)', 'calabarzon': 'region iv-a (calabarzon)', 'bicol region': 'region v (bicol region)', 'western visayas': 'region vi (western visayas)', 'central visayas': 'region vii (central visayas)', 'eastern visayas': 'region viii (eastern visayas)', 'zamboanga peninsula': 'region ix (zamboanga peninsula)', 'northern mindanao': 'region x (northern mindanao)', 'davao region': 'region xi (davao region)', 'soccsksargen': 'region xii (soccsksargen)', 'caraga': 'region xiii (caraga)'}\n"
          ]
        }
      ],
      "source": [
        "\n",
        "# @Utilities\n",
        "def read_csv_to_df(csvfile: Path, comment_symbol='#') -> pd.DataFrame:\n",
        "    \"\"\"Read CSV to DataFrame with comment validation.\n",
        "        Allows comment lines in CSVs where line[0] == comment_symbol.\n",
        "        Also removes newlines.\n",
        "        Does not recognize comment_symbol anywhere else. \n",
        "    \"\"\"\n",
        "    tempfile = Path('temp.csv')\n",
        "    with open(csvfile, 'r') as csv, open(tempfile, 'w+') as temp:\n",
        "        lines = csv.readlines()\n",
        "        for line in lines:\n",
        "            if line[0] != comment_symbol:\n",
        "                temp.write(line)\n",
        "    return pd.read_csv(tempfile)\n",
        "\n",
        "with open('datasets/region_provinces.json') as jsonfile:\n",
        "    regions_provinces = json.load(jsonfile)['PHILIPPINES']\n",
        "regions_provinces = {key.lower():regions_provinces[key] for key in regions_provinces}\n",
        "regions = regions_provinces.keys()\n",
        "provinces = set([item.lower() for key in regions for item in regions_provinces[key]])\n",
        "regions = set(regions)\n",
        "\n",
        "# NOTE: Fix for bad regions, thanks PSA\n",
        "bad_regions = ['AONCR', 'BARMM', 'CAR', 'MIMAROPA', 'NCR',\n",
        "           'Region 1', 'Region 2', 'Region 3', 'Region 4A',\n",
        "           'Region 5', 'Region 6', 'Region 7', 'Region 8',\n",
        "           'Region 9', 'Region 10', 'Region 11', 'Reg12', 'CARAGA']\n",
        "region_mapping = {bad.lower():good.lower() for (bad,good) in zip(bad_regions, regions_provinces.keys())}\n",
        "corrections = {\n",
        "    \"AUTONOMOUS REGION IN MUSLIM MINDANAO (ARMM)\": \"bangsamoro autonomous region in muslim mindanao (barmm)\",\n",
        "    \"autonomous region in muslim mindanao (armm)\": \"bangsamoro autonomous region in muslim mindanao (barmm)\",\n",
        "    \"mimaropa region\": \"mimaropa region (mimaropa)\"\n",
        "}\n",
        "region_mapping.update(corrections)\n",
        "\n",
        "temp = [key.split('(')[1].rstrip(')') for key in regions_provinces]\n",
        "region_short_to_short_long = {bad:good for (bad,good) in zip(temp, regions_provinces.keys())}\n",
        "print(sorted(regions))\n",
        "print(region_short_to_short_long)"
      ]
    },
    {
      "cell_type": "code",
      "execution_count": 5,
      "metadata": {},
      "outputs": [],
      "source": [
        "def is_region(x: str, regions=regions) -> bool:\n",
        "    x = x.strip(' .')\n",
        "    x = x.lower()\n",
        "    if x == \"cagayan\":\n",
        "        return False\n",
        "    for region in regions:\n",
        "        if x in region:\n",
        "            return True\n",
        "    else:\n",
        "        return False\n",
        "    \n",
        "def is_province(x: str, provinces=provinces) -> bool:\n",
        "    x = x.strip(' .')\n",
        "    x = x.lower()\n",
        "    for province in provinces:\n",
        "        if x in province:\n",
        "            return True\n",
        "    else:\n",
        "        return False\n",
        "\n",
        "def get_quarter_columns(df: pd.DataFrame, year_range: range, period_idx: int):\n",
        "    \"\"\"Assumes contiguous period columns and that columns before  are ID columns\"\"\"\n",
        "    df_quarter = df.iloc[:, :period_idx]\n",
        "    for year in year_range:\n",
        "        for q in range(0, 12, 3):\n",
        "            df_quarter[f\"{year} Q{q//3+1}\"] = df.filter(regex=str(year), axis=1).iloc[:, q:q+3].mean(axis=1)\n",
        "    return df_quarter\n",
        "\n",
        "def get_annual_columns(df: pd.DataFrame, year_range: range, period_idx: int):\n",
        "    \"\"\"Assumes contiguous period columns and that columns before year_start are ID columns\"\"\"\n",
        "    df_annual = df.iloc[:, :period_idx]\n",
        "    for year in year_range:\n",
        "        df_annual[f\"{year}\"] = df.filter(regex=str(year), axis=1).mean(axis=1)\n",
        "    return df_annual\n",
        "\n",
        "def swap_columns(df: pd.DataFrame, col1: str, col2: str):\n",
        "    col_list = list(df.columns)\n",
        "    x, y = col_list.index(col1), col_list.index(col2)\n",
        "    col_list[y], col_list[x] = col_list[x], col_list[y]\n",
        "    df = df[col_list]\n",
        "    return df\n",
        "\n",
        "def normalize(df: pd.DataFrame, col: str, minmax = True):\n",
        "    \"\"\"Can use mean normalization and minmax normalization.\"\"\"\n",
        "    tdf = df[col]\n",
        "    if minmax:\n",
        "        tdf = (tdf-tdf.min())/(tdf.max()-tdf.min())\n",
        "    else:\n",
        "        tdf = (tdf-tdf.mean())/tdf.std()\n",
        "    df[col] = tdf\n",
        "    return df\n",
        "\n",
        "def drop_rows_with_zeros(df: pd.DataFrame, ref_col_idx: int, all_zeros=False):\n",
        "    \"\"\"Drop rows if some values are zeros, or if all values are zeros.\n",
        "    Assumes contiguous reference columns, i.e. columns to use in deciding whether to drop.\"\"\"\n",
        "    return df[~(df.iloc[:, ref_col_idx:] == 0).all(axis=1)] if all_zeros else df[~(df.iloc[:, ref_col_idx:] == 0).any(axis=1)]\n",
        "\n",
        "def dual_plot(df: pd.DataFrame, y1: str, y2: str,\n",
        "              x_title: str, y1_title: str, y2_title: str, title_text: str):\n",
        "    fig = make_subplots(specs=[[{\"secondary_y\": True}]])\n",
        "    # Add traces\n",
        "    fig.add_trace(\n",
        "        go.Scatter(x=df.index, y=df[y1], name=y1),\n",
        "        secondary_y=False,\n",
        "    )\n",
        "    fig.add_trace(\n",
        "        go.Scatter(x=df.index, y=df[y2], name=y2),\n",
        "        secondary_y=True,\n",
        "    )\n",
        "    # Add titles\n",
        "    fig.update_layout(title_text=title_text)\n",
        "    fig.update_xaxes(title_text=x_title)\n",
        "    # Set y-axes titles\n",
        "    fig.update_yaxes(title_text=y1_title, secondary_y=False)\n",
        "    fig.update_yaxes(title_text=y2_title, secondary_y=True)\n",
        "\n",
        "    fig.show()\n",
        "\n",
        "def show_heatmap(df: pd.DataFrame):\n",
        "    fig = plt.figure(figsize=(15,10))\n",
        "    sns.heatmap(df.corr(method='pearson'), annot = True, cmap=\"Blues\")\n",
        "    plt.title(\"Correlation Heatmap\")\n",
        "    plt.show()\n",
        "    \n"
      ]
    },
    {
      "cell_type": "code",
      "execution_count": 6,
      "metadata": {},
      "outputs": [],
      "source": [
        "# OTG Cleanup\n",
        "# VALUE OF PRODUCTION (5/24/2024)\n",
        "datapath = Path(\"datasets/agricultural-indicators/value-of-production/\")\n",
        "writepath = Path(\"datasets\")\n",
        "\n",
        "files = list(datapath.glob(\"*.csv\"))\n",
        "df = pd.DataFrame()\n",
        "for file in files:\n",
        "    with open(file) as f:\n",
        "        region = f.readlines()[0].split(':')[0].lstrip(\"\\\"\")\n",
        "        if region == u\"\\ufeffTest\\n\":\n",
        "            region = \"Cordillera Administrative Region (CAR)\"\n",
        "        tdf = pd.read_csv(file, skiprows=1, na_values=\".\")\n",
        "        tdf[\"Geolocation\"] = region\n",
        "        df = pd.concat([df, tdf])\n",
        "df[\"Subsector\"] = \"Rice\"\n",
        "df.drop(columns=[\"Type of Valuation\"], inplace=True)\n",
        "df.rename({\"Subsector\": \"Commodity\"}, axis=1, inplace=True)\n",
        "\n",
        "# Imputation of VOP df\n",
        "imp = SimpleImputer(missing_values=pd.NA, strategy='mean')\n",
        "imp.fit(df.iloc[:, 1:-1])\n",
        "df[df.columns[1:-1]] = imp.transform(df.iloc[:, 1:-1])\n",
        "df_val_of_prod = df\n",
        "\n",
        "# Annualized rice stocks NOTE: Perhaps try to match this with the prices as this has monthly, for national only\n",
        "df = read_csv_to_df(\"datasets/cropyield/stocks-palay-corn_yearly_1980-2024.csv\")\n",
        "df.dropna(inplace=True)\n",
        "df = drop_rows_with_zeros(df, ref_col_idx=2, all_zeros=True)\n",
        "df = df[df[\"Sector\"] == \"Rice: Total Stock\"]\n",
        "df[\"Sector\"] = \"Rice\"\n",
        "df = pd.concat([df.iloc[:, :2], df.mean(axis=1, numeric_only=True)], axis=1)\n",
        "df.rename(columns={\"Sector\": \"Commodity\", \"Year\": \"Period\", 0: \"Stocks\"}, inplace=True)\n",
        "df[\"Period\"] = df[\"Period\"].astype(object)\n",
        "df = df[df[\"Period\"].isin(range(2012, 2024))]\n",
        "df_stocks = df"
      ]
    },
    {
      "cell_type": "markdown",
      "metadata": {
        "id": "yv0jREFhuh32"
      },
      "source": [
        "# Baesian Plots\n"
      ]
    },
    {
      "cell_type": "markdown",
      "metadata": {
        "id": "JToPchIbvMj_"
      },
      "source": [
        "## Yenzy Plots\n",
        "H0.2: There is no significant relationship between market conditions and food crop production.\n",
        "\n",
        "Goal: Visually and statistically assess the relationship between market indicators and crop yield.\n",
        "\n",
        "Visual tests are dual plots and scatterplots. Statistics for relationship testing: contingency table and chi-square test.\n",
        "\n",
        "**Tested Assessments in both Annual & Quarterly and Regional & Provincial**\n",
        "| Cropyield Indicator | Market Indicator | Geolocation | Commodity\n",
        "| --- | --- | --- | --- |\n",
        "| Volume | Retail Price | Philippines | Rice | \n",
        "| Volume | Wholesale Price | Philippines | Rice | \n",
        "| Volume | Farmgate Price | Philippines | Rice | "
      ]
    },
    {
      "cell_type": "code",
      "execution_count": 7,
      "metadata": {},
      "outputs": [
        {
          "name": "stdout",
          "output_type": "stream",
          "text": [
            "p value is 0.10319714047309392\n",
            "Independent (H0 holds true)\n"
          ]
        }
      ],
      "source": [
        "# Sample Relationship Test\n",
        "data = [[207, 282, 241], [234, 242, 232]]\n",
        "stat, p, dof, expected = chi2_contingency(data)\n",
        " \n",
        "# interpret p-value\n",
        "alpha = 0.05\n",
        "print(\"p value is \" + str(p))\n",
        "if p <= alpha:\n",
        "    print('Dependent (reject H0)')\n",
        "else:\n",
        "    print('Independent (H0 holds true)')"
      ]
    },
    {
      "cell_type": "code",
      "execution_count": 8,
      "metadata": {},
      "outputs": [
        {
          "data": {
            "application/vnd.plotly.v1+json": {
              "config": {
                "plotlyServerURL": "https://plot.ly"
              },
              "data": [
                {
                  "hovertemplate": "Commodity=Palay<br>Period=%{x}<br>Volume=%{y}<extra></extra>",
                  "legendgroup": "Palay",
                  "line": {
                    "color": "#636efa",
                    "dash": "solid"
                  },
                  "marker": {
                    "symbol": "circle"
                  },
                  "mode": "lines",
                  "name": "Palay",
                  "orientation": "v",
                  "showlegend": true,
                  "type": "scatter",
                  "x": [
                    "1987 Q1",
                    "1987 Q2",
                    "1987 Q3",
                    "1987 Q4",
                    "1988 Q1",
                    "1988 Q2",
                    "1988 Q3",
                    "1988 Q4",
                    "1989 Q1",
                    "1989 Q2",
                    "1989 Q3",
                    "1989 Q4",
                    "1990 Q1",
                    "1990 Q2",
                    "1990 Q3",
                    "1990 Q4",
                    "1991 Q1",
                    "1991 Q2",
                    "1991 Q3",
                    "1991 Q4",
                    "1992 Q1",
                    "1992 Q2",
                    "1992 Q3",
                    "1992 Q4",
                    "1993 Q1",
                    "1993 Q2",
                    "1993 Q3",
                    "1993 Q4",
                    "1994 Q1",
                    "1994 Q2",
                    "1994 Q3",
                    "1994 Q4",
                    "1995 Q1",
                    "1995 Q2",
                    "1995 Q3",
                    "1995 Q4",
                    "1996 Q1",
                    "1996 Q2",
                    "1996 Q3",
                    "1996 Q4",
                    "1997 Q1",
                    "1997 Q2",
                    "1997 Q3",
                    "1997 Q4",
                    "1998 Q1",
                    "1998 Q2",
                    "1998 Q3",
                    "1998 Q4",
                    "1999 Q1",
                    "1999 Q2",
                    "1999 Q3",
                    "1999 Q4",
                    "2000 Q1",
                    "2000 Q2",
                    "2000 Q3",
                    "2000 Q4",
                    "2001 Q1",
                    "2001 Q2",
                    "2001 Q3",
                    "2001 Q4",
                    "2002 Q1",
                    "2002 Q2",
                    "2002 Q3",
                    "2002 Q4",
                    "2003 Q1",
                    "2003 Q2",
                    "2003 Q3",
                    "2003 Q4",
                    "2004 Q1",
                    "2004 Q2",
                    "2004 Q3",
                    "2004 Q4",
                    "2005 Q1",
                    "2005 Q2",
                    "2005 Q3",
                    "2005 Q4",
                    "2006 Q1",
                    "2006 Q2",
                    "2006 Q3",
                    "2006 Q4",
                    "2007 Q1",
                    "2007 Q2",
                    "2007 Q3",
                    "2007 Q4",
                    "2008 Q1",
                    "2008 Q2",
                    "2008 Q3",
                    "2008 Q4",
                    "2009 Q1",
                    "2009 Q2",
                    "2009 Q3",
                    "2009 Q4",
                    "2010 Q1",
                    "2010 Q2",
                    "2010 Q3",
                    "2010 Q4",
                    "2011 Q1",
                    "2011 Q2",
                    "2011 Q3",
                    "2011 Q4",
                    "2012 Q1",
                    "2012 Q2",
                    "2012 Q3",
                    "2012 Q4",
                    "2013 Q1",
                    "2013 Q2",
                    "2013 Q3",
                    "2013 Q4",
                    "2014 Q1",
                    "2014 Q2",
                    "2014 Q3",
                    "2014 Q4",
                    "2015 Q1",
                    "2015 Q2",
                    "2015 Q3",
                    "2015 Q4",
                    "2016 Q1",
                    "2016 Q2",
                    "2016 Q3",
                    "2016 Q4",
                    "2017 Q1",
                    "2017 Q2",
                    "2017 Q3",
                    "2017 Q4",
                    "2018 Q1",
                    "2018 Q2",
                    "2018 Q3",
                    "2018 Q4",
                    "2019 Q1",
                    "2019 Q2",
                    "2019 Q3",
                    "2019 Q4",
                    "2020 Q1",
                    "2020 Q2",
                    "2020 Q3",
                    "2020 Q4",
                    "2021 Q1",
                    "2021 Q2",
                    "2021 Q3",
                    "2021 Q4",
                    "2022 Q1",
                    "2022 Q2",
                    "2022 Q3",
                    "2022 Q4",
                    "2023 Q1",
                    "2023 Q2",
                    "2023 Q3",
                    "2023 Q4"
                  ],
                  "xaxis": "x",
                  "y": [
                    2168648,
                    1367237,
                    690926,
                    4313041,
                    2325418,
                    1358501,
                    1236198,
                    4050913,
                    2402351,
                    1553953,
                    1373107,
                    4129361,
                    2145991,
                    1336802,
                    1260444,
                    4576039,
                    2532503,
                    1515010,
                    1184818,
                    4440931,
                    2364765,
                    1141219,
                    841340,
                    4781616,
                    2315246,
                    1574903,
                    929670,
                    4614389,
                    2288317,
                    2090216,
                    1876635,
                    4282886,
                    2272045,
                    2045286,
                    1785510,
                    4437808,
                    2523794,
                    2427116,
                    2116498,
                    4216160,
                    2563757,
                    2282704,
                    1788141,
                    4634361,
                    2220968,
                    1338008,
                    1284443,
                    3711405,
                    2996188,
                    2275865,
                    2248702,
                    4265870,
                    2856356,
                    2586140,
                    2412610,
                    4534306,
                    2813930,
                    2753901,
                    2405187,
                    4981852,
                    3058094,
                    2614275,
                    2020796,
                    5577488,
                    3035561,
                    2345717,
                    2434696,
                    5683910,
                    3434383,
                    2604199,
                    2871678,
                    5586524,
                    3381885,
                    2651140,
                    2669137,
                    5900843,
                    3615607,
                    2923824,
                    3006200,
                    5781075,
                    3676704,
                    3051176,
                    3146959,
                    6365355,
                    3748852,
                    3371867,
                    3467460,
                    6227369,
                    3941177,
                    3435019,
                    3519417,
                    5370803.5,
                    3491640,
                    3129151,
                    2646110,
                    6505418,
                    4037331,
                    3539878,
                    3168478,
                    5938375,
                    3992198,
                    3899738.17,
                    3596801.08,
                    6543788.22,
                    4169943,
                    3827689.01,
                    3362655.72,
                    7079132,
                    4306890.95,
                    4073011,
                    3027058.87,
                    7560865.35,
                    4367715.4,
                    3955836.55,
                    2551545.83,
                    7274740,
                    3932292.4,
                    3714589.18,
                    2968770,
                    7011593.24,
                    4419267,
                    4149917.48,
                    3389508.95,
                    7317653.2,
                    4622978.84,
                    4090237.42,
                    3196416.68,
                    7156461,
                    4416850.21,
                    3852526.47,
                    3051471.17,
                    7493979.44,
                    4261442.7,
                    4125233.41,
                    3516346.2,
                    7391833.21,
                    4626919.49,
                    4172939.91,
                    3752734.24,
                    7407576.55,
                    4541255.27,
                    4202415.04,
                    3789600.41,
                    7223121.56,
                    4778787.84,
                    4247396.64,
                    3797857.26,
                    7235520.22
                  ],
                  "yaxis": "y"
                },
                {
                  "hovertemplate": "Commodity=Corn<br>Period=%{x}<br>Volume=%{y}<extra></extra>",
                  "legendgroup": "Corn",
                  "line": {
                    "color": "#EF553B",
                    "dash": "solid"
                  },
                  "marker": {
                    "symbol": "circle"
                  },
                  "mode": "lines",
                  "name": "Corn",
                  "orientation": "v",
                  "showlegend": true,
                  "type": "scatter",
                  "x": [
                    "1987 Q1",
                    "1987 Q2",
                    "1987 Q3",
                    "1987 Q4",
                    "1988 Q1",
                    "1988 Q2",
                    "1988 Q3",
                    "1988 Q4",
                    "1989 Q1",
                    "1989 Q2",
                    "1989 Q3",
                    "1989 Q4",
                    "1990 Q1",
                    "1990 Q2",
                    "1990 Q3",
                    "1990 Q4",
                    "1991 Q1",
                    "1991 Q2",
                    "1991 Q3",
                    "1991 Q4",
                    "1992 Q1",
                    "1992 Q2",
                    "1992 Q3",
                    "1992 Q4",
                    "1993 Q1",
                    "1993 Q2",
                    "1993 Q3",
                    "1993 Q4",
                    "1994 Q1",
                    "1994 Q2",
                    "1994 Q3",
                    "1994 Q4",
                    "1995 Q1",
                    "1995 Q2",
                    "1995 Q3",
                    "1995 Q4",
                    "1996 Q1",
                    "1996 Q2",
                    "1996 Q3",
                    "1996 Q4",
                    "1997 Q1",
                    "1997 Q2",
                    "1997 Q3",
                    "1997 Q4",
                    "1998 Q1",
                    "1998 Q2",
                    "1998 Q3",
                    "1998 Q4",
                    "1999 Q1",
                    "1999 Q2",
                    "1999 Q3",
                    "1999 Q4",
                    "2000 Q1",
                    "2000 Q2",
                    "2000 Q3",
                    "2000 Q4",
                    "2001 Q1",
                    "2001 Q2",
                    "2001 Q3",
                    "2001 Q4",
                    "2002 Q1",
                    "2002 Q2",
                    "2002 Q3",
                    "2002 Q4",
                    "2003 Q1",
                    "2003 Q2",
                    "2003 Q3",
                    "2003 Q4",
                    "2004 Q1",
                    "2004 Q2",
                    "2004 Q3",
                    "2004 Q4",
                    "2005 Q1",
                    "2005 Q2",
                    "2005 Q3",
                    "2005 Q4",
                    "2006 Q1",
                    "2006 Q2",
                    "2006 Q3",
                    "2006 Q4",
                    "2007 Q1",
                    "2007 Q2",
                    "2007 Q3",
                    "2007 Q4",
                    "2008 Q1",
                    "2008 Q2",
                    "2008 Q3",
                    "2008 Q4",
                    "2009 Q1",
                    "2009 Q2",
                    "2009 Q3",
                    "2009 Q4",
                    "2010 Q1",
                    "2010 Q2",
                    "2010 Q3",
                    "2010 Q4",
                    "2011 Q1",
                    "2011 Q2",
                    "2011 Q3",
                    "2011 Q4",
                    "2012 Q1",
                    "2012 Q2",
                    "2012 Q3",
                    "2012 Q4",
                    "2013 Q1",
                    "2013 Q2",
                    "2013 Q3",
                    "2013 Q4",
                    "2014 Q1",
                    "2014 Q2",
                    "2014 Q3",
                    "2014 Q4",
                    "2015 Q1",
                    "2015 Q2",
                    "2015 Q3",
                    "2015 Q4",
                    "2016 Q1",
                    "2016 Q2",
                    "2016 Q3",
                    "2016 Q4",
                    "2017 Q1",
                    "2017 Q2",
                    "2017 Q3",
                    "2017 Q4",
                    "2018 Q1",
                    "2018 Q2",
                    "2018 Q3",
                    "2018 Q4",
                    "2019 Q1",
                    "2019 Q2",
                    "2019 Q3",
                    "2019 Q4",
                    "2020 Q1",
                    "2020 Q2",
                    "2020 Q3",
                    "2020 Q4",
                    "2021 Q1",
                    "2021 Q2",
                    "2021 Q3",
                    "2021 Q4",
                    "2022 Q1",
                    "2022 Q2",
                    "2022 Q3",
                    "2022 Q4",
                    "2023 Q1",
                    "2023 Q2",
                    "2023 Q3",
                    "2023 Q4"
                  ],
                  "xaxis": "x",
                  "y": [
                    731116,
                    248244,
                    1735770,
                    1562989,
                    770750,
                    312361,
                    2034713,
                    1310127,
                    820423,
                    356287,
                    1906071,
                    1439414,
                    704815,
                    362054,
                    2268647,
                    1518375,
                    916069,
                    398634,
                    1848197,
                    1492126,
                    891591,
                    257953,
                    2050666,
                    1418644,
                    925172,
                    416255,
                    1767806,
                    1688744,
                    971047,
                    597681,
                    1787646,
                    1162872,
                    1039145,
                    543446,
                    1771531,
                    774388,
                    1043589,
                    734490,
                    1500194,
                    873059,
                    1022639,
                    820107,
                    1603730,
                    885941,
                    782532,
                    256502,
                    1824947,
                    959203,
                    1267864,
                    842477,
                    1609163,
                    865089,
                    1008313,
                    966402,
                    1584838,
                    951551,
                    1077219,
                    878030,
                    1617197,
                    952566,
                    1108830,
                    825909,
                    1526373,
                    858150,
                    1353335,
                    693965,
                    1443313,
                    1125012,
                    1534304,
                    801310,
                    1938876,
                    1138896,
                    1252789,
                    720474,
                    2202723,
                    1077174,
                    1529453,
                    1075034,
                    2227596,
                    1250026,
                    1704268,
                    1048298,
                    2538638,
                    1445736,
                    1992762,
                    1299964,
                    2255864,
                    1379635,
                    1924900,
                    1293162,
                    2372571,
                    1443400,
                    1602262,
                    812901,
                    2318458,
                    1643175,
                    1914675,
                    1394764,
                    2179446,
                    1482336,
                    2017630.18,
                    1451348.13,
                    2431440.1,
                    1506649.94,
                    2248311.21,
                    1075214.27,
                    2600615.82,
                    1453152,
                    2278186.46,
                    1201557.54,
                    2448626.94,
                    1842231.8,
                    2368531.73,
                    1012241.4,
                    2406989.24,
                    1730993.35,
                    1916944.77,
                    910998.6,
                    2662444.43,
                    1728428.75,
                    2366293.5,
                    1329816.65,
                    2589455.49,
                    1629342.85,
                    2476573,
                    1284296.15,
                    2205420.18,
                    1805629.3,
                    2425220.91,
                    1172190.7,
                    2723108.68,
                    1658324.26,
                    2296040.91,
                    1352562.92,
                    2817374.88,
                    1652567.18,
                    2446331.6,
                    1422875,
                    2292133.8,
                    2125850.73,
                    2441390.95,
                    1484641.06,
                    2349526.23,
                    1980051.44,
                    2519216.82,
                    1473476.69,
                    2466968.31,
                    1945342.47
                  ],
                  "yaxis": "y"
                }
              ],
              "layout": {
                "legend": {
                  "title": {
                    "text": "Commodity"
                  },
                  "tracegroupgap": 0
                },
                "template": {
                  "data": {
                    "bar": [
                      {
                        "error_x": {
                          "color": "#2a3f5f"
                        },
                        "error_y": {
                          "color": "#2a3f5f"
                        },
                        "marker": {
                          "line": {
                            "color": "#E5ECF6",
                            "width": 0.5
                          },
                          "pattern": {
                            "fillmode": "overlay",
                            "size": 10,
                            "solidity": 0.2
                          }
                        },
                        "type": "bar"
                      }
                    ],
                    "barpolar": [
                      {
                        "marker": {
                          "line": {
                            "color": "#E5ECF6",
                            "width": 0.5
                          },
                          "pattern": {
                            "fillmode": "overlay",
                            "size": 10,
                            "solidity": 0.2
                          }
                        },
                        "type": "barpolar"
                      }
                    ],
                    "carpet": [
                      {
                        "aaxis": {
                          "endlinecolor": "#2a3f5f",
                          "gridcolor": "white",
                          "linecolor": "white",
                          "minorgridcolor": "white",
                          "startlinecolor": "#2a3f5f"
                        },
                        "baxis": {
                          "endlinecolor": "#2a3f5f",
                          "gridcolor": "white",
                          "linecolor": "white",
                          "minorgridcolor": "white",
                          "startlinecolor": "#2a3f5f"
                        },
                        "type": "carpet"
                      }
                    ],
                    "choropleth": [
                      {
                        "colorbar": {
                          "outlinewidth": 0,
                          "ticks": ""
                        },
                        "type": "choropleth"
                      }
                    ],
                    "contour": [
                      {
                        "colorbar": {
                          "outlinewidth": 0,
                          "ticks": ""
                        },
                        "colorscale": [
                          [
                            0,
                            "#0d0887"
                          ],
                          [
                            0.1111111111111111,
                            "#46039f"
                          ],
                          [
                            0.2222222222222222,
                            "#7201a8"
                          ],
                          [
                            0.3333333333333333,
                            "#9c179e"
                          ],
                          [
                            0.4444444444444444,
                            "#bd3786"
                          ],
                          [
                            0.5555555555555556,
                            "#d8576b"
                          ],
                          [
                            0.6666666666666666,
                            "#ed7953"
                          ],
                          [
                            0.7777777777777778,
                            "#fb9f3a"
                          ],
                          [
                            0.8888888888888888,
                            "#fdca26"
                          ],
                          [
                            1,
                            "#f0f921"
                          ]
                        ],
                        "type": "contour"
                      }
                    ],
                    "contourcarpet": [
                      {
                        "colorbar": {
                          "outlinewidth": 0,
                          "ticks": ""
                        },
                        "type": "contourcarpet"
                      }
                    ],
                    "heatmap": [
                      {
                        "colorbar": {
                          "outlinewidth": 0,
                          "ticks": ""
                        },
                        "colorscale": [
                          [
                            0,
                            "#0d0887"
                          ],
                          [
                            0.1111111111111111,
                            "#46039f"
                          ],
                          [
                            0.2222222222222222,
                            "#7201a8"
                          ],
                          [
                            0.3333333333333333,
                            "#9c179e"
                          ],
                          [
                            0.4444444444444444,
                            "#bd3786"
                          ],
                          [
                            0.5555555555555556,
                            "#d8576b"
                          ],
                          [
                            0.6666666666666666,
                            "#ed7953"
                          ],
                          [
                            0.7777777777777778,
                            "#fb9f3a"
                          ],
                          [
                            0.8888888888888888,
                            "#fdca26"
                          ],
                          [
                            1,
                            "#f0f921"
                          ]
                        ],
                        "type": "heatmap"
                      }
                    ],
                    "heatmapgl": [
                      {
                        "colorbar": {
                          "outlinewidth": 0,
                          "ticks": ""
                        },
                        "colorscale": [
                          [
                            0,
                            "#0d0887"
                          ],
                          [
                            0.1111111111111111,
                            "#46039f"
                          ],
                          [
                            0.2222222222222222,
                            "#7201a8"
                          ],
                          [
                            0.3333333333333333,
                            "#9c179e"
                          ],
                          [
                            0.4444444444444444,
                            "#bd3786"
                          ],
                          [
                            0.5555555555555556,
                            "#d8576b"
                          ],
                          [
                            0.6666666666666666,
                            "#ed7953"
                          ],
                          [
                            0.7777777777777778,
                            "#fb9f3a"
                          ],
                          [
                            0.8888888888888888,
                            "#fdca26"
                          ],
                          [
                            1,
                            "#f0f921"
                          ]
                        ],
                        "type": "heatmapgl"
                      }
                    ],
                    "histogram": [
                      {
                        "marker": {
                          "pattern": {
                            "fillmode": "overlay",
                            "size": 10,
                            "solidity": 0.2
                          }
                        },
                        "type": "histogram"
                      }
                    ],
                    "histogram2d": [
                      {
                        "colorbar": {
                          "outlinewidth": 0,
                          "ticks": ""
                        },
                        "colorscale": [
                          [
                            0,
                            "#0d0887"
                          ],
                          [
                            0.1111111111111111,
                            "#46039f"
                          ],
                          [
                            0.2222222222222222,
                            "#7201a8"
                          ],
                          [
                            0.3333333333333333,
                            "#9c179e"
                          ],
                          [
                            0.4444444444444444,
                            "#bd3786"
                          ],
                          [
                            0.5555555555555556,
                            "#d8576b"
                          ],
                          [
                            0.6666666666666666,
                            "#ed7953"
                          ],
                          [
                            0.7777777777777778,
                            "#fb9f3a"
                          ],
                          [
                            0.8888888888888888,
                            "#fdca26"
                          ],
                          [
                            1,
                            "#f0f921"
                          ]
                        ],
                        "type": "histogram2d"
                      }
                    ],
                    "histogram2dcontour": [
                      {
                        "colorbar": {
                          "outlinewidth": 0,
                          "ticks": ""
                        },
                        "colorscale": [
                          [
                            0,
                            "#0d0887"
                          ],
                          [
                            0.1111111111111111,
                            "#46039f"
                          ],
                          [
                            0.2222222222222222,
                            "#7201a8"
                          ],
                          [
                            0.3333333333333333,
                            "#9c179e"
                          ],
                          [
                            0.4444444444444444,
                            "#bd3786"
                          ],
                          [
                            0.5555555555555556,
                            "#d8576b"
                          ],
                          [
                            0.6666666666666666,
                            "#ed7953"
                          ],
                          [
                            0.7777777777777778,
                            "#fb9f3a"
                          ],
                          [
                            0.8888888888888888,
                            "#fdca26"
                          ],
                          [
                            1,
                            "#f0f921"
                          ]
                        ],
                        "type": "histogram2dcontour"
                      }
                    ],
                    "mesh3d": [
                      {
                        "colorbar": {
                          "outlinewidth": 0,
                          "ticks": ""
                        },
                        "type": "mesh3d"
                      }
                    ],
                    "parcoords": [
                      {
                        "line": {
                          "colorbar": {
                            "outlinewidth": 0,
                            "ticks": ""
                          }
                        },
                        "type": "parcoords"
                      }
                    ],
                    "pie": [
                      {
                        "automargin": true,
                        "type": "pie"
                      }
                    ],
                    "scatter": [
                      {
                        "fillpattern": {
                          "fillmode": "overlay",
                          "size": 10,
                          "solidity": 0.2
                        },
                        "type": "scatter"
                      }
                    ],
                    "scatter3d": [
                      {
                        "line": {
                          "colorbar": {
                            "outlinewidth": 0,
                            "ticks": ""
                          }
                        },
                        "marker": {
                          "colorbar": {
                            "outlinewidth": 0,
                            "ticks": ""
                          }
                        },
                        "type": "scatter3d"
                      }
                    ],
                    "scattercarpet": [
                      {
                        "marker": {
                          "colorbar": {
                            "outlinewidth": 0,
                            "ticks": ""
                          }
                        },
                        "type": "scattercarpet"
                      }
                    ],
                    "scattergeo": [
                      {
                        "marker": {
                          "colorbar": {
                            "outlinewidth": 0,
                            "ticks": ""
                          }
                        },
                        "type": "scattergeo"
                      }
                    ],
                    "scattergl": [
                      {
                        "marker": {
                          "colorbar": {
                            "outlinewidth": 0,
                            "ticks": ""
                          }
                        },
                        "type": "scattergl"
                      }
                    ],
                    "scattermapbox": [
                      {
                        "marker": {
                          "colorbar": {
                            "outlinewidth": 0,
                            "ticks": ""
                          }
                        },
                        "type": "scattermapbox"
                      }
                    ],
                    "scatterpolar": [
                      {
                        "marker": {
                          "colorbar": {
                            "outlinewidth": 0,
                            "ticks": ""
                          }
                        },
                        "type": "scatterpolar"
                      }
                    ],
                    "scatterpolargl": [
                      {
                        "marker": {
                          "colorbar": {
                            "outlinewidth": 0,
                            "ticks": ""
                          }
                        },
                        "type": "scatterpolargl"
                      }
                    ],
                    "scatterternary": [
                      {
                        "marker": {
                          "colorbar": {
                            "outlinewidth": 0,
                            "ticks": ""
                          }
                        },
                        "type": "scatterternary"
                      }
                    ],
                    "surface": [
                      {
                        "colorbar": {
                          "outlinewidth": 0,
                          "ticks": ""
                        },
                        "colorscale": [
                          [
                            0,
                            "#0d0887"
                          ],
                          [
                            0.1111111111111111,
                            "#46039f"
                          ],
                          [
                            0.2222222222222222,
                            "#7201a8"
                          ],
                          [
                            0.3333333333333333,
                            "#9c179e"
                          ],
                          [
                            0.4444444444444444,
                            "#bd3786"
                          ],
                          [
                            0.5555555555555556,
                            "#d8576b"
                          ],
                          [
                            0.6666666666666666,
                            "#ed7953"
                          ],
                          [
                            0.7777777777777778,
                            "#fb9f3a"
                          ],
                          [
                            0.8888888888888888,
                            "#fdca26"
                          ],
                          [
                            1,
                            "#f0f921"
                          ]
                        ],
                        "type": "surface"
                      }
                    ],
                    "table": [
                      {
                        "cells": {
                          "fill": {
                            "color": "#EBF0F8"
                          },
                          "line": {
                            "color": "white"
                          }
                        },
                        "header": {
                          "fill": {
                            "color": "#C8D4E3"
                          },
                          "line": {
                            "color": "white"
                          }
                        },
                        "type": "table"
                      }
                    ]
                  },
                  "layout": {
                    "annotationdefaults": {
                      "arrowcolor": "#2a3f5f",
                      "arrowhead": 0,
                      "arrowwidth": 1
                    },
                    "autotypenumbers": "strict",
                    "coloraxis": {
                      "colorbar": {
                        "outlinewidth": 0,
                        "ticks": ""
                      }
                    },
                    "colorscale": {
                      "diverging": [
                        [
                          0,
                          "#8e0152"
                        ],
                        [
                          0.1,
                          "#c51b7d"
                        ],
                        [
                          0.2,
                          "#de77ae"
                        ],
                        [
                          0.3,
                          "#f1b6da"
                        ],
                        [
                          0.4,
                          "#fde0ef"
                        ],
                        [
                          0.5,
                          "#f7f7f7"
                        ],
                        [
                          0.6,
                          "#e6f5d0"
                        ],
                        [
                          0.7,
                          "#b8e186"
                        ],
                        [
                          0.8,
                          "#7fbc41"
                        ],
                        [
                          0.9,
                          "#4d9221"
                        ],
                        [
                          1,
                          "#276419"
                        ]
                      ],
                      "sequential": [
                        [
                          0,
                          "#0d0887"
                        ],
                        [
                          0.1111111111111111,
                          "#46039f"
                        ],
                        [
                          0.2222222222222222,
                          "#7201a8"
                        ],
                        [
                          0.3333333333333333,
                          "#9c179e"
                        ],
                        [
                          0.4444444444444444,
                          "#bd3786"
                        ],
                        [
                          0.5555555555555556,
                          "#d8576b"
                        ],
                        [
                          0.6666666666666666,
                          "#ed7953"
                        ],
                        [
                          0.7777777777777778,
                          "#fb9f3a"
                        ],
                        [
                          0.8888888888888888,
                          "#fdca26"
                        ],
                        [
                          1,
                          "#f0f921"
                        ]
                      ],
                      "sequentialminus": [
                        [
                          0,
                          "#0d0887"
                        ],
                        [
                          0.1111111111111111,
                          "#46039f"
                        ],
                        [
                          0.2222222222222222,
                          "#7201a8"
                        ],
                        [
                          0.3333333333333333,
                          "#9c179e"
                        ],
                        [
                          0.4444444444444444,
                          "#bd3786"
                        ],
                        [
                          0.5555555555555556,
                          "#d8576b"
                        ],
                        [
                          0.6666666666666666,
                          "#ed7953"
                        ],
                        [
                          0.7777777777777778,
                          "#fb9f3a"
                        ],
                        [
                          0.8888888888888888,
                          "#fdca26"
                        ],
                        [
                          1,
                          "#f0f921"
                        ]
                      ]
                    },
                    "colorway": [
                      "#636efa",
                      "#EF553B",
                      "#00cc96",
                      "#ab63fa",
                      "#FFA15A",
                      "#19d3f3",
                      "#FF6692",
                      "#B6E880",
                      "#FF97FF",
                      "#FECB52"
                    ],
                    "font": {
                      "color": "#2a3f5f"
                    },
                    "geo": {
                      "bgcolor": "white",
                      "lakecolor": "white",
                      "landcolor": "#E5ECF6",
                      "showlakes": true,
                      "showland": true,
                      "subunitcolor": "white"
                    },
                    "hoverlabel": {
                      "align": "left"
                    },
                    "hovermode": "closest",
                    "mapbox": {
                      "style": "light"
                    },
                    "paper_bgcolor": "white",
                    "plot_bgcolor": "#E5ECF6",
                    "polar": {
                      "angularaxis": {
                        "gridcolor": "white",
                        "linecolor": "white",
                        "ticks": ""
                      },
                      "bgcolor": "#E5ECF6",
                      "radialaxis": {
                        "gridcolor": "white",
                        "linecolor": "white",
                        "ticks": ""
                      }
                    },
                    "scene": {
                      "xaxis": {
                        "backgroundcolor": "#E5ECF6",
                        "gridcolor": "white",
                        "gridwidth": 2,
                        "linecolor": "white",
                        "showbackground": true,
                        "ticks": "",
                        "zerolinecolor": "white"
                      },
                      "yaxis": {
                        "backgroundcolor": "#E5ECF6",
                        "gridcolor": "white",
                        "gridwidth": 2,
                        "linecolor": "white",
                        "showbackground": true,
                        "ticks": "",
                        "zerolinecolor": "white"
                      },
                      "zaxis": {
                        "backgroundcolor": "#E5ECF6",
                        "gridcolor": "white",
                        "gridwidth": 2,
                        "linecolor": "white",
                        "showbackground": true,
                        "ticks": "",
                        "zerolinecolor": "white"
                      }
                    },
                    "shapedefaults": {
                      "line": {
                        "color": "#2a3f5f"
                      }
                    },
                    "ternary": {
                      "aaxis": {
                        "gridcolor": "white",
                        "linecolor": "white",
                        "ticks": ""
                      },
                      "baxis": {
                        "gridcolor": "white",
                        "linecolor": "white",
                        "ticks": ""
                      },
                      "bgcolor": "#E5ECF6",
                      "caxis": {
                        "gridcolor": "white",
                        "linecolor": "white",
                        "ticks": ""
                      }
                    },
                    "title": {
                      "x": 0.05
                    },
                    "xaxis": {
                      "automargin": true,
                      "gridcolor": "white",
                      "linecolor": "white",
                      "ticks": "",
                      "title": {
                        "standoff": 15
                      },
                      "zerolinecolor": "white",
                      "zerolinewidth": 2
                    },
                    "yaxis": {
                      "automargin": true,
                      "gridcolor": "white",
                      "linecolor": "white",
                      "ticks": "",
                      "title": {
                        "standoff": 15
                      },
                      "zerolinecolor": "white",
                      "zerolinewidth": 2
                    }
                  }
                },
                "title": {
                  "text": "Quarterly Volume of Production of Crops across the Years<br>National Averages in Metric Tons"
                },
                "xaxis": {
                  "anchor": "y",
                  "domain": [
                    0,
                    1
                  ],
                  "title": {
                    "text": "Period"
                  }
                },
                "yaxis": {
                  "anchor": "x",
                  "domain": [
                    0,
                    1
                  ],
                  "title": {
                    "text": "Volume of Production"
                  }
                }
              }
            }
          },
          "metadata": {},
          "output_type": "display_data"
        }
      ],
      "source": [
        "# Volume of Production of Palay and Corn across the Years (Quarterly and Annual)\n",
        "df2 = read_csv_to_df(\"datasets/agricultural-indicators/Volume_Rice and Corn_quarterly.csv\")\n",
        "df2 = df2[df2[\"Geolocation\"] == \"PHILIPPINES\"]\n",
        "df2 = df2.melt(id_vars=[\"Commodity\", \"Geolocation\"], value_vars=df2.columns[2:], var_name=\"Period\", value_name=\"Volume\")\n",
        "fig = px.line(df2, x=\"Period\", y=\"Volume\", color=\"Commodity\", title='Quarterly Volume of Production of Crops across the Years<br>National Averages in Metric Tons').update_layout(\n",
        "    xaxis_title=\"Period\", yaxis_title = \"Volume of Production\")\n",
        "fig.show()"
      ]
    },
    {
      "cell_type": "code",
      "execution_count": 13,
      "metadata": {},
      "outputs": [
        {
          "data": {
            "text/html": [
              "<div>\n",
              "<style scoped>\n",
              "    .dataframe tbody tr th:only-of-type {\n",
              "        vertical-align: middle;\n",
              "    }\n",
              "\n",
              "    .dataframe tbody tr th {\n",
              "        vertical-align: top;\n",
              "    }\n",
              "\n",
              "    .dataframe thead th {\n",
              "        text-align: right;\n",
              "    }\n",
              "</style>\n",
              "<table border=\"1\" class=\"dataframe\">\n",
              "  <thead>\n",
              "    <tr style=\"text-align: right;\">\n",
              "      <th></th>\n",
              "      <th>Geolocation</th>\n",
              "      <th>Commodity</th>\n",
              "      <th>Period</th>\n",
              "      <th>Volume</th>\n",
              "      <th>Retail Price</th>\n",
              "      <th>Wholesale Price</th>\n",
              "      <th>Farmgate Price</th>\n",
              "      <th>Area Harvested</th>\n",
              "      <th>CPI All Income</th>\n",
              "      <th>CPI Bottom 30</th>\n",
              "      <th>Value of Production</th>\n",
              "    </tr>\n",
              "  </thead>\n",
              "  <tbody>\n",
              "    <tr>\n",
              "      <th>0</th>\n",
              "      <td>cordillera administrative region (car)</td>\n",
              "      <td>Rice</td>\n",
              "      <td>2012 Q1</td>\n",
              "      <td>56655.00</td>\n",
              "      <td>35.226667</td>\n",
              "      <td>32.166667</td>\n",
              "      <td>16.210000</td>\n",
              "      <td>14029.00</td>\n",
              "      <td>84.421871</td>\n",
              "      <td>83.394609</td>\n",
              "      <td>7573.0</td>\n",
              "    </tr>\n",
              "    <tr>\n",
              "      <th>1</th>\n",
              "      <td>region i (ilocos region)</td>\n",
              "      <td>Rice</td>\n",
              "      <td>2012 Q1</td>\n",
              "      <td>313643.00</td>\n",
              "      <td>29.416667</td>\n",
              "      <td>31.533333</td>\n",
              "      <td>17.200000</td>\n",
              "      <td>67944.00</td>\n",
              "      <td>77.630850</td>\n",
              "      <td>78.960939</td>\n",
              "      <td>30010.0</td>\n",
              "    </tr>\n",
              "    <tr>\n",
              "      <th>2</th>\n",
              "      <td>region ii (cagayan valley)</td>\n",
              "      <td>Rice</td>\n",
              "      <td>2012 Q1</td>\n",
              "      <td>463414.00</td>\n",
              "      <td>31.926667</td>\n",
              "      <td>30.670000</td>\n",
              "      <td>16.203333</td>\n",
              "      <td>118916.00</td>\n",
              "      <td>82.072230</td>\n",
              "      <td>84.694894</td>\n",
              "      <td>39075.0</td>\n",
              "    </tr>\n",
              "    <tr>\n",
              "      <th>3</th>\n",
              "      <td>region iii (central luzon)</td>\n",
              "      <td>Rice</td>\n",
              "      <td>2012 Q1</td>\n",
              "      <td>628879.00</td>\n",
              "      <td>30.800000</td>\n",
              "      <td>32.796667</td>\n",
              "      <td>17.193333</td>\n",
              "      <td>131940.00</td>\n",
              "      <td>79.460275</td>\n",
              "      <td>79.446607</td>\n",
              "      <td>56876.0</td>\n",
              "    </tr>\n",
              "    <tr>\n",
              "      <th>4</th>\n",
              "      <td>region iv-a (calabarzon)</td>\n",
              "      <td>Rice</td>\n",
              "      <td>2012 Q1</td>\n",
              "      <td>101543.00</td>\n",
              "      <td>30.676667</td>\n",
              "      <td>31.990000</td>\n",
              "      <td>14.473333</td>\n",
              "      <td>27805.00</td>\n",
              "      <td>80.329063</td>\n",
              "      <td>80.496204</td>\n",
              "      <td>5753.0</td>\n",
              "    </tr>\n",
              "    <tr>\n",
              "      <th>...</th>\n",
              "      <td>...</td>\n",
              "      <td>...</td>\n",
              "      <td>...</td>\n",
              "      <td>...</td>\n",
              "      <td>...</td>\n",
              "      <td>...</td>\n",
              "      <td>...</td>\n",
              "      <td>...</td>\n",
              "      <td>...</td>\n",
              "      <td>...</td>\n",
              "      <td>...</td>\n",
              "    </tr>\n",
              "    <tr>\n",
              "      <th>763</th>\n",
              "      <td>region x (northern mindanao)</td>\n",
              "      <td>Rice</td>\n",
              "      <td>2023 Q4</td>\n",
              "      <td>229851.35</td>\n",
              "      <td>48.320000</td>\n",
              "      <td>46.096667</td>\n",
              "      <td>24.213333</td>\n",
              "      <td>46539.00</td>\n",
              "      <td>111.711589</td>\n",
              "      <td>109.703895</td>\n",
              "      <td>17614.0</td>\n",
              "    </tr>\n",
              "    <tr>\n",
              "      <th>764</th>\n",
              "      <td>region xi (davao region)</td>\n",
              "      <td>Rice</td>\n",
              "      <td>2023 Q4</td>\n",
              "      <td>123140.78</td>\n",
              "      <td>49.313333</td>\n",
              "      <td>49.786667</td>\n",
              "      <td>21.996667</td>\n",
              "      <td>26758.00</td>\n",
              "      <td>110.723788</td>\n",
              "      <td>111.782338</td>\n",
              "      <td>9974.0</td>\n",
              "    </tr>\n",
              "    <tr>\n",
              "      <th>765</th>\n",
              "      <td>region xii (soccsksargen)</td>\n",
              "      <td>Rice</td>\n",
              "      <td>2023 Q4</td>\n",
              "      <td>357203.95</td>\n",
              "      <td>46.030000</td>\n",
              "      <td>46.526667</td>\n",
              "      <td>21.650000</td>\n",
              "      <td>96022.00</td>\n",
              "      <td>103.242814</td>\n",
              "      <td>103.195269</td>\n",
              "      <td>25002.0</td>\n",
              "    </tr>\n",
              "    <tr>\n",
              "      <th>766</th>\n",
              "      <td>region xiii (caraga)</td>\n",
              "      <td>Rice</td>\n",
              "      <td>2023 Q4</td>\n",
              "      <td>185738.35</td>\n",
              "      <td>52.763333</td>\n",
              "      <td>47.263333</td>\n",
              "      <td>20.846667</td>\n",
              "      <td>54426.00</td>\n",
              "      <td>104.740600</td>\n",
              "      <td>103.920879</td>\n",
              "      <td>10314.0</td>\n",
              "    </tr>\n",
              "    <tr>\n",
              "      <th>767</th>\n",
              "      <td>bangsamoro autonomous region in muslim mindana...</td>\n",
              "      <td>Rice</td>\n",
              "      <td>2023 Q4</td>\n",
              "      <td>198693.14</td>\n",
              "      <td>52.916667</td>\n",
              "      <td>49.706667</td>\n",
              "      <td>22.383333</td>\n",
              "      <td>60506.06</td>\n",
              "      <td>121.472544</td>\n",
              "      <td>119.893757</td>\n",
              "      <td>17329.0</td>\n",
              "    </tr>\n",
              "  </tbody>\n",
              "</table>\n",
              "<p>729 rows × 11 columns</p>\n",
              "</div>"
            ],
            "text/plain": [
              "                                           Geolocation Commodity   Period  \\\n",
              "0               cordillera administrative region (car)      Rice  2012 Q1   \n",
              "1                             region i (ilocos region)      Rice  2012 Q1   \n",
              "2                           region ii (cagayan valley)      Rice  2012 Q1   \n",
              "3                           region iii (central luzon)      Rice  2012 Q1   \n",
              "4                             region iv-a (calabarzon)      Rice  2012 Q1   \n",
              "..                                                 ...       ...      ...   \n",
              "763                       region x (northern mindanao)      Rice  2023 Q4   \n",
              "764                           region xi (davao region)      Rice  2023 Q4   \n",
              "765                          region xii (soccsksargen)      Rice  2023 Q4   \n",
              "766                               region xiii (caraga)      Rice  2023 Q4   \n",
              "767  bangsamoro autonomous region in muslim mindana...      Rice  2023 Q4   \n",
              "\n",
              "        Volume  Retail Price  Wholesale Price  Farmgate Price  Area Harvested  \\\n",
              "0     56655.00     35.226667        32.166667       16.210000        14029.00   \n",
              "1    313643.00     29.416667        31.533333       17.200000        67944.00   \n",
              "2    463414.00     31.926667        30.670000       16.203333       118916.00   \n",
              "3    628879.00     30.800000        32.796667       17.193333       131940.00   \n",
              "4    101543.00     30.676667        31.990000       14.473333        27805.00   \n",
              "..         ...           ...              ...             ...             ...   \n",
              "763  229851.35     48.320000        46.096667       24.213333        46539.00   \n",
              "764  123140.78     49.313333        49.786667       21.996667        26758.00   \n",
              "765  357203.95     46.030000        46.526667       21.650000        96022.00   \n",
              "766  185738.35     52.763333        47.263333       20.846667        54426.00   \n",
              "767  198693.14     52.916667        49.706667       22.383333        60506.06   \n",
              "\n",
              "     CPI All Income  CPI Bottom 30  Value of Production  \n",
              "0         84.421871      83.394609               7573.0  \n",
              "1         77.630850      78.960939              30010.0  \n",
              "2         82.072230      84.694894              39075.0  \n",
              "3         79.460275      79.446607              56876.0  \n",
              "4         80.329063      80.496204               5753.0  \n",
              "..              ...            ...                  ...  \n",
              "763      111.711589     109.703895              17614.0  \n",
              "764      110.723788     111.782338               9974.0  \n",
              "765      103.242814     103.195269              25002.0  \n",
              "766      104.740600     103.920879              10314.0  \n",
              "767      121.472544     119.893757              17329.0  \n",
              "\n",
              "[729 rows x 11 columns]"
            ]
          },
          "execution_count": 13,
          "metadata": {},
          "output_type": "execute_result"
        }
      ],
      "source": [
        "# Creating megadataset for rice\n",
        "def preprocess_baesians_1(df: pd.DataFrame, commodity: str, rename_to: str, melt_value: str|None, regional=True,\n",
        "                          impute=False):\n",
        "    \"\"\"Assumes Geolocation | Commodity | Period columns.\n",
        "    Filters to regional if regional=True, else filters to provincial.\n",
        "    \"\"\"\n",
        "    # df.dropna(inplace=True)\n",
        "    df[\"Geolocation\"] = df[\"Geolocation\"].str.lstrip(\".\").str.lower()\n",
        "    df[\"Geolocation\"] = df[\"Geolocation\"].replace(region_mapping)\n",
        "    df = df[df[\"Geolocation\"].apply(is_region)] if regional else df[df[\"Geolocation\"].apply(is_province)]\n",
        "    df = df[df[\"Commodity\"] == commodity]\n",
        "    df[\"Commodity\"] = rename_to # Rename everything in Commodity to Rice\n",
        "    if melt_value:\n",
        "        df = df.melt(id_vars=[\"Geolocation\", \"Commodity\"], value_vars=df.columns[2:], var_name=\"Period\", value_name=melt_value)\n",
        "    return df\n",
        "\n",
        "# RICE: Volume and Retail Price (Quarterly-Regional)\n",
        "# Volume of Rice\n",
        "df1 = read_csv_to_df(\"datasets/agricultural-indicators/Volume_Rice and Corn_quarterly.csv\")\n",
        "df1 = preprocess_baesians_1(df1, \"Palay\", \"Rice\", melt_value=\"Volume\")\n",
        "\n",
        "# Retail Price of Rice\n",
        "df2 = read_csv_to_df(\"datasets/prices/prices_retail_2012-2023.csv\")\n",
        "tdf1 = pd.read_csv(\"datasets/prices/prices_retail_caraga_supplement.csv\", skiprows=1)\n",
        "tdf2 = pd.read_csv(\"datasets/prices/prices_retail_car_supplement.csv\", skiprows=1)\n",
        "df2 = pd.concat([df2, tdf1, tdf2])\n",
        "df2 = get_quarter_columns(df2, range(2012, 2024), 2)\n",
        "df2 = preprocess_baesians_1(df2, \"RICE, REGULAR-MILLED, 1 KG\", \"Rice\", melt_value=\"Retail Price\")\n",
        "\n",
        "# Wholesale Price of Rice\n",
        "df3 = pd.read_csv(\"datasets/prices/prices_wholesale-new-series_2010-2023.csv\",)\n",
        "df3 = get_quarter_columns(df3, range(2012, 2024), 2)\n",
        "df3 = preprocess_baesians_1(df3, \"Well Milled Rice (WMR)\", \"Rice\", melt_value=\"Wholesale Price\")\n",
        "\n",
        "# Farmgate Price of Rice\n",
        "df4 = read_csv_to_df(\"datasets/prices/prices_farmgate-new-series_2010-2023.csv\")\n",
        "df4 = get_quarter_columns(df4, range(2012, 2024), 2)\n",
        "df4 = preprocess_baesians_1(df4, \"Palay [Paddy] Other Variety, dry (conv. to 14% mc)\", \"Rice\", melt_value=\"Farmgate Price\")\n",
        "df4.dropna(inplace=True)\n",
        "\n",
        "# Cropyield (Area Harvested) of Rice\n",
        "df = pd.read_csv(\"datasets/cropyield/cropyield-palay-corn_quarterly_2010-2023.csv\", skiprows=1)\n",
        "df = preprocess_baesians_1(df, \"Palay\", \"Rice\", melt_value=\"Area Harvested\")\n",
        "df = df[df[\"Period\"].str.contains(\"Q\")]\n",
        "\n",
        "# Consumer Price Index (All Income) per Region of Rice\n",
        "df6 = pd.read_csv(\"datasets/price-indices-2018-based/cpi_all-income-households-by-cg-with-backcasting_1994-2023.csv\")\n",
        "df6 = get_quarter_columns(df6, range(2012, 2024), 2)\n",
        "df6 = preprocess_baesians_1(df6, \"01.1.1.12 - Rice\", \"Rice\", melt_value=\"CPI All Income\")\n",
        "\n",
        "# Consumer Price Index (Bottom 30) per Region of Rice\n",
        "df7 = pd.read_csv(\"datasets/price-indices-2018-based/cpi_bottom-30-by-cg-with-backcasting_2012-2017.csv\")\n",
        "df7 = preprocess_baesians_1(df7, \"01.1.1.12 - Rice\", \"Rice\", melt_value=None)\n",
        "tdf = pd.read_csv(\"datasets/price-indices-2018-based/cpi_bottom-30-by-cg_2018-2023.csv\")\n",
        "tdf = preprocess_baesians_1(tdf, \"01.1.1.12 - Rice\", \"Rice\", melt_value=None)\n",
        "df7 = pd.merge(df7, tdf, on=[\"Geolocation\", \"Commodity\"])\n",
        "df7 = get_quarter_columns(df7, range(2012, 2024), 2)\n",
        "df7 = preprocess_baesians_1(df7, \"Rice\", \"Rice\", melt_value=\"CPI Bottom 30\")\n",
        "\n",
        "# Value of Production of Rice (Annual)\n",
        "df8 = df_val_of_prod\n",
        "col = df8.pop(\"Geolocation\")\n",
        "df8.insert(0, col.name, col)\n",
        "df8 = preprocess_baesians_1(df8, \"Rice\", \"Rice\", melt_value=\"Value of Production\")\n",
        "\n",
        "# Stocks of Rice (Annual)\n",
        "df9 = df_stocks\n",
        "\n",
        "# Merge all dfs into a single df NOTE: geolocation must be in lower case\n",
        "# NOTE: barmm is removed because it has null values, unfortunately\n",
        "dfs = [df1, df2, df3, df4, df, df6, df7]\n",
        "df = functools.reduce(lambda left, right: pd.merge(left, right), dfs)\n",
        "\n",
        "fig = px.scatter(df, x=\"Volume\", y=\"Retail Price\", color=\"Geolocation\")\n",
        "# fig.show()\n",
        "\n",
        "# Adding Value of Production (Annual to Quarterly)\n",
        "tdf = df.iloc[:,:3]\n",
        "tdf[\"Period\"] = df[\"Period\"].str.replace(\" Q\\d\", \"\", regex=True)\n",
        "df[\"Value of Production\"] = pd.merge(tdf, df8)[\"Value of Production\"]\n",
        "df.dropna(inplace=True)\n",
        "\n",
        "# BUG: Adding Stocks (Annual to Quarterly)\n",
        "tdf = pd.DataFrame(df[\"Period\"].str.replace(\" Q\\d\", \"\", regex=True))\n",
        "df1 = tdf.iloc[1:2].reset_index(drop=True)\n",
        "df2 = df9.iloc[0:1, 1:3].reset_index(drop=True)\n",
        "\n",
        "print(df1, type(df1))\n",
        "print(df2, type(df2))\n",
        "\n",
        "pd.merge(df1, df2, on=\"Period\")\n",
        "\n",
        "# NOTE: Below works, but why relative to the one above?\n",
        "df1 = pd.DataFrame({\"Period\": [2012]})\n",
        "df2 = pd.DataFrame({\"Period\": [2012], \"Stocks\": [2227.093846]})\n",
        "print(df1, type(df1))\n",
        "print(df2, type(df1))\n",
        "pd.merge(df1, df2, on=\"Period\")\n"
      ]
    },
    {
      "cell_type": "code",
      "execution_count": 11,
      "metadata": {},
      "outputs": [
        {
          "data": {
            "application/vnd.plotly.v1+json": {
              "config": {
                "plotlyServerURL": "https://plot.ly"
              },
              "data": [
                {
                  "hovertemplate": "Geolocation=Abra<br>Volume=%{x}<br>Price=%{y}<extra></extra>",
                  "legendgroup": "Abra",
                  "marker": {
                    "color": "#636efa",
                    "symbol": "circle"
                  },
                  "mode": "markers",
                  "name": "Abra",
                  "orientation": "v",
                  "showlegend": true,
                  "type": "scatter",
                  "x": [
                    82333,
                    79444,
                    75500,
                    66716,
                    65159,
                    69477,
                    62120,
                    82429.69,
                    83667.1,
                    90434.39,
                    76921,
                    74414.98
                  ],
                  "xaxis": "x",
                  "y": [
                    33.416666666666664,
                    33.95916666666667,
                    34.649166666666666,
                    35.041666666666664,
                    37.64333333333334,
                    39.130833333333335,
                    42.57333333333333,
                    41.65833333333333,
                    38.74333333333333,
                    37.61916666666667,
                    38.136666666666656,
                    39.836666666666666
                  ],
                  "yaxis": "y"
                },
                {
                  "hovertemplate": "Geolocation=Apayao<br>Volume=%{x}<br>Price=%{y}<extra></extra>",
                  "legendgroup": "Apayao",
                  "marker": {
                    "color": "#EF553B",
                    "symbol": "circle"
                  },
                  "mode": "markers",
                  "name": "Apayao",
                  "orientation": "v",
                  "showlegend": true,
                  "type": "scatter",
                  "x": [
                    105891,
                    106741,
                    101158,
                    96453,
                    86430,
                    103335,
                    76345.86,
                    86818.58,
                    96869.76,
                    82468.92,
                    74379.84,
                    75730.27
                  ],
                  "xaxis": "x",
                  "y": [
                    32.26416666666667,
                    33.629999999999995,
                    38.47166666666666,
                    39.512499999999996,
                    40.66916666666666,
                    39.07749999999999,
                    41.43833333333333,
                    45.346666666666664,
                    38.91166666666667,
                    35.410000000000004,
                    34.23416666666666,
                    37.84166666666667
                  ],
                  "yaxis": "y"
                },
                {
                  "hovertemplate": "Geolocation=Benguet<br>Volume=%{x}<br>Price=%{y}<extra></extra>",
                  "legendgroup": "Benguet",
                  "marker": {
                    "color": "#00cc96",
                    "symbol": "circle"
                  },
                  "mode": "markers",
                  "name": "Benguet",
                  "orientation": "v",
                  "showlegend": true,
                  "type": "scatter",
                  "x": [
                    16696,
                    17491,
                    17355,
                    18144,
                    18145,
                    20276,
                    19917.68,
                    20447.93,
                    21707.29,
                    23667,
                    23410.77,
                    21524.15
                  ],
                  "xaxis": "x",
                  "y": [
                    34.5575,
                    34.48333333333333,
                    39.0575,
                    42.416666666666664,
                    42.8125,
                    43.844166666666666,
                    37.74,
                    31.54583333333333,
                    32.704166666666666,
                    33.56666666666667,
                    39.175000000000004,
                    40.87416666666667
                  ],
                  "yaxis": "y"
                },
                {
                  "hovertemplate": "Geolocation=Ifugao<br>Volume=%{x}<br>Price=%{y}<extra></extra>",
                  "legendgroup": "Ifugao",
                  "marker": {
                    "color": "#ab63fa",
                    "symbol": "circle"
                  },
                  "mode": "markers",
                  "name": "Ifugao",
                  "orientation": "v",
                  "showlegend": true,
                  "type": "scatter",
                  "x": [
                    62465,
                    63379,
                    63076,
                    63362,
                    60866,
                    62387,
                    60076.6,
                    53939.82,
                    49412.61,
                    41902.46,
                    32934.09,
                    34201.71
                  ],
                  "xaxis": "x",
                  "y": [
                    43.23083333333333,
                    43.75083333333333,
                    43.557500000000005,
                    41.85583333333333,
                    39.1575,
                    39.810833333333335,
                    44.024166666666666,
                    42.01166666666666,
                    38.50666666666666,
                    39.32,
                    37.774166666666666,
                    39.85666666666666
                  ],
                  "yaxis": "y"
                },
                {
                  "hovertemplate": "Geolocation=Kalinga<br>Volume=%{x}<br>Price=%{y}<extra></extra>",
                  "legendgroup": "Kalinga",
                  "marker": {
                    "color": "#FFA15A",
                    "symbol": "circle"
                  },
                  "mode": "markers",
                  "name": "Kalinga",
                  "orientation": "v",
                  "showlegend": true,
                  "type": "scatter",
                  "x": [
                    168854,
                    174012,
                    176529,
                    141094,
                    137784,
                    173292,
                    156268.6,
                    158284.81,
                    108884.81,
                    122959.34,
                    114804.76,
                    112839.99
                  ],
                  "xaxis": "x",
                  "y": [
                    32.4125,
                    33.64833333333333,
                    38.46083333333333,
                    38.48166666666666,
                    38.16,
                    41.40833333333333,
                    43.604166666666664,
                    40.971666666666664,
                    36.065,
                    38.6475,
                    41.17916666666667,
                    42.82583333333333
                  ],
                  "yaxis": "y"
                },
                {
                  "hovertemplate": "Geolocation=Mountain Province<br>Volume=%{x}<br>Price=%{y}<extra></extra>",
                  "legendgroup": "Mountain Province",
                  "marker": {
                    "color": "#19d3f3",
                    "symbol": "circle"
                  },
                  "mode": "markers",
                  "name": "Mountain Province",
                  "orientation": "v",
                  "showlegend": true,
                  "type": "scatter",
                  "x": [
                    17222,
                    19103,
                    18991,
                    15142,
                    14464,
                    16239,
                    16375.86,
                    16399.75,
                    15931.91,
                    15701.24,
                    15616.98,
                    12758.56
                  ],
                  "xaxis": "x",
                  "y": [
                    37.88,
                    37.88,
                    38.08833333333333,
                    42.04333333333333,
                    45.615,
                    46.88,
                    45.41083333333333,
                    47.19416666666666,
                    43.97666666666666,
                    43.459166666666675,
                    43.52916666666666,
                    47.98916666666668
                  ],
                  "yaxis": "y"
                },
                {
                  "hovertemplate": "Geolocation=Ilocos Norte<br>Volume=%{x}<br>Price=%{y}<extra></extra>",
                  "legendgroup": "Ilocos Norte",
                  "marker": {
                    "color": "#FF6692",
                    "symbol": "circle"
                  },
                  "mode": "markers",
                  "name": "Ilocos Norte",
                  "orientation": "v",
                  "showlegend": true,
                  "type": "scatter",
                  "x": [
                    315712,
                    318444,
                    308317,
                    313089,
                    309488,
                    329744,
                    281562,
                    329693,
                    341994.85,
                    337191.6,
                    330749,
                    338681.32
                  ],
                  "xaxis": "x",
                  "y": [
                    30.16,
                    31.617499999999996,
                    33.512499999999996,
                    34.149166666666666,
                    34.98083333333333,
                    37.18083333333333,
                    40.73166666666666,
                    41.534166666666664,
                    36.27833333333333,
                    37.19083333333334,
                    36.54416666666666,
                    39.33166666666666
                  ],
                  "yaxis": "y"
                },
                {
                  "hovertemplate": "Geolocation=Ilocos Sur<br>Volume=%{x}<br>Price=%{y}<extra></extra>",
                  "legendgroup": "Ilocos Sur",
                  "marker": {
                    "color": "#B6E880",
                    "symbol": "circle"
                  },
                  "mode": "markers",
                  "name": "Ilocos Sur",
                  "orientation": "v",
                  "showlegend": true,
                  "type": "scatter",
                  "x": [
                    208380,
                    209302,
                    205302,
                    210875,
                    209719,
                    230228,
                    201992,
                    248126.37,
                    249171,
                    244634,
                    244413.83,
                    246075.76
                  ],
                  "xaxis": "x",
                  "y": [
                    30.474999999999998,
                    32.5225,
                    39.574999999999996,
                    37.69583333333333,
                    36.29416666666666,
                    36.399166666666666,
                    39.44,
                    39.27333333333333,
                    38.967499999999994,
                    37.2775,
                    37.10916666666667,
                    39.62583333333333
                  ],
                  "yaxis": "y"
                },
                {
                  "hovertemplate": "Geolocation=La Union<br>Volume=%{x}<br>Price=%{y}<extra></extra>",
                  "legendgroup": "La Union",
                  "marker": {
                    "color": "#FF97FF",
                    "symbol": "circle"
                  },
                  "mode": "markers",
                  "name": "La Union",
                  "orientation": "v",
                  "showlegend": true,
                  "type": "scatter",
                  "x": [
                    156023,
                    157275,
                    168885,
                    172000,
                    175354,
                    187015,
                    159450.52,
                    169054,
                    176117,
                    157881,
                    171276.53,
                    173891.55
                  ],
                  "xaxis": "x",
                  "y": [
                    31.117499999999996,
                    32.262499999999996,
                    37.949999999999996,
                    38.939166666666665,
                    38.4275,
                    38.10666666666666,
                    39.268333333333324,
                    38.31583333333333,
                    36.805,
                    36.23833333333333,
                    35.74583333333333,
                    39.87916666666666
                  ],
                  "yaxis": "y"
                },
                {
                  "hovertemplate": "Geolocation=Pangasinan<br>Volume=%{x}<br>Price=%{y}<extra></extra>",
                  "legendgroup": "Pangasinan",
                  "marker": {
                    "color": "#FECB52",
                    "symbol": "circle"
                  },
                  "mode": "markers",
                  "name": "Pangasinan",
                  "orientation": "v",
                  "showlegend": true,
                  "type": "scatter",
                  "x": [
                    1057580,
                    1065036,
                    1113725,
                    1081157,
                    1110565,
                    1125065,
                    1077039,
                    1104392,
                    1135379,
                    1162636,
                    1218933,
                    1231638.05
                  ],
                  "xaxis": "x",
                  "y": [
                    32.524166666666666,
                    33.626666666666665,
                    37.91,
                    37.29416666666666,
                    35.5025,
                    35.46083333333333,
                    35.454166666666666,
                    34.8,
                    33.538333333333334,
                    34.678333333333335,
                    37.40583333333333,
                    41.714166666666664
                  ],
                  "yaxis": "y"
                },
                {
                  "hovertemplate": "Geolocation=Cagayan<br>Volume=%{x}<br>Price=%{y}<extra></extra>",
                  "legendgroup": "Cagayan",
                  "marker": {
                    "color": "#636efa",
                    "symbol": "circle"
                  },
                  "mode": "markers",
                  "name": "Cagayan",
                  "orientation": "v",
                  "showlegend": true,
                  "type": "scatter",
                  "x": [
                    875721,
                    829737,
                    895580,
                    884334,
                    764303,
                    1006120,
                    832941,
                    905593.87,
                    921763,
                    1051621,
                    1068498.28,
                    1127141.5
                  ],
                  "xaxis": "x",
                  "y": [
                    30.739166666666666,
                    31.964166666666667,
                    38.3975,
                    35.54083333333333,
                    34.251666666666665,
                    36.03666666666667,
                    40.70083333333333,
                    38.61083333333333,
                    34.169999999999995,
                    34.0575,
                    34.586666666666666,
                    39.88916666666666
                  ],
                  "yaxis": "y"
                },
                {
                  "hovertemplate": "Geolocation=Isabela<br>Volume=%{x}<br>Price=%{y}<extra></extra>",
                  "legendgroup": "Isabela",
                  "marker": {
                    "color": "#EF553B",
                    "symbol": "circle"
                  },
                  "mode": "markers",
                  "name": "Isabela",
                  "orientation": "v",
                  "showlegend": true,
                  "type": "scatter",
                  "x": [
                    1216535,
                    1249873,
                    1277623,
                    1256390,
                    1212725,
                    1285685,
                    1188584,
                    1369049.51,
                    1359555.64,
                    1425907.17,
                    1457750.2,
                    1479190.06
                  ],
                  "xaxis": "x",
                  "y": [
                    28.97,
                    30.156666666666666,
                    35.770833333333336,
                    38.410833333333336,
                    38.71083333333333,
                    37.920833333333334,
                    39.07916666666666,
                    36.662499999999994,
                    35.059999999999995,
                    36.34,
                    35.583333333333336,
                    38.725
                  ],
                  "yaxis": "y"
                },
                {
                  "hovertemplate": "Geolocation=Nueva Vizcaya<br>Volume=%{x}<br>Price=%{y}<extra></extra>",
                  "legendgroup": "Nueva Vizcaya",
                  "marker": {
                    "color": "#00cc96",
                    "symbol": "circle"
                  },
                  "mode": "markers",
                  "name": "Nueva Vizcaya",
                  "orientation": "v",
                  "showlegend": true,
                  "type": "scatter",
                  "x": [
                    241956,
                    253755,
                    252896,
                    269120,
                    269824,
                    273517,
                    270070,
                    270000.5,
                    253855.78,
                    308177.4,
                    284877.13,
                    298646.77
                  ],
                  "xaxis": "x",
                  "y": [
                    34.6475,
                    37.70250000000001,
                    41.35916666666666,
                    38.59583333333333,
                    36.44083333333333,
                    36.354166666666664,
                    41.40833333333333,
                    38.409166666666664,
                    35.26166666666666,
                    36.10833333333334,
                    35.946666666666665,
                    39.8775
                  ],
                  "yaxis": "y"
                },
                {
                  "hovertemplate": "Geolocation=Quirino<br>Volume=%{x}<br>Price=%{y}<extra></extra>",
                  "legendgroup": "Quirino",
                  "marker": {
                    "color": "#ab63fa",
                    "symbol": "circle"
                  },
                  "mode": "markers",
                  "name": "Quirino",
                  "orientation": "v",
                  "showlegend": true,
                  "type": "scatter",
                  "x": [
                    91221,
                    89822,
                    88749,
                    79730,
                    85789,
                    91583,
                    88106,
                    99983.89,
                    110518.36,
                    124224.6,
                    116978.67,
                    121029.02
                  ],
                  "xaxis": "x",
                  "y": [
                    30.978333333333335,
                    33.0225,
                    39.67916666666667,
                    36.05833333333333,
                    36.42916666666667,
                    37.2525,
                    39.346666666666664,
                    38.344166666666666,
                    36.00416666666666,
                    35.26500000000001,
                    35.8925,
                    39.46416666666667
                  ],
                  "yaxis": "y"
                },
                {
                  "hovertemplate": "Geolocation=Aurora<br>Volume=%{x}<br>Price=%{y}<extra></extra>",
                  "legendgroup": "Aurora",
                  "marker": {
                    "color": "#FFA15A",
                    "symbol": "circle"
                  },
                  "mode": "markers",
                  "name": "Aurora",
                  "orientation": "v",
                  "showlegend": true,
                  "type": "scatter",
                  "x": [
                    90791,
                    87900,
                    94785,
                    86971,
                    77040,
                    100179,
                    104687,
                    103402.01,
                    90429,
                    115368,
                    106210,
                    100302.12
                  ],
                  "xaxis": "x",
                  "y": [
                    32.40833333333333,
                    34.251666666666665,
                    41.515,
                    38.1575,
                    37.23166666666666,
                    38.44583333333333,
                    40.74166666666667,
                    38.13,
                    36.54,
                    36.774166666666666,
                    37.229166666666664,
                    41.45166666666666
                  ],
                  "yaxis": "y"
                },
                {
                  "hovertemplate": "Geolocation=Bataan<br>Volume=%{x}<br>Price=%{y}<extra></extra>",
                  "legendgroup": "Bataan",
                  "marker": {
                    "color": "#19d3f3",
                    "symbol": "circle"
                  },
                  "mode": "markers",
                  "name": "Bataan",
                  "orientation": "v",
                  "showlegend": true,
                  "type": "scatter",
                  "x": [
                    134960,
                    140067,
                    155056,
                    151610,
                    122393,
                    136269,
                    130490.24,
                    116963.88,
                    125143,
                    117143.05,
                    115402.46,
                    109195.3
                  ],
                  "xaxis": "x",
                  "y": [
                    33.82666666666666,
                    35.79416666666667,
                    40.846666666666664,
                    41.86833333333333,
                    41.376666666666665,
                    41.857499999999995,
                    36.005833333333335,
                    33.715,
                    33.470000000000006,
                    34.825,
                    36.61166666666667,
                    39.652499999999996
                  ],
                  "yaxis": "y"
                },
                {
                  "hovertemplate": "Geolocation=Bulacan<br>Volume=%{x}<br>Price=%{y}<extra></extra>",
                  "legendgroup": "Bulacan",
                  "marker": {
                    "color": "#FF6692",
                    "symbol": "circle"
                  },
                  "mode": "markers",
                  "name": "Bulacan",
                  "orientation": "v",
                  "showlegend": true,
                  "type": "scatter",
                  "x": [
                    351307,
                    366927,
                    372110,
                    351437,
                    360237,
                    378088,
                    365689,
                    368658.15,
                    361253.82,
                    387699.04,
                    402415.52,
                    374652.32
                  ],
                  "xaxis": "x",
                  "y": [
                    29.573333333333334,
                    31.561666666666667,
                    35.693333333333335,
                    36.38916666666666,
                    34.10583333333333,
                    34.0225,
                    39.7925,
                    37.91583333333333,
                    36.152499999999996,
                    37.16583333333333,
                    38.71500000000001,
                    40.76083333333334
                  ],
                  "yaxis": "y"
                },
                {
                  "hovertemplate": "Geolocation=Nueva Ecija<br>Volume=%{x}<br>Price=%{y}<extra></extra>",
                  "legendgroup": "Nueva Ecija",
                  "marker": {
                    "color": "#B6E880",
                    "symbol": "circle"
                  },
                  "mode": "markers",
                  "name": "Nueva Ecija",
                  "orientation": "v",
                  "showlegend": true,
                  "type": "scatter",
                  "x": [
                    1587163,
                    1672666,
                    1930996,
                    1580620,
                    1684352,
                    1884091,
                    1886708.93,
                    1955961.14,
                    1904827.36,
                    1884323.97,
                    1781964,
                    1839858.69
                  ],
                  "xaxis": "x",
                  "y": [
                    32.6325,
                    32.55083333333333,
                    35.0375,
                    35.13,
                    35.3175,
                    35.76416666666667,
                    34.01416666666667,
                    36.32083333333333,
                    34.21916666666666,
                    34.55083333333334,
                    36.37583333333333,
                    40.759166666666665
                  ],
                  "yaxis": "y"
                },
                {
                  "hovertemplate": "Geolocation=Pampanga<br>Volume=%{x}<br>Price=%{y}<extra></extra>",
                  "legendgroup": "Pampanga",
                  "marker": {
                    "color": "#FF97FF",
                    "symbol": "circle"
                  },
                  "mode": "markers",
                  "name": "Pampanga",
                  "orientation": "v",
                  "showlegend": true,
                  "type": "scatter",
                  "x": [
                    388187,
                    419721,
                    433106,
                    425609,
                    421647,
                    429406,
                    432172,
                    451359.84,
                    421937.8,
                    476974.6,
                    474339.44,
                    463526.28
                  ],
                  "xaxis": "x",
                  "y": [
                    30.36583333333333,
                    31.524166666666662,
                    37.0225,
                    38.649166666666666,
                    38.40833333333333,
                    39.219166666666666,
                    42.4825,
                    40.284166666666664,
                    37.33083333333333,
                    37.151666666666664,
                    37.98166666666666,
                    43.32583333333333
                  ],
                  "yaxis": "y"
                },
                {
                  "hovertemplate": "Geolocation=Tarlac<br>Volume=%{x}<br>Price=%{y}<extra></extra>",
                  "legendgroup": "Tarlac",
                  "marker": {
                    "color": "#FECB52",
                    "symbol": "circle"
                  },
                  "mode": "markers",
                  "name": "Tarlac",
                  "orientation": "v",
                  "showlegend": true,
                  "type": "scatter",
                  "x": [
                    549299,
                    585077,
                    638906,
                    570095,
                    564992,
                    579013,
                    568861.95,
                    595463,
                    573336.95,
                    605130.81,
                    599576.56,
                    608668.8
                  ],
                  "xaxis": "x",
                  "y": [
                    30.17833333333333,
                    31.691666666666663,
                    37.16916666666666,
                    36.607499999999995,
                    35.7725,
                    36.32583333333333,
                    41.41416666666668,
                    37.11833333333333,
                    36.30583333333333,
                    35.983333333333334,
                    35.99583333333333,
                    40.99
                  ],
                  "yaxis": "y"
                },
                {
                  "hovertemplate": "Geolocation=Zambales<br>Volume=%{x}<br>Price=%{y}<extra></extra>",
                  "legendgroup": "Zambales",
                  "marker": {
                    "color": "#636efa",
                    "symbol": "circle"
                  },
                  "mode": "markers",
                  "name": "Zambales",
                  "orientation": "v",
                  "showlegend": true,
                  "type": "scatter",
                  "x": [
                    118900,
                    137110,
                    140191,
                    137968,
                    112222.12,
                    127761,
                    126506,
                    138372.31,
                    158219.66,
                    154571.06,
                    136804.41,
                    142227.77
                  ],
                  "xaxis": "x",
                  "y": [
                    31.296666666666667,
                    31.483333333333334,
                    39.074999999999996,
                    42.074999999999996,
                    40.23166666666666,
                    38.48333333333333,
                    45.36416666666667,
                    43.68833333333333,
                    41.955000000000005,
                    42.164166666666674,
                    42.193333333333335,
                    46.345
                  ],
                  "yaxis": "y"
                },
                {
                  "hovertemplate": "Geolocation=Batangas<br>Volume=%{x}<br>Price=%{y}<extra></extra>",
                  "legendgroup": "Batangas",
                  "marker": {
                    "color": "#EF553B",
                    "symbol": "circle"
                  },
                  "mode": "markers",
                  "name": "Batangas",
                  "orientation": "v",
                  "showlegend": true,
                  "type": "scatter",
                  "x": [
                    43206,
                    52198,
                    46375,
                    40009,
                    39797,
                    42246,
                    47309.79,
                    44982.62,
                    33001.5,
                    35354.04,
                    34871.94,
                    38026.81
                  ],
                  "xaxis": "x",
                  "y": [
                    32.425000000000004,
                    33.483333333333334,
                    40.233333333333334,
                    39.294999999999995,
                    39.75833333333334,
                    41.275,
                    43.125833333333325,
                    41.16166666666667,
                    39.06416666666667,
                    37.83583333333333,
                    39.188333333333325,
                    45.81666666666666
                  ],
                  "yaxis": "y"
                },
                {
                  "hovertemplate": "Geolocation=Cavite<br>Volume=%{x}<br>Price=%{y}<extra></extra>",
                  "legendgroup": "Cavite",
                  "marker": {
                    "color": "#00cc96",
                    "symbol": "circle"
                  },
                  "mode": "markers",
                  "name": "Cavite",
                  "orientation": "v",
                  "showlegend": true,
                  "type": "scatter",
                  "x": [
                    38495,
                    42177,
                    46280,
                    42361,
                    35646,
                    34732,
                    37038.72,
                    29994.61,
                    24626.6,
                    27828.66,
                    23213.78,
                    20971.6
                  ],
                  "xaxis": "x",
                  "y": [
                    31.284166666666668,
                    33.21666666666667,
                    39.43333333333333,
                    39.58416666666667,
                    37.80416666666667,
                    38.19833333333333,
                    41.281666666666666,
                    40.05833333333333,
                    38.92083333333333,
                    39.18750000000001,
                    40.36000000000001,
                    41.63916666666666
                  ],
                  "yaxis": "y"
                },
                {
                  "hovertemplate": "Geolocation=Laguna<br>Volume=%{x}<br>Price=%{y}<extra></extra>",
                  "legendgroup": "Laguna",
                  "marker": {
                    "color": "#ab63fa",
                    "symbol": "circle"
                  },
                  "mode": "markers",
                  "name": "Laguna",
                  "orientation": "v",
                  "showlegend": true,
                  "type": "scatter",
                  "x": [
                    120953,
                    128905,
                    130904,
                    133138,
                    130808,
                    129358,
                    131335.8,
                    149545.17,
                    129326.65,
                    120224.02,
                    128431.37,
                    146255.35
                  ],
                  "xaxis": "x",
                  "y": [
                    30.996666666666666,
                    32.803333333333335,
                    38.34583333333333,
                    37.719166666666666,
                    35.98333333333333,
                    36.431666666666665,
                    42.8775,
                    39.595000000000006,
                    39.1475,
                    38.1825,
                    38.583333333333336,
                    42.12083333333333
                  ],
                  "yaxis": "y"
                },
                {
                  "hovertemplate": "Geolocation=Quezon<br>Volume=%{x}<br>Price=%{y}<extra></extra>",
                  "legendgroup": "Quezon",
                  "marker": {
                    "color": "#FFA15A",
                    "symbol": "circle"
                  },
                  "mode": "markers",
                  "name": "Quezon",
                  "orientation": "v",
                  "showlegend": true,
                  "type": "scatter",
                  "x": [
                    160951,
                    159773,
                    154780,
                    146988,
                    168112,
                    173228,
                    177370.25,
                    137444.35,
                    186178.6,
                    203083,
                    185878.5,
                    204629
                  ],
                  "xaxis": "x",
                  "y": [
                    30.81833333333333,
                    33.07583333333333,
                    39.26333333333333,
                    37.85666666666666,
                    37.755,
                    38.71333333333333,
                    41.82416666666666,
                    41.73166666666666,
                    37.927499999999995,
                    38.223333333333336,
                    38.38,
                    39.7175
                  ],
                  "yaxis": "y"
                },
                {
                  "hovertemplate": "Geolocation=Rizal<br>Volume=%{x}<br>Price=%{y}<extra></extra>",
                  "legendgroup": "Rizal",
                  "marker": {
                    "color": "#19d3f3",
                    "symbol": "circle"
                  },
                  "mode": "markers",
                  "name": "Rizal",
                  "orientation": "v",
                  "showlegend": true,
                  "type": "scatter",
                  "x": [
                    25667,
                    28732,
                    27243,
                    30411,
                    32761,
                    31269,
                    27178.91,
                    18815.21,
                    13786.59,
                    23425.36,
                    23503.1,
                    23516.66
                  ],
                  "xaxis": "x",
                  "y": [
                    29.954166666666662,
                    31.174166666666665,
                    36.729166666666664,
                    37.46,
                    36.79333333333333,
                    37.725,
                    39.91333333333334,
                    38.05583333333333,
                    37.663333333333334,
                    36.83166666666666,
                    37.36166666666667,
                    41.57
                  ],
                  "yaxis": "y"
                },
                {
                  "hovertemplate": "Geolocation=Marinduque<br>Volume=%{x}<br>Price=%{y}<extra></extra>",
                  "legendgroup": "Marinduque",
                  "marker": {
                    "color": "#FF6692",
                    "symbol": "circle"
                  },
                  "mode": "markers",
                  "name": "Marinduque",
                  "orientation": "v",
                  "showlegend": true,
                  "type": "scatter",
                  "x": [
                    17757,
                    17364,
                    15069,
                    15889,
                    16038,
                    21932,
                    17101,
                    11526,
                    18273,
                    18494,
                    18918.85,
                    17819
                  ],
                  "xaxis": "x",
                  "y": [
                    31.05583333333333,
                    33.43583333333333,
                    40.5375,
                    36.775,
                    36.755,
                    38.345000000000006,
                    43.26833333333334,
                    41.39166666666667,
                    38.55583333333334,
                    37.285833333333336,
                    37.95,
                    41.38083333333333
                  ],
                  "yaxis": "y"
                },
                {
                  "hovertemplate": "Geolocation=Occidental Mindoro<br>Volume=%{x}<br>Price=%{y}<extra></extra>",
                  "legendgroup": "Occidental Mindoro",
                  "marker": {
                    "color": "#B6E880",
                    "symbol": "circle"
                  },
                  "mode": "markers",
                  "name": "Occidental Mindoro",
                  "orientation": "v",
                  "showlegend": true,
                  "type": "scatter",
                  "x": [
                    334114,
                    335839,
                    346525,
                    362514,
                    357837,
                    339989,
                    374223,
                    347849,
                    310004,
                    366951.7,
                    362298.22,
                    327746.49
                  ],
                  "xaxis": "x",
                  "y": [
                    30.279166666666665,
                    31.362499999999997,
                    37.55416666666667,
                    36.83583333333334,
                    34.009166666666665,
                    34.074999999999996,
                    34.67583333333334,
                    35.67249999999999,
                    35.02250000000001,
                    35.81333333333334,
                    36.0025,
                    39.06083333333333
                  ],
                  "yaxis": "y"
                },
                {
                  "hovertemplate": "Geolocation=Oriental Mindoro<br>Volume=%{x}<br>Price=%{y}<extra></extra>",
                  "legendgroup": "Oriental Mindoro",
                  "marker": {
                    "color": "#FF97FF",
                    "symbol": "circle"
                  },
                  "mode": "markers",
                  "name": "Oriental Mindoro",
                  "orientation": "v",
                  "showlegend": true,
                  "type": "scatter",
                  "x": [
                    375206,
                    391866,
                    413508,
                    392213,
                    383608,
                    420465,
                    435709.37,
                    420002,
                    430967.32,
                    394864.51,
                    378504.66,
                    365448.67
                  ],
                  "xaxis": "x",
                  "y": [
                    30.674999999999997,
                    32.031666666666666,
                    37.39833333333333,
                    36.384166666666665,
                    35.4925,
                    36.73583333333333,
                    42.6225,
                    38.60333333333333,
                    38.105,
                    37.78083333333334,
                    38.54333333333333,
                    43.7275
                  ],
                  "yaxis": "y"
                },
                {
                  "hovertemplate": "Geolocation=Palawan<br>Volume=%{x}<br>Price=%{y}<extra></extra>",
                  "legendgroup": "Palawan",
                  "marker": {
                    "color": "#FECB52",
                    "symbol": "circle"
                  },
                  "mode": "markers",
                  "name": "Palawan",
                  "orientation": "v",
                  "showlegend": true,
                  "type": "scatter",
                  "x": [
                    267663,
                    256394,
                    274150,
                    280240,
                    291681,
                    341265,
                    367032,
                    381704,
                    387172,
                    408272,
                    433395.46,
                    461925.4
                  ],
                  "xaxis": "x",
                  "y": [
                    32.24666666666666,
                    34.964166666666664,
                    38.44583333333333,
                    34.84666666666667,
                    36.428333333333335,
                    36.97083333333333,
                    43.21333333333334,
                    40.69416666666666,
                    39.439166666666665,
                    37.88083333333333,
                    40.1275,
                    43.55583333333333
                  ],
                  "yaxis": "y"
                },
                {
                  "hovertemplate": "Geolocation=Romblon<br>Volume=%{x}<br>Price=%{y}<extra></extra>",
                  "legendgroup": "Romblon",
                  "marker": {
                    "color": "#636efa",
                    "symbol": "circle"
                  },
                  "mode": "markers",
                  "name": "Romblon",
                  "orientation": "v",
                  "showlegend": true,
                  "type": "scatter",
                  "x": [
                    35866,
                    32479,
                    32626,
                    30977,
                    31244,
                    36179,
                    36923,
                    34116,
                    36733,
                    36701,
                    38695.49,
                    37444.49
                  ],
                  "xaxis": "x",
                  "y": [
                    36.3125,
                    36.195,
                    41.04833333333333,
                    44.51166666666666,
                    42.958333333333336,
                    45.71,
                    45.13833333333333,
                    43.49666666666667,
                    42.51916666666666,
                    45.12833333333333,
                    45.3975,
                    46.39416666666667
                  ],
                  "yaxis": "y"
                },
                {
                  "hovertemplate": "Geolocation=Albay<br>Volume=%{x}<br>Price=%{y}<extra></extra>",
                  "legendgroup": "Albay",
                  "marker": {
                    "color": "#EF553B",
                    "symbol": "circle"
                  },
                  "mode": "markers",
                  "name": "Albay",
                  "orientation": "v",
                  "showlegend": true,
                  "type": "scatter",
                  "x": [
                    206808,
                    220980,
                    225700,
                    204345,
                    201811,
                    204824,
                    206019.46,
                    188012.79,
                    216006.95,
                    224533,
                    226230.8,
                    232649.25
                  ],
                  "xaxis": "x",
                  "y": [
                    29.8025,
                    32.04416666666666,
                    37.11833333333333,
                    36.284166666666664,
                    35.17916666666667,
                    36.77333333333333,
                    42.0575,
                    38.471666666666664,
                    37.767500000000005,
                    37.15583333333333,
                    37.814166666666665,
                    42.41916666666666
                  ],
                  "yaxis": "y"
                },
                {
                  "hovertemplate": "Geolocation=Camarines Norte<br>Volume=%{x}<br>Price=%{y}<extra></extra>",
                  "legendgroup": "Camarines Norte",
                  "marker": {
                    "color": "#00cc96",
                    "symbol": "circle"
                  },
                  "mode": "markers",
                  "name": "Camarines Norte",
                  "orientation": "v",
                  "showlegend": true,
                  "type": "scatter",
                  "x": [
                    85526,
                    92411,
                    95784,
                    89615,
                    89909,
                    107099,
                    110849.98,
                    93457.92,
                    108512.07,
                    116292.63,
                    109792.43,
                    108390.12
                  ],
                  "xaxis": "x",
                  "y": [
                    32.0225,
                    35.69166666666667,
                    41.908333333333324,
                    40.9075,
                    36.00833333333333,
                    36.19083333333334,
                    40.82416666666668,
                    38.86833333333333,
                    37.816666666666656,
                    38.18083333333333,
                    38.22833333333333,
                    42.295
                  ],
                  "yaxis": "y"
                },
                {
                  "hovertemplate": "Geolocation=Camarines Sur<br>Volume=%{x}<br>Price=%{y}<extra></extra>",
                  "legendgroup": "Camarines Sur",
                  "marker": {
                    "color": "#ab63fa",
                    "symbol": "circle"
                  },
                  "mode": "markers",
                  "name": "Camarines Sur",
                  "orientation": "v",
                  "showlegend": true,
                  "type": "scatter",
                  "x": [
                    563749,
                    601479.8,
                    583797,
                    658548,
                    666413,
                    683385,
                    689722,
                    612987,
                    650406,
                    683203,
                    665430,
                    643401
                  ],
                  "xaxis": "x",
                  "y": [
                    31.569999999999997,
                    34.75666666666665,
                    41.1775,
                    41.70333333333333,
                    39.20249999999999,
                    37.07749999999999,
                    39.843333333333334,
                    38.0775,
                    37.336666666666666,
                    38.06333333333334,
                    39.04,
                    41.61916666666667
                  ],
                  "yaxis": "y"
                },
                {
                  "hovertemplate": "Geolocation=Catanduanes<br>Volume=%{x}<br>Price=%{y}<extra></extra>",
                  "legendgroup": "Catanduanes",
                  "marker": {
                    "color": "#FFA15A",
                    "symbol": "circle"
                  },
                  "mode": "markers",
                  "name": "Catanduanes",
                  "orientation": "v",
                  "showlegend": true,
                  "type": "scatter",
                  "x": [
                    32330,
                    29488,
                    35452,
                    35741,
                    34065,
                    37789,
                    39944.88,
                    27330.68,
                    27019.09,
                    23376.41,
                    24809.46,
                    17793.27
                  ],
                  "xaxis": "x",
                  "y": [
                    35.1925,
                    37.11166666666666,
                    44.85833333333334,
                    42.49666666666666,
                    40.961666666666666,
                    39.60666666666667,
                    41.70666666666667,
                    38.25083333333333,
                    35.50416666666667,
                    36.42583333333334,
                    38.46916666666667,
                    42.72833333333333
                  ],
                  "yaxis": "y"
                },
                {
                  "hovertemplate": "Geolocation=Masbate<br>Volume=%{x}<br>Price=%{y}<extra></extra>",
                  "legendgroup": "Masbate",
                  "marker": {
                    "color": "#19d3f3",
                    "symbol": "circle"
                  },
                  "mode": "markers",
                  "name": "Masbate",
                  "orientation": "v",
                  "showlegend": true,
                  "type": "scatter",
                  "x": [
                    154463,
                    168653,
                    180173,
                    147754,
                    149871,
                    158832,
                    156032,
                    147659.57,
                    148010.01,
                    148754,
                    151253,
                    155154
                  ],
                  "xaxis": "x",
                  "y": [
                    31.203333333333333,
                    32.42666666666667,
                    37.93500000000001,
                    37.645833333333336,
                    35.241666666666674,
                    36.970000000000006,
                    43.030833333333334,
                    40.93583333333333,
                    39.44666666666666,
                    40.20166666666666,
                    40.57666666666666,
                    43.48333333333333
                  ],
                  "yaxis": "y"
                },
                {
                  "hovertemplate": "Geolocation=Sorsogon<br>Volume=%{x}<br>Price=%{y}<extra></extra>",
                  "legendgroup": "Sorsogon",
                  "marker": {
                    "color": "#FF6692",
                    "symbol": "circle"
                  },
                  "mode": "markers",
                  "name": "Sorsogon",
                  "orientation": "v",
                  "showlegend": true,
                  "type": "scatter",
                  "x": [
                    130431,
                    130229.6,
                    137241,
                    128445,
                    133423,
                    143148,
                    147870,
                    123456,
                    145037,
                    150793.4,
                    151488.71,
                    145261.34
                  ],
                  "xaxis": "x",
                  "y": [
                    35.88666666666666,
                    38.17166666666666,
                    45.69583333333333,
                    43.1975,
                    38.58916666666667,
                    38.16166666666667,
                    43.71333333333334,
                    40.12833333333334,
                    39.281666666666666,
                    39.22833333333333,
                    39.035833333333336,
                    43.181666666666665
                  ],
                  "yaxis": "y"
                },
                {
                  "hovertemplate": "Geolocation=Aklan<br>Volume=%{x}<br>Price=%{y}<extra></extra>",
                  "legendgroup": "Aklan",
                  "marker": {
                    "color": "#B6E880",
                    "symbol": "circle"
                  },
                  "mode": "markers",
                  "name": "Aklan",
                  "orientation": "v",
                  "showlegend": true,
                  "type": "scatter",
                  "x": [
                    129645,
                    135293,
                    104712,
                    106329,
                    101471,
                    121797,
                    106607.8,
                    94162.58,
                    122307.19,
                    106547.11,
                    111580.62,
                    84938.98
                  ],
                  "xaxis": "x",
                  "y": [
                    32.89333333333333,
                    34.525,
                    39.1225,
                    39.01916666666667,
                    39.306666666666665,
                    40.01333333333333,
                    43.987500000000004,
                    39.90583333333333,
                    36.41583333333333,
                    33.54749999999999,
                    36.50666666666667,
                    40.12833333333333
                  ],
                  "yaxis": "y"
                },
                {
                  "hovertemplate": "Geolocation=Antique<br>Volume=%{x}<br>Price=%{y}<extra></extra>",
                  "legendgroup": "Antique",
                  "marker": {
                    "color": "#FF97FF",
                    "symbol": "circle"
                  },
                  "mode": "markers",
                  "name": "Antique",
                  "orientation": "v",
                  "showlegend": true,
                  "type": "scatter",
                  "x": [
                    273468,
                    286622,
                    280084,
                    285203,
                    274929,
                    293098,
                    307458,
                    312707.57,
                    265531,
                    302746,
                    313061.73,
                    248819.65
                  ],
                  "xaxis": "x",
                  "y": [
                    31.340000000000003,
                    32.986666666666665,
                    37.09166666666667,
                    36.412499999999994,
                    35.71999999999999,
                    35.7825,
                    41.3975,
                    37.32333333333333,
                    35.427499999999995,
                    34.134166666666665,
                    36.15333333333333,
                    39.9275
                  ],
                  "yaxis": "y"
                },
                {
                  "hovertemplate": "Geolocation=Capiz<br>Volume=%{x}<br>Price=%{y}<extra></extra>",
                  "legendgroup": "Capiz",
                  "marker": {
                    "color": "#FECB52",
                    "symbol": "circle"
                  },
                  "mode": "markers",
                  "name": "Capiz",
                  "orientation": "v",
                  "showlegend": true,
                  "type": "scatter",
                  "x": [
                    360914,
                    322388,
                    291158,
                    256823,
                    274900,
                    348477,
                    347129,
                    301768,
                    363272.69,
                    383809.56,
                    354849.66,
                    323280.58
                  ],
                  "xaxis": "x",
                  "y": [
                    36.05916666666666,
                    36.45666666666666,
                    38.82583333333333,
                    40.24333333333333,
                    40.50333333333333,
                    39.814166666666665,
                    42.72416666666667,
                    44.07583333333333,
                    38.69083333333333,
                    36.59583333333334,
                    36.47833333333333,
                    39.387499999999996
                  ],
                  "yaxis": "y"
                },
                {
                  "hovertemplate": "Geolocation=Guimaras<br>Volume=%{x}<br>Price=%{y}<extra></extra>",
                  "legendgroup": "Guimaras",
                  "marker": {
                    "color": "#636efa",
                    "symbol": "circle"
                  },
                  "mode": "markers",
                  "name": "Guimaras",
                  "orientation": "v",
                  "showlegend": true,
                  "type": "scatter",
                  "x": [
                    55425,
                    46066,
                    51202,
                    40154,
                    42649,
                    55322,
                    45728,
                    47726,
                    64991,
                    61276.75,
                    64978.84,
                    54000
                  ],
                  "xaxis": "x",
                  "y": [
                    34.075833333333335,
                    33.40583333333334,
                    37.93083333333334,
                    39.368333333333325,
                    38.98499999999999,
                    41.029166666666676,
                    45.69333333333333,
                    47.284166666666664,
                    44.16416666666667,
                    38.53666666666667,
                    38.75666666666667,
                    41.957499999999996
                  ],
                  "yaxis": "y"
                },
                {
                  "hovertemplate": "Geolocation=Iloilo<br>Volume=%{x}<br>Price=%{y}<extra></extra>",
                  "legendgroup": "Iloilo",
                  "marker": {
                    "color": "#EF553B",
                    "symbol": "circle"
                  },
                  "mode": "markers",
                  "name": "Iloilo",
                  "orientation": "v",
                  "showlegend": true,
                  "type": "scatter",
                  "x": [
                    995402,
                    822452,
                    846636,
                    877076,
                    749699,
                    937268.72,
                    939331.95,
                    837836.88,
                    993789.87,
                    1018989.02,
                    1016587.87,
                    1066065.52
                  ],
                  "xaxis": "x",
                  "y": [
                    33.53916666666667,
                    34.56916666666667,
                    39.9975,
                    40.512499999999996,
                    39.365833333333335,
                    39.4875,
                    42.00416666666667,
                    39.716666666666676,
                    38.568333333333335,
                    36.18916666666667,
                    36.015,
                    38.125
                  ],
                  "yaxis": "y"
                },
                {
                  "hovertemplate": "Geolocation=Negros Occidental<br>Volume=%{x}<br>Price=%{y}<extra></extra>",
                  "legendgroup": "Negros Occidental",
                  "marker": {
                    "color": "#00cc96",
                    "symbol": "circle"
                  },
                  "mode": "markers",
                  "name": "Negros Occidental",
                  "orientation": "v",
                  "showlegend": true,
                  "type": "scatter",
                  "x": [
                    477347,
                    477969,
                    478782,
                    491239,
                    452582,
                    474874,
                    486038,
                    483589,
                    485688,
                    483534,
                    460535,
                    486053.6
                  ],
                  "xaxis": "x",
                  "y": [
                    32.63166666666667,
                    33.873333333333335,
                    38.56916666666667,
                    40.528333333333336,
                    41.115,
                    40.98,
                    42.884166666666665,
                    41.8075,
                    40.04250000000001,
                    39.77916666666667,
                    43.8325,
                    45.406666666666666
                  ],
                  "yaxis": "y"
                },
                {
                  "hovertemplate": "Geolocation=Bohol<br>Volume=%{x}<br>Price=%{y}<extra></extra>",
                  "legendgroup": "Bohol",
                  "marker": {
                    "color": "#ab63fa",
                    "symbol": "circle"
                  },
                  "mode": "markers",
                  "name": "Bohol",
                  "orientation": "v",
                  "showlegend": true,
                  "type": "scatter",
                  "x": [
                    237836,
                    256405,
                    255053,
                    252816,
                    161003,
                    238728,
                    225548,
                    153405,
                    188832.78,
                    210584,
                    170086.85,
                    212718.61
                  ],
                  "xaxis": "x",
                  "y": [
                    32.26999999999999,
                    34.82916666666666,
                    38.505,
                    35.58833333333334,
                    37.22083333333334,
                    40.15333333333333,
                    43.836666666666666,
                    40.545,
                    40.0525,
                    39.362500000000004,
                    41.47416666666667,
                    44.96750000000001
                  ],
                  "yaxis": "y"
                },
                {
                  "hovertemplate": "Geolocation=Cebu<br>Volume=%{x}<br>Price=%{y}<extra></extra>",
                  "legendgroup": "Cebu",
                  "marker": {
                    "color": "#FFA15A",
                    "symbol": "circle"
                  },
                  "mode": "markers",
                  "name": "Cebu",
                  "orientation": "v",
                  "showlegend": true,
                  "type": "scatter",
                  "x": [
                    16935,
                    17660,
                    16765,
                    14291,
                    13546,
                    14514,
                    13898,
                    11409,
                    11206,
                    12199,
                    11898.3,
                    12046.18
                  ],
                  "xaxis": "x",
                  "y": [
                    39.15,
                    40.964999999999996,
                    47.58916666666667,
                    47.335,
                    48.354166666666664,
                    47.31500000000002,
                    49.605833333333344,
                    47.48583333333334,
                    44.96083333333335,
                    42.445,
                    44.47833333333333,
                    47.116666666666674
                  ],
                  "yaxis": "y"
                },
                {
                  "hovertemplate": "Geolocation=Negros Oriental<br>Volume=%{x}<br>Price=%{y}<extra></extra>",
                  "legendgroup": "Negros Oriental",
                  "marker": {
                    "color": "#19d3f3",
                    "symbol": "circle"
                  },
                  "mode": "markers",
                  "name": "Negros Oriental",
                  "orientation": "v",
                  "showlegend": true,
                  "type": "scatter",
                  "x": [
                    69663,
                    71173,
                    64612,
                    66393,
                    55744,
                    69305,
                    67590,
                    56884.5,
                    58983,
                    64176,
                    56925.8,
                    65855.67
                  ],
                  "xaxis": "x",
                  "y": [
                    34.06916666666667,
                    35.19916666666666,
                    42.07,
                    40.81333333333333,
                    43.284166666666664,
                    43.63583333333333,
                    45.41333333333333,
                    40.20333333333333,
                    38.266666666666666,
                    39.11333333333334,
                    40.07833333333333,
                    43.755833333333335
                  ],
                  "yaxis": "y"
                },
                {
                  "hovertemplate": "Geolocation=Siquijor<br>Volume=%{x}<br>Price=%{y}<extra></extra>",
                  "legendgroup": "Siquijor",
                  "marker": {
                    "color": "#FF6692",
                    "symbol": "circle"
                  },
                  "mode": "markers",
                  "name": "Siquijor",
                  "orientation": "v",
                  "showlegend": true,
                  "type": "scatter",
                  "x": [
                    2686,
                    2459,
                    2392,
                    2694,
                    1689,
                    2662,
                    2423,
                    1388,
                    1502,
                    2543,
                    3483.62,
                    2452.92
                  ],
                  "xaxis": "x",
                  "y": [
                    35.20333333333333,
                    37.76916666666667,
                    43.759166666666665,
                    41.75333333333333,
                    40.690000000000005,
                    43.309999999999995,
                    48.232499999999995,
                    45.04250000000001,
                    40.88666666666666,
                    39.945,
                    40.58583333333333,
                    45.70166666666666
                  ],
                  "yaxis": "y"
                },
                {
                  "hovertemplate": "Geolocation=Biliran<br>Volume=%{x}<br>Price=%{y}<extra></extra>",
                  "legendgroup": "Biliran",
                  "marker": {
                    "color": "#B6E880",
                    "symbol": "circle"
                  },
                  "mode": "markers",
                  "name": "Biliran",
                  "orientation": "v",
                  "showlegend": true,
                  "type": "scatter",
                  "x": [
                    66543,
                    66309,
                    66343,
                    66567,
                    67881.36,
                    65211,
                    55728,
                    53690,
                    53609,
                    53222.5,
                    52579.26,
                    51710.02
                  ],
                  "xaxis": "x",
                  "y": [
                    35.0325,
                    37.626666666666665,
                    43.17583333333332,
                    41.3975,
                    40.69916666666666,
                    42.074999999999996,
                    45.51999999999999,
                    45.85249999999999,
                    44.60249999999999,
                    42.09583333333333,
                    41.8175,
                    44.75333333333333
                  ],
                  "yaxis": "y"
                },
                {
                  "hovertemplate": "Geolocation=Eastern Samar<br>Volume=%{x}<br>Price=%{y}<extra></extra>",
                  "legendgroup": "Eastern Samar",
                  "marker": {
                    "color": "#FF97FF",
                    "symbol": "circle"
                  },
                  "mode": "markers",
                  "name": "Eastern Samar",
                  "orientation": "v",
                  "showlegend": true,
                  "type": "scatter",
                  "x": [
                    59413,
                    63225,
                    63605,
                    62388,
                    61902,
                    59754,
                    59588,
                    57513.72,
                    50196.5,
                    53243.58,
                    55252.12,
                    54266.29
                  ],
                  "xaxis": "x",
                  "y": [
                    33.6475,
                    35.780833333333334,
                    43.85166666666667,
                    41.37916666666666,
                    39.745,
                    40.06583333333334,
                    40.70666666666667,
                    39.6725,
                    39.27833333333333,
                    37.93916666666667,
                    38.61333333333334,
                    41.10916666666667
                  ],
                  "yaxis": "y"
                },
                {
                  "hovertemplate": "Geolocation=Leyte<br>Volume=%{x}<br>Price=%{y}<extra></extra>",
                  "legendgroup": "Leyte",
                  "marker": {
                    "color": "#FECB52",
                    "symbol": "circle"
                  },
                  "mode": "markers",
                  "name": "Leyte",
                  "orientation": "v",
                  "showlegend": true,
                  "type": "scatter",
                  "x": [
                    521115,
                    502746,
                    502146,
                    489405,
                    473580,
                    481487,
                    486877.96,
                    463785.86,
                    462010.3,
                    432309.75,
                    434479.29,
                    442248.56
                  ],
                  "xaxis": "x",
                  "y": [
                    32.50666666666666,
                    35.526666666666664,
                    41.64333333333334,
                    40.15833333333333,
                    40.159166666666664,
                    41.75333333333333,
                    39.29416666666667,
                    40.22416666666667,
                    37.9325,
                    39.58166666666667,
                    41.214166666666664,
                    43.393333333333324
                  ],
                  "yaxis": "y"
                },
                {
                  "hovertemplate": "Geolocation=Northern Samar<br>Volume=%{x}<br>Price=%{y}<extra></extra>",
                  "legendgroup": "Northern Samar",
                  "marker": {
                    "color": "#636efa",
                    "symbol": "circle"
                  },
                  "mode": "markers",
                  "name": "Northern Samar",
                  "orientation": "v",
                  "showlegend": true,
                  "type": "scatter",
                  "x": [
                    111206,
                    116713,
                    117965,
                    117240,
                    111086,
                    112585,
                    104971,
                    94213.27,
                    113622.75,
                    82833,
                    80943.64,
                    80590.27
                  ],
                  "xaxis": "x",
                  "y": [
                    33.10583333333333,
                    33.902499999999996,
                    41.26833333333333,
                    37.93333333333333,
                    35.751666666666665,
                    39.49583333333333,
                    45.373333333333335,
                    36.122499999999995,
                    34.604166666666664,
                    34.874166666666675,
                    36.805,
                    40.18
                  ],
                  "yaxis": "y"
                },
                {
                  "hovertemplate": "Geolocation=Southern Leyte<br>Volume=%{x}<br>Price=%{y}<extra></extra>",
                  "legendgroup": "Southern Leyte",
                  "marker": {
                    "color": "#EF553B",
                    "symbol": "circle"
                  },
                  "mode": "markers",
                  "name": "Southern Leyte",
                  "orientation": "v",
                  "showlegend": true,
                  "type": "scatter",
                  "x": [
                    96166,
                    94871,
                    92572,
                    92581,
                    91088,
                    75336,
                    88145,
                    80540,
                    81513.6,
                    78514,
                    62239.73,
                    62102.58
                  ],
                  "xaxis": "x",
                  "y": [
                    42.45583333333334,
                    41.97916666666668,
                    45.989166666666655,
                    47.51583333333334,
                    50.23,
                    47.10666666666666,
                    49.44166666666667,
                    44.26833333333334,
                    41.785833333333336,
                    42.95416666666667,
                    43.77249999999999,
                    47.245
                  ],
                  "yaxis": "y"
                },
                {
                  "hovertemplate": "Geolocation=Zamboanga del Norte<br>Volume=%{x}<br>Price=%{y}<extra></extra>",
                  "legendgroup": "Zamboanga del Norte",
                  "marker": {
                    "color": "#00cc96",
                    "symbol": "circle"
                  },
                  "mode": "markers",
                  "name": "Zamboanga del Norte",
                  "orientation": "v",
                  "showlegend": true,
                  "type": "scatter",
                  "x": [
                    96868,
                    116808,
                    114392,
                    125065,
                    85815,
                    104810,
                    132312.36,
                    105398.98,
                    108395.4,
                    119409,
                    114490.97,
                    110914.49
                  ],
                  "xaxis": "x",
                  "y": [
                    33.70166666666666,
                    37.086666666666666,
                    42.7525,
                    42.85583333333333,
                    41.86666666666667,
                    42.28416666666667,
                    47.66166666666667,
                    50.02500000000001,
                    43.568333333333335,
                    40.3675,
                    42.19833333333333,
                    46.27
                  ],
                  "yaxis": "y"
                },
                {
                  "hovertemplate": "Geolocation=Zamboanga del Sur<br>Volume=%{x}<br>Price=%{y}<extra></extra>",
                  "legendgroup": "Zamboanga del Sur",
                  "marker": {
                    "color": "#ab63fa",
                    "symbol": "circle"
                  },
                  "mode": "markers",
                  "name": "Zamboanga del Sur",
                  "orientation": "v",
                  "showlegend": true,
                  "type": "scatter",
                  "x": [
                    323170,
                    321487,
                    341395,
                    333192,
                    309530.53,
                    380052,
                    382022.13,
                    367792.16,
                    334184.84,
                    368938.65,
                    355680.95,
                    413850.6
                  ],
                  "xaxis": "x",
                  "y": [
                    35.982499999999995,
                    38.39833333333333,
                    43.45083333333333,
                    43.10583333333333,
                    41.387499999999996,
                    41.85583333333333,
                    45.73499999999999,
                    43.01833333333334,
                    39.72,
                    36.90083333333333,
                    37.9775,
                    44.07750000000001
                  ],
                  "yaxis": "y"
                },
                {
                  "hovertemplate": "Geolocation=Zamboanga Sibugay<br>Volume=%{x}<br>Price=%{y}<extra></extra>",
                  "legendgroup": "Zamboanga Sibugay",
                  "marker": {
                    "color": "#FFA15A",
                    "symbol": "circle"
                  },
                  "mode": "markers",
                  "name": "Zamboanga Sibugay",
                  "orientation": "v",
                  "showlegend": true,
                  "type": "scatter",
                  "x": [
                    170177,
                    173266,
                    173535,
                    175015,
                    157749.37,
                    188886,
                    184828.66,
                    178616.37,
                    174808.62,
                    179007.2,
                    181524.62,
                    179099.22
                  ],
                  "xaxis": "x",
                  "y": [
                    32.23583333333333,
                    35.762499999999996,
                    39.95583333333333,
                    41.399166666666666,
                    41.58583333333333,
                    41.711666666666666,
                    51.99666666666666,
                    47.3125,
                    41.791666666666664,
                    39.81583333333333,
                    38.9125,
                    43.69499999999999
                  ],
                  "yaxis": "y"
                },
                {
                  "hovertemplate": "Geolocation=Bukidnon<br>Volume=%{x}<br>Price=%{y}<extra></extra>",
                  "legendgroup": "Bukidnon",
                  "marker": {
                    "color": "#19d3f3",
                    "symbol": "circle"
                  },
                  "mode": "markers",
                  "name": "Bukidnon",
                  "orientation": "v",
                  "showlegend": true,
                  "type": "scatter",
                  "x": [
                    373221,
                    400491,
                    426641,
                    436575,
                    425116,
                    457102,
                    470173.68,
                    469468.05,
                    484697.53,
                    499515.39,
                    512414.01,
                    517571.36
                  ],
                  "xaxis": "x",
                  "y": [
                    38.149166666666666,
                    39.68583333333334,
                    42.086666666666666,
                    41.22,
                    41.555,
                    41.98083333333333,
                    44.5,
                    44.25,
                    40.5325,
                    39.34,
                    39.208333333333336,
                    43.708333333333336
                  ],
                  "yaxis": "y"
                },
                {
                  "hovertemplate": "Geolocation=Camiguin<br>Volume=%{x}<br>Price=%{y}<extra></extra>",
                  "legendgroup": "Camiguin",
                  "marker": {
                    "color": "#FF6692",
                    "symbol": "circle"
                  },
                  "mode": "markers",
                  "name": "Camiguin",
                  "orientation": "v",
                  "showlegend": true,
                  "type": "scatter",
                  "x": [
                    2473,
                    2537,
                    2574,
                    2623,
                    2158,
                    1986,
                    2338.6,
                    2037.97,
                    2133.16,
                    2085.6,
                    2168.09,
                    2423.54
                  ],
                  "xaxis": "x",
                  "y": [
                    35.83833333333333,
                    37.024166666666666,
                    43.560833333333335,
                    43.28916666666667,
                    42.41833333333333,
                    42.69,
                    44.44083333333334,
                    44.19166666666666,
                    40.482499999999995,
                    39.29,
                    39.593333333333334,
                    44.16416666666667
                  ],
                  "yaxis": "y"
                },
                {
                  "hovertemplate": "Geolocation=Lanao del Norte<br>Volume=%{x}<br>Price=%{y}<extra></extra>",
                  "legendgroup": "Lanao del Norte",
                  "marker": {
                    "color": "#B6E880",
                    "symbol": "circle"
                  },
                  "mode": "markers",
                  "name": "Lanao del Norte",
                  "orientation": "v",
                  "showlegend": true,
                  "type": "scatter",
                  "x": [
                    158407,
                    165327,
                    171770,
                    173586,
                    179002.85,
                    179509.9,
                    180854.54,
                    182351.49,
                    188361.69,
                    187808.88,
                    197453.15,
                    202754.66
                  ],
                  "xaxis": "x",
                  "y": [
                    34.57916666666667,
                    35.972500000000004,
                    37.888333333333335,
                    37.88666666666666,
                    39.46083333333333,
                    39.455,
                    41.391666666666666,
                    41.159166666666664,
                    37.70416666666667,
                    36.594166666666666,
                    37.18749999999999,
                    43.02000000000001
                  ],
                  "yaxis": "y"
                },
                {
                  "hovertemplate": "Geolocation=Misamis Occidental<br>Volume=%{x}<br>Price=%{y}<extra></extra>",
                  "legendgroup": "Misamis Occidental",
                  "marker": {
                    "color": "#FF97FF",
                    "symbol": "circle"
                  },
                  "mode": "markers",
                  "name": "Misamis Occidental",
                  "orientation": "v",
                  "showlegend": true,
                  "type": "scatter",
                  "x": [
                    77237,
                    81185,
                    87203,
                    87467,
                    83948,
                    82771,
                    83169.5,
                    82619.5,
                    82408.38,
                    83301.4,
                    80577.95,
                    78207
                  ],
                  "xaxis": "x",
                  "y": [
                    36.03666666666667,
                    38.375,
                    41.2175,
                    40.53333333333333,
                    40.91,
                    40.68,
                    46.67416666666666,
                    46.4125,
                    42.514166666666675,
                    41.26166666666666,
                    41.40916666666666,
                    42.98333333333334
                  ],
                  "yaxis": "y"
                },
                {
                  "hovertemplate": "Geolocation=Misamis Oriental<br>Volume=%{x}<br>Price=%{y}<extra></extra>",
                  "legendgroup": "Misamis Oriental",
                  "marker": {
                    "color": "#FECB52",
                    "symbol": "circle"
                  },
                  "mode": "markers",
                  "name": "Misamis Oriental",
                  "orientation": "v",
                  "showlegend": true,
                  "type": "scatter",
                  "x": [
                    26010,
                    25363,
                    25576,
                    24869,
                    21059.15,
                    24364.5,
                    24864,
                    24661.58,
                    24224.22,
                    20929.04,
                    22125.37,
                    23284.85
                  ],
                  "xaxis": "x",
                  "y": [
                    32.64666666666667,
                    34.06916666666667,
                    39.449999999999996,
                    38.97083333333333,
                    38.7125,
                    39.16916666666666,
                    47.04333333333333,
                    46.78000000000001,
                    42.85,
                    41.589999999999996,
                    41.770833333333336,
                    45.14166666666667
                  ],
                  "yaxis": "y"
                },
                {
                  "hovertemplate": "Geolocation=Davao del Norte<br>Volume=%{x}<br>Price=%{y}<extra></extra>",
                  "legendgroup": "Davao del Norte",
                  "marker": {
                    "color": "#636efa",
                    "symbol": "circle"
                  },
                  "mode": "markers",
                  "name": "Davao del Norte",
                  "orientation": "v",
                  "showlegend": true,
                  "type": "scatter",
                  "x": [
                    133555,
                    122789,
                    123928,
                    125919,
                    110623,
                    124645,
                    129632.49,
                    127404.36,
                    129737.38,
                    134650.36,
                    138980.35,
                    143098.22
                  ],
                  "xaxis": "x",
                  "y": [
                    38.59499999999999,
                    38.53166666666666,
                    41.1725,
                    43.25666666666666,
                    42.42666666666667,
                    43.0725,
                    47.593333333333334,
                    42.85916666666666,
                    42.06,
                    38.89,
                    37.96,
                    43.012499999999996
                  ],
                  "yaxis": "y"
                },
                {
                  "hovertemplate": "Geolocation=Davao del Sur<br>Volume=%{x}<br>Price=%{y}<extra></extra>",
                  "legendgroup": "Davao del Sur",
                  "marker": {
                    "color": "#EF553B",
                    "symbol": "circle"
                  },
                  "mode": "markers",
                  "name": "Davao del Sur",
                  "orientation": "v",
                  "showlegend": true,
                  "type": "scatter",
                  "x": [
                    135492,
                    126256,
                    137306,
                    136322,
                    120805,
                    126862,
                    148762.57,
                    118567.08,
                    123709.71,
                    138124.41,
                    142438.92,
                    144948.85
                  ],
                  "xaxis": "x",
                  "y": [
                    33.100833333333334,
                    34.44083333333333,
                    37.0275,
                    38.76916666666667,
                    38.641666666666666,
                    40.01916666666667,
                    42.92166666666666,
                    36.94416666666667,
                    36.343333333333334,
                    38.1425,
                    40.32583333333333,
                    43.939166666666665
                  ],
                  "yaxis": "y"
                },
                {
                  "hovertemplate": "Geolocation=Davao Oriental<br>Volume=%{x}<br>Price=%{y}<extra></extra>",
                  "legendgroup": "Davao Oriental",
                  "marker": {
                    "color": "#00cc96",
                    "symbol": "circle"
                  },
                  "mode": "markers",
                  "name": "Davao Oriental",
                  "orientation": "v",
                  "showlegend": true,
                  "type": "scatter",
                  "x": [
                    62046,
                    61463,
                    65205,
                    69443,
                    69152,
                    67632,
                    71206,
                    71446.38,
                    71366.71,
                    72032.43,
                    72032.56,
                    72490.8
                  ],
                  "xaxis": "x",
                  "y": [
                    39.84166666666666,
                    38.77416666666667,
                    39.0375,
                    40.47916666666666,
                    39.55083333333334,
                    41.345833333333324,
                    46.4475,
                    39.89416666666667,
                    38.755,
                    36.518333333333324,
                    37.56333333333334,
                    42.87583333333333
                  ],
                  "yaxis": "y"
                },
                {
                  "hovertemplate": "Geolocation=South Cotabato<br>Volume=%{x}<br>Price=%{y}<extra></extra>",
                  "legendgroup": "South Cotabato",
                  "marker": {
                    "color": "#ab63fa",
                    "symbol": "circle"
                  },
                  "mode": "markers",
                  "name": "South Cotabato",
                  "orientation": "v",
                  "showlegend": true,
                  "type": "scatter",
                  "x": [
                    309941,
                    329429,
                    344892,
                    337445,
                    307464,
                    358563,
                    348806,
                    304298,
                    306343.16,
                    313631,
                    299554.52,
                    310351.32
                  ],
                  "xaxis": "x",
                  "y": [
                    33.775,
                    34.17916666666667,
                    39.024166666666666,
                    36.99166666666667,
                    38.6625,
                    39.45916666666666,
                    44.531666666666666,
                    38.05,
                    38.309999999999995,
                    36.019999999999996,
                    36.98583333333333,
                    39.714166666666664
                  ],
                  "yaxis": "y"
                },
                {
                  "hovertemplate": "Geolocation=Sultan Kudarat<br>Volume=%{x}<br>Price=%{y}<extra></extra>",
                  "legendgroup": "Sultan Kudarat",
                  "marker": {
                    "color": "#FFA15A",
                    "symbol": "circle"
                  },
                  "mode": "markers",
                  "name": "Sultan Kudarat",
                  "orientation": "v",
                  "showlegend": true,
                  "type": "scatter",
                  "x": [
                    419751,
                    442855,
                    440496,
                    432842,
                    417974,
                    419086,
                    430996,
                    376749.31,
                    396899.98,
                    422381.24,
                    394006.61,
                    406929.64
                  ],
                  "xaxis": "x",
                  "y": [
                    34.15083333333333,
                    34.82749999999999,
                    40.70333333333333,
                    39.0025,
                    40.074999999999996,
                    41.0025,
                    46.732499999999995,
                    41.920833333333334,
                    39.02166666666667,
                    35.87083333333333,
                    37.51333333333333,
                    41.964166666666664
                  ],
                  "yaxis": "y"
                },
                {
                  "hovertemplate": "Geolocation=Agusan del Norte<br>Volume=%{x}<br>Price=%{y}<extra></extra>",
                  "legendgroup": "Agusan del Norte",
                  "marker": {
                    "color": "#19d3f3",
                    "symbol": "circle"
                  },
                  "mode": "markers",
                  "name": "Agusan del Norte",
                  "orientation": "v",
                  "showlegend": true,
                  "type": "scatter",
                  "x": [
                    73595,
                    95434,
                    99786,
                    76191,
                    87312,
                    80952,
                    81387.78,
                    78867,
                    70493.42,
                    64669,
                    75213.9,
                    82990.38
                  ],
                  "xaxis": "x",
                  "y": [
                    34.12000000000001,
                    35.510833333333345,
                    39.81166666666667,
                    40.784166666666664,
                    40.92916666666666,
                    41.709999999999994,
                    44.05833333333334,
                    40.36,
                    38.97416666666667,
                    36.59583333333334,
                    36.744166666666665,
                    39.142500000000005
                  ],
                  "yaxis": "y"
                },
                {
                  "hovertemplate": "Geolocation=Agusan del Sur<br>Volume=%{x}<br>Price=%{y}<extra></extra>",
                  "legendgroup": "Agusan del Sur",
                  "marker": {
                    "color": "#FF6692",
                    "symbol": "circle"
                  },
                  "mode": "markers",
                  "name": "Agusan del Sur",
                  "orientation": "v",
                  "showlegend": true,
                  "type": "scatter",
                  "x": [
                    240381,
                    305171,
                    292019,
                    233526,
                    222420,
                    247353,
                    258978.55,
                    214124.14,
                    269438.44,
                    257215,
                    295052.71,
                    301609.65
                  ],
                  "xaxis": "x",
                  "y": [
                    35.333333333333336,
                    37.44416666666667,
                    41.33583333333333,
                    42.9925,
                    43.67666666666667,
                    43.26500000000001,
                    45.00083333333333,
                    40.51749999999999,
                    38.317499999999995,
                    36.60916666666666,
                    37.9125,
                    41.520833333333336
                  ],
                  "yaxis": "y"
                },
                {
                  "hovertemplate": "Geolocation=Surigao del Norte<br>Volume=%{x}<br>Price=%{y}<extra></extra>",
                  "legendgroup": "Surigao del Norte",
                  "marker": {
                    "color": "#B6E880",
                    "symbol": "circle"
                  },
                  "mode": "markers",
                  "name": "Surigao del Norte",
                  "orientation": "v",
                  "showlegend": true,
                  "type": "scatter",
                  "x": [
                    64852,
                    69721,
                    63694,
                    60575.5,
                    49608,
                    52559,
                    61934.29,
                    67010.2,
                    69496.1,
                    63997.64,
                    59542.53,
                    68544
                  ],
                  "xaxis": "x",
                  "y": [
                    40.690000000000005,
                    41.91666666666667,
                    45.13166666666666,
                    42.22666666666667,
                    41.9825,
                    43.626666666666665,
                    49.16,
                    43.83083333333334,
                    39.48,
                    36.95916666666667,
                    37.535833333333336,
                    42.37
                  ],
                  "yaxis": "y"
                },
                {
                  "hovertemplate": "Geolocation=Surigao del Sur<br>Volume=%{x}<br>Price=%{y}<extra></extra>",
                  "legendgroup": "Surigao del Sur",
                  "marker": {
                    "color": "#FF97FF",
                    "symbol": "circle"
                  },
                  "mode": "markers",
                  "name": "Surigao del Sur",
                  "orientation": "v",
                  "showlegend": true,
                  "type": "scatter",
                  "x": [
                    84550,
                    106585,
                    112493,
                    104883,
                    96942,
                    94752,
                    99916.2,
                    83316.29,
                    87030.02,
                    75468.74,
                    83547.19,
                    83959
                  ],
                  "xaxis": "x",
                  "y": [
                    33.90833333333333,
                    36.17166666666666,
                    42.004999999999995,
                    42.41,
                    42.55416666666667,
                    42.8675,
                    44.890833333333326,
                    40.54833333333334,
                    39.47666666666667,
                    37.4775,
                    37.519999999999996,
                    42.59666666666667
                  ],
                  "yaxis": "y"
                },
                {
                  "hovertemplate": "Geolocation=Basilan<br>Volume=%{x}<br>Price=%{y}<extra></extra>",
                  "legendgroup": "Basilan",
                  "marker": {
                    "color": "#FECB52",
                    "symbol": "circle"
                  },
                  "mode": "markers",
                  "name": "Basilan",
                  "orientation": "v",
                  "showlegend": true,
                  "type": "scatter",
                  "x": [
                    4116,
                    5178,
                    3799,
                    2710,
                    2156.4,
                    1689,
                    2031.06,
                    1111.41,
                    273.5,
                    484.48,
                    727.45,
                    703
                  ],
                  "xaxis": "x",
                  "y": [
                    30.93083333333333,
                    31.607499999999998,
                    33.54916666666667,
                    34.980000000000004,
                    34.92999999999999,
                    35.13,
                    38.10666666666666,
                    40.36083333333334,
                    36.50000000000001,
                    37.3975,
                    38.02166666666667,
                    44.16916666666666
                  ],
                  "yaxis": "y"
                },
                {
                  "hovertemplate": "Geolocation=Lanao del Sur<br>Volume=%{x}<br>Price=%{y}<extra></extra>",
                  "legendgroup": "Lanao del Sur",
                  "marker": {
                    "color": "#636efa",
                    "symbol": "circle"
                  },
                  "mode": "markers",
                  "name": "Lanao del Sur",
                  "orientation": "v",
                  "showlegend": true,
                  "type": "scatter",
                  "x": [
                    186680,
                    189853,
                    164117,
                    149354,
                    137666,
                    181662,
                    199964,
                    190040,
                    217678.81,
                    219381.05,
                    223465.04,
                    227098.5
                  ],
                  "xaxis": "x",
                  "y": [
                    38.12916666666666,
                    39.098333333333336,
                    41.20416666666667,
                    41.3175,
                    43.531666666666666,
                    46.663333333333334,
                    49.475000000000016,
                    48.455833333333345,
                    47.53583333333333,
                    45.1175,
                    47.357499999999995,
                    49.8375
                  ],
                  "yaxis": "y"
                },
                {
                  "hovertemplate": "Geolocation=Maguindanao<br>Volume=%{x}<br>Price=%{y}<extra></extra>",
                  "legendgroup": "Maguindanao",
                  "marker": {
                    "color": "#EF553B",
                    "symbol": "circle"
                  },
                  "mode": "markers",
                  "name": "Maguindanao",
                  "orientation": "v",
                  "showlegend": true,
                  "type": "scatter",
                  "x": [
                    348123,
                    414060,
                    386534,
                    333258,
                    402536,
                    391924,
                    433196.5,
                    480713.2,
                    505916.19,
                    622850.07,
                    600294.13,
                    621595.9
                  ],
                  "xaxis": "x",
                  "y": [
                    30.00333333333333,
                    31.385833333333327,
                    34.085,
                    37.60166666666667,
                    38.48916666666667,
                    40.87083333333333,
                    39.791666666666664,
                    35.85666666666666,
                    34.7725,
                    36.846666666666664,
                    39.63833333333333,
                    43.413333333333334
                  ],
                  "yaxis": "y"
                }
              ],
              "layout": {
                "legend": {
                  "title": {
                    "text": "Geolocation"
                  },
                  "tracegroupgap": 0
                },
                "margin": {
                  "t": 60
                },
                "template": {
                  "data": {
                    "bar": [
                      {
                        "error_x": {
                          "color": "#2a3f5f"
                        },
                        "error_y": {
                          "color": "#2a3f5f"
                        },
                        "marker": {
                          "line": {
                            "color": "#E5ECF6",
                            "width": 0.5
                          },
                          "pattern": {
                            "fillmode": "overlay",
                            "size": 10,
                            "solidity": 0.2
                          }
                        },
                        "type": "bar"
                      }
                    ],
                    "barpolar": [
                      {
                        "marker": {
                          "line": {
                            "color": "#E5ECF6",
                            "width": 0.5
                          },
                          "pattern": {
                            "fillmode": "overlay",
                            "size": 10,
                            "solidity": 0.2
                          }
                        },
                        "type": "barpolar"
                      }
                    ],
                    "carpet": [
                      {
                        "aaxis": {
                          "endlinecolor": "#2a3f5f",
                          "gridcolor": "white",
                          "linecolor": "white",
                          "minorgridcolor": "white",
                          "startlinecolor": "#2a3f5f"
                        },
                        "baxis": {
                          "endlinecolor": "#2a3f5f",
                          "gridcolor": "white",
                          "linecolor": "white",
                          "minorgridcolor": "white",
                          "startlinecolor": "#2a3f5f"
                        },
                        "type": "carpet"
                      }
                    ],
                    "choropleth": [
                      {
                        "colorbar": {
                          "outlinewidth": 0,
                          "ticks": ""
                        },
                        "type": "choropleth"
                      }
                    ],
                    "contour": [
                      {
                        "colorbar": {
                          "outlinewidth": 0,
                          "ticks": ""
                        },
                        "colorscale": [
                          [
                            0,
                            "#0d0887"
                          ],
                          [
                            0.1111111111111111,
                            "#46039f"
                          ],
                          [
                            0.2222222222222222,
                            "#7201a8"
                          ],
                          [
                            0.3333333333333333,
                            "#9c179e"
                          ],
                          [
                            0.4444444444444444,
                            "#bd3786"
                          ],
                          [
                            0.5555555555555556,
                            "#d8576b"
                          ],
                          [
                            0.6666666666666666,
                            "#ed7953"
                          ],
                          [
                            0.7777777777777778,
                            "#fb9f3a"
                          ],
                          [
                            0.8888888888888888,
                            "#fdca26"
                          ],
                          [
                            1,
                            "#f0f921"
                          ]
                        ],
                        "type": "contour"
                      }
                    ],
                    "contourcarpet": [
                      {
                        "colorbar": {
                          "outlinewidth": 0,
                          "ticks": ""
                        },
                        "type": "contourcarpet"
                      }
                    ],
                    "heatmap": [
                      {
                        "colorbar": {
                          "outlinewidth": 0,
                          "ticks": ""
                        },
                        "colorscale": [
                          [
                            0,
                            "#0d0887"
                          ],
                          [
                            0.1111111111111111,
                            "#46039f"
                          ],
                          [
                            0.2222222222222222,
                            "#7201a8"
                          ],
                          [
                            0.3333333333333333,
                            "#9c179e"
                          ],
                          [
                            0.4444444444444444,
                            "#bd3786"
                          ],
                          [
                            0.5555555555555556,
                            "#d8576b"
                          ],
                          [
                            0.6666666666666666,
                            "#ed7953"
                          ],
                          [
                            0.7777777777777778,
                            "#fb9f3a"
                          ],
                          [
                            0.8888888888888888,
                            "#fdca26"
                          ],
                          [
                            1,
                            "#f0f921"
                          ]
                        ],
                        "type": "heatmap"
                      }
                    ],
                    "heatmapgl": [
                      {
                        "colorbar": {
                          "outlinewidth": 0,
                          "ticks": ""
                        },
                        "colorscale": [
                          [
                            0,
                            "#0d0887"
                          ],
                          [
                            0.1111111111111111,
                            "#46039f"
                          ],
                          [
                            0.2222222222222222,
                            "#7201a8"
                          ],
                          [
                            0.3333333333333333,
                            "#9c179e"
                          ],
                          [
                            0.4444444444444444,
                            "#bd3786"
                          ],
                          [
                            0.5555555555555556,
                            "#d8576b"
                          ],
                          [
                            0.6666666666666666,
                            "#ed7953"
                          ],
                          [
                            0.7777777777777778,
                            "#fb9f3a"
                          ],
                          [
                            0.8888888888888888,
                            "#fdca26"
                          ],
                          [
                            1,
                            "#f0f921"
                          ]
                        ],
                        "type": "heatmapgl"
                      }
                    ],
                    "histogram": [
                      {
                        "marker": {
                          "pattern": {
                            "fillmode": "overlay",
                            "size": 10,
                            "solidity": 0.2
                          }
                        },
                        "type": "histogram"
                      }
                    ],
                    "histogram2d": [
                      {
                        "colorbar": {
                          "outlinewidth": 0,
                          "ticks": ""
                        },
                        "colorscale": [
                          [
                            0,
                            "#0d0887"
                          ],
                          [
                            0.1111111111111111,
                            "#46039f"
                          ],
                          [
                            0.2222222222222222,
                            "#7201a8"
                          ],
                          [
                            0.3333333333333333,
                            "#9c179e"
                          ],
                          [
                            0.4444444444444444,
                            "#bd3786"
                          ],
                          [
                            0.5555555555555556,
                            "#d8576b"
                          ],
                          [
                            0.6666666666666666,
                            "#ed7953"
                          ],
                          [
                            0.7777777777777778,
                            "#fb9f3a"
                          ],
                          [
                            0.8888888888888888,
                            "#fdca26"
                          ],
                          [
                            1,
                            "#f0f921"
                          ]
                        ],
                        "type": "histogram2d"
                      }
                    ],
                    "histogram2dcontour": [
                      {
                        "colorbar": {
                          "outlinewidth": 0,
                          "ticks": ""
                        },
                        "colorscale": [
                          [
                            0,
                            "#0d0887"
                          ],
                          [
                            0.1111111111111111,
                            "#46039f"
                          ],
                          [
                            0.2222222222222222,
                            "#7201a8"
                          ],
                          [
                            0.3333333333333333,
                            "#9c179e"
                          ],
                          [
                            0.4444444444444444,
                            "#bd3786"
                          ],
                          [
                            0.5555555555555556,
                            "#d8576b"
                          ],
                          [
                            0.6666666666666666,
                            "#ed7953"
                          ],
                          [
                            0.7777777777777778,
                            "#fb9f3a"
                          ],
                          [
                            0.8888888888888888,
                            "#fdca26"
                          ],
                          [
                            1,
                            "#f0f921"
                          ]
                        ],
                        "type": "histogram2dcontour"
                      }
                    ],
                    "mesh3d": [
                      {
                        "colorbar": {
                          "outlinewidth": 0,
                          "ticks": ""
                        },
                        "type": "mesh3d"
                      }
                    ],
                    "parcoords": [
                      {
                        "line": {
                          "colorbar": {
                            "outlinewidth": 0,
                            "ticks": ""
                          }
                        },
                        "type": "parcoords"
                      }
                    ],
                    "pie": [
                      {
                        "automargin": true,
                        "type": "pie"
                      }
                    ],
                    "scatter": [
                      {
                        "fillpattern": {
                          "fillmode": "overlay",
                          "size": 10,
                          "solidity": 0.2
                        },
                        "type": "scatter"
                      }
                    ],
                    "scatter3d": [
                      {
                        "line": {
                          "colorbar": {
                            "outlinewidth": 0,
                            "ticks": ""
                          }
                        },
                        "marker": {
                          "colorbar": {
                            "outlinewidth": 0,
                            "ticks": ""
                          }
                        },
                        "type": "scatter3d"
                      }
                    ],
                    "scattercarpet": [
                      {
                        "marker": {
                          "colorbar": {
                            "outlinewidth": 0,
                            "ticks": ""
                          }
                        },
                        "type": "scattercarpet"
                      }
                    ],
                    "scattergeo": [
                      {
                        "marker": {
                          "colorbar": {
                            "outlinewidth": 0,
                            "ticks": ""
                          }
                        },
                        "type": "scattergeo"
                      }
                    ],
                    "scattergl": [
                      {
                        "marker": {
                          "colorbar": {
                            "outlinewidth": 0,
                            "ticks": ""
                          }
                        },
                        "type": "scattergl"
                      }
                    ],
                    "scattermapbox": [
                      {
                        "marker": {
                          "colorbar": {
                            "outlinewidth": 0,
                            "ticks": ""
                          }
                        },
                        "type": "scattermapbox"
                      }
                    ],
                    "scatterpolar": [
                      {
                        "marker": {
                          "colorbar": {
                            "outlinewidth": 0,
                            "ticks": ""
                          }
                        },
                        "type": "scatterpolar"
                      }
                    ],
                    "scatterpolargl": [
                      {
                        "marker": {
                          "colorbar": {
                            "outlinewidth": 0,
                            "ticks": ""
                          }
                        },
                        "type": "scatterpolargl"
                      }
                    ],
                    "scatterternary": [
                      {
                        "marker": {
                          "colorbar": {
                            "outlinewidth": 0,
                            "ticks": ""
                          }
                        },
                        "type": "scatterternary"
                      }
                    ],
                    "surface": [
                      {
                        "colorbar": {
                          "outlinewidth": 0,
                          "ticks": ""
                        },
                        "colorscale": [
                          [
                            0,
                            "#0d0887"
                          ],
                          [
                            0.1111111111111111,
                            "#46039f"
                          ],
                          [
                            0.2222222222222222,
                            "#7201a8"
                          ],
                          [
                            0.3333333333333333,
                            "#9c179e"
                          ],
                          [
                            0.4444444444444444,
                            "#bd3786"
                          ],
                          [
                            0.5555555555555556,
                            "#d8576b"
                          ],
                          [
                            0.6666666666666666,
                            "#ed7953"
                          ],
                          [
                            0.7777777777777778,
                            "#fb9f3a"
                          ],
                          [
                            0.8888888888888888,
                            "#fdca26"
                          ],
                          [
                            1,
                            "#f0f921"
                          ]
                        ],
                        "type": "surface"
                      }
                    ],
                    "table": [
                      {
                        "cells": {
                          "fill": {
                            "color": "#EBF0F8"
                          },
                          "line": {
                            "color": "white"
                          }
                        },
                        "header": {
                          "fill": {
                            "color": "#C8D4E3"
                          },
                          "line": {
                            "color": "white"
                          }
                        },
                        "type": "table"
                      }
                    ]
                  },
                  "layout": {
                    "annotationdefaults": {
                      "arrowcolor": "#2a3f5f",
                      "arrowhead": 0,
                      "arrowwidth": 1
                    },
                    "autotypenumbers": "strict",
                    "coloraxis": {
                      "colorbar": {
                        "outlinewidth": 0,
                        "ticks": ""
                      }
                    },
                    "colorscale": {
                      "diverging": [
                        [
                          0,
                          "#8e0152"
                        ],
                        [
                          0.1,
                          "#c51b7d"
                        ],
                        [
                          0.2,
                          "#de77ae"
                        ],
                        [
                          0.3,
                          "#f1b6da"
                        ],
                        [
                          0.4,
                          "#fde0ef"
                        ],
                        [
                          0.5,
                          "#f7f7f7"
                        ],
                        [
                          0.6,
                          "#e6f5d0"
                        ],
                        [
                          0.7,
                          "#b8e186"
                        ],
                        [
                          0.8,
                          "#7fbc41"
                        ],
                        [
                          0.9,
                          "#4d9221"
                        ],
                        [
                          1,
                          "#276419"
                        ]
                      ],
                      "sequential": [
                        [
                          0,
                          "#0d0887"
                        ],
                        [
                          0.1111111111111111,
                          "#46039f"
                        ],
                        [
                          0.2222222222222222,
                          "#7201a8"
                        ],
                        [
                          0.3333333333333333,
                          "#9c179e"
                        ],
                        [
                          0.4444444444444444,
                          "#bd3786"
                        ],
                        [
                          0.5555555555555556,
                          "#d8576b"
                        ],
                        [
                          0.6666666666666666,
                          "#ed7953"
                        ],
                        [
                          0.7777777777777778,
                          "#fb9f3a"
                        ],
                        [
                          0.8888888888888888,
                          "#fdca26"
                        ],
                        [
                          1,
                          "#f0f921"
                        ]
                      ],
                      "sequentialminus": [
                        [
                          0,
                          "#0d0887"
                        ],
                        [
                          0.1111111111111111,
                          "#46039f"
                        ],
                        [
                          0.2222222222222222,
                          "#7201a8"
                        ],
                        [
                          0.3333333333333333,
                          "#9c179e"
                        ],
                        [
                          0.4444444444444444,
                          "#bd3786"
                        ],
                        [
                          0.5555555555555556,
                          "#d8576b"
                        ],
                        [
                          0.6666666666666666,
                          "#ed7953"
                        ],
                        [
                          0.7777777777777778,
                          "#fb9f3a"
                        ],
                        [
                          0.8888888888888888,
                          "#fdca26"
                        ],
                        [
                          1,
                          "#f0f921"
                        ]
                      ]
                    },
                    "colorway": [
                      "#636efa",
                      "#EF553B",
                      "#00cc96",
                      "#ab63fa",
                      "#FFA15A",
                      "#19d3f3",
                      "#FF6692",
                      "#B6E880",
                      "#FF97FF",
                      "#FECB52"
                    ],
                    "font": {
                      "color": "#2a3f5f"
                    },
                    "geo": {
                      "bgcolor": "white",
                      "lakecolor": "white",
                      "landcolor": "#E5ECF6",
                      "showlakes": true,
                      "showland": true,
                      "subunitcolor": "white"
                    },
                    "hoverlabel": {
                      "align": "left"
                    },
                    "hovermode": "closest",
                    "mapbox": {
                      "style": "light"
                    },
                    "paper_bgcolor": "white",
                    "plot_bgcolor": "#E5ECF6",
                    "polar": {
                      "angularaxis": {
                        "gridcolor": "white",
                        "linecolor": "white",
                        "ticks": ""
                      },
                      "bgcolor": "#E5ECF6",
                      "radialaxis": {
                        "gridcolor": "white",
                        "linecolor": "white",
                        "ticks": ""
                      }
                    },
                    "scene": {
                      "xaxis": {
                        "backgroundcolor": "#E5ECF6",
                        "gridcolor": "white",
                        "gridwidth": 2,
                        "linecolor": "white",
                        "showbackground": true,
                        "ticks": "",
                        "zerolinecolor": "white"
                      },
                      "yaxis": {
                        "backgroundcolor": "#E5ECF6",
                        "gridcolor": "white",
                        "gridwidth": 2,
                        "linecolor": "white",
                        "showbackground": true,
                        "ticks": "",
                        "zerolinecolor": "white"
                      },
                      "zaxis": {
                        "backgroundcolor": "#E5ECF6",
                        "gridcolor": "white",
                        "gridwidth": 2,
                        "linecolor": "white",
                        "showbackground": true,
                        "ticks": "",
                        "zerolinecolor": "white"
                      }
                    },
                    "shapedefaults": {
                      "line": {
                        "color": "#2a3f5f"
                      }
                    },
                    "ternary": {
                      "aaxis": {
                        "gridcolor": "white",
                        "linecolor": "white",
                        "ticks": ""
                      },
                      "baxis": {
                        "gridcolor": "white",
                        "linecolor": "white",
                        "ticks": ""
                      },
                      "bgcolor": "#E5ECF6",
                      "caxis": {
                        "gridcolor": "white",
                        "linecolor": "white",
                        "ticks": ""
                      }
                    },
                    "title": {
                      "x": 0.05
                    },
                    "xaxis": {
                      "automargin": true,
                      "gridcolor": "white",
                      "linecolor": "white",
                      "ticks": "",
                      "title": {
                        "standoff": 15
                      },
                      "zerolinecolor": "white",
                      "zerolinewidth": 2
                    },
                    "yaxis": {
                      "automargin": true,
                      "gridcolor": "white",
                      "linecolor": "white",
                      "ticks": "",
                      "title": {
                        "standoff": 15
                      },
                      "zerolinecolor": "white",
                      "zerolinewidth": 2
                    }
                  }
                },
                "xaxis": {
                  "anchor": "y",
                  "domain": [
                    0,
                    1
                  ],
                  "title": {
                    "text": "Volume"
                  }
                },
                "yaxis": {
                  "anchor": "x",
                  "domain": [
                    0,
                    1
                  ],
                  "title": {
                    "text": "Price"
                  }
                }
              }
            }
          },
          "metadata": {},
          "output_type": "display_data"
        },
        {
          "data": {
            "text/html": [
              "<div>\n",
              "<style scoped>\n",
              "    .dataframe tbody tr th:only-of-type {\n",
              "        vertical-align: middle;\n",
              "    }\n",
              "\n",
              "    .dataframe tbody tr th {\n",
              "        vertical-align: top;\n",
              "    }\n",
              "\n",
              "    .dataframe thead th {\n",
              "        text-align: right;\n",
              "    }\n",
              "</style>\n",
              "<table border=\"1\" class=\"dataframe\">\n",
              "  <thead>\n",
              "    <tr style=\"text-align: right;\">\n",
              "      <th></th>\n",
              "      <th>Geolocation</th>\n",
              "      <th>Commodity</th>\n",
              "      <th>Period</th>\n",
              "      <th>Price</th>\n",
              "    </tr>\n",
              "  </thead>\n",
              "  <tbody>\n",
              "    <tr>\n",
              "      <th>0</th>\n",
              "      <td>....Abra</td>\n",
              "      <td>Rice</td>\n",
              "      <td>2012</td>\n",
              "      <td>33.416667</td>\n",
              "    </tr>\n",
              "    <tr>\n",
              "      <th>1</th>\n",
              "      <td>....Apayao</td>\n",
              "      <td>Rice</td>\n",
              "      <td>2012</td>\n",
              "      <td>32.264167</td>\n",
              "    </tr>\n",
              "    <tr>\n",
              "      <th>2</th>\n",
              "      <td>....Benguet</td>\n",
              "      <td>Rice</td>\n",
              "      <td>2012</td>\n",
              "      <td>34.557500</td>\n",
              "    </tr>\n",
              "    <tr>\n",
              "      <th>3</th>\n",
              "      <td>....Ifugao</td>\n",
              "      <td>Rice</td>\n",
              "      <td>2012</td>\n",
              "      <td>43.230833</td>\n",
              "    </tr>\n",
              "    <tr>\n",
              "      <th>4</th>\n",
              "      <td>....Kalinga</td>\n",
              "      <td>Rice</td>\n",
              "      <td>2012</td>\n",
              "      <td>32.412500</td>\n",
              "    </tr>\n",
              "    <tr>\n",
              "      <th>...</th>\n",
              "      <td>...</td>\n",
              "      <td>...</td>\n",
              "      <td>...</td>\n",
              "      <td>...</td>\n",
              "    </tr>\n",
              "    <tr>\n",
              "      <th>871</th>\n",
              "      <td>....Surigao del Sur</td>\n",
              "      <td>Rice</td>\n",
              "      <td>2023</td>\n",
              "      <td>42.596667</td>\n",
              "    </tr>\n",
              "    <tr>\n",
              "      <th>872</th>\n",
              "      <td>....Basilan</td>\n",
              "      <td>Rice</td>\n",
              "      <td>2023</td>\n",
              "      <td>44.169167</td>\n",
              "    </tr>\n",
              "    <tr>\n",
              "      <th>873</th>\n",
              "      <td>....Lanao del Sur</td>\n",
              "      <td>Rice</td>\n",
              "      <td>2023</td>\n",
              "      <td>49.837500</td>\n",
              "    </tr>\n",
              "    <tr>\n",
              "      <th>874</th>\n",
              "      <td>....Maguindanao</td>\n",
              "      <td>Rice</td>\n",
              "      <td>2023</td>\n",
              "      <td>43.413333</td>\n",
              "    </tr>\n",
              "    <tr>\n",
              "      <th>875</th>\n",
              "      <td>....Tawi-Tawi</td>\n",
              "      <td>Rice</td>\n",
              "      <td>2023</td>\n",
              "      <td>45.686667</td>\n",
              "    </tr>\n",
              "  </tbody>\n",
              "</table>\n",
              "<p>876 rows × 4 columns</p>\n",
              "</div>"
            ],
            "text/plain": [
              "             Geolocation Commodity Period      Price\n",
              "0               ....Abra      Rice   2012  33.416667\n",
              "1             ....Apayao      Rice   2012  32.264167\n",
              "2            ....Benguet      Rice   2012  34.557500\n",
              "3             ....Ifugao      Rice   2012  43.230833\n",
              "4            ....Kalinga      Rice   2012  32.412500\n",
              "..                   ...       ...    ...        ...\n",
              "871  ....Surigao del Sur      Rice   2023  42.596667\n",
              "872          ....Basilan      Rice   2023  44.169167\n",
              "873    ....Lanao del Sur      Rice   2023  49.837500\n",
              "874      ....Maguindanao      Rice   2023  43.413333\n",
              "875        ....Tawi-Tawi      Rice   2023  45.686667\n",
              "\n",
              "[876 rows x 4 columns]"
            ]
          },
          "execution_count": 11,
          "metadata": {},
          "output_type": "execute_result"
        }
      ],
      "source": [
        "# RICE: Volume and Retail Price (Annual-Provincial)\n",
        "# Volume of Rice\n",
        "df1 = read_csv_to_df(\"datasets/agricultural-indicators/Volume_Rice and Corn_annual.csv\")\n",
        "df1 = df1[df1[\"Geolocation\"].apply(is_province)]\n",
        "df1 = df1[df1[\"Commodity\"] == \"Palay\"]\n",
        "df1[\"Commodity\"] = df1[\"Commodity\"].apply(lambda val: \"Rice\")\n",
        "df1 = df1.melt(id_vars=[\"Commodity\", \"Geolocation\"], value_vars=df1.columns[2:], var_name=\"Period\", value_name=\"Volume\")\n",
        "df1 = swap_columns(df1, \"Commodity\", \"Geolocation\")\n",
        "\n",
        "# Retail Price of Palay\n",
        "df2 = read_csv_to_df(\"datasets/prices/prices_retail_2012-2023.csv\")\n",
        "df2 = df2[df2[\"Geolocation\"].apply(is_province)]\n",
        "df2.dropna(inplace=True)\n",
        "df2 = get_annual_columns(df2, range(2012, 2024), 2)\n",
        "df2.dropna(inplace=True)\n",
        "df2 = df2[df2[\"Commodity\"] == 'RICE, REGULAR-MILLED, 1 KG']\n",
        "df2[\"Commodity\"] = df2[\"Commodity\"].apply(lambda val: \"Rice\")\n",
        "df2 = df2.melt([\"Geolocation\", \"Commodity\"], df2.columns[2:], \"Period\", \"Price\")\n",
        "\n",
        "# Volume and Price DataFrame\n",
        "df = pd.merge(df1, df2)\n",
        "df[\"Geolocation\"] = df[\"Geolocation\"].apply(lambda val: val.lstrip(\".\"))\n",
        "df = df[df[\"Volume\"] != 0]\n",
        "fig = px.scatter(df, x=\"Volume\", y=\"Price\", color=\"Geolocation\")\n",
        "fig.show()\n",
        "df2\n",
        "\n",
        "# # ------------------\n",
        "\n",
        "# # RICE: Volume and Retail Price (Quarterly-Regional)\n",
        "# df = read_csv_to_df(\"datasets/agricultural-indicators/Volume_Rice and Corn_quarterly.csv\")\n",
        "# df = df[df[\"Geolocation\"].apply(is_region)]\n",
        "# df = df[df[\"Commodity\"] == \"Palay\"]\n",
        "# df[\"Commodity\"] = df[\"Commodity\"].apply(lambda val: \"Rice\")\n",
        "# df = df.melt(id_vars=[\"Commodity\", \"Geolocation\"], value_vars=df.columns[2:], var_name=\"Period\", value_name=\"Volume\")\n",
        "# df = swap_columns(df, \"Commodity\", \"Geolocation\")\n",
        "\n",
        "# # Retail Price of Palay\n",
        "# df2 = read_csv_to_df(\"datasets/prices/prices_retail_2012-2023.csv\")\n",
        "# df2 = df2[df2[\"Geolocation\"].apply(is_region)]\n",
        "# df2.dropna(inplace=True)\n",
        "# df2 = get_quarter_columns(df2, range(2012, 2024), 2)\n",
        "# df2.dropna(inplace=True)\n",
        "# df2 = df2[df2[\"Commodity\"] == 'RICE, REGULAR-MILLED, 1 KG']\n",
        "# df2[\"Commodity\"] = df2[\"Commodity\"].apply(lambda val: \"Rice\")\n",
        "# df2 = df2.melt([\"Geolocation\", \"Commodity\"], df2.columns[2:], \"Period\", \"Price\")\n",
        "\n",
        "# # Volume and Price DataFrame\n",
        "# df = pd.merge(df, df2)\n",
        "# df[\"Geolocation\"] = df[\"Geolocation\"].apply(lambda val: val.lstrip(\".\"))\n",
        "# df = df[df[\"Volume\"] != 0]\n",
        "# fig = px.scatter(df, x=\"Volume\", y=\"Price\", color=\"Geolocation\")\n",
        "# # fig.show()\n",
        "\n",
        "# # ------------------\n",
        "\n",
        "# # RICE: Volume and Retail Price (Quarterly-Provincial)\n",
        "# df = read_csv_to_df(\"datasets/agricultural-indicators/Volume_Rice and Corn_quarterly.csv\")\n",
        "# df = df[df[\"Geolocation\"].apply(is_province)]\n",
        "# df = df[df[\"Commodity\"] == \"Palay\"]\n",
        "# df[\"Commodity\"] = df[\"Commodity\"].apply(lambda val: \"Rice\")\n",
        "# df = df.melt(id_vars=[\"Commodity\", \"Geolocation\"], value_vars=df.columns[2:], var_name=\"Period\", value_name=\"Volume\")\n",
        "# df = swap_columns(df, \"Commodity\", \"Geolocation\")\n",
        "\n",
        "# # # Retail Price of Palay\n",
        "# df2 = read_csv_to_df(\"datasets/prices/prices_retail_2012-2023.csv\")\n",
        "# df2 = df2[df2[\"Geolocation\"].apply(is_province)]\n",
        "# df2.dropna(inplace=True)\n",
        "# df2 = get_quarter_columns(df2, range(2012, 2024), 2)\n",
        "# df2.dropna(inplace=True)\n",
        "# df2 = df2[df2[\"Commodity\"] == 'RICE, REGULAR-MILLED, 1 KG']\n",
        "# df2[\"Commodity\"] = df2[\"Commodity\"].apply(lambda val: \"Rice\")\n",
        "# df2 = df2.melt([\"Geolocation\", \"Commodity\"], df2.columns[2:], \"Period\", \"Price\")\n",
        "\n",
        "# # Volume and Price DataFrame\n",
        "# df = pd.merge(df, df2)\n",
        "# df[\"Geolocation\"] = df[\"Geolocation\"].apply(lambda val: val.lstrip(\".\"))\n",
        "# df = df[df[\"Volume\"] != 0]\n",
        "# fig = px.scatter(df, x=\"Volume\", y=\"Price\", color=\"Geolocation\")\n",
        "# fig.show()\n",
        "\n",
        "# df.corr(numeric_only=True)"
      ]
    },
    {
      "cell_type": "code",
      "execution_count": null,
      "metadata": {},
      "outputs": [],
      "source": [
        "# Annual\n",
        "df2 = read_csv_to_df(\"datasets/agricultural-indicators/Volume_Rice and Corn_annual.csv\")\n",
        "df2 = df2.melt(id_vars=[\"Geolocation\", \"Commodity\"], value_vars=df2.columns[2:], var_name=\"Period\", value_name=\"Volume\")\n",
        "df_volume = df2[df2[\"Geolocation\"] == \"PHILIPPINES\"]\n",
        "\n",
        "df2 = read_csv_to_df(\"datasets/prices/prices_retail_2012-2023.csv\")\n",
        "df2 = df2[df2[\"Geolocation\"].apply(is_region)]\n",
        "df2.dropna(inplace=True)\n",
        "df2 = get_annual_columns(df2, range(2012, 2024), 2)\n",
        "df2.melt(id_vars=[\"Geolocation\", \"Commodity\"], value_vars=df2.columns[2:], var_name=\"Year\", value_name=\"Volume\")\n"
      ]
    }
  ],
  "metadata": {
    "colab": {
      "include_colab_link": true,
      "provenance": [],
      "toc_visible": true
    },
    "kernelspec": {
      "display_name": "Python 3",
      "name": "python3"
    },
    "language_info": {
      "codemirror_mode": {
        "name": "ipython",
        "version": 3
      },
      "file_extension": ".py",
      "mimetype": "text/x-python",
      "name": "python",
      "nbconvert_exporter": "python",
      "pygments_lexer": "ipython3",
      "version": "3.11.8"
    }
  },
  "nbformat": 4,
  "nbformat_minor": 0
}
