{
  "cells": [
    {
      "cell_type": "code",
      "execution_count": 2,
      "metadata": {
        "colab": {
          "base_uri": "https://localhost:8080/"
        },
        "id": "cWKZBynEZXgt",
        "outputId": "a15a7d94-a741-466f-9e00-57f070e025b9"
      },
      "outputs": [
        {
          "name": "stdout",
          "output_type": "stream",
          "text": [
            "farmgate_palayandcorn https://openstat.psa.gov.ph/PXWeb/pxweb/en/DB/DB__2E__CS/0012E4EVCP0.px\n",
            "farmgate_palayandcorn https://openstat.psa.gov.ph/PXWeb/pxweb/en/DB/DB__2E__CS/0022E4EAHC0.px\n",
            "farmgate_riceandcorn https://openstat.psa.gov.ph/PXWeb/pxweb/en/DB/DB__2E__CS/0032E4ECNV0.px\n",
            "farmgate_palay https://openstat.psa.gov.ph/PXWeb/pxweb/en/DB/DB__2E__CS/0042E4EPFU0.px\n",
            "farmgate_corn https://openstat.psa.gov.ph/PXWeb/pxweb/en/DB/DB__2E__CS/0052E4ECFU0.px\n",
            "farmgate_othercrops https://openstat.psa.gov.ph/PXWeb/pxweb/en/DB/DB__2E__CS/0062E4EVCP1.px\n",
            "farmgate_othercrops https://openstat.psa.gov.ph/PXWeb/pxweb/en/DB/DB__2E__CS/0072E4EAHO0.px\n",
            "farmgate_othercrops https://openstat.psa.gov.ph/PXWeb/pxweb/en/DB/DB__2E__CS/0082E4ENBT0.px\n",
            "farmgate_palayandcorn https://openstat.psa.gov.ph/PXWeb/pxweb/en/DB/DB__2E__CS/0092E4ENVCP.px\n",
            "farmgate_palayandcorn https://openstat.psa.gov.ph/PXWeb/pxweb/en/DB/DB__2E__CS/0102E4ENAHC.px\n",
            "farmgate_palayandcorn https://openstat.psa.gov.ph/PXWeb/pxweb/en/DB/DB__2E__CS/0112E4EVCP0.px\n",
            "farmgate_palayandcorn https://openstat.psa.gov.ph/PXWeb/pxweb/en/DB/DB__2E__CS/0122E4EAHC0.px\n",
            "farmgate_othercrops https://openstat.psa.gov.ph/PXWeb/pxweb/en/DB/DB__2E__CS/0132E4EVCP1.px\n"
          ]
        }
      ],
      "source": [
        "import requests\n",
        "from bs4 import BeautifulSoup\n",
        "from pathlib import Path\n",
        "import mechanicalsoup\n",
        "\n",
        "data_path = Path.cwd()\n",
        "\n",
        "# Main URL: https://openstat.psa.gov.ph/PXWeb/pxweb/en/DB/DB__2E__CS/?tablelist=true&rxid=bdf9d8da-96f1-4100-ae09-18cb3eaeb313\n",
        "url = \"https://openstat.psa.gov.ph/PXWeb/pxweb/en/DB/DB__2E__CS/?tablelist=true&rxid=bdf9d8da-96f1-4100-ae09-18cb3eaeb313\"\n",
        "base_url = \"https://openstat.psa.gov.ph\"\n",
        "page = requests.get(url)\n",
        "\n",
        "soup = BeautifulSoup(page.content, \"html.parser\")\n",
        "\n",
        "def get_csv(url, filename):\n",
        "  browser = mechanicalsoup.StatefulBrowser()\n",
        "  browser.open(url)\n",
        "  page = browser.page\n",
        "  form = browser.select_form('form[method=\"post\"]')\n",
        "\n",
        "  # Get VARS and OPTIONS, 1:1 mapped\n",
        "  varnames = [var.string for var in page.css.select(\"#VariableSelection\")[0].find_all(class_=\"variableselector_valuesselect_variabletitle\")]\n",
        "  varnames.append(\"OutputFormats\")\n",
        "  options = []\n",
        "  selects = page.css.select(\"#VariableSelection\")[0].find_all(\"select\")\n",
        "  for e in selects:\n",
        "    options.append([opt[\"value\"] for opt in e.find_all(\"option\")])\n",
        "\n",
        "  options[2] = options[2][:11]  # hotfix to \"Number of selected cells exceeds the maximum allowed 100,000\"\n",
        "  \n",
        "  # Set OPTIONS for each VAR\n",
        "  for i in range(0, len(selects)-1):\n",
        "    browser[selects[i][\"name\"]] = options[i]\n",
        "  browser[selects[-1][\"name\"]] = \"FileTypeCsvWithHeadingAndComma\"\n",
        "\n",
        "  # Submit request\n",
        "  response = browser.submit_selected()\n",
        "\n",
        "  # Download CSV\n",
        "  with open(str(data_path) + \"/datasets/cropyield/%s.csv\" % filename, \"w+\") as text_file:\n",
        "      text_file.write(response.text.split(\"\\n\",2)[2]) # Remove first 2 lines from string\n",
        "\n",
        "for child in soup.ol.children:\n",
        "  if child != \"\\n\" and child.a is not None:\n",
        "    table_url = base_url + child.a[\"href\"].split(\"?\")[0][:-1]\n",
        "    if table_url[-5] == \"A\": continue # avoid appendices\n",
        "    filename = str(child.a.string.split(\":\")[0])\n",
        "    filename = f\"farmgate_{filename.lower().replace(' ', '')}\"\n",
        "    print(filename, table_url)\n",
        "    get_csv(table_url, filename)\n"
      ]
    }
  ],
  "metadata": {
    "colab": {
      "provenance": []
    },
    "kernelspec": {
      "display_name": "Python 3",
      "name": "python3"
    },
    "language_info": {
      "codemirror_mode": {
        "name": "ipython",
        "version": 3
      },
      "file_extension": ".py",
      "mimetype": "text/x-python",
      "name": "python",
      "nbconvert_exporter": "python",
      "pygments_lexer": "ipython3",
      "version": "3.11.8"
    }
  },
  "nbformat": 4,
  "nbformat_minor": 0
}
