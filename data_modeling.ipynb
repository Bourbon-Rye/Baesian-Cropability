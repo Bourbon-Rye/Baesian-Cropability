{
  "cells": [
    {
      "cell_type": "markdown",
      "metadata": {
        "colab_type": "text",
        "id": "view-in-github"
      },
      "source": [
        "<a href=\"https://colab.research.google.com/github/Bourbon-Rye/Baesian-Cropability/blob/main/PilipiNuts_2023_Baesian_Cropability.ipynb\" target=\"_parent\"><img src=\"https://colab.research.google.com/assets/colab-badge.svg\" alt=\"Open In Colab\"/></a>"
      ]
    },
    {
      "cell_type": "markdown",
      "metadata": {},
      "source": [
        "# Setup\n",
        "\n",
        "Note: See Hypothesis Testing RESULTS in `results/`.\n",
        "\n",
        "**Parameters:**\n",
        "* Set `INTERACTIVE` to True for interactive plots and to False for static plots.\n",
        "* Set `REGENERATE` to True to regenerate plots and to False to not regenerate plots."
      ]
    },
    {
      "cell_type": "code",
      "execution_count": 2047,
      "metadata": {},
      "outputs": [],
      "source": [
        "# @title Libraries\n",
        "import numpy as np\n",
        "import pandas as pd\n",
        "import seaborn as sns\n",
        "\n",
        "import plotly.express as px\n",
        "import plotly.graph_objects as go\n",
        "import plotly.io as pio\n",
        "import matplotlib.pyplot as plt\n",
        "import json\n",
        "import re\n",
        "import functools\n",
        "\n",
        "from pathlib import Path\n",
        "from sklearn import preprocessing\n",
        "from plotly.subplots import make_subplots\n",
        "from plotly import offline\n",
        "from scipy import stats\n",
        "from sklearn.impute import SimpleImputer\n",
        "from matplotlib import figure\n",
        "\n",
        "import warnings\n",
        "# from warnings import simplefilter\n",
        "# simplefilter(action=\"ignore\", category=pd.errors.PerformanceWarning)\n",
        "warnings.filterwarnings('ignore')\n",
        "\n",
        "# @title Parameters\n",
        "INTERACTIVE = True\n",
        "REGENERATE = False\n",
        "\n",
        "def render(fig: figure.Figure):\n",
        "    if INTERACTIVE:\n",
        "        fig.show()\n",
        "    else:\n",
        "        fig.update_layout(\n",
        "            autosize=False,\n",
        "            width=1280,\n",
        "            height=720,\n",
        "        )\n",
        "        fig.show(renderer=\"png\")"
      ]
    },
    {
      "cell_type": "code",
      "execution_count": 2048,
      "metadata": {},
      "outputs": [
        {
          "data": {
            "text/plain": [
              "{'aoncr': 'areas outside national capital region (aoncr)',\n",
              " 'barmm': 'bangsamoro autonomous region in muslim mindanao (barmm)',\n",
              " 'car': 'cordillera administrative region (car)',\n",
              " 'mimaropa': 'mimaropa region (mimaropa)',\n",
              " 'ncr': 'national capital region (ncr)',\n",
              " 'region 1': 'region i (ilocos region)',\n",
              " 'region 2': 'region ii (cagayan valley)',\n",
              " 'region 3': 'region iii (central luzon)',\n",
              " 'region 4a': 'region iv-a (calabarzon)',\n",
              " 'region 5': 'region v (bicol region)',\n",
              " 'region 6': 'region vi (western visayas)',\n",
              " 'region 7': 'region vii (central visayas)',\n",
              " 'region 8': 'region viii (eastern visayas)',\n",
              " 'region 9': 'region ix (zamboanga peninsula)',\n",
              " 'region 10': 'region x (northern mindanao)',\n",
              " 'region 11': 'region xi (davao region)',\n",
              " 'reg12': 'region xii (soccsksargen)',\n",
              " 'caraga': 'region xiii (caraga)',\n",
              " 'AUTONOMOUS REGION IN MUSLIM MINDANAO (ARMM)': 'bangsamoro autonomous region in muslim mindanao (barmm)',\n",
              " 'autonomous region in muslim mindanao (armm)': 'bangsamoro autonomous region in muslim mindanao (barmm)',\n",
              " 'mimaropa region': 'mimaropa region (mimaropa)'}"
            ]
          },
          "metadata": {},
          "output_type": "display_data"
        },
        {
          "data": {
            "text/plain": [
              "{'areas outside national capital region (aoncr)',\n",
              " 'bangsamoro autonomous region in muslim mindanao (barmm)',\n",
              " 'cordillera administrative region (car)',\n",
              " 'mimaropa region (mimaropa)',\n",
              " 'national capital region (ncr)',\n",
              " 'philippines',\n",
              " 'region i (ilocos region)',\n",
              " 'region ii (cagayan valley)',\n",
              " 'region iii (central luzon)',\n",
              " 'region iv-a (calabarzon)',\n",
              " 'region ix (zamboanga peninsula)',\n",
              " 'region v (bicol region)',\n",
              " 'region vi (western visayas)',\n",
              " 'region vii (central visayas)',\n",
              " 'region viii (eastern visayas)',\n",
              " 'region x (northern mindanao)',\n",
              " 'region xi (davao region)',\n",
              " 'region xii (soccsksargen)',\n",
              " 'region xiii (caraga)'}"
            ]
          },
          "metadata": {},
          "output_type": "display_data"
        }
      ],
      "source": [
        "# @title Geolocation Filters and Corrections\n",
        "with open('datasets/region_provinces.json') as jsonfile:\n",
        "    regions_provinces = json.load(jsonfile)['PHILIPPINES']\n",
        "regions_provinces = {key.lower():regions_provinces[key] for key in regions_provinces}\n",
        "regions = regions_provinces.keys()\n",
        "provinces = set([item.lower() for key in regions for item in regions_provinces[key]])\n",
        "regions = set(regions)\n",
        "regions.add(\"philippines\")\n",
        "\n",
        "# NOTE: Fix for bad regions, thanks PSA\n",
        "bad_regions = ['AONCR', 'BARMM', 'CAR', 'MIMAROPA', 'NCR',\n",
        "           'Region 1', 'Region 2', 'Region 3', 'Region 4A',\n",
        "           'Region 5', 'Region 6', 'Region 7', 'Region 8',\n",
        "           'Region 9', 'Region 10', 'Region 11', 'Reg12', 'CARAGA']\n",
        "region_mapping = {bad.lower():good.lower() for (bad,good) in zip(bad_regions, regions_provinces.keys())}\n",
        "corrections = {\n",
        "    \"AUTONOMOUS REGION IN MUSLIM MINDANAO (ARMM)\": \"bangsamoro autonomous region in muslim mindanao (barmm)\",\n",
        "    \"autonomous region in muslim mindanao (armm)\": \"bangsamoro autonomous region in muslim mindanao (barmm)\",\n",
        "    \"mimaropa region\": \"mimaropa region (mimaropa)\"\n",
        "}\n",
        "region_mapping.update(corrections)  # NOTE: Set regions to \n",
        "\n",
        "# Create mappings of regions from short to long and long to short\n",
        "# Ex: ncr: national capital region (ncr), and vice-versa\n",
        "temp = [key.split('(')[1].rstrip(')') for key in regions_provinces]\n",
        "region_short_to_long = {bad:good for (bad,good) in zip(temp, regions_provinces.keys())}\n",
        "region_long_to_short = {v: k for k, v in region_short_to_long.items()}\n",
        "display(region_mapping)\n",
        "display(regions)"
      ]
    },
    {
      "cell_type": "code",
      "execution_count": 2049,
      "metadata": {},
      "outputs": [],
      "source": [
        "# @title QOL Utilities\n",
        "def is_region(x: str, regions=regions) -> bool:\n",
        "    x = x.strip(' .')\n",
        "    x = x.lower()\n",
        "    if x == \"cagayan\":\n",
        "        return False\n",
        "    for region in regions:\n",
        "        if x in region:\n",
        "            return True\n",
        "    else:\n",
        "        return False\n",
        "    \n",
        "def is_province(x: str, provinces=provinces) -> bool:\n",
        "    x = x.strip(' .')\n",
        "    x = x.lower()\n",
        "    for province in provinces:\n",
        "        if x in province:\n",
        "            return True\n",
        "    else:\n",
        "        return False\n",
        "\n",
        "def get_quarter_columns(df: pd.DataFrame, year_range: range, period_idx: int):\n",
        "    \"\"\"Assumes contiguous period (Year Month) columns and that columns before period_idx are ID columns.\n",
        "    Converts (Year Months) into (Year Qi).\"\"\"\n",
        "    df_quarter = df.iloc[:, :period_idx].copy()\n",
        "    for year in year_range:\n",
        "        for q in range(0, 12, 3):\n",
        "            df_quarter[f\"{year} Q{q//3+1}\"] = df.filter(regex=str(year), axis=1).iloc[:, q:q+3].mean(axis=1)\n",
        "    return df_quarter.copy()\n",
        "\n",
        "def get_annual_columns(df: pd.DataFrame, year_range: range, period_idx: int):\n",
        "    \"\"\"Assumes contiguous period (Year Month|Quarter) columns and that columns before period_idx are ID columns\n",
        "    Note that this also works with Quarters as shown in the format above.\"\"\"\n",
        "    df_annual = df.iloc[:, :period_idx].copy()\n",
        "    for year in year_range:\n",
        "        df_annual[f\"{year}\"] = df.filter(regex=str(year), axis=1).mean(numeric_only=True, axis=1)\n",
        "    return df_annual\n",
        "\n",
        "def swap_columns(df: pd.DataFrame, col1: str, col2: str):\n",
        "    \"\"\"Swaps col1 and col2 in a dataframe.\"\"\"\n",
        "    col_list = list(df.columns)\n",
        "    x, y = col_list.index(col1), col_list.index(col2)\n",
        "    col_list[y], col_list[x] = col_list[x], col_list[y]\n",
        "    df = df[col_list]\n",
        "    return df\n",
        "\n",
        "def normalize(df: pd.DataFrame, col: str, minmax = True):\n",
        "    \"\"\"Normalizes a column in a dataframe.\n",
        "    Can use mean normalization and minmax normalization.\"\"\"\n",
        "    tdf = df[col]\n",
        "    if minmax:\n",
        "        tdf = (tdf-tdf.min())/(tdf.max()-tdf.min())\n",
        "    else:\n",
        "        tdf = (tdf-tdf.mean())/tdf.std()\n",
        "    df[col] = tdf\n",
        "    return df\n",
        "\n",
        "def drop_rows_with_zeros(df: pd.DataFrame, ref_col_idx: int, all_zeros=False):\n",
        "    \"\"\"Drop rows if some values are zeros, or if all values are zeros.\n",
        "    Assumes contiguous reference columns (columns including and after ref_col_idx), i.e. columns to use in deciding whether to drop.\"\"\"\n",
        "    return df[~(df.iloc[:, ref_col_idx:] == 0).all(axis=1)] if all_zeros else df[~(df.iloc[:, ref_col_idx:] == 0).any(axis=1)]\n",
        "\n",
        "def dual_plot(df: pd.DataFrame, x: str, y1: str, y2: str,\n",
        "              title=None, xtitle=None, y1title=None, y2title=None):\n",
        "    \"\"\"A plot with 2 y-axes shared by a single x-axis with 2 line graphs.\"\"\"\n",
        "    fig = make_subplots(specs=[[{\"secondary_y\": True}]])\n",
        "    # Add traces\n",
        "    fig.add_trace(\n",
        "        go.Scatter(x=df[x], y=df[y1], name=y1),\n",
        "        secondary_y=False,\n",
        "    )\n",
        "    fig.add_trace(\n",
        "        go.Scatter(x=df[x], y=df[y2], name=y2),\n",
        "        secondary_y=True,\n",
        "    )\n",
        "    # # Add titles\n",
        "    if title is not None: fig.update_layout(title_text=title)\n",
        "    if xtitle is not None: fig.update_xaxes(title_text=xtitle)\n",
        "    if y1title is not None: fig.update_yaxes(title_text=y1title, secondary_y=False)\n",
        "    if y2title is not None: fig.update_yaxes(title_text=y2title, secondary_y=True)\n",
        "\n",
        "    return fig\n",
        "\n",
        "def triplet_plot(df: pd.DataFrame, x: str, y1_1: str, y1_2: str, y2: str,\n",
        "                 title=None, xtitle=None, y1title=None, y2title=None):\n",
        "    fig = make_subplots(specs=[[{\"secondary_y\": True}]])\n",
        "    # Add traces\n",
        "    fig.add_trace(\n",
        "        go.Scatter(x=df[x], y=df[y1_1], name=y1_1),\n",
        "        secondary_y=False,\n",
        "    )\n",
        "    fig.add_trace(\n",
        "        go.Scatter(x=df[x], y=df[y1_2], name=y1_2),\n",
        "        secondary_y=False,\n",
        "    )\n",
        "    fig.add_trace(\n",
        "        go.Scatter(x=df[x], y=df[y2], name=y2),\n",
        "        secondary_y=True,\n",
        "    )\n",
        "    # # Add titles\n",
        "    if title is not None: fig.update_layout(title_text=title)\n",
        "    if xtitle is not None: fig.update_xaxes(title_text=xtitle)\n",
        "    if y1title is not None: fig.update_yaxes(title_text=y1title, secondary_y=False)\n",
        "    if y2title is not None: fig.update_yaxes(title_text=y2title, secondary_y=True)\n",
        "\n",
        "    return fig\n",
        "\n",
        "def quartet_plot(df: pd.DataFrame, x: str, y1_1: str, y1_2: str, y2_1: str, y2_2: str,\n",
        "                 title=None, xtitle=None, y1title=None, y2title=None):\n",
        "    fig = make_subplots(specs=[[{\"secondary_y\": True}]])\n",
        "    # Add traces\n",
        "    fig.add_trace(\n",
        "        go.Scatter(x=df[x], y=df[y1_1], name=y1_1),\n",
        "        secondary_y=False,\n",
        "    )\n",
        "    fig.add_trace(\n",
        "        go.Scatter(x=df[x], y=df[y1_2], name=y1_2),\n",
        "        secondary_y=True,\n",
        "    )\n",
        "    fig.add_trace(\n",
        "        go.Scatter(x=df[x], y=df[y2_1], name=y2_1),\n",
        "        secondary_y=False,\n",
        "    )\n",
        "    fig.add_trace(\n",
        "        go.Scatter(x=df[x], y=df[y2_2], name=y2_2),\n",
        "        secondary_y=True,\n",
        "    )\n",
        "    # # Add titles\n",
        "    if title is not None: fig.update_layout(title_text=title)\n",
        "    if xtitle is not None: fig.update_xaxes(title_text=xtitle)\n",
        "    if y1title is not None: fig.update_yaxes(title_text=y1title, secondary_y=False)\n",
        "    if y2title is not None: fig.update_yaxes(title_text=y2title, secondary_y=True)\n",
        "\n",
        "    return fig\n",
        "\n",
        "def move_column(df: pd.DataFrame, col: str, new_idx: int):\n",
        "    \"\"\"This is an inplace method.\"\"\"\n",
        "    df.insert(new_idx, col, df.pop(col))\n",
        "\n",
        "def imputer(df: pd.DataFrame, start_idx: int, end_idx=None):\n",
        "    \"\"\"If only start index is provided, will impute from start index column to last column,\n",
        "    else limit from start_idx to end_idx. Inplace imputation\"\"\"\n",
        "    imp = SimpleImputer(missing_values=pd.NA, strategy='mean')\n",
        "    if end_idx:\n",
        "        imp.fit(df.iloc[:, start_idx:end_idx])\n",
        "        df[df.columns[start_idx:end_idx]] = imp.transform(df.iloc[:, start_idx:])\n",
        "    else:\n",
        "        imp.fit(df.iloc[:, start_idx:])\n",
        "        df[df.columns[start_idx:]] = imp.transform(df.iloc[:, start_idx:])\n",
        "\n",
        "def preprocess_baesians_2(df: pd.DataFrame, commodity_map: dict, melt_value: str|None, regional=True, impute=False):\n",
        "    \"\"\"Assumes Geolocation | Commodity | Period ... columns.\n",
        "    Filters to regional if regional=True, else filters to provincial. Retains \"philippines\".\n",
        "    Filters to raw commodity name (key in commodity_map), and then renames to standard commodity_map[key]\n",
        "    Ex. {\"RICE, REGULAR-MILLED, 1 KG\" : \"Rice\"}\n",
        "    \"\"\"\n",
        "    df[\"Geolocation\"] = df[\"Geolocation\"].str.lstrip(\".\").str.lower()\n",
        "    df[\"Geolocation\"] = df[\"Geolocation\"].replace(region_mapping)\n",
        "    df = df[df[\"Geolocation\"].apply(is_region)] if regional else df[df[\"Geolocation\"].apply(is_province)]\n",
        "    df = df[df[\"Commodity\"].isin(commodity_map)]\n",
        "    df.loc[:, \"Commodity\"] = df[\"Commodity\"].replace(commodity_map)\n",
        "    if melt_value:\n",
        "        df = df.melt(id_vars=[\"Geolocation\", \"Commodity\"], value_vars=df.columns[2:], var_name=\"Period\", value_name=melt_value)\n",
        "    if impute:\n",
        "        imputer(df, 3)  # inplace imputation of melt_value\n",
        "    return df\n",
        "\n",
        "def filter_to_regions(df: pd.DataFrame):\n",
        "    return df[df[\"Geolocation\"].apply(is_region)]\n",
        "    \n",
        "def filter_to_provinces(df: pd.DataFrame):\n",
        "    return df[df[\"Geolocation\"].apply(is_province)]\n",
        "\n",
        "def fig_to_div(fig: figure.Figure, filename: Path):\n",
        "    \"\"\"Optional: Add pretiffication.\"\"\"\n",
        "    filename = Path(filename)\n",
        "    filename.parent.mkdir(exist_ok=True, parents=True)\n",
        "    with open(filename, \"w+\") as f:\n",
        "        f.write(offline.plot(fig, include_plotlyjs=False, output_type='div'))\n",
        "        \n",
        "def fig_to_html(fig: figure.Figure, filename: Path):\n",
        "    filename = Path(filename)\n",
        "    filename.parent.mkdir(exist_ok=True, parents=True)\n",
        "    fig.write_html(filename)\n",
        "    \n",
        "def fig_to_png(fig: figure.Figure, filename: Path, transparent=False):\n",
        "    \"\"\"NOTE: Requires ORCA to be installed!\"\"\"\n",
        "    filename = Path(filename)\n",
        "    filename.parent.mkdir(exist_ok=True, parents=True)\n",
        "    if transparent:\n",
        "        fig.update_layout({\n",
        "            \"plot_bgcolor\": \"rgba(0, 0, 0, 0)\",\n",
        "            \"paper_bgcolor\": \"rgba(0, 0, 0, 0)\",\n",
        "        })\n",
        "    pio.write_image(fig, filename,scale=6, width=900, height=680)\n",
        "    \n",
        "def p_report(p: int) -> str|int:\n",
        "    \"\"\"Formats p-value for reporting\"\"\"\n",
        "    if p >= 0.001:\n",
        "        return round(p, 3)\n",
        "    elif p < 0.001:\n",
        "        return \"<0.001\"\n",
        "    else:\n",
        "        return np.nan\n",
        "\n",
        "def convert_to_short_month(df):\n",
        "    month_map = {\n",
        "        \"January\": \"Jan\", \"February\": \"Feb\", \"March\": \"Mar\", \"April\": \"Apr\", \"May\": \"May\", \"June\": \"Jun\",\n",
        "        \"July\": \"Jul\", \"August\": \"Aug\", \"September\": \"Sep\", \"October\": \"Oct\", \"November\": \"Nov\", \"December\": \"Dec\"\n",
        "    }\n",
        "    tdf = df.copy()\n",
        "    new_cols = []\n",
        "    for column_name in tdf.columns:\n",
        "        for full_month, short_month in month_map.items():\n",
        "            column_name = column_name.replace(full_month, short_month)\n",
        "        new_cols.append(column_name)\n",
        "    tdf.columns = new_cols\n",
        "    return tdf\n",
        "\n",
        "def remove_annuals(df):\n",
        "    columns_to_keep = [col for col in df.columns if 'Annual' not in col]\n",
        "    tdf = df[columns_to_keep]\n",
        "    \n",
        "    return tdf\n"
      ]
    },
    {
      "cell_type": "markdown",
      "metadata": {},
      "source": [
        "## Annual Analysis\n",
        "Annual-National and Annual-Regional analysis of the commodities Rice and Corn. Other major crops to follow.\n",
        "\n",
        "**NOTE:** The core agricultural indicators are Stocks, Volume, and Area Harvested, while the core market indicators are Farmgate Price, Wholesale Price, and Retail Price.\n",
        "\n",
        "This is important to know especially during visualization where Farmgate price is used as a slicer."
      ]
    },
    {
      "cell_type": "markdown",
      "metadata": {},
      "source": [
        "### Data Preprocessing\n",
        "Imputations performed here compared to `data_exporation.ipynb`."
      ]
    },
    {
      "cell_type": "code",
      "execution_count": 2050,
      "metadata": {},
      "outputs": [
        {
          "data": {
            "text/html": [
              "<div>\n",
              "<style scoped>\n",
              "    .dataframe tbody tr th:only-of-type {\n",
              "        vertical-align: middle;\n",
              "    }\n",
              "\n",
              "    .dataframe tbody tr th {\n",
              "        vertical-align: top;\n",
              "    }\n",
              "\n",
              "    .dataframe thead th {\n",
              "        text-align: right;\n",
              "    }\n",
              "</style>\n",
              "<table border=\"1\" class=\"dataframe\">\n",
              "  <thead>\n",
              "    <tr style=\"text-align: right;\">\n",
              "      <th></th>\n",
              "      <th>Geolocation</th>\n",
              "      <th>Commodity</th>\n",
              "      <th>1989 Jan</th>\n",
              "      <th>1989 Feb</th>\n",
              "      <th>1989 Mar</th>\n",
              "      <th>1989 Apr</th>\n",
              "      <th>1989 May</th>\n",
              "      <th>1989 Jun</th>\n",
              "      <th>1989 Jul</th>\n",
              "      <th>1989 Aug</th>\n",
              "      <th>...</th>\n",
              "      <th>2023 Mar</th>\n",
              "      <th>2023 Apr</th>\n",
              "      <th>2023 May</th>\n",
              "      <th>2023 Jun</th>\n",
              "      <th>2023 Jul</th>\n",
              "      <th>2023 Aug</th>\n",
              "      <th>2023 Sep</th>\n",
              "      <th>2023 Oct</th>\n",
              "      <th>2023 Nov</th>\n",
              "      <th>2023 Dec</th>\n",
              "    </tr>\n",
              "  </thead>\n",
              "  <tbody>\n",
              "    <tr>\n",
              "      <th>0</th>\n",
              "      <td>NATIONAL CAPITAL REGION</td>\n",
              "      <td>..Food</td>\n",
              "      <td>28.963415</td>\n",
              "      <td>28.780488</td>\n",
              "      <td>28.47561</td>\n",
              "      <td>28.47561</td>\n",
              "      <td>28.902439</td>\n",
              "      <td>29.512195</td>\n",
              "      <td>29.878049</td>\n",
              "      <td>30.365854</td>\n",
              "      <td>...</td>\n",
              "      <td>143</td>\n",
              "      <td>143.5</td>\n",
              "      <td>144</td>\n",
              "      <td>144.4</td>\n",
              "      <td>144.6</td>\n",
              "      <td>145.1</td>\n",
              "      <td>145.3</td>\n",
              "      <td>145.6</td>\n",
              "      <td>145.9</td>\n",
              "      <td>146.3</td>\n",
              "    </tr>\n",
              "  </tbody>\n",
              "</table>\n",
              "<p>1 rows × 422 columns</p>\n",
              "</div>"
            ],
            "text/plain": [
              "               Geolocation Commodity   1989 Jan   1989 Feb  1989 Mar  \\\n",
              "0  NATIONAL CAPITAL REGION    ..Food  28.963415  28.780488  28.47561   \n",
              "\n",
              "   1989 Apr   1989 May   1989 Jun   1989 Jul   1989 Aug  ...  2023 Mar  \\\n",
              "0  28.47561  28.902439  29.512195  29.878049  30.365854  ...       143   \n",
              "\n",
              "   2023 Apr  2023 May  2023 Jun  2023 Jul  2023 Aug  2023 Sep  2023 Oct  \\\n",
              "0     143.5       144     144.4     144.6     145.1     145.3     145.6   \n",
              "\n",
              "   2023 Nov  2023 Dec  \n",
              "0     145.9     146.3  \n",
              "\n",
              "[1 rows x 422 columns]"
            ]
          },
          "execution_count": 2050,
          "metadata": {},
          "output_type": "execute_result"
        }
      ],
      "source": [
        "# df1 = pd.read_csv(\"datasets/prices/2M4AFN01.csv\")\n",
        "# df2 = pd.read_csv(\"datasets/prices/2M4AFP01.csv\", skiprows=2)\n",
        "# tdf = pd.concat([df2, df1], axis=1)\n",
        "# tdf = convert_to_short_month(tdf)\n",
        "# display(tdf.head(1))\n",
        "# tdf.to_csv(\"datasets/prices/prices_farmgate-new-series_1990-2023.csv\", index=False)\n",
        "\n",
        "# df1 = pd.read_csv(\"datasets/prices/2M4AWA01.csv\")\n",
        "# df2 = pd.read_csv(\"datasets/prices/2M4AWP01.csv\", skiprows=2)\n",
        "# tdf = pd.concat([df2, df1], axis=1)\n",
        "# tdf = convert_to_short_month(tdf)\n",
        "# display(tdf.head(1))\n",
        "# tdf.to_csv(\"datasets/prices/prices_wholesale-new-series_1990-2023.csv\", index=False)\n",
        "\n",
        "df1 = pd.read_csv(\"datasets/prices/2M4ARP01.csv\", skiprows=2)\n",
        "df2 = pd.read_csv(\"datasets/prices/2M4ARA01.csv\")\n",
        "tdf = pd.concat([df1, df2], axis=1)\n",
        "tdf = convert_to_short_month(tdf)\n",
        "tdf.to_csv(\"datasets/prices/prices_retail_1990-2023.csv\", index=False)\n",
        "tdf.head(1)\n",
        "\n",
        "df1 = pd.read_csv(\"datasets/price-indices-2018-based/0042M4ARPI4.csv\", skiprows=2)\n",
        "df2 = pd.read_csv(\"datasets/price-indices-2018-based/2M4ARPI1.csv\")\n",
        "tdf = pd.concat([df1, df2], axis=1)\n",
        "tdf = convert_to_short_month(tdf)\n",
        "tdf = tdf.rename({\"Geographic location\": \"Geolocation\", \"Commodity Description\": \"Commodity\"}, axis=1)\n",
        "tdf.to_csv(\"datasets/price-indices-2018-based/rpi-in-ncr_food-only_1989-2023_new.csv\", index=False)\n",
        "tdf.head(1)"
      ]
    },
    {
      "cell_type": "code",
      "execution_count": 2051,
      "metadata": {},
      "outputs": [
        {
          "data": {
            "text/html": [
              "<div>\n",
              "<style scoped>\n",
              "    .dataframe tbody tr th:only-of-type {\n",
              "        vertical-align: middle;\n",
              "    }\n",
              "\n",
              "    .dataframe tbody tr th {\n",
              "        vertical-align: top;\n",
              "    }\n",
              "\n",
              "    .dataframe thead th {\n",
              "        text-align: right;\n",
              "    }\n",
              "</style>\n",
              "<table border=\"1\" class=\"dataframe\">\n",
              "  <thead>\n",
              "    <tr style=\"text-align: right;\">\n",
              "      <th></th>\n",
              "      <th>Geolocation</th>\n",
              "      <th>Commodity</th>\n",
              "      <th>Period</th>\n",
              "      <th>Volume</th>\n",
              "      <th>Area Harvested</th>\n",
              "      <th>Self-Sufficiency Ratio</th>\n",
              "      <th>Import-Dependency Ratio</th>\n",
              "      <th>SU Gross Supply</th>\n",
              "      <th>UT Consumable</th>\n",
              "      <th>Farmgate Price</th>\n",
              "      <th>Wholesale Price</th>\n",
              "      <th>Retail Price</th>\n",
              "      <th>CPI All Income</th>\n",
              "      <th>CPI Bottom 30</th>\n",
              "      <th>Net Returns</th>\n",
              "      <th>Inflation Rate</th>\n",
              "      <th>NCR RPI</th>\n",
              "    </tr>\n",
              "  </thead>\n",
              "  <tbody>\n",
              "    <tr>\n",
              "      <th>0</th>\n",
              "      <td>philippines</td>\n",
              "      <td>Rice</td>\n",
              "      <td>2012</td>\n",
              "      <td>18032525.47</td>\n",
              "      <td>4690061.17</td>\n",
              "      <td>91.9</td>\n",
              "      <td>8.1</td>\n",
              "      <td>15465</td>\n",
              "      <td>11473</td>\n",
              "      <td>15.92</td>\n",
              "      <td>32.70</td>\n",
              "      <td>32.08</td>\n",
              "      <td>81.632653</td>\n",
              "      <td>82.987552</td>\n",
              "      <td>19891.0</td>\n",
              "      <td>3.16</td>\n",
              "      <td>100.0</td>\n",
              "    </tr>\n",
              "    <tr>\n",
              "      <th>1</th>\n",
              "      <td>cordillera administrative region (car)</td>\n",
              "      <td>Rice</td>\n",
              "      <td>2012</td>\n",
              "      <td>453461.00</td>\n",
              "      <td>120100.00</td>\n",
              "      <td>91.9</td>\n",
              "      <td>8.1</td>\n",
              "      <td>15465</td>\n",
              "      <td>11473</td>\n",
              "      <td>16.72</td>\n",
              "      <td>32.42</td>\n",
              "      <td>32.46</td>\n",
              "      <td>85.616438</td>\n",
              "      <td>85.034014</td>\n",
              "      <td>7274.0</td>\n",
              "      <td>3.16</td>\n",
              "      <td>100.0</td>\n",
              "    </tr>\n",
              "    <tr>\n",
              "      <th>2</th>\n",
              "      <td>region i (ilocos region)</td>\n",
              "      <td>Rice</td>\n",
              "      <td>2012</td>\n",
              "      <td>1737695.00</td>\n",
              "      <td>403169.00</td>\n",
              "      <td>91.9</td>\n",
              "      <td>8.1</td>\n",
              "      <td>15465</td>\n",
              "      <td>11473</td>\n",
              "      <td>17.07</td>\n",
              "      <td>31.94</td>\n",
              "      <td>31.56</td>\n",
              "      <td>79.113924</td>\n",
              "      <td>79.617834</td>\n",
              "      <td>21639.0</td>\n",
              "      <td>3.16</td>\n",
              "      <td>100.0</td>\n",
              "    </tr>\n",
              "    <tr>\n",
              "      <th>3</th>\n",
              "      <td>region ii (cagayan valley)</td>\n",
              "      <td>Rice</td>\n",
              "      <td>2012</td>\n",
              "      <td>2425536.47</td>\n",
              "      <td>582557.17</td>\n",
              "      <td>91.9</td>\n",
              "      <td>8.1</td>\n",
              "      <td>15465</td>\n",
              "      <td>11473</td>\n",
              "      <td>16.25</td>\n",
              "      <td>30.70</td>\n",
              "      <td>30.37</td>\n",
              "      <td>80.971660</td>\n",
              "      <td>83.752094</td>\n",
              "      <td>16638.0</td>\n",
              "      <td>3.16</td>\n",
              "      <td>100.0</td>\n",
              "    </tr>\n",
              "    <tr>\n",
              "      <th>4</th>\n",
              "      <td>region iii (central luzon)</td>\n",
              "      <td>Rice</td>\n",
              "      <td>2012</td>\n",
              "      <td>3220607.00</td>\n",
              "      <td>675781.00</td>\n",
              "      <td>91.9</td>\n",
              "      <td>8.1</td>\n",
              "      <td>15465</td>\n",
              "      <td>11473</td>\n",
              "      <td>17.15</td>\n",
              "      <td>32.87</td>\n",
              "      <td>30.90</td>\n",
              "      <td>79.617834</td>\n",
              "      <td>79.808460</td>\n",
              "      <td>30333.0</td>\n",
              "      <td>3.16</td>\n",
              "      <td>100.0</td>\n",
              "    </tr>\n",
              "  </tbody>\n",
              "</table>\n",
              "</div>"
            ],
            "text/plain": [
              "                              Geolocation Commodity Period       Volume  \\\n",
              "0                             philippines      Rice   2012  18032525.47   \n",
              "1  cordillera administrative region (car)      Rice   2012    453461.00   \n",
              "2                region i (ilocos region)      Rice   2012   1737695.00   \n",
              "3              region ii (cagayan valley)      Rice   2012   2425536.47   \n",
              "4              region iii (central luzon)      Rice   2012   3220607.00   \n",
              "\n",
              "   Area Harvested  Self-Sufficiency Ratio  Import-Dependency Ratio  \\\n",
              "0      4690061.17                    91.9                      8.1   \n",
              "1       120100.00                    91.9                      8.1   \n",
              "2       403169.00                    91.9                      8.1   \n",
              "3       582557.17                    91.9                      8.1   \n",
              "4       675781.00                    91.9                      8.1   \n",
              "\n",
              "   SU Gross Supply  UT Consumable  Farmgate Price  Wholesale Price  \\\n",
              "0            15465          11473           15.92            32.70   \n",
              "1            15465          11473           16.72            32.42   \n",
              "2            15465          11473           17.07            31.94   \n",
              "3            15465          11473           16.25            30.70   \n",
              "4            15465          11473           17.15            32.87   \n",
              "\n",
              "   Retail Price  CPI All Income  CPI Bottom 30  Net Returns  Inflation Rate  \\\n",
              "0         32.08       81.632653      82.987552      19891.0            3.16   \n",
              "1         32.46       85.616438      85.034014       7274.0            3.16   \n",
              "2         31.56       79.113924      79.617834      21639.0            3.16   \n",
              "3         30.37       80.971660      83.752094      16638.0            3.16   \n",
              "4         30.90       79.617834      79.808460      30333.0            3.16   \n",
              "\n",
              "   NCR RPI  \n",
              "0    100.0  \n",
              "1    100.0  \n",
              "2    100.0  \n",
              "3    100.0  \n",
              "4    100.0  "
            ]
          },
          "execution_count": 2051,
          "metadata": {},
          "output_type": "execute_result"
        }
      ],
      "source": [
        "# @title Annual megadataset for rice and corn\n",
        "# NOTE: Filter this during visualization and analysis to just Philippines or Regions\n",
        "def filter_period(df: pd.DataFrame, _type: str):\n",
        "    if _type == \"Annual\":\n",
        "        df = df.filter(regex=\"Commodity|Geolocation|Annual\", axis=1)\n",
        "        df.columns = map(lambda x: x.replace(\" Annual\", \"\") if \"Annual\" in x else x, df.columns)\n",
        "    elif _type == \"Quarterly\":\n",
        "        df = df.filter(regex=r\"Commodity|Geolocation|Q\\d\", axis=1)\n",
        "    return df\n",
        "\n",
        "# Volume of Rice and Corn\n",
        "df1 = pd.read_csv(\"datasets/agricultural-indicators/volume_rice-corn.csv\", skiprows=2, na_values=[\"..\"])\n",
        "df1 = filter_period(df1, \"Annual\")\n",
        "df1 = preprocess_baesians_2(df1, {\"Palay\": \"Rice\", \"Corn\": \"Corn\"}, melt_value=\"Volume\")\n",
        "\n",
        "# Farmgate Price of Rice and Corn\n",
        "df2 = pd.read_csv(\"datasets/prices/prices_farmgate-new-series_1990-2023.csv\", na_values=[\"..\"])\n",
        "df2 = filter_period(df2, \"Annual\")\n",
        "df2 = preprocess_baesians_2(df2, {\"Palay [Paddy] Other Variety, dry (conv. to 14% mc)\": \"Rice\",\n",
        "                                  \"Corngrain [Maize] Yellow, matured\": \"Corn\"}, melt_value=\"Farmgate Price\", impute=True)\n",
        "\n",
        "# Wholesale Price of Rice and Corn\n",
        "df3 = pd.read_csv(\"datasets/prices/prices_wholesale-new-series_1990-2023.csv\", na_values=[\"..\"])\n",
        "df3 = filter_period(df3, \"Annual\")\n",
        "df3 = preprocess_baesians_2(df3, {\"Well Milled Rice (WMR)\": \"Rice\",\n",
        "                                  \"Corngrits Yellow\": \"Corn\"}, melt_value=\"Wholesale Price\", impute=True)\n",
        "\n",
        "# Retail Price of Rice and Corn\n",
        "df4 = pd.read_csv(\"datasets/prices/prices_retail_1990-2023.csv\", na_values=[\"..\"])\n",
        "df4 = filter_period(df4, \"Annual\")\n",
        "df4 = preprocess_baesians_2(df4, {\n",
        "                                  \"Regular Milled Rice (RMR)\" : \"Rice\",\n",
        "                                  'Corngrain Yellow': \"Corn\"}, melt_value=\"Retail Price\", impute=True)\n",
        "\n",
        "# Area Harvested of Rice and Corn\n",
        "df5 = pd.read_csv(\"datasets/agricultural-indicators/area-harvested-palay-corn_quarterly-annual_1987-2023.csv\", skiprows=2)\n",
        "df5 = filter_period(df5, \"Annual\")\n",
        "df5 = preprocess_baesians_2(df5, {\"Palay\": \"Rice\", \"Corn\": \"Corn\"}, melt_value=\"Area Harvested\")\n",
        "\n",
        "# Consumer Price Index (All Income) per Region of Rice and Corn\n",
        "df6 = pd.read_csv(\"datasets/price-indices-2018-based/cpi_all-income-households-by-cg-with-backcasting_1994-2023.csv\")\n",
        "df6 = get_annual_columns(df6, range(2012, 2024), 2)\n",
        "df6 = preprocess_baesians_2(df6, {\"01.1.1.12 - Rice\": \"Rice\",\n",
        "                                  \"01.1.1.16 - Corn\": \"Corn\"},\n",
        "                            melt_value=\"CPI All Income\")\n",
        "\n",
        "# Consumer Price Index (Bottom 30) per Region of Rice and Corn\n",
        "df7 = pd.read_csv(\"datasets/price-indices-2018-based/cpi_bottom-30-by-cg-with-backcasting_2012-2017.csv\")\n",
        "df7 = preprocess_baesians_2(df7, {\"01.1.1.12 - Rice\": \"Rice\", \"01.1.1.16 - Corn\": \"Corn\"}, melt_value=None)\n",
        "tdf = pd.read_csv(\"datasets/price-indices-2018-based/cpi_bottom-30-by-cg_2018-2023.csv\")\n",
        "tdf = preprocess_baesians_2(tdf, {\"01.1.1.12 - Rice\": \"Rice\", \"01.1.1.16 - Corn\": \"Corn\"}, melt_value=None)\n",
        "df7 = pd.merge(df7, tdf, on=[\"Geolocation\", \"Commodity\"])\n",
        "df7 = get_annual_columns(df7, range(2012, 2024), 2)\n",
        "df7 = preprocess_baesians_2(df7, {\"Rice\": \"Rice\", \"Corn\": \"Corn\"}, melt_value=\"CPI Bottom 30\")\n",
        "\n",
        "# Costs and Returns per Region of Rice and Corn\n",
        "df8 = pd.read_csv(\"datasets/agricultural-indicators/costs-and-returns_rice-and-corn.csv\", skiprows=1, na_values=[\"..\"])\n",
        "df8 = df8[df8[\"Item\"] == \"NET RETURNS\"]\n",
        "df8.drop(\"Item\", axis=1, inplace=True)\n",
        "df8.rename({\"Type\": \"Commodity\"}, axis=1, inplace=True)\n",
        "df8 = preprocess_baesians_2(df8, {\"All Palay\": \"Rice\", \"White Corn\": \"Corn\"}, melt_value=\"Net Returns\", impute=True)\n",
        "df8 = df8[df8[\"Period\"].str.contains(\"Average\")]\n",
        "df8[\"Period\"] = df8[\"Period\"].apply(lambda x: x.split()[1])\n",
        "\n",
        "# National Inflation Rate\n",
        "df9 = pd.read_csv(\"datasets/statista_inflation-rate-in-the-philippines-2029.csv\", dtype={\"Period\": object, \"Inflation Rate\": float})\n",
        "\n",
        "# NCR Retail Price Index on Food\n",
        "df10 = pd.read_csv(\"datasets/price-indices-2018-based/rpi-in-ncr_food-only_1998-2023.csv\")\n",
        "df10 = get_annual_columns(df10, range(2010, 2024), 2)\n",
        "df10 = preprocess_baesians_2(df10, {\"Food\": \"Food\"}, melt_value=\"NCR RPI\").drop([\"Geolocation\", \"Commodity\"], axis=1)\n",
        "\n",
        "# Agricultural Self-Sufficiency for Rice and Corn\n",
        "df11 = pd.read_csv(\"datasets/agricultural-indicators/agri-self-sufficiency-ratio.csv\", skiprows=1)\n",
        "df11 = df11[(df11[\"Commodity\"] == \"Rice\") | (df11[\"Commodity\"] == \"Corn\")]\n",
        "df11 = df11.melt(\"Commodity\", df11.columns[1:], \"Period\", \"Self-Sufficiency Ratio\")\n",
        "\n",
        "# Agricultural Import-Dependency for Rice and Corn\n",
        "df12 = pd.read_csv(\"datasets/agricultural-indicators/agri-import-dependency-ratio.csv\", skiprows=1)\n",
        "df12 = df12[(df12[\"Commodity\"] == \"Rice\") | (df12[\"Commodity\"] == \"Corn\")]\n",
        "df12 = df12.melt(\"Commodity\", df12.columns[1:], \"Period\", \"Import-Dependency Ratio\")\n",
        "\n",
        "# SU Gross Supply and UT Total Net Food Disposable for Rice and Corn\n",
        "# Explained here: https://openstat.psa.gov.ph/Metadata/2B5FSUA0\n",
        "df13 = pd.read_csv(\"datasets/agricultural-indicators/supply-ut_rice-corn_1990-2022.csv\")\n",
        "df13 = df13.filter(regex=\"Commodity|Year|Gross|Food\")\n",
        "df13.rename({\"Year\": \"Period\", \"UT Total Net Food Disposable\": \"UT Consumable\"}, axis=1, inplace=True)\n",
        "df13.Period = df13.Period.astype(str)\n",
        "\n",
        "# Merge all dfs into a single df\n",
        "# NOTE: Remove df8 or add more year data or commodities to increase number of samples\n",
        "# NOTE: You may adjust here which dfs are included in the final df\n",
        "# NOTE: df8, df10, df11, df12, and df13 are all only until 2021 and 2022... respectively\n",
        "UNTIL_2023 = False\n",
        "if UNTIL_2023:\n",
        "    dfs = [df1, df2, df3, df4, df5, df6, df7, df9]\n",
        "    df = functools.reduce(lambda left, right: pd.merge(left, right), dfs)\n",
        "else:\n",
        "    dfs = [df1, df2, df3, df4, df5, df6, df7, df8, df9, df10, df11, df12, df13]\n",
        "    df = functools.reduce(lambda left, right: pd.merge(left, right), dfs)\n",
        "    move_column(df, \"Area Harvested\", 4)\n",
        "    move_column(df, \"Self-Sufficiency Ratio\", 5)\n",
        "    move_column(df, \"Import-Dependency Ratio\", 6)\n",
        "    move_column(df, \"SU Gross Supply\", 7)\n",
        "    move_column(df, \"UT Consumable\", 8)\n",
        "\n",
        "# Cleanup\n",
        "del dfs, df1, df2, df3, df4, df5, df6, df7, df8, df9, df10, df11, df12, df13\n",
        "\n",
        "if False:\n",
        "    df.to_csv(\"datasets/annual-regional_megadataset_inner-join.csv\", index=False)\n",
        "    \n",
        "# display(df.describe())\n",
        "# display(df[[\"Geolocation\", \"Commodity\", \"Period\"]].describe())\n",
        "\n",
        "# display(df.groupby(\"Geolocation\").size())\n",
        "# df.groupby(\"Geolocation\").size()\n",
        "df.head()"
      ]
    },
    {
      "cell_type": "markdown",
      "metadata": {},
      "source": [
        "# Quarterly Analysis (Volume and Area Harvested), RICE ONLY, ENTIRE PHILIPPINES ONLY\n",
        "\n",
        "Stocks is Monthly and can be forecasted monthly"
      ]
    },
    {
      "cell_type": "code",
      "execution_count": 2052,
      "metadata": {},
      "outputs": [
        {
          "data": {
            "text/html": [
              "<div>\n",
              "<style scoped>\n",
              "    .dataframe tbody tr th:only-of-type {\n",
              "        vertical-align: middle;\n",
              "    }\n",
              "\n",
              "    .dataframe tbody tr th {\n",
              "        vertical-align: top;\n",
              "    }\n",
              "\n",
              "    .dataframe thead th {\n",
              "        text-align: right;\n",
              "    }\n",
              "</style>\n",
              "<table border=\"1\" class=\"dataframe\">\n",
              "  <thead>\n",
              "    <tr style=\"text-align: right;\">\n",
              "      <th></th>\n",
              "      <th>Volume</th>\n",
              "      <th>Area Harvested</th>\n",
              "      <th>Farmgate Price</th>\n",
              "      <th>Wholesale Price</th>\n",
              "      <th>Retail Price</th>\n",
              "      <th>CPI All Income</th>\n",
              "      <th>NCR RPI</th>\n",
              "    </tr>\n",
              "    <tr>\n",
              "      <th>Period</th>\n",
              "      <th></th>\n",
              "      <th></th>\n",
              "      <th></th>\n",
              "      <th></th>\n",
              "      <th></th>\n",
              "      <th></th>\n",
              "      <th></th>\n",
              "    </tr>\n",
              "  </thead>\n",
              "  <tbody>\n",
              "    <tr>\n",
              "      <th>1994-01-01</th>\n",
              "      <td>2288317.0</td>\n",
              "      <td>851510.0</td>\n",
              "      <td>5.753333</td>\n",
              "      <td>11.636667</td>\n",
              "      <td>11.683333</td>\n",
              "      <td>31.540307</td>\n",
              "      <td>44.166667</td>\n",
              "    </tr>\n",
              "    <tr>\n",
              "      <th>1994-04-01</th>\n",
              "      <td>2090216.0</td>\n",
              "      <td>631820.0</td>\n",
              "      <td>5.953333</td>\n",
              "      <td>11.790000</td>\n",
              "      <td>11.856667</td>\n",
              "      <td>31.779807</td>\n",
              "      <td>44.593496</td>\n",
              "    </tr>\n",
              "    <tr>\n",
              "      <th>1994-07-01</th>\n",
              "      <td>1876635.0</td>\n",
              "      <td>674000.0</td>\n",
              "      <td>6.250000</td>\n",
              "      <td>12.800000</td>\n",
              "      <td>12.846667</td>\n",
              "      <td>32.572000</td>\n",
              "      <td>45.548780</td>\n",
              "    </tr>\n",
              "    <tr>\n",
              "      <th>1994-10-01</th>\n",
              "      <td>4282886.0</td>\n",
              "      <td>1494200.0</td>\n",
              "      <td>5.680000</td>\n",
              "      <td>12.220000</td>\n",
              "      <td>12.400000</td>\n",
              "      <td>32.572000</td>\n",
              "      <td>45.528455</td>\n",
              "    </tr>\n",
              "  </tbody>\n",
              "</table>\n",
              "</div>"
            ],
            "text/plain": [
              "               Volume  Area Harvested  Farmgate Price  Wholesale Price  \\\n",
              "Period                                                                   \n",
              "1994-01-01  2288317.0        851510.0        5.753333        11.636667   \n",
              "1994-04-01  2090216.0        631820.0        5.953333        11.790000   \n",
              "1994-07-01  1876635.0        674000.0        6.250000        12.800000   \n",
              "1994-10-01  4282886.0       1494200.0        5.680000        12.220000   \n",
              "\n",
              "            Retail Price  CPI All Income    NCR RPI  \n",
              "Period                                               \n",
              "1994-01-01     11.683333       31.540307  44.166667  \n",
              "1994-04-01     11.856667       31.779807  44.593496  \n",
              "1994-07-01     12.846667       32.572000  45.548780  \n",
              "1994-10-01     12.400000       32.572000  45.528455  "
            ]
          },
          "metadata": {},
          "output_type": "display_data"
        },
        {
          "name": "stdout",
          "output_type": "stream",
          "text": [
            "Number of rows with missing values: 0.0\n"
          ]
        }
      ],
      "source": [
        "# @title Quarterly megadataset for rice and corn (VOLUME and AREA HARVESTED)\n",
        "# NOTE: Filter this during visualization and analysis to just Philippines or Regions\n",
        "def filter_period(df: pd.DataFrame, _type: str):\n",
        "    if _type == \"Annual\":\n",
        "        df = df.filter(regex=\"Commodity|Geolocation|Annual\", axis=1)\n",
        "        df.columns = map(lambda x: x.replace(\" Annual\", \"\") if \"Annual\" in x else x, df.columns)\n",
        "    elif _type == \"Quarterly\":\n",
        "        df = df.filter(regex=r\"Commodity|Geolocation|Q\\d\", axis=1)\n",
        "    return df\n",
        "\n",
        "# Volume of Rice (filtered to 1994-2023)\n",
        "df1 = pd.read_csv(\"datasets/agricultural-indicators/volume_rice-corn.csv\", skiprows=2, na_values=[\"..\"])\n",
        "df1 = df1[df1.Geolocation == \"PHILIPPINES\"]\n",
        "df1 = filter_period(df1, \"Quarterly\")\n",
        "df1 = df1.filter(regex=r'Geolocation|Commodity|199[4-9]|20[0-9]{2}|202[0-3]', axis=1)\n",
        "df1 = preprocess_baesians_2(df1, {\"Palay\": \"Rice\"}, melt_value=\"Volume\", impute=True)\n",
        "\n",
        "# Farmgate Price of Rice and Corn\n",
        "df2 = pd.read_csv(\"datasets/prices/prices_farmgate-new-series_1990-2023.csv\", na_values=[\"..\"])\n",
        "df2 = df2[df2.Geolocation == \"PHILIPPINES\"]\n",
        "df2 = remove_annuals(df2)\n",
        "df2 = get_quarter_columns(df2, range(1994,2024), 2)\n",
        "df2 = preprocess_baesians_2(df2, {\"Palay [Paddy] Other Variety, dry (conv. to 14% mc)\": \"Rice\"}, melt_value=\"Farmgate Price\", impute=True).copy()\n",
        "\n",
        "# Wholesale Price of Rice and Corn\n",
        "df3 = pd.read_csv(\"datasets/prices/prices_wholesale-new-series_1990-2023.csv\", na_values=[\"..\"])\n",
        "df3 = df3[df3.Geolocation == \"PHILIPPINES\"]\n",
        "df3 = remove_annuals(df3)\n",
        "df3 = get_quarter_columns(df3, range(1994,2024), 2)\n",
        "df3 = preprocess_baesians_2(df3, {\"Well Milled Rice (WMR)\": \"Rice\"}, melt_value=\"Wholesale Price\", impute=True)\n",
        "\n",
        "# Retail Price of Rice and Corn\n",
        "df4 = pd.read_csv(\"datasets/prices/prices_retail_1990-2023.csv\", na_values=[\"..\"])\n",
        "df4 = df4[df4.Geolocation == \"PHILIPPINES\"]\n",
        "df4 = remove_annuals(df4)\n",
        "df4 = get_quarter_columns(df4, range(1994,2024), 2)\n",
        "df4 = preprocess_baesians_2(df4, {\n",
        "                                  \"Regular Milled Rice (RMR)\" : \"Rice\"}, melt_value=\"Retail Price\", impute=True)\n",
        "\n",
        "# Area Harvested of Rice and Corn (already quarterly)\n",
        "df5 = pd.read_csv(\"datasets/agricultural-indicators/area-harvested-palay-corn_quarterly-annual_1987-2023.csv\", skiprows=2)\n",
        "df5 = df5[df5.Geolocation == \"PHILIPPINES\"]\n",
        "df5 = remove_annuals(df5)\n",
        "df5 = df5.filter(regex=r'Geolocation|Commodity|199[4-9]|20[0-9]{2}|202[0-3]', axis=1)\n",
        "df5 = preprocess_baesians_2(df5, {\"Palay\": \"Rice\"}, melt_value=\"Area Harvested\")\n",
        "\n",
        "# Consumer Price Index (All Income) per Region of Rice and Corn (from monthly)\n",
        "df6 = pd.read_csv(\"datasets/price-indices-2018-based/cpi_all-income-households-by-cg-with-backcasting_1994-2023.csv\")\n",
        "df6 = df6[df6.Geolocation == \"PHILIPPINES\"]\n",
        "df6 = get_quarter_columns(df6, range(1994, 2024), 2)\n",
        "df6 = preprocess_baesians_2(df6, {\"01.1.1.12 - Rice\": \"Rice\"},\n",
        "                            melt_value=\"CPI All Income\")\n",
        "\n",
        "# NCR Retail Price Index on Food\n",
        "df10 = pd.read_csv(\"datasets/price-indices-2018-based/rpi-in-ncr_food-only_1989-2023_new.csv\")\n",
        "df10 = get_quarter_columns(df10, range(1994, 2024), 2)\n",
        "df10 = preprocess_baesians_2(df10, {\"..Food\": \"Food\"}, melt_value=\"NCR RPI\").drop([\"Geolocation\", \"Commodity\"], axis=1)\n",
        "\n",
        "# Merge all dfs into a single df\n",
        "dfs = [df1, df2, df3, df4, df5, df6, df10]\n",
        "df = functools.reduce(lambda left, right: pd.merge(left, right), dfs)\n",
        "move_column(df, \"Area Harvested\", 4)\n",
        "\n",
        "\n",
        "## CONVERTING TO DATETIME FORMAT\n",
        "qs = df['Period'].str.replace(' ', '-')\n",
        "df['Period'] = pd.DatetimeIndex(qs, freq='QS')#.to_timestamp()\n",
        "df = df.drop(['Geolocation', 'Commodity'], axis=1)\n",
        "df = df.set_index(\"Period\")\n",
        "# df = df.asfreq(freq='Q')\n",
        "df = df.sort_index()\n",
        "df.index.freq = 'QS'        # MANUALLY SET FREQUENCY FUUUUU\n",
        "    \n",
        "# display(df.describe())\n",
        "# display(df[[\"Geolocation\", \"Commodity\", \"Period\"]].describe())\n",
        "display(df.head(4))\n",
        "\n",
        "print(f'Number of rows with missing values: {df.isnull().any(axis=1).mean()}')"
      ]
    },
    {
      "cell_type": "markdown",
      "metadata": {},
      "source": [
        "# Modeling for Quarterly Volume and Area Harvested, and Monthly Stocks"
      ]
    },
    {
      "cell_type": "code",
      "execution_count": 2053,
      "metadata": {},
      "outputs": [],
      "source": [
        "# Plots\n",
        "# ==============================================================================\n",
        "import matplotlib.pyplot as plt\n",
        "plt.style.use('fivethirtyeight')\n",
        "plt.rcParams['lines.linewidth'] = 1.5\n",
        "plt.rcParams['font.size'] = 10\n",
        "\n",
        "# Modeling and Forecasting\n",
        "# ==============================================================================\n",
        "from sklearn import metrics\n",
        "from sklearn.preprocessing import StandardScaler\n",
        "\n",
        "import skforecast\n",
        "from skforecast.ForecasterAutoreg import ForecasterAutoreg\n",
        "from skforecast.model_selection import grid_search_forecaster\n",
        "from skforecast.model_selection import backtesting_forecaster\n",
        "from skforecast.utils import save_forecaster\n",
        "from skforecast.utils import load_forecaster\n",
        "import shap"
      ]
    },
    {
      "cell_type": "code",
      "execution_count": 2054,
      "metadata": {},
      "outputs": [],
      "source": [
        "\n",
        "def plot_results(train=None, test=None, predicts=None, var=None, title=\"Unset\", xtitle=\"Unset\", ytitle=\"Unset\", solo=False, split=None):\n",
        "    if solo:\n",
        "        fig = make_subplots()\n",
        "        fig.add_scatter(\n",
        "            x=train.index, y=train[var], name=f\"train\\t(n={len(train)})\"\n",
        "        )\n",
        "        fig.add_scatter(\n",
        "            x=predicts.index, y=predicts, name=f\"predicts\\t(n={len(predicts)})\", line=dict(color='rgba(0,204,150,1)')\n",
        "        )\n",
        "        # fig = go.Figure(data=go.Scatter(x=predicts.index, y=predicts, mode='lines+markers', line_color=\"rgba(255, 165, 0, 1)\"))\n",
        "        fig.update_layout(\n",
        "            legend=dict(\n",
        "                yanchor=\"top\", y=0.98, xanchor=\"left\", x=0.01, bgcolor=\"rgba(0, 0, 0, 0)\"\n",
        "            ),\n",
        "            title=title,\n",
        "            yaxis=dict(showgrid=True, title=ytitle),\n",
        "            xaxis=dict(showgrid=True, title=xtitle),\n",
        "            template=\"plotly_dark\"\n",
        "        )\n",
        "    else:\n",
        "        fig = make_subplots()\n",
        "        # fig.add_trace(go.Scatter(x=train.index, y=train[var],\n",
        "        #             mode='lines+markers',\n",
        "        #             name=f\"train\\t(n={len(train)})\"))\n",
        "        # fig.add_trace(go.Scatter(x=test.index, y=test[var],\n",
        "        #     mode='lines+markers',\n",
        "        #     name=f\"test\\t(n={len(train)})\"))\n",
        "        # fig.add_trace(go.Scatter(x=test.index, y=test[var],\n",
        "        #     mode='lines+markers',\n",
        "        #     name=f\"predicts\"))\n",
        "        fig.add_scatter(\n",
        "            x=train.index, y=train[var], name=f\"train\\t(n={len(train)})\"\n",
        "        )\n",
        "        fig.add_scatter(\n",
        "            x=test.index, y=test[var], name=f\"test\\t\\t(n={len(test)})\"\n",
        "        )\n",
        "        # rgba(255, 165, 0, 0.75)\n",
        "        fig.add_scatter(\n",
        "            x=predicts.index, y=predicts, name=\"predicts\", line=dict(color='rgba(0,204,150,0.8)')\n",
        "        )\n",
        "        fig.update_layout(\n",
        "            legend=dict(\n",
        "                yanchor=\"top\", y=0.98, xanchor=\"left\", x=0.01, bgcolor=\"rgba(111, 111, 111, 0.2)\"\n",
        "            ),\n",
        "            title=title,\n",
        "            yaxis=dict(showgrid=True, title=ytitle),\n",
        "            xaxis=dict(showgrid=True, title=xtitle),\n",
        "            template=\"plotly_dark\"\n",
        "        )\n",
        "\n",
        "        fig.update_traces(visible=\"legendonly\") #<----- deselect all lines \n",
        "        fig.data[1].visible=True\n",
        "        fig.data[2].visible=True\n",
        "        \n",
        "    fig.add_vline(x=split, line_width=1, line_dash=\"dash\", line_color=\"green\")\n",
        "\n",
        "    fig.add_annotation(\n",
        "        text=\"Data from PSA OpenStat (retrieved April 2024). Samples are nationwide averages.<br>Modeled with scikit-learn and skforecast. This plot is interactive.\",\n",
        "        xref=\"paper\", yref=\"paper\",\n",
        "        x=1, y=-0.2,  # Coordinates for lower right corner\n",
        "        xanchor=\"right\", yanchor=\"bottom\",\n",
        "        showarrow=False,\n",
        "        font=dict(size=10, color=\"gray\"),\n",
        "        align=\"right\"\n",
        "    )\n",
        "    fig.update_xaxes(title_text='', showticklabels=True)\n",
        "    fig.update_layout(\n",
        "        paper_bgcolor='rgba(0,0,0,0)',\n",
        "        plot_bgcolor='rgba(0,0,0,0)',\n",
        "    )\n",
        "\n",
        "    var = var.replace(\" \", \"\")\n",
        "    fig_to_div(fig, f\"models/{var}_forecast.html\" if solo else f\"models/{var}_validation.html\")\n",
        "    render(fig)"
      ]
    },
    {
      "cell_type": "markdown",
      "metadata": {},
      "source": [
        "## Volume Model"
      ]
    },
    {
      "cell_type": "code",
      "execution_count": 2055,
      "metadata": {},
      "outputs": [
        {
          "name": "stdout",
          "output_type": "stream",
          "text": [
            "Training periods : 1994-01-01 00:00:00 --- 2018-10-01 00:00:00  (n=100)\n",
            "Testing periods  : 2019-01-01 00:00:00 --- 2023-10-01 00:00:00  (n=20)\n",
            "MSE:\t63430770697.58\n",
            "RMSE:\t251854.66\n",
            "MAPE:\t0.05\n",
            "R2:\t0.97\n"
          ]
        },
        {
          "data": {
            "application/vnd.plotly.v1+json": {
              "config": {
                "plotlyServerURL": "https://plot.ly"
              },
              "data": [
                {
                  "name": "train\t(n=100)",
                  "type": "scatter",
                  "visible": "legendonly",
                  "x": [
                    "1994-01-01T00:00:00",
                    "1994-04-01T00:00:00",
                    "1994-07-01T00:00:00",
                    "1994-10-01T00:00:00",
                    "1995-01-01T00:00:00",
                    "1995-04-01T00:00:00",
                    "1995-07-01T00:00:00",
                    "1995-10-01T00:00:00",
                    "1996-01-01T00:00:00",
                    "1996-04-01T00:00:00",
                    "1996-07-01T00:00:00",
                    "1996-10-01T00:00:00",
                    "1997-01-01T00:00:00",
                    "1997-04-01T00:00:00",
                    "1997-07-01T00:00:00",
                    "1997-10-01T00:00:00",
                    "1998-01-01T00:00:00",
                    "1998-04-01T00:00:00",
                    "1998-07-01T00:00:00",
                    "1998-10-01T00:00:00",
                    "1999-01-01T00:00:00",
                    "1999-04-01T00:00:00",
                    "1999-07-01T00:00:00",
                    "1999-10-01T00:00:00",
                    "2000-01-01T00:00:00",
                    "2000-04-01T00:00:00",
                    "2000-07-01T00:00:00",
                    "2000-10-01T00:00:00",
                    "2001-01-01T00:00:00",
                    "2001-04-01T00:00:00",
                    "2001-07-01T00:00:00",
                    "2001-10-01T00:00:00",
                    "2002-01-01T00:00:00",
                    "2002-04-01T00:00:00",
                    "2002-07-01T00:00:00",
                    "2002-10-01T00:00:00",
                    "2003-01-01T00:00:00",
                    "2003-04-01T00:00:00",
                    "2003-07-01T00:00:00",
                    "2003-10-01T00:00:00",
                    "2004-01-01T00:00:00",
                    "2004-04-01T00:00:00",
                    "2004-07-01T00:00:00",
                    "2004-10-01T00:00:00",
                    "2005-01-01T00:00:00",
                    "2005-04-01T00:00:00",
                    "2005-07-01T00:00:00",
                    "2005-10-01T00:00:00",
                    "2006-01-01T00:00:00",
                    "2006-04-01T00:00:00",
                    "2006-07-01T00:00:00",
                    "2006-10-01T00:00:00",
                    "2007-01-01T00:00:00",
                    "2007-04-01T00:00:00",
                    "2007-07-01T00:00:00",
                    "2007-10-01T00:00:00",
                    "2008-01-01T00:00:00",
                    "2008-04-01T00:00:00",
                    "2008-07-01T00:00:00",
                    "2008-10-01T00:00:00",
                    "2009-01-01T00:00:00",
                    "2009-04-01T00:00:00",
                    "2009-07-01T00:00:00",
                    "2009-10-01T00:00:00",
                    "2010-01-01T00:00:00",
                    "2010-04-01T00:00:00",
                    "2010-07-01T00:00:00",
                    "2010-10-01T00:00:00",
                    "2011-01-01T00:00:00",
                    "2011-04-01T00:00:00",
                    "2011-07-01T00:00:00",
                    "2011-10-01T00:00:00",
                    "2012-01-01T00:00:00",
                    "2012-04-01T00:00:00",
                    "2012-07-01T00:00:00",
                    "2012-10-01T00:00:00",
                    "2013-01-01T00:00:00",
                    "2013-04-01T00:00:00",
                    "2013-07-01T00:00:00",
                    "2013-10-01T00:00:00",
                    "2014-01-01T00:00:00",
                    "2014-04-01T00:00:00",
                    "2014-07-01T00:00:00",
                    "2014-10-01T00:00:00",
                    "2015-01-01T00:00:00",
                    "2015-04-01T00:00:00",
                    "2015-07-01T00:00:00",
                    "2015-10-01T00:00:00",
                    "2016-01-01T00:00:00",
                    "2016-04-01T00:00:00",
                    "2016-07-01T00:00:00",
                    "2016-10-01T00:00:00",
                    "2017-01-01T00:00:00",
                    "2017-04-01T00:00:00",
                    "2017-07-01T00:00:00",
                    "2017-10-01T00:00:00",
                    "2018-01-01T00:00:00",
                    "2018-04-01T00:00:00",
                    "2018-07-01T00:00:00",
                    "2018-10-01T00:00:00"
                  ],
                  "y": [
                    2288317,
                    2090216,
                    1876635,
                    4282886,
                    2272045,
                    2045286,
                    1785510,
                    4437808,
                    2523794,
                    2427116,
                    2116498,
                    4216160,
                    2563757,
                    2282704,
                    1788141,
                    4634361,
                    2220968,
                    1338008,
                    1284443,
                    3711405,
                    2996188,
                    2275865,
                    2248702,
                    4265870,
                    2856356,
                    2586140,
                    2412610,
                    4534306,
                    2813930,
                    2753901,
                    2405187,
                    4981852,
                    3058094,
                    2614275,
                    2020796,
                    5577488,
                    3035561,
                    2345717,
                    2434696,
                    5683910,
                    3434383,
                    2604199,
                    2871678,
                    5586524,
                    3381885,
                    2651140,
                    2669137,
                    5900843,
                    3615607,
                    2923824,
                    3006200,
                    5781075,
                    3676704,
                    3051176,
                    3146959,
                    6365355,
                    3748852,
                    3371867,
                    3467460,
                    6227369,
                    3941177,
                    3435019,
                    3519417,
                    5370803.5,
                    3491640,
                    3129151,
                    2646110,
                    6505418,
                    4037331,
                    3539878,
                    3168478,
                    5938375,
                    3992198,
                    3899738.17,
                    3596801.08,
                    6543788.22,
                    4169943,
                    3827689.01,
                    3362655.72,
                    7079132,
                    4306890.95,
                    4073011,
                    3027058.87,
                    7560865.35,
                    4367715.4,
                    3955836.55,
                    2551545.83,
                    7274740,
                    3932292.4,
                    3714589.18,
                    2968770,
                    7011593.24,
                    4419267,
                    4149917.48,
                    3389508.95,
                    7317653.2,
                    4622978.84,
                    4090237.42,
                    3196416.68,
                    7156461
                  ]
                },
                {
                  "name": "test\t\t(n=20)",
                  "type": "scatter",
                  "visible": true,
                  "x": [
                    "2019-01-01T00:00:00",
                    "2019-04-01T00:00:00",
                    "2019-07-01T00:00:00",
                    "2019-10-01T00:00:00",
                    "2020-01-01T00:00:00",
                    "2020-04-01T00:00:00",
                    "2020-07-01T00:00:00",
                    "2020-10-01T00:00:00",
                    "2021-01-01T00:00:00",
                    "2021-04-01T00:00:00",
                    "2021-07-01T00:00:00",
                    "2021-10-01T00:00:00",
                    "2022-01-01T00:00:00",
                    "2022-04-01T00:00:00",
                    "2022-07-01T00:00:00",
                    "2022-10-01T00:00:00",
                    "2023-01-01T00:00:00",
                    "2023-04-01T00:00:00",
                    "2023-07-01T00:00:00",
                    "2023-10-01T00:00:00"
                  ],
                  "y": [
                    4416850.21,
                    3852526.47,
                    3051471.17,
                    7493979.44,
                    4261442.7,
                    4125233.41,
                    3516346.2,
                    7391833.21,
                    4626919.49,
                    4172939.91,
                    3752734.24,
                    7407576.55,
                    4541255.27,
                    4202415.04,
                    3789600.41,
                    7223121.56,
                    4778787.84,
                    4247396.64,
                    3797857.26,
                    7235520.22
                  ]
                },
                {
                  "line": {
                    "color": "rgba(0,204,150,0.8)"
                  },
                  "name": "predicts",
                  "type": "scatter",
                  "visible": true,
                  "x": [
                    "2019-01-01T00:00:00",
                    "2019-04-01T00:00:00",
                    "2019-07-01T00:00:00",
                    "2019-10-01T00:00:00",
                    "2020-01-01T00:00:00",
                    "2020-04-01T00:00:00",
                    "2020-07-01T00:00:00",
                    "2020-10-01T00:00:00",
                    "2021-01-01T00:00:00",
                    "2021-04-01T00:00:00",
                    "2021-07-01T00:00:00",
                    "2021-10-01T00:00:00",
                    "2022-01-01T00:00:00",
                    "2022-04-01T00:00:00",
                    "2022-07-01T00:00:00",
                    "2022-10-01T00:00:00",
                    "2023-01-01T00:00:00",
                    "2023-04-01T00:00:00",
                    "2023-07-01T00:00:00",
                    "2023-10-01T00:00:00"
                  ],
                  "y": [
                    4627447.944391996,
                    4132893.6336817914,
                    3252200.9205214707,
                    7143445.176039288,
                    4664379.831305916,
                    4165245.4069871763,
                    3292270.7705916883,
                    7123021.254521474,
                    4698137.949827039,
                    4196693.778841017,
                    3331381.5814549467,
                    7102173.732540184,
                    4730155.26869806,
                    4226599.50612101,
                    3368899.521079641,
                    7080670.62337271,
                    4760498.119336499,
                    4255098.806891708,
                    3404952.884324312,
                    7058602.013820939
                  ]
                }
              ],
              "layout": {
                "annotations": [
                  {
                    "align": "right",
                    "font": {
                      "color": "gray",
                      "size": 10
                    },
                    "showarrow": false,
                    "text": "Data from PSA OpenStat (retrieved April 2024). Samples are nationwide averages.<br>Modeled with scikit-learn and skforecast. This plot is interactive.",
                    "x": 1,
                    "xanchor": "right",
                    "xref": "paper",
                    "y": -0.2,
                    "yanchor": "bottom",
                    "yref": "paper"
                  }
                ],
                "legend": {
                  "bgcolor": "rgba(111, 111, 111, 0.2)",
                  "x": 0.01,
                  "xanchor": "left",
                  "y": 0.98,
                  "yanchor": "top"
                },
                "paper_bgcolor": "rgba(0,0,0,0)",
                "plot_bgcolor": "rgba(0,0,0,0)",
                "shapes": [
                  {
                    "line": {
                      "color": "green",
                      "dash": "dash",
                      "width": 1
                    },
                    "type": "line",
                    "x0": "2018-10-01 00:00:00",
                    "x1": "2018-10-01 00:00:00",
                    "xref": "x",
                    "y0": 0,
                    "y1": 1,
                    "yref": "y domain"
                  }
                ],
                "template": {
                  "data": {
                    "bar": [
                      {
                        "error_x": {
                          "color": "#f2f5fa"
                        },
                        "error_y": {
                          "color": "#f2f5fa"
                        },
                        "marker": {
                          "line": {
                            "color": "rgb(17,17,17)",
                            "width": 0.5
                          },
                          "pattern": {
                            "fillmode": "overlay",
                            "size": 10,
                            "solidity": 0.2
                          }
                        },
                        "type": "bar"
                      }
                    ],
                    "barpolar": [
                      {
                        "marker": {
                          "line": {
                            "color": "rgb(17,17,17)",
                            "width": 0.5
                          },
                          "pattern": {
                            "fillmode": "overlay",
                            "size": 10,
                            "solidity": 0.2
                          }
                        },
                        "type": "barpolar"
                      }
                    ],
                    "carpet": [
                      {
                        "aaxis": {
                          "endlinecolor": "#A2B1C6",
                          "gridcolor": "#506784",
                          "linecolor": "#506784",
                          "minorgridcolor": "#506784",
                          "startlinecolor": "#A2B1C6"
                        },
                        "baxis": {
                          "endlinecolor": "#A2B1C6",
                          "gridcolor": "#506784",
                          "linecolor": "#506784",
                          "minorgridcolor": "#506784",
                          "startlinecolor": "#A2B1C6"
                        },
                        "type": "carpet"
                      }
                    ],
                    "choropleth": [
                      {
                        "colorbar": {
                          "outlinewidth": 0,
                          "ticks": ""
                        },
                        "type": "choropleth"
                      }
                    ],
                    "contour": [
                      {
                        "colorbar": {
                          "outlinewidth": 0,
                          "ticks": ""
                        },
                        "colorscale": [
                          [
                            0,
                            "#0d0887"
                          ],
                          [
                            0.1111111111111111,
                            "#46039f"
                          ],
                          [
                            0.2222222222222222,
                            "#7201a8"
                          ],
                          [
                            0.3333333333333333,
                            "#9c179e"
                          ],
                          [
                            0.4444444444444444,
                            "#bd3786"
                          ],
                          [
                            0.5555555555555556,
                            "#d8576b"
                          ],
                          [
                            0.6666666666666666,
                            "#ed7953"
                          ],
                          [
                            0.7777777777777778,
                            "#fb9f3a"
                          ],
                          [
                            0.8888888888888888,
                            "#fdca26"
                          ],
                          [
                            1,
                            "#f0f921"
                          ]
                        ],
                        "type": "contour"
                      }
                    ],
                    "contourcarpet": [
                      {
                        "colorbar": {
                          "outlinewidth": 0,
                          "ticks": ""
                        },
                        "type": "contourcarpet"
                      }
                    ],
                    "heatmap": [
                      {
                        "colorbar": {
                          "outlinewidth": 0,
                          "ticks": ""
                        },
                        "colorscale": [
                          [
                            0,
                            "#0d0887"
                          ],
                          [
                            0.1111111111111111,
                            "#46039f"
                          ],
                          [
                            0.2222222222222222,
                            "#7201a8"
                          ],
                          [
                            0.3333333333333333,
                            "#9c179e"
                          ],
                          [
                            0.4444444444444444,
                            "#bd3786"
                          ],
                          [
                            0.5555555555555556,
                            "#d8576b"
                          ],
                          [
                            0.6666666666666666,
                            "#ed7953"
                          ],
                          [
                            0.7777777777777778,
                            "#fb9f3a"
                          ],
                          [
                            0.8888888888888888,
                            "#fdca26"
                          ],
                          [
                            1,
                            "#f0f921"
                          ]
                        ],
                        "type": "heatmap"
                      }
                    ],
                    "heatmapgl": [
                      {
                        "colorbar": {
                          "outlinewidth": 0,
                          "ticks": ""
                        },
                        "colorscale": [
                          [
                            0,
                            "#0d0887"
                          ],
                          [
                            0.1111111111111111,
                            "#46039f"
                          ],
                          [
                            0.2222222222222222,
                            "#7201a8"
                          ],
                          [
                            0.3333333333333333,
                            "#9c179e"
                          ],
                          [
                            0.4444444444444444,
                            "#bd3786"
                          ],
                          [
                            0.5555555555555556,
                            "#d8576b"
                          ],
                          [
                            0.6666666666666666,
                            "#ed7953"
                          ],
                          [
                            0.7777777777777778,
                            "#fb9f3a"
                          ],
                          [
                            0.8888888888888888,
                            "#fdca26"
                          ],
                          [
                            1,
                            "#f0f921"
                          ]
                        ],
                        "type": "heatmapgl"
                      }
                    ],
                    "histogram": [
                      {
                        "marker": {
                          "pattern": {
                            "fillmode": "overlay",
                            "size": 10,
                            "solidity": 0.2
                          }
                        },
                        "type": "histogram"
                      }
                    ],
                    "histogram2d": [
                      {
                        "colorbar": {
                          "outlinewidth": 0,
                          "ticks": ""
                        },
                        "colorscale": [
                          [
                            0,
                            "#0d0887"
                          ],
                          [
                            0.1111111111111111,
                            "#46039f"
                          ],
                          [
                            0.2222222222222222,
                            "#7201a8"
                          ],
                          [
                            0.3333333333333333,
                            "#9c179e"
                          ],
                          [
                            0.4444444444444444,
                            "#bd3786"
                          ],
                          [
                            0.5555555555555556,
                            "#d8576b"
                          ],
                          [
                            0.6666666666666666,
                            "#ed7953"
                          ],
                          [
                            0.7777777777777778,
                            "#fb9f3a"
                          ],
                          [
                            0.8888888888888888,
                            "#fdca26"
                          ],
                          [
                            1,
                            "#f0f921"
                          ]
                        ],
                        "type": "histogram2d"
                      }
                    ],
                    "histogram2dcontour": [
                      {
                        "colorbar": {
                          "outlinewidth": 0,
                          "ticks": ""
                        },
                        "colorscale": [
                          [
                            0,
                            "#0d0887"
                          ],
                          [
                            0.1111111111111111,
                            "#46039f"
                          ],
                          [
                            0.2222222222222222,
                            "#7201a8"
                          ],
                          [
                            0.3333333333333333,
                            "#9c179e"
                          ],
                          [
                            0.4444444444444444,
                            "#bd3786"
                          ],
                          [
                            0.5555555555555556,
                            "#d8576b"
                          ],
                          [
                            0.6666666666666666,
                            "#ed7953"
                          ],
                          [
                            0.7777777777777778,
                            "#fb9f3a"
                          ],
                          [
                            0.8888888888888888,
                            "#fdca26"
                          ],
                          [
                            1,
                            "#f0f921"
                          ]
                        ],
                        "type": "histogram2dcontour"
                      }
                    ],
                    "mesh3d": [
                      {
                        "colorbar": {
                          "outlinewidth": 0,
                          "ticks": ""
                        },
                        "type": "mesh3d"
                      }
                    ],
                    "parcoords": [
                      {
                        "line": {
                          "colorbar": {
                            "outlinewidth": 0,
                            "ticks": ""
                          }
                        },
                        "type": "parcoords"
                      }
                    ],
                    "pie": [
                      {
                        "automargin": true,
                        "type": "pie"
                      }
                    ],
                    "scatter": [
                      {
                        "marker": {
                          "line": {
                            "color": "#283442"
                          }
                        },
                        "type": "scatter"
                      }
                    ],
                    "scatter3d": [
                      {
                        "line": {
                          "colorbar": {
                            "outlinewidth": 0,
                            "ticks": ""
                          }
                        },
                        "marker": {
                          "colorbar": {
                            "outlinewidth": 0,
                            "ticks": ""
                          }
                        },
                        "type": "scatter3d"
                      }
                    ],
                    "scattercarpet": [
                      {
                        "marker": {
                          "colorbar": {
                            "outlinewidth": 0,
                            "ticks": ""
                          }
                        },
                        "type": "scattercarpet"
                      }
                    ],
                    "scattergeo": [
                      {
                        "marker": {
                          "colorbar": {
                            "outlinewidth": 0,
                            "ticks": ""
                          }
                        },
                        "type": "scattergeo"
                      }
                    ],
                    "scattergl": [
                      {
                        "marker": {
                          "line": {
                            "color": "#283442"
                          }
                        },
                        "type": "scattergl"
                      }
                    ],
                    "scattermapbox": [
                      {
                        "marker": {
                          "colorbar": {
                            "outlinewidth": 0,
                            "ticks": ""
                          }
                        },
                        "type": "scattermapbox"
                      }
                    ],
                    "scatterpolar": [
                      {
                        "marker": {
                          "colorbar": {
                            "outlinewidth": 0,
                            "ticks": ""
                          }
                        },
                        "type": "scatterpolar"
                      }
                    ],
                    "scatterpolargl": [
                      {
                        "marker": {
                          "colorbar": {
                            "outlinewidth": 0,
                            "ticks": ""
                          }
                        },
                        "type": "scatterpolargl"
                      }
                    ],
                    "scatterternary": [
                      {
                        "marker": {
                          "colorbar": {
                            "outlinewidth": 0,
                            "ticks": ""
                          }
                        },
                        "type": "scatterternary"
                      }
                    ],
                    "surface": [
                      {
                        "colorbar": {
                          "outlinewidth": 0,
                          "ticks": ""
                        },
                        "colorscale": [
                          [
                            0,
                            "#0d0887"
                          ],
                          [
                            0.1111111111111111,
                            "#46039f"
                          ],
                          [
                            0.2222222222222222,
                            "#7201a8"
                          ],
                          [
                            0.3333333333333333,
                            "#9c179e"
                          ],
                          [
                            0.4444444444444444,
                            "#bd3786"
                          ],
                          [
                            0.5555555555555556,
                            "#d8576b"
                          ],
                          [
                            0.6666666666666666,
                            "#ed7953"
                          ],
                          [
                            0.7777777777777778,
                            "#fb9f3a"
                          ],
                          [
                            0.8888888888888888,
                            "#fdca26"
                          ],
                          [
                            1,
                            "#f0f921"
                          ]
                        ],
                        "type": "surface"
                      }
                    ],
                    "table": [
                      {
                        "cells": {
                          "fill": {
                            "color": "#506784"
                          },
                          "line": {
                            "color": "rgb(17,17,17)"
                          }
                        },
                        "header": {
                          "fill": {
                            "color": "#2a3f5f"
                          },
                          "line": {
                            "color": "rgb(17,17,17)"
                          }
                        },
                        "type": "table"
                      }
                    ]
                  },
                  "layout": {
                    "annotationdefaults": {
                      "arrowcolor": "#f2f5fa",
                      "arrowhead": 0,
                      "arrowwidth": 1
                    },
                    "autotypenumbers": "strict",
                    "coloraxis": {
                      "colorbar": {
                        "outlinewidth": 0,
                        "ticks": ""
                      }
                    },
                    "colorscale": {
                      "diverging": [
                        [
                          0,
                          "#8e0152"
                        ],
                        [
                          0.1,
                          "#c51b7d"
                        ],
                        [
                          0.2,
                          "#de77ae"
                        ],
                        [
                          0.3,
                          "#f1b6da"
                        ],
                        [
                          0.4,
                          "#fde0ef"
                        ],
                        [
                          0.5,
                          "#f7f7f7"
                        ],
                        [
                          0.6,
                          "#e6f5d0"
                        ],
                        [
                          0.7,
                          "#b8e186"
                        ],
                        [
                          0.8,
                          "#7fbc41"
                        ],
                        [
                          0.9,
                          "#4d9221"
                        ],
                        [
                          1,
                          "#276419"
                        ]
                      ],
                      "sequential": [
                        [
                          0,
                          "#0d0887"
                        ],
                        [
                          0.1111111111111111,
                          "#46039f"
                        ],
                        [
                          0.2222222222222222,
                          "#7201a8"
                        ],
                        [
                          0.3333333333333333,
                          "#9c179e"
                        ],
                        [
                          0.4444444444444444,
                          "#bd3786"
                        ],
                        [
                          0.5555555555555556,
                          "#d8576b"
                        ],
                        [
                          0.6666666666666666,
                          "#ed7953"
                        ],
                        [
                          0.7777777777777778,
                          "#fb9f3a"
                        ],
                        [
                          0.8888888888888888,
                          "#fdca26"
                        ],
                        [
                          1,
                          "#f0f921"
                        ]
                      ],
                      "sequentialminus": [
                        [
                          0,
                          "#0d0887"
                        ],
                        [
                          0.1111111111111111,
                          "#46039f"
                        ],
                        [
                          0.2222222222222222,
                          "#7201a8"
                        ],
                        [
                          0.3333333333333333,
                          "#9c179e"
                        ],
                        [
                          0.4444444444444444,
                          "#bd3786"
                        ],
                        [
                          0.5555555555555556,
                          "#d8576b"
                        ],
                        [
                          0.6666666666666666,
                          "#ed7953"
                        ],
                        [
                          0.7777777777777778,
                          "#fb9f3a"
                        ],
                        [
                          0.8888888888888888,
                          "#fdca26"
                        ],
                        [
                          1,
                          "#f0f921"
                        ]
                      ]
                    },
                    "colorway": [
                      "#636efa",
                      "#EF553B",
                      "#00cc96",
                      "#ab63fa",
                      "#FFA15A",
                      "#19d3f3",
                      "#FF6692",
                      "#B6E880",
                      "#FF97FF",
                      "#FECB52"
                    ],
                    "font": {
                      "color": "#f2f5fa"
                    },
                    "geo": {
                      "bgcolor": "rgb(17,17,17)",
                      "lakecolor": "rgb(17,17,17)",
                      "landcolor": "rgb(17,17,17)",
                      "showlakes": true,
                      "showland": true,
                      "subunitcolor": "#506784"
                    },
                    "hoverlabel": {
                      "align": "left"
                    },
                    "hovermode": "closest",
                    "mapbox": {
                      "style": "dark"
                    },
                    "paper_bgcolor": "rgb(17,17,17)",
                    "plot_bgcolor": "rgb(17,17,17)",
                    "polar": {
                      "angularaxis": {
                        "gridcolor": "#506784",
                        "linecolor": "#506784",
                        "ticks": ""
                      },
                      "bgcolor": "rgb(17,17,17)",
                      "radialaxis": {
                        "gridcolor": "#506784",
                        "linecolor": "#506784",
                        "ticks": ""
                      }
                    },
                    "scene": {
                      "xaxis": {
                        "backgroundcolor": "rgb(17,17,17)",
                        "gridcolor": "#506784",
                        "gridwidth": 2,
                        "linecolor": "#506784",
                        "showbackground": true,
                        "ticks": "",
                        "zerolinecolor": "#C8D4E3"
                      },
                      "yaxis": {
                        "backgroundcolor": "rgb(17,17,17)",
                        "gridcolor": "#506784",
                        "gridwidth": 2,
                        "linecolor": "#506784",
                        "showbackground": true,
                        "ticks": "",
                        "zerolinecolor": "#C8D4E3"
                      },
                      "zaxis": {
                        "backgroundcolor": "rgb(17,17,17)",
                        "gridcolor": "#506784",
                        "gridwidth": 2,
                        "linecolor": "#506784",
                        "showbackground": true,
                        "ticks": "",
                        "zerolinecolor": "#C8D4E3"
                      }
                    },
                    "shapedefaults": {
                      "line": {
                        "color": "#f2f5fa"
                      }
                    },
                    "sliderdefaults": {
                      "bgcolor": "#C8D4E3",
                      "bordercolor": "rgb(17,17,17)",
                      "borderwidth": 1,
                      "tickwidth": 0
                    },
                    "ternary": {
                      "aaxis": {
                        "gridcolor": "#506784",
                        "linecolor": "#506784",
                        "ticks": ""
                      },
                      "baxis": {
                        "gridcolor": "#506784",
                        "linecolor": "#506784",
                        "ticks": ""
                      },
                      "bgcolor": "rgb(17,17,17)",
                      "caxis": {
                        "gridcolor": "#506784",
                        "linecolor": "#506784",
                        "ticks": ""
                      }
                    },
                    "title": {
                      "x": 0.05
                    },
                    "updatemenudefaults": {
                      "bgcolor": "#506784",
                      "borderwidth": 0
                    },
                    "xaxis": {
                      "automargin": true,
                      "gridcolor": "#283442",
                      "linecolor": "#506784",
                      "ticks": "",
                      "title": {
                        "standoff": 15
                      },
                      "zerolinecolor": "#283442",
                      "zerolinewidth": 2
                    },
                    "yaxis": {
                      "automargin": true,
                      "gridcolor": "#283442",
                      "linecolor": "#506784",
                      "ticks": "",
                      "title": {
                        "standoff": 15
                      },
                      "zerolinecolor": "#283442",
                      "zerolinewidth": 2
                    }
                  }
                },
                "title": {
                  "text": "Model Validation: Philippines Volume of Rice Production (1994-2023)    <br><sup>Quarterly projections via Elastic Net Model with CV (ntrain=100, ntest=20) (MAPE=0.05, R2=0.97)</sup>"
                },
                "xaxis": {
                  "anchor": "y",
                  "domain": [
                    0,
                    1
                  ],
                  "showgrid": true,
                  "showticklabels": true,
                  "title": {
                    "text": ""
                  }
                },
                "yaxis": {
                  "anchor": "x",
                  "domain": [
                    0,
                    1
                  ],
                  "showgrid": true,
                  "title": {
                    "text": "Volume (metric tons)"
                  }
                }
              }
            }
          },
          "metadata": {},
          "output_type": "display_data"
        }
      ],
      "source": [
        "import numpy as np\n",
        "from sklearn.linear_model import BayesianRidge, ElasticNetCV, LarsCV, LassoCV, LassoLarsCV, OrthogonalMatchingPursuitCV, RidgeCV\n",
        "from sklearn.ensemble import GradientBoostingRegressor, BaggingRegressor, HistGradientBoostingRegressor, ExtraTreesRegressor\n",
        "\n",
        "# res = df.iloc[:, np.r_[2, 5:10]] # np.r to combine slices\n",
        "\n",
        "# Set parameters\n",
        "# Column numbers: 2: Farmgate Price, 3: Wholesale Price, 4: Retail Price, 5: CPI All Income, 6: NCR RPI\n",
        "y = 'Volume'\n",
        "X = np.r_[4]\n",
        "\n",
        "# Split data into train-test\n",
        "steps = 20\n",
        "train = df[:-steps]\n",
        "test  = df[-steps:]\n",
        "\n",
        "train_y = train[y]\n",
        "train_X = train.iloc[:, X]\n",
        "test_y = test[y]\n",
        "test_X = test.iloc[:, X]\n",
        "\n",
        "print(\n",
        "    f\"Training periods : {train.index.min()} --- \"\n",
        "    f\"{train.index.max()}  (n={len(train)})\"\n",
        ")\n",
        "print(\n",
        "    f\"Testing periods  : {test.index.min()} --- \"\n",
        "    f\"{test.index.max()}  (n={len(test)})\"\n",
        ")\n",
        "\n",
        "# Find best hyperparameter values for forecaster\n",
        "# regressors = [BayesianRidge(), ElasticNetCV(), RidgeCV(), LarsCV(), LassoCV(), LassoLarsCV(),\n",
        "#               OrthogonalMatchingPursuitCV(), GradientBoostingRegressor(), BaggingRegressor(),\n",
        "#               HistGradientBoostingRegressor(), ExtraTreesRegressor()]\n",
        "\n",
        "forecaster = ForecasterAutoreg(\n",
        "                regressor = ElasticNetCV(),\n",
        "                lags      = 7\n",
        "            )\n",
        "\n",
        "# Candidate values for lags\n",
        "lags_grid = list(range(6,30,1))\n",
        "\n",
        "# Candidate values for regressor's hyperparameters\n",
        "param_grid = {\n",
        "    # 'cv': [5],\n",
        "    # 'learning_rate': [0.0001, 0.001, 0.01, 0.1],\n",
        "    # 'alpha': [0.5, 0.7, 0.9],\n",
        "    # 'n_estimators': list(range(100, 500, 50)),\n",
        "    # 'max_depth': list(range(3,10,1))\n",
        "}\n",
        "\n",
        "if False: \n",
        "    results_grid = grid_search_forecaster(\n",
        "                    forecaster         = forecaster,\n",
        "                    y                  = train_y,\n",
        "                    param_grid         = param_grid,\n",
        "                    lags_grid          = lags_grid,\n",
        "                    steps              = steps,\n",
        "                    refit              = False,\n",
        "                    metric             = 'mean_absolute_percentage_error',\n",
        "                    initial_train_size = int(len(train)*0.5),\n",
        "                    fixed_train_size   = False,\n",
        "                    return_best        = True,\n",
        "                    n_jobs             = 'auto',\n",
        "                    verbose            = False\n",
        "                )\n",
        "\n",
        "# Use those best values for forecaster (automatically plugged in by grid_search_forecaster)\n",
        "forecaster.fit(y=train_y)\n",
        "forecaster\n",
        "\n",
        "# Predictions\n",
        "# NOTE: So if you want to have a more accurate projection, you may optionally measure these first,\n",
        "# and much better if they are already available\n",
        "predicts = forecaster.predict(steps=steps)\n",
        "# predicts = forecaster.predict(steps=steps+27) #+28 to reach 2030\n",
        "# predicts.index = pd.date_range(start=str(data_test.index.min()), end='2030Q4', freq='Q')\n",
        "# display(predicts)\n",
        "\n",
        "# Test MSE, RSME, R2\n",
        "mse = metrics.mean_squared_error(y_true=test_y, y_pred=predicts)\n",
        "rmse = metrics.root_mean_squared_error(y_true=test_y, y_pred=predicts)\n",
        "mape = metrics.mean_absolute_percentage_error(y_true=test_y, y_pred=predicts)\n",
        "r2 = metrics.r2_score(y_true=test_y, y_pred=predicts)\n",
        "\n",
        "print(\"MSE:\\t%0.2f\" % mse)\n",
        "print(\"RMSE:\\t%0.2f\" % rmse)\n",
        "print(\"MAPE:\\t%0.2f\" % mape)\n",
        "print(\"R2:\\t%0.2f\" % r2)\n",
        "\n",
        "# Plot predicts versus test data\n",
        "plot_results(train, test, predicts, var=\"Volume\", title=f\"Model Validation: Philippines Volume of Rice Production (1994-2023)\\\n",
        "    <br><sup>Quarterly projections via Elastic Net Model with CV (ntrain={len(train)}, ntest={len(test)}) (MAPE={round(mape,2)}, R2={round(r2,2)})</sup>\",\n",
        "    xtitle=\"Period\", ytitle=\"Volume (metric tons)\", split=\"2018-10-01 00:00:00\")"
      ]
    },
    {
      "cell_type": "code",
      "execution_count": 2056,
      "metadata": {},
      "outputs": [
        {
          "name": "stdout",
          "output_type": "stream",
          "text": [
            "Training periods : 1994-01-01 00:00:00 --- 2023-10-01 00:00:00  (n=120)\n"
          ]
        },
        {
          "data": {
            "application/vnd.plotly.v1+json": {
              "config": {
                "plotlyServerURL": "https://plot.ly"
              },
              "data": [
                {
                  "name": "train\t(n=120)",
                  "type": "scatter",
                  "x": [
                    "1994-01-01T00:00:00",
                    "1994-04-01T00:00:00",
                    "1994-07-01T00:00:00",
                    "1994-10-01T00:00:00",
                    "1995-01-01T00:00:00",
                    "1995-04-01T00:00:00",
                    "1995-07-01T00:00:00",
                    "1995-10-01T00:00:00",
                    "1996-01-01T00:00:00",
                    "1996-04-01T00:00:00",
                    "1996-07-01T00:00:00",
                    "1996-10-01T00:00:00",
                    "1997-01-01T00:00:00",
                    "1997-04-01T00:00:00",
                    "1997-07-01T00:00:00",
                    "1997-10-01T00:00:00",
                    "1998-01-01T00:00:00",
                    "1998-04-01T00:00:00",
                    "1998-07-01T00:00:00",
                    "1998-10-01T00:00:00",
                    "1999-01-01T00:00:00",
                    "1999-04-01T00:00:00",
                    "1999-07-01T00:00:00",
                    "1999-10-01T00:00:00",
                    "2000-01-01T00:00:00",
                    "2000-04-01T00:00:00",
                    "2000-07-01T00:00:00",
                    "2000-10-01T00:00:00",
                    "2001-01-01T00:00:00",
                    "2001-04-01T00:00:00",
                    "2001-07-01T00:00:00",
                    "2001-10-01T00:00:00",
                    "2002-01-01T00:00:00",
                    "2002-04-01T00:00:00",
                    "2002-07-01T00:00:00",
                    "2002-10-01T00:00:00",
                    "2003-01-01T00:00:00",
                    "2003-04-01T00:00:00",
                    "2003-07-01T00:00:00",
                    "2003-10-01T00:00:00",
                    "2004-01-01T00:00:00",
                    "2004-04-01T00:00:00",
                    "2004-07-01T00:00:00",
                    "2004-10-01T00:00:00",
                    "2005-01-01T00:00:00",
                    "2005-04-01T00:00:00",
                    "2005-07-01T00:00:00",
                    "2005-10-01T00:00:00",
                    "2006-01-01T00:00:00",
                    "2006-04-01T00:00:00",
                    "2006-07-01T00:00:00",
                    "2006-10-01T00:00:00",
                    "2007-01-01T00:00:00",
                    "2007-04-01T00:00:00",
                    "2007-07-01T00:00:00",
                    "2007-10-01T00:00:00",
                    "2008-01-01T00:00:00",
                    "2008-04-01T00:00:00",
                    "2008-07-01T00:00:00",
                    "2008-10-01T00:00:00",
                    "2009-01-01T00:00:00",
                    "2009-04-01T00:00:00",
                    "2009-07-01T00:00:00",
                    "2009-10-01T00:00:00",
                    "2010-01-01T00:00:00",
                    "2010-04-01T00:00:00",
                    "2010-07-01T00:00:00",
                    "2010-10-01T00:00:00",
                    "2011-01-01T00:00:00",
                    "2011-04-01T00:00:00",
                    "2011-07-01T00:00:00",
                    "2011-10-01T00:00:00",
                    "2012-01-01T00:00:00",
                    "2012-04-01T00:00:00",
                    "2012-07-01T00:00:00",
                    "2012-10-01T00:00:00",
                    "2013-01-01T00:00:00",
                    "2013-04-01T00:00:00",
                    "2013-07-01T00:00:00",
                    "2013-10-01T00:00:00",
                    "2014-01-01T00:00:00",
                    "2014-04-01T00:00:00",
                    "2014-07-01T00:00:00",
                    "2014-10-01T00:00:00",
                    "2015-01-01T00:00:00",
                    "2015-04-01T00:00:00",
                    "2015-07-01T00:00:00",
                    "2015-10-01T00:00:00",
                    "2016-01-01T00:00:00",
                    "2016-04-01T00:00:00",
                    "2016-07-01T00:00:00",
                    "2016-10-01T00:00:00",
                    "2017-01-01T00:00:00",
                    "2017-04-01T00:00:00",
                    "2017-07-01T00:00:00",
                    "2017-10-01T00:00:00",
                    "2018-01-01T00:00:00",
                    "2018-04-01T00:00:00",
                    "2018-07-01T00:00:00",
                    "2018-10-01T00:00:00",
                    "2019-01-01T00:00:00",
                    "2019-04-01T00:00:00",
                    "2019-07-01T00:00:00",
                    "2019-10-01T00:00:00",
                    "2020-01-01T00:00:00",
                    "2020-04-01T00:00:00",
                    "2020-07-01T00:00:00",
                    "2020-10-01T00:00:00",
                    "2021-01-01T00:00:00",
                    "2021-04-01T00:00:00",
                    "2021-07-01T00:00:00",
                    "2021-10-01T00:00:00",
                    "2022-01-01T00:00:00",
                    "2022-04-01T00:00:00",
                    "2022-07-01T00:00:00",
                    "2022-10-01T00:00:00",
                    "2023-01-01T00:00:00",
                    "2023-04-01T00:00:00",
                    "2023-07-01T00:00:00",
                    "2023-10-01T00:00:00"
                  ],
                  "y": [
                    2288317,
                    2090216,
                    1876635,
                    4282886,
                    2272045,
                    2045286,
                    1785510,
                    4437808,
                    2523794,
                    2427116,
                    2116498,
                    4216160,
                    2563757,
                    2282704,
                    1788141,
                    4634361,
                    2220968,
                    1338008,
                    1284443,
                    3711405,
                    2996188,
                    2275865,
                    2248702,
                    4265870,
                    2856356,
                    2586140,
                    2412610,
                    4534306,
                    2813930,
                    2753901,
                    2405187,
                    4981852,
                    3058094,
                    2614275,
                    2020796,
                    5577488,
                    3035561,
                    2345717,
                    2434696,
                    5683910,
                    3434383,
                    2604199,
                    2871678,
                    5586524,
                    3381885,
                    2651140,
                    2669137,
                    5900843,
                    3615607,
                    2923824,
                    3006200,
                    5781075,
                    3676704,
                    3051176,
                    3146959,
                    6365355,
                    3748852,
                    3371867,
                    3467460,
                    6227369,
                    3941177,
                    3435019,
                    3519417,
                    5370803.5,
                    3491640,
                    3129151,
                    2646110,
                    6505418,
                    4037331,
                    3539878,
                    3168478,
                    5938375,
                    3992198,
                    3899738.17,
                    3596801.08,
                    6543788.22,
                    4169943,
                    3827689.01,
                    3362655.72,
                    7079132,
                    4306890.95,
                    4073011,
                    3027058.87,
                    7560865.35,
                    4367715.4,
                    3955836.55,
                    2551545.83,
                    7274740,
                    3932292.4,
                    3714589.18,
                    2968770,
                    7011593.24,
                    4419267,
                    4149917.48,
                    3389508.95,
                    7317653.2,
                    4622978.84,
                    4090237.42,
                    3196416.68,
                    7156461,
                    4416850.21,
                    3852526.47,
                    3051471.17,
                    7493979.44,
                    4261442.7,
                    4125233.41,
                    3516346.2,
                    7391833.21,
                    4626919.49,
                    4172939.91,
                    3752734.24,
                    7407576.55,
                    4541255.27,
                    4202415.04,
                    3789600.41,
                    7223121.56,
                    4778787.84,
                    4247396.64,
                    3797857.26,
                    7235520.22
                  ]
                },
                {
                  "line": {
                    "color": "rgba(0,204,150,1)"
                  },
                  "name": "predicts\t(n=28)",
                  "type": "scatter",
                  "x": [
                    "2024-01-01T00:00:00",
                    "2024-04-01T00:00:00",
                    "2024-07-01T00:00:00",
                    "2024-10-01T00:00:00",
                    "2025-01-01T00:00:00",
                    "2025-04-01T00:00:00",
                    "2025-07-01T00:00:00",
                    "2025-10-01T00:00:00",
                    "2026-01-01T00:00:00",
                    "2026-04-01T00:00:00",
                    "2026-07-01T00:00:00",
                    "2026-10-01T00:00:00",
                    "2027-01-01T00:00:00",
                    "2027-04-01T00:00:00",
                    "2027-07-01T00:00:00",
                    "2027-10-01T00:00:00",
                    "2028-01-01T00:00:00",
                    "2028-04-01T00:00:00",
                    "2028-07-01T00:00:00",
                    "2028-10-01T00:00:00",
                    "2029-01-01T00:00:00",
                    "2029-04-01T00:00:00",
                    "2029-07-01T00:00:00",
                    "2029-10-01T00:00:00",
                    "2030-01-01T00:00:00",
                    "2030-04-01T00:00:00",
                    "2030-07-01T00:00:00",
                    "2030-10-01T00:00:00"
                  ],
                  "y": [
                    4808413.958681347,
                    4277964.4546750765,
                    3842127.5857855664,
                    7211594.14340109,
                    4832442.814496802,
                    4302403.521785225,
                    3885856.2119316687,
                    7187642.657780612,
                    4855628.760241264,
                    4325815.522726297,
                    3927960.655553083,
                    7163430.640348981,
                    4877604.010821269,
                    4348239.214448921,
                    3968510.6456458434,
                    7139031.024926594,
                    4898441.854747447,
                    4369735.050012764,
                    4007577.8414164246,
                    7114486.668578611,
                    4918205.179575805,
                    4390356.966348099,
                    4045230.8202553424,
                    7089837.6010202775,
                    4936953.510111469,
                    4410155.564622209,
                    4081534.446232942,
                    7065120.771431274
                  ]
                }
              ],
              "layout": {
                "annotations": [
                  {
                    "align": "right",
                    "font": {
                      "color": "gray",
                      "size": 10
                    },
                    "showarrow": false,
                    "text": "Data from PSA OpenStat (retrieved April 2024). Samples are nationwide averages.<br>Modeled with scikit-learn and skforecast. This plot is interactive.",
                    "x": 1,
                    "xanchor": "right",
                    "xref": "paper",
                    "y": -0.2,
                    "yanchor": "bottom",
                    "yref": "paper"
                  }
                ],
                "legend": {
                  "bgcolor": "rgba(0, 0, 0, 0)",
                  "x": 0.01,
                  "xanchor": "left",
                  "y": 0.98,
                  "yanchor": "top"
                },
                "paper_bgcolor": "rgba(0,0,0,0)",
                "plot_bgcolor": "rgba(0,0,0,0)",
                "shapes": [
                  {
                    "line": {
                      "color": "green",
                      "dash": "dash",
                      "width": 1
                    },
                    "type": "line",
                    "x0": "2023-10-01 00:00:00",
                    "x1": "2023-10-01 00:00:00",
                    "xref": "x",
                    "y0": 0,
                    "y1": 1,
                    "yref": "y domain"
                  }
                ],
                "template": {
                  "data": {
                    "bar": [
                      {
                        "error_x": {
                          "color": "#f2f5fa"
                        },
                        "error_y": {
                          "color": "#f2f5fa"
                        },
                        "marker": {
                          "line": {
                            "color": "rgb(17,17,17)",
                            "width": 0.5
                          },
                          "pattern": {
                            "fillmode": "overlay",
                            "size": 10,
                            "solidity": 0.2
                          }
                        },
                        "type": "bar"
                      }
                    ],
                    "barpolar": [
                      {
                        "marker": {
                          "line": {
                            "color": "rgb(17,17,17)",
                            "width": 0.5
                          },
                          "pattern": {
                            "fillmode": "overlay",
                            "size": 10,
                            "solidity": 0.2
                          }
                        },
                        "type": "barpolar"
                      }
                    ],
                    "carpet": [
                      {
                        "aaxis": {
                          "endlinecolor": "#A2B1C6",
                          "gridcolor": "#506784",
                          "linecolor": "#506784",
                          "minorgridcolor": "#506784",
                          "startlinecolor": "#A2B1C6"
                        },
                        "baxis": {
                          "endlinecolor": "#A2B1C6",
                          "gridcolor": "#506784",
                          "linecolor": "#506784",
                          "minorgridcolor": "#506784",
                          "startlinecolor": "#A2B1C6"
                        },
                        "type": "carpet"
                      }
                    ],
                    "choropleth": [
                      {
                        "colorbar": {
                          "outlinewidth": 0,
                          "ticks": ""
                        },
                        "type": "choropleth"
                      }
                    ],
                    "contour": [
                      {
                        "colorbar": {
                          "outlinewidth": 0,
                          "ticks": ""
                        },
                        "colorscale": [
                          [
                            0,
                            "#0d0887"
                          ],
                          [
                            0.1111111111111111,
                            "#46039f"
                          ],
                          [
                            0.2222222222222222,
                            "#7201a8"
                          ],
                          [
                            0.3333333333333333,
                            "#9c179e"
                          ],
                          [
                            0.4444444444444444,
                            "#bd3786"
                          ],
                          [
                            0.5555555555555556,
                            "#d8576b"
                          ],
                          [
                            0.6666666666666666,
                            "#ed7953"
                          ],
                          [
                            0.7777777777777778,
                            "#fb9f3a"
                          ],
                          [
                            0.8888888888888888,
                            "#fdca26"
                          ],
                          [
                            1,
                            "#f0f921"
                          ]
                        ],
                        "type": "contour"
                      }
                    ],
                    "contourcarpet": [
                      {
                        "colorbar": {
                          "outlinewidth": 0,
                          "ticks": ""
                        },
                        "type": "contourcarpet"
                      }
                    ],
                    "heatmap": [
                      {
                        "colorbar": {
                          "outlinewidth": 0,
                          "ticks": ""
                        },
                        "colorscale": [
                          [
                            0,
                            "#0d0887"
                          ],
                          [
                            0.1111111111111111,
                            "#46039f"
                          ],
                          [
                            0.2222222222222222,
                            "#7201a8"
                          ],
                          [
                            0.3333333333333333,
                            "#9c179e"
                          ],
                          [
                            0.4444444444444444,
                            "#bd3786"
                          ],
                          [
                            0.5555555555555556,
                            "#d8576b"
                          ],
                          [
                            0.6666666666666666,
                            "#ed7953"
                          ],
                          [
                            0.7777777777777778,
                            "#fb9f3a"
                          ],
                          [
                            0.8888888888888888,
                            "#fdca26"
                          ],
                          [
                            1,
                            "#f0f921"
                          ]
                        ],
                        "type": "heatmap"
                      }
                    ],
                    "heatmapgl": [
                      {
                        "colorbar": {
                          "outlinewidth": 0,
                          "ticks": ""
                        },
                        "colorscale": [
                          [
                            0,
                            "#0d0887"
                          ],
                          [
                            0.1111111111111111,
                            "#46039f"
                          ],
                          [
                            0.2222222222222222,
                            "#7201a8"
                          ],
                          [
                            0.3333333333333333,
                            "#9c179e"
                          ],
                          [
                            0.4444444444444444,
                            "#bd3786"
                          ],
                          [
                            0.5555555555555556,
                            "#d8576b"
                          ],
                          [
                            0.6666666666666666,
                            "#ed7953"
                          ],
                          [
                            0.7777777777777778,
                            "#fb9f3a"
                          ],
                          [
                            0.8888888888888888,
                            "#fdca26"
                          ],
                          [
                            1,
                            "#f0f921"
                          ]
                        ],
                        "type": "heatmapgl"
                      }
                    ],
                    "histogram": [
                      {
                        "marker": {
                          "pattern": {
                            "fillmode": "overlay",
                            "size": 10,
                            "solidity": 0.2
                          }
                        },
                        "type": "histogram"
                      }
                    ],
                    "histogram2d": [
                      {
                        "colorbar": {
                          "outlinewidth": 0,
                          "ticks": ""
                        },
                        "colorscale": [
                          [
                            0,
                            "#0d0887"
                          ],
                          [
                            0.1111111111111111,
                            "#46039f"
                          ],
                          [
                            0.2222222222222222,
                            "#7201a8"
                          ],
                          [
                            0.3333333333333333,
                            "#9c179e"
                          ],
                          [
                            0.4444444444444444,
                            "#bd3786"
                          ],
                          [
                            0.5555555555555556,
                            "#d8576b"
                          ],
                          [
                            0.6666666666666666,
                            "#ed7953"
                          ],
                          [
                            0.7777777777777778,
                            "#fb9f3a"
                          ],
                          [
                            0.8888888888888888,
                            "#fdca26"
                          ],
                          [
                            1,
                            "#f0f921"
                          ]
                        ],
                        "type": "histogram2d"
                      }
                    ],
                    "histogram2dcontour": [
                      {
                        "colorbar": {
                          "outlinewidth": 0,
                          "ticks": ""
                        },
                        "colorscale": [
                          [
                            0,
                            "#0d0887"
                          ],
                          [
                            0.1111111111111111,
                            "#46039f"
                          ],
                          [
                            0.2222222222222222,
                            "#7201a8"
                          ],
                          [
                            0.3333333333333333,
                            "#9c179e"
                          ],
                          [
                            0.4444444444444444,
                            "#bd3786"
                          ],
                          [
                            0.5555555555555556,
                            "#d8576b"
                          ],
                          [
                            0.6666666666666666,
                            "#ed7953"
                          ],
                          [
                            0.7777777777777778,
                            "#fb9f3a"
                          ],
                          [
                            0.8888888888888888,
                            "#fdca26"
                          ],
                          [
                            1,
                            "#f0f921"
                          ]
                        ],
                        "type": "histogram2dcontour"
                      }
                    ],
                    "mesh3d": [
                      {
                        "colorbar": {
                          "outlinewidth": 0,
                          "ticks": ""
                        },
                        "type": "mesh3d"
                      }
                    ],
                    "parcoords": [
                      {
                        "line": {
                          "colorbar": {
                            "outlinewidth": 0,
                            "ticks": ""
                          }
                        },
                        "type": "parcoords"
                      }
                    ],
                    "pie": [
                      {
                        "automargin": true,
                        "type": "pie"
                      }
                    ],
                    "scatter": [
                      {
                        "marker": {
                          "line": {
                            "color": "#283442"
                          }
                        },
                        "type": "scatter"
                      }
                    ],
                    "scatter3d": [
                      {
                        "line": {
                          "colorbar": {
                            "outlinewidth": 0,
                            "ticks": ""
                          }
                        },
                        "marker": {
                          "colorbar": {
                            "outlinewidth": 0,
                            "ticks": ""
                          }
                        },
                        "type": "scatter3d"
                      }
                    ],
                    "scattercarpet": [
                      {
                        "marker": {
                          "colorbar": {
                            "outlinewidth": 0,
                            "ticks": ""
                          }
                        },
                        "type": "scattercarpet"
                      }
                    ],
                    "scattergeo": [
                      {
                        "marker": {
                          "colorbar": {
                            "outlinewidth": 0,
                            "ticks": ""
                          }
                        },
                        "type": "scattergeo"
                      }
                    ],
                    "scattergl": [
                      {
                        "marker": {
                          "line": {
                            "color": "#283442"
                          }
                        },
                        "type": "scattergl"
                      }
                    ],
                    "scattermapbox": [
                      {
                        "marker": {
                          "colorbar": {
                            "outlinewidth": 0,
                            "ticks": ""
                          }
                        },
                        "type": "scattermapbox"
                      }
                    ],
                    "scatterpolar": [
                      {
                        "marker": {
                          "colorbar": {
                            "outlinewidth": 0,
                            "ticks": ""
                          }
                        },
                        "type": "scatterpolar"
                      }
                    ],
                    "scatterpolargl": [
                      {
                        "marker": {
                          "colorbar": {
                            "outlinewidth": 0,
                            "ticks": ""
                          }
                        },
                        "type": "scatterpolargl"
                      }
                    ],
                    "scatterternary": [
                      {
                        "marker": {
                          "colorbar": {
                            "outlinewidth": 0,
                            "ticks": ""
                          }
                        },
                        "type": "scatterternary"
                      }
                    ],
                    "surface": [
                      {
                        "colorbar": {
                          "outlinewidth": 0,
                          "ticks": ""
                        },
                        "colorscale": [
                          [
                            0,
                            "#0d0887"
                          ],
                          [
                            0.1111111111111111,
                            "#46039f"
                          ],
                          [
                            0.2222222222222222,
                            "#7201a8"
                          ],
                          [
                            0.3333333333333333,
                            "#9c179e"
                          ],
                          [
                            0.4444444444444444,
                            "#bd3786"
                          ],
                          [
                            0.5555555555555556,
                            "#d8576b"
                          ],
                          [
                            0.6666666666666666,
                            "#ed7953"
                          ],
                          [
                            0.7777777777777778,
                            "#fb9f3a"
                          ],
                          [
                            0.8888888888888888,
                            "#fdca26"
                          ],
                          [
                            1,
                            "#f0f921"
                          ]
                        ],
                        "type": "surface"
                      }
                    ],
                    "table": [
                      {
                        "cells": {
                          "fill": {
                            "color": "#506784"
                          },
                          "line": {
                            "color": "rgb(17,17,17)"
                          }
                        },
                        "header": {
                          "fill": {
                            "color": "#2a3f5f"
                          },
                          "line": {
                            "color": "rgb(17,17,17)"
                          }
                        },
                        "type": "table"
                      }
                    ]
                  },
                  "layout": {
                    "annotationdefaults": {
                      "arrowcolor": "#f2f5fa",
                      "arrowhead": 0,
                      "arrowwidth": 1
                    },
                    "autotypenumbers": "strict",
                    "coloraxis": {
                      "colorbar": {
                        "outlinewidth": 0,
                        "ticks": ""
                      }
                    },
                    "colorscale": {
                      "diverging": [
                        [
                          0,
                          "#8e0152"
                        ],
                        [
                          0.1,
                          "#c51b7d"
                        ],
                        [
                          0.2,
                          "#de77ae"
                        ],
                        [
                          0.3,
                          "#f1b6da"
                        ],
                        [
                          0.4,
                          "#fde0ef"
                        ],
                        [
                          0.5,
                          "#f7f7f7"
                        ],
                        [
                          0.6,
                          "#e6f5d0"
                        ],
                        [
                          0.7,
                          "#b8e186"
                        ],
                        [
                          0.8,
                          "#7fbc41"
                        ],
                        [
                          0.9,
                          "#4d9221"
                        ],
                        [
                          1,
                          "#276419"
                        ]
                      ],
                      "sequential": [
                        [
                          0,
                          "#0d0887"
                        ],
                        [
                          0.1111111111111111,
                          "#46039f"
                        ],
                        [
                          0.2222222222222222,
                          "#7201a8"
                        ],
                        [
                          0.3333333333333333,
                          "#9c179e"
                        ],
                        [
                          0.4444444444444444,
                          "#bd3786"
                        ],
                        [
                          0.5555555555555556,
                          "#d8576b"
                        ],
                        [
                          0.6666666666666666,
                          "#ed7953"
                        ],
                        [
                          0.7777777777777778,
                          "#fb9f3a"
                        ],
                        [
                          0.8888888888888888,
                          "#fdca26"
                        ],
                        [
                          1,
                          "#f0f921"
                        ]
                      ],
                      "sequentialminus": [
                        [
                          0,
                          "#0d0887"
                        ],
                        [
                          0.1111111111111111,
                          "#46039f"
                        ],
                        [
                          0.2222222222222222,
                          "#7201a8"
                        ],
                        [
                          0.3333333333333333,
                          "#9c179e"
                        ],
                        [
                          0.4444444444444444,
                          "#bd3786"
                        ],
                        [
                          0.5555555555555556,
                          "#d8576b"
                        ],
                        [
                          0.6666666666666666,
                          "#ed7953"
                        ],
                        [
                          0.7777777777777778,
                          "#fb9f3a"
                        ],
                        [
                          0.8888888888888888,
                          "#fdca26"
                        ],
                        [
                          1,
                          "#f0f921"
                        ]
                      ]
                    },
                    "colorway": [
                      "#636efa",
                      "#EF553B",
                      "#00cc96",
                      "#ab63fa",
                      "#FFA15A",
                      "#19d3f3",
                      "#FF6692",
                      "#B6E880",
                      "#FF97FF",
                      "#FECB52"
                    ],
                    "font": {
                      "color": "#f2f5fa"
                    },
                    "geo": {
                      "bgcolor": "rgb(17,17,17)",
                      "lakecolor": "rgb(17,17,17)",
                      "landcolor": "rgb(17,17,17)",
                      "showlakes": true,
                      "showland": true,
                      "subunitcolor": "#506784"
                    },
                    "hoverlabel": {
                      "align": "left"
                    },
                    "hovermode": "closest",
                    "mapbox": {
                      "style": "dark"
                    },
                    "paper_bgcolor": "rgb(17,17,17)",
                    "plot_bgcolor": "rgb(17,17,17)",
                    "polar": {
                      "angularaxis": {
                        "gridcolor": "#506784",
                        "linecolor": "#506784",
                        "ticks": ""
                      },
                      "bgcolor": "rgb(17,17,17)",
                      "radialaxis": {
                        "gridcolor": "#506784",
                        "linecolor": "#506784",
                        "ticks": ""
                      }
                    },
                    "scene": {
                      "xaxis": {
                        "backgroundcolor": "rgb(17,17,17)",
                        "gridcolor": "#506784",
                        "gridwidth": 2,
                        "linecolor": "#506784",
                        "showbackground": true,
                        "ticks": "",
                        "zerolinecolor": "#C8D4E3"
                      },
                      "yaxis": {
                        "backgroundcolor": "rgb(17,17,17)",
                        "gridcolor": "#506784",
                        "gridwidth": 2,
                        "linecolor": "#506784",
                        "showbackground": true,
                        "ticks": "",
                        "zerolinecolor": "#C8D4E3"
                      },
                      "zaxis": {
                        "backgroundcolor": "rgb(17,17,17)",
                        "gridcolor": "#506784",
                        "gridwidth": 2,
                        "linecolor": "#506784",
                        "showbackground": true,
                        "ticks": "",
                        "zerolinecolor": "#C8D4E3"
                      }
                    },
                    "shapedefaults": {
                      "line": {
                        "color": "#f2f5fa"
                      }
                    },
                    "sliderdefaults": {
                      "bgcolor": "#C8D4E3",
                      "bordercolor": "rgb(17,17,17)",
                      "borderwidth": 1,
                      "tickwidth": 0
                    },
                    "ternary": {
                      "aaxis": {
                        "gridcolor": "#506784",
                        "linecolor": "#506784",
                        "ticks": ""
                      },
                      "baxis": {
                        "gridcolor": "#506784",
                        "linecolor": "#506784",
                        "ticks": ""
                      },
                      "bgcolor": "rgb(17,17,17)",
                      "caxis": {
                        "gridcolor": "#506784",
                        "linecolor": "#506784",
                        "ticks": ""
                      }
                    },
                    "title": {
                      "x": 0.05
                    },
                    "updatemenudefaults": {
                      "bgcolor": "#506784",
                      "borderwidth": 0
                    },
                    "xaxis": {
                      "automargin": true,
                      "gridcolor": "#283442",
                      "linecolor": "#506784",
                      "ticks": "",
                      "title": {
                        "standoff": 15
                      },
                      "zerolinecolor": "#283442",
                      "zerolinewidth": 2
                    },
                    "yaxis": {
                      "automargin": true,
                      "gridcolor": "#283442",
                      "linecolor": "#506784",
                      "ticks": "",
                      "title": {
                        "standoff": 15
                      },
                      "zerolinecolor": "#283442",
                      "zerolinewidth": 2
                    }
                  }
                },
                "title": {
                  "text": "Forecast: Philippines Volume of Rice Production (2024-2030 with historical data)    <br><sup>Quarterly projections via Elastic Net Model with CV trained on all 120 samples (lags=7, default parameters)</sup>"
                },
                "xaxis": {
                  "anchor": "y",
                  "domain": [
                    0,
                    1
                  ],
                  "showgrid": true,
                  "showticklabels": true,
                  "title": {
                    "text": ""
                  }
                },
                "yaxis": {
                  "anchor": "x",
                  "domain": [
                    0,
                    1
                  ],
                  "showgrid": true,
                  "title": {
                    "text": "Volume (metric tons)"
                  }
                }
              }
            }
          },
          "metadata": {},
          "output_type": "display_data"
        }
      ],
      "source": [
        "train = df\n",
        "train_y = df[y]\n",
        "print(\n",
        "    f\"Training periods : {train.index.min()} --- \"\n",
        "    f\"{train.index.max()}  (n={len(train)})\"\n",
        ")\n",
        "\n",
        "forecaster = ForecasterAutoreg(\n",
        "                regressor = ElasticNetCV(),\n",
        "                lags      = 7\n",
        "            )\n",
        "\n",
        "forecaster.fit(train_y)\n",
        "predicts = forecaster.predict(steps=28)\n",
        "\n",
        "# Plot predicts versus test data\n",
        "\n",
        "plot_results(train, None, predicts, \"Volume\", solo=True, title=f\"Forecast: Philippines Volume of Rice Production (2024-2030 with historical data)\\\n",
        "    <br><sup>Quarterly projections via Elastic Net Model with CV trained on all {len(train)} samples (lags=7, default parameters)</sup>\",\n",
        "    xtitle=\"Period\", ytitle=\"Volume (metric tons)\", split=\"2023-10-01 00:00:00\")"
      ]
    },
    {
      "cell_type": "markdown",
      "metadata": {},
      "source": [
        "## Area Harvested Model"
      ]
    },
    {
      "cell_type": "code",
      "execution_count": 2057,
      "metadata": {},
      "outputs": [
        {
          "name": "stdout",
          "output_type": "stream",
          "text": [
            "Training periods : 1994-01-01 00:00:00 --- 2018-10-01 00:00:00  (n=100)\n",
            "Testing periods  : 2019-01-01 00:00:00 --- 2023-10-01 00:00:00  (n=20)\n",
            "MSE:\t2878843924.40\n",
            "RMSE:\t53654.86\n",
            "MAPE:\t0.04\n",
            "R2:\t0.98\n"
          ]
        },
        {
          "data": {
            "application/vnd.plotly.v1+json": {
              "config": {
                "plotlyServerURL": "https://plot.ly"
              },
              "data": [
                {
                  "name": "train\t(n=100)",
                  "type": "scatter",
                  "visible": "legendonly",
                  "x": [
                    "1994-01-01T00:00:00",
                    "1994-04-01T00:00:00",
                    "1994-07-01T00:00:00",
                    "1994-10-01T00:00:00",
                    "1995-01-01T00:00:00",
                    "1995-04-01T00:00:00",
                    "1995-07-01T00:00:00",
                    "1995-10-01T00:00:00",
                    "1996-01-01T00:00:00",
                    "1996-04-01T00:00:00",
                    "1996-07-01T00:00:00",
                    "1996-10-01T00:00:00",
                    "1997-01-01T00:00:00",
                    "1997-04-01T00:00:00",
                    "1997-07-01T00:00:00",
                    "1997-10-01T00:00:00",
                    "1998-01-01T00:00:00",
                    "1998-04-01T00:00:00",
                    "1998-07-01T00:00:00",
                    "1998-10-01T00:00:00",
                    "1999-01-01T00:00:00",
                    "1999-04-01T00:00:00",
                    "1999-07-01T00:00:00",
                    "1999-10-01T00:00:00",
                    "2000-01-01T00:00:00",
                    "2000-04-01T00:00:00",
                    "2000-07-01T00:00:00",
                    "2000-10-01T00:00:00",
                    "2001-01-01T00:00:00",
                    "2001-04-01T00:00:00",
                    "2001-07-01T00:00:00",
                    "2001-10-01T00:00:00",
                    "2002-01-01T00:00:00",
                    "2002-04-01T00:00:00",
                    "2002-07-01T00:00:00",
                    "2002-10-01T00:00:00",
                    "2003-01-01T00:00:00",
                    "2003-04-01T00:00:00",
                    "2003-07-01T00:00:00",
                    "2003-10-01T00:00:00",
                    "2004-01-01T00:00:00",
                    "2004-04-01T00:00:00",
                    "2004-07-01T00:00:00",
                    "2004-10-01T00:00:00",
                    "2005-01-01T00:00:00",
                    "2005-04-01T00:00:00",
                    "2005-07-01T00:00:00",
                    "2005-10-01T00:00:00",
                    "2006-01-01T00:00:00",
                    "2006-04-01T00:00:00",
                    "2006-07-01T00:00:00",
                    "2006-10-01T00:00:00",
                    "2007-01-01T00:00:00",
                    "2007-04-01T00:00:00",
                    "2007-07-01T00:00:00",
                    "2007-10-01T00:00:00",
                    "2008-01-01T00:00:00",
                    "2008-04-01T00:00:00",
                    "2008-07-01T00:00:00",
                    "2008-10-01T00:00:00",
                    "2009-01-01T00:00:00",
                    "2009-04-01T00:00:00",
                    "2009-07-01T00:00:00",
                    "2009-10-01T00:00:00",
                    "2010-01-01T00:00:00",
                    "2010-04-01T00:00:00",
                    "2010-07-01T00:00:00",
                    "2010-10-01T00:00:00",
                    "2011-01-01T00:00:00",
                    "2011-04-01T00:00:00",
                    "2011-07-01T00:00:00",
                    "2011-10-01T00:00:00",
                    "2012-01-01T00:00:00",
                    "2012-04-01T00:00:00",
                    "2012-07-01T00:00:00",
                    "2012-10-01T00:00:00",
                    "2013-01-01T00:00:00",
                    "2013-04-01T00:00:00",
                    "2013-07-01T00:00:00",
                    "2013-10-01T00:00:00",
                    "2014-01-01T00:00:00",
                    "2014-04-01T00:00:00",
                    "2014-07-01T00:00:00",
                    "2014-10-01T00:00:00",
                    "2015-01-01T00:00:00",
                    "2015-04-01T00:00:00",
                    "2015-07-01T00:00:00",
                    "2015-10-01T00:00:00",
                    "2016-01-01T00:00:00",
                    "2016-04-01T00:00:00",
                    "2016-07-01T00:00:00",
                    "2016-10-01T00:00:00",
                    "2017-01-01T00:00:00",
                    "2017-04-01T00:00:00",
                    "2017-07-01T00:00:00",
                    "2017-10-01T00:00:00",
                    "2018-01-01T00:00:00",
                    "2018-04-01T00:00:00",
                    "2018-07-01T00:00:00",
                    "2018-10-01T00:00:00"
                  ],
                  "y": [
                    851510,
                    631820,
                    674000,
                    1494200,
                    856561,
                    644847,
                    636695,
                    1620588,
                    913607,
                    752876,
                    768295,
                    1516358,
                    919289,
                    704952,
                    625002,
                    1593027,
                    834414,
                    448783,
                    446723,
                    1440122,
                    1016030,
                    726996,
                    808719,
                    1448094,
                    971294,
                    766329,
                    797624,
                    1502838,
                    932225,
                    796871,
                    779519,
                    1556826,
                    984299,
                    768901,
                    651144,
                    1641974,
                    959219,
                    680118,
                    741529,
                    1625555,
                    1017949,
                    708889,
                    829414,
                    1570393,
                    984629,
                    692509,
                    790534,
                    1602749,
                    1023645,
                    746072,
                    842624,
                    1547589,
                    1042340,
                    761640,
                    823440,
                    1645469,
                    1040003,
                    837476,
                    954123,
                    1628375,
                    1098893,
                    847047,
                    975880,
                    1610490,
                    1023685,
                    795058,
                    705906,
                    1829512,
                    1097840,
                    895482,
                    871344,
                    1671976,
                    1080406,
                    955545.18,
                    946986.83,
                    1707123.16,
                    1113076,
                    930672.58,
                    869672.77,
                    1832670,
                    1158760,
                    938989.68,
                    773832.65,
                    1868089.83,
                    1149026,
                    913540.96,
                    652718.23,
                    1940941.95,
                    1081096,
                    848030.45,
                    745135.7,
                    1881780.64,
                    1148348,
                    947193.52,
                    852629.25,
                    1863637,
                    1194860,
                    932791.8,
                    824865.15,
                    1847889.14
                  ]
                },
                {
                  "name": "test\t\t(n=20)",
                  "type": "scatter",
                  "visible": true,
                  "x": [
                    "2019-01-01T00:00:00",
                    "2019-04-01T00:00:00",
                    "2019-07-01T00:00:00",
                    "2019-10-01T00:00:00",
                    "2020-01-01T00:00:00",
                    "2020-04-01T00:00:00",
                    "2020-07-01T00:00:00",
                    "2020-10-01T00:00:00",
                    "2021-01-01T00:00:00",
                    "2021-04-01T00:00:00",
                    "2021-07-01T00:00:00",
                    "2021-10-01T00:00:00",
                    "2022-01-01T00:00:00",
                    "2022-04-01T00:00:00",
                    "2022-07-01T00:00:00",
                    "2022-10-01T00:00:00",
                    "2023-01-01T00:00:00",
                    "2023-04-01T00:00:00",
                    "2023-07-01T00:00:00",
                    "2023-10-01T00:00:00"
                  ],
                  "y": [
                    1153190.66,
                    915317.38,
                    742874.01,
                    1840107.62,
                    1098440.83,
                    955838.66,
                    851885.07,
                    1812731.53,
                    1148232.1,
                    948426.85,
                    912661.14,
                    1795757.37,
                    1140245.39,
                    953376.36,
                    931750.29,
                    1779218.55,
                    1176182.29,
                    960864.48,
                    926923.12,
                    1751842.87
                  ]
                },
                {
                  "line": {
                    "color": "rgba(0,204,150,0.8)"
                  },
                  "name": "predicts",
                  "type": "scatter",
                  "visible": true,
                  "x": [
                    "2019-01-01T00:00:00",
                    "2019-04-01T00:00:00",
                    "2019-07-01T00:00:00",
                    "2019-10-01T00:00:00",
                    "2020-01-01T00:00:00",
                    "2020-04-01T00:00:00",
                    "2020-07-01T00:00:00",
                    "2020-10-01T00:00:00",
                    "2021-01-01T00:00:00",
                    "2021-04-01T00:00:00",
                    "2021-07-01T00:00:00",
                    "2021-10-01T00:00:00",
                    "2022-01-01T00:00:00",
                    "2022-04-01T00:00:00",
                    "2022-07-01T00:00:00",
                    "2022-10-01T00:00:00",
                    "2023-01-01T00:00:00",
                    "2023-04-01T00:00:00",
                    "2023-07-01T00:00:00",
                    "2023-10-01T00:00:00"
                  ],
                  "y": [
                    1189101.747703339,
                    926758.8336219529,
                    826299.9484820226,
                    1812208.4004156822,
                    1185438.8944741355,
                    921867.7253974727,
                    829171.5274995152,
                    1779338.3932740102,
                    1183066.4755700158,
                    918717.3477689945,
                    833176.7335664437,
                    1748958.7174886926,
                    1181708.335296549,
                    917005.6801899117,
                    838059.8102056863,
                    1720764.7868523658,
                    1181137.6210064907,
                    916479.835065012,
                    843611.4246572723,
                    1694499.1402949165
                  ]
                }
              ],
              "layout": {
                "annotations": [
                  {
                    "align": "right",
                    "font": {
                      "color": "gray",
                      "size": 10
                    },
                    "showarrow": false,
                    "text": "Data from PSA OpenStat (retrieved April 2024). Samples are nationwide averages.<br>Modeled with scikit-learn and skforecast. This plot is interactive.",
                    "x": 1,
                    "xanchor": "right",
                    "xref": "paper",
                    "y": -0.2,
                    "yanchor": "bottom",
                    "yref": "paper"
                  }
                ],
                "legend": {
                  "bgcolor": "rgba(111, 111, 111, 0.2)",
                  "x": 0.01,
                  "xanchor": "left",
                  "y": 0.98,
                  "yanchor": "top"
                },
                "paper_bgcolor": "rgba(0,0,0,0)",
                "plot_bgcolor": "rgba(0,0,0,0)",
                "shapes": [
                  {
                    "line": {
                      "color": "green",
                      "dash": "dash",
                      "width": 1
                    },
                    "type": "line",
                    "x0": "2018-10-01 00:00:00",
                    "x1": "2018-10-01 00:00:00",
                    "xref": "x",
                    "y0": 0,
                    "y1": 1,
                    "yref": "y domain"
                  }
                ],
                "template": {
                  "data": {
                    "bar": [
                      {
                        "error_x": {
                          "color": "#f2f5fa"
                        },
                        "error_y": {
                          "color": "#f2f5fa"
                        },
                        "marker": {
                          "line": {
                            "color": "rgb(17,17,17)",
                            "width": 0.5
                          },
                          "pattern": {
                            "fillmode": "overlay",
                            "size": 10,
                            "solidity": 0.2
                          }
                        },
                        "type": "bar"
                      }
                    ],
                    "barpolar": [
                      {
                        "marker": {
                          "line": {
                            "color": "rgb(17,17,17)",
                            "width": 0.5
                          },
                          "pattern": {
                            "fillmode": "overlay",
                            "size": 10,
                            "solidity": 0.2
                          }
                        },
                        "type": "barpolar"
                      }
                    ],
                    "carpet": [
                      {
                        "aaxis": {
                          "endlinecolor": "#A2B1C6",
                          "gridcolor": "#506784",
                          "linecolor": "#506784",
                          "minorgridcolor": "#506784",
                          "startlinecolor": "#A2B1C6"
                        },
                        "baxis": {
                          "endlinecolor": "#A2B1C6",
                          "gridcolor": "#506784",
                          "linecolor": "#506784",
                          "minorgridcolor": "#506784",
                          "startlinecolor": "#A2B1C6"
                        },
                        "type": "carpet"
                      }
                    ],
                    "choropleth": [
                      {
                        "colorbar": {
                          "outlinewidth": 0,
                          "ticks": ""
                        },
                        "type": "choropleth"
                      }
                    ],
                    "contour": [
                      {
                        "colorbar": {
                          "outlinewidth": 0,
                          "ticks": ""
                        },
                        "colorscale": [
                          [
                            0,
                            "#0d0887"
                          ],
                          [
                            0.1111111111111111,
                            "#46039f"
                          ],
                          [
                            0.2222222222222222,
                            "#7201a8"
                          ],
                          [
                            0.3333333333333333,
                            "#9c179e"
                          ],
                          [
                            0.4444444444444444,
                            "#bd3786"
                          ],
                          [
                            0.5555555555555556,
                            "#d8576b"
                          ],
                          [
                            0.6666666666666666,
                            "#ed7953"
                          ],
                          [
                            0.7777777777777778,
                            "#fb9f3a"
                          ],
                          [
                            0.8888888888888888,
                            "#fdca26"
                          ],
                          [
                            1,
                            "#f0f921"
                          ]
                        ],
                        "type": "contour"
                      }
                    ],
                    "contourcarpet": [
                      {
                        "colorbar": {
                          "outlinewidth": 0,
                          "ticks": ""
                        },
                        "type": "contourcarpet"
                      }
                    ],
                    "heatmap": [
                      {
                        "colorbar": {
                          "outlinewidth": 0,
                          "ticks": ""
                        },
                        "colorscale": [
                          [
                            0,
                            "#0d0887"
                          ],
                          [
                            0.1111111111111111,
                            "#46039f"
                          ],
                          [
                            0.2222222222222222,
                            "#7201a8"
                          ],
                          [
                            0.3333333333333333,
                            "#9c179e"
                          ],
                          [
                            0.4444444444444444,
                            "#bd3786"
                          ],
                          [
                            0.5555555555555556,
                            "#d8576b"
                          ],
                          [
                            0.6666666666666666,
                            "#ed7953"
                          ],
                          [
                            0.7777777777777778,
                            "#fb9f3a"
                          ],
                          [
                            0.8888888888888888,
                            "#fdca26"
                          ],
                          [
                            1,
                            "#f0f921"
                          ]
                        ],
                        "type": "heatmap"
                      }
                    ],
                    "heatmapgl": [
                      {
                        "colorbar": {
                          "outlinewidth": 0,
                          "ticks": ""
                        },
                        "colorscale": [
                          [
                            0,
                            "#0d0887"
                          ],
                          [
                            0.1111111111111111,
                            "#46039f"
                          ],
                          [
                            0.2222222222222222,
                            "#7201a8"
                          ],
                          [
                            0.3333333333333333,
                            "#9c179e"
                          ],
                          [
                            0.4444444444444444,
                            "#bd3786"
                          ],
                          [
                            0.5555555555555556,
                            "#d8576b"
                          ],
                          [
                            0.6666666666666666,
                            "#ed7953"
                          ],
                          [
                            0.7777777777777778,
                            "#fb9f3a"
                          ],
                          [
                            0.8888888888888888,
                            "#fdca26"
                          ],
                          [
                            1,
                            "#f0f921"
                          ]
                        ],
                        "type": "heatmapgl"
                      }
                    ],
                    "histogram": [
                      {
                        "marker": {
                          "pattern": {
                            "fillmode": "overlay",
                            "size": 10,
                            "solidity": 0.2
                          }
                        },
                        "type": "histogram"
                      }
                    ],
                    "histogram2d": [
                      {
                        "colorbar": {
                          "outlinewidth": 0,
                          "ticks": ""
                        },
                        "colorscale": [
                          [
                            0,
                            "#0d0887"
                          ],
                          [
                            0.1111111111111111,
                            "#46039f"
                          ],
                          [
                            0.2222222222222222,
                            "#7201a8"
                          ],
                          [
                            0.3333333333333333,
                            "#9c179e"
                          ],
                          [
                            0.4444444444444444,
                            "#bd3786"
                          ],
                          [
                            0.5555555555555556,
                            "#d8576b"
                          ],
                          [
                            0.6666666666666666,
                            "#ed7953"
                          ],
                          [
                            0.7777777777777778,
                            "#fb9f3a"
                          ],
                          [
                            0.8888888888888888,
                            "#fdca26"
                          ],
                          [
                            1,
                            "#f0f921"
                          ]
                        ],
                        "type": "histogram2d"
                      }
                    ],
                    "histogram2dcontour": [
                      {
                        "colorbar": {
                          "outlinewidth": 0,
                          "ticks": ""
                        },
                        "colorscale": [
                          [
                            0,
                            "#0d0887"
                          ],
                          [
                            0.1111111111111111,
                            "#46039f"
                          ],
                          [
                            0.2222222222222222,
                            "#7201a8"
                          ],
                          [
                            0.3333333333333333,
                            "#9c179e"
                          ],
                          [
                            0.4444444444444444,
                            "#bd3786"
                          ],
                          [
                            0.5555555555555556,
                            "#d8576b"
                          ],
                          [
                            0.6666666666666666,
                            "#ed7953"
                          ],
                          [
                            0.7777777777777778,
                            "#fb9f3a"
                          ],
                          [
                            0.8888888888888888,
                            "#fdca26"
                          ],
                          [
                            1,
                            "#f0f921"
                          ]
                        ],
                        "type": "histogram2dcontour"
                      }
                    ],
                    "mesh3d": [
                      {
                        "colorbar": {
                          "outlinewidth": 0,
                          "ticks": ""
                        },
                        "type": "mesh3d"
                      }
                    ],
                    "parcoords": [
                      {
                        "line": {
                          "colorbar": {
                            "outlinewidth": 0,
                            "ticks": ""
                          }
                        },
                        "type": "parcoords"
                      }
                    ],
                    "pie": [
                      {
                        "automargin": true,
                        "type": "pie"
                      }
                    ],
                    "scatter": [
                      {
                        "marker": {
                          "line": {
                            "color": "#283442"
                          }
                        },
                        "type": "scatter"
                      }
                    ],
                    "scatter3d": [
                      {
                        "line": {
                          "colorbar": {
                            "outlinewidth": 0,
                            "ticks": ""
                          }
                        },
                        "marker": {
                          "colorbar": {
                            "outlinewidth": 0,
                            "ticks": ""
                          }
                        },
                        "type": "scatter3d"
                      }
                    ],
                    "scattercarpet": [
                      {
                        "marker": {
                          "colorbar": {
                            "outlinewidth": 0,
                            "ticks": ""
                          }
                        },
                        "type": "scattercarpet"
                      }
                    ],
                    "scattergeo": [
                      {
                        "marker": {
                          "colorbar": {
                            "outlinewidth": 0,
                            "ticks": ""
                          }
                        },
                        "type": "scattergeo"
                      }
                    ],
                    "scattergl": [
                      {
                        "marker": {
                          "line": {
                            "color": "#283442"
                          }
                        },
                        "type": "scattergl"
                      }
                    ],
                    "scattermapbox": [
                      {
                        "marker": {
                          "colorbar": {
                            "outlinewidth": 0,
                            "ticks": ""
                          }
                        },
                        "type": "scattermapbox"
                      }
                    ],
                    "scatterpolar": [
                      {
                        "marker": {
                          "colorbar": {
                            "outlinewidth": 0,
                            "ticks": ""
                          }
                        },
                        "type": "scatterpolar"
                      }
                    ],
                    "scatterpolargl": [
                      {
                        "marker": {
                          "colorbar": {
                            "outlinewidth": 0,
                            "ticks": ""
                          }
                        },
                        "type": "scatterpolargl"
                      }
                    ],
                    "scatterternary": [
                      {
                        "marker": {
                          "colorbar": {
                            "outlinewidth": 0,
                            "ticks": ""
                          }
                        },
                        "type": "scatterternary"
                      }
                    ],
                    "surface": [
                      {
                        "colorbar": {
                          "outlinewidth": 0,
                          "ticks": ""
                        },
                        "colorscale": [
                          [
                            0,
                            "#0d0887"
                          ],
                          [
                            0.1111111111111111,
                            "#46039f"
                          ],
                          [
                            0.2222222222222222,
                            "#7201a8"
                          ],
                          [
                            0.3333333333333333,
                            "#9c179e"
                          ],
                          [
                            0.4444444444444444,
                            "#bd3786"
                          ],
                          [
                            0.5555555555555556,
                            "#d8576b"
                          ],
                          [
                            0.6666666666666666,
                            "#ed7953"
                          ],
                          [
                            0.7777777777777778,
                            "#fb9f3a"
                          ],
                          [
                            0.8888888888888888,
                            "#fdca26"
                          ],
                          [
                            1,
                            "#f0f921"
                          ]
                        ],
                        "type": "surface"
                      }
                    ],
                    "table": [
                      {
                        "cells": {
                          "fill": {
                            "color": "#506784"
                          },
                          "line": {
                            "color": "rgb(17,17,17)"
                          }
                        },
                        "header": {
                          "fill": {
                            "color": "#2a3f5f"
                          },
                          "line": {
                            "color": "rgb(17,17,17)"
                          }
                        },
                        "type": "table"
                      }
                    ]
                  },
                  "layout": {
                    "annotationdefaults": {
                      "arrowcolor": "#f2f5fa",
                      "arrowhead": 0,
                      "arrowwidth": 1
                    },
                    "autotypenumbers": "strict",
                    "coloraxis": {
                      "colorbar": {
                        "outlinewidth": 0,
                        "ticks": ""
                      }
                    },
                    "colorscale": {
                      "diverging": [
                        [
                          0,
                          "#8e0152"
                        ],
                        [
                          0.1,
                          "#c51b7d"
                        ],
                        [
                          0.2,
                          "#de77ae"
                        ],
                        [
                          0.3,
                          "#f1b6da"
                        ],
                        [
                          0.4,
                          "#fde0ef"
                        ],
                        [
                          0.5,
                          "#f7f7f7"
                        ],
                        [
                          0.6,
                          "#e6f5d0"
                        ],
                        [
                          0.7,
                          "#b8e186"
                        ],
                        [
                          0.8,
                          "#7fbc41"
                        ],
                        [
                          0.9,
                          "#4d9221"
                        ],
                        [
                          1,
                          "#276419"
                        ]
                      ],
                      "sequential": [
                        [
                          0,
                          "#0d0887"
                        ],
                        [
                          0.1111111111111111,
                          "#46039f"
                        ],
                        [
                          0.2222222222222222,
                          "#7201a8"
                        ],
                        [
                          0.3333333333333333,
                          "#9c179e"
                        ],
                        [
                          0.4444444444444444,
                          "#bd3786"
                        ],
                        [
                          0.5555555555555556,
                          "#d8576b"
                        ],
                        [
                          0.6666666666666666,
                          "#ed7953"
                        ],
                        [
                          0.7777777777777778,
                          "#fb9f3a"
                        ],
                        [
                          0.8888888888888888,
                          "#fdca26"
                        ],
                        [
                          1,
                          "#f0f921"
                        ]
                      ],
                      "sequentialminus": [
                        [
                          0,
                          "#0d0887"
                        ],
                        [
                          0.1111111111111111,
                          "#46039f"
                        ],
                        [
                          0.2222222222222222,
                          "#7201a8"
                        ],
                        [
                          0.3333333333333333,
                          "#9c179e"
                        ],
                        [
                          0.4444444444444444,
                          "#bd3786"
                        ],
                        [
                          0.5555555555555556,
                          "#d8576b"
                        ],
                        [
                          0.6666666666666666,
                          "#ed7953"
                        ],
                        [
                          0.7777777777777778,
                          "#fb9f3a"
                        ],
                        [
                          0.8888888888888888,
                          "#fdca26"
                        ],
                        [
                          1,
                          "#f0f921"
                        ]
                      ]
                    },
                    "colorway": [
                      "#636efa",
                      "#EF553B",
                      "#00cc96",
                      "#ab63fa",
                      "#FFA15A",
                      "#19d3f3",
                      "#FF6692",
                      "#B6E880",
                      "#FF97FF",
                      "#FECB52"
                    ],
                    "font": {
                      "color": "#f2f5fa"
                    },
                    "geo": {
                      "bgcolor": "rgb(17,17,17)",
                      "lakecolor": "rgb(17,17,17)",
                      "landcolor": "rgb(17,17,17)",
                      "showlakes": true,
                      "showland": true,
                      "subunitcolor": "#506784"
                    },
                    "hoverlabel": {
                      "align": "left"
                    },
                    "hovermode": "closest",
                    "mapbox": {
                      "style": "dark"
                    },
                    "paper_bgcolor": "rgb(17,17,17)",
                    "plot_bgcolor": "rgb(17,17,17)",
                    "polar": {
                      "angularaxis": {
                        "gridcolor": "#506784",
                        "linecolor": "#506784",
                        "ticks": ""
                      },
                      "bgcolor": "rgb(17,17,17)",
                      "radialaxis": {
                        "gridcolor": "#506784",
                        "linecolor": "#506784",
                        "ticks": ""
                      }
                    },
                    "scene": {
                      "xaxis": {
                        "backgroundcolor": "rgb(17,17,17)",
                        "gridcolor": "#506784",
                        "gridwidth": 2,
                        "linecolor": "#506784",
                        "showbackground": true,
                        "ticks": "",
                        "zerolinecolor": "#C8D4E3"
                      },
                      "yaxis": {
                        "backgroundcolor": "rgb(17,17,17)",
                        "gridcolor": "#506784",
                        "gridwidth": 2,
                        "linecolor": "#506784",
                        "showbackground": true,
                        "ticks": "",
                        "zerolinecolor": "#C8D4E3"
                      },
                      "zaxis": {
                        "backgroundcolor": "rgb(17,17,17)",
                        "gridcolor": "#506784",
                        "gridwidth": 2,
                        "linecolor": "#506784",
                        "showbackground": true,
                        "ticks": "",
                        "zerolinecolor": "#C8D4E3"
                      }
                    },
                    "shapedefaults": {
                      "line": {
                        "color": "#f2f5fa"
                      }
                    },
                    "sliderdefaults": {
                      "bgcolor": "#C8D4E3",
                      "bordercolor": "rgb(17,17,17)",
                      "borderwidth": 1,
                      "tickwidth": 0
                    },
                    "ternary": {
                      "aaxis": {
                        "gridcolor": "#506784",
                        "linecolor": "#506784",
                        "ticks": ""
                      },
                      "baxis": {
                        "gridcolor": "#506784",
                        "linecolor": "#506784",
                        "ticks": ""
                      },
                      "bgcolor": "rgb(17,17,17)",
                      "caxis": {
                        "gridcolor": "#506784",
                        "linecolor": "#506784",
                        "ticks": ""
                      }
                    },
                    "title": {
                      "x": 0.05
                    },
                    "updatemenudefaults": {
                      "bgcolor": "#506784",
                      "borderwidth": 0
                    },
                    "xaxis": {
                      "automargin": true,
                      "gridcolor": "#283442",
                      "linecolor": "#506784",
                      "ticks": "",
                      "title": {
                        "standoff": 15
                      },
                      "zerolinecolor": "#283442",
                      "zerolinewidth": 2
                    },
                    "yaxis": {
                      "automargin": true,
                      "gridcolor": "#283442",
                      "linecolor": "#506784",
                      "ticks": "",
                      "title": {
                        "standoff": 15
                      },
                      "zerolinecolor": "#283442",
                      "zerolinewidth": 2
                    }
                  }
                },
                "title": {
                  "text": "Model Validation: Philippines Area Harvested for Rice (1994-2023)    <br><sup>Quarterly projections via Elastic Net Model with CV (ntrain=100, ntest=20) (MAPE=0.04, R2=0.98)</sup>"
                },
                "xaxis": {
                  "anchor": "y",
                  "domain": [
                    0,
                    1
                  ],
                  "showgrid": true,
                  "showticklabels": true,
                  "title": {
                    "text": ""
                  }
                },
                "yaxis": {
                  "anchor": "x",
                  "domain": [
                    0,
                    1
                  ],
                  "showgrid": true,
                  "title": {
                    "text": "Area Harvested (hectares)"
                  }
                }
              }
            }
          },
          "metadata": {},
          "output_type": "display_data"
        }
      ],
      "source": [
        "import numpy as np\n",
        "from sklearn.linear_model import BayesianRidge, ElasticNetCV, LarsCV, LassoCV, LassoLarsCV, OrthogonalMatchingPursuitCV, RidgeCV\n",
        "from sklearn.ensemble import GradientBoostingRegressor, BaggingRegressor, HistGradientBoostingRegressor, ExtraTreesRegressor\n",
        "\n",
        "# res = df.iloc[:, np.r_[2, 5:10]] # np.r to combine slices\n",
        "\n",
        "# Set parameters\n",
        "# Column numbers: 2: Farmgate Price, 3: Wholesale Price, 4: Retail Price, 5: CPI All Income, 6: NCR RPI\n",
        "y = 'Area Harvested'\n",
        "X = np.r_[4]\n",
        "\n",
        "# Split data into train-test\n",
        "steps = 20\n",
        "train = df[:-steps]\n",
        "test  = df[-steps:]\n",
        "\n",
        "train_y = train[y]\n",
        "train_X = train.iloc[:, X]\n",
        "test_y = test[y]\n",
        "test_X = test.iloc[:, X]\n",
        "\n",
        "print(\n",
        "    f\"Training periods : {train.index.min()} --- \"\n",
        "    f\"{train.index.max()}  (n={len(train)})\"\n",
        ")\n",
        "print(\n",
        "    f\"Testing periods  : {test.index.min()} --- \"\n",
        "    f\"{test.index.max()}  (n={len(test)})\"\n",
        ")\n",
        "\n",
        "# Find best hyperparameter values for forecaster\n",
        "# regressors = [BayesianRidge(), ElasticNetCV(), RidgeCV(), LarsCV(), LassoCV(), LassoLarsCV(),\n",
        "#               OrthogonalMatchingPursuitCV(), GradientBoostingRegressor(), BaggingRegressor(),\n",
        "#               HistGradientBoostingRegressor(), ExtraTreesRegressor()]\n",
        "\n",
        "forecaster = ForecasterAutoreg(\n",
        "                regressor = ElasticNetCV(),\n",
        "                lags      = 7\n",
        "            )\n",
        "\n",
        "# Candidate values for lags\n",
        "lags_grid = list(range(6,30,1))\n",
        "\n",
        "# Candidate values for regressor's hyperparameters\n",
        "param_grid = {\n",
        "    # 'cv': [5],\n",
        "    # 'learning_rate': [0.0001, 0.001, 0.01, 0.1],\n",
        "    # 'alpha': [0.5, 0.7, 0.9],\n",
        "    # 'n_estimators': list(range(100, 500, 50)),\n",
        "    # 'max_depth': list(range(3,10,1))\n",
        "}\n",
        "\n",
        "if False: \n",
        "    results_grid = grid_search_forecaster(\n",
        "                    forecaster         = forecaster,\n",
        "                    y                  = train_y,\n",
        "                    param_grid         = param_grid,\n",
        "                    lags_grid          = lags_grid,\n",
        "                    steps              = steps,\n",
        "                    refit              = False,\n",
        "                    metric             = 'mean_absolute_percentage_error',\n",
        "                    initial_train_size = int(len(train)*0.5),\n",
        "                    fixed_train_size   = False,\n",
        "                    return_best        = True,\n",
        "                    n_jobs             = 'auto',\n",
        "                    verbose            = False\n",
        "                )\n",
        "\n",
        "# Use those best values for forecaster (automatically plugged in by grid_search_forecaster)\n",
        "forecaster.fit(y=train_y)\n",
        "forecaster\n",
        "\n",
        "# Predictions\n",
        "# NOTE: So if you want to have a more accurate projection, you may optionally measure these first,\n",
        "# and much better if they are already available\n",
        "predicts = forecaster.predict(steps=steps)\n",
        "# predicts = forecaster.predict(steps=steps+27) #+28 to reach 2030\n",
        "# predicts.index = pd.date_range(start=str(data_test.index.min()), end='2030Q4', freq='Q')\n",
        "# display(predicts)\n",
        "\n",
        "# Test MSE, RSME, R2\n",
        "mse = metrics.mean_squared_error(y_true=test_y, y_pred=predicts)\n",
        "rmse = metrics.root_mean_squared_error(y_true=test_y, y_pred=predicts)\n",
        "mape = metrics.mean_absolute_percentage_error(y_true=test_y, y_pred=predicts)\n",
        "r2 = metrics.r2_score(y_true=test_y, y_pred=predicts)\n",
        "\n",
        "print(\"MSE:\\t%0.2f\" % mse)\n",
        "print(\"RMSE:\\t%0.2f\" % rmse)\n",
        "print(\"MAPE:\\t%0.2f\" % mape)\n",
        "print(\"R2:\\t%0.2f\" % r2)\n",
        "\n",
        "# Plot predicts versus test data\n",
        "plot_results(train, test, predicts, var=\"Area Harvested\", title=f\"Model Validation: Philippines Area Harvested for Rice (1994-2023)\\\n",
        "    <br><sup>Quarterly projections via Elastic Net Model with CV (ntrain={len(train)}, ntest={len(test)}) (MAPE={round(mape,2)}, R2={round(r2,2)})</sup>\",\n",
        "    xtitle=\"Period\", ytitle=\"Area Harvested (hectares)\", split=\"2018-10-01 00:00:00\")"
      ]
    },
    {
      "cell_type": "code",
      "execution_count": 2058,
      "metadata": {},
      "outputs": [
        {
          "name": "stdout",
          "output_type": "stream",
          "text": [
            "Training periods : 1994-01-01 00:00:00 --- 2023-10-01 00:00:00  (n=120)\n"
          ]
        },
        {
          "data": {
            "application/vnd.plotly.v1+json": {
              "config": {
                "plotlyServerURL": "https://plot.ly"
              },
              "data": [
                {
                  "name": "train\t(n=120)",
                  "type": "scatter",
                  "x": [
                    "1994-01-01T00:00:00",
                    "1994-04-01T00:00:00",
                    "1994-07-01T00:00:00",
                    "1994-10-01T00:00:00",
                    "1995-01-01T00:00:00",
                    "1995-04-01T00:00:00",
                    "1995-07-01T00:00:00",
                    "1995-10-01T00:00:00",
                    "1996-01-01T00:00:00",
                    "1996-04-01T00:00:00",
                    "1996-07-01T00:00:00",
                    "1996-10-01T00:00:00",
                    "1997-01-01T00:00:00",
                    "1997-04-01T00:00:00",
                    "1997-07-01T00:00:00",
                    "1997-10-01T00:00:00",
                    "1998-01-01T00:00:00",
                    "1998-04-01T00:00:00",
                    "1998-07-01T00:00:00",
                    "1998-10-01T00:00:00",
                    "1999-01-01T00:00:00",
                    "1999-04-01T00:00:00",
                    "1999-07-01T00:00:00",
                    "1999-10-01T00:00:00",
                    "2000-01-01T00:00:00",
                    "2000-04-01T00:00:00",
                    "2000-07-01T00:00:00",
                    "2000-10-01T00:00:00",
                    "2001-01-01T00:00:00",
                    "2001-04-01T00:00:00",
                    "2001-07-01T00:00:00",
                    "2001-10-01T00:00:00",
                    "2002-01-01T00:00:00",
                    "2002-04-01T00:00:00",
                    "2002-07-01T00:00:00",
                    "2002-10-01T00:00:00",
                    "2003-01-01T00:00:00",
                    "2003-04-01T00:00:00",
                    "2003-07-01T00:00:00",
                    "2003-10-01T00:00:00",
                    "2004-01-01T00:00:00",
                    "2004-04-01T00:00:00",
                    "2004-07-01T00:00:00",
                    "2004-10-01T00:00:00",
                    "2005-01-01T00:00:00",
                    "2005-04-01T00:00:00",
                    "2005-07-01T00:00:00",
                    "2005-10-01T00:00:00",
                    "2006-01-01T00:00:00",
                    "2006-04-01T00:00:00",
                    "2006-07-01T00:00:00",
                    "2006-10-01T00:00:00",
                    "2007-01-01T00:00:00",
                    "2007-04-01T00:00:00",
                    "2007-07-01T00:00:00",
                    "2007-10-01T00:00:00",
                    "2008-01-01T00:00:00",
                    "2008-04-01T00:00:00",
                    "2008-07-01T00:00:00",
                    "2008-10-01T00:00:00",
                    "2009-01-01T00:00:00",
                    "2009-04-01T00:00:00",
                    "2009-07-01T00:00:00",
                    "2009-10-01T00:00:00",
                    "2010-01-01T00:00:00",
                    "2010-04-01T00:00:00",
                    "2010-07-01T00:00:00",
                    "2010-10-01T00:00:00",
                    "2011-01-01T00:00:00",
                    "2011-04-01T00:00:00",
                    "2011-07-01T00:00:00",
                    "2011-10-01T00:00:00",
                    "2012-01-01T00:00:00",
                    "2012-04-01T00:00:00",
                    "2012-07-01T00:00:00",
                    "2012-10-01T00:00:00",
                    "2013-01-01T00:00:00",
                    "2013-04-01T00:00:00",
                    "2013-07-01T00:00:00",
                    "2013-10-01T00:00:00",
                    "2014-01-01T00:00:00",
                    "2014-04-01T00:00:00",
                    "2014-07-01T00:00:00",
                    "2014-10-01T00:00:00",
                    "2015-01-01T00:00:00",
                    "2015-04-01T00:00:00",
                    "2015-07-01T00:00:00",
                    "2015-10-01T00:00:00",
                    "2016-01-01T00:00:00",
                    "2016-04-01T00:00:00",
                    "2016-07-01T00:00:00",
                    "2016-10-01T00:00:00",
                    "2017-01-01T00:00:00",
                    "2017-04-01T00:00:00",
                    "2017-07-01T00:00:00",
                    "2017-10-01T00:00:00",
                    "2018-01-01T00:00:00",
                    "2018-04-01T00:00:00",
                    "2018-07-01T00:00:00",
                    "2018-10-01T00:00:00",
                    "2019-01-01T00:00:00",
                    "2019-04-01T00:00:00",
                    "2019-07-01T00:00:00",
                    "2019-10-01T00:00:00",
                    "2020-01-01T00:00:00",
                    "2020-04-01T00:00:00",
                    "2020-07-01T00:00:00",
                    "2020-10-01T00:00:00",
                    "2021-01-01T00:00:00",
                    "2021-04-01T00:00:00",
                    "2021-07-01T00:00:00",
                    "2021-10-01T00:00:00",
                    "2022-01-01T00:00:00",
                    "2022-04-01T00:00:00",
                    "2022-07-01T00:00:00",
                    "2022-10-01T00:00:00",
                    "2023-01-01T00:00:00",
                    "2023-04-01T00:00:00",
                    "2023-07-01T00:00:00",
                    "2023-10-01T00:00:00"
                  ],
                  "y": [
                    851510,
                    631820,
                    674000,
                    1494200,
                    856561,
                    644847,
                    636695,
                    1620588,
                    913607,
                    752876,
                    768295,
                    1516358,
                    919289,
                    704952,
                    625002,
                    1593027,
                    834414,
                    448783,
                    446723,
                    1440122,
                    1016030,
                    726996,
                    808719,
                    1448094,
                    971294,
                    766329,
                    797624,
                    1502838,
                    932225,
                    796871,
                    779519,
                    1556826,
                    984299,
                    768901,
                    651144,
                    1641974,
                    959219,
                    680118,
                    741529,
                    1625555,
                    1017949,
                    708889,
                    829414,
                    1570393,
                    984629,
                    692509,
                    790534,
                    1602749,
                    1023645,
                    746072,
                    842624,
                    1547589,
                    1042340,
                    761640,
                    823440,
                    1645469,
                    1040003,
                    837476,
                    954123,
                    1628375,
                    1098893,
                    847047,
                    975880,
                    1610490,
                    1023685,
                    795058,
                    705906,
                    1829512,
                    1097840,
                    895482,
                    871344,
                    1671976,
                    1080406,
                    955545.18,
                    946986.83,
                    1707123.16,
                    1113076,
                    930672.58,
                    869672.77,
                    1832670,
                    1158760,
                    938989.68,
                    773832.65,
                    1868089.83,
                    1149026,
                    913540.96,
                    652718.23,
                    1940941.95,
                    1081096,
                    848030.45,
                    745135.7,
                    1881780.64,
                    1148348,
                    947193.52,
                    852629.25,
                    1863637,
                    1194860,
                    932791.8,
                    824865.15,
                    1847889.14,
                    1153190.66,
                    915317.38,
                    742874.01,
                    1840107.62,
                    1098440.83,
                    955838.66,
                    851885.07,
                    1812731.53,
                    1148232.1,
                    948426.85,
                    912661.14,
                    1795757.37,
                    1140245.39,
                    953376.36,
                    931750.29,
                    1779218.55,
                    1176182.29,
                    960864.48,
                    926923.12,
                    1751842.87
                  ]
                },
                {
                  "line": {
                    "color": "rgba(0,204,150,1)"
                  },
                  "name": "predicts\t(n=28)",
                  "type": "scatter",
                  "x": [
                    "2024-01-01T00:00:00",
                    "2024-04-01T00:00:00",
                    "2024-07-01T00:00:00",
                    "2024-10-01T00:00:00",
                    "2025-01-01T00:00:00",
                    "2025-04-01T00:00:00",
                    "2025-07-01T00:00:00",
                    "2025-10-01T00:00:00",
                    "2026-01-01T00:00:00",
                    "2026-04-01T00:00:00",
                    "2026-07-01T00:00:00",
                    "2026-10-01T00:00:00",
                    "2027-01-01T00:00:00",
                    "2027-04-01T00:00:00",
                    "2027-07-01T00:00:00",
                    "2027-10-01T00:00:00",
                    "2028-01-01T00:00:00",
                    "2028-04-01T00:00:00",
                    "2028-07-01T00:00:00",
                    "2028-10-01T00:00:00",
                    "2029-01-01T00:00:00",
                    "2029-04-01T00:00:00",
                    "2029-07-01T00:00:00",
                    "2029-10-01T00:00:00",
                    "2030-01-01T00:00:00",
                    "2030-04-01T00:00:00",
                    "2030-07-01T00:00:00",
                    "2030-10-01T00:00:00"
                  ],
                  "y": [
                    1171464.0129888982,
                    957033.4916144301,
                    929316.7916334958,
                    1723395.2468661324,
                    1168020.3462273239,
                    954465.3649460264,
                    932586.1580797008,
                    1697011.575410821,
                    1165507.1662838699,
                    953057.404630718,
                    936540.4923400418,
                    1672462.8975733984,
                    1163748.489997595,
                    952618.3025027631,
                    941022.591543628,
                    1649548.6821187828,
                    1162597.674418357,
                    952986.1858745662,
                    945902.1326643167,
                    1628096.3768732897,
                    1161932.776714536,
                    954024.1954031418,
                    951071.3566271164,
                    1607957.1696838231,
                    1161652.5866969598,
                    955616.607457248,
                    956441.4283806676,
                    1589002.4025596648
                  ]
                }
              ],
              "layout": {
                "annotations": [
                  {
                    "align": "right",
                    "font": {
                      "color": "gray",
                      "size": 10
                    },
                    "showarrow": false,
                    "text": "Data from PSA OpenStat (retrieved April 2024). Samples are nationwide averages.<br>Modeled with scikit-learn and skforecast. This plot is interactive.",
                    "x": 1,
                    "xanchor": "right",
                    "xref": "paper",
                    "y": -0.2,
                    "yanchor": "bottom",
                    "yref": "paper"
                  }
                ],
                "legend": {
                  "bgcolor": "rgba(0, 0, 0, 0)",
                  "x": 0.01,
                  "xanchor": "left",
                  "y": 0.98,
                  "yanchor": "top"
                },
                "paper_bgcolor": "rgba(0,0,0,0)",
                "plot_bgcolor": "rgba(0,0,0,0)",
                "shapes": [
                  {
                    "line": {
                      "color": "green",
                      "dash": "dash",
                      "width": 1
                    },
                    "type": "line",
                    "x0": "2023-10-01 00:00:00",
                    "x1": "2023-10-01 00:00:00",
                    "xref": "x",
                    "y0": 0,
                    "y1": 1,
                    "yref": "y domain"
                  }
                ],
                "template": {
                  "data": {
                    "bar": [
                      {
                        "error_x": {
                          "color": "#f2f5fa"
                        },
                        "error_y": {
                          "color": "#f2f5fa"
                        },
                        "marker": {
                          "line": {
                            "color": "rgb(17,17,17)",
                            "width": 0.5
                          },
                          "pattern": {
                            "fillmode": "overlay",
                            "size": 10,
                            "solidity": 0.2
                          }
                        },
                        "type": "bar"
                      }
                    ],
                    "barpolar": [
                      {
                        "marker": {
                          "line": {
                            "color": "rgb(17,17,17)",
                            "width": 0.5
                          },
                          "pattern": {
                            "fillmode": "overlay",
                            "size": 10,
                            "solidity": 0.2
                          }
                        },
                        "type": "barpolar"
                      }
                    ],
                    "carpet": [
                      {
                        "aaxis": {
                          "endlinecolor": "#A2B1C6",
                          "gridcolor": "#506784",
                          "linecolor": "#506784",
                          "minorgridcolor": "#506784",
                          "startlinecolor": "#A2B1C6"
                        },
                        "baxis": {
                          "endlinecolor": "#A2B1C6",
                          "gridcolor": "#506784",
                          "linecolor": "#506784",
                          "minorgridcolor": "#506784",
                          "startlinecolor": "#A2B1C6"
                        },
                        "type": "carpet"
                      }
                    ],
                    "choropleth": [
                      {
                        "colorbar": {
                          "outlinewidth": 0,
                          "ticks": ""
                        },
                        "type": "choropleth"
                      }
                    ],
                    "contour": [
                      {
                        "colorbar": {
                          "outlinewidth": 0,
                          "ticks": ""
                        },
                        "colorscale": [
                          [
                            0,
                            "#0d0887"
                          ],
                          [
                            0.1111111111111111,
                            "#46039f"
                          ],
                          [
                            0.2222222222222222,
                            "#7201a8"
                          ],
                          [
                            0.3333333333333333,
                            "#9c179e"
                          ],
                          [
                            0.4444444444444444,
                            "#bd3786"
                          ],
                          [
                            0.5555555555555556,
                            "#d8576b"
                          ],
                          [
                            0.6666666666666666,
                            "#ed7953"
                          ],
                          [
                            0.7777777777777778,
                            "#fb9f3a"
                          ],
                          [
                            0.8888888888888888,
                            "#fdca26"
                          ],
                          [
                            1,
                            "#f0f921"
                          ]
                        ],
                        "type": "contour"
                      }
                    ],
                    "contourcarpet": [
                      {
                        "colorbar": {
                          "outlinewidth": 0,
                          "ticks": ""
                        },
                        "type": "contourcarpet"
                      }
                    ],
                    "heatmap": [
                      {
                        "colorbar": {
                          "outlinewidth": 0,
                          "ticks": ""
                        },
                        "colorscale": [
                          [
                            0,
                            "#0d0887"
                          ],
                          [
                            0.1111111111111111,
                            "#46039f"
                          ],
                          [
                            0.2222222222222222,
                            "#7201a8"
                          ],
                          [
                            0.3333333333333333,
                            "#9c179e"
                          ],
                          [
                            0.4444444444444444,
                            "#bd3786"
                          ],
                          [
                            0.5555555555555556,
                            "#d8576b"
                          ],
                          [
                            0.6666666666666666,
                            "#ed7953"
                          ],
                          [
                            0.7777777777777778,
                            "#fb9f3a"
                          ],
                          [
                            0.8888888888888888,
                            "#fdca26"
                          ],
                          [
                            1,
                            "#f0f921"
                          ]
                        ],
                        "type": "heatmap"
                      }
                    ],
                    "heatmapgl": [
                      {
                        "colorbar": {
                          "outlinewidth": 0,
                          "ticks": ""
                        },
                        "colorscale": [
                          [
                            0,
                            "#0d0887"
                          ],
                          [
                            0.1111111111111111,
                            "#46039f"
                          ],
                          [
                            0.2222222222222222,
                            "#7201a8"
                          ],
                          [
                            0.3333333333333333,
                            "#9c179e"
                          ],
                          [
                            0.4444444444444444,
                            "#bd3786"
                          ],
                          [
                            0.5555555555555556,
                            "#d8576b"
                          ],
                          [
                            0.6666666666666666,
                            "#ed7953"
                          ],
                          [
                            0.7777777777777778,
                            "#fb9f3a"
                          ],
                          [
                            0.8888888888888888,
                            "#fdca26"
                          ],
                          [
                            1,
                            "#f0f921"
                          ]
                        ],
                        "type": "heatmapgl"
                      }
                    ],
                    "histogram": [
                      {
                        "marker": {
                          "pattern": {
                            "fillmode": "overlay",
                            "size": 10,
                            "solidity": 0.2
                          }
                        },
                        "type": "histogram"
                      }
                    ],
                    "histogram2d": [
                      {
                        "colorbar": {
                          "outlinewidth": 0,
                          "ticks": ""
                        },
                        "colorscale": [
                          [
                            0,
                            "#0d0887"
                          ],
                          [
                            0.1111111111111111,
                            "#46039f"
                          ],
                          [
                            0.2222222222222222,
                            "#7201a8"
                          ],
                          [
                            0.3333333333333333,
                            "#9c179e"
                          ],
                          [
                            0.4444444444444444,
                            "#bd3786"
                          ],
                          [
                            0.5555555555555556,
                            "#d8576b"
                          ],
                          [
                            0.6666666666666666,
                            "#ed7953"
                          ],
                          [
                            0.7777777777777778,
                            "#fb9f3a"
                          ],
                          [
                            0.8888888888888888,
                            "#fdca26"
                          ],
                          [
                            1,
                            "#f0f921"
                          ]
                        ],
                        "type": "histogram2d"
                      }
                    ],
                    "histogram2dcontour": [
                      {
                        "colorbar": {
                          "outlinewidth": 0,
                          "ticks": ""
                        },
                        "colorscale": [
                          [
                            0,
                            "#0d0887"
                          ],
                          [
                            0.1111111111111111,
                            "#46039f"
                          ],
                          [
                            0.2222222222222222,
                            "#7201a8"
                          ],
                          [
                            0.3333333333333333,
                            "#9c179e"
                          ],
                          [
                            0.4444444444444444,
                            "#bd3786"
                          ],
                          [
                            0.5555555555555556,
                            "#d8576b"
                          ],
                          [
                            0.6666666666666666,
                            "#ed7953"
                          ],
                          [
                            0.7777777777777778,
                            "#fb9f3a"
                          ],
                          [
                            0.8888888888888888,
                            "#fdca26"
                          ],
                          [
                            1,
                            "#f0f921"
                          ]
                        ],
                        "type": "histogram2dcontour"
                      }
                    ],
                    "mesh3d": [
                      {
                        "colorbar": {
                          "outlinewidth": 0,
                          "ticks": ""
                        },
                        "type": "mesh3d"
                      }
                    ],
                    "parcoords": [
                      {
                        "line": {
                          "colorbar": {
                            "outlinewidth": 0,
                            "ticks": ""
                          }
                        },
                        "type": "parcoords"
                      }
                    ],
                    "pie": [
                      {
                        "automargin": true,
                        "type": "pie"
                      }
                    ],
                    "scatter": [
                      {
                        "marker": {
                          "line": {
                            "color": "#283442"
                          }
                        },
                        "type": "scatter"
                      }
                    ],
                    "scatter3d": [
                      {
                        "line": {
                          "colorbar": {
                            "outlinewidth": 0,
                            "ticks": ""
                          }
                        },
                        "marker": {
                          "colorbar": {
                            "outlinewidth": 0,
                            "ticks": ""
                          }
                        },
                        "type": "scatter3d"
                      }
                    ],
                    "scattercarpet": [
                      {
                        "marker": {
                          "colorbar": {
                            "outlinewidth": 0,
                            "ticks": ""
                          }
                        },
                        "type": "scattercarpet"
                      }
                    ],
                    "scattergeo": [
                      {
                        "marker": {
                          "colorbar": {
                            "outlinewidth": 0,
                            "ticks": ""
                          }
                        },
                        "type": "scattergeo"
                      }
                    ],
                    "scattergl": [
                      {
                        "marker": {
                          "line": {
                            "color": "#283442"
                          }
                        },
                        "type": "scattergl"
                      }
                    ],
                    "scattermapbox": [
                      {
                        "marker": {
                          "colorbar": {
                            "outlinewidth": 0,
                            "ticks": ""
                          }
                        },
                        "type": "scattermapbox"
                      }
                    ],
                    "scatterpolar": [
                      {
                        "marker": {
                          "colorbar": {
                            "outlinewidth": 0,
                            "ticks": ""
                          }
                        },
                        "type": "scatterpolar"
                      }
                    ],
                    "scatterpolargl": [
                      {
                        "marker": {
                          "colorbar": {
                            "outlinewidth": 0,
                            "ticks": ""
                          }
                        },
                        "type": "scatterpolargl"
                      }
                    ],
                    "scatterternary": [
                      {
                        "marker": {
                          "colorbar": {
                            "outlinewidth": 0,
                            "ticks": ""
                          }
                        },
                        "type": "scatterternary"
                      }
                    ],
                    "surface": [
                      {
                        "colorbar": {
                          "outlinewidth": 0,
                          "ticks": ""
                        },
                        "colorscale": [
                          [
                            0,
                            "#0d0887"
                          ],
                          [
                            0.1111111111111111,
                            "#46039f"
                          ],
                          [
                            0.2222222222222222,
                            "#7201a8"
                          ],
                          [
                            0.3333333333333333,
                            "#9c179e"
                          ],
                          [
                            0.4444444444444444,
                            "#bd3786"
                          ],
                          [
                            0.5555555555555556,
                            "#d8576b"
                          ],
                          [
                            0.6666666666666666,
                            "#ed7953"
                          ],
                          [
                            0.7777777777777778,
                            "#fb9f3a"
                          ],
                          [
                            0.8888888888888888,
                            "#fdca26"
                          ],
                          [
                            1,
                            "#f0f921"
                          ]
                        ],
                        "type": "surface"
                      }
                    ],
                    "table": [
                      {
                        "cells": {
                          "fill": {
                            "color": "#506784"
                          },
                          "line": {
                            "color": "rgb(17,17,17)"
                          }
                        },
                        "header": {
                          "fill": {
                            "color": "#2a3f5f"
                          },
                          "line": {
                            "color": "rgb(17,17,17)"
                          }
                        },
                        "type": "table"
                      }
                    ]
                  },
                  "layout": {
                    "annotationdefaults": {
                      "arrowcolor": "#f2f5fa",
                      "arrowhead": 0,
                      "arrowwidth": 1
                    },
                    "autotypenumbers": "strict",
                    "coloraxis": {
                      "colorbar": {
                        "outlinewidth": 0,
                        "ticks": ""
                      }
                    },
                    "colorscale": {
                      "diverging": [
                        [
                          0,
                          "#8e0152"
                        ],
                        [
                          0.1,
                          "#c51b7d"
                        ],
                        [
                          0.2,
                          "#de77ae"
                        ],
                        [
                          0.3,
                          "#f1b6da"
                        ],
                        [
                          0.4,
                          "#fde0ef"
                        ],
                        [
                          0.5,
                          "#f7f7f7"
                        ],
                        [
                          0.6,
                          "#e6f5d0"
                        ],
                        [
                          0.7,
                          "#b8e186"
                        ],
                        [
                          0.8,
                          "#7fbc41"
                        ],
                        [
                          0.9,
                          "#4d9221"
                        ],
                        [
                          1,
                          "#276419"
                        ]
                      ],
                      "sequential": [
                        [
                          0,
                          "#0d0887"
                        ],
                        [
                          0.1111111111111111,
                          "#46039f"
                        ],
                        [
                          0.2222222222222222,
                          "#7201a8"
                        ],
                        [
                          0.3333333333333333,
                          "#9c179e"
                        ],
                        [
                          0.4444444444444444,
                          "#bd3786"
                        ],
                        [
                          0.5555555555555556,
                          "#d8576b"
                        ],
                        [
                          0.6666666666666666,
                          "#ed7953"
                        ],
                        [
                          0.7777777777777778,
                          "#fb9f3a"
                        ],
                        [
                          0.8888888888888888,
                          "#fdca26"
                        ],
                        [
                          1,
                          "#f0f921"
                        ]
                      ],
                      "sequentialminus": [
                        [
                          0,
                          "#0d0887"
                        ],
                        [
                          0.1111111111111111,
                          "#46039f"
                        ],
                        [
                          0.2222222222222222,
                          "#7201a8"
                        ],
                        [
                          0.3333333333333333,
                          "#9c179e"
                        ],
                        [
                          0.4444444444444444,
                          "#bd3786"
                        ],
                        [
                          0.5555555555555556,
                          "#d8576b"
                        ],
                        [
                          0.6666666666666666,
                          "#ed7953"
                        ],
                        [
                          0.7777777777777778,
                          "#fb9f3a"
                        ],
                        [
                          0.8888888888888888,
                          "#fdca26"
                        ],
                        [
                          1,
                          "#f0f921"
                        ]
                      ]
                    },
                    "colorway": [
                      "#636efa",
                      "#EF553B",
                      "#00cc96",
                      "#ab63fa",
                      "#FFA15A",
                      "#19d3f3",
                      "#FF6692",
                      "#B6E880",
                      "#FF97FF",
                      "#FECB52"
                    ],
                    "font": {
                      "color": "#f2f5fa"
                    },
                    "geo": {
                      "bgcolor": "rgb(17,17,17)",
                      "lakecolor": "rgb(17,17,17)",
                      "landcolor": "rgb(17,17,17)",
                      "showlakes": true,
                      "showland": true,
                      "subunitcolor": "#506784"
                    },
                    "hoverlabel": {
                      "align": "left"
                    },
                    "hovermode": "closest",
                    "mapbox": {
                      "style": "dark"
                    },
                    "paper_bgcolor": "rgb(17,17,17)",
                    "plot_bgcolor": "rgb(17,17,17)",
                    "polar": {
                      "angularaxis": {
                        "gridcolor": "#506784",
                        "linecolor": "#506784",
                        "ticks": ""
                      },
                      "bgcolor": "rgb(17,17,17)",
                      "radialaxis": {
                        "gridcolor": "#506784",
                        "linecolor": "#506784",
                        "ticks": ""
                      }
                    },
                    "scene": {
                      "xaxis": {
                        "backgroundcolor": "rgb(17,17,17)",
                        "gridcolor": "#506784",
                        "gridwidth": 2,
                        "linecolor": "#506784",
                        "showbackground": true,
                        "ticks": "",
                        "zerolinecolor": "#C8D4E3"
                      },
                      "yaxis": {
                        "backgroundcolor": "rgb(17,17,17)",
                        "gridcolor": "#506784",
                        "gridwidth": 2,
                        "linecolor": "#506784",
                        "showbackground": true,
                        "ticks": "",
                        "zerolinecolor": "#C8D4E3"
                      },
                      "zaxis": {
                        "backgroundcolor": "rgb(17,17,17)",
                        "gridcolor": "#506784",
                        "gridwidth": 2,
                        "linecolor": "#506784",
                        "showbackground": true,
                        "ticks": "",
                        "zerolinecolor": "#C8D4E3"
                      }
                    },
                    "shapedefaults": {
                      "line": {
                        "color": "#f2f5fa"
                      }
                    },
                    "sliderdefaults": {
                      "bgcolor": "#C8D4E3",
                      "bordercolor": "rgb(17,17,17)",
                      "borderwidth": 1,
                      "tickwidth": 0
                    },
                    "ternary": {
                      "aaxis": {
                        "gridcolor": "#506784",
                        "linecolor": "#506784",
                        "ticks": ""
                      },
                      "baxis": {
                        "gridcolor": "#506784",
                        "linecolor": "#506784",
                        "ticks": ""
                      },
                      "bgcolor": "rgb(17,17,17)",
                      "caxis": {
                        "gridcolor": "#506784",
                        "linecolor": "#506784",
                        "ticks": ""
                      }
                    },
                    "title": {
                      "x": 0.05
                    },
                    "updatemenudefaults": {
                      "bgcolor": "#506784",
                      "borderwidth": 0
                    },
                    "xaxis": {
                      "automargin": true,
                      "gridcolor": "#283442",
                      "linecolor": "#506784",
                      "ticks": "",
                      "title": {
                        "standoff": 15
                      },
                      "zerolinecolor": "#283442",
                      "zerolinewidth": 2
                    },
                    "yaxis": {
                      "automargin": true,
                      "gridcolor": "#283442",
                      "linecolor": "#506784",
                      "ticks": "",
                      "title": {
                        "standoff": 15
                      },
                      "zerolinecolor": "#283442",
                      "zerolinewidth": 2
                    }
                  }
                },
                "title": {
                  "text": "Forecast: Philippines Area Harvested for Rice (2024-2030 with historical data)    <br><sup>Quarterly projections via Elastic Net Model with CV trained on all 120 samples (lags=7, default parameters)</sup>"
                },
                "xaxis": {
                  "anchor": "y",
                  "domain": [
                    0,
                    1
                  ],
                  "showgrid": true,
                  "showticklabels": true,
                  "title": {
                    "text": ""
                  }
                },
                "yaxis": {
                  "anchor": "x",
                  "domain": [
                    0,
                    1
                  ],
                  "showgrid": true,
                  "title": {
                    "text": "Area Harvested (hectares)"
                  }
                }
              }
            }
          },
          "metadata": {},
          "output_type": "display_data"
        }
      ],
      "source": [
        "train = df\n",
        "train_y = df[y]\n",
        "print(\n",
        "    f\"Training periods : {train.index.min()} --- \"\n",
        "    f\"{train.index.max()}  (n={len(train)})\"\n",
        ")\n",
        "\n",
        "forecaster = ForecasterAutoreg(\n",
        "                regressor = ElasticNetCV(),\n",
        "                lags      = 7\n",
        "            )\n",
        "\n",
        "forecaster.fit(train_y)\n",
        "predicts = forecaster.predict(steps=28)\n",
        "\n",
        "# Plot predicts versus test data\n",
        "\n",
        "plot_results(train, None, predicts, \"Area Harvested\", solo=True, title=f\"Forecast: Philippines Area Harvested for Rice (2024-2030 with historical data)\\\n",
        "    <br><sup>Quarterly projections via Elastic Net Model with CV trained on all {len(train)} samples (lags=7, default parameters)</sup>\",\n",
        "    xtitle=\"Period\", ytitle=\"Area Harvested (hectares)\", split=\"2023-10-01 00:00:00\")"
      ]
    },
    {
      "cell_type": "markdown",
      "metadata": {},
      "source": [
        "# Stocks Analysis"
      ]
    },
    {
      "cell_type": "code",
      "execution_count": 2059,
      "metadata": {},
      "outputs": [
        {
          "data": {
            "text/html": [
              "<div>\n",
              "<style scoped>\n",
              "    .dataframe tbody tr th:only-of-type {\n",
              "        vertical-align: middle;\n",
              "    }\n",
              "\n",
              "    .dataframe tbody tr th {\n",
              "        vertical-align: top;\n",
              "    }\n",
              "\n",
              "    .dataframe thead th {\n",
              "        text-align: right;\n",
              "    }\n",
              "</style>\n",
              "<table border=\"1\" class=\"dataframe\">\n",
              "  <thead>\n",
              "    <tr style=\"text-align: right;\">\n",
              "      <th></th>\n",
              "      <th>Stocks</th>\n",
              "      <th>Farmgate Price</th>\n",
              "      <th>Wholesale Price</th>\n",
              "      <th>Retail Price</th>\n",
              "      <th>CPI All Income</th>\n",
              "      <th>NCR RPI</th>\n",
              "    </tr>\n",
              "    <tr>\n",
              "      <th>Period</th>\n",
              "      <th></th>\n",
              "      <th></th>\n",
              "      <th></th>\n",
              "      <th></th>\n",
              "      <th></th>\n",
              "      <th></th>\n",
              "    </tr>\n",
              "  </thead>\n",
              "  <tbody>\n",
              "    <tr>\n",
              "      <th>1994-01-01</th>\n",
              "      <td>1444.3</td>\n",
              "      <td>5.70</td>\n",
              "      <td>11.60</td>\n",
              "      <td>11.60</td>\n",
              "      <td>31.448192</td>\n",
              "      <td>44.451220</td>\n",
              "    </tr>\n",
              "    <tr>\n",
              "      <th>1994-02-01</th>\n",
              "      <td>1157.0</td>\n",
              "      <td>5.88</td>\n",
              "      <td>11.70</td>\n",
              "      <td>11.76</td>\n",
              "      <td>31.558730</td>\n",
              "      <td>44.024390</td>\n",
              "    </tr>\n",
              "    <tr>\n",
              "      <th>1994-03-01</th>\n",
              "      <td>1092.6</td>\n",
              "      <td>5.68</td>\n",
              "      <td>11.61</td>\n",
              "      <td>11.69</td>\n",
              "      <td>31.614000</td>\n",
              "      <td>44.024390</td>\n",
              "    </tr>\n",
              "    <tr>\n",
              "      <th>1994-04-01</th>\n",
              "      <td>1362.4</td>\n",
              "      <td>5.85</td>\n",
              "      <td>11.65</td>\n",
              "      <td>11.75</td>\n",
              "      <td>31.669269</td>\n",
              "      <td>44.207317</td>\n",
              "    </tr>\n",
              "    <tr>\n",
              "      <th>1994-05-01</th>\n",
              "      <td>1408.2</td>\n",
              "      <td>5.90</td>\n",
              "      <td>11.78</td>\n",
              "      <td>11.85</td>\n",
              "      <td>31.779807</td>\n",
              "      <td>44.695122</td>\n",
              "    </tr>\n",
              "    <tr>\n",
              "      <th>1994-06-01</th>\n",
              "      <td>1353.6</td>\n",
              "      <td>6.11</td>\n",
              "      <td>11.94</td>\n",
              "      <td>11.97</td>\n",
              "      <td>31.890346</td>\n",
              "      <td>44.878049</td>\n",
              "    </tr>\n",
              "    <tr>\n",
              "      <th>1994-07-01</th>\n",
              "      <td>1258.0</td>\n",
              "      <td>6.34</td>\n",
              "      <td>12.50</td>\n",
              "      <td>12.55</td>\n",
              "      <td>32.221961</td>\n",
              "      <td>45.426829</td>\n",
              "    </tr>\n",
              "    <tr>\n",
              "      <th>1994-08-01</th>\n",
              "      <td>989.9</td>\n",
              "      <td>6.39</td>\n",
              "      <td>12.99</td>\n",
              "      <td>13.00</td>\n",
              "      <td>32.719384</td>\n",
              "      <td>45.792683</td>\n",
              "    </tr>\n",
              "    <tr>\n",
              "      <th>1994-09-01</th>\n",
              "      <td>888.9</td>\n",
              "      <td>6.02</td>\n",
              "      <td>12.91</td>\n",
              "      <td>12.99</td>\n",
              "      <td>32.774654</td>\n",
              "      <td>45.426829</td>\n",
              "    </tr>\n",
              "    <tr>\n",
              "      <th>1994-10-01</th>\n",
              "      <td>1076.9</td>\n",
              "      <td>5.60</td>\n",
              "      <td>12.48</td>\n",
              "      <td>12.60</td>\n",
              "      <td>32.719384</td>\n",
              "      <td>45.487805</td>\n",
              "    </tr>\n",
              "    <tr>\n",
              "      <th>1994-11-01</th>\n",
              "      <td>1580.6</td>\n",
              "      <td>5.68</td>\n",
              "      <td>11.95</td>\n",
              "      <td>12.25</td>\n",
              "      <td>32.553577</td>\n",
              "      <td>45.426829</td>\n",
              "    </tr>\n",
              "    <tr>\n",
              "      <th>1994-12-01</th>\n",
              "      <td>1706.5</td>\n",
              "      <td>5.76</td>\n",
              "      <td>12.23</td>\n",
              "      <td>12.35</td>\n",
              "      <td>32.443038</td>\n",
              "      <td>45.670732</td>\n",
              "    </tr>\n",
              "  </tbody>\n",
              "</table>\n",
              "</div>"
            ],
            "text/plain": [
              "            Stocks  Farmgate Price  Wholesale Price  Retail Price  \\\n",
              "Period                                                              \n",
              "1994-01-01  1444.3            5.70            11.60         11.60   \n",
              "1994-02-01  1157.0            5.88            11.70         11.76   \n",
              "1994-03-01  1092.6            5.68            11.61         11.69   \n",
              "1994-04-01  1362.4            5.85            11.65         11.75   \n",
              "1994-05-01  1408.2            5.90            11.78         11.85   \n",
              "1994-06-01  1353.6            6.11            11.94         11.97   \n",
              "1994-07-01  1258.0            6.34            12.50         12.55   \n",
              "1994-08-01   989.9            6.39            12.99         13.00   \n",
              "1994-09-01   888.9            6.02            12.91         12.99   \n",
              "1994-10-01  1076.9            5.60            12.48         12.60   \n",
              "1994-11-01  1580.6            5.68            11.95         12.25   \n",
              "1994-12-01  1706.5            5.76            12.23         12.35   \n",
              "\n",
              "            CPI All Income    NCR RPI  \n",
              "Period                                 \n",
              "1994-01-01       31.448192  44.451220  \n",
              "1994-02-01       31.558730  44.024390  \n",
              "1994-03-01       31.614000  44.024390  \n",
              "1994-04-01       31.669269  44.207317  \n",
              "1994-05-01       31.779807  44.695122  \n",
              "1994-06-01       31.890346  44.878049  \n",
              "1994-07-01       32.221961  45.426829  \n",
              "1994-08-01       32.719384  45.792683  \n",
              "1994-09-01       32.774654  45.426829  \n",
              "1994-10-01       32.719384  45.487805  \n",
              "1994-11-01       32.553577  45.426829  \n",
              "1994-12-01       32.443038  45.670732  "
            ]
          },
          "metadata": {},
          "output_type": "display_data"
        },
        {
          "name": "stdout",
          "output_type": "stream",
          "text": [
            "Number of rows with missing values: 0.0\n",
            "(360, 6)\n"
          ]
        }
      ],
      "source": [
        "from sklearn.experimental import enable_iterative_imputer\n",
        "from sklearn.impute import IterativeImputer, KNNImputer\n",
        "from sklearn.model_selection import TimeSeriesSplit\n",
        "\n",
        "df1 = pd.read_csv(\"datasets/agricultural-indicators/stocks-palay-corn_yearly_1980-2024.csv\")\n",
        "df1 = df1[df1[\"Sector\"] == \"Rice: Total Stock\"]\n",
        "df1[\"Sector\"] = df1[\"Sector\"].replace({\"Rice: Total Stock\": \"Rice\"})\n",
        "df1 = df1.melt([\"Sector\", \"Year\"], df1.columns[2:], \"Month\", \"Stocks\")\n",
        "df1[\"Year\"] = df1[\"Year\"].astype(str)\n",
        "df1[\"Period\"] =  df1[\"Year\"] + \" \" + df1[\"Month\"]\n",
        "df1 = df1.rename({\"Sector\": \"Commodity\"}, axis=1)\n",
        "df1 = df1.drop([\"Year\", \"Month\"], axis=1)\n",
        "\n",
        "# Monthly Analysis for Rice Stocks only\n",
        "\n",
        "# Farmgate Price of Rice and Corn\n",
        "df2 = pd.read_csv(\"datasets/prices/prices_farmgate-new-series_1990-2023.csv\", na_values=[\"..\"])\n",
        "df2 = df2[df2.Geolocation == \"PHILIPPINES\"]\n",
        "df2 = remove_annuals(df2)\n",
        "df2 = preprocess_baesians_2(df2, {\"Palay [Paddy] Other Variety, dry (conv. to 14% mc)\": \"Rice\"}, melt_value=\"Farmgate Price\", impute=True).copy()\n",
        "\n",
        "# Wholesale Price of Rice and Corn\n",
        "df3 = pd.read_csv(\"datasets/prices/prices_wholesale-new-series_1990-2023.csv\", na_values=[\"..\"])\n",
        "df3 = df3[df3.Geolocation == \"PHILIPPINES\"]\n",
        "df3 = remove_annuals(df3)\n",
        "df3 = preprocess_baesians_2(df3, {\"Well Milled Rice (WMR)\": \"Rice\"}, melt_value=\"Wholesale Price\", impute=True)\n",
        "\n",
        "# Retail Price of Rice and Corn\n",
        "df4 = pd.read_csv(\"datasets/prices/prices_retail_1990-2023.csv\", na_values=[\"..\"])\n",
        "df4 = df4[df4.Geolocation == \"PHILIPPINES\"]\n",
        "df4 = remove_annuals(df4)\n",
        "df4 = preprocess_baesians_2(df4, {\n",
        "                                  \"Regular Milled Rice (RMR)\" : \"Rice\"}, melt_value=\"Retail Price\", impute=True)\n",
        "\n",
        "# Consumer Price Index (All Income) per Region of Rice and Corn (from monthly)\n",
        "df6 = pd.read_csv(\"datasets/price-indices-2018-based/cpi_all-income-households-by-cg-with-backcasting_1994-2023.csv\")\n",
        "df6 = df6[df6.Geolocation == \"PHILIPPINES\"]\n",
        "df6 = preprocess_baesians_2(df6, {\"01.1.1.12 - Rice\": \"Rice\"},\n",
        "                            melt_value=\"CPI All Income\")\n",
        "\n",
        "# NCR Retail Price Index on Food\n",
        "df10 = pd.read_csv(\"datasets/price-indices-2018-based/rpi-in-ncr_food-only_1989-2023_new.csv\")\n",
        "df10 = preprocess_baesians_2(df10, {\"..Food\": \"Food\"}, melt_value=\"NCR RPI\").drop([\"Geolocation\", \"Commodity\"], axis=1)\n",
        "\n",
        "# # Merge all dfs into a single df\n",
        "dfs = [df1, df2, df3, df4, df6, df10]\n",
        "df = functools.reduce(lambda left, right: pd.merge(left, right), dfs)\n",
        "df.drop([\"Commodity\", \"Geolocation\"], axis=1, inplace=True)\n",
        "df[\"Period\"] = pd.to_datetime(df[\"Period\"], format=\"%Y %b\")\n",
        "df = df.set_index(\"Period\")\n",
        "df = df[df.index < \"2024\"]\n",
        "df = df.asfreq(\"MS\")\n",
        "df = df.sort_index()\n",
        "\n",
        "display(df.head(12))\n",
        "\n",
        "print(f'Number of rows with missing values: {df.isnull().any(axis=1).mean()}')\n",
        "print(df.shape)\n"
      ]
    },
    {
      "cell_type": "code",
      "execution_count": 2060,
      "metadata": {},
      "outputs": [
        {
          "name": "stdout",
          "output_type": "stream",
          "text": [
            "Training periods : 1994-01-01 00:00:00 --- 2019-10-01 00:00:00  (n=310)\n",
            "Testing periods  : 2019-11-01 00:00:00 --- 2023-12-01 00:00:00  (n=50)\n",
            "RandomForestRegressor(random_state=100)\n",
            "MSE:\t60572.06\n",
            "RMSE:\t246.11\n",
            "MAPE:\t0.10\n",
            "R2:\t0.70\n"
          ]
        },
        {
          "data": {
            "application/vnd.plotly.v1+json": {
              "config": {
                "plotlyServerURL": "https://plot.ly"
              },
              "data": [
                {
                  "name": "train\t(n=310)",
                  "type": "scatter",
                  "visible": "legendonly",
                  "x": [
                    "1994-01-01T00:00:00",
                    "1994-02-01T00:00:00",
                    "1994-03-01T00:00:00",
                    "1994-04-01T00:00:00",
                    "1994-05-01T00:00:00",
                    "1994-06-01T00:00:00",
                    "1994-07-01T00:00:00",
                    "1994-08-01T00:00:00",
                    "1994-09-01T00:00:00",
                    "1994-10-01T00:00:00",
                    "1994-11-01T00:00:00",
                    "1994-12-01T00:00:00",
                    "1995-01-01T00:00:00",
                    "1995-02-01T00:00:00",
                    "1995-03-01T00:00:00",
                    "1995-04-01T00:00:00",
                    "1995-05-01T00:00:00",
                    "1995-06-01T00:00:00",
                    "1995-07-01T00:00:00",
                    "1995-08-01T00:00:00",
                    "1995-09-01T00:00:00",
                    "1995-10-01T00:00:00",
                    "1995-11-01T00:00:00",
                    "1995-12-01T00:00:00",
                    "1996-01-01T00:00:00",
                    "1996-02-01T00:00:00",
                    "1996-03-01T00:00:00",
                    "1996-04-01T00:00:00",
                    "1996-05-01T00:00:00",
                    "1996-06-01T00:00:00",
                    "1996-07-01T00:00:00",
                    "1996-08-01T00:00:00",
                    "1996-09-01T00:00:00",
                    "1996-10-01T00:00:00",
                    "1996-11-01T00:00:00",
                    "1996-12-01T00:00:00",
                    "1997-01-01T00:00:00",
                    "1997-02-01T00:00:00",
                    "1997-03-01T00:00:00",
                    "1997-04-01T00:00:00",
                    "1997-05-01T00:00:00",
                    "1997-06-01T00:00:00",
                    "1997-07-01T00:00:00",
                    "1997-08-01T00:00:00",
                    "1997-09-01T00:00:00",
                    "1997-10-01T00:00:00",
                    "1997-11-01T00:00:00",
                    "1997-12-01T00:00:00",
                    "1998-01-01T00:00:00",
                    "1998-02-01T00:00:00",
                    "1998-03-01T00:00:00",
                    "1998-04-01T00:00:00",
                    "1998-05-01T00:00:00",
                    "1998-06-01T00:00:00",
                    "1998-07-01T00:00:00",
                    "1998-08-01T00:00:00",
                    "1998-09-01T00:00:00",
                    "1998-10-01T00:00:00",
                    "1998-11-01T00:00:00",
                    "1998-12-01T00:00:00",
                    "1999-01-01T00:00:00",
                    "1999-02-01T00:00:00",
                    "1999-03-01T00:00:00",
                    "1999-04-01T00:00:00",
                    "1999-05-01T00:00:00",
                    "1999-06-01T00:00:00",
                    "1999-07-01T00:00:00",
                    "1999-08-01T00:00:00",
                    "1999-09-01T00:00:00",
                    "1999-10-01T00:00:00",
                    "1999-11-01T00:00:00",
                    "1999-12-01T00:00:00",
                    "2000-01-01T00:00:00",
                    "2000-02-01T00:00:00",
                    "2000-03-01T00:00:00",
                    "2000-04-01T00:00:00",
                    "2000-05-01T00:00:00",
                    "2000-06-01T00:00:00",
                    "2000-07-01T00:00:00",
                    "2000-08-01T00:00:00",
                    "2000-09-01T00:00:00",
                    "2000-10-01T00:00:00",
                    "2000-11-01T00:00:00",
                    "2000-12-01T00:00:00",
                    "2001-01-01T00:00:00",
                    "2001-02-01T00:00:00",
                    "2001-03-01T00:00:00",
                    "2001-04-01T00:00:00",
                    "2001-05-01T00:00:00",
                    "2001-06-01T00:00:00",
                    "2001-07-01T00:00:00",
                    "2001-08-01T00:00:00",
                    "2001-09-01T00:00:00",
                    "2001-10-01T00:00:00",
                    "2001-11-01T00:00:00",
                    "2001-12-01T00:00:00",
                    "2002-01-01T00:00:00",
                    "2002-02-01T00:00:00",
                    "2002-03-01T00:00:00",
                    "2002-04-01T00:00:00",
                    "2002-05-01T00:00:00",
                    "2002-06-01T00:00:00",
                    "2002-07-01T00:00:00",
                    "2002-08-01T00:00:00",
                    "2002-09-01T00:00:00",
                    "2002-10-01T00:00:00",
                    "2002-11-01T00:00:00",
                    "2002-12-01T00:00:00",
                    "2003-01-01T00:00:00",
                    "2003-02-01T00:00:00",
                    "2003-03-01T00:00:00",
                    "2003-04-01T00:00:00",
                    "2003-05-01T00:00:00",
                    "2003-06-01T00:00:00",
                    "2003-07-01T00:00:00",
                    "2003-08-01T00:00:00",
                    "2003-09-01T00:00:00",
                    "2003-10-01T00:00:00",
                    "2003-11-01T00:00:00",
                    "2003-12-01T00:00:00",
                    "2004-01-01T00:00:00",
                    "2004-02-01T00:00:00",
                    "2004-03-01T00:00:00",
                    "2004-04-01T00:00:00",
                    "2004-05-01T00:00:00",
                    "2004-06-01T00:00:00",
                    "2004-07-01T00:00:00",
                    "2004-08-01T00:00:00",
                    "2004-09-01T00:00:00",
                    "2004-10-01T00:00:00",
                    "2004-11-01T00:00:00",
                    "2004-12-01T00:00:00",
                    "2005-01-01T00:00:00",
                    "2005-02-01T00:00:00",
                    "2005-03-01T00:00:00",
                    "2005-04-01T00:00:00",
                    "2005-05-01T00:00:00",
                    "2005-06-01T00:00:00",
                    "2005-07-01T00:00:00",
                    "2005-08-01T00:00:00",
                    "2005-09-01T00:00:00",
                    "2005-10-01T00:00:00",
                    "2005-11-01T00:00:00",
                    "2005-12-01T00:00:00",
                    "2006-01-01T00:00:00",
                    "2006-02-01T00:00:00",
                    "2006-03-01T00:00:00",
                    "2006-04-01T00:00:00",
                    "2006-05-01T00:00:00",
                    "2006-06-01T00:00:00",
                    "2006-07-01T00:00:00",
                    "2006-08-01T00:00:00",
                    "2006-09-01T00:00:00",
                    "2006-10-01T00:00:00",
                    "2006-11-01T00:00:00",
                    "2006-12-01T00:00:00",
                    "2007-01-01T00:00:00",
                    "2007-02-01T00:00:00",
                    "2007-03-01T00:00:00",
                    "2007-04-01T00:00:00",
                    "2007-05-01T00:00:00",
                    "2007-06-01T00:00:00",
                    "2007-07-01T00:00:00",
                    "2007-08-01T00:00:00",
                    "2007-09-01T00:00:00",
                    "2007-10-01T00:00:00",
                    "2007-11-01T00:00:00",
                    "2007-12-01T00:00:00",
                    "2008-01-01T00:00:00",
                    "2008-02-01T00:00:00",
                    "2008-03-01T00:00:00",
                    "2008-04-01T00:00:00",
                    "2008-05-01T00:00:00",
                    "2008-06-01T00:00:00",
                    "2008-07-01T00:00:00",
                    "2008-08-01T00:00:00",
                    "2008-09-01T00:00:00",
                    "2008-10-01T00:00:00",
                    "2008-11-01T00:00:00",
                    "2008-12-01T00:00:00",
                    "2009-01-01T00:00:00",
                    "2009-02-01T00:00:00",
                    "2009-03-01T00:00:00",
                    "2009-04-01T00:00:00",
                    "2009-05-01T00:00:00",
                    "2009-06-01T00:00:00",
                    "2009-07-01T00:00:00",
                    "2009-08-01T00:00:00",
                    "2009-09-01T00:00:00",
                    "2009-10-01T00:00:00",
                    "2009-11-01T00:00:00",
                    "2009-12-01T00:00:00",
                    "2010-01-01T00:00:00",
                    "2010-02-01T00:00:00",
                    "2010-03-01T00:00:00",
                    "2010-04-01T00:00:00",
                    "2010-05-01T00:00:00",
                    "2010-06-01T00:00:00",
                    "2010-07-01T00:00:00",
                    "2010-08-01T00:00:00",
                    "2010-09-01T00:00:00",
                    "2010-10-01T00:00:00",
                    "2010-11-01T00:00:00",
                    "2010-12-01T00:00:00",
                    "2011-01-01T00:00:00",
                    "2011-02-01T00:00:00",
                    "2011-03-01T00:00:00",
                    "2011-04-01T00:00:00",
                    "2011-05-01T00:00:00",
                    "2011-06-01T00:00:00",
                    "2011-07-01T00:00:00",
                    "2011-08-01T00:00:00",
                    "2011-09-01T00:00:00",
                    "2011-10-01T00:00:00",
                    "2011-11-01T00:00:00",
                    "2011-12-01T00:00:00",
                    "2012-01-01T00:00:00",
                    "2012-02-01T00:00:00",
                    "2012-03-01T00:00:00",
                    "2012-04-01T00:00:00",
                    "2012-05-01T00:00:00",
                    "2012-06-01T00:00:00",
                    "2012-07-01T00:00:00",
                    "2012-08-01T00:00:00",
                    "2012-09-01T00:00:00",
                    "2012-10-01T00:00:00",
                    "2012-11-01T00:00:00",
                    "2012-12-01T00:00:00",
                    "2013-01-01T00:00:00",
                    "2013-02-01T00:00:00",
                    "2013-03-01T00:00:00",
                    "2013-04-01T00:00:00",
                    "2013-05-01T00:00:00",
                    "2013-06-01T00:00:00",
                    "2013-07-01T00:00:00",
                    "2013-08-01T00:00:00",
                    "2013-09-01T00:00:00",
                    "2013-10-01T00:00:00",
                    "2013-11-01T00:00:00",
                    "2013-12-01T00:00:00",
                    "2014-01-01T00:00:00",
                    "2014-02-01T00:00:00",
                    "2014-03-01T00:00:00",
                    "2014-04-01T00:00:00",
                    "2014-05-01T00:00:00",
                    "2014-06-01T00:00:00",
                    "2014-07-01T00:00:00",
                    "2014-08-01T00:00:00",
                    "2014-09-01T00:00:00",
                    "2014-10-01T00:00:00",
                    "2014-11-01T00:00:00",
                    "2014-12-01T00:00:00",
                    "2015-01-01T00:00:00",
                    "2015-02-01T00:00:00",
                    "2015-03-01T00:00:00",
                    "2015-04-01T00:00:00",
                    "2015-05-01T00:00:00",
                    "2015-06-01T00:00:00",
                    "2015-07-01T00:00:00",
                    "2015-08-01T00:00:00",
                    "2015-09-01T00:00:00",
                    "2015-10-01T00:00:00",
                    "2015-11-01T00:00:00",
                    "2015-12-01T00:00:00",
                    "2016-01-01T00:00:00",
                    "2016-02-01T00:00:00",
                    "2016-03-01T00:00:00",
                    "2016-04-01T00:00:00",
                    "2016-05-01T00:00:00",
                    "2016-06-01T00:00:00",
                    "2016-07-01T00:00:00",
                    "2016-08-01T00:00:00",
                    "2016-09-01T00:00:00",
                    "2016-10-01T00:00:00",
                    "2016-11-01T00:00:00",
                    "2016-12-01T00:00:00",
                    "2017-01-01T00:00:00",
                    "2017-02-01T00:00:00",
                    "2017-03-01T00:00:00",
                    "2017-04-01T00:00:00",
                    "2017-05-01T00:00:00",
                    "2017-06-01T00:00:00",
                    "2017-07-01T00:00:00",
                    "2017-08-01T00:00:00",
                    "2017-09-01T00:00:00",
                    "2017-10-01T00:00:00",
                    "2017-11-01T00:00:00",
                    "2017-12-01T00:00:00",
                    "2018-01-01T00:00:00",
                    "2018-02-01T00:00:00",
                    "2018-03-01T00:00:00",
                    "2018-04-01T00:00:00",
                    "2018-05-01T00:00:00",
                    "2018-06-01T00:00:00",
                    "2018-07-01T00:00:00",
                    "2018-08-01T00:00:00",
                    "2018-09-01T00:00:00",
                    "2018-10-01T00:00:00",
                    "2018-11-01T00:00:00",
                    "2018-12-01T00:00:00",
                    "2019-01-01T00:00:00",
                    "2019-02-01T00:00:00",
                    "2019-03-01T00:00:00",
                    "2019-04-01T00:00:00",
                    "2019-05-01T00:00:00",
                    "2019-06-01T00:00:00",
                    "2019-07-01T00:00:00",
                    "2019-08-01T00:00:00",
                    "2019-09-01T00:00:00",
                    "2019-10-01T00:00:00"
                  ],
                  "y": [
                    1444.3,
                    1157,
                    1092.6,
                    1362.4,
                    1408.2,
                    1353.6,
                    1258,
                    989.9,
                    888.9,
                    1076.9,
                    1580.6,
                    1706.5,
                    1497.8,
                    1260.8,
                    1120.1,
                    1253,
                    1321.5,
                    1200.4,
                    940.7,
                    703.6,
                    524.4,
                    813.3,
                    1365.1,
                    1578,
                    1422.3,
                    1309.1,
                    1196.7,
                    1522.5,
                    1796.8,
                    1726.7,
                    1602.8,
                    1269.2,
                    1132.2,
                    1327.1,
                    1708.2,
                    1968.6,
                    1793,
                    1520.8,
                    1412,
                    1629.4,
                    1962,
                    1891.8,
                    1819.4,
                    1600.2,
                    1352.6,
                    1410.3,
                    2059.9,
                    2278.1,
                    1979.4,
                    1871.1,
                    1848.1,
                    2221.7,
                    2270.6,
                    2119.5,
                    1944.9,
                    1723.8,
                    1654.2,
                    1710.7,
                    2071.9,
                    2413.6,
                    2279.3,
                    2144.6,
                    2160.7,
                    2419.8,
                    2710.9,
                    2574.1,
                    2381.1,
                    2221.2,
                    1886.1,
                    2032.9,
                    2440.9,
                    2610,
                    2364.5,
                    2042.3,
                    1765.7,
                    1874.9,
                    2067,
                    1835.9,
                    1628.6,
                    1373.8,
                    1195,
                    1485.1,
                    2010.8,
                    2277.6,
                    2166.1,
                    1879.4,
                    1837.8,
                    2110.7,
                    2263.3,
                    2248,
                    2034.9,
                    1851.3,
                    1719.3,
                    1872.6,
                    2594.4,
                    2598,
                    2270.7,
                    1975.2,
                    1808.2,
                    1997.2,
                    2113.2,
                    1788.9,
                    1534.7,
                    1313.4,
                    1193.1,
                    1508.2,
                    2575,
                    2676,
                    2448.1,
                    2289.5,
                    2068.5,
                    2210.3,
                    2390.8,
                    2097.6,
                    1806.1,
                    1566.5,
                    1399.6,
                    1742.4,
                    2525,
                    2607,
                    2362.1,
                    2068,
                    1857.7,
                    2147.4,
                    2338.7,
                    1880.1,
                    1577.4,
                    1340.8,
                    1189.1,
                    1559.5,
                    2289.8,
                    2404.5,
                    2050.9,
                    1777.4,
                    1455.6,
                    1744.7,
                    1999.2,
                    1879.3,
                    1638.2,
                    1457.1,
                    1308,
                    1592.7,
                    2255.3,
                    2406.2,
                    2094.3,
                    1885.9,
                    1719.9,
                    2192.9,
                    2422.5,
                    2217.3,
                    1960.1,
                    1754.2,
                    1649.5,
                    1825.3,
                    2435.2,
                    2580.4,
                    2253.1,
                    1841.3,
                    1588.6,
                    1654.5,
                    1893.5,
                    1629.1,
                    1529.1,
                    1354.6,
                    1135.8,
                    1375.1,
                    2038.3,
                    2291.5,
                    2172.3,
                    1834.9,
                    1688.7,
                    1891.4,
                    2265.4,
                    2209.5,
                    2185.2,
                    1902.1,
                    1923.1,
                    2177.1,
                    2937.8,
                    2954.1,
                    2638.6,
                    2279,
                    2167.7,
                    2478.6,
                    2683.9,
                    2683.4,
                    2776.3,
                    2380.7,
                    2322.2,
                    2485.3,
                    2958.6,
                    2897.3,
                    2629.1,
                    2463.3,
                    2251.9,
                    2773.4,
                    3322,
                    3357.7,
                    3353.5,
                    3184.2,
                    3034,
                    3151.1,
                    3794.6,
                    3908,
                    3424.3,
                    3049.6,
                    2853,
                    3080.6,
                    3396.5,
                    3093.6,
                    3021.8,
                    2720.4,
                    2415.2,
                    2739.2,
                    3216.8,
                    3097.5,
                    2627.4,
                    2331.4,
                    2012.6,
                    2637.8,
                    2673.3,
                    2287.31,
                    1915.11,
                    1616.6,
                    1441.9,
                    1999,
                    2784.6,
                    2613.2,
                    2524.2,
                    2023.6,
                    1938.6,
                    2327.6,
                    2614.4,
                    2313.5,
                    2194.06,
                    1859.5,
                    1530.31,
                    1771.3,
                    2438.7,
                    2492.9,
                    2125.5,
                    2003.81,
                    1784.78,
                    2182.48,
                    2520.18,
                    2306.16,
                    2025.01,
                    1721.78,
                    1488.72,
                    1805.31,
                    2952.74,
                    3031.53,
                    2662.05,
                    2350.6,
                    2265.51,
                    2542.68,
                    3167.25,
                    3019.42,
                    2568.19,
                    2244.38,
                    1955.5,
                    2196.18,
                    3107.3,
                    3441.41,
                    3198.79,
                    2942.84,
                    2674.17,
                    3359.01,
                    3689.41,
                    3235.29,
                    2733.64,
                    2103.16,
                    1775.76,
                    2286.57,
                    3302.33,
                    3338.98,
                    2765.12,
                    2296.32,
                    2176.2,
                    2675.55,
                    3214.18,
                    2572.94,
                    2347.9,
                    2028,
                    1422.84,
                    1935.87,
                    2958.73,
                    2849.37,
                    2289.65,
                    1795.78,
                    1697.37,
                    2182.67,
                    2909.46,
                    2360.98,
                    1990.82,
                    1520.76,
                    1168.03,
                    1589.89,
                    3000.45,
                    2718.48,
                    2550.7,
                    2141.23,
                    2221.42,
                    2629.03,
                    2947.42,
                    2598.34,
                    2625.25,
                    2133.84,
                    1842.37,
                    2279.73
                  ]
                },
                {
                  "name": "test\t\t(n=50)",
                  "type": "scatter",
                  "visible": true,
                  "x": [
                    "2019-11-01T00:00:00",
                    "2019-12-01T00:00:00",
                    "2020-01-01T00:00:00",
                    "2020-02-01T00:00:00",
                    "2020-03-01T00:00:00",
                    "2020-04-01T00:00:00",
                    "2020-05-01T00:00:00",
                    "2020-06-01T00:00:00",
                    "2020-07-01T00:00:00",
                    "2020-08-01T00:00:00",
                    "2020-09-01T00:00:00",
                    "2020-10-01T00:00:00",
                    "2020-11-01T00:00:00",
                    "2020-12-01T00:00:00",
                    "2021-01-01T00:00:00",
                    "2021-02-01T00:00:00",
                    "2021-03-01T00:00:00",
                    "2021-04-01T00:00:00",
                    "2021-05-01T00:00:00",
                    "2021-06-01T00:00:00",
                    "2021-07-01T00:00:00",
                    "2021-08-01T00:00:00",
                    "2021-09-01T00:00:00",
                    "2021-10-01T00:00:00",
                    "2021-11-01T00:00:00",
                    "2021-12-01T00:00:00",
                    "2022-01-01T00:00:00",
                    "2022-02-01T00:00:00",
                    "2022-03-01T00:00:00",
                    "2022-04-01T00:00:00",
                    "2022-05-01T00:00:00",
                    "2022-06-01T00:00:00",
                    "2022-07-01T00:00:00",
                    "2022-08-01T00:00:00",
                    "2022-09-01T00:00:00",
                    "2022-10-01T00:00:00",
                    "2022-11-01T00:00:00",
                    "2022-12-01T00:00:00",
                    "2023-01-01T00:00:00",
                    "2023-02-01T00:00:00",
                    "2023-03-01T00:00:00",
                    "2023-04-01T00:00:00",
                    "2023-05-01T00:00:00",
                    "2023-06-01T00:00:00",
                    "2023-07-01T00:00:00",
                    "2023-08-01T00:00:00",
                    "2023-09-01T00:00:00",
                    "2023-10-01T00:00:00",
                    "2023-11-01T00:00:00",
                    "2023-12-01T00:00:00"
                  ],
                  "y": [
                    2962.46,
                    3098.01,
                    2675.04,
                    2375.5,
                    2178.64,
                    2367.87,
                    2779.03,
                    2395.94,
                    2104.76,
                    1786.25,
                    1784.82,
                    2641.08,
                    3158.54,
                    2766.4,
                    2332,
                    2193.1,
                    2080.1,
                    2444.31,
                    2584.9,
                    2530.82,
                    2177.68,
                    1578.31,
                    1332.36,
                    1954.72,
                    2418.43,
                    2377.85,
                    1859.45,
                    1609.25,
                    1632.51,
                    2506.13,
                    2279.96,
                    2090.62,
                    2034.57,
                    1633.36,
                    1450.89,
                    2081.84,
                    2649.81,
                    2534.59,
                    1850.45,
                    1523.03,
                    1408.85,
                    1843.05,
                    1882.06,
                    1818.21,
                    1804.17,
                    1632.45,
                    1546.09,
                    2024.33,
                    1978.56,
                    1895.78
                  ]
                },
                {
                  "line": {
                    "color": "rgba(0,204,150,0.8)"
                  },
                  "name": "predicts",
                  "type": "scatter",
                  "visible": true,
                  "x": [
                    "2019-11-01T00:00:00",
                    "2019-12-01T00:00:00",
                    "2020-01-01T00:00:00",
                    "2020-02-01T00:00:00",
                    "2020-03-01T00:00:00",
                    "2020-04-01T00:00:00",
                    "2020-05-01T00:00:00",
                    "2020-06-01T00:00:00",
                    "2020-07-01T00:00:00",
                    "2020-08-01T00:00:00",
                    "2020-09-01T00:00:00",
                    "2020-10-01T00:00:00",
                    "2020-11-01T00:00:00",
                    "2020-12-01T00:00:00",
                    "2021-01-01T00:00:00",
                    "2021-02-01T00:00:00",
                    "2021-03-01T00:00:00",
                    "2021-04-01T00:00:00",
                    "2021-05-01T00:00:00",
                    "2021-06-01T00:00:00",
                    "2021-07-01T00:00:00",
                    "2021-08-01T00:00:00",
                    "2021-09-01T00:00:00",
                    "2021-10-01T00:00:00",
                    "2021-11-01T00:00:00",
                    "2021-12-01T00:00:00",
                    "2022-01-01T00:00:00",
                    "2022-02-01T00:00:00",
                    "2022-03-01T00:00:00",
                    "2022-04-01T00:00:00",
                    "2022-05-01T00:00:00",
                    "2022-06-01T00:00:00",
                    "2022-07-01T00:00:00",
                    "2022-08-01T00:00:00",
                    "2022-09-01T00:00:00",
                    "2022-10-01T00:00:00",
                    "2022-11-01T00:00:00",
                    "2022-12-01T00:00:00",
                    "2023-01-01T00:00:00",
                    "2023-02-01T00:00:00",
                    "2023-03-01T00:00:00",
                    "2023-04-01T00:00:00",
                    "2023-05-01T00:00:00",
                    "2023-06-01T00:00:00",
                    "2023-07-01T00:00:00",
                    "2023-08-01T00:00:00",
                    "2023-09-01T00:00:00",
                    "2023-10-01T00:00:00",
                    "2023-11-01T00:00:00",
                    "2023-12-01T00:00:00"
                  ],
                  "y": [
                    2851.2809999999986,
                    2764.9883999999997,
                    2500.894,
                    2243.9222999999993,
                    2241.4741,
                    2556.156199999997,
                    2822.7356,
                    2644.1806000000006,
                    2384.2114999999994,
                    2078.4181000000003,
                    1837.7920000000004,
                    2174.4392000000007,
                    2641.8687999999984,
                    2545.1924000000004,
                    2319.7873999999997,
                    2090.9254,
                    1934.0277999999994,
                    2154.786400000001,
                    2391.1237,
                    2234.3589,
                    2025.6872000000014,
                    1710.4261000000001,
                    1662.9698,
                    2000.8423,
                    2387.0869000000007,
                    2349.2862999999998,
                    2081.0715000000005,
                    1864.7626999999993,
                    1806.3252,
                    1990.9126000000006,
                    2192.0592000000015,
                    2115.4649000000004,
                    1811.9417999999998,
                    1642.3933000000004,
                    1722.3355000000004,
                    2089.160099999999,
                    2367.2936,
                    2287.0931,
                    2065.8514,
                    1838.109199999999,
                    1814.8662,
                    2043.5229999999992,
                    2246.547400000001,
                    2195.482900000001,
                    1965.8327000000002,
                    1801.703599999999,
                    1790.2806000000003,
                    2126.6002,
                    2336.5745999999995,
                    2208.9823999999994
                  ]
                }
              ],
              "layout": {
                "annotations": [
                  {
                    "align": "right",
                    "font": {
                      "color": "gray",
                      "size": 10
                    },
                    "showarrow": false,
                    "text": "Data from PSA OpenStat (retrieved April 2024). Samples are nationwide averages.<br>Modeled with scikit-learn and skforecast. This plot is interactive.",
                    "x": 1,
                    "xanchor": "right",
                    "xref": "paper",
                    "y": -0.2,
                    "yanchor": "bottom",
                    "yref": "paper"
                  }
                ],
                "legend": {
                  "bgcolor": "rgba(111, 111, 111, 0.2)",
                  "x": 0.01,
                  "xanchor": "left",
                  "y": 0.98,
                  "yanchor": "top"
                },
                "paper_bgcolor": "rgba(0,0,0,0)",
                "plot_bgcolor": "rgba(0,0,0,0)",
                "shapes": [
                  {
                    "line": {
                      "color": "green",
                      "dash": "dash",
                      "width": 1
                    },
                    "type": "line",
                    "x0": "2019-10-01 00:00:00",
                    "x1": "2019-10-01 00:00:00",
                    "xref": "x",
                    "y0": 0,
                    "y1": 1,
                    "yref": "y domain"
                  }
                ],
                "template": {
                  "data": {
                    "bar": [
                      {
                        "error_x": {
                          "color": "#f2f5fa"
                        },
                        "error_y": {
                          "color": "#f2f5fa"
                        },
                        "marker": {
                          "line": {
                            "color": "rgb(17,17,17)",
                            "width": 0.5
                          },
                          "pattern": {
                            "fillmode": "overlay",
                            "size": 10,
                            "solidity": 0.2
                          }
                        },
                        "type": "bar"
                      }
                    ],
                    "barpolar": [
                      {
                        "marker": {
                          "line": {
                            "color": "rgb(17,17,17)",
                            "width": 0.5
                          },
                          "pattern": {
                            "fillmode": "overlay",
                            "size": 10,
                            "solidity": 0.2
                          }
                        },
                        "type": "barpolar"
                      }
                    ],
                    "carpet": [
                      {
                        "aaxis": {
                          "endlinecolor": "#A2B1C6",
                          "gridcolor": "#506784",
                          "linecolor": "#506784",
                          "minorgridcolor": "#506784",
                          "startlinecolor": "#A2B1C6"
                        },
                        "baxis": {
                          "endlinecolor": "#A2B1C6",
                          "gridcolor": "#506784",
                          "linecolor": "#506784",
                          "minorgridcolor": "#506784",
                          "startlinecolor": "#A2B1C6"
                        },
                        "type": "carpet"
                      }
                    ],
                    "choropleth": [
                      {
                        "colorbar": {
                          "outlinewidth": 0,
                          "ticks": ""
                        },
                        "type": "choropleth"
                      }
                    ],
                    "contour": [
                      {
                        "colorbar": {
                          "outlinewidth": 0,
                          "ticks": ""
                        },
                        "colorscale": [
                          [
                            0,
                            "#0d0887"
                          ],
                          [
                            0.1111111111111111,
                            "#46039f"
                          ],
                          [
                            0.2222222222222222,
                            "#7201a8"
                          ],
                          [
                            0.3333333333333333,
                            "#9c179e"
                          ],
                          [
                            0.4444444444444444,
                            "#bd3786"
                          ],
                          [
                            0.5555555555555556,
                            "#d8576b"
                          ],
                          [
                            0.6666666666666666,
                            "#ed7953"
                          ],
                          [
                            0.7777777777777778,
                            "#fb9f3a"
                          ],
                          [
                            0.8888888888888888,
                            "#fdca26"
                          ],
                          [
                            1,
                            "#f0f921"
                          ]
                        ],
                        "type": "contour"
                      }
                    ],
                    "contourcarpet": [
                      {
                        "colorbar": {
                          "outlinewidth": 0,
                          "ticks": ""
                        },
                        "type": "contourcarpet"
                      }
                    ],
                    "heatmap": [
                      {
                        "colorbar": {
                          "outlinewidth": 0,
                          "ticks": ""
                        },
                        "colorscale": [
                          [
                            0,
                            "#0d0887"
                          ],
                          [
                            0.1111111111111111,
                            "#46039f"
                          ],
                          [
                            0.2222222222222222,
                            "#7201a8"
                          ],
                          [
                            0.3333333333333333,
                            "#9c179e"
                          ],
                          [
                            0.4444444444444444,
                            "#bd3786"
                          ],
                          [
                            0.5555555555555556,
                            "#d8576b"
                          ],
                          [
                            0.6666666666666666,
                            "#ed7953"
                          ],
                          [
                            0.7777777777777778,
                            "#fb9f3a"
                          ],
                          [
                            0.8888888888888888,
                            "#fdca26"
                          ],
                          [
                            1,
                            "#f0f921"
                          ]
                        ],
                        "type": "heatmap"
                      }
                    ],
                    "heatmapgl": [
                      {
                        "colorbar": {
                          "outlinewidth": 0,
                          "ticks": ""
                        },
                        "colorscale": [
                          [
                            0,
                            "#0d0887"
                          ],
                          [
                            0.1111111111111111,
                            "#46039f"
                          ],
                          [
                            0.2222222222222222,
                            "#7201a8"
                          ],
                          [
                            0.3333333333333333,
                            "#9c179e"
                          ],
                          [
                            0.4444444444444444,
                            "#bd3786"
                          ],
                          [
                            0.5555555555555556,
                            "#d8576b"
                          ],
                          [
                            0.6666666666666666,
                            "#ed7953"
                          ],
                          [
                            0.7777777777777778,
                            "#fb9f3a"
                          ],
                          [
                            0.8888888888888888,
                            "#fdca26"
                          ],
                          [
                            1,
                            "#f0f921"
                          ]
                        ],
                        "type": "heatmapgl"
                      }
                    ],
                    "histogram": [
                      {
                        "marker": {
                          "pattern": {
                            "fillmode": "overlay",
                            "size": 10,
                            "solidity": 0.2
                          }
                        },
                        "type": "histogram"
                      }
                    ],
                    "histogram2d": [
                      {
                        "colorbar": {
                          "outlinewidth": 0,
                          "ticks": ""
                        },
                        "colorscale": [
                          [
                            0,
                            "#0d0887"
                          ],
                          [
                            0.1111111111111111,
                            "#46039f"
                          ],
                          [
                            0.2222222222222222,
                            "#7201a8"
                          ],
                          [
                            0.3333333333333333,
                            "#9c179e"
                          ],
                          [
                            0.4444444444444444,
                            "#bd3786"
                          ],
                          [
                            0.5555555555555556,
                            "#d8576b"
                          ],
                          [
                            0.6666666666666666,
                            "#ed7953"
                          ],
                          [
                            0.7777777777777778,
                            "#fb9f3a"
                          ],
                          [
                            0.8888888888888888,
                            "#fdca26"
                          ],
                          [
                            1,
                            "#f0f921"
                          ]
                        ],
                        "type": "histogram2d"
                      }
                    ],
                    "histogram2dcontour": [
                      {
                        "colorbar": {
                          "outlinewidth": 0,
                          "ticks": ""
                        },
                        "colorscale": [
                          [
                            0,
                            "#0d0887"
                          ],
                          [
                            0.1111111111111111,
                            "#46039f"
                          ],
                          [
                            0.2222222222222222,
                            "#7201a8"
                          ],
                          [
                            0.3333333333333333,
                            "#9c179e"
                          ],
                          [
                            0.4444444444444444,
                            "#bd3786"
                          ],
                          [
                            0.5555555555555556,
                            "#d8576b"
                          ],
                          [
                            0.6666666666666666,
                            "#ed7953"
                          ],
                          [
                            0.7777777777777778,
                            "#fb9f3a"
                          ],
                          [
                            0.8888888888888888,
                            "#fdca26"
                          ],
                          [
                            1,
                            "#f0f921"
                          ]
                        ],
                        "type": "histogram2dcontour"
                      }
                    ],
                    "mesh3d": [
                      {
                        "colorbar": {
                          "outlinewidth": 0,
                          "ticks": ""
                        },
                        "type": "mesh3d"
                      }
                    ],
                    "parcoords": [
                      {
                        "line": {
                          "colorbar": {
                            "outlinewidth": 0,
                            "ticks": ""
                          }
                        },
                        "type": "parcoords"
                      }
                    ],
                    "pie": [
                      {
                        "automargin": true,
                        "type": "pie"
                      }
                    ],
                    "scatter": [
                      {
                        "marker": {
                          "line": {
                            "color": "#283442"
                          }
                        },
                        "type": "scatter"
                      }
                    ],
                    "scatter3d": [
                      {
                        "line": {
                          "colorbar": {
                            "outlinewidth": 0,
                            "ticks": ""
                          }
                        },
                        "marker": {
                          "colorbar": {
                            "outlinewidth": 0,
                            "ticks": ""
                          }
                        },
                        "type": "scatter3d"
                      }
                    ],
                    "scattercarpet": [
                      {
                        "marker": {
                          "colorbar": {
                            "outlinewidth": 0,
                            "ticks": ""
                          }
                        },
                        "type": "scattercarpet"
                      }
                    ],
                    "scattergeo": [
                      {
                        "marker": {
                          "colorbar": {
                            "outlinewidth": 0,
                            "ticks": ""
                          }
                        },
                        "type": "scattergeo"
                      }
                    ],
                    "scattergl": [
                      {
                        "marker": {
                          "line": {
                            "color": "#283442"
                          }
                        },
                        "type": "scattergl"
                      }
                    ],
                    "scattermapbox": [
                      {
                        "marker": {
                          "colorbar": {
                            "outlinewidth": 0,
                            "ticks": ""
                          }
                        },
                        "type": "scattermapbox"
                      }
                    ],
                    "scatterpolar": [
                      {
                        "marker": {
                          "colorbar": {
                            "outlinewidth": 0,
                            "ticks": ""
                          }
                        },
                        "type": "scatterpolar"
                      }
                    ],
                    "scatterpolargl": [
                      {
                        "marker": {
                          "colorbar": {
                            "outlinewidth": 0,
                            "ticks": ""
                          }
                        },
                        "type": "scatterpolargl"
                      }
                    ],
                    "scatterternary": [
                      {
                        "marker": {
                          "colorbar": {
                            "outlinewidth": 0,
                            "ticks": ""
                          }
                        },
                        "type": "scatterternary"
                      }
                    ],
                    "surface": [
                      {
                        "colorbar": {
                          "outlinewidth": 0,
                          "ticks": ""
                        },
                        "colorscale": [
                          [
                            0,
                            "#0d0887"
                          ],
                          [
                            0.1111111111111111,
                            "#46039f"
                          ],
                          [
                            0.2222222222222222,
                            "#7201a8"
                          ],
                          [
                            0.3333333333333333,
                            "#9c179e"
                          ],
                          [
                            0.4444444444444444,
                            "#bd3786"
                          ],
                          [
                            0.5555555555555556,
                            "#d8576b"
                          ],
                          [
                            0.6666666666666666,
                            "#ed7953"
                          ],
                          [
                            0.7777777777777778,
                            "#fb9f3a"
                          ],
                          [
                            0.8888888888888888,
                            "#fdca26"
                          ],
                          [
                            1,
                            "#f0f921"
                          ]
                        ],
                        "type": "surface"
                      }
                    ],
                    "table": [
                      {
                        "cells": {
                          "fill": {
                            "color": "#506784"
                          },
                          "line": {
                            "color": "rgb(17,17,17)"
                          }
                        },
                        "header": {
                          "fill": {
                            "color": "#2a3f5f"
                          },
                          "line": {
                            "color": "rgb(17,17,17)"
                          }
                        },
                        "type": "table"
                      }
                    ]
                  },
                  "layout": {
                    "annotationdefaults": {
                      "arrowcolor": "#f2f5fa",
                      "arrowhead": 0,
                      "arrowwidth": 1
                    },
                    "autotypenumbers": "strict",
                    "coloraxis": {
                      "colorbar": {
                        "outlinewidth": 0,
                        "ticks": ""
                      }
                    },
                    "colorscale": {
                      "diverging": [
                        [
                          0,
                          "#8e0152"
                        ],
                        [
                          0.1,
                          "#c51b7d"
                        ],
                        [
                          0.2,
                          "#de77ae"
                        ],
                        [
                          0.3,
                          "#f1b6da"
                        ],
                        [
                          0.4,
                          "#fde0ef"
                        ],
                        [
                          0.5,
                          "#f7f7f7"
                        ],
                        [
                          0.6,
                          "#e6f5d0"
                        ],
                        [
                          0.7,
                          "#b8e186"
                        ],
                        [
                          0.8,
                          "#7fbc41"
                        ],
                        [
                          0.9,
                          "#4d9221"
                        ],
                        [
                          1,
                          "#276419"
                        ]
                      ],
                      "sequential": [
                        [
                          0,
                          "#0d0887"
                        ],
                        [
                          0.1111111111111111,
                          "#46039f"
                        ],
                        [
                          0.2222222222222222,
                          "#7201a8"
                        ],
                        [
                          0.3333333333333333,
                          "#9c179e"
                        ],
                        [
                          0.4444444444444444,
                          "#bd3786"
                        ],
                        [
                          0.5555555555555556,
                          "#d8576b"
                        ],
                        [
                          0.6666666666666666,
                          "#ed7953"
                        ],
                        [
                          0.7777777777777778,
                          "#fb9f3a"
                        ],
                        [
                          0.8888888888888888,
                          "#fdca26"
                        ],
                        [
                          1,
                          "#f0f921"
                        ]
                      ],
                      "sequentialminus": [
                        [
                          0,
                          "#0d0887"
                        ],
                        [
                          0.1111111111111111,
                          "#46039f"
                        ],
                        [
                          0.2222222222222222,
                          "#7201a8"
                        ],
                        [
                          0.3333333333333333,
                          "#9c179e"
                        ],
                        [
                          0.4444444444444444,
                          "#bd3786"
                        ],
                        [
                          0.5555555555555556,
                          "#d8576b"
                        ],
                        [
                          0.6666666666666666,
                          "#ed7953"
                        ],
                        [
                          0.7777777777777778,
                          "#fb9f3a"
                        ],
                        [
                          0.8888888888888888,
                          "#fdca26"
                        ],
                        [
                          1,
                          "#f0f921"
                        ]
                      ]
                    },
                    "colorway": [
                      "#636efa",
                      "#EF553B",
                      "#00cc96",
                      "#ab63fa",
                      "#FFA15A",
                      "#19d3f3",
                      "#FF6692",
                      "#B6E880",
                      "#FF97FF",
                      "#FECB52"
                    ],
                    "font": {
                      "color": "#f2f5fa"
                    },
                    "geo": {
                      "bgcolor": "rgb(17,17,17)",
                      "lakecolor": "rgb(17,17,17)",
                      "landcolor": "rgb(17,17,17)",
                      "showlakes": true,
                      "showland": true,
                      "subunitcolor": "#506784"
                    },
                    "hoverlabel": {
                      "align": "left"
                    },
                    "hovermode": "closest",
                    "mapbox": {
                      "style": "dark"
                    },
                    "paper_bgcolor": "rgb(17,17,17)",
                    "plot_bgcolor": "rgb(17,17,17)",
                    "polar": {
                      "angularaxis": {
                        "gridcolor": "#506784",
                        "linecolor": "#506784",
                        "ticks": ""
                      },
                      "bgcolor": "rgb(17,17,17)",
                      "radialaxis": {
                        "gridcolor": "#506784",
                        "linecolor": "#506784",
                        "ticks": ""
                      }
                    },
                    "scene": {
                      "xaxis": {
                        "backgroundcolor": "rgb(17,17,17)",
                        "gridcolor": "#506784",
                        "gridwidth": 2,
                        "linecolor": "#506784",
                        "showbackground": true,
                        "ticks": "",
                        "zerolinecolor": "#C8D4E3"
                      },
                      "yaxis": {
                        "backgroundcolor": "rgb(17,17,17)",
                        "gridcolor": "#506784",
                        "gridwidth": 2,
                        "linecolor": "#506784",
                        "showbackground": true,
                        "ticks": "",
                        "zerolinecolor": "#C8D4E3"
                      },
                      "zaxis": {
                        "backgroundcolor": "rgb(17,17,17)",
                        "gridcolor": "#506784",
                        "gridwidth": 2,
                        "linecolor": "#506784",
                        "showbackground": true,
                        "ticks": "",
                        "zerolinecolor": "#C8D4E3"
                      }
                    },
                    "shapedefaults": {
                      "line": {
                        "color": "#f2f5fa"
                      }
                    },
                    "sliderdefaults": {
                      "bgcolor": "#C8D4E3",
                      "bordercolor": "rgb(17,17,17)",
                      "borderwidth": 1,
                      "tickwidth": 0
                    },
                    "ternary": {
                      "aaxis": {
                        "gridcolor": "#506784",
                        "linecolor": "#506784",
                        "ticks": ""
                      },
                      "baxis": {
                        "gridcolor": "#506784",
                        "linecolor": "#506784",
                        "ticks": ""
                      },
                      "bgcolor": "rgb(17,17,17)",
                      "caxis": {
                        "gridcolor": "#506784",
                        "linecolor": "#506784",
                        "ticks": ""
                      }
                    },
                    "title": {
                      "x": 0.05
                    },
                    "updatemenudefaults": {
                      "bgcolor": "#506784",
                      "borderwidth": 0
                    },
                    "xaxis": {
                      "automargin": true,
                      "gridcolor": "#283442",
                      "linecolor": "#506784",
                      "ticks": "",
                      "title": {
                        "standoff": 15
                      },
                      "zerolinecolor": "#283442",
                      "zerolinewidth": 2
                    },
                    "yaxis": {
                      "automargin": true,
                      "gridcolor": "#283442",
                      "linecolor": "#506784",
                      "ticks": "",
                      "title": {
                        "standoff": 15
                      },
                      "zerolinecolor": "#283442",
                      "zerolinewidth": 2
                    }
                  }
                },
                "title": {
                  "text": "Model Validation: Philippines Rice Stocks (1994-2023)    <br><sup>Monthly projections via Random Forest Regressor (ntrain=310, ntest=50) (MAPE=0.1, R2=0.7)</sup>"
                },
                "xaxis": {
                  "anchor": "y",
                  "domain": [
                    0,
                    1
                  ],
                  "showgrid": true,
                  "showticklabels": true,
                  "title": {
                    "text": ""
                  }
                },
                "yaxis": {
                  "anchor": "x",
                  "domain": [
                    0,
                    1
                  ],
                  "showgrid": true,
                  "title": {
                    "text": "Stocks (metric tons)"
                  }
                }
              }
            }
          },
          "metadata": {},
          "output_type": "display_data"
        }
      ],
      "source": [
        "import numpy as np\n",
        "from sklearn.linear_model import BayesianRidge, ElasticNetCV, LarsCV, LassoCV, LassoLarsCV, OrthogonalMatchingPursuitCV, RidgeCV\n",
        "from sklearn.ensemble import GradientBoostingRegressor, BaggingRegressor, HistGradientBoostingRegressor, ExtraTreesRegressor, RandomForestRegressor\n",
        "import itertools\n",
        "\n",
        "# res = df.iloc[:, np.r_[2, 5:10]] # np.r to combine slices\n",
        "\n",
        "# Set parameters\n",
        "# Column numbers: 1: Farmgate Price, 2: Wholesale Price, 3: Retail Price, 4: CPI All Income, 5: NCR RPI\n",
        "y = 'Stocks'\n",
        "# for choices in itertools.combinations((1,2,3,4,5), 4):\n",
        "X = np.r_[5]\n",
        "\n",
        "# Split data into train-test\n",
        "steps = 50\n",
        "train = df[:-steps]\n",
        "test  = df[-steps:]\n",
        "\n",
        "train_y = train[y]\n",
        "train_X = train.iloc[:, X]\n",
        "test_y = test[y]\n",
        "test_X = test.iloc[:, X]\n",
        "\n",
        "use_exog = False\n",
        "\n",
        "print(\n",
        "    f\"Training periods : {train.index.min()} --- \"\n",
        "    f\"{train.index.max()}  (n={len(train)})\"\n",
        ")\n",
        "print(\n",
        "    f\"Testing periods  : {test.index.min()} --- \"\n",
        "    f\"{test.index.max()}  (n={len(test)})\"\n",
        ")\n",
        "\n",
        "# Find best hyperparameter values for forecaster\n",
        "regressors = [BayesianRidge(), ElasticNetCV(), RidgeCV(), LarsCV(), LassoCV(), LassoLarsCV(),\n",
        "            OrthogonalMatchingPursuitCV(), GradientBoostingRegressor(), BaggingRegressor(),\n",
        "            HistGradientBoostingRegressor(), ExtraTreesRegressor(), RandomForestRegressor()]\n",
        "regressor = RandomForestRegressor(random_state=100)\n",
        "print(regressor)\n",
        "forecaster = ForecasterAutoreg(\n",
        "                regressor = regressor,\n",
        "                lags      = 18\n",
        "            )\n",
        "\n",
        "# regressor = RandomForestRegressor(n_estimators=250, max_depth=10, random_state=123)\n",
        "# forecaster = ForecasterAutoreg(regressor=regressor, lags=20)\n",
        "\n",
        "# Candidate values for lags\n",
        "lags_grid = list(range(6,30,1))\n",
        "\n",
        "# Candidate values for regressor's hyperparameters\n",
        "param_grid = {\n",
        "    # 'cv': [5],\n",
        "    # 'learning_rate': [0.0001, 0.001, 0.01, 0.1],\n",
        "    # 'alpha': [0.5, 0.7, 0.9],\n",
        "    # 'n_estimators': list(range(100, 500, 50)),\n",
        "    # 'max_depth': list(range(3,10,1))\n",
        "}\n",
        "\n",
        "if False: \n",
        "    results_grid = grid_search_forecaster(\n",
        "                    forecaster         = forecaster,\n",
        "                    y                  = train_y,\n",
        "                    param_grid         = param_grid,\n",
        "                    lags_grid          = lags_grid,\n",
        "                    steps              = steps,\n",
        "                    refit              = False,\n",
        "                    metric             = 'mean_absolute_percentage_error',\n",
        "                    initial_train_size = int(len(train)*0.5),\n",
        "                    fixed_train_size   = False,\n",
        "                    return_best        = True,\n",
        "                    n_jobs             = 'auto',\n",
        "                    verbose            = False\n",
        "                )\n",
        "\n",
        "# Use those best values for forecaster (automatically plugged in by grid_search_forecaster)\n",
        "forecaster.fit(y=train_y, exog=train_X) if use_exog else forecaster.fit(y=train_y)\n",
        "forecaster\n",
        "\n",
        "# Predictions\n",
        "# NOTE: So if you want to have a more accurate projection, you may optionally measure these first,\n",
        "# and much better if they are already available\n",
        "predicts = forecaster.predict(steps=steps, exog=test_X) if use_exog else forecaster.predict(steps=steps)\n",
        "# predicts = forecaster.predict(steps=steps+27) #+28 to reach 2030\n",
        "# predicts.index = pd.date_range(start=str(data_test.index.min()), end='2030Q4', freq='Q')\n",
        "# display(predicts)\n",
        "\n",
        "# Test MSE, RSME, R2\n",
        "mse = metrics.mean_squared_error(y_true=test_y, y_pred=predicts)\n",
        "rmse = metrics.root_mean_squared_error(y_true=test_y, y_pred=predicts)\n",
        "mape = metrics.mean_absolute_percentage_error(y_true=test_y, y_pred=predicts)\n",
        "r2 = metrics.r2_score(y_true=test_y, y_pred=predicts)\n",
        "\n",
        "print(\"MSE:\\t%0.2f\" % mse)\n",
        "print(\"RMSE:\\t%0.2f\" % rmse)\n",
        "print(\"MAPE:\\t%0.2f\" % mape)\n",
        "print(\"R2:\\t%0.2f\" % r2)\n",
        "\n",
        "# Plot predicts versus test data\n",
        "plot_results(train, test, predicts, var=\"Stocks\", title=f\"Model Validation: Philippines Rice Stocks (1994-2023)\\\n",
        "    <br><sup>Monthly projections via Random Forest Regressor (ntrain={len(train)}, ntest={len(test)}) (MAPE={round(mape,2)}, R2={round(r2,2)})</sup>\",\n",
        "    xtitle=\"Period\", ytitle=\"Stocks (metric tons)\", split=\"2019-10-01 00:00:00\")\n"
      ]
    },
    {
      "cell_type": "code",
      "execution_count": 2061,
      "metadata": {},
      "outputs": [
        {
          "name": "stdout",
          "output_type": "stream",
          "text": [
            "Training periods : 1994-01-01 00:00:00 --- 2023-12-01 00:00:00  (n=360)\n"
          ]
        },
        {
          "data": {
            "application/vnd.plotly.v1+json": {
              "config": {
                "plotlyServerURL": "https://plot.ly"
              },
              "data": [
                {
                  "name": "train\t(n=360)",
                  "type": "scatter",
                  "x": [
                    "1994-01-01T00:00:00",
                    "1994-02-01T00:00:00",
                    "1994-03-01T00:00:00",
                    "1994-04-01T00:00:00",
                    "1994-05-01T00:00:00",
                    "1994-06-01T00:00:00",
                    "1994-07-01T00:00:00",
                    "1994-08-01T00:00:00",
                    "1994-09-01T00:00:00",
                    "1994-10-01T00:00:00",
                    "1994-11-01T00:00:00",
                    "1994-12-01T00:00:00",
                    "1995-01-01T00:00:00",
                    "1995-02-01T00:00:00",
                    "1995-03-01T00:00:00",
                    "1995-04-01T00:00:00",
                    "1995-05-01T00:00:00",
                    "1995-06-01T00:00:00",
                    "1995-07-01T00:00:00",
                    "1995-08-01T00:00:00",
                    "1995-09-01T00:00:00",
                    "1995-10-01T00:00:00",
                    "1995-11-01T00:00:00",
                    "1995-12-01T00:00:00",
                    "1996-01-01T00:00:00",
                    "1996-02-01T00:00:00",
                    "1996-03-01T00:00:00",
                    "1996-04-01T00:00:00",
                    "1996-05-01T00:00:00",
                    "1996-06-01T00:00:00",
                    "1996-07-01T00:00:00",
                    "1996-08-01T00:00:00",
                    "1996-09-01T00:00:00",
                    "1996-10-01T00:00:00",
                    "1996-11-01T00:00:00",
                    "1996-12-01T00:00:00",
                    "1997-01-01T00:00:00",
                    "1997-02-01T00:00:00",
                    "1997-03-01T00:00:00",
                    "1997-04-01T00:00:00",
                    "1997-05-01T00:00:00",
                    "1997-06-01T00:00:00",
                    "1997-07-01T00:00:00",
                    "1997-08-01T00:00:00",
                    "1997-09-01T00:00:00",
                    "1997-10-01T00:00:00",
                    "1997-11-01T00:00:00",
                    "1997-12-01T00:00:00",
                    "1998-01-01T00:00:00",
                    "1998-02-01T00:00:00",
                    "1998-03-01T00:00:00",
                    "1998-04-01T00:00:00",
                    "1998-05-01T00:00:00",
                    "1998-06-01T00:00:00",
                    "1998-07-01T00:00:00",
                    "1998-08-01T00:00:00",
                    "1998-09-01T00:00:00",
                    "1998-10-01T00:00:00",
                    "1998-11-01T00:00:00",
                    "1998-12-01T00:00:00",
                    "1999-01-01T00:00:00",
                    "1999-02-01T00:00:00",
                    "1999-03-01T00:00:00",
                    "1999-04-01T00:00:00",
                    "1999-05-01T00:00:00",
                    "1999-06-01T00:00:00",
                    "1999-07-01T00:00:00",
                    "1999-08-01T00:00:00",
                    "1999-09-01T00:00:00",
                    "1999-10-01T00:00:00",
                    "1999-11-01T00:00:00",
                    "1999-12-01T00:00:00",
                    "2000-01-01T00:00:00",
                    "2000-02-01T00:00:00",
                    "2000-03-01T00:00:00",
                    "2000-04-01T00:00:00",
                    "2000-05-01T00:00:00",
                    "2000-06-01T00:00:00",
                    "2000-07-01T00:00:00",
                    "2000-08-01T00:00:00",
                    "2000-09-01T00:00:00",
                    "2000-10-01T00:00:00",
                    "2000-11-01T00:00:00",
                    "2000-12-01T00:00:00",
                    "2001-01-01T00:00:00",
                    "2001-02-01T00:00:00",
                    "2001-03-01T00:00:00",
                    "2001-04-01T00:00:00",
                    "2001-05-01T00:00:00",
                    "2001-06-01T00:00:00",
                    "2001-07-01T00:00:00",
                    "2001-08-01T00:00:00",
                    "2001-09-01T00:00:00",
                    "2001-10-01T00:00:00",
                    "2001-11-01T00:00:00",
                    "2001-12-01T00:00:00",
                    "2002-01-01T00:00:00",
                    "2002-02-01T00:00:00",
                    "2002-03-01T00:00:00",
                    "2002-04-01T00:00:00",
                    "2002-05-01T00:00:00",
                    "2002-06-01T00:00:00",
                    "2002-07-01T00:00:00",
                    "2002-08-01T00:00:00",
                    "2002-09-01T00:00:00",
                    "2002-10-01T00:00:00",
                    "2002-11-01T00:00:00",
                    "2002-12-01T00:00:00",
                    "2003-01-01T00:00:00",
                    "2003-02-01T00:00:00",
                    "2003-03-01T00:00:00",
                    "2003-04-01T00:00:00",
                    "2003-05-01T00:00:00",
                    "2003-06-01T00:00:00",
                    "2003-07-01T00:00:00",
                    "2003-08-01T00:00:00",
                    "2003-09-01T00:00:00",
                    "2003-10-01T00:00:00",
                    "2003-11-01T00:00:00",
                    "2003-12-01T00:00:00",
                    "2004-01-01T00:00:00",
                    "2004-02-01T00:00:00",
                    "2004-03-01T00:00:00",
                    "2004-04-01T00:00:00",
                    "2004-05-01T00:00:00",
                    "2004-06-01T00:00:00",
                    "2004-07-01T00:00:00",
                    "2004-08-01T00:00:00",
                    "2004-09-01T00:00:00",
                    "2004-10-01T00:00:00",
                    "2004-11-01T00:00:00",
                    "2004-12-01T00:00:00",
                    "2005-01-01T00:00:00",
                    "2005-02-01T00:00:00",
                    "2005-03-01T00:00:00",
                    "2005-04-01T00:00:00",
                    "2005-05-01T00:00:00",
                    "2005-06-01T00:00:00",
                    "2005-07-01T00:00:00",
                    "2005-08-01T00:00:00",
                    "2005-09-01T00:00:00",
                    "2005-10-01T00:00:00",
                    "2005-11-01T00:00:00",
                    "2005-12-01T00:00:00",
                    "2006-01-01T00:00:00",
                    "2006-02-01T00:00:00",
                    "2006-03-01T00:00:00",
                    "2006-04-01T00:00:00",
                    "2006-05-01T00:00:00",
                    "2006-06-01T00:00:00",
                    "2006-07-01T00:00:00",
                    "2006-08-01T00:00:00",
                    "2006-09-01T00:00:00",
                    "2006-10-01T00:00:00",
                    "2006-11-01T00:00:00",
                    "2006-12-01T00:00:00",
                    "2007-01-01T00:00:00",
                    "2007-02-01T00:00:00",
                    "2007-03-01T00:00:00",
                    "2007-04-01T00:00:00",
                    "2007-05-01T00:00:00",
                    "2007-06-01T00:00:00",
                    "2007-07-01T00:00:00",
                    "2007-08-01T00:00:00",
                    "2007-09-01T00:00:00",
                    "2007-10-01T00:00:00",
                    "2007-11-01T00:00:00",
                    "2007-12-01T00:00:00",
                    "2008-01-01T00:00:00",
                    "2008-02-01T00:00:00",
                    "2008-03-01T00:00:00",
                    "2008-04-01T00:00:00",
                    "2008-05-01T00:00:00",
                    "2008-06-01T00:00:00",
                    "2008-07-01T00:00:00",
                    "2008-08-01T00:00:00",
                    "2008-09-01T00:00:00",
                    "2008-10-01T00:00:00",
                    "2008-11-01T00:00:00",
                    "2008-12-01T00:00:00",
                    "2009-01-01T00:00:00",
                    "2009-02-01T00:00:00",
                    "2009-03-01T00:00:00",
                    "2009-04-01T00:00:00",
                    "2009-05-01T00:00:00",
                    "2009-06-01T00:00:00",
                    "2009-07-01T00:00:00",
                    "2009-08-01T00:00:00",
                    "2009-09-01T00:00:00",
                    "2009-10-01T00:00:00",
                    "2009-11-01T00:00:00",
                    "2009-12-01T00:00:00",
                    "2010-01-01T00:00:00",
                    "2010-02-01T00:00:00",
                    "2010-03-01T00:00:00",
                    "2010-04-01T00:00:00",
                    "2010-05-01T00:00:00",
                    "2010-06-01T00:00:00",
                    "2010-07-01T00:00:00",
                    "2010-08-01T00:00:00",
                    "2010-09-01T00:00:00",
                    "2010-10-01T00:00:00",
                    "2010-11-01T00:00:00",
                    "2010-12-01T00:00:00",
                    "2011-01-01T00:00:00",
                    "2011-02-01T00:00:00",
                    "2011-03-01T00:00:00",
                    "2011-04-01T00:00:00",
                    "2011-05-01T00:00:00",
                    "2011-06-01T00:00:00",
                    "2011-07-01T00:00:00",
                    "2011-08-01T00:00:00",
                    "2011-09-01T00:00:00",
                    "2011-10-01T00:00:00",
                    "2011-11-01T00:00:00",
                    "2011-12-01T00:00:00",
                    "2012-01-01T00:00:00",
                    "2012-02-01T00:00:00",
                    "2012-03-01T00:00:00",
                    "2012-04-01T00:00:00",
                    "2012-05-01T00:00:00",
                    "2012-06-01T00:00:00",
                    "2012-07-01T00:00:00",
                    "2012-08-01T00:00:00",
                    "2012-09-01T00:00:00",
                    "2012-10-01T00:00:00",
                    "2012-11-01T00:00:00",
                    "2012-12-01T00:00:00",
                    "2013-01-01T00:00:00",
                    "2013-02-01T00:00:00",
                    "2013-03-01T00:00:00",
                    "2013-04-01T00:00:00",
                    "2013-05-01T00:00:00",
                    "2013-06-01T00:00:00",
                    "2013-07-01T00:00:00",
                    "2013-08-01T00:00:00",
                    "2013-09-01T00:00:00",
                    "2013-10-01T00:00:00",
                    "2013-11-01T00:00:00",
                    "2013-12-01T00:00:00",
                    "2014-01-01T00:00:00",
                    "2014-02-01T00:00:00",
                    "2014-03-01T00:00:00",
                    "2014-04-01T00:00:00",
                    "2014-05-01T00:00:00",
                    "2014-06-01T00:00:00",
                    "2014-07-01T00:00:00",
                    "2014-08-01T00:00:00",
                    "2014-09-01T00:00:00",
                    "2014-10-01T00:00:00",
                    "2014-11-01T00:00:00",
                    "2014-12-01T00:00:00",
                    "2015-01-01T00:00:00",
                    "2015-02-01T00:00:00",
                    "2015-03-01T00:00:00",
                    "2015-04-01T00:00:00",
                    "2015-05-01T00:00:00",
                    "2015-06-01T00:00:00",
                    "2015-07-01T00:00:00",
                    "2015-08-01T00:00:00",
                    "2015-09-01T00:00:00",
                    "2015-10-01T00:00:00",
                    "2015-11-01T00:00:00",
                    "2015-12-01T00:00:00",
                    "2016-01-01T00:00:00",
                    "2016-02-01T00:00:00",
                    "2016-03-01T00:00:00",
                    "2016-04-01T00:00:00",
                    "2016-05-01T00:00:00",
                    "2016-06-01T00:00:00",
                    "2016-07-01T00:00:00",
                    "2016-08-01T00:00:00",
                    "2016-09-01T00:00:00",
                    "2016-10-01T00:00:00",
                    "2016-11-01T00:00:00",
                    "2016-12-01T00:00:00",
                    "2017-01-01T00:00:00",
                    "2017-02-01T00:00:00",
                    "2017-03-01T00:00:00",
                    "2017-04-01T00:00:00",
                    "2017-05-01T00:00:00",
                    "2017-06-01T00:00:00",
                    "2017-07-01T00:00:00",
                    "2017-08-01T00:00:00",
                    "2017-09-01T00:00:00",
                    "2017-10-01T00:00:00",
                    "2017-11-01T00:00:00",
                    "2017-12-01T00:00:00",
                    "2018-01-01T00:00:00",
                    "2018-02-01T00:00:00",
                    "2018-03-01T00:00:00",
                    "2018-04-01T00:00:00",
                    "2018-05-01T00:00:00",
                    "2018-06-01T00:00:00",
                    "2018-07-01T00:00:00",
                    "2018-08-01T00:00:00",
                    "2018-09-01T00:00:00",
                    "2018-10-01T00:00:00",
                    "2018-11-01T00:00:00",
                    "2018-12-01T00:00:00",
                    "2019-01-01T00:00:00",
                    "2019-02-01T00:00:00",
                    "2019-03-01T00:00:00",
                    "2019-04-01T00:00:00",
                    "2019-05-01T00:00:00",
                    "2019-06-01T00:00:00",
                    "2019-07-01T00:00:00",
                    "2019-08-01T00:00:00",
                    "2019-09-01T00:00:00",
                    "2019-10-01T00:00:00",
                    "2019-11-01T00:00:00",
                    "2019-12-01T00:00:00",
                    "2020-01-01T00:00:00",
                    "2020-02-01T00:00:00",
                    "2020-03-01T00:00:00",
                    "2020-04-01T00:00:00",
                    "2020-05-01T00:00:00",
                    "2020-06-01T00:00:00",
                    "2020-07-01T00:00:00",
                    "2020-08-01T00:00:00",
                    "2020-09-01T00:00:00",
                    "2020-10-01T00:00:00",
                    "2020-11-01T00:00:00",
                    "2020-12-01T00:00:00",
                    "2021-01-01T00:00:00",
                    "2021-02-01T00:00:00",
                    "2021-03-01T00:00:00",
                    "2021-04-01T00:00:00",
                    "2021-05-01T00:00:00",
                    "2021-06-01T00:00:00",
                    "2021-07-01T00:00:00",
                    "2021-08-01T00:00:00",
                    "2021-09-01T00:00:00",
                    "2021-10-01T00:00:00",
                    "2021-11-01T00:00:00",
                    "2021-12-01T00:00:00",
                    "2022-01-01T00:00:00",
                    "2022-02-01T00:00:00",
                    "2022-03-01T00:00:00",
                    "2022-04-01T00:00:00",
                    "2022-05-01T00:00:00",
                    "2022-06-01T00:00:00",
                    "2022-07-01T00:00:00",
                    "2022-08-01T00:00:00",
                    "2022-09-01T00:00:00",
                    "2022-10-01T00:00:00",
                    "2022-11-01T00:00:00",
                    "2022-12-01T00:00:00",
                    "2023-01-01T00:00:00",
                    "2023-02-01T00:00:00",
                    "2023-03-01T00:00:00",
                    "2023-04-01T00:00:00",
                    "2023-05-01T00:00:00",
                    "2023-06-01T00:00:00",
                    "2023-07-01T00:00:00",
                    "2023-08-01T00:00:00",
                    "2023-09-01T00:00:00",
                    "2023-10-01T00:00:00",
                    "2023-11-01T00:00:00",
                    "2023-12-01T00:00:00"
                  ],
                  "y": [
                    1444.3,
                    1157,
                    1092.6,
                    1362.4,
                    1408.2,
                    1353.6,
                    1258,
                    989.9,
                    888.9,
                    1076.9,
                    1580.6,
                    1706.5,
                    1497.8,
                    1260.8,
                    1120.1,
                    1253,
                    1321.5,
                    1200.4,
                    940.7,
                    703.6,
                    524.4,
                    813.3,
                    1365.1,
                    1578,
                    1422.3,
                    1309.1,
                    1196.7,
                    1522.5,
                    1796.8,
                    1726.7,
                    1602.8,
                    1269.2,
                    1132.2,
                    1327.1,
                    1708.2,
                    1968.6,
                    1793,
                    1520.8,
                    1412,
                    1629.4,
                    1962,
                    1891.8,
                    1819.4,
                    1600.2,
                    1352.6,
                    1410.3,
                    2059.9,
                    2278.1,
                    1979.4,
                    1871.1,
                    1848.1,
                    2221.7,
                    2270.6,
                    2119.5,
                    1944.9,
                    1723.8,
                    1654.2,
                    1710.7,
                    2071.9,
                    2413.6,
                    2279.3,
                    2144.6,
                    2160.7,
                    2419.8,
                    2710.9,
                    2574.1,
                    2381.1,
                    2221.2,
                    1886.1,
                    2032.9,
                    2440.9,
                    2610,
                    2364.5,
                    2042.3,
                    1765.7,
                    1874.9,
                    2067,
                    1835.9,
                    1628.6,
                    1373.8,
                    1195,
                    1485.1,
                    2010.8,
                    2277.6,
                    2166.1,
                    1879.4,
                    1837.8,
                    2110.7,
                    2263.3,
                    2248,
                    2034.9,
                    1851.3,
                    1719.3,
                    1872.6,
                    2594.4,
                    2598,
                    2270.7,
                    1975.2,
                    1808.2,
                    1997.2,
                    2113.2,
                    1788.9,
                    1534.7,
                    1313.4,
                    1193.1,
                    1508.2,
                    2575,
                    2676,
                    2448.1,
                    2289.5,
                    2068.5,
                    2210.3,
                    2390.8,
                    2097.6,
                    1806.1,
                    1566.5,
                    1399.6,
                    1742.4,
                    2525,
                    2607,
                    2362.1,
                    2068,
                    1857.7,
                    2147.4,
                    2338.7,
                    1880.1,
                    1577.4,
                    1340.8,
                    1189.1,
                    1559.5,
                    2289.8,
                    2404.5,
                    2050.9,
                    1777.4,
                    1455.6,
                    1744.7,
                    1999.2,
                    1879.3,
                    1638.2,
                    1457.1,
                    1308,
                    1592.7,
                    2255.3,
                    2406.2,
                    2094.3,
                    1885.9,
                    1719.9,
                    2192.9,
                    2422.5,
                    2217.3,
                    1960.1,
                    1754.2,
                    1649.5,
                    1825.3,
                    2435.2,
                    2580.4,
                    2253.1,
                    1841.3,
                    1588.6,
                    1654.5,
                    1893.5,
                    1629.1,
                    1529.1,
                    1354.6,
                    1135.8,
                    1375.1,
                    2038.3,
                    2291.5,
                    2172.3,
                    1834.9,
                    1688.7,
                    1891.4,
                    2265.4,
                    2209.5,
                    2185.2,
                    1902.1,
                    1923.1,
                    2177.1,
                    2937.8,
                    2954.1,
                    2638.6,
                    2279,
                    2167.7,
                    2478.6,
                    2683.9,
                    2683.4,
                    2776.3,
                    2380.7,
                    2322.2,
                    2485.3,
                    2958.6,
                    2897.3,
                    2629.1,
                    2463.3,
                    2251.9,
                    2773.4,
                    3322,
                    3357.7,
                    3353.5,
                    3184.2,
                    3034,
                    3151.1,
                    3794.6,
                    3908,
                    3424.3,
                    3049.6,
                    2853,
                    3080.6,
                    3396.5,
                    3093.6,
                    3021.8,
                    2720.4,
                    2415.2,
                    2739.2,
                    3216.8,
                    3097.5,
                    2627.4,
                    2331.4,
                    2012.6,
                    2637.8,
                    2673.3,
                    2287.31,
                    1915.11,
                    1616.6,
                    1441.9,
                    1999,
                    2784.6,
                    2613.2,
                    2524.2,
                    2023.6,
                    1938.6,
                    2327.6,
                    2614.4,
                    2313.5,
                    2194.06,
                    1859.5,
                    1530.31,
                    1771.3,
                    2438.7,
                    2492.9,
                    2125.5,
                    2003.81,
                    1784.78,
                    2182.48,
                    2520.18,
                    2306.16,
                    2025.01,
                    1721.78,
                    1488.72,
                    1805.31,
                    2952.74,
                    3031.53,
                    2662.05,
                    2350.6,
                    2265.51,
                    2542.68,
                    3167.25,
                    3019.42,
                    2568.19,
                    2244.38,
                    1955.5,
                    2196.18,
                    3107.3,
                    3441.41,
                    3198.79,
                    2942.84,
                    2674.17,
                    3359.01,
                    3689.41,
                    3235.29,
                    2733.64,
                    2103.16,
                    1775.76,
                    2286.57,
                    3302.33,
                    3338.98,
                    2765.12,
                    2296.32,
                    2176.2,
                    2675.55,
                    3214.18,
                    2572.94,
                    2347.9,
                    2028,
                    1422.84,
                    1935.87,
                    2958.73,
                    2849.37,
                    2289.65,
                    1795.78,
                    1697.37,
                    2182.67,
                    2909.46,
                    2360.98,
                    1990.82,
                    1520.76,
                    1168.03,
                    1589.89,
                    3000.45,
                    2718.48,
                    2550.7,
                    2141.23,
                    2221.42,
                    2629.03,
                    2947.42,
                    2598.34,
                    2625.25,
                    2133.84,
                    1842.37,
                    2279.73,
                    2962.46,
                    3098.01,
                    2675.04,
                    2375.5,
                    2178.64,
                    2367.87,
                    2779.03,
                    2395.94,
                    2104.76,
                    1786.25,
                    1784.82,
                    2641.08,
                    3158.54,
                    2766.4,
                    2332,
                    2193.1,
                    2080.1,
                    2444.31,
                    2584.9,
                    2530.82,
                    2177.68,
                    1578.31,
                    1332.36,
                    1954.72,
                    2418.43,
                    2377.85,
                    1859.45,
                    1609.25,
                    1632.51,
                    2506.13,
                    2279.96,
                    2090.62,
                    2034.57,
                    1633.36,
                    1450.89,
                    2081.84,
                    2649.81,
                    2534.59,
                    1850.45,
                    1523.03,
                    1408.85,
                    1843.05,
                    1882.06,
                    1818.21,
                    1804.17,
                    1632.45,
                    1546.09,
                    2024.33,
                    1978.56,
                    1895.78
                  ]
                },
                {
                  "line": {
                    "color": "rgba(0,204,150,1)"
                  },
                  "name": "predicts\t(n=36)",
                  "type": "scatter",
                  "x": [
                    "2024-01-01T00:00:00",
                    "2024-02-01T00:00:00",
                    "2024-03-01T00:00:00",
                    "2024-04-01T00:00:00",
                    "2024-05-01T00:00:00",
                    "2024-06-01T00:00:00",
                    "2024-07-01T00:00:00",
                    "2024-08-01T00:00:00",
                    "2024-09-01T00:00:00",
                    "2024-10-01T00:00:00",
                    "2024-11-01T00:00:00",
                    "2024-12-01T00:00:00",
                    "2025-01-01T00:00:00",
                    "2025-02-01T00:00:00",
                    "2025-03-01T00:00:00",
                    "2025-04-01T00:00:00",
                    "2025-05-01T00:00:00",
                    "2025-06-01T00:00:00",
                    "2025-07-01T00:00:00",
                    "2025-08-01T00:00:00",
                    "2025-09-01T00:00:00",
                    "2025-10-01T00:00:00",
                    "2025-11-01T00:00:00",
                    "2025-12-01T00:00:00",
                    "2026-01-01T00:00:00",
                    "2026-02-01T00:00:00",
                    "2026-03-01T00:00:00",
                    "2026-04-01T00:00:00",
                    "2026-05-01T00:00:00",
                    "2026-06-01T00:00:00",
                    "2026-07-01T00:00:00",
                    "2026-08-01T00:00:00",
                    "2026-09-01T00:00:00",
                    "2026-10-01T00:00:00",
                    "2026-11-01T00:00:00",
                    "2026-12-01T00:00:00"
                  ],
                  "y": [
                    1453.4431021383805,
                    1168.6773511302636,
                    1208.226752765754,
                    1631.6156743466147,
                    1785.5845718723783,
                    1786.503341575818,
                    1740.1924038237605,
                    1598.7454076893573,
                    1628.720992388895,
                    2016.6940018076562,
                    2111.0447269615815,
                    1996.9124788450363,
                    1683.3555193054697,
                    1435.0014637271142,
                    1522.9827955532403,
                    1907.5673607026847,
                    2077.7347979267083,
                    2058.3667692012095,
                    1950.131047902483,
                    1793.9698367530825,
                    1846.309389350281,
                    2166.8649609033755,
                    2288.703150865571,
                    2163.3023790206266,
                    1886.515815310436,
                    1664.0349666376724,
                    1757.9313892896569,
                    2098.0664052619586,
                    2264.324841511888,
                    2218.096779107766,
                    2064.459159291973,
                    1900.8708673650813,
                    1960.3775306312427,
                    2242.0306770064253,
                    2369.489724958766,
                    2246.981467442113
                  ]
                }
              ],
              "layout": {
                "annotations": [
                  {
                    "align": "right",
                    "font": {
                      "color": "gray",
                      "size": 10
                    },
                    "showarrow": false,
                    "text": "Data from PSA OpenStat (retrieved April 2024). Samples are nationwide averages.<br>Modeled with scikit-learn and skforecast. This plot is interactive.",
                    "x": 1,
                    "xanchor": "right",
                    "xref": "paper",
                    "y": -0.2,
                    "yanchor": "bottom",
                    "yref": "paper"
                  }
                ],
                "legend": {
                  "bgcolor": "rgba(0, 0, 0, 0)",
                  "x": 0.01,
                  "xanchor": "left",
                  "y": 0.98,
                  "yanchor": "top"
                },
                "paper_bgcolor": "rgba(0,0,0,0)",
                "plot_bgcolor": "rgba(0,0,0,0)",
                "shapes": [
                  {
                    "line": {
                      "color": "green",
                      "dash": "dash",
                      "width": 1
                    },
                    "type": "line",
                    "x0": "2023-12-01 00:00:00",
                    "x1": "2023-12-01 00:00:00",
                    "xref": "x",
                    "y0": 0,
                    "y1": 1,
                    "yref": "y domain"
                  }
                ],
                "template": {
                  "data": {
                    "bar": [
                      {
                        "error_x": {
                          "color": "#f2f5fa"
                        },
                        "error_y": {
                          "color": "#f2f5fa"
                        },
                        "marker": {
                          "line": {
                            "color": "rgb(17,17,17)",
                            "width": 0.5
                          },
                          "pattern": {
                            "fillmode": "overlay",
                            "size": 10,
                            "solidity": 0.2
                          }
                        },
                        "type": "bar"
                      }
                    ],
                    "barpolar": [
                      {
                        "marker": {
                          "line": {
                            "color": "rgb(17,17,17)",
                            "width": 0.5
                          },
                          "pattern": {
                            "fillmode": "overlay",
                            "size": 10,
                            "solidity": 0.2
                          }
                        },
                        "type": "barpolar"
                      }
                    ],
                    "carpet": [
                      {
                        "aaxis": {
                          "endlinecolor": "#A2B1C6",
                          "gridcolor": "#506784",
                          "linecolor": "#506784",
                          "minorgridcolor": "#506784",
                          "startlinecolor": "#A2B1C6"
                        },
                        "baxis": {
                          "endlinecolor": "#A2B1C6",
                          "gridcolor": "#506784",
                          "linecolor": "#506784",
                          "minorgridcolor": "#506784",
                          "startlinecolor": "#A2B1C6"
                        },
                        "type": "carpet"
                      }
                    ],
                    "choropleth": [
                      {
                        "colorbar": {
                          "outlinewidth": 0,
                          "ticks": ""
                        },
                        "type": "choropleth"
                      }
                    ],
                    "contour": [
                      {
                        "colorbar": {
                          "outlinewidth": 0,
                          "ticks": ""
                        },
                        "colorscale": [
                          [
                            0,
                            "#0d0887"
                          ],
                          [
                            0.1111111111111111,
                            "#46039f"
                          ],
                          [
                            0.2222222222222222,
                            "#7201a8"
                          ],
                          [
                            0.3333333333333333,
                            "#9c179e"
                          ],
                          [
                            0.4444444444444444,
                            "#bd3786"
                          ],
                          [
                            0.5555555555555556,
                            "#d8576b"
                          ],
                          [
                            0.6666666666666666,
                            "#ed7953"
                          ],
                          [
                            0.7777777777777778,
                            "#fb9f3a"
                          ],
                          [
                            0.8888888888888888,
                            "#fdca26"
                          ],
                          [
                            1,
                            "#f0f921"
                          ]
                        ],
                        "type": "contour"
                      }
                    ],
                    "contourcarpet": [
                      {
                        "colorbar": {
                          "outlinewidth": 0,
                          "ticks": ""
                        },
                        "type": "contourcarpet"
                      }
                    ],
                    "heatmap": [
                      {
                        "colorbar": {
                          "outlinewidth": 0,
                          "ticks": ""
                        },
                        "colorscale": [
                          [
                            0,
                            "#0d0887"
                          ],
                          [
                            0.1111111111111111,
                            "#46039f"
                          ],
                          [
                            0.2222222222222222,
                            "#7201a8"
                          ],
                          [
                            0.3333333333333333,
                            "#9c179e"
                          ],
                          [
                            0.4444444444444444,
                            "#bd3786"
                          ],
                          [
                            0.5555555555555556,
                            "#d8576b"
                          ],
                          [
                            0.6666666666666666,
                            "#ed7953"
                          ],
                          [
                            0.7777777777777778,
                            "#fb9f3a"
                          ],
                          [
                            0.8888888888888888,
                            "#fdca26"
                          ],
                          [
                            1,
                            "#f0f921"
                          ]
                        ],
                        "type": "heatmap"
                      }
                    ],
                    "heatmapgl": [
                      {
                        "colorbar": {
                          "outlinewidth": 0,
                          "ticks": ""
                        },
                        "colorscale": [
                          [
                            0,
                            "#0d0887"
                          ],
                          [
                            0.1111111111111111,
                            "#46039f"
                          ],
                          [
                            0.2222222222222222,
                            "#7201a8"
                          ],
                          [
                            0.3333333333333333,
                            "#9c179e"
                          ],
                          [
                            0.4444444444444444,
                            "#bd3786"
                          ],
                          [
                            0.5555555555555556,
                            "#d8576b"
                          ],
                          [
                            0.6666666666666666,
                            "#ed7953"
                          ],
                          [
                            0.7777777777777778,
                            "#fb9f3a"
                          ],
                          [
                            0.8888888888888888,
                            "#fdca26"
                          ],
                          [
                            1,
                            "#f0f921"
                          ]
                        ],
                        "type": "heatmapgl"
                      }
                    ],
                    "histogram": [
                      {
                        "marker": {
                          "pattern": {
                            "fillmode": "overlay",
                            "size": 10,
                            "solidity": 0.2
                          }
                        },
                        "type": "histogram"
                      }
                    ],
                    "histogram2d": [
                      {
                        "colorbar": {
                          "outlinewidth": 0,
                          "ticks": ""
                        },
                        "colorscale": [
                          [
                            0,
                            "#0d0887"
                          ],
                          [
                            0.1111111111111111,
                            "#46039f"
                          ],
                          [
                            0.2222222222222222,
                            "#7201a8"
                          ],
                          [
                            0.3333333333333333,
                            "#9c179e"
                          ],
                          [
                            0.4444444444444444,
                            "#bd3786"
                          ],
                          [
                            0.5555555555555556,
                            "#d8576b"
                          ],
                          [
                            0.6666666666666666,
                            "#ed7953"
                          ],
                          [
                            0.7777777777777778,
                            "#fb9f3a"
                          ],
                          [
                            0.8888888888888888,
                            "#fdca26"
                          ],
                          [
                            1,
                            "#f0f921"
                          ]
                        ],
                        "type": "histogram2d"
                      }
                    ],
                    "histogram2dcontour": [
                      {
                        "colorbar": {
                          "outlinewidth": 0,
                          "ticks": ""
                        },
                        "colorscale": [
                          [
                            0,
                            "#0d0887"
                          ],
                          [
                            0.1111111111111111,
                            "#46039f"
                          ],
                          [
                            0.2222222222222222,
                            "#7201a8"
                          ],
                          [
                            0.3333333333333333,
                            "#9c179e"
                          ],
                          [
                            0.4444444444444444,
                            "#bd3786"
                          ],
                          [
                            0.5555555555555556,
                            "#d8576b"
                          ],
                          [
                            0.6666666666666666,
                            "#ed7953"
                          ],
                          [
                            0.7777777777777778,
                            "#fb9f3a"
                          ],
                          [
                            0.8888888888888888,
                            "#fdca26"
                          ],
                          [
                            1,
                            "#f0f921"
                          ]
                        ],
                        "type": "histogram2dcontour"
                      }
                    ],
                    "mesh3d": [
                      {
                        "colorbar": {
                          "outlinewidth": 0,
                          "ticks": ""
                        },
                        "type": "mesh3d"
                      }
                    ],
                    "parcoords": [
                      {
                        "line": {
                          "colorbar": {
                            "outlinewidth": 0,
                            "ticks": ""
                          }
                        },
                        "type": "parcoords"
                      }
                    ],
                    "pie": [
                      {
                        "automargin": true,
                        "type": "pie"
                      }
                    ],
                    "scatter": [
                      {
                        "marker": {
                          "line": {
                            "color": "#283442"
                          }
                        },
                        "type": "scatter"
                      }
                    ],
                    "scatter3d": [
                      {
                        "line": {
                          "colorbar": {
                            "outlinewidth": 0,
                            "ticks": ""
                          }
                        },
                        "marker": {
                          "colorbar": {
                            "outlinewidth": 0,
                            "ticks": ""
                          }
                        },
                        "type": "scatter3d"
                      }
                    ],
                    "scattercarpet": [
                      {
                        "marker": {
                          "colorbar": {
                            "outlinewidth": 0,
                            "ticks": ""
                          }
                        },
                        "type": "scattercarpet"
                      }
                    ],
                    "scattergeo": [
                      {
                        "marker": {
                          "colorbar": {
                            "outlinewidth": 0,
                            "ticks": ""
                          }
                        },
                        "type": "scattergeo"
                      }
                    ],
                    "scattergl": [
                      {
                        "marker": {
                          "line": {
                            "color": "#283442"
                          }
                        },
                        "type": "scattergl"
                      }
                    ],
                    "scattermapbox": [
                      {
                        "marker": {
                          "colorbar": {
                            "outlinewidth": 0,
                            "ticks": ""
                          }
                        },
                        "type": "scattermapbox"
                      }
                    ],
                    "scatterpolar": [
                      {
                        "marker": {
                          "colorbar": {
                            "outlinewidth": 0,
                            "ticks": ""
                          }
                        },
                        "type": "scatterpolar"
                      }
                    ],
                    "scatterpolargl": [
                      {
                        "marker": {
                          "colorbar": {
                            "outlinewidth": 0,
                            "ticks": ""
                          }
                        },
                        "type": "scatterpolargl"
                      }
                    ],
                    "scatterternary": [
                      {
                        "marker": {
                          "colorbar": {
                            "outlinewidth": 0,
                            "ticks": ""
                          }
                        },
                        "type": "scatterternary"
                      }
                    ],
                    "surface": [
                      {
                        "colorbar": {
                          "outlinewidth": 0,
                          "ticks": ""
                        },
                        "colorscale": [
                          [
                            0,
                            "#0d0887"
                          ],
                          [
                            0.1111111111111111,
                            "#46039f"
                          ],
                          [
                            0.2222222222222222,
                            "#7201a8"
                          ],
                          [
                            0.3333333333333333,
                            "#9c179e"
                          ],
                          [
                            0.4444444444444444,
                            "#bd3786"
                          ],
                          [
                            0.5555555555555556,
                            "#d8576b"
                          ],
                          [
                            0.6666666666666666,
                            "#ed7953"
                          ],
                          [
                            0.7777777777777778,
                            "#fb9f3a"
                          ],
                          [
                            0.8888888888888888,
                            "#fdca26"
                          ],
                          [
                            1,
                            "#f0f921"
                          ]
                        ],
                        "type": "surface"
                      }
                    ],
                    "table": [
                      {
                        "cells": {
                          "fill": {
                            "color": "#506784"
                          },
                          "line": {
                            "color": "rgb(17,17,17)"
                          }
                        },
                        "header": {
                          "fill": {
                            "color": "#2a3f5f"
                          },
                          "line": {
                            "color": "rgb(17,17,17)"
                          }
                        },
                        "type": "table"
                      }
                    ]
                  },
                  "layout": {
                    "annotationdefaults": {
                      "arrowcolor": "#f2f5fa",
                      "arrowhead": 0,
                      "arrowwidth": 1
                    },
                    "autotypenumbers": "strict",
                    "coloraxis": {
                      "colorbar": {
                        "outlinewidth": 0,
                        "ticks": ""
                      }
                    },
                    "colorscale": {
                      "diverging": [
                        [
                          0,
                          "#8e0152"
                        ],
                        [
                          0.1,
                          "#c51b7d"
                        ],
                        [
                          0.2,
                          "#de77ae"
                        ],
                        [
                          0.3,
                          "#f1b6da"
                        ],
                        [
                          0.4,
                          "#fde0ef"
                        ],
                        [
                          0.5,
                          "#f7f7f7"
                        ],
                        [
                          0.6,
                          "#e6f5d0"
                        ],
                        [
                          0.7,
                          "#b8e186"
                        ],
                        [
                          0.8,
                          "#7fbc41"
                        ],
                        [
                          0.9,
                          "#4d9221"
                        ],
                        [
                          1,
                          "#276419"
                        ]
                      ],
                      "sequential": [
                        [
                          0,
                          "#0d0887"
                        ],
                        [
                          0.1111111111111111,
                          "#46039f"
                        ],
                        [
                          0.2222222222222222,
                          "#7201a8"
                        ],
                        [
                          0.3333333333333333,
                          "#9c179e"
                        ],
                        [
                          0.4444444444444444,
                          "#bd3786"
                        ],
                        [
                          0.5555555555555556,
                          "#d8576b"
                        ],
                        [
                          0.6666666666666666,
                          "#ed7953"
                        ],
                        [
                          0.7777777777777778,
                          "#fb9f3a"
                        ],
                        [
                          0.8888888888888888,
                          "#fdca26"
                        ],
                        [
                          1,
                          "#f0f921"
                        ]
                      ],
                      "sequentialminus": [
                        [
                          0,
                          "#0d0887"
                        ],
                        [
                          0.1111111111111111,
                          "#46039f"
                        ],
                        [
                          0.2222222222222222,
                          "#7201a8"
                        ],
                        [
                          0.3333333333333333,
                          "#9c179e"
                        ],
                        [
                          0.4444444444444444,
                          "#bd3786"
                        ],
                        [
                          0.5555555555555556,
                          "#d8576b"
                        ],
                        [
                          0.6666666666666666,
                          "#ed7953"
                        ],
                        [
                          0.7777777777777778,
                          "#fb9f3a"
                        ],
                        [
                          0.8888888888888888,
                          "#fdca26"
                        ],
                        [
                          1,
                          "#f0f921"
                        ]
                      ]
                    },
                    "colorway": [
                      "#636efa",
                      "#EF553B",
                      "#00cc96",
                      "#ab63fa",
                      "#FFA15A",
                      "#19d3f3",
                      "#FF6692",
                      "#B6E880",
                      "#FF97FF",
                      "#FECB52"
                    ],
                    "font": {
                      "color": "#f2f5fa"
                    },
                    "geo": {
                      "bgcolor": "rgb(17,17,17)",
                      "lakecolor": "rgb(17,17,17)",
                      "landcolor": "rgb(17,17,17)",
                      "showlakes": true,
                      "showland": true,
                      "subunitcolor": "#506784"
                    },
                    "hoverlabel": {
                      "align": "left"
                    },
                    "hovermode": "closest",
                    "mapbox": {
                      "style": "dark"
                    },
                    "paper_bgcolor": "rgb(17,17,17)",
                    "plot_bgcolor": "rgb(17,17,17)",
                    "polar": {
                      "angularaxis": {
                        "gridcolor": "#506784",
                        "linecolor": "#506784",
                        "ticks": ""
                      },
                      "bgcolor": "rgb(17,17,17)",
                      "radialaxis": {
                        "gridcolor": "#506784",
                        "linecolor": "#506784",
                        "ticks": ""
                      }
                    },
                    "scene": {
                      "xaxis": {
                        "backgroundcolor": "rgb(17,17,17)",
                        "gridcolor": "#506784",
                        "gridwidth": 2,
                        "linecolor": "#506784",
                        "showbackground": true,
                        "ticks": "",
                        "zerolinecolor": "#C8D4E3"
                      },
                      "yaxis": {
                        "backgroundcolor": "rgb(17,17,17)",
                        "gridcolor": "#506784",
                        "gridwidth": 2,
                        "linecolor": "#506784",
                        "showbackground": true,
                        "ticks": "",
                        "zerolinecolor": "#C8D4E3"
                      },
                      "zaxis": {
                        "backgroundcolor": "rgb(17,17,17)",
                        "gridcolor": "#506784",
                        "gridwidth": 2,
                        "linecolor": "#506784",
                        "showbackground": true,
                        "ticks": "",
                        "zerolinecolor": "#C8D4E3"
                      }
                    },
                    "shapedefaults": {
                      "line": {
                        "color": "#f2f5fa"
                      }
                    },
                    "sliderdefaults": {
                      "bgcolor": "#C8D4E3",
                      "bordercolor": "rgb(17,17,17)",
                      "borderwidth": 1,
                      "tickwidth": 0
                    },
                    "ternary": {
                      "aaxis": {
                        "gridcolor": "#506784",
                        "linecolor": "#506784",
                        "ticks": ""
                      },
                      "baxis": {
                        "gridcolor": "#506784",
                        "linecolor": "#506784",
                        "ticks": ""
                      },
                      "bgcolor": "rgb(17,17,17)",
                      "caxis": {
                        "gridcolor": "#506784",
                        "linecolor": "#506784",
                        "ticks": ""
                      }
                    },
                    "title": {
                      "x": 0.05
                    },
                    "updatemenudefaults": {
                      "bgcolor": "#506784",
                      "borderwidth": 0
                    },
                    "xaxis": {
                      "automargin": true,
                      "gridcolor": "#283442",
                      "linecolor": "#506784",
                      "ticks": "",
                      "title": {
                        "standoff": 15
                      },
                      "zerolinecolor": "#283442",
                      "zerolinewidth": 2
                    },
                    "yaxis": {
                      "automargin": true,
                      "gridcolor": "#283442",
                      "linecolor": "#506784",
                      "ticks": "",
                      "title": {
                        "standoff": 15
                      },
                      "zerolinecolor": "#283442",
                      "zerolinewidth": 2
                    }
                  }
                },
                "title": {
                  "text": "Forecast: Philippines Rice Stocks (2024-2026 with historical data)    <br><sup>Monthly projections via Random Forest Regressor trained on all 360 samples (lags=18, default parameters)</sup>"
                },
                "xaxis": {
                  "anchor": "y",
                  "domain": [
                    0,
                    1
                  ],
                  "showgrid": true,
                  "showticklabels": true,
                  "title": {
                    "text": ""
                  }
                },
                "yaxis": {
                  "anchor": "x",
                  "domain": [
                    0,
                    1
                  ],
                  "showgrid": true,
                  "title": {
                    "text": "Stocks (metric tons)"
                  }
                }
              }
            }
          },
          "metadata": {},
          "output_type": "display_data"
        }
      ],
      "source": [
        "train = df\n",
        "train_y = df[y]\n",
        "print(\n",
        "    f\"Training periods : {train.index.min()} --- \"\n",
        "    f\"{train.index.max()}  (n={len(train)})\"\n",
        ")\n",
        "\n",
        "forecaster = ForecasterAutoreg(\n",
        "                regressor = ElasticNetCV(),\n",
        "                lags      = 18\n",
        "            )\n",
        "\n",
        "forecaster.fit(train_y)\n",
        "predicts = forecaster.predict(steps=36)\n",
        "\n",
        "# Plot predicts versus test data\n",
        "\n",
        "plot_results(train, None, predicts, \"Stocks\", solo=True, title=\"Forecast: Philippines Rice Stocks (2024-2026 with historical data)\\\n",
        "    <br><sup>Monthly projections via Random Forest Regressor trained on all 360 samples (lags=18, default parameters)</sup>\",\n",
        "    xtitle=\"Period\", ytitle=\"Stocks (metric tons)\", split=\"2023-12-01 00:00:00\")"
      ]
    }
  ],
  "metadata": {
    "colab": {
      "include_colab_link": true,
      "provenance": [],
      "toc_visible": true
    },
    "kernelspec": {
      "display_name": "Python 3",
      "name": "python3"
    },
    "language_info": {
      "codemirror_mode": {
        "name": "ipython",
        "version": 3
      },
      "file_extension": ".py",
      "mimetype": "text/x-python",
      "name": "python",
      "nbconvert_exporter": "python",
      "pygments_lexer": "ipython3",
      "version": "3.11.8"
    }
  },
  "nbformat": 4,
  "nbformat_minor": 0
}
